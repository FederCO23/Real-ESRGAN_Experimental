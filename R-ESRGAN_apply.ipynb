{
 "cells": [
  {
   "cell_type": "markdown",
   "id": "c8e9f83b-843a-4826-9869-8fd85f94253e",
   "metadata": {},
   "source": [
    "## Apply Real-ESRGAN over the satellite imagery dataset for semantic segmentation\n"
   ]
  },
  {
   "cell_type": "markdown",
   "id": "6c1456f1-eb8e-4e06-81bb-f8ee7967b6cc",
   "metadata": {},
   "source": [
    "---"
   ]
  },
  {
   "cell_type": "markdown",
   "id": "c80f3e6a-de59-494e-a479-2ae1494350f2",
   "metadata": {},
   "source": [
    "### Import Libs"
   ]
  },
  {
   "cell_type": "code",
   "execution_count": 35,
   "id": "0661d15a-4a65-4ff2-9915-f4c9be107a0a",
   "metadata": {},
   "outputs": [],
   "source": [
    "import torch\n",
    "import torch.utils.data as data\n",
    "\n",
    "from torchvision.transforms import ToTensor\n",
    "\n",
    "from sklearn.preprocessing import MinMaxScaler\n",
    "\n",
    "import imageio.v2 as imageio\n",
    "\n",
    "import rasterio\n",
    "from PIL import Image\n",
    "\n",
    "import random\n",
    "import numpy as np\n",
    "import glob\n",
    "import re\n",
    "import sys\n",
    "\n",
    "import os\n",
    "import subprocess\n",
    "from tqdm import tqdm\n",
    "\n",
    "from datetime import datetime\n",
    "\n",
    "import cv2\n"
   ]
  },
  {
   "cell_type": "code",
   "execution_count": null,
   "id": "6fa3eee5-178d-4177-a0f3-dec314c5c270",
   "metadata": {},
   "outputs": [],
   "source": []
  },
  {
   "cell_type": "code",
   "execution_count": 8,
   "id": "a3e22723-07a0-4fed-8183-d2e1d21dc78c",
   "metadata": {},
   "outputs": [],
   "source": [
    "# Set the Multiprocessing Start Method for Windows\n",
    "import torch.multiprocessing as mp\n",
    "\n",
    "if __name__ == \"__main__\":\n",
    "    mp.set_start_method('spawn', force=True)\n",
    "\n",
    "# Set a known seed\n",
    "seed = 23\n",
    "torch.manual_seed(seed)\n",
    "random.seed(seed)\n",
    "np.random.seed(seed)"
   ]
  },
  {
   "cell_type": "markdown",
   "id": "94eecf90-57c1-4dc4-adf5-437e1d391a60",
   "metadata": {},
   "source": [
    "### CUDA Configuration"
   ]
  },
  {
   "cell_type": "code",
   "execution_count": 11,
   "id": "1e761441-58b7-41e4-807e-255fbdf3989c",
   "metadata": {},
   "outputs": [
    {
     "name": "stdout",
     "output_type": "stream",
     "text": [
      "----------------------------------------------------------------------\n",
      "CUDA available: True\n",
      "GPU Model: NVIDIA GeForce GTX 1080 Ti\n",
      "CUDA Version: 11.8\n",
      "----------------------------------------------------------------------\n",
      "\n",
      "Device Properties:\n",
      "  Name: NVIDIA GeForce GTX 1080 Ti\n",
      "  Total Memory (GB): 10.999755859375\n",
      "  Multiprocessors: 28\n",
      "  Compute Capability: 6 . 1\n",
      "----------------------------------------------------------------------\n"
     ]
    }
   ],
   "source": [
    "print(70*'-')\n",
    "print(\"CUDA available:\", torch.cuda.is_available())\n",
    "current_device = torch.cuda.current_device()\n",
    "print(\"GPU Model:\", torch.cuda.get_device_name(current_device))\n",
    "print(\"CUDA Version:\", torch.version.cuda)\n",
    "print(70*'-')\n",
    "\n",
    "device_properties = torch.cuda.get_device_properties(current_device)\n",
    "print(\"\\nDevice Properties:\")\n",
    "print(\"  Name:\", device_properties.name)\n",
    "print(\"  Total Memory (GB):\", device_properties.total_memory / (1024 ** 3))  # Convert bytes to GB\n",
    "print(\"  Multiprocessors:\", device_properties.multi_processor_count)\n",
    "print(\"  Compute Capability:\", device_properties.major, \".\", device_properties.minor)\n",
    "print(70*'-')"
   ]
  },
  {
   "cell_type": "markdown",
   "id": "679bf91f-a80d-4e5c-8904-8b62f10ee23c",
   "metadata": {},
   "source": [
    "### Data Access"
   ]
  },
  {
   "cell_type": "code",
   "execution_count": 14,
   "id": "6e1afbb1-4306-4ff4-9eb1-912592864acc",
   "metadata": {},
   "outputs": [],
   "source": [
    "# Function to extract the numeric value from filenames\n",
    "def numeric_sort_key(filepath):\n",
    "    # Extract numbers from the filename using a regular expression\n",
    "    match = re.search(r'\\d+', filepath)\n",
    "    # Return the integer value of the number if found, otherwise 0\n",
    "    return int(match.group()) if match else 0\n",
    "\n",
    "# Get all the image and mask paths and sort them numerically\n",
    "folder_data_train = sorted(\n",
    "    glob.glob(\"../data/train/input/*tif\"),\n",
    "    key=numeric_sort_key\n",
    ")\n",
    "folder_mask_train = sorted(\n",
    "    glob.glob(\"../data/train/labels/*tif\"),\n",
    "    key=numeric_sort_key\n",
    ")\n",
    "\n",
    "folder_data_val = sorted(\n",
    "    glob.glob(\"../data/val/input/*tif\"),\n",
    "    key=numeric_sort_key\n",
    ")\n",
    "folder_mask_val = sorted(\n",
    "    glob.glob(\"../data/val/labels/*tif\"),\n",
    "    key=numeric_sort_key\n",
    ")\n",
    "\n",
    "folder_data_test = sorted(\n",
    "    glob.glob(\"../data/test/input/*tif\"),\n",
    "    key=numeric_sort_key\n",
    ")\n",
    "folder_mask_test = sorted(\n",
    "    glob.glob(\"../data/test/labels/*tif\"),\n",
    "    key=numeric_sort_key\n",
    ")\n",
    "\n",
    "# Assign to variables\n",
    "train_image_paths = folder_data_train[:]\n",
    "val_image_paths = folder_data_val[:]\n",
    "test_image_paths = folder_data_test[:]\n",
    "\n",
    "train_mask_paths = folder_mask_train[:]\n",
    "val_mask_paths = folder_mask_val[:]\n",
    "test_mask_paths = folder_mask_test[:]\n",
    "\n"
   ]
  },
  {
   "cell_type": "code",
   "execution_count": 16,
   "id": "8bdc2df3-3526-4366-8628-87eef3253386",
   "metadata": {},
   "outputs": [
    {
     "name": "stdout",
     "output_type": "stream",
     "text": [
      "\n",
      "Control number of images by folder:\n",
      "========================================\n",
      "\t\tinput: \tlabels:\n",
      "Train\t\t201\t201\t73.90%\n",
      "Val\t\t35\t35\t12.87%\n",
      "Test\t\t36\t36\t13.24%\n",
      "========================================\n",
      "Total\t\t272\t272\n"
     ]
    }
   ],
   "source": [
    "# Check the number of train, val and test images\n",
    "print('\\nControl number of images by folder:')\n",
    "print(40*'=')\n",
    "input_total = len(folder_data_train)+len(folder_data_val)+len(folder_data_test)\n",
    "labels_total = len(folder_mask_train)+len(folder_mask_val)+len(folder_mask_test)\n",
    "print('\\t\\tinput: \\tlabels:')\n",
    "print(f'Train\\t\\t{len(folder_data_train)}\\t{len(folder_mask_train)}\\t{(len(folder_data_train)/input_total)*100:.2f}%')\n",
    "print(f'Val\\t\\t{len(folder_data_val)}\\t{len(folder_mask_val)}\\t{(len(folder_data_val)/input_total)*100:.2f}%')\n",
    "print(f'Test\\t\\t{len(folder_data_test)}\\t{len(folder_mask_test)}\\t{(len(folder_data_test)/input_total)*100:.2f}%')\n",
    "print(40*'=')\n",
    "print(f'Total\\t\\t{input_total}\\t{labels_total}')"
   ]
  },
  {
   "cell_type": "markdown",
   "id": "82c30f81-7a2c-46b4-83a8-6f4d5eedde34",
   "metadata": {},
   "source": [
    "### Custom Dataset"
   ]
  },
  {
   "cell_type": "code",
   "execution_count": 19,
   "id": "1c8bb534-3e52-42d1-a167-3927727d11ce",
   "metadata": {},
   "outputs": [],
   "source": [
    "# import torch\n",
    "# import rasterio\n",
    "# import numpy as np\n",
    "# from PIL import Image\n",
    "# from datetime import datetime\n",
    "# from sklearn.preprocessing import MinMaxScaler\n",
    "# from torch.utils.data import Dataset\n",
    "\n",
    "class CustomDataset(data.Dataset):\n",
    "    def __init__(self, image_paths, target_paths=None, transform=None, band=None, device=\"cuda\"):\n",
    "        self.image_paths = image_paths\n",
    "        self.target_paths = target_paths\n",
    "        self.transform = transform\n",
    "        self.band = band  # Specify which band to use (0: R, 1: G, 2: B, 3: NIR, None: all bands)\n",
    "        self.scaler = MinMaxScaler()\n",
    "        self.device = device\n",
    "\n",
    "    def __getitem__(self, index):\n",
    "        try:\n",
    "            # Load the GeoTIFF image\n",
    "            image_path = self.image_paths[index]\n",
    "            with rasterio.open(image_path) as src:\n",
    "                if self.band is not None:\n",
    "                    # Read a specific band (1-based indexing for rasterio)\n",
    "                    band_data = src.read(self.band + 1).astype(np.float32)\n",
    "                    band_min, band_max = band_data.min(), band_data.max()\n",
    "                    band_data = (band_data - band_min) / (band_max - band_min + 1e-8)\n",
    "                    image = band_data[None, :, :]  # Add channel dimension\n",
    "                else:\n",
    "                    # Read all bands and normalize each\n",
    "                    bands = src.read().astype(np.float32)  # [Bands, H, W]\n",
    "                    image = np.zeros_like(bands, dtype=np.float32)\n",
    "                    for b in range(bands.shape[0]):\n",
    "                        band_min, band_max = bands[b].min(), bands[b].max()\n",
    "                        image[b] = (bands[b] - band_min) / (band_max - band_min + 1e-8)\n",
    "\n",
    "            # Ensure the image is a NumPy array for transformations\n",
    "            image = np.transpose(image, (1, 2, 0))  # [H, W, C] for compatibility with PIL\n",
    "            pil_image = Image.fromarray((image * 255).astype(np.uint8))  # Convert to PIL Image\n",
    "\n",
    "            # Apply transformations if specified\n",
    "            if self.transform:\n",
    "                image = self.transform(pil_image)  # Transform will handle conversion to PyTorch Tensor\n",
    "\n",
    "            # Load the mask if provided\n",
    "            if self.target_paths:\n",
    "                mask_path = self.target_paths[index]\n",
    "                with rasterio.open(mask_path) as src:\n",
    "                    mask_data = src.read(1).astype(np.uint8)  # Single-channel mask\n",
    "\n",
    "                # Resize the mask using nearest-neighbor interpolation\n",
    "                mask_image = Image.fromarray(mask_data)\n",
    "                mask_image = mask_image.resize(pil_image.size, resample=Image.NEAREST)\n",
    "                mask_data = np.array(mask_image, dtype=np.uint8)\n",
    "                mask_data = torch.tensor(mask_data[None, :, :], dtype=torch.float32)  # [1, H, W]\n",
    "            else:\n",
    "                mask_data = None\n",
    "\n",
    "            return image, mask_data\n",
    "\n",
    "        except Exception as e:\n",
    "            print(f\"Error processing index {index}: {e}\")\n",
    "            raise e\n",
    "\n",
    "    def __len__(self):\n",
    "        return len(self.image_paths)\n",
    "\n"
   ]
  },
  {
   "cell_type": "markdown",
   "id": "4d40998d-7b54-44d2-88e5-04609d550093",
   "metadata": {},
   "source": [
    "### Unitary test"
   ]
  },
  {
   "cell_type": "code",
   "execution_count": 22,
   "id": "fdc4defd-6f73-4e16-9b2c-dea98bfb0e98",
   "metadata": {},
   "outputs": [
    {
     "name": "stdout",
     "output_type": "stream",
     "text": [
      "Image shape: torch.Size([4, 256, 256]), dtype: torch.float32\n",
      "Mask shape: torch.Size([1, 256, 256]), dtype: torch.float32\n"
     ]
    }
   ],
   "source": [
    "from torchvision.transforms import ToTensor\n",
    "\n",
    "# Paths to images and masks\n",
    "image_paths = [\"../data/train/input/img(21).tif\"]\n",
    "mask_paths = [\"../data/train/labels/target(21).tif\"]\n",
    "\n",
    "# Create dataset\n",
    "dataset = CustomDataset(\n",
    "    image_paths=image_paths,\n",
    "    target_paths=mask_paths,\n",
    "    transform=ToTensor(),\n",
    "    band=None  # None to load all bands\n",
    ")\n",
    "\n",
    "# Access an item\n",
    "image, mask = dataset[0]\n",
    "print(f\"Image shape: {image.shape}, dtype: {image.dtype}\")  # Expected: [C, H, W]\n",
    "print(f\"Mask shape: {mask.shape}, dtype: {mask.dtype}\")    # Expected: [1, H, W]\n",
    "\n"
   ]
  },
  {
   "cell_type": "code",
   "execution_count": 24,
   "id": "1a9e0b5c-e1bf-4dab-975f-9270917ed4cf",
   "metadata": {},
   "outputs": [
    {
     "name": "stdout",
     "output_type": "stream",
     "text": [
      "Transformed image shape: torch.Size([4, 256, 256]), dtype: torch.float32\n",
      "Transformed mask shape: torch.Size([1, 256, 256]), dtype: torch.float32\n"
     ]
    }
   ],
   "source": [
    "# Initialize the CustomDataset objects\n",
    "use_all_bands = True\n",
    "model_band = None # 0:red, 1:green, 2:blue, 3:NIR, None:all 4 bands\n",
    "\n",
    "train_dataset = CustomDataset(train_image_paths, train_mask_paths, transform=ToTensor(), band=model_band)\n",
    "val_dataset = CustomDataset(val_image_paths, val_mask_paths, transform=ToTensor(), band=model_band)\n",
    "test_dataset = CustomDataset(test_image_paths, test_mask_paths, transform=ToTensor(), band=model_band)\n",
    "\n",
    "image, mask = train_dataset[0]  # Load the first item\n",
    "print(f\"Transformed image shape: {image.shape}, dtype: {image.dtype}\")\n",
    "print(f\"Transformed mask shape: {mask.shape}, dtype: {mask.dtype}\")"
   ]
  },
  {
   "cell_type": "markdown",
   "id": "8d7c825e-2270-4189-abd7-682d51d73192",
   "metadata": {},
   "source": [
    "---"
   ]
  },
  {
   "cell_type": "markdown",
   "id": "f80cabee-494e-4fd1-979a-f6c0da9b1cf9",
   "metadata": {},
   "source": [
    "# Transformation \n"
   ]
  },
  {
   "cell_type": "markdown",
   "id": "c962c0ab-a52e-492e-aaa6-ee830fc79011",
   "metadata": {},
   "source": [
    "## Step 1 - Unpack GeoTIFF Files"
   ]
  },
  {
   "cell_type": "code",
   "execution_count": 40,
   "id": "9c8c8dac-1367-4e04-ac3a-7d957a6c1389",
   "metadata": {},
   "outputs": [
    {
     "name": "stdout",
     "output_type": "stream",
     "text": [
      "Processing subset: train\n"
     ]
    },
    {
     "name": "stderr",
     "output_type": "stream",
     "text": [
      "100%|█████████████████████████████████████████████████████████████████████████████| 1005/1005 [00:08<00:00, 113.91it/s]\n",
      "  0%|                                                                                          | 0/402 [00:00<?, ?it/s]C:\\Users\\fpere\\AppData\\Local\\Temp\\ipykernel_8932\\3040735809.py:52: RuntimeWarning: invalid value encountered in divide\n",
      "  mask_image = Image.fromarray((mask / mask.max() * 255).astype(np.uint8))\n",
      "C:\\Users\\fpere\\AppData\\Local\\Temp\\ipykernel_8932\\3040735809.py:52: RuntimeWarning: invalid value encountered in cast\n",
      "  mask_image = Image.fromarray((mask / mask.max() * 255).astype(np.uint8))\n",
      "100%|███████████████████████████████████████████████████████████████████████████████| 402/402 [00:01<00:00, 256.74it/s]\n"
     ]
    },
    {
     "name": "stdout",
     "output_type": "stream",
     "text": [
      "Processing subset: val\n"
     ]
    },
    {
     "name": "stderr",
     "output_type": "stream",
     "text": [
      "100%|███████████████████████████████████████████████████████████████████████████████| 175/175 [00:01<00:00, 114.24it/s]\n",
      "100%|█████████████████████████████████████████████████████████████████████████████████| 70/70 [00:00<00:00, 356.28it/s]\n"
     ]
    },
    {
     "name": "stdout",
     "output_type": "stream",
     "text": [
      "Processing subset: test\n"
     ]
    },
    {
     "name": "stderr",
     "output_type": "stream",
     "text": [
      "100%|███████████████████████████████████████████████████████████████████████████████| 180/180 [00:01<00:00, 168.05it/s]\n",
      "100%|█████████████████████████████████████████████████████████████████████████████████| 72/72 [00:00<00:00, 359.17it/s]\n"
     ]
    }
   ],
   "source": [
    "# import os\n",
    "# from tqdm import tqdm\n",
    "# import rasterio\n",
    "# from PIL import Image\n",
    "# import numpy as np\n",
    "\n",
    "def unpack_tiff_files(data_root):\n",
    "    \"\"\"\n",
    "    Unpacks GeoTIFF files into individual band images and binary masks,\n",
    "    following the specified folder structure.\n",
    "    \n",
    "    Args:\n",
    "        data_root (str): Path to the dataset root folder.\n",
    "    \"\"\"\n",
    "    subsets = [\"train\", \"val\", \"test\"]\n",
    "\n",
    "    for subset in subsets:\n",
    "        input_dir = os.path.join(data_root, subset, \"input\")\n",
    "        label_dir = os.path.join(data_root, subset, \"labels\")\n",
    "\n",
    "        print(f\"Processing subset: {subset}\")\n",
    "        # Process input images\n",
    "        for filename in tqdm(os.listdir(input_dir)):\n",
    "            if filename.endswith(\".tif\"):\n",
    "                input_path = os.path.join(input_dir, filename)\n",
    "                base_name, _ = os.path.splitext(filename)\n",
    "\n",
    "                with rasterio.open(input_path) as src:\n",
    "                    # Read all bands\n",
    "                    bands = src.read()\n",
    "                    if bands.shape[0] != 4:\n",
    "                        raise ValueError(f\"Expected 4 bands in {filename}, got {bands.shape[0]}\")\n",
    "\n",
    "                    # Save each band as a separate PNG\n",
    "                    band_names = ['r', 'g', 'b', 'n']\n",
    "                    for i, band_name in enumerate(band_names):\n",
    "                        output_path = os.path.join(input_dir, f\"{base_name}_{band_name}.png\")\n",
    "                        band_data = bands[i]\n",
    "                        band_image = Image.fromarray((band_data / band_data.max() * 255).astype(np.uint8))\n",
    "                        band_image.save(output_path)\n",
    "\n",
    "        # Process label masks\n",
    "        for filename in tqdm(os.listdir(label_dir)):\n",
    "            if filename.endswith(\".tif\"):\n",
    "                label_path = os.path.join(label_dir, filename)\n",
    "                base_name, _ = os.path.splitext(filename)\n",
    "\n",
    "                with rasterio.open(label_path) as src:\n",
    "                    # Read the single-band mask\n",
    "                    mask = src.read(1)  # Assuming the mask is in the first band\n",
    "                    output_path = os.path.join(label_dir, f\"{base_name}_b.png\")\n",
    "                    mask_image = Image.fromarray((mask / mask.max() * 255).astype(np.uint8))\n",
    "                    mask_image.save(output_path)\n",
    "\n",
    "# Define the dataset root path\n",
    "data_root = \"../data\"\n",
    "\n",
    "# Call the function\n",
    "unpack_tiff_files(data_root)\n"
   ]
  },
  {
   "cell_type": "markdown",
   "id": "39201bf7-a354-4575-83c0-55fb525eac8b",
   "metadata": {},
   "source": [
    "## Step 2 - Transformation phase\n",
    "### input band images -> Super Resolution | binary mask images -> Nearest Neighbor"
   ]
  },
  {
   "cell_type": "code",
   "execution_count": 50,
   "id": "8482ff10-8fd6-4ba8-8fed-11a8c6c9eacc",
   "metadata": {
    "scrolled": true
   },
   "outputs": [
    {
     "name": "stderr",
     "output_type": "stream",
     "text": [
      "Processing train inputs:   0%|                                                        | 2/1005 [00:05<49:55,  2.99s/it]"
     ]
    },
    {
     "name": "stdout",
     "output_type": "stream",
     "text": [
      "Success for img(100)_b.png:\n",
      "Testing 0 img(100)_b\n",
      "\n"
     ]
    },
    {
     "name": "stderr",
     "output_type": "stream",
     "text": [
      "Processing train inputs:   0%|▏                                                     | 3/1005 [00:12<1:11:12,  4.26s/it]"
     ]
    },
    {
     "name": "stdout",
     "output_type": "stream",
     "text": [
      "Success for img(100)_g.png:\n",
      "Testing 0 img(100)_g\n",
      "\n"
     ]
    },
    {
     "name": "stderr",
     "output_type": "stream",
     "text": [
      "Processing train inputs:   0%|▏                                                     | 4/1005 [00:18<1:22:45,  4.96s/it]"
     ]
    },
    {
     "name": "stdout",
     "output_type": "stream",
     "text": [
      "Success for img(100)_n.png:\n",
      "Testing 0 img(100)_n\n",
      "\n"
     ]
    },
    {
     "name": "stderr",
     "output_type": "stream",
     "text": [
      "Processing train inputs:   0%|▎                                                     | 5/1005 [00:24<1:30:47,  5.45s/it]"
     ]
    },
    {
     "name": "stdout",
     "output_type": "stream",
     "text": [
      "Success for img(100)_r.png:\n",
      "Testing 0 img(100)_r\n",
      "\n"
     ]
    },
    {
     "name": "stderr",
     "output_type": "stream",
     "text": [
      "Processing train inputs:   1%|▍                                                     | 7/1005 [00:30<1:11:28,  4.30s/it]"
     ]
    },
    {
     "name": "stdout",
     "output_type": "stream",
     "text": [
      "Success for img(1001)_b.png:\n",
      "Testing 0 img(1001)_b\n",
      "\n"
     ]
    },
    {
     "name": "stderr",
     "output_type": "stream",
     "text": [
      "Processing train inputs:   1%|▍                                                     | 8/1005 [00:36<1:19:06,  4.76s/it]"
     ]
    },
    {
     "name": "stdout",
     "output_type": "stream",
     "text": [
      "Success for img(1001)_g.png:\n",
      "Testing 0 img(1001)_g\n",
      "\n"
     ]
    },
    {
     "name": "stderr",
     "output_type": "stream",
     "text": [
      "Processing train inputs:   1%|▍                                                     | 9/1005 [00:43<1:25:22,  5.14s/it]"
     ]
    },
    {
     "name": "stdout",
     "output_type": "stream",
     "text": [
      "Success for img(1001)_n.png:\n",
      "Testing 0 img(1001)_n\n",
      "\n"
     ]
    },
    {
     "name": "stderr",
     "output_type": "stream",
     "text": [
      "Processing train inputs:   1%|▌                                                    | 10/1005 [00:49<1:29:45,  5.41s/it]"
     ]
    },
    {
     "name": "stdout",
     "output_type": "stream",
     "text": [
      "Success for img(1001)_r.png:\n",
      "Testing 0 img(1001)_r\n",
      "\n"
     ]
    },
    {
     "name": "stderr",
     "output_type": "stream",
     "text": [
      "Processing train inputs:   1%|▋                                                    | 12/1005 [00:55<1:12:34,  4.38s/it]"
     ]
    },
    {
     "name": "stdout",
     "output_type": "stream",
     "text": [
      "Success for img(1002)_b.png:\n",
      "Testing 0 img(1002)_b\n",
      "\n"
     ]
    },
    {
     "name": "stderr",
     "output_type": "stream",
     "text": [
      "Processing train inputs:   1%|▋                                                    | 13/1005 [01:01<1:19:11,  4.79s/it]"
     ]
    },
    {
     "name": "stdout",
     "output_type": "stream",
     "text": [
      "Success for img(1002)_g.png:\n",
      "Testing 0 img(1002)_g\n",
      "\n"
     ]
    },
    {
     "name": "stderr",
     "output_type": "stream",
     "text": [
      "Processing train inputs:   1%|▋                                                    | 14/1005 [01:07<1:25:10,  5.16s/it]"
     ]
    },
    {
     "name": "stdout",
     "output_type": "stream",
     "text": [
      "Success for img(1002)_n.png:\n",
      "Testing 0 img(1002)_n\n",
      "\n"
     ]
    },
    {
     "name": "stderr",
     "output_type": "stream",
     "text": [
      "Processing train inputs:   1%|▊                                                    | 15/1005 [01:13<1:29:08,  5.40s/it]"
     ]
    },
    {
     "name": "stdout",
     "output_type": "stream",
     "text": [
      "Success for img(1002)_r.png:\n",
      "Testing 0 img(1002)_r\n",
      "\n"
     ]
    },
    {
     "name": "stderr",
     "output_type": "stream",
     "text": [
      "Processing train inputs:   2%|▉                                                    | 17/1005 [01:19<1:12:16,  4.39s/it]"
     ]
    },
    {
     "name": "stdout",
     "output_type": "stream",
     "text": [
      "Success for img(1003)_b.png:\n",
      "Testing 0 img(1003)_b\n",
      "\n"
     ]
    },
    {
     "name": "stderr",
     "output_type": "stream",
     "text": [
      "Processing train inputs:   2%|▉                                                    | 18/1005 [01:25<1:18:54,  4.80s/it]"
     ]
    },
    {
     "name": "stdout",
     "output_type": "stream",
     "text": [
      "Success for img(1003)_g.png:\n",
      "Testing 0 img(1003)_g\n",
      "\n"
     ]
    },
    {
     "name": "stderr",
     "output_type": "stream",
     "text": [
      "Processing train inputs:   2%|█                                                    | 19/1005 [01:31<1:23:59,  5.11s/it]"
     ]
    },
    {
     "name": "stdout",
     "output_type": "stream",
     "text": [
      "Success for img(1003)_n.png:\n",
      "Testing 0 img(1003)_n\n",
      "\n"
     ]
    },
    {
     "name": "stderr",
     "output_type": "stream",
     "text": [
      "Processing train inputs:   2%|█                                                    | 20/1005 [01:38<1:27:57,  5.36s/it]"
     ]
    },
    {
     "name": "stdout",
     "output_type": "stream",
     "text": [
      "Success for img(1003)_r.png:\n",
      "Testing 0 img(1003)_r\n",
      "\n"
     ]
    },
    {
     "name": "stderr",
     "output_type": "stream",
     "text": [
      "Processing train inputs:   2%|█▏                                                   | 22/1005 [01:44<1:11:17,  4.35s/it]"
     ]
    },
    {
     "name": "stdout",
     "output_type": "stream",
     "text": [
      "Success for img(1004)_b.png:\n",
      "Testing 0 img(1004)_b\n",
      "\n"
     ]
    },
    {
     "name": "stderr",
     "output_type": "stream",
     "text": [
      "Processing train inputs:   2%|█▏                                                   | 23/1005 [01:50<1:17:43,  4.75s/it]"
     ]
    },
    {
     "name": "stdout",
     "output_type": "stream",
     "text": [
      "Success for img(1004)_g.png:\n",
      "Testing 0 img(1004)_g\n",
      "\n"
     ]
    },
    {
     "name": "stderr",
     "output_type": "stream",
     "text": [
      "Processing train inputs:   2%|█▎                                                   | 24/1005 [01:56<1:22:59,  5.08s/it]"
     ]
    },
    {
     "name": "stdout",
     "output_type": "stream",
     "text": [
      "Success for img(1004)_n.png:\n",
      "Testing 0 img(1004)_n\n",
      "\n"
     ]
    },
    {
     "name": "stderr",
     "output_type": "stream",
     "text": [
      "Processing train inputs:   2%|█▎                                                   | 25/1005 [02:02<1:27:11,  5.34s/it]"
     ]
    },
    {
     "name": "stdout",
     "output_type": "stream",
     "text": [
      "Success for img(1004)_r.png:\n",
      "Testing 0 img(1004)_r\n",
      "\n"
     ]
    },
    {
     "name": "stderr",
     "output_type": "stream",
     "text": [
      "Processing train inputs:   3%|█▍                                                   | 27/1005 [02:08<1:10:44,  4.34s/it]"
     ]
    },
    {
     "name": "stdout",
     "output_type": "stream",
     "text": [
      "Success for img(1005)_b.png:\n",
      "Testing 0 img(1005)_b\n",
      "\n"
     ]
    },
    {
     "name": "stderr",
     "output_type": "stream",
     "text": [
      "Processing train inputs:   3%|█▍                                                   | 28/1005 [02:14<1:17:21,  4.75s/it]"
     ]
    },
    {
     "name": "stdout",
     "output_type": "stream",
     "text": [
      "Success for img(1005)_g.png:\n",
      "Testing 0 img(1005)_g\n",
      "\n"
     ]
    },
    {
     "name": "stderr",
     "output_type": "stream",
     "text": [
      "Processing train inputs:   3%|█▌                                                   | 29/1005 [02:20<1:22:40,  5.08s/it]"
     ]
    },
    {
     "name": "stdout",
     "output_type": "stream",
     "text": [
      "Success for img(1005)_n.png:\n",
      "Testing 0 img(1005)_n\n",
      "\n"
     ]
    },
    {
     "name": "stderr",
     "output_type": "stream",
     "text": [
      "Processing train inputs:   3%|█▌                                                   | 30/1005 [02:26<1:26:51,  5.35s/it]"
     ]
    },
    {
     "name": "stdout",
     "output_type": "stream",
     "text": [
      "Success for img(1005)_r.png:\n",
      "Testing 0 img(1005)_r\n",
      "\n"
     ]
    },
    {
     "name": "stderr",
     "output_type": "stream",
     "text": [
      "Processing train inputs:   3%|█▋                                                   | 32/1005 [02:32<1:10:12,  4.33s/it]"
     ]
    },
    {
     "name": "stdout",
     "output_type": "stream",
     "text": [
      "Success for img(1006)_b.png:\n",
      "Testing 0 img(1006)_b\n",
      "\n"
     ]
    },
    {
     "name": "stderr",
     "output_type": "stream",
     "text": [
      "Processing train inputs:   3%|█▋                                                   | 33/1005 [02:38<1:16:34,  4.73s/it]"
     ]
    },
    {
     "name": "stdout",
     "output_type": "stream",
     "text": [
      "Success for img(1006)_g.png:\n",
      "Testing 0 img(1006)_g\n",
      "\n"
     ]
    },
    {
     "name": "stderr",
     "output_type": "stream",
     "text": [
      "Processing train inputs:   3%|█▊                                                   | 34/1005 [02:44<1:21:52,  5.06s/it]"
     ]
    },
    {
     "name": "stdout",
     "output_type": "stream",
     "text": [
      "Success for img(1006)_n.png:\n",
      "Testing 0 img(1006)_n\n",
      "\n"
     ]
    },
    {
     "name": "stderr",
     "output_type": "stream",
     "text": [
      "Processing train inputs:   3%|█▊                                                   | 35/1005 [02:50<1:25:55,  5.31s/it]"
     ]
    },
    {
     "name": "stdout",
     "output_type": "stream",
     "text": [
      "Success for img(1006)_r.png:\n",
      "Testing 0 img(1006)_r\n",
      "\n"
     ]
    },
    {
     "name": "stderr",
     "output_type": "stream",
     "text": [
      "Processing train inputs:   4%|█▉                                                   | 37/1005 [02:56<1:10:08,  4.35s/it]"
     ]
    },
    {
     "name": "stdout",
     "output_type": "stream",
     "text": [
      "Success for img(1007)_b.png:\n",
      "Testing 0 img(1007)_b\n",
      "\n"
     ]
    },
    {
     "name": "stderr",
     "output_type": "stream",
     "text": [
      "Processing train inputs:   4%|██                                                   | 38/1005 [03:02<1:17:13,  4.79s/it]"
     ]
    },
    {
     "name": "stdout",
     "output_type": "stream",
     "text": [
      "Success for img(1007)_g.png:\n",
      "Testing 0 img(1007)_g\n",
      "\n"
     ]
    },
    {
     "name": "stderr",
     "output_type": "stream",
     "text": [
      "Processing train inputs:   4%|██                                                   | 39/1005 [03:09<1:22:49,  5.14s/it]"
     ]
    },
    {
     "name": "stdout",
     "output_type": "stream",
     "text": [
      "Success for img(1007)_n.png:\n",
      "Testing 0 img(1007)_n\n",
      "\n"
     ]
    },
    {
     "name": "stderr",
     "output_type": "stream",
     "text": [
      "Processing train inputs:   4%|██                                                   | 40/1005 [03:15<1:26:35,  5.38s/it]"
     ]
    },
    {
     "name": "stdout",
     "output_type": "stream",
     "text": [
      "Success for img(1007)_r.png:\n",
      "Testing 0 img(1007)_r\n",
      "\n"
     ]
    },
    {
     "name": "stderr",
     "output_type": "stream",
     "text": [
      "Processing train inputs:   4%|██▏                                                  | 42/1005 [03:21<1:10:15,  4.38s/it]"
     ]
    },
    {
     "name": "stdout",
     "output_type": "stream",
     "text": [
      "Success for img(1008)_b.png:\n",
      "Testing 0 img(1008)_b\n",
      "\n"
     ]
    },
    {
     "name": "stderr",
     "output_type": "stream",
     "text": [
      "Processing train inputs:   4%|██▎                                                  | 43/1005 [03:27<1:16:27,  4.77s/it]"
     ]
    },
    {
     "name": "stdout",
     "output_type": "stream",
     "text": [
      "Success for img(1008)_g.png:\n",
      "Testing 0 img(1008)_g\n",
      "\n"
     ]
    },
    {
     "name": "stderr",
     "output_type": "stream",
     "text": [
      "Processing train inputs:   4%|██▎                                                  | 44/1005 [03:33<1:22:15,  5.14s/it]"
     ]
    },
    {
     "name": "stdout",
     "output_type": "stream",
     "text": [
      "Success for img(1008)_n.png:\n",
      "Testing 0 img(1008)_n\n",
      "\n"
     ]
    },
    {
     "name": "stderr",
     "output_type": "stream",
     "text": [
      "Processing train inputs:   4%|██▎                                                  | 45/1005 [03:39<1:25:50,  5.36s/it]"
     ]
    },
    {
     "name": "stdout",
     "output_type": "stream",
     "text": [
      "Success for img(1008)_r.png:\n",
      "Testing 0 img(1008)_r\n",
      "\n"
     ]
    },
    {
     "name": "stderr",
     "output_type": "stream",
     "text": [
      "Processing train inputs:   5%|██▍                                                  | 47/1005 [03:45<1:10:17,  4.40s/it]"
     ]
    },
    {
     "name": "stdout",
     "output_type": "stream",
     "text": [
      "Success for img(1009)_b.png:\n",
      "Testing 0 img(1009)_b\n",
      "\n"
     ]
    },
    {
     "name": "stderr",
     "output_type": "stream",
     "text": [
      "Processing train inputs:   5%|██▌                                                  | 48/1005 [03:52<1:17:16,  4.84s/it]"
     ]
    },
    {
     "name": "stdout",
     "output_type": "stream",
     "text": [
      "Success for img(1009)_g.png:\n",
      "Testing 0 img(1009)_g\n",
      "\n"
     ]
    },
    {
     "name": "stderr",
     "output_type": "stream",
     "text": [
      "Processing train inputs:   5%|██▌                                                  | 49/1005 [03:58<1:22:59,  5.21s/it]"
     ]
    },
    {
     "name": "stdout",
     "output_type": "stream",
     "text": [
      "Success for img(1009)_n.png:\n",
      "Testing 0 img(1009)_n\n",
      "\n"
     ]
    },
    {
     "name": "stderr",
     "output_type": "stream",
     "text": [
      "Processing train inputs:   5%|██▋                                                  | 50/1005 [04:04<1:26:48,  5.45s/it]"
     ]
    },
    {
     "name": "stdout",
     "output_type": "stream",
     "text": [
      "Success for img(1009)_r.png:\n",
      "Testing 0 img(1009)_r\n",
      "\n"
     ]
    },
    {
     "name": "stderr",
     "output_type": "stream",
     "text": [
      "Processing train inputs:   5%|██▋                                                  | 52/1005 [04:10<1:10:49,  4.46s/it]"
     ]
    },
    {
     "name": "stdout",
     "output_type": "stream",
     "text": [
      "Success for img(101)_b.png:\n",
      "Testing 0 img(101)_b\n",
      "\n"
     ]
    },
    {
     "name": "stderr",
     "output_type": "stream",
     "text": [
      "Processing train inputs:   5%|██▊                                                  | 53/1005 [04:16<1:16:33,  4.83s/it]"
     ]
    },
    {
     "name": "stdout",
     "output_type": "stream",
     "text": [
      "Success for img(101)_g.png:\n",
      "Testing 0 img(101)_g\n",
      "\n"
     ]
    },
    {
     "name": "stderr",
     "output_type": "stream",
     "text": [
      "Processing train inputs:   5%|██▊                                                  | 54/1005 [04:22<1:21:39,  5.15s/it]"
     ]
    },
    {
     "name": "stdout",
     "output_type": "stream",
     "text": [
      "Success for img(101)_n.png:\n",
      "Testing 0 img(101)_n\n",
      "\n"
     ]
    },
    {
     "name": "stderr",
     "output_type": "stream",
     "text": [
      "Processing train inputs:   5%|██▉                                                  | 55/1005 [04:28<1:25:25,  5.40s/it]"
     ]
    },
    {
     "name": "stdout",
     "output_type": "stream",
     "text": [
      "Success for img(101)_r.png:\n",
      "Testing 0 img(101)_r\n",
      "\n"
     ]
    },
    {
     "name": "stderr",
     "output_type": "stream",
     "text": [
      "Processing train inputs:   6%|███                                                  | 57/1005 [04:35<1:09:54,  4.43s/it]"
     ]
    },
    {
     "name": "stdout",
     "output_type": "stream",
     "text": [
      "Success for img(1010)_b.png:\n",
      "Testing 0 img(1010)_b\n",
      "\n"
     ]
    },
    {
     "name": "stderr",
     "output_type": "stream",
     "text": [
      "Processing train inputs:   6%|███                                                  | 58/1005 [04:41<1:16:47,  4.87s/it]"
     ]
    },
    {
     "name": "stdout",
     "output_type": "stream",
     "text": [
      "Success for img(1010)_g.png:\n",
      "Testing 0 img(1010)_g\n",
      "\n"
     ]
    },
    {
     "name": "stderr",
     "output_type": "stream",
     "text": [
      "Processing train inputs:   6%|███                                                  | 59/1005 [04:47<1:22:28,  5.23s/it]"
     ]
    },
    {
     "name": "stdout",
     "output_type": "stream",
     "text": [
      "Success for img(1010)_n.png:\n",
      "Testing 0 img(1010)_n\n",
      "\n"
     ]
    },
    {
     "name": "stderr",
     "output_type": "stream",
     "text": [
      "Processing train inputs:   6%|███▏                                                 | 60/1005 [04:54<1:26:32,  5.49s/it]"
     ]
    },
    {
     "name": "stdout",
     "output_type": "stream",
     "text": [
      "Success for img(1010)_r.png:\n",
      "Testing 0 img(1010)_r\n",
      "\n"
     ]
    },
    {
     "name": "stderr",
     "output_type": "stream",
     "text": [
      "Processing train inputs:   6%|███▎                                                 | 62/1005 [05:00<1:10:13,  4.47s/it]"
     ]
    },
    {
     "name": "stdout",
     "output_type": "stream",
     "text": [
      "Success for img(1011)_b.png:\n",
      "Testing 0 img(1011)_b\n",
      "\n"
     ]
    },
    {
     "name": "stderr",
     "output_type": "stream",
     "text": [
      "Processing train inputs:   6%|███▎                                                 | 63/1005 [05:06<1:15:57,  4.84s/it]"
     ]
    },
    {
     "name": "stdout",
     "output_type": "stream",
     "text": [
      "Success for img(1011)_g.png:\n",
      "Testing 0 img(1011)_g\n",
      "\n"
     ]
    },
    {
     "name": "stderr",
     "output_type": "stream",
     "text": [
      "Processing train inputs:   6%|███▍                                                 | 64/1005 [05:12<1:20:29,  5.13s/it]"
     ]
    },
    {
     "name": "stdout",
     "output_type": "stream",
     "text": [
      "Success for img(1011)_n.png:\n",
      "Testing 0 img(1011)_n\n",
      "\n"
     ]
    },
    {
     "name": "stderr",
     "output_type": "stream",
     "text": [
      "Processing train inputs:   6%|███▍                                                 | 65/1005 [05:18<1:24:50,  5.42s/it]"
     ]
    },
    {
     "name": "stdout",
     "output_type": "stream",
     "text": [
      "Success for img(1011)_r.png:\n",
      "Testing 0 img(1011)_r\n",
      "\n"
     ]
    },
    {
     "name": "stderr",
     "output_type": "stream",
     "text": [
      "Processing train inputs:   7%|███▌                                                 | 67/1005 [05:24<1:08:31,  4.38s/it]"
     ]
    },
    {
     "name": "stdout",
     "output_type": "stream",
     "text": [
      "Success for img(1012)_b.png:\n",
      "Testing 0 img(1012)_b\n",
      "\n"
     ]
    },
    {
     "name": "stderr",
     "output_type": "stream",
     "text": [
      "Processing train inputs:   7%|███▌                                                 | 68/1005 [05:30<1:14:55,  4.80s/it]"
     ]
    },
    {
     "name": "stdout",
     "output_type": "stream",
     "text": [
      "Success for img(1012)_g.png:\n",
      "Testing 0 img(1012)_g\n",
      "\n"
     ]
    },
    {
     "name": "stderr",
     "output_type": "stream",
     "text": [
      "Processing train inputs:   7%|███▋                                                 | 69/1005 [05:36<1:19:56,  5.12s/it]"
     ]
    },
    {
     "name": "stdout",
     "output_type": "stream",
     "text": [
      "Success for img(1012)_n.png:\n",
      "Testing 0 img(1012)_n\n",
      "\n"
     ]
    },
    {
     "name": "stderr",
     "output_type": "stream",
     "text": [
      "Processing train inputs:   7%|███▋                                                 | 70/1005 [05:42<1:23:43,  5.37s/it]"
     ]
    },
    {
     "name": "stdout",
     "output_type": "stream",
     "text": [
      "Success for img(1012)_r.png:\n",
      "Testing 0 img(1012)_r\n",
      "\n"
     ]
    },
    {
     "name": "stderr",
     "output_type": "stream",
     "text": [
      "Processing train inputs:   7%|███▊                                                 | 72/1005 [05:49<1:08:05,  4.38s/it]"
     ]
    },
    {
     "name": "stdout",
     "output_type": "stream",
     "text": [
      "Success for img(1013)_b.png:\n",
      "Testing 0 img(1013)_b\n",
      "\n"
     ]
    },
    {
     "name": "stderr",
     "output_type": "stream",
     "text": [
      "Processing train inputs:   7%|███▊                                                 | 73/1005 [05:55<1:13:51,  4.75s/it]"
     ]
    },
    {
     "name": "stdout",
     "output_type": "stream",
     "text": [
      "Success for img(1013)_g.png:\n",
      "Testing 0 img(1013)_g\n",
      "\n"
     ]
    },
    {
     "name": "stderr",
     "output_type": "stream",
     "text": [
      "Processing train inputs:   7%|███▉                                                 | 74/1005 [06:01<1:19:24,  5.12s/it]"
     ]
    },
    {
     "name": "stdout",
     "output_type": "stream",
     "text": [
      "Success for img(1013)_n.png:\n",
      "Testing 0 img(1013)_n\n",
      "\n"
     ]
    },
    {
     "name": "stderr",
     "output_type": "stream",
     "text": [
      "Processing train inputs:   7%|███▉                                                 | 75/1005 [06:07<1:24:16,  5.44s/it]"
     ]
    },
    {
     "name": "stdout",
     "output_type": "stream",
     "text": [
      "Success for img(1013)_r.png:\n",
      "Testing 0 img(1013)_r\n",
      "\n"
     ]
    },
    {
     "name": "stderr",
     "output_type": "stream",
     "text": [
      "Processing train inputs:   8%|████                                                 | 77/1005 [06:13<1:08:12,  4.41s/it]"
     ]
    },
    {
     "name": "stdout",
     "output_type": "stream",
     "text": [
      "Success for img(1014)_b.png:\n",
      "Testing 0 img(1014)_b\n",
      "\n"
     ]
    },
    {
     "name": "stderr",
     "output_type": "stream",
     "text": [
      "Processing train inputs:   8%|████                                                 | 78/1005 [06:19<1:13:57,  4.79s/it]"
     ]
    },
    {
     "name": "stdout",
     "output_type": "stream",
     "text": [
      "Success for img(1014)_g.png:\n",
      "Testing 0 img(1014)_g\n",
      "\n"
     ]
    },
    {
     "name": "stderr",
     "output_type": "stream",
     "text": [
      "Processing train inputs:   8%|████▏                                                | 79/1005 [06:26<1:21:42,  5.29s/it]"
     ]
    },
    {
     "name": "stdout",
     "output_type": "stream",
     "text": [
      "Success for img(1014)_n.png:\n",
      "Testing 0 img(1014)_n\n",
      "\n"
     ]
    },
    {
     "name": "stderr",
     "output_type": "stream",
     "text": [
      "Processing train inputs:   8%|████▏                                                | 80/1005 [06:32<1:24:38,  5.49s/it]"
     ]
    },
    {
     "name": "stdout",
     "output_type": "stream",
     "text": [
      "Success for img(1014)_r.png:\n",
      "Testing 0 img(1014)_r\n",
      "\n"
     ]
    },
    {
     "name": "stderr",
     "output_type": "stream",
     "text": [
      "Processing train inputs:   8%|████▎                                                | 82/1005 [06:38<1:07:46,  4.41s/it]"
     ]
    },
    {
     "name": "stdout",
     "output_type": "stream",
     "text": [
      "Success for img(1015)_b.png:\n",
      "Testing 0 img(1015)_b\n",
      "\n"
     ]
    },
    {
     "name": "stderr",
     "output_type": "stream",
     "text": [
      "Processing train inputs:   8%|████▍                                                | 83/1005 [06:44<1:13:27,  4.78s/it]"
     ]
    },
    {
     "name": "stdout",
     "output_type": "stream",
     "text": [
      "Success for img(1015)_g.png:\n",
      "Testing 0 img(1015)_g\n",
      "\n"
     ]
    },
    {
     "name": "stderr",
     "output_type": "stream",
     "text": [
      "Processing train inputs:   8%|████▍                                                | 84/1005 [06:50<1:18:19,  5.10s/it]"
     ]
    },
    {
     "name": "stdout",
     "output_type": "stream",
     "text": [
      "Success for img(1015)_n.png:\n",
      "Testing 0 img(1015)_n\n",
      "\n"
     ]
    },
    {
     "name": "stderr",
     "output_type": "stream",
     "text": [
      "Processing train inputs:   8%|████▍                                                | 85/1005 [06:56<1:21:47,  5.33s/it]"
     ]
    },
    {
     "name": "stdout",
     "output_type": "stream",
     "text": [
      "Success for img(1015)_r.png:\n",
      "Testing 0 img(1015)_r\n",
      "\n"
     ]
    },
    {
     "name": "stderr",
     "output_type": "stream",
     "text": [
      "Processing train inputs:   9%|████▌                                                | 87/1005 [07:02<1:06:11,  4.33s/it]"
     ]
    },
    {
     "name": "stdout",
     "output_type": "stream",
     "text": [
      "Success for img(1016)_b.png:\n",
      "Testing 0 img(1016)_b\n",
      "\n"
     ]
    },
    {
     "name": "stderr",
     "output_type": "stream",
     "text": [
      "Processing train inputs:   9%|████▋                                                | 88/1005 [07:08<1:11:55,  4.71s/it]"
     ]
    },
    {
     "name": "stdout",
     "output_type": "stream",
     "text": [
      "Success for img(1016)_g.png:\n",
      "Testing 0 img(1016)_g\n",
      "\n"
     ]
    },
    {
     "name": "stderr",
     "output_type": "stream",
     "text": [
      "Processing train inputs:   9%|████▋                                                | 89/1005 [07:14<1:16:33,  5.01s/it]"
     ]
    },
    {
     "name": "stdout",
     "output_type": "stream",
     "text": [
      "Success for img(1016)_n.png:\n",
      "Testing 0 img(1016)_n\n",
      "\n"
     ]
    },
    {
     "name": "stderr",
     "output_type": "stream",
     "text": [
      "Processing train inputs:   9%|████▋                                                | 90/1005 [07:20<1:20:22,  5.27s/it]"
     ]
    },
    {
     "name": "stdout",
     "output_type": "stream",
     "text": [
      "Success for img(1016)_r.png:\n",
      "Testing 0 img(1016)_r\n",
      "\n"
     ]
    },
    {
     "name": "stderr",
     "output_type": "stream",
     "text": [
      "Processing train inputs:   9%|████▊                                                | 92/1005 [07:26<1:05:26,  4.30s/it]"
     ]
    },
    {
     "name": "stdout",
     "output_type": "stream",
     "text": [
      "Success for img(1017)_b.png:\n",
      "Testing 0 img(1017)_b\n",
      "\n"
     ]
    },
    {
     "name": "stderr",
     "output_type": "stream",
     "text": [
      "Processing train inputs:   9%|████▉                                                | 93/1005 [07:32<1:11:34,  4.71s/it]"
     ]
    },
    {
     "name": "stdout",
     "output_type": "stream",
     "text": [
      "Success for img(1017)_g.png:\n",
      "Testing 0 img(1017)_g\n",
      "\n"
     ]
    },
    {
     "name": "stderr",
     "output_type": "stream",
     "text": [
      "Processing train inputs:   9%|████▉                                                | 94/1005 [07:38<1:16:15,  5.02s/it]"
     ]
    },
    {
     "name": "stdout",
     "output_type": "stream",
     "text": [
      "Success for img(1017)_n.png:\n",
      "Testing 0 img(1017)_n\n",
      "\n"
     ]
    },
    {
     "name": "stderr",
     "output_type": "stream",
     "text": [
      "Processing train inputs:   9%|█████                                                | 95/1005 [07:44<1:19:52,  5.27s/it]"
     ]
    },
    {
     "name": "stdout",
     "output_type": "stream",
     "text": [
      "Success for img(1017)_r.png:\n",
      "Testing 0 img(1017)_r\n",
      "\n"
     ]
    },
    {
     "name": "stderr",
     "output_type": "stream",
     "text": [
      "Processing train inputs:  10%|█████                                                | 97/1005 [07:50<1:05:33,  4.33s/it]"
     ]
    },
    {
     "name": "stdout",
     "output_type": "stream",
     "text": [
      "Success for img(1018)_b.png:\n",
      "Testing 0 img(1018)_b\n",
      "\n"
     ]
    },
    {
     "name": "stderr",
     "output_type": "stream",
     "text": [
      "Processing train inputs:  10%|█████▏                                               | 98/1005 [07:56<1:11:20,  4.72s/it]"
     ]
    },
    {
     "name": "stdout",
     "output_type": "stream",
     "text": [
      "Success for img(1018)_g.png:\n",
      "Testing 0 img(1018)_g\n",
      "\n"
     ]
    },
    {
     "name": "stderr",
     "output_type": "stream",
     "text": [
      "Processing train inputs:  10%|█████▏                                               | 99/1005 [08:02<1:16:12,  5.05s/it]"
     ]
    },
    {
     "name": "stdout",
     "output_type": "stream",
     "text": [
      "Success for img(1018)_n.png:\n",
      "Testing 0 img(1018)_n\n",
      "\n"
     ]
    },
    {
     "name": "stderr",
     "output_type": "stream",
     "text": [
      "Processing train inputs:  10%|█████▏                                              | 100/1005 [08:08<1:19:50,  5.29s/it]"
     ]
    },
    {
     "name": "stdout",
     "output_type": "stream",
     "text": [
      "Success for img(1018)_r.png:\n",
      "Testing 0 img(1018)_r\n",
      "\n"
     ]
    },
    {
     "name": "stderr",
     "output_type": "stream",
     "text": [
      "Processing train inputs:  10%|█████▎                                              | 102/1005 [08:14<1:04:39,  4.30s/it]"
     ]
    },
    {
     "name": "stdout",
     "output_type": "stream",
     "text": [
      "Success for img(1019)_b.png:\n",
      "Testing 0 img(1019)_b\n",
      "\n"
     ]
    },
    {
     "name": "stderr",
     "output_type": "stream",
     "text": [
      "Processing train inputs:  10%|█████▎                                              | 103/1005 [08:20<1:10:37,  4.70s/it]"
     ]
    },
    {
     "name": "stdout",
     "output_type": "stream",
     "text": [
      "Success for img(1019)_g.png:\n",
      "Testing 0 img(1019)_g\n",
      "\n"
     ]
    },
    {
     "name": "stderr",
     "output_type": "stream",
     "text": [
      "Processing train inputs:  10%|█████▍                                              | 104/1005 [08:26<1:15:30,  5.03s/it]"
     ]
    },
    {
     "name": "stdout",
     "output_type": "stream",
     "text": [
      "Success for img(1019)_n.png:\n",
      "Testing 0 img(1019)_n\n",
      "\n"
     ]
    },
    {
     "name": "stderr",
     "output_type": "stream",
     "text": [
      "Processing train inputs:  10%|█████▍                                              | 105/1005 [08:32<1:19:04,  5.27s/it]"
     ]
    },
    {
     "name": "stdout",
     "output_type": "stream",
     "text": [
      "Success for img(1019)_r.png:\n",
      "Testing 0 img(1019)_r\n",
      "\n"
     ]
    },
    {
     "name": "stderr",
     "output_type": "stream",
     "text": [
      "Processing train inputs:  11%|█████▌                                              | 107/1005 [08:38<1:04:10,  4.29s/it]"
     ]
    },
    {
     "name": "stdout",
     "output_type": "stream",
     "text": [
      "Success for img(102)_b.png:\n",
      "Testing 0 img(102)_b\n",
      "\n"
     ]
    },
    {
     "name": "stderr",
     "output_type": "stream",
     "text": [
      "Processing train inputs:  11%|█████▌                                              | 108/1005 [08:44<1:09:49,  4.67s/it]"
     ]
    },
    {
     "name": "stdout",
     "output_type": "stream",
     "text": [
      "Success for img(102)_g.png:\n",
      "Testing 0 img(102)_g\n",
      "\n"
     ]
    },
    {
     "name": "stderr",
     "output_type": "stream",
     "text": [
      "Processing train inputs:  11%|█████▋                                              | 109/1005 [08:50<1:14:47,  5.01s/it]"
     ]
    },
    {
     "name": "stdout",
     "output_type": "stream",
     "text": [
      "Success for img(102)_n.png:\n",
      "Testing 0 img(102)_n\n",
      "\n"
     ]
    },
    {
     "name": "stderr",
     "output_type": "stream",
     "text": [
      "Processing train inputs:  11%|█████▋                                              | 110/1005 [08:56<1:18:22,  5.25s/it]"
     ]
    },
    {
     "name": "stdout",
     "output_type": "stream",
     "text": [
      "Success for img(102)_r.png:\n",
      "Testing 0 img(102)_r\n",
      "\n"
     ]
    },
    {
     "name": "stderr",
     "output_type": "stream",
     "text": [
      "Processing train inputs:  11%|█████▊                                              | 112/1005 [09:02<1:03:30,  4.27s/it]"
     ]
    },
    {
     "name": "stdout",
     "output_type": "stream",
     "text": [
      "Success for img(1020)_b.png:\n",
      "Testing 0 img(1020)_b\n",
      "\n"
     ]
    },
    {
     "name": "stderr",
     "output_type": "stream",
     "text": [
      "Processing train inputs:  11%|█████▊                                              | 113/1005 [09:08<1:09:17,  4.66s/it]"
     ]
    },
    {
     "name": "stdout",
     "output_type": "stream",
     "text": [
      "Success for img(1020)_g.png:\n",
      "Testing 0 img(1020)_g\n",
      "\n"
     ]
    },
    {
     "name": "stderr",
     "output_type": "stream",
     "text": [
      "Processing train inputs:  11%|█████▉                                              | 114/1005 [09:14<1:14:03,  4.99s/it]"
     ]
    },
    {
     "name": "stdout",
     "output_type": "stream",
     "text": [
      "Success for img(1020)_n.png:\n",
      "Testing 0 img(1020)_n\n",
      "\n"
     ]
    },
    {
     "name": "stderr",
     "output_type": "stream",
     "text": [
      "Processing train inputs:  11%|█████▉                                              | 115/1005 [09:20<1:18:00,  5.26s/it]"
     ]
    },
    {
     "name": "stdout",
     "output_type": "stream",
     "text": [
      "Success for img(1020)_r.png:\n",
      "Testing 0 img(1020)_r\n",
      "\n"
     ]
    },
    {
     "name": "stderr",
     "output_type": "stream",
     "text": [
      "Processing train inputs:  12%|██████                                              | 117/1005 [09:26<1:03:42,  4.30s/it]"
     ]
    },
    {
     "name": "stdout",
     "output_type": "stream",
     "text": [
      "Success for img(1021)_b.png:\n",
      "Testing 0 img(1021)_b\n",
      "\n"
     ]
    },
    {
     "name": "stderr",
     "output_type": "stream",
     "text": [
      "Processing train inputs:  12%|██████                                              | 118/1005 [09:32<1:09:48,  4.72s/it]"
     ]
    },
    {
     "name": "stdout",
     "output_type": "stream",
     "text": [
      "Success for img(1021)_g.png:\n",
      "Testing 0 img(1021)_g\n",
      "\n"
     ]
    },
    {
     "name": "stderr",
     "output_type": "stream",
     "text": [
      "Processing train inputs:  12%|██████▏                                             | 119/1005 [09:38<1:14:45,  5.06s/it]"
     ]
    },
    {
     "name": "stdout",
     "output_type": "stream",
     "text": [
      "Success for img(1021)_n.png:\n",
      "Testing 0 img(1021)_n\n",
      "\n"
     ]
    },
    {
     "name": "stderr",
     "output_type": "stream",
     "text": [
      "Processing train inputs:  12%|██████▏                                             | 120/1005 [09:44<1:19:33,  5.39s/it]"
     ]
    },
    {
     "name": "stdout",
     "output_type": "stream",
     "text": [
      "Success for img(1021)_r.png:\n",
      "Testing 0 img(1021)_r\n",
      "\n"
     ]
    },
    {
     "name": "stderr",
     "output_type": "stream",
     "text": [
      "Processing train inputs:  12%|██████▎                                             | 122/1005 [09:51<1:06:25,  4.51s/it]"
     ]
    },
    {
     "name": "stdout",
     "output_type": "stream",
     "text": [
      "Success for img(1022)_b.png:\n",
      "Testing 0 img(1022)_b\n",
      "\n"
     ]
    },
    {
     "name": "stderr",
     "output_type": "stream",
     "text": [
      "Processing train inputs:  12%|██████▎                                             | 123/1005 [09:57<1:12:35,  4.94s/it]"
     ]
    },
    {
     "name": "stdout",
     "output_type": "stream",
     "text": [
      "Success for img(1022)_g.png:\n",
      "Testing 0 img(1022)_g\n",
      "\n"
     ]
    },
    {
     "name": "stderr",
     "output_type": "stream",
     "text": [
      "Processing train inputs:  12%|██████▍                                             | 124/1005 [10:03<1:16:47,  5.23s/it]"
     ]
    },
    {
     "name": "stdout",
     "output_type": "stream",
     "text": [
      "Success for img(1022)_n.png:\n",
      "Testing 0 img(1022)_n\n",
      "\n"
     ]
    },
    {
     "name": "stderr",
     "output_type": "stream",
     "text": [
      "Processing train inputs:  12%|██████▍                                             | 125/1005 [10:09<1:19:44,  5.44s/it]"
     ]
    },
    {
     "name": "stdout",
     "output_type": "stream",
     "text": [
      "Success for img(1022)_r.png:\n",
      "Testing 0 img(1022)_r\n",
      "\n"
     ]
    },
    {
     "name": "stderr",
     "output_type": "stream",
     "text": [
      "Processing train inputs:  13%|██████▌                                             | 127/1005 [10:15<1:04:17,  4.39s/it]"
     ]
    },
    {
     "name": "stdout",
     "output_type": "stream",
     "text": [
      "Success for img(1023)_b.png:\n",
      "Testing 0 img(1023)_b\n",
      "\n"
     ]
    },
    {
     "name": "stderr",
     "output_type": "stream",
     "text": [
      "Processing train inputs:  13%|██████▌                                             | 128/1005 [10:21<1:09:44,  4.77s/it]"
     ]
    },
    {
     "name": "stdout",
     "output_type": "stream",
     "text": [
      "Success for img(1023)_g.png:\n",
      "Testing 0 img(1023)_g\n",
      "\n"
     ]
    },
    {
     "name": "stderr",
     "output_type": "stream",
     "text": [
      "Processing train inputs:  13%|██████▋                                             | 129/1005 [10:27<1:14:19,  5.09s/it]"
     ]
    },
    {
     "name": "stdout",
     "output_type": "stream",
     "text": [
      "Success for img(1023)_n.png:\n",
      "Testing 0 img(1023)_n\n",
      "\n"
     ]
    },
    {
     "name": "stderr",
     "output_type": "stream",
     "text": [
      "Processing train inputs:  13%|██████▋                                             | 130/1005 [10:33<1:17:52,  5.34s/it]"
     ]
    },
    {
     "name": "stdout",
     "output_type": "stream",
     "text": [
      "Success for img(1023)_r.png:\n",
      "Testing 0 img(1023)_r\n",
      "\n"
     ]
    },
    {
     "name": "stderr",
     "output_type": "stream",
     "text": [
      "Processing train inputs:  13%|██████▊                                             | 132/1005 [10:39<1:03:04,  4.33s/it]"
     ]
    },
    {
     "name": "stdout",
     "output_type": "stream",
     "text": [
      "Success for img(1024)_b.png:\n",
      "Testing 0 img(1024)_b\n",
      "\n"
     ]
    },
    {
     "name": "stderr",
     "output_type": "stream",
     "text": [
      "Processing train inputs:  13%|██████▉                                             | 133/1005 [10:45<1:08:48,  4.73s/it]"
     ]
    },
    {
     "name": "stdout",
     "output_type": "stream",
     "text": [
      "Success for img(1024)_g.png:\n",
      "Testing 0 img(1024)_g\n",
      "\n"
     ]
    },
    {
     "name": "stderr",
     "output_type": "stream",
     "text": [
      "Processing train inputs:  13%|██████▉                                             | 134/1005 [10:52<1:13:58,  5.10s/it]"
     ]
    },
    {
     "name": "stdout",
     "output_type": "stream",
     "text": [
      "Success for img(1024)_n.png:\n",
      "Testing 0 img(1024)_n\n",
      "\n"
     ]
    },
    {
     "name": "stderr",
     "output_type": "stream",
     "text": [
      "Processing train inputs:  13%|██████▉                                             | 135/1005 [10:58<1:20:51,  5.58s/it]"
     ]
    },
    {
     "name": "stdout",
     "output_type": "stream",
     "text": [
      "Success for img(1024)_r.png:\n",
      "Testing 0 img(1024)_r\n",
      "\n"
     ]
    },
    {
     "name": "stderr",
     "output_type": "stream",
     "text": [
      "Processing train inputs:  14%|███████                                             | 137/1005 [11:05<1:07:34,  4.67s/it]"
     ]
    },
    {
     "name": "stdout",
     "output_type": "stream",
     "text": [
      "Success for img(1025)_b.png:\n",
      "Testing 0 img(1025)_b\n",
      "\n"
     ]
    },
    {
     "name": "stderr",
     "output_type": "stream",
     "text": [
      "Processing train inputs:  14%|███████▏                                            | 138/1005 [11:13<1:16:34,  5.30s/it]"
     ]
    },
    {
     "name": "stdout",
     "output_type": "stream",
     "text": [
      "Success for img(1025)_g.png:\n",
      "Testing 0 img(1025)_g\n",
      "\n"
     ]
    },
    {
     "name": "stderr",
     "output_type": "stream",
     "text": [
      "Processing train inputs:  14%|███████▏                                            | 139/1005 [11:20<1:21:42,  5.66s/it]"
     ]
    },
    {
     "name": "stdout",
     "output_type": "stream",
     "text": [
      "Success for img(1025)_n.png:\n",
      "Testing 0 img(1025)_n\n",
      "\n"
     ]
    },
    {
     "name": "stderr",
     "output_type": "stream",
     "text": [
      "Processing train inputs:  14%|███████▏                                            | 140/1005 [11:26<1:23:45,  5.81s/it]"
     ]
    },
    {
     "name": "stdout",
     "output_type": "stream",
     "text": [
      "Success for img(1025)_r.png:\n",
      "Testing 0 img(1025)_r\n",
      "\n"
     ]
    },
    {
     "name": "stderr",
     "output_type": "stream",
     "text": [
      "Processing train inputs:  14%|███████▎                                            | 142/1005 [11:32<1:06:23,  4.62s/it]"
     ]
    },
    {
     "name": "stdout",
     "output_type": "stream",
     "text": [
      "Success for img(1026)_b.png:\n",
      "Testing 0 img(1026)_b\n",
      "\n"
     ]
    },
    {
     "name": "stderr",
     "output_type": "stream",
     "text": [
      "Processing train inputs:  14%|███████▍                                            | 143/1005 [11:38<1:11:23,  4.97s/it]"
     ]
    },
    {
     "name": "stdout",
     "output_type": "stream",
     "text": [
      "Success for img(1026)_g.png:\n",
      "Testing 0 img(1026)_g\n",
      "\n"
     ]
    },
    {
     "name": "stderr",
     "output_type": "stream",
     "text": [
      "Processing train inputs:  14%|███████▍                                            | 144/1005 [11:44<1:15:54,  5.29s/it]"
     ]
    },
    {
     "name": "stdout",
     "output_type": "stream",
     "text": [
      "Success for img(1026)_n.png:\n",
      "Testing 0 img(1026)_n\n",
      "\n"
     ]
    },
    {
     "name": "stderr",
     "output_type": "stream",
     "text": [
      "Processing train inputs:  14%|███████▌                                            | 145/1005 [11:50<1:19:32,  5.55s/it]"
     ]
    },
    {
     "name": "stdout",
     "output_type": "stream",
     "text": [
      "Success for img(1026)_r.png:\n",
      "Testing 0 img(1026)_r\n",
      "\n"
     ]
    },
    {
     "name": "stderr",
     "output_type": "stream",
     "text": [
      "Processing train inputs:  15%|███████▌                                            | 147/1005 [11:56<1:03:43,  4.46s/it]"
     ]
    },
    {
     "name": "stdout",
     "output_type": "stream",
     "text": [
      "Success for img(1027)_b.png:\n",
      "Testing 0 img(1027)_b\n",
      "\n"
     ]
    },
    {
     "name": "stderr",
     "output_type": "stream",
     "text": [
      "Processing train inputs:  15%|███████▋                                            | 148/1005 [12:02<1:08:56,  4.83s/it]"
     ]
    },
    {
     "name": "stdout",
     "output_type": "stream",
     "text": [
      "Success for img(1027)_g.png:\n",
      "Testing 0 img(1027)_g\n",
      "\n"
     ]
    },
    {
     "name": "stderr",
     "output_type": "stream",
     "text": [
      "Processing train inputs:  15%|███████▋                                            | 149/1005 [12:09<1:13:18,  5.14s/it]"
     ]
    },
    {
     "name": "stdout",
     "output_type": "stream",
     "text": [
      "Success for img(1027)_n.png:\n",
      "Testing 0 img(1027)_n\n",
      "\n"
     ]
    },
    {
     "name": "stderr",
     "output_type": "stream",
     "text": [
      "Processing train inputs:  15%|███████▊                                            | 150/1005 [12:15<1:18:12,  5.49s/it]"
     ]
    },
    {
     "name": "stdout",
     "output_type": "stream",
     "text": [
      "Success for img(1027)_r.png:\n",
      "Testing 0 img(1027)_r\n",
      "\n"
     ]
    },
    {
     "name": "stderr",
     "output_type": "stream",
     "text": [
      "Processing train inputs:  15%|███████▊                                            | 152/1005 [12:21<1:04:03,  4.51s/it]"
     ]
    },
    {
     "name": "stdout",
     "output_type": "stream",
     "text": [
      "Success for img(1028)_b.png:\n",
      "Testing 0 img(1028)_b\n",
      "\n"
     ]
    },
    {
     "name": "stderr",
     "output_type": "stream",
     "text": [
      "Processing train inputs:  15%|███████▉                                            | 153/1005 [12:27<1:09:10,  4.87s/it]"
     ]
    },
    {
     "name": "stdout",
     "output_type": "stream",
     "text": [
      "Success for img(1028)_g.png:\n",
      "Testing 0 img(1028)_g\n",
      "\n"
     ]
    },
    {
     "name": "stderr",
     "output_type": "stream",
     "text": [
      "Processing train inputs:  15%|███████▉                                            | 154/1005 [12:33<1:13:10,  5.16s/it]"
     ]
    },
    {
     "name": "stdout",
     "output_type": "stream",
     "text": [
      "Success for img(1028)_n.png:\n",
      "Testing 0 img(1028)_n\n",
      "\n"
     ]
    },
    {
     "name": "stderr",
     "output_type": "stream",
     "text": [
      "Processing train inputs:  15%|████████                                            | 155/1005 [12:39<1:16:14,  5.38s/it]"
     ]
    },
    {
     "name": "stdout",
     "output_type": "stream",
     "text": [
      "Success for img(1028)_r.png:\n",
      "Testing 0 img(1028)_r\n",
      "\n"
     ]
    },
    {
     "name": "stderr",
     "output_type": "stream",
     "text": [
      "Processing train inputs:  16%|████████                                            | 157/1005 [12:45<1:01:32,  4.35s/it]"
     ]
    },
    {
     "name": "stdout",
     "output_type": "stream",
     "text": [
      "Success for img(1029)_b.png:\n",
      "Testing 0 img(1029)_b\n",
      "\n"
     ]
    },
    {
     "name": "stderr",
     "output_type": "stream",
     "text": [
      "Processing train inputs:  16%|████████▏                                           | 158/1005 [12:51<1:06:55,  4.74s/it]"
     ]
    },
    {
     "name": "stdout",
     "output_type": "stream",
     "text": [
      "Success for img(1029)_g.png:\n",
      "Testing 0 img(1029)_g\n",
      "\n"
     ]
    },
    {
     "name": "stderr",
     "output_type": "stream",
     "text": [
      "Processing train inputs:  16%|████████▏                                           | 159/1005 [12:58<1:11:28,  5.07s/it]"
     ]
    },
    {
     "name": "stdout",
     "output_type": "stream",
     "text": [
      "Success for img(1029)_n.png:\n",
      "Testing 0 img(1029)_n\n",
      "\n"
     ]
    },
    {
     "name": "stderr",
     "output_type": "stream",
     "text": [
      "Processing train inputs:  16%|████████▎                                           | 160/1005 [13:04<1:14:50,  5.31s/it]"
     ]
    },
    {
     "name": "stdout",
     "output_type": "stream",
     "text": [
      "Success for img(1029)_r.png:\n",
      "Testing 0 img(1029)_r\n",
      "\n"
     ]
    },
    {
     "name": "stderr",
     "output_type": "stream",
     "text": [
      "Processing train inputs:  16%|████████▍                                           | 162/1005 [13:10<1:01:41,  4.39s/it]"
     ]
    },
    {
     "name": "stdout",
     "output_type": "stream",
     "text": [
      "Success for img(103)_b.png:\n",
      "Testing 0 img(103)_b\n",
      "\n"
     ]
    },
    {
     "name": "stderr",
     "output_type": "stream",
     "text": [
      "Processing train inputs:  16%|████████▍                                           | 163/1005 [13:16<1:07:15,  4.79s/it]"
     ]
    },
    {
     "name": "stdout",
     "output_type": "stream",
     "text": [
      "Success for img(103)_g.png:\n",
      "Testing 0 img(103)_g\n",
      "\n"
     ]
    },
    {
     "name": "stderr",
     "output_type": "stream",
     "text": [
      "Processing train inputs:  16%|████████▍                                           | 164/1005 [13:22<1:11:46,  5.12s/it]"
     ]
    },
    {
     "name": "stdout",
     "output_type": "stream",
     "text": [
      "Success for img(103)_n.png:\n",
      "Testing 0 img(103)_n\n",
      "\n"
     ]
    },
    {
     "name": "stderr",
     "output_type": "stream",
     "text": [
      "Processing train inputs:  16%|████████▌                                           | 165/1005 [13:28<1:15:18,  5.38s/it]"
     ]
    },
    {
     "name": "stdout",
     "output_type": "stream",
     "text": [
      "Success for img(103)_r.png:\n",
      "Testing 0 img(103)_r\n",
      "\n"
     ]
    },
    {
     "name": "stderr",
     "output_type": "stream",
     "text": [
      "Processing train inputs:  17%|████████▋                                           | 167/1005 [13:34<1:00:44,  4.35s/it]"
     ]
    },
    {
     "name": "stdout",
     "output_type": "stream",
     "text": [
      "Success for img(1030)_b.png:\n",
      "Testing 0 img(1030)_b\n",
      "\n"
     ]
    },
    {
     "name": "stderr",
     "output_type": "stream",
     "text": [
      "Processing train inputs:  17%|████████▋                                           | 168/1005 [13:41<1:07:57,  4.87s/it]"
     ]
    },
    {
     "name": "stdout",
     "output_type": "stream",
     "text": [
      "Success for img(1030)_g.png:\n",
      "Testing 0 img(1030)_g\n",
      "\n"
     ]
    },
    {
     "name": "stderr",
     "output_type": "stream",
     "text": [
      "Processing train inputs:  17%|████████▋                                           | 169/1005 [13:47<1:11:50,  5.16s/it]"
     ]
    },
    {
     "name": "stdout",
     "output_type": "stream",
     "text": [
      "Success for img(1030)_n.png:\n",
      "Testing 0 img(1030)_n\n",
      "\n"
     ]
    },
    {
     "name": "stderr",
     "output_type": "stream",
     "text": [
      "Processing train inputs:  17%|████████▊                                           | 170/1005 [13:53<1:15:03,  5.39s/it]"
     ]
    },
    {
     "name": "stdout",
     "output_type": "stream",
     "text": [
      "Success for img(1030)_r.png:\n",
      "Testing 0 img(1030)_r\n",
      "\n"
     ]
    },
    {
     "name": "stderr",
     "output_type": "stream",
     "text": [
      "Processing train inputs:  17%|████████▉                                           | 172/1005 [13:59<1:01:54,  4.46s/it]"
     ]
    },
    {
     "name": "stdout",
     "output_type": "stream",
     "text": [
      "Success for img(1031)_b.png:\n",
      "Testing 0 img(1031)_b\n",
      "\n"
     ]
    },
    {
     "name": "stderr",
     "output_type": "stream",
     "text": [
      "Processing train inputs:  17%|████████▉                                           | 173/1005 [14:05<1:07:07,  4.84s/it]"
     ]
    },
    {
     "name": "stdout",
     "output_type": "stream",
     "text": [
      "Success for img(1031)_g.png:\n",
      "Testing 0 img(1031)_g\n",
      "\n"
     ]
    },
    {
     "name": "stderr",
     "output_type": "stream",
     "text": [
      "Processing train inputs:  17%|█████████                                           | 174/1005 [14:11<1:11:45,  5.18s/it]"
     ]
    },
    {
     "name": "stdout",
     "output_type": "stream",
     "text": [
      "Success for img(1031)_n.png:\n",
      "Testing 0 img(1031)_n\n",
      "\n"
     ]
    },
    {
     "name": "stderr",
     "output_type": "stream",
     "text": [
      "Processing train inputs:  17%|█████████                                           | 175/1005 [14:18<1:15:02,  5.43s/it]"
     ]
    },
    {
     "name": "stdout",
     "output_type": "stream",
     "text": [
      "Success for img(1031)_r.png:\n",
      "Testing 0 img(1031)_r\n",
      "\n"
     ]
    },
    {
     "name": "stderr",
     "output_type": "stream",
     "text": [
      "Processing train inputs:  18%|█████████▏                                          | 177/1005 [14:24<1:00:49,  4.41s/it]"
     ]
    },
    {
     "name": "stdout",
     "output_type": "stream",
     "text": [
      "Success for img(1032)_b.png:\n",
      "Testing 0 img(1032)_b\n",
      "\n"
     ]
    },
    {
     "name": "stderr",
     "output_type": "stream",
     "text": [
      "Processing train inputs:  18%|█████████▏                                          | 178/1005 [14:30<1:06:19,  4.81s/it]"
     ]
    },
    {
     "name": "stdout",
     "output_type": "stream",
     "text": [
      "Success for img(1032)_g.png:\n",
      "Testing 0 img(1032)_g\n",
      "\n"
     ]
    },
    {
     "name": "stderr",
     "output_type": "stream",
     "text": [
      "Processing train inputs:  18%|█████████▎                                          | 179/1005 [14:36<1:11:05,  5.16s/it]"
     ]
    },
    {
     "name": "stdout",
     "output_type": "stream",
     "text": [
      "Success for img(1032)_n.png:\n",
      "Testing 0 img(1032)_n\n",
      "\n"
     ]
    },
    {
     "name": "stderr",
     "output_type": "stream",
     "text": [
      "Processing train inputs:  18%|█████████▎                                          | 180/1005 [14:42<1:14:08,  5.39s/it]"
     ]
    },
    {
     "name": "stdout",
     "output_type": "stream",
     "text": [
      "Success for img(1032)_r.png:\n",
      "Testing 0 img(1032)_r\n",
      "\n"
     ]
    },
    {
     "name": "stderr",
     "output_type": "stream",
     "text": [
      "Processing train inputs:  18%|█████████▊                                            | 182/1005 [14:48<59:52,  4.36s/it]"
     ]
    },
    {
     "name": "stdout",
     "output_type": "stream",
     "text": [
      "Success for img(1033)_b.png:\n",
      "Testing 0 img(1033)_b\n",
      "\n"
     ]
    },
    {
     "name": "stderr",
     "output_type": "stream",
     "text": [
      "Processing train inputs:  18%|█████████▍                                          | 183/1005 [14:54<1:05:27,  4.78s/it]"
     ]
    },
    {
     "name": "stdout",
     "output_type": "stream",
     "text": [
      "Success for img(1033)_g.png:\n",
      "Testing 0 img(1033)_g\n",
      "\n"
     ]
    },
    {
     "name": "stderr",
     "output_type": "stream",
     "text": [
      "Processing train inputs:  18%|█████████▌                                          | 184/1005 [15:00<1:09:30,  5.08s/it]"
     ]
    },
    {
     "name": "stdout",
     "output_type": "stream",
     "text": [
      "Success for img(1033)_n.png:\n",
      "Testing 0 img(1033)_n\n",
      "\n"
     ]
    },
    {
     "name": "stderr",
     "output_type": "stream",
     "text": [
      "Processing train inputs:  18%|█████████▌                                          | 185/1005 [15:06<1:12:41,  5.32s/it]"
     ]
    },
    {
     "name": "stdout",
     "output_type": "stream",
     "text": [
      "Success for img(1033)_r.png:\n",
      "Testing 0 img(1033)_r\n",
      "\n"
     ]
    },
    {
     "name": "stderr",
     "output_type": "stream",
     "text": [
      "Processing train inputs:  19%|██████████                                            | 187/1005 [15:12<58:47,  4.31s/it]"
     ]
    },
    {
     "name": "stdout",
     "output_type": "stream",
     "text": [
      "Success for img(1034)_b.png:\n",
      "Testing 0 img(1034)_b\n",
      "\n"
     ]
    },
    {
     "name": "stderr",
     "output_type": "stream",
     "text": [
      "Processing train inputs:  19%|█████████▋                                          | 188/1005 [15:19<1:05:26,  4.81s/it]"
     ]
    },
    {
     "name": "stdout",
     "output_type": "stream",
     "text": [
      "Success for img(1034)_g.png:\n",
      "Testing 0 img(1034)_g\n",
      "\n"
     ]
    },
    {
     "name": "stderr",
     "output_type": "stream",
     "text": [
      "Processing train inputs:  19%|█████████▊                                          | 189/1005 [15:25<1:09:38,  5.12s/it]"
     ]
    },
    {
     "name": "stdout",
     "output_type": "stream",
     "text": [
      "Success for img(1034)_n.png:\n",
      "Testing 0 img(1034)_n\n",
      "\n"
     ]
    },
    {
     "name": "stderr",
     "output_type": "stream",
     "text": [
      "Processing train inputs:  19%|█████████▊                                          | 190/1005 [15:31<1:13:44,  5.43s/it]"
     ]
    },
    {
     "name": "stdout",
     "output_type": "stream",
     "text": [
      "Success for img(1034)_r.png:\n",
      "Testing 0 img(1034)_r\n",
      "\n"
     ]
    },
    {
     "name": "stderr",
     "output_type": "stream",
     "text": [
      "Processing train inputs:  19%|█████████▉                                          | 192/1005 [15:37<1:00:26,  4.46s/it]"
     ]
    },
    {
     "name": "stdout",
     "output_type": "stream",
     "text": [
      "Success for img(1035)_b.png:\n",
      "Testing 0 img(1035)_b\n",
      "\n"
     ]
    },
    {
     "name": "stderr",
     "output_type": "stream",
     "text": [
      "Processing train inputs:  19%|█████████▉                                          | 193/1005 [15:43<1:05:23,  4.83s/it]"
     ]
    },
    {
     "name": "stdout",
     "output_type": "stream",
     "text": [
      "Success for img(1035)_g.png:\n",
      "Testing 0 img(1035)_g\n",
      "\n"
     ]
    },
    {
     "name": "stderr",
     "output_type": "stream",
     "text": [
      "Processing train inputs:  19%|██████████                                          | 194/1005 [15:49<1:09:26,  5.14s/it]"
     ]
    },
    {
     "name": "stdout",
     "output_type": "stream",
     "text": [
      "Success for img(1035)_n.png:\n",
      "Testing 0 img(1035)_n\n",
      "\n"
     ]
    },
    {
     "name": "stderr",
     "output_type": "stream",
     "text": [
      "Processing train inputs:  19%|██████████                                          | 195/1005 [15:55<1:12:23,  5.36s/it]"
     ]
    },
    {
     "name": "stdout",
     "output_type": "stream",
     "text": [
      "Success for img(1035)_r.png:\n",
      "Testing 0 img(1035)_r\n",
      "\n"
     ]
    },
    {
     "name": "stderr",
     "output_type": "stream",
     "text": [
      "Processing train inputs:  20%|██████████▌                                           | 197/1005 [16:01<58:40,  4.36s/it]"
     ]
    },
    {
     "name": "stdout",
     "output_type": "stream",
     "text": [
      "Success for img(1036)_b.png:\n",
      "Testing 0 img(1036)_b\n",
      "\n"
     ]
    },
    {
     "name": "stderr",
     "output_type": "stream",
     "text": [
      "Processing train inputs:  20%|██████████▏                                         | 198/1005 [16:07<1:03:57,  4.76s/it]"
     ]
    },
    {
     "name": "stdout",
     "output_type": "stream",
     "text": [
      "Success for img(1036)_g.png:\n",
      "Testing 0 img(1036)_g\n",
      "\n"
     ]
    },
    {
     "name": "stderr",
     "output_type": "stream",
     "text": [
      "Processing train inputs:  20%|██████████▎                                         | 199/1005 [16:13<1:08:15,  5.08s/it]"
     ]
    },
    {
     "name": "stdout",
     "output_type": "stream",
     "text": [
      "Success for img(1036)_n.png:\n",
      "Testing 0 img(1036)_n\n",
      "\n"
     ]
    },
    {
     "name": "stderr",
     "output_type": "stream",
     "text": [
      "Processing train inputs:  20%|██████████▎                                         | 200/1005 [16:19<1:11:28,  5.33s/it]"
     ]
    },
    {
     "name": "stdout",
     "output_type": "stream",
     "text": [
      "Success for img(1036)_r.png:\n",
      "Testing 0 img(1036)_r\n",
      "\n"
     ]
    },
    {
     "name": "stderr",
     "output_type": "stream",
     "text": [
      "Processing train inputs:  20%|██████████▊                                           | 202/1005 [16:26<57:58,  4.33s/it]"
     ]
    },
    {
     "name": "stdout",
     "output_type": "stream",
     "text": [
      "Success for img(1037)_b.png:\n",
      "Testing 0 img(1037)_b\n",
      "\n"
     ]
    },
    {
     "name": "stderr",
     "output_type": "stream",
     "text": [
      "Processing train inputs:  20%|██████████▌                                         | 203/1005 [16:31<1:03:04,  4.72s/it]"
     ]
    },
    {
     "name": "stdout",
     "output_type": "stream",
     "text": [
      "Success for img(1037)_g.png:\n",
      "Testing 0 img(1037)_g\n",
      "\n"
     ]
    },
    {
     "name": "stderr",
     "output_type": "stream",
     "text": [
      "Processing train inputs:  20%|██████████▌                                         | 204/1005 [16:37<1:07:10,  5.03s/it]"
     ]
    },
    {
     "name": "stdout",
     "output_type": "stream",
     "text": [
      "Success for img(1037)_n.png:\n",
      "Testing 0 img(1037)_n\n",
      "\n"
     ]
    },
    {
     "name": "stderr",
     "output_type": "stream",
     "text": [
      "Processing train inputs:  20%|██████████▌                                         | 205/1005 [16:43<1:10:25,  5.28s/it]"
     ]
    },
    {
     "name": "stdout",
     "output_type": "stream",
     "text": [
      "Success for img(1037)_r.png:\n",
      "Testing 0 img(1037)_r\n",
      "\n"
     ]
    },
    {
     "name": "stderr",
     "output_type": "stream",
     "text": [
      "Processing train inputs:  21%|███████████                                           | 207/1005 [16:50<57:27,  4.32s/it]"
     ]
    },
    {
     "name": "stdout",
     "output_type": "stream",
     "text": [
      "Success for img(1038)_b.png:\n",
      "Testing 0 img(1038)_b\n",
      "\n"
     ]
    },
    {
     "name": "stderr",
     "output_type": "stream",
     "text": [
      "Processing train inputs:  21%|██████████▊                                         | 208/1005 [16:56<1:03:00,  4.74s/it]"
     ]
    },
    {
     "name": "stdout",
     "output_type": "stream",
     "text": [
      "Success for img(1038)_g.png:\n",
      "Testing 0 img(1038)_g\n",
      "\n"
     ]
    },
    {
     "name": "stderr",
     "output_type": "stream",
     "text": [
      "Processing train inputs:  21%|██████████▊                                         | 209/1005 [17:02<1:07:18,  5.07s/it]"
     ]
    },
    {
     "name": "stdout",
     "output_type": "stream",
     "text": [
      "Success for img(1038)_n.png:\n",
      "Testing 0 img(1038)_n\n",
      "\n"
     ]
    },
    {
     "name": "stderr",
     "output_type": "stream",
     "text": [
      "Processing train inputs:  21%|██████████▊                                         | 210/1005 [17:08<1:10:23,  5.31s/it]"
     ]
    },
    {
     "name": "stdout",
     "output_type": "stream",
     "text": [
      "Success for img(1038)_r.png:\n",
      "Testing 0 img(1038)_r\n",
      "\n"
     ]
    },
    {
     "name": "stderr",
     "output_type": "stream",
     "text": [
      "Processing train inputs:  21%|███████████▍                                          | 212/1005 [17:14<57:11,  4.33s/it]"
     ]
    },
    {
     "name": "stdout",
     "output_type": "stream",
     "text": [
      "Success for img(1039)_b.png:\n",
      "Testing 0 img(1039)_b\n",
      "\n"
     ]
    },
    {
     "name": "stderr",
     "output_type": "stream",
     "text": [
      "Processing train inputs:  21%|███████████                                         | 213/1005 [17:20<1:02:43,  4.75s/it]"
     ]
    },
    {
     "name": "stdout",
     "output_type": "stream",
     "text": [
      "Success for img(1039)_g.png:\n",
      "Testing 0 img(1039)_g\n",
      "\n"
     ]
    },
    {
     "name": "stderr",
     "output_type": "stream",
     "text": [
      "Processing train inputs:  21%|███████████                                         | 214/1005 [17:26<1:07:22,  5.11s/it]"
     ]
    },
    {
     "name": "stdout",
     "output_type": "stream",
     "text": [
      "Success for img(1039)_n.png:\n",
      "Testing 0 img(1039)_n\n",
      "\n"
     ]
    },
    {
     "name": "stderr",
     "output_type": "stream",
     "text": [
      "Processing train inputs:  21%|███████████                                         | 215/1005 [17:32<1:10:24,  5.35s/it]"
     ]
    },
    {
     "name": "stdout",
     "output_type": "stream",
     "text": [
      "Success for img(1039)_r.png:\n",
      "Testing 0 img(1039)_r\n",
      "\n"
     ]
    },
    {
     "name": "stderr",
     "output_type": "stream",
     "text": [
      "Processing train inputs:  22%|███████████▋                                          | 217/1005 [17:38<57:05,  4.35s/it]"
     ]
    },
    {
     "name": "stdout",
     "output_type": "stream",
     "text": [
      "Success for img(104)_b.png:\n",
      "Testing 0 img(104)_b\n",
      "\n"
     ]
    },
    {
     "name": "stderr",
     "output_type": "stream",
     "text": [
      "Processing train inputs:  22%|███████████▎                                        | 218/1005 [17:44<1:01:58,  4.72s/it]"
     ]
    },
    {
     "name": "stdout",
     "output_type": "stream",
     "text": [
      "Success for img(104)_g.png:\n",
      "Testing 0 img(104)_g\n",
      "\n"
     ]
    },
    {
     "name": "stderr",
     "output_type": "stream",
     "text": [
      "Processing train inputs:  22%|███████████▎                                        | 219/1005 [17:50<1:05:58,  5.04s/it]"
     ]
    },
    {
     "name": "stdout",
     "output_type": "stream",
     "text": [
      "Success for img(104)_n.png:\n",
      "Testing 0 img(104)_n\n",
      "\n"
     ]
    },
    {
     "name": "stderr",
     "output_type": "stream",
     "text": [
      "Processing train inputs:  22%|███████████▍                                        | 220/1005 [17:56<1:09:06,  5.28s/it]"
     ]
    },
    {
     "name": "stdout",
     "output_type": "stream",
     "text": [
      "Success for img(104)_r.png:\n",
      "Testing 0 img(104)_r\n",
      "\n"
     ]
    },
    {
     "name": "stderr",
     "output_type": "stream",
     "text": [
      "Processing train inputs:  22%|███████████▉                                          | 222/1005 [18:02<55:58,  4.29s/it]"
     ]
    },
    {
     "name": "stdout",
     "output_type": "stream",
     "text": [
      "Success for img(1040)_b.png:\n",
      "Testing 0 img(1040)_b\n",
      "\n"
     ]
    },
    {
     "name": "stderr",
     "output_type": "stream",
     "text": [
      "Processing train inputs:  22%|███████████▌                                        | 223/1005 [18:08<1:01:04,  4.69s/it]"
     ]
    },
    {
     "name": "stdout",
     "output_type": "stream",
     "text": [
      "Success for img(1040)_g.png:\n",
      "Testing 0 img(1040)_g\n",
      "\n"
     ]
    },
    {
     "name": "stderr",
     "output_type": "stream",
     "text": [
      "Processing train inputs:  22%|███████████▌                                        | 224/1005 [18:14<1:05:14,  5.01s/it]"
     ]
    },
    {
     "name": "stdout",
     "output_type": "stream",
     "text": [
      "Success for img(1040)_n.png:\n",
      "Testing 0 img(1040)_n\n",
      "\n"
     ]
    },
    {
     "name": "stderr",
     "output_type": "stream",
     "text": [
      "Processing train inputs:  22%|███████████▋                                        | 225/1005 [18:20<1:08:27,  5.27s/it]"
     ]
    },
    {
     "name": "stdout",
     "output_type": "stream",
     "text": [
      "Success for img(1040)_r.png:\n",
      "Testing 0 img(1040)_r\n",
      "\n"
     ]
    },
    {
     "name": "stderr",
     "output_type": "stream",
     "text": [
      "Processing train inputs:  23%|████████████▏                                         | 227/1005 [18:26<55:33,  4.28s/it]"
     ]
    },
    {
     "name": "stdout",
     "output_type": "stream",
     "text": [
      "Success for img(1041)_b.png:\n",
      "Testing 0 img(1041)_b\n",
      "\n"
     ]
    },
    {
     "name": "stderr",
     "output_type": "stream",
     "text": [
      "Processing train inputs:  23%|███████████▊                                        | 228/1005 [18:32<1:00:53,  4.70s/it]"
     ]
    },
    {
     "name": "stdout",
     "output_type": "stream",
     "text": [
      "Success for img(1041)_g.png:\n",
      "Testing 0 img(1041)_g\n",
      "\n"
     ]
    },
    {
     "name": "stderr",
     "output_type": "stream",
     "text": [
      "Processing train inputs:  23%|███████████▊                                        | 229/1005 [18:38<1:05:00,  5.03s/it]"
     ]
    },
    {
     "name": "stdout",
     "output_type": "stream",
     "text": [
      "Success for img(1041)_n.png:\n",
      "Testing 0 img(1041)_n\n",
      "\n"
     ]
    },
    {
     "name": "stderr",
     "output_type": "stream",
     "text": [
      "Processing train inputs:  23%|███████████▉                                        | 230/1005 [18:44<1:08:21,  5.29s/it]"
     ]
    },
    {
     "name": "stdout",
     "output_type": "stream",
     "text": [
      "Success for img(1041)_r.png:\n",
      "Testing 0 img(1041)_r\n",
      "\n"
     ]
    },
    {
     "name": "stderr",
     "output_type": "stream",
     "text": [
      "Processing train inputs:  23%|████████████▍                                         | 232/1005 [18:50<55:34,  4.31s/it]"
     ]
    },
    {
     "name": "stdout",
     "output_type": "stream",
     "text": [
      "Success for img(1042)_b.png:\n",
      "Testing 0 img(1042)_b\n",
      "\n"
     ]
    },
    {
     "name": "stderr",
     "output_type": "stream",
     "text": [
      "Processing train inputs:  23%|████████████                                        | 233/1005 [18:56<1:01:14,  4.76s/it]"
     ]
    },
    {
     "name": "stdout",
     "output_type": "stream",
     "text": [
      "Success for img(1042)_g.png:\n",
      "Testing 0 img(1042)_g\n",
      "\n"
     ]
    },
    {
     "name": "stderr",
     "output_type": "stream",
     "text": [
      "Processing train inputs:  23%|████████████                                        | 234/1005 [19:02<1:05:23,  5.09s/it]"
     ]
    },
    {
     "name": "stdout",
     "output_type": "stream",
     "text": [
      "Success for img(1042)_n.png:\n",
      "Testing 0 img(1042)_n\n",
      "\n"
     ]
    },
    {
     "name": "stderr",
     "output_type": "stream",
     "text": [
      "Processing train inputs:  23%|████████████▏                                       | 235/1005 [19:08<1:08:31,  5.34s/it]"
     ]
    },
    {
     "name": "stdout",
     "output_type": "stream",
     "text": [
      "Success for img(1042)_r.png:\n",
      "Testing 0 img(1042)_r\n",
      "\n"
     ]
    },
    {
     "name": "stderr",
     "output_type": "stream",
     "text": [
      "Processing train inputs:  24%|████████████▋                                         | 237/1005 [19:14<55:29,  4.34s/it]"
     ]
    },
    {
     "name": "stdout",
     "output_type": "stream",
     "text": [
      "Success for img(1043)_b.png:\n",
      "Testing 0 img(1043)_b\n",
      "\n"
     ]
    },
    {
     "name": "stderr",
     "output_type": "stream",
     "text": [
      "Processing train inputs:  24%|████████████▎                                       | 238/1005 [19:20<1:00:35,  4.74s/it]"
     ]
    },
    {
     "name": "stdout",
     "output_type": "stream",
     "text": [
      "Success for img(1043)_g.png:\n",
      "Testing 0 img(1043)_g\n",
      "\n"
     ]
    },
    {
     "name": "stderr",
     "output_type": "stream",
     "text": [
      "Processing train inputs:  24%|████████████▎                                       | 239/1005 [19:26<1:04:47,  5.07s/it]"
     ]
    },
    {
     "name": "stdout",
     "output_type": "stream",
     "text": [
      "Success for img(1043)_n.png:\n",
      "Testing 0 img(1043)_n\n",
      "\n"
     ]
    },
    {
     "name": "stderr",
     "output_type": "stream",
     "text": [
      "Processing train inputs:  24%|████████████▍                                       | 240/1005 [19:32<1:07:52,  5.32s/it]"
     ]
    },
    {
     "name": "stdout",
     "output_type": "stream",
     "text": [
      "Success for img(1043)_r.png:\n",
      "Testing 0 img(1043)_r\n",
      "\n"
     ]
    },
    {
     "name": "stderr",
     "output_type": "stream",
     "text": [
      "Processing train inputs:  24%|█████████████                                         | 242/1005 [19:39<55:20,  4.35s/it]"
     ]
    },
    {
     "name": "stdout",
     "output_type": "stream",
     "text": [
      "Success for img(1044)_b.png:\n",
      "Testing 0 img(1044)_b\n",
      "\n"
     ]
    },
    {
     "name": "stderr",
     "output_type": "stream",
     "text": [
      "Processing train inputs:  24%|████████████▌                                       | 243/1005 [19:45<1:00:15,  4.74s/it]"
     ]
    },
    {
     "name": "stdout",
     "output_type": "stream",
     "text": [
      "Success for img(1044)_g.png:\n",
      "Testing 0 img(1044)_g\n",
      "\n"
     ]
    },
    {
     "name": "stderr",
     "output_type": "stream",
     "text": [
      "Processing train inputs:  24%|████████████▌                                       | 244/1005 [19:51<1:04:21,  5.07s/it]"
     ]
    },
    {
     "name": "stdout",
     "output_type": "stream",
     "text": [
      "Success for img(1044)_n.png:\n",
      "Testing 0 img(1044)_n\n",
      "\n"
     ]
    },
    {
     "name": "stderr",
     "output_type": "stream",
     "text": [
      "Processing train inputs:  24%|████████████▋                                       | 245/1005 [19:57<1:07:40,  5.34s/it]"
     ]
    },
    {
     "name": "stdout",
     "output_type": "stream",
     "text": [
      "Success for img(1044)_r.png:\n",
      "Testing 0 img(1044)_r\n",
      "\n"
     ]
    },
    {
     "name": "stderr",
     "output_type": "stream",
     "text": [
      "Processing train inputs:  25%|█████████████▎                                        | 247/1005 [20:03<54:35,  4.32s/it]"
     ]
    },
    {
     "name": "stdout",
     "output_type": "stream",
     "text": [
      "Success for img(1045)_b.png:\n",
      "Testing 0 img(1045)_b\n",
      "\n"
     ]
    },
    {
     "name": "stderr",
     "output_type": "stream",
     "text": [
      "Processing train inputs:  25%|█████████████▎                                        | 248/1005 [20:09<59:36,  4.72s/it]"
     ]
    },
    {
     "name": "stdout",
     "output_type": "stream",
     "text": [
      "Success for img(1045)_g.png:\n",
      "Testing 0 img(1045)_g\n",
      "\n"
     ]
    },
    {
     "name": "stderr",
     "output_type": "stream",
     "text": [
      "Processing train inputs:  25%|████████████▉                                       | 249/1005 [20:15<1:03:38,  5.05s/it]"
     ]
    },
    {
     "name": "stdout",
     "output_type": "stream",
     "text": [
      "Success for img(1045)_n.png:\n",
      "Testing 0 img(1045)_n\n",
      "\n"
     ]
    },
    {
     "name": "stderr",
     "output_type": "stream",
     "text": [
      "Processing train inputs:  25%|████████████▉                                       | 250/1005 [20:21<1:06:43,  5.30s/it]"
     ]
    },
    {
     "name": "stdout",
     "output_type": "stream",
     "text": [
      "Success for img(1045)_r.png:\n",
      "Testing 0 img(1045)_r\n",
      "\n"
     ]
    },
    {
     "name": "stderr",
     "output_type": "stream",
     "text": [
      "Processing train inputs:  25%|█████████████▌                                        | 252/1005 [20:27<54:12,  4.32s/it]"
     ]
    },
    {
     "name": "stdout",
     "output_type": "stream",
     "text": [
      "Success for img(1046)_b.png:\n",
      "Testing 0 img(1046)_b\n",
      "\n"
     ]
    },
    {
     "name": "stderr",
     "output_type": "stream",
     "text": [
      "Processing train inputs:  25%|█████████████▌                                        | 253/1005 [20:33<58:55,  4.70s/it]"
     ]
    },
    {
     "name": "stdout",
     "output_type": "stream",
     "text": [
      "Success for img(1046)_g.png:\n",
      "Testing 0 img(1046)_g\n",
      "\n"
     ]
    },
    {
     "name": "stderr",
     "output_type": "stream",
     "text": [
      "Processing train inputs:  25%|█████████████▏                                      | 254/1005 [20:39<1:03:49,  5.10s/it]"
     ]
    },
    {
     "name": "stdout",
     "output_type": "stream",
     "text": [
      "Success for img(1046)_n.png:\n",
      "Testing 0 img(1046)_n\n",
      "\n"
     ]
    },
    {
     "name": "stderr",
     "output_type": "stream",
     "text": [
      "Processing train inputs:  25%|█████████████▏                                      | 255/1005 [20:46<1:10:03,  5.61s/it]"
     ]
    },
    {
     "name": "stdout",
     "output_type": "stream",
     "text": [
      "Success for img(1046)_r.png:\n",
      "Testing 0 img(1046)_r\n",
      "\n"
     ]
    },
    {
     "name": "stderr",
     "output_type": "stream",
     "text": [
      "Processing train inputs:  26%|█████████████▊                                        | 257/1005 [20:53<58:36,  4.70s/it]"
     ]
    },
    {
     "name": "stdout",
     "output_type": "stream",
     "text": [
      "Success for img(1047)_b.png:\n",
      "Testing 0 img(1047)_b\n",
      "\n"
     ]
    },
    {
     "name": "stderr",
     "output_type": "stream",
     "text": [
      "Processing train inputs:  26%|█████████████▎                                      | 258/1005 [21:00<1:05:37,  5.27s/it]"
     ]
    },
    {
     "name": "stdout",
     "output_type": "stream",
     "text": [
      "Success for img(1047)_g.png:\n",
      "Testing 0 img(1047)_g\n",
      "\n"
     ]
    },
    {
     "name": "stderr",
     "output_type": "stream",
     "text": [
      "Processing train inputs:  26%|█████████████▍                                      | 259/1005 [21:07<1:09:34,  5.60s/it]"
     ]
    },
    {
     "name": "stdout",
     "output_type": "stream",
     "text": [
      "Success for img(1047)_n.png:\n",
      "Testing 0 img(1047)_n\n",
      "\n"
     ]
    },
    {
     "name": "stderr",
     "output_type": "stream",
     "text": [
      "Processing train inputs:  26%|█████████████▍                                      | 260/1005 [21:13<1:11:37,  5.77s/it]"
     ]
    },
    {
     "name": "stdout",
     "output_type": "stream",
     "text": [
      "Success for img(1047)_r.png:\n",
      "Testing 0 img(1047)_r\n",
      "\n"
     ]
    },
    {
     "name": "stderr",
     "output_type": "stream",
     "text": [
      "Processing train inputs:  26%|██████████████                                        | 262/1005 [21:19<57:06,  4.61s/it]"
     ]
    },
    {
     "name": "stdout",
     "output_type": "stream",
     "text": [
      "Success for img(1048)_b.png:\n",
      "Testing 0 img(1048)_b\n",
      "\n"
     ]
    },
    {
     "name": "stderr",
     "output_type": "stream",
     "text": [
      "Processing train inputs:  26%|█████████████▌                                      | 263/1005 [21:25<1:02:05,  5.02s/it]"
     ]
    },
    {
     "name": "stdout",
     "output_type": "stream",
     "text": [
      "Success for img(1048)_g.png:\n",
      "Testing 0 img(1048)_g\n",
      "\n"
     ]
    },
    {
     "name": "stderr",
     "output_type": "stream",
     "text": [
      "Processing train inputs:  26%|█████████████▋                                      | 264/1005 [21:32<1:05:36,  5.31s/it]"
     ]
    },
    {
     "name": "stdout",
     "output_type": "stream",
     "text": [
      "Success for img(1048)_n.png:\n",
      "Testing 0 img(1048)_n\n",
      "\n"
     ]
    },
    {
     "name": "stderr",
     "output_type": "stream",
     "text": [
      "Processing train inputs:  26%|█████████████▋                                      | 265/1005 [21:38<1:07:50,  5.50s/it]"
     ]
    },
    {
     "name": "stdout",
     "output_type": "stream",
     "text": [
      "Success for img(1048)_r.png:\n",
      "Testing 0 img(1048)_r\n",
      "\n"
     ]
    },
    {
     "name": "stderr",
     "output_type": "stream",
     "text": [
      "Processing train inputs:  27%|██████████████▎                                       | 267/1005 [21:44<54:50,  4.46s/it]"
     ]
    },
    {
     "name": "stdout",
     "output_type": "stream",
     "text": [
      "Success for img(1049)_b.png:\n",
      "Testing 0 img(1049)_b\n",
      "\n"
     ]
    },
    {
     "name": "stderr",
     "output_type": "stream",
     "text": [
      "Processing train inputs:  27%|██████████████▍                                       | 268/1005 [21:50<59:12,  4.82s/it]"
     ]
    },
    {
     "name": "stdout",
     "output_type": "stream",
     "text": [
      "Success for img(1049)_g.png:\n",
      "Testing 0 img(1049)_g\n",
      "\n"
     ]
    },
    {
     "name": "stderr",
     "output_type": "stream",
     "text": [
      "Processing train inputs:  27%|█████████████▉                                      | 269/1005 [21:56<1:03:02,  5.14s/it]"
     ]
    },
    {
     "name": "stdout",
     "output_type": "stream",
     "text": [
      "Success for img(1049)_n.png:\n",
      "Testing 0 img(1049)_n\n",
      "\n"
     ]
    },
    {
     "name": "stderr",
     "output_type": "stream",
     "text": [
      "Processing train inputs:  27%|█████████████▉                                      | 270/1005 [22:02<1:06:18,  5.41s/it]"
     ]
    },
    {
     "name": "stdout",
     "output_type": "stream",
     "text": [
      "Success for img(1049)_r.png:\n",
      "Testing 0 img(1049)_r\n",
      "\n"
     ]
    },
    {
     "name": "stderr",
     "output_type": "stream",
     "text": [
      "Processing train inputs:  27%|██████████████▌                                       | 272/1005 [22:08<54:06,  4.43s/it]"
     ]
    },
    {
     "name": "stdout",
     "output_type": "stream",
     "text": [
      "Success for img(105)_b.png:\n",
      "Testing 0 img(105)_b\n",
      "\n"
     ]
    },
    {
     "name": "stderr",
     "output_type": "stream",
     "text": [
      "Processing train inputs:  27%|██████████████▋                                       | 273/1005 [22:14<58:54,  4.83s/it]"
     ]
    },
    {
     "name": "stdout",
     "output_type": "stream",
     "text": [
      "Success for img(105)_g.png:\n",
      "Testing 0 img(105)_g\n",
      "\n"
     ]
    },
    {
     "name": "stderr",
     "output_type": "stream",
     "text": [
      "Processing train inputs:  27%|██████████████▏                                     | 274/1005 [22:21<1:02:34,  5.14s/it]"
     ]
    },
    {
     "name": "stdout",
     "output_type": "stream",
     "text": [
      "Success for img(105)_n.png:\n",
      "Testing 0 img(105)_n\n",
      "\n"
     ]
    },
    {
     "name": "stderr",
     "output_type": "stream",
     "text": [
      "Processing train inputs:  27%|██████████████▏                                     | 275/1005 [22:27<1:05:39,  5.40s/it]"
     ]
    },
    {
     "name": "stdout",
     "output_type": "stream",
     "text": [
      "Success for img(105)_r.png:\n",
      "Testing 0 img(105)_r\n",
      "\n"
     ]
    },
    {
     "name": "stderr",
     "output_type": "stream",
     "text": [
      "Processing train inputs:  28%|██████████████▉                                       | 277/1005 [22:33<53:13,  4.39s/it]"
     ]
    },
    {
     "name": "stdout",
     "output_type": "stream",
     "text": [
      "Success for img(1050)_b.png:\n",
      "Testing 0 img(1050)_b\n",
      "\n"
     ]
    },
    {
     "name": "stderr",
     "output_type": "stream",
     "text": [
      "Processing train inputs:  28%|██████████████▉                                       | 278/1005 [22:39<58:17,  4.81s/it]"
     ]
    },
    {
     "name": "stdout",
     "output_type": "stream",
     "text": [
      "Success for img(1050)_g.png:\n",
      "Testing 0 img(1050)_g\n",
      "\n"
     ]
    },
    {
     "name": "stderr",
     "output_type": "stream",
     "text": [
      "Processing train inputs:  28%|██████████████▍                                     | 279/1005 [22:45<1:02:17,  5.15s/it]"
     ]
    },
    {
     "name": "stdout",
     "output_type": "stream",
     "text": [
      "Success for img(1050)_n.png:\n",
      "Testing 0 img(1050)_n\n",
      "\n"
     ]
    },
    {
     "name": "stderr",
     "output_type": "stream",
     "text": [
      "Processing train inputs:  28%|██████████████▍                                     | 280/1005 [22:51<1:05:22,  5.41s/it]"
     ]
    },
    {
     "name": "stdout",
     "output_type": "stream",
     "text": [
      "Success for img(1050)_r.png:\n",
      "Testing 0 img(1050)_r\n",
      "\n"
     ]
    },
    {
     "name": "stderr",
     "output_type": "stream",
     "text": [
      "Processing train inputs:  28%|███████████████▏                                      | 282/1005 [22:57<53:21,  4.43s/it]"
     ]
    },
    {
     "name": "stdout",
     "output_type": "stream",
     "text": [
      "Success for img(1051)_b.png:\n",
      "Testing 0 img(1051)_b\n",
      "\n"
     ]
    },
    {
     "name": "stderr",
     "output_type": "stream",
     "text": [
      "Processing train inputs:  28%|███████████████▏                                      | 283/1005 [23:04<57:58,  4.82s/it]"
     ]
    },
    {
     "name": "stdout",
     "output_type": "stream",
     "text": [
      "Success for img(1051)_g.png:\n",
      "Testing 0 img(1051)_g\n",
      "\n"
     ]
    },
    {
     "name": "stderr",
     "output_type": "stream",
     "text": [
      "Processing train inputs:  28%|██████████████▋                                     | 284/1005 [23:10<1:01:35,  5.13s/it]"
     ]
    },
    {
     "name": "stdout",
     "output_type": "stream",
     "text": [
      "Success for img(1051)_n.png:\n",
      "Testing 0 img(1051)_n\n",
      "\n"
     ]
    },
    {
     "name": "stderr",
     "output_type": "stream",
     "text": [
      "Processing train inputs:  28%|██████████████▋                                     | 285/1005 [23:16<1:04:14,  5.35s/it]"
     ]
    },
    {
     "name": "stdout",
     "output_type": "stream",
     "text": [
      "Success for img(1051)_r.png:\n",
      "Testing 0 img(1051)_r\n",
      "\n"
     ]
    },
    {
     "name": "stderr",
     "output_type": "stream",
     "text": [
      "Processing train inputs:  29%|███████████████▍                                      | 287/1005 [23:22<52:03,  4.35s/it]"
     ]
    },
    {
     "name": "stdout",
     "output_type": "stream",
     "text": [
      "Success for img(1052)_b.png:\n",
      "Testing 0 img(1052)_b\n",
      "\n"
     ]
    },
    {
     "name": "stderr",
     "output_type": "stream",
     "text": [
      "Processing train inputs:  29%|███████████████▍                                      | 288/1005 [23:28<56:58,  4.77s/it]"
     ]
    },
    {
     "name": "stdout",
     "output_type": "stream",
     "text": [
      "Success for img(1052)_g.png:\n",
      "Testing 0 img(1052)_g\n",
      "\n"
     ]
    },
    {
     "name": "stderr",
     "output_type": "stream",
     "text": [
      "Processing train inputs:  29%|██████████████▉                                     | 289/1005 [23:34<1:01:09,  5.12s/it]"
     ]
    },
    {
     "name": "stdout",
     "output_type": "stream",
     "text": [
      "Success for img(1052)_n.png:\n",
      "Testing 0 img(1052)_n\n",
      "\n"
     ]
    },
    {
     "name": "stderr",
     "output_type": "stream",
     "text": [
      "Processing train inputs:  29%|███████████████                                     | 290/1005 [23:40<1:04:32,  5.42s/it]"
     ]
    },
    {
     "name": "stdout",
     "output_type": "stream",
     "text": [
      "Success for img(1052)_r.png:\n",
      "Testing 0 img(1052)_r\n",
      "\n"
     ]
    },
    {
     "name": "stderr",
     "output_type": "stream",
     "text": [
      "Processing train inputs:  29%|███████████████▋                                      | 292/1005 [23:46<52:47,  4.44s/it]"
     ]
    },
    {
     "name": "stdout",
     "output_type": "stream",
     "text": [
      "Success for img(106)_b.png:\n",
      "Testing 0 img(106)_b\n",
      "\n"
     ]
    },
    {
     "name": "stderr",
     "output_type": "stream",
     "text": [
      "Processing train inputs:  29%|███████████████▋                                      | 293/1005 [23:53<57:14,  4.82s/it]"
     ]
    },
    {
     "name": "stdout",
     "output_type": "stream",
     "text": [
      "Success for img(106)_g.png:\n",
      "Testing 0 img(106)_g\n",
      "\n"
     ]
    },
    {
     "name": "stderr",
     "output_type": "stream",
     "text": [
      "Processing train inputs:  29%|███████████████▏                                    | 294/1005 [23:59<1:00:57,  5.14s/it]"
     ]
    },
    {
     "name": "stdout",
     "output_type": "stream",
     "text": [
      "Success for img(106)_n.png:\n",
      "Testing 0 img(106)_n\n",
      "\n"
     ]
    },
    {
     "name": "stderr",
     "output_type": "stream",
     "text": [
      "Processing train inputs:  29%|███████████████▎                                    | 295/1005 [24:05<1:03:23,  5.36s/it]"
     ]
    },
    {
     "name": "stdout",
     "output_type": "stream",
     "text": [
      "Success for img(106)_r.png:\n",
      "Testing 0 img(106)_r\n",
      "\n"
     ]
    },
    {
     "name": "stderr",
     "output_type": "stream",
     "text": [
      "Processing train inputs:  30%|███████████████▉                                      | 297/1005 [24:11<51:31,  4.37s/it]"
     ]
    },
    {
     "name": "stdout",
     "output_type": "stream",
     "text": [
      "Success for img(107)_b.png:\n",
      "Testing 0 img(107)_b\n",
      "\n"
     ]
    },
    {
     "name": "stderr",
     "output_type": "stream",
     "text": [
      "Processing train inputs:  30%|████████████████                                      | 298/1005 [24:17<56:25,  4.79s/it]"
     ]
    },
    {
     "name": "stdout",
     "output_type": "stream",
     "text": [
      "Success for img(107)_g.png:\n",
      "Testing 0 img(107)_g\n",
      "\n"
     ]
    },
    {
     "name": "stderr",
     "output_type": "stream",
     "text": [
      "Processing train inputs:  30%|███████████████▍                                    | 299/1005 [24:23<1:00:15,  5.12s/it]"
     ]
    },
    {
     "name": "stdout",
     "output_type": "stream",
     "text": [
      "Success for img(107)_n.png:\n",
      "Testing 0 img(107)_n\n",
      "\n"
     ]
    },
    {
     "name": "stderr",
     "output_type": "stream",
     "text": [
      "Processing train inputs:  30%|███████████████▌                                    | 300/1005 [24:29<1:02:50,  5.35s/it]"
     ]
    },
    {
     "name": "stdout",
     "output_type": "stream",
     "text": [
      "Success for img(107)_r.png:\n",
      "Testing 0 img(107)_r\n",
      "\n"
     ]
    },
    {
     "name": "stderr",
     "output_type": "stream",
     "text": [
      "Processing train inputs:  30%|████████████████▏                                     | 302/1005 [24:35<50:58,  4.35s/it]"
     ]
    },
    {
     "name": "stdout",
     "output_type": "stream",
     "text": [
      "Success for img(108)_b.png:\n",
      "Testing 0 img(108)_b\n",
      "\n"
     ]
    },
    {
     "name": "stderr",
     "output_type": "stream",
     "text": [
      "Processing train inputs:  30%|████████████████▎                                     | 303/1005 [24:41<55:45,  4.77s/it]"
     ]
    },
    {
     "name": "stdout",
     "output_type": "stream",
     "text": [
      "Success for img(108)_g.png:\n",
      "Testing 0 img(108)_g\n",
      "\n"
     ]
    },
    {
     "name": "stderr",
     "output_type": "stream",
     "text": [
      "Processing train inputs:  30%|████████████████▎                                     | 304/1005 [24:47<59:27,  5.09s/it]"
     ]
    },
    {
     "name": "stdout",
     "output_type": "stream",
     "text": [
      "Success for img(108)_n.png:\n",
      "Testing 0 img(108)_n\n",
      "\n"
     ]
    },
    {
     "name": "stderr",
     "output_type": "stream",
     "text": [
      "Processing train inputs:  30%|███████████████▊                                    | 305/1005 [24:53<1:02:17,  5.34s/it]"
     ]
    },
    {
     "name": "stdout",
     "output_type": "stream",
     "text": [
      "Success for img(108)_r.png:\n",
      "Testing 0 img(108)_r\n",
      "\n"
     ]
    },
    {
     "name": "stderr",
     "output_type": "stream",
     "text": [
      "Processing train inputs:  31%|████████████████▍                                     | 307/1005 [24:59<50:21,  4.33s/it]"
     ]
    },
    {
     "name": "stdout",
     "output_type": "stream",
     "text": [
      "Success for img(109)_b.png:\n",
      "Testing 0 img(109)_b\n",
      "\n"
     ]
    },
    {
     "name": "stderr",
     "output_type": "stream",
     "text": [
      "Processing train inputs:  31%|████████████████▌                                     | 308/1005 [25:05<54:50,  4.72s/it]"
     ]
    },
    {
     "name": "stdout",
     "output_type": "stream",
     "text": [
      "Success for img(109)_g.png:\n",
      "Testing 0 img(109)_g\n",
      "\n"
     ]
    },
    {
     "name": "stderr",
     "output_type": "stream",
     "text": [
      "Processing train inputs:  31%|████████████████▌                                     | 309/1005 [25:11<58:24,  5.04s/it]"
     ]
    },
    {
     "name": "stdout",
     "output_type": "stream",
     "text": [
      "Success for img(109)_n.png:\n",
      "Testing 0 img(109)_n\n",
      "\n"
     ]
    },
    {
     "name": "stderr",
     "output_type": "stream",
     "text": [
      "Processing train inputs:  31%|████████████████                                    | 310/1005 [25:17<1:01:28,  5.31s/it]"
     ]
    },
    {
     "name": "stdout",
     "output_type": "stream",
     "text": [
      "Success for img(109)_r.png:\n",
      "Testing 0 img(109)_r\n",
      "\n"
     ]
    },
    {
     "name": "stderr",
     "output_type": "stream",
     "text": [
      "Processing train inputs:  31%|████████████████▊                                     | 312/1005 [25:23<49:47,  4.31s/it]"
     ]
    },
    {
     "name": "stdout",
     "output_type": "stream",
     "text": [
      "Success for img(110)_b.png:\n",
      "Testing 0 img(110)_b\n",
      "\n"
     ]
    },
    {
     "name": "stderr",
     "output_type": "stream",
     "text": [
      "Processing train inputs:  31%|████████████████▊                                     | 313/1005 [25:29<54:34,  4.73s/it]"
     ]
    },
    {
     "name": "stdout",
     "output_type": "stream",
     "text": [
      "Success for img(110)_g.png:\n",
      "Testing 0 img(110)_g\n",
      "\n"
     ]
    },
    {
     "name": "stderr",
     "output_type": "stream",
     "text": [
      "Processing train inputs:  31%|████████████████▊                                     | 314/1005 [25:35<58:36,  5.09s/it]"
     ]
    },
    {
     "name": "stdout",
     "output_type": "stream",
     "text": [
      "Success for img(110)_n.png:\n",
      "Testing 0 img(110)_n\n",
      "\n"
     ]
    },
    {
     "name": "stderr",
     "output_type": "stream",
     "text": [
      "Processing train inputs:  31%|████████████████▎                                   | 315/1005 [25:42<1:01:36,  5.36s/it]"
     ]
    },
    {
     "name": "stdout",
     "output_type": "stream",
     "text": [
      "Success for img(110)_r.png:\n",
      "Testing 0 img(110)_r\n",
      "\n"
     ]
    },
    {
     "name": "stderr",
     "output_type": "stream",
     "text": [
      "Processing train inputs:  32%|█████████████████                                     | 317/1005 [25:48<50:12,  4.38s/it]"
     ]
    },
    {
     "name": "stdout",
     "output_type": "stream",
     "text": [
      "Success for img(111)_b.png:\n",
      "Testing 0 img(111)_b\n",
      "\n"
     ]
    },
    {
     "name": "stderr",
     "output_type": "stream",
     "text": [
      "Processing train inputs:  32%|█████████████████                                     | 318/1005 [25:54<54:46,  4.78s/it]"
     ]
    },
    {
     "name": "stdout",
     "output_type": "stream",
     "text": [
      "Success for img(111)_g.png:\n",
      "Testing 0 img(111)_g\n",
      "\n"
     ]
    },
    {
     "name": "stderr",
     "output_type": "stream",
     "text": [
      "Processing train inputs:  32%|█████████████████▏                                    | 319/1005 [26:00<58:41,  5.13s/it]"
     ]
    },
    {
     "name": "stdout",
     "output_type": "stream",
     "text": [
      "Success for img(111)_n.png:\n",
      "Testing 0 img(111)_n\n",
      "\n"
     ]
    },
    {
     "name": "stderr",
     "output_type": "stream",
     "text": [
      "Processing train inputs:  32%|████████████████▌                                   | 320/1005 [26:06<1:01:32,  5.39s/it]"
     ]
    },
    {
     "name": "stdout",
     "output_type": "stream",
     "text": [
      "Success for img(111)_r.png:\n",
      "Testing 0 img(111)_r\n",
      "\n"
     ]
    },
    {
     "name": "stderr",
     "output_type": "stream",
     "text": [
      "Processing train inputs:  32%|█████████████████▎                                    | 322/1005 [26:12<50:02,  4.40s/it]"
     ]
    },
    {
     "name": "stdout",
     "output_type": "stream",
     "text": [
      "Success for img(112)_b.png:\n",
      "Testing 0 img(112)_b\n",
      "\n"
     ]
    },
    {
     "name": "stderr",
     "output_type": "stream",
     "text": [
      "Processing train inputs:  32%|█████████████████▎                                    | 323/1005 [26:18<54:35,  4.80s/it]"
     ]
    },
    {
     "name": "stdout",
     "output_type": "stream",
     "text": [
      "Success for img(112)_g.png:\n",
      "Testing 0 img(112)_g\n",
      "\n"
     ]
    },
    {
     "name": "stderr",
     "output_type": "stream",
     "text": [
      "Processing train inputs:  32%|█████████████████▍                                    | 324/1005 [26:24<58:05,  5.12s/it]"
     ]
    },
    {
     "name": "stdout",
     "output_type": "stream",
     "text": [
      "Success for img(112)_n.png:\n",
      "Testing 0 img(112)_n\n",
      "\n"
     ]
    },
    {
     "name": "stderr",
     "output_type": "stream",
     "text": [
      "Processing train inputs:  32%|████████████████▊                                   | 325/1005 [26:30<1:00:33,  5.34s/it]"
     ]
    },
    {
     "name": "stdout",
     "output_type": "stream",
     "text": [
      "Success for img(112)_r.png:\n",
      "Testing 0 img(112)_r\n",
      "\n"
     ]
    },
    {
     "name": "stderr",
     "output_type": "stream",
     "text": [
      "Processing train inputs:  33%|█████████████████▌                                    | 327/1005 [26:36<48:56,  4.33s/it]"
     ]
    },
    {
     "name": "stdout",
     "output_type": "stream",
     "text": [
      "Success for img(113)_b.png:\n",
      "Testing 0 img(113)_b\n",
      "\n"
     ]
    },
    {
     "name": "stderr",
     "output_type": "stream",
     "text": [
      "Processing train inputs:  33%|█████████████████▌                                    | 328/1005 [26:42<53:12,  4.72s/it]"
     ]
    },
    {
     "name": "stdout",
     "output_type": "stream",
     "text": [
      "Success for img(113)_g.png:\n",
      "Testing 0 img(113)_g\n",
      "\n"
     ]
    },
    {
     "name": "stderr",
     "output_type": "stream",
     "text": [
      "Processing train inputs:  33%|█████████████████▋                                    | 329/1005 [26:48<56:38,  5.03s/it]"
     ]
    },
    {
     "name": "stdout",
     "output_type": "stream",
     "text": [
      "Success for img(113)_n.png:\n",
      "Testing 0 img(113)_n\n",
      "\n"
     ]
    },
    {
     "name": "stderr",
     "output_type": "stream",
     "text": [
      "Processing train inputs:  33%|█████████████████▋                                    | 330/1005 [26:54<59:25,  5.28s/it]"
     ]
    },
    {
     "name": "stdout",
     "output_type": "stream",
     "text": [
      "Success for img(113)_r.png:\n",
      "Testing 0 img(113)_r\n",
      "\n"
     ]
    },
    {
     "name": "stderr",
     "output_type": "stream",
     "text": [
      "Processing train inputs:  33%|█████████████████▊                                    | 332/1005 [27:00<48:04,  4.29s/it]"
     ]
    },
    {
     "name": "stdout",
     "output_type": "stream",
     "text": [
      "Success for img(114)_b.png:\n",
      "Testing 0 img(114)_b\n",
      "\n"
     ]
    },
    {
     "name": "stderr",
     "output_type": "stream",
     "text": [
      "Processing train inputs:  33%|█████████████████▉                                    | 333/1005 [27:06<52:23,  4.68s/it]"
     ]
    },
    {
     "name": "stdout",
     "output_type": "stream",
     "text": [
      "Success for img(114)_g.png:\n",
      "Testing 0 img(114)_g\n",
      "\n"
     ]
    },
    {
     "name": "stderr",
     "output_type": "stream",
     "text": [
      "Processing train inputs:  33%|█████████████████▉                                    | 334/1005 [27:12<55:45,  4.99s/it]"
     ]
    },
    {
     "name": "stdout",
     "output_type": "stream",
     "text": [
      "Success for img(114)_n.png:\n",
      "Testing 0 img(114)_n\n",
      "\n"
     ]
    },
    {
     "name": "stderr",
     "output_type": "stream",
     "text": [
      "Processing train inputs:  33%|██████████████████                                    | 335/1005 [27:18<58:27,  5.24s/it]"
     ]
    },
    {
     "name": "stdout",
     "output_type": "stream",
     "text": [
      "Success for img(114)_r.png:\n",
      "Testing 0 img(114)_r\n",
      "\n"
     ]
    },
    {
     "name": "stderr",
     "output_type": "stream",
     "text": [
      "Processing train inputs:  34%|██████████████████                                    | 337/1005 [27:24<47:20,  4.25s/it]"
     ]
    },
    {
     "name": "stdout",
     "output_type": "stream",
     "text": [
      "Success for img(115)_b.png:\n",
      "Testing 0 img(115)_b\n",
      "\n"
     ]
    },
    {
     "name": "stderr",
     "output_type": "stream",
     "text": [
      "Processing train inputs:  34%|██████████████████▏                                   | 338/1005 [27:30<51:41,  4.65s/it]"
     ]
    },
    {
     "name": "stdout",
     "output_type": "stream",
     "text": [
      "Success for img(115)_g.png:\n",
      "Testing 0 img(115)_g\n",
      "\n"
     ]
    },
    {
     "name": "stderr",
     "output_type": "stream",
     "text": [
      "Processing train inputs:  34%|██████████████████▏                                   | 339/1005 [27:36<55:16,  4.98s/it]"
     ]
    },
    {
     "name": "stdout",
     "output_type": "stream",
     "text": [
      "Success for img(115)_n.png:\n",
      "Testing 0 img(115)_n\n",
      "\n"
     ]
    },
    {
     "name": "stderr",
     "output_type": "stream",
     "text": [
      "Processing train inputs:  34%|██████████████████▎                                   | 340/1005 [27:42<57:59,  5.23s/it]"
     ]
    },
    {
     "name": "stdout",
     "output_type": "stream",
     "text": [
      "Success for img(115)_r.png:\n",
      "Testing 0 img(115)_r\n",
      "\n"
     ]
    },
    {
     "name": "stderr",
     "output_type": "stream",
     "text": [
      "Processing train inputs:  34%|██████████████████▍                                   | 342/1005 [27:48<47:04,  4.26s/it]"
     ]
    },
    {
     "name": "stdout",
     "output_type": "stream",
     "text": [
      "Success for img(116)_b.png:\n",
      "Testing 0 img(116)_b\n",
      "\n"
     ]
    },
    {
     "name": "stderr",
     "output_type": "stream",
     "text": [
      "Processing train inputs:  34%|██████████████████▍                                   | 343/1005 [27:54<51:18,  4.65s/it]"
     ]
    },
    {
     "name": "stdout",
     "output_type": "stream",
     "text": [
      "Success for img(116)_g.png:\n",
      "Testing 0 img(116)_g\n",
      "\n"
     ]
    },
    {
     "name": "stderr",
     "output_type": "stream",
     "text": [
      "Processing train inputs:  34%|██████████████████▍                                   | 344/1005 [28:00<54:48,  4.98s/it]"
     ]
    },
    {
     "name": "stdout",
     "output_type": "stream",
     "text": [
      "Success for img(116)_n.png:\n",
      "Testing 0 img(116)_n\n",
      "\n"
     ]
    },
    {
     "name": "stderr",
     "output_type": "stream",
     "text": [
      "Processing train inputs:  34%|██████████████████▌                                   | 345/1005 [28:06<57:36,  5.24s/it]"
     ]
    },
    {
     "name": "stdout",
     "output_type": "stream",
     "text": [
      "Success for img(116)_r.png:\n",
      "Testing 0 img(116)_r\n",
      "\n"
     ]
    },
    {
     "name": "stderr",
     "output_type": "stream",
     "text": [
      "Processing train inputs:  35%|██████████████████▋                                   | 347/1005 [28:12<46:46,  4.26s/it]"
     ]
    },
    {
     "name": "stdout",
     "output_type": "stream",
     "text": [
      "Success for img(117)_b.png:\n",
      "Testing 0 img(117)_b\n",
      "\n"
     ]
    },
    {
     "name": "stderr",
     "output_type": "stream",
     "text": [
      "Processing train inputs:  35%|██████████████████▋                                   | 348/1005 [28:17<50:52,  4.65s/it]"
     ]
    },
    {
     "name": "stdout",
     "output_type": "stream",
     "text": [
      "Success for img(117)_g.png:\n",
      "Testing 0 img(117)_g\n",
      "\n"
     ]
    },
    {
     "name": "stderr",
     "output_type": "stream",
     "text": [
      "Processing train inputs:  35%|██████████████████▊                                   | 349/1005 [28:23<54:22,  4.97s/it]"
     ]
    },
    {
     "name": "stdout",
     "output_type": "stream",
     "text": [
      "Success for img(117)_n.png:\n",
      "Testing 0 img(117)_n\n",
      "\n"
     ]
    },
    {
     "name": "stderr",
     "output_type": "stream",
     "text": [
      "Processing train inputs:  35%|██████████████████▊                                   | 350/1005 [28:29<57:03,  5.23s/it]"
     ]
    },
    {
     "name": "stdout",
     "output_type": "stream",
     "text": [
      "Success for img(117)_r.png:\n",
      "Testing 0 img(117)_r\n",
      "\n"
     ]
    },
    {
     "name": "stderr",
     "output_type": "stream",
     "text": [
      "Processing train inputs:  35%|██████████████████▉                                   | 352/1005 [28:35<46:16,  4.25s/it]"
     ]
    },
    {
     "name": "stdout",
     "output_type": "stream",
     "text": [
      "Success for img(118)_b.png:\n",
      "Testing 0 img(118)_b\n",
      "\n"
     ]
    },
    {
     "name": "stderr",
     "output_type": "stream",
     "text": [
      "Processing train inputs:  35%|██████████████████▉                                   | 353/1005 [28:41<50:25,  4.64s/it]"
     ]
    },
    {
     "name": "stdout",
     "output_type": "stream",
     "text": [
      "Success for img(118)_g.png:\n",
      "Testing 0 img(118)_g\n",
      "\n"
     ]
    },
    {
     "name": "stderr",
     "output_type": "stream",
     "text": [
      "Processing train inputs:  35%|███████████████████                                   | 354/1005 [28:47<54:04,  4.98s/it]"
     ]
    },
    {
     "name": "stdout",
     "output_type": "stream",
     "text": [
      "Success for img(118)_n.png:\n",
      "Testing 0 img(118)_n\n",
      "\n"
     ]
    },
    {
     "name": "stderr",
     "output_type": "stream",
     "text": [
      "Processing train inputs:  35%|███████████████████                                   | 355/1005 [28:53<56:43,  5.24s/it]"
     ]
    },
    {
     "name": "stdout",
     "output_type": "stream",
     "text": [
      "Success for img(118)_r.png:\n",
      "Testing 0 img(118)_r\n",
      "\n"
     ]
    },
    {
     "name": "stderr",
     "output_type": "stream",
     "text": [
      "Processing train inputs:  36%|███████████████████▏                                  | 357/1005 [28:59<46:00,  4.26s/it]"
     ]
    },
    {
     "name": "stdout",
     "output_type": "stream",
     "text": [
      "Success for img(119)_b.png:\n",
      "Testing 0 img(119)_b\n",
      "\n"
     ]
    },
    {
     "name": "stderr",
     "output_type": "stream",
     "text": [
      "Processing train inputs:  36%|███████████████████▏                                  | 358/1005 [29:05<50:11,  4.66s/it]"
     ]
    },
    {
     "name": "stdout",
     "output_type": "stream",
     "text": [
      "Success for img(119)_g.png:\n",
      "Testing 0 img(119)_g\n",
      "\n"
     ]
    },
    {
     "name": "stderr",
     "output_type": "stream",
     "text": [
      "Processing train inputs:  36%|███████████████████▎                                  | 359/1005 [29:11<53:32,  4.97s/it]"
     ]
    },
    {
     "name": "stdout",
     "output_type": "stream",
     "text": [
      "Success for img(119)_n.png:\n",
      "Testing 0 img(119)_n\n",
      "\n"
     ]
    },
    {
     "name": "stderr",
     "output_type": "stream",
     "text": [
      "Processing train inputs:  36%|███████████████████▎                                  | 360/1005 [29:17<56:19,  5.24s/it]"
     ]
    },
    {
     "name": "stdout",
     "output_type": "stream",
     "text": [
      "Success for img(119)_r.png:\n",
      "Testing 0 img(119)_r\n",
      "\n"
     ]
    },
    {
     "name": "stderr",
     "output_type": "stream",
     "text": [
      "Processing train inputs:  36%|███████████████████▍                                  | 362/1005 [29:23<45:36,  4.26s/it]"
     ]
    },
    {
     "name": "stdout",
     "output_type": "stream",
     "text": [
      "Success for img(120)_b.png:\n",
      "Testing 0 img(120)_b\n",
      "\n"
     ]
    },
    {
     "name": "stderr",
     "output_type": "stream",
     "text": [
      "Processing train inputs:  36%|███████████████████▌                                  | 363/1005 [29:29<49:42,  4.65s/it]"
     ]
    },
    {
     "name": "stdout",
     "output_type": "stream",
     "text": [
      "Success for img(120)_g.png:\n",
      "Testing 0 img(120)_g\n",
      "\n"
     ]
    },
    {
     "name": "stderr",
     "output_type": "stream",
     "text": [
      "Processing train inputs:  36%|███████████████████▌                                  | 364/1005 [29:35<53:07,  4.97s/it]"
     ]
    },
    {
     "name": "stdout",
     "output_type": "stream",
     "text": [
      "Success for img(120)_n.png:\n",
      "Testing 0 img(120)_n\n",
      "\n"
     ]
    },
    {
     "name": "stderr",
     "output_type": "stream",
     "text": [
      "Processing train inputs:  36%|███████████████████▌                                  | 365/1005 [29:41<55:45,  5.23s/it]"
     ]
    },
    {
     "name": "stdout",
     "output_type": "stream",
     "text": [
      "Success for img(120)_r.png:\n",
      "Testing 0 img(120)_r\n",
      "\n"
     ]
    },
    {
     "name": "stderr",
     "output_type": "stream",
     "text": [
      "Processing train inputs:  37%|███████████████████▋                                  | 367/1005 [29:46<45:12,  4.25s/it]"
     ]
    },
    {
     "name": "stdout",
     "output_type": "stream",
     "text": [
      "Success for img(121)_b.png:\n",
      "Testing 0 img(121)_b\n",
      "\n"
     ]
    },
    {
     "name": "stderr",
     "output_type": "stream",
     "text": [
      "Processing train inputs:  37%|███████████████████▊                                  | 368/1005 [29:52<49:29,  4.66s/it]"
     ]
    },
    {
     "name": "stdout",
     "output_type": "stream",
     "text": [
      "Success for img(121)_g.png:\n",
      "Testing 0 img(121)_g\n",
      "\n"
     ]
    },
    {
     "name": "stderr",
     "output_type": "stream",
     "text": [
      "Processing train inputs:  37%|███████████████████▊                                  | 369/1005 [29:58<52:55,  4.99s/it]"
     ]
    },
    {
     "name": "stdout",
     "output_type": "stream",
     "text": [
      "Success for img(121)_n.png:\n",
      "Testing 0 img(121)_n\n",
      "\n"
     ]
    },
    {
     "name": "stderr",
     "output_type": "stream",
     "text": [
      "Processing train inputs:  37%|███████████████████▉                                  | 370/1005 [30:05<56:02,  5.30s/it]"
     ]
    },
    {
     "name": "stdout",
     "output_type": "stream",
     "text": [
      "Success for img(121)_r.png:\n",
      "Testing 0 img(121)_r\n",
      "\n"
     ]
    },
    {
     "name": "stderr",
     "output_type": "stream",
     "text": [
      "Processing train inputs:  37%|███████████████████▉                                  | 372/1005 [30:11<45:50,  4.34s/it]"
     ]
    },
    {
     "name": "stdout",
     "output_type": "stream",
     "text": [
      "Success for img(122)_b.png:\n",
      "Testing 0 img(122)_b\n",
      "\n"
     ]
    },
    {
     "name": "stderr",
     "output_type": "stream",
     "text": [
      "Processing train inputs:  37%|████████████████████                                  | 373/1005 [30:17<50:17,  4.77s/it]"
     ]
    },
    {
     "name": "stdout",
     "output_type": "stream",
     "text": [
      "Success for img(122)_g.png:\n",
      "Testing 0 img(122)_g\n",
      "\n"
     ]
    },
    {
     "name": "stderr",
     "output_type": "stream",
     "text": [
      "Processing train inputs:  37%|████████████████████                                  | 374/1005 [30:23<54:12,  5.15s/it]"
     ]
    },
    {
     "name": "stdout",
     "output_type": "stream",
     "text": [
      "Success for img(122)_n.png:\n",
      "Testing 0 img(122)_n\n",
      "\n"
     ]
    },
    {
     "name": "stderr",
     "output_type": "stream",
     "text": [
      "Processing train inputs:  37%|████████████████████▏                                 | 375/1005 [30:29<56:59,  5.43s/it]"
     ]
    },
    {
     "name": "stdout",
     "output_type": "stream",
     "text": [
      "Success for img(122)_r.png:\n",
      "Testing 0 img(122)_r\n",
      "\n"
     ]
    },
    {
     "name": "stderr",
     "output_type": "stream",
     "text": [
      "Processing train inputs:  38%|████████████████████▎                                 | 377/1005 [30:36<46:15,  4.42s/it]"
     ]
    },
    {
     "name": "stdout",
     "output_type": "stream",
     "text": [
      "Success for img(123)_b.png:\n",
      "Testing 0 img(123)_b\n",
      "\n"
     ]
    },
    {
     "name": "stderr",
     "output_type": "stream",
     "text": [
      "Processing train inputs:  38%|████████████████████▎                                 | 378/1005 [30:41<49:54,  4.78s/it]"
     ]
    },
    {
     "name": "stdout",
     "output_type": "stream",
     "text": [
      "Success for img(123)_g.png:\n",
      "Testing 0 img(123)_g\n",
      "\n"
     ]
    },
    {
     "name": "stderr",
     "output_type": "stream",
     "text": [
      "Processing train inputs:  38%|████████████████████▎                                 | 379/1005 [30:47<52:49,  5.06s/it]"
     ]
    },
    {
     "name": "stdout",
     "output_type": "stream",
     "text": [
      "Success for img(123)_n.png:\n",
      "Testing 0 img(123)_n\n",
      "\n"
     ]
    },
    {
     "name": "stderr",
     "output_type": "stream",
     "text": [
      "Processing train inputs:  38%|████████████████████▍                                 | 380/1005 [30:53<55:11,  5.30s/it]"
     ]
    },
    {
     "name": "stdout",
     "output_type": "stream",
     "text": [
      "Success for img(123)_r.png:\n",
      "Testing 0 img(123)_r\n",
      "\n"
     ]
    },
    {
     "name": "stderr",
     "output_type": "stream",
     "text": [
      "Processing train inputs:  38%|████████████████████▌                                 | 382/1005 [30:59<44:36,  4.30s/it]"
     ]
    },
    {
     "name": "stdout",
     "output_type": "stream",
     "text": [
      "Success for img(124)_b.png:\n",
      "Testing 0 img(124)_b\n",
      "\n"
     ]
    },
    {
     "name": "stderr",
     "output_type": "stream",
     "text": [
      "Processing train inputs:  38%|████████████████████▌                                 | 383/1005 [31:05<48:34,  4.69s/it]"
     ]
    },
    {
     "name": "stdout",
     "output_type": "stream",
     "text": [
      "Success for img(124)_g.png:\n",
      "Testing 0 img(124)_g\n",
      "\n"
     ]
    },
    {
     "name": "stderr",
     "output_type": "stream",
     "text": [
      "Processing train inputs:  38%|████████████████████▋                                 | 384/1005 [31:11<51:49,  5.01s/it]"
     ]
    },
    {
     "name": "stdout",
     "output_type": "stream",
     "text": [
      "Success for img(124)_n.png:\n",
      "Testing 0 img(124)_n\n",
      "\n"
     ]
    },
    {
     "name": "stderr",
     "output_type": "stream",
     "text": [
      "Processing train inputs:  38%|████████████████████▋                                 | 385/1005 [31:17<54:31,  5.28s/it]"
     ]
    },
    {
     "name": "stdout",
     "output_type": "stream",
     "text": [
      "Success for img(124)_r.png:\n",
      "Testing 0 img(124)_r\n",
      "\n"
     ]
    },
    {
     "name": "stderr",
     "output_type": "stream",
     "text": [
      "Processing train inputs:  39%|████████████████████▊                                 | 387/1005 [31:23<44:03,  4.28s/it]"
     ]
    },
    {
     "name": "stdout",
     "output_type": "stream",
     "text": [
      "Success for img(125)_b.png:\n",
      "Testing 0 img(125)_b\n",
      "\n"
     ]
    },
    {
     "name": "stderr",
     "output_type": "stream",
     "text": [
      "Processing train inputs:  39%|████████████████████▊                                 | 388/1005 [31:29<47:57,  4.66s/it]"
     ]
    },
    {
     "name": "stdout",
     "output_type": "stream",
     "text": [
      "Success for img(125)_g.png:\n",
      "Testing 0 img(125)_g\n",
      "\n"
     ]
    },
    {
     "name": "stderr",
     "output_type": "stream",
     "text": [
      "Processing train inputs:  39%|████████████████████▉                                 | 389/1005 [31:35<51:06,  4.98s/it]"
     ]
    },
    {
     "name": "stdout",
     "output_type": "stream",
     "text": [
      "Success for img(125)_n.png:\n",
      "Testing 0 img(125)_n\n",
      "\n"
     ]
    },
    {
     "name": "stderr",
     "output_type": "stream",
     "text": [
      "Processing train inputs:  39%|████████████████████▉                                 | 390/1005 [31:41<53:35,  5.23s/it]"
     ]
    },
    {
     "name": "stdout",
     "output_type": "stream",
     "text": [
      "Success for img(125)_r.png:\n",
      "Testing 0 img(125)_r\n",
      "\n"
     ]
    },
    {
     "name": "stderr",
     "output_type": "stream",
     "text": [
      "Processing train inputs:  39%|█████████████████████                                 | 392/1005 [31:47<43:29,  4.26s/it]"
     ]
    },
    {
     "name": "stdout",
     "output_type": "stream",
     "text": [
      "Success for img(126)_b.png:\n",
      "Testing 0 img(126)_b\n",
      "\n"
     ]
    },
    {
     "name": "stderr",
     "output_type": "stream",
     "text": [
      "Processing train inputs:  39%|█████████████████████                                 | 393/1005 [31:53<47:28,  4.66s/it]"
     ]
    },
    {
     "name": "stdout",
     "output_type": "stream",
     "text": [
      "Success for img(126)_g.png:\n",
      "Testing 0 img(126)_g\n",
      "\n"
     ]
    },
    {
     "name": "stderr",
     "output_type": "stream",
     "text": [
      "Processing train inputs:  39%|█████████████████████▏                                | 394/1005 [31:59<50:50,  4.99s/it]"
     ]
    },
    {
     "name": "stdout",
     "output_type": "stream",
     "text": [
      "Success for img(126)_n.png:\n",
      "Testing 0 img(126)_n\n",
      "\n"
     ]
    },
    {
     "name": "stderr",
     "output_type": "stream",
     "text": [
      "Processing train inputs:  39%|█████████████████████▏                                | 395/1005 [32:05<53:19,  5.24s/it]"
     ]
    },
    {
     "name": "stdout",
     "output_type": "stream",
     "text": [
      "Success for img(126)_r.png:\n",
      "Testing 0 img(126)_r\n",
      "\n"
     ]
    },
    {
     "name": "stderr",
     "output_type": "stream",
     "text": [
      "Processing train inputs:  40%|█████████████████████▎                                | 397/1005 [32:11<43:18,  4.27s/it]"
     ]
    },
    {
     "name": "stdout",
     "output_type": "stream",
     "text": [
      "Success for img(127)_b.png:\n",
      "Testing 0 img(127)_b\n",
      "\n"
     ]
    },
    {
     "name": "stderr",
     "output_type": "stream",
     "text": [
      "Processing train inputs:  40%|█████████████████████▍                                | 398/1005 [32:17<47:12,  4.67s/it]"
     ]
    },
    {
     "name": "stdout",
     "output_type": "stream",
     "text": [
      "Success for img(127)_g.png:\n",
      "Testing 0 img(127)_g\n",
      "\n"
     ]
    },
    {
     "name": "stderr",
     "output_type": "stream",
     "text": [
      "Processing train inputs:  40%|█████████████████████▍                                | 399/1005 [32:23<50:18,  4.98s/it]"
     ]
    },
    {
     "name": "stdout",
     "output_type": "stream",
     "text": [
      "Success for img(127)_n.png:\n",
      "Testing 0 img(127)_n\n",
      "\n"
     ]
    },
    {
     "name": "stderr",
     "output_type": "stream",
     "text": [
      "Processing train inputs:  40%|█████████████████████▍                                | 400/1005 [32:28<52:43,  5.23s/it]"
     ]
    },
    {
     "name": "stdout",
     "output_type": "stream",
     "text": [
      "Success for img(127)_r.png:\n",
      "Testing 0 img(127)_r\n",
      "\n"
     ]
    },
    {
     "name": "stderr",
     "output_type": "stream",
     "text": [
      "Processing train inputs:  40%|█████████████████████▌                                | 402/1005 [32:34<42:52,  4.27s/it]"
     ]
    },
    {
     "name": "stdout",
     "output_type": "stream",
     "text": [
      "Success for img(128)_b.png:\n",
      "Testing 0 img(128)_b\n",
      "\n"
     ]
    },
    {
     "name": "stderr",
     "output_type": "stream",
     "text": [
      "Processing train inputs:  40%|█████████████████████▋                                | 403/1005 [32:40<46:41,  4.65s/it]"
     ]
    },
    {
     "name": "stdout",
     "output_type": "stream",
     "text": [
      "Success for img(128)_g.png:\n",
      "Testing 0 img(128)_g\n",
      "\n"
     ]
    },
    {
     "name": "stderr",
     "output_type": "stream",
     "text": [
      "Processing train inputs:  40%|█████████████████████▋                                | 404/1005 [32:46<50:03,  5.00s/it]"
     ]
    },
    {
     "name": "stdout",
     "output_type": "stream",
     "text": [
      "Success for img(128)_n.png:\n",
      "Testing 0 img(128)_n\n",
      "\n"
     ]
    },
    {
     "name": "stderr",
     "output_type": "stream",
     "text": [
      "Processing train inputs:  40%|█████████████████████▊                                | 405/1005 [32:52<52:27,  5.25s/it]"
     ]
    },
    {
     "name": "stdout",
     "output_type": "stream",
     "text": [
      "Success for img(128)_r.png:\n",
      "Testing 0 img(128)_r\n",
      "\n"
     ]
    },
    {
     "name": "stderr",
     "output_type": "stream",
     "text": [
      "Processing train inputs:  40%|█████████████████████▊                                | 407/1005 [32:58<42:34,  4.27s/it]"
     ]
    },
    {
     "name": "stdout",
     "output_type": "stream",
     "text": [
      "Success for img(129)_b.png:\n",
      "Testing 0 img(129)_b\n",
      "\n"
     ]
    },
    {
     "name": "stderr",
     "output_type": "stream",
     "text": [
      "Processing train inputs:  41%|█████████████████████▉                                | 408/1005 [33:04<46:22,  4.66s/it]"
     ]
    },
    {
     "name": "stdout",
     "output_type": "stream",
     "text": [
      "Success for img(129)_g.png:\n",
      "Testing 0 img(129)_g\n",
      "\n"
     ]
    },
    {
     "name": "stderr",
     "output_type": "stream",
     "text": [
      "Processing train inputs:  41%|█████████████████████▉                                | 409/1005 [33:10<49:33,  4.99s/it]"
     ]
    },
    {
     "name": "stdout",
     "output_type": "stream",
     "text": [
      "Success for img(129)_n.png:\n",
      "Testing 0 img(129)_n\n",
      "\n"
     ]
    },
    {
     "name": "stderr",
     "output_type": "stream",
     "text": [
      "Processing train inputs:  41%|██████████████████████                                | 410/1005 [33:16<51:54,  5.23s/it]"
     ]
    },
    {
     "name": "stdout",
     "output_type": "stream",
     "text": [
      "Success for img(129)_r.png:\n",
      "Testing 0 img(129)_r\n",
      "\n"
     ]
    },
    {
     "name": "stderr",
     "output_type": "stream",
     "text": [
      "Processing train inputs:  41%|██████████████████████▏                               | 412/1005 [33:22<42:06,  4.26s/it]"
     ]
    },
    {
     "name": "stdout",
     "output_type": "stream",
     "text": [
      "Success for img(130)_b.png:\n",
      "Testing 0 img(130)_b\n",
      "\n"
     ]
    },
    {
     "name": "stderr",
     "output_type": "stream",
     "text": [
      "Processing train inputs:  41%|██████████████████████▏                               | 413/1005 [33:28<45:52,  4.65s/it]"
     ]
    },
    {
     "name": "stdout",
     "output_type": "stream",
     "text": [
      "Success for img(130)_g.png:\n",
      "Testing 0 img(130)_g\n",
      "\n"
     ]
    },
    {
     "name": "stderr",
     "output_type": "stream",
     "text": [
      "Processing train inputs:  41%|██████████████████████▏                               | 414/1005 [33:34<48:59,  4.97s/it]"
     ]
    },
    {
     "name": "stdout",
     "output_type": "stream",
     "text": [
      "Success for img(130)_n.png:\n",
      "Testing 0 img(130)_n\n",
      "\n"
     ]
    },
    {
     "name": "stderr",
     "output_type": "stream",
     "text": [
      "Processing train inputs:  41%|██████████████████████▎                               | 415/1005 [33:40<51:14,  5.21s/it]"
     ]
    },
    {
     "name": "stdout",
     "output_type": "stream",
     "text": [
      "Success for img(130)_r.png:\n",
      "Testing 0 img(130)_r\n",
      "\n"
     ]
    },
    {
     "name": "stderr",
     "output_type": "stream",
     "text": [
      "Processing train inputs:  41%|██████████████████████▍                               | 417/1005 [33:46<41:36,  4.25s/it]"
     ]
    },
    {
     "name": "stdout",
     "output_type": "stream",
     "text": [
      "Success for img(131)_b.png:\n",
      "Testing 0 img(131)_b\n",
      "\n"
     ]
    },
    {
     "name": "stderr",
     "output_type": "stream",
     "text": [
      "Processing train inputs:  42%|██████████████████████▍                               | 418/1005 [33:52<45:28,  4.65s/it]"
     ]
    },
    {
     "name": "stdout",
     "output_type": "stream",
     "text": [
      "Success for img(131)_g.png:\n",
      "Testing 0 img(131)_g\n",
      "\n"
     ]
    },
    {
     "name": "stderr",
     "output_type": "stream",
     "text": [
      "Processing train inputs:  42%|██████████████████████▌                               | 419/1005 [33:58<48:33,  4.97s/it]"
     ]
    },
    {
     "name": "stdout",
     "output_type": "stream",
     "text": [
      "Success for img(131)_n.png:\n",
      "Testing 0 img(131)_n\n",
      "\n"
     ]
    },
    {
     "name": "stderr",
     "output_type": "stream",
     "text": [
      "Processing train inputs:  42%|██████████████████████▌                               | 420/1005 [34:04<50:58,  5.23s/it]"
     ]
    },
    {
     "name": "stdout",
     "output_type": "stream",
     "text": [
      "Success for img(131)_r.png:\n",
      "Testing 0 img(131)_r\n",
      "\n"
     ]
    },
    {
     "name": "stderr",
     "output_type": "stream",
     "text": [
      "Processing train inputs:  42%|██████████████████████▋                               | 422/1005 [34:09<41:20,  4.25s/it]"
     ]
    },
    {
     "name": "stdout",
     "output_type": "stream",
     "text": [
      "Success for img(132)_b.png:\n",
      "Testing 0 img(132)_b\n",
      "\n"
     ]
    },
    {
     "name": "stderr",
     "output_type": "stream",
     "text": [
      "Processing train inputs:  42%|██████████████████████▋                               | 423/1005 [34:15<45:06,  4.65s/it]"
     ]
    },
    {
     "name": "stdout",
     "output_type": "stream",
     "text": [
      "Success for img(132)_g.png:\n",
      "Testing 0 img(132)_g\n",
      "\n"
     ]
    },
    {
     "name": "stderr",
     "output_type": "stream",
     "text": [
      "Processing train inputs:  42%|██████████████████████▊                               | 424/1005 [34:21<48:12,  4.98s/it]"
     ]
    },
    {
     "name": "stdout",
     "output_type": "stream",
     "text": [
      "Success for img(132)_n.png:\n",
      "Testing 0 img(132)_n\n",
      "\n"
     ]
    },
    {
     "name": "stderr",
     "output_type": "stream",
     "text": [
      "Processing train inputs:  42%|██████████████████████▊                               | 425/1005 [34:27<50:31,  5.23s/it]"
     ]
    },
    {
     "name": "stdout",
     "output_type": "stream",
     "text": [
      "Success for img(132)_r.png:\n",
      "Testing 0 img(132)_r\n",
      "\n"
     ]
    },
    {
     "name": "stderr",
     "output_type": "stream",
     "text": [
      "Processing train inputs:  42%|██████████████████████▉                               | 427/1005 [34:33<41:08,  4.27s/it]"
     ]
    },
    {
     "name": "stdout",
     "output_type": "stream",
     "text": [
      "Success for img(133)_b.png:\n",
      "Testing 0 img(133)_b\n",
      "\n"
     ]
    },
    {
     "name": "stderr",
     "output_type": "stream",
     "text": [
      "Processing train inputs:  43%|██████████████████████▉                               | 428/1005 [34:39<45:05,  4.69s/it]"
     ]
    },
    {
     "name": "stdout",
     "output_type": "stream",
     "text": [
      "Success for img(133)_g.png:\n",
      "Testing 0 img(133)_g\n",
      "\n"
     ]
    },
    {
     "name": "stderr",
     "output_type": "stream",
     "text": [
      "Processing train inputs:  43%|███████████████████████                               | 429/1005 [34:45<47:59,  5.00s/it]"
     ]
    },
    {
     "name": "stdout",
     "output_type": "stream",
     "text": [
      "Success for img(133)_n.png:\n",
      "Testing 0 img(133)_n\n",
      "\n"
     ]
    },
    {
     "name": "stderr",
     "output_type": "stream",
     "text": [
      "Processing train inputs:  43%|███████████████████████                               | 430/1005 [34:51<50:12,  5.24s/it]"
     ]
    },
    {
     "name": "stdout",
     "output_type": "stream",
     "text": [
      "Success for img(133)_r.png:\n",
      "Testing 0 img(133)_r\n",
      "\n"
     ]
    },
    {
     "name": "stderr",
     "output_type": "stream",
     "text": [
      "Processing train inputs:  43%|███████████████████████▏                              | 432/1005 [34:57<40:41,  4.26s/it]"
     ]
    },
    {
     "name": "stdout",
     "output_type": "stream",
     "text": [
      "Success for img(134)_b.png:\n",
      "Testing 0 img(134)_b\n",
      "\n"
     ]
    },
    {
     "name": "stderr",
     "output_type": "stream",
     "text": [
      "Processing train inputs:  43%|███████████████████████▎                              | 433/1005 [35:03<44:31,  4.67s/it]"
     ]
    },
    {
     "name": "stdout",
     "output_type": "stream",
     "text": [
      "Success for img(134)_g.png:\n",
      "Testing 0 img(134)_g\n",
      "\n"
     ]
    },
    {
     "name": "stderr",
     "output_type": "stream",
     "text": [
      "Processing train inputs:  43%|███████████████████████▎                              | 434/1005 [35:09<47:41,  5.01s/it]"
     ]
    },
    {
     "name": "stdout",
     "output_type": "stream",
     "text": [
      "Success for img(134)_n.png:\n",
      "Testing 0 img(134)_n\n",
      "\n"
     ]
    },
    {
     "name": "stderr",
     "output_type": "stream",
     "text": [
      "Processing train inputs:  43%|███████████████████████▎                              | 435/1005 [35:15<50:10,  5.28s/it]"
     ]
    },
    {
     "name": "stdout",
     "output_type": "stream",
     "text": [
      "Success for img(134)_r.png:\n",
      "Testing 0 img(134)_r\n",
      "\n"
     ]
    },
    {
     "name": "stderr",
     "output_type": "stream",
     "text": [
      "Processing train inputs:  43%|███████████████████████▍                              | 437/1005 [35:21<40:44,  4.30s/it]"
     ]
    },
    {
     "name": "stdout",
     "output_type": "stream",
     "text": [
      "Success for img(135)_b.png:\n",
      "Testing 0 img(135)_b\n",
      "\n"
     ]
    },
    {
     "name": "stderr",
     "output_type": "stream",
     "text": [
      "Processing train inputs:  44%|███████████████████████▌                              | 438/1005 [35:27<44:20,  4.69s/it]"
     ]
    },
    {
     "name": "stdout",
     "output_type": "stream",
     "text": [
      "Success for img(135)_g.png:\n",
      "Testing 0 img(135)_g\n",
      "\n"
     ]
    },
    {
     "name": "stderr",
     "output_type": "stream",
     "text": [
      "Processing train inputs:  44%|███████████████████████▌                              | 439/1005 [35:33<47:07,  4.99s/it]"
     ]
    },
    {
     "name": "stdout",
     "output_type": "stream",
     "text": [
      "Success for img(135)_n.png:\n",
      "Testing 0 img(135)_n\n",
      "\n"
     ]
    },
    {
     "name": "stderr",
     "output_type": "stream",
     "text": [
      "Processing train inputs:  44%|███████████████████████▋                              | 440/1005 [35:39<49:18,  5.24s/it]"
     ]
    },
    {
     "name": "stdout",
     "output_type": "stream",
     "text": [
      "Success for img(135)_r.png:\n",
      "Testing 0 img(135)_r\n",
      "\n"
     ]
    },
    {
     "name": "stderr",
     "output_type": "stream",
     "text": [
      "Processing train inputs:  44%|███████████████████████▋                              | 442/1005 [35:45<39:56,  4.26s/it]"
     ]
    },
    {
     "name": "stdout",
     "output_type": "stream",
     "text": [
      "Success for img(136)_b.png:\n",
      "Testing 0 img(136)_b\n",
      "\n"
     ]
    },
    {
     "name": "stderr",
     "output_type": "stream",
     "text": [
      "Processing train inputs:  44%|███████████████████████▊                              | 443/1005 [35:51<43:30,  4.65s/it]"
     ]
    },
    {
     "name": "stdout",
     "output_type": "stream",
     "text": [
      "Success for img(136)_g.png:\n",
      "Testing 0 img(136)_g\n",
      "\n"
     ]
    },
    {
     "name": "stderr",
     "output_type": "stream",
     "text": [
      "Processing train inputs:  44%|███████████████████████▊                              | 444/1005 [35:57<46:30,  4.97s/it]"
     ]
    },
    {
     "name": "stdout",
     "output_type": "stream",
     "text": [
      "Success for img(136)_n.png:\n",
      "Testing 0 img(136)_n\n",
      "\n"
     ]
    },
    {
     "name": "stderr",
     "output_type": "stream",
     "text": [
      "Processing train inputs:  44%|███████████████████████▉                              | 445/1005 [36:03<48:41,  5.22s/it]"
     ]
    },
    {
     "name": "stdout",
     "output_type": "stream",
     "text": [
      "Success for img(136)_r.png:\n",
      "Testing 0 img(136)_r\n",
      "\n"
     ]
    },
    {
     "name": "stderr",
     "output_type": "stream",
     "text": [
      "Processing train inputs:  44%|████████████████████████                              | 447/1005 [36:09<39:25,  4.24s/it]"
     ]
    },
    {
     "name": "stdout",
     "output_type": "stream",
     "text": [
      "Success for img(137)_b.png:\n",
      "Testing 0 img(137)_b\n",
      "\n"
     ]
    },
    {
     "name": "stderr",
     "output_type": "stream",
     "text": [
      "Processing train inputs:  45%|████████████████████████                              | 448/1005 [36:14<42:56,  4.63s/it]"
     ]
    },
    {
     "name": "stdout",
     "output_type": "stream",
     "text": [
      "Success for img(137)_g.png:\n",
      "Testing 0 img(137)_g\n",
      "\n"
     ]
    },
    {
     "name": "stderr",
     "output_type": "stream",
     "text": [
      "Processing train inputs:  45%|████████████████████████▏                             | 449/1005 [36:20<45:47,  4.94s/it]"
     ]
    },
    {
     "name": "stdout",
     "output_type": "stream",
     "text": [
      "Success for img(137)_n.png:\n",
      "Testing 0 img(137)_n\n",
      "\n"
     ]
    },
    {
     "name": "stderr",
     "output_type": "stream",
     "text": [
      "Processing train inputs:  45%|████████████████████████▏                             | 450/1005 [36:26<48:10,  5.21s/it]"
     ]
    },
    {
     "name": "stdout",
     "output_type": "stream",
     "text": [
      "Success for img(137)_r.png:\n",
      "Testing 0 img(137)_r\n",
      "\n"
     ]
    },
    {
     "name": "stderr",
     "output_type": "stream",
     "text": [
      "Processing train inputs:  45%|████████████████████████▎                             | 452/1005 [36:32<39:04,  4.24s/it]"
     ]
    },
    {
     "name": "stdout",
     "output_type": "stream",
     "text": [
      "Success for img(138)_b.png:\n",
      "Testing 0 img(138)_b\n",
      "\n"
     ]
    },
    {
     "name": "stderr",
     "output_type": "stream",
     "text": [
      "Processing train inputs:  45%|████████████████████████▎                             | 453/1005 [36:38<42:35,  4.63s/it]"
     ]
    },
    {
     "name": "stdout",
     "output_type": "stream",
     "text": [
      "Success for img(138)_g.png:\n",
      "Testing 0 img(138)_g\n",
      "\n"
     ]
    },
    {
     "name": "stderr",
     "output_type": "stream",
     "text": [
      "Processing train inputs:  45%|████████████████████████▍                             | 454/1005 [36:44<45:29,  4.95s/it]"
     ]
    },
    {
     "name": "stdout",
     "output_type": "stream",
     "text": [
      "Success for img(138)_n.png:\n",
      "Testing 0 img(138)_n\n",
      "\n"
     ]
    },
    {
     "name": "stderr",
     "output_type": "stream",
     "text": [
      "Processing train inputs:  45%|████████████████████████▍                             | 455/1005 [36:50<47:40,  5.20s/it]"
     ]
    },
    {
     "name": "stdout",
     "output_type": "stream",
     "text": [
      "Success for img(138)_r.png:\n",
      "Testing 0 img(138)_r\n",
      "\n"
     ]
    },
    {
     "name": "stderr",
     "output_type": "stream",
     "text": [
      "Processing train inputs:  45%|████████████████████████▌                             | 457/1005 [36:56<38:40,  4.24s/it]"
     ]
    },
    {
     "name": "stdout",
     "output_type": "stream",
     "text": [
      "Success for img(139)_b.png:\n",
      "Testing 0 img(139)_b\n",
      "\n"
     ]
    },
    {
     "name": "stderr",
     "output_type": "stream",
     "text": [
      "Processing train inputs:  46%|████████████████████████▌                             | 458/1005 [37:02<42:12,  4.63s/it]"
     ]
    },
    {
     "name": "stdout",
     "output_type": "stream",
     "text": [
      "Success for img(139)_g.png:\n",
      "Testing 0 img(139)_g\n",
      "\n"
     ]
    },
    {
     "name": "stderr",
     "output_type": "stream",
     "text": [
      "Processing train inputs:  46%|████████████████████████▋                             | 459/1005 [37:08<45:03,  4.95s/it]"
     ]
    },
    {
     "name": "stdout",
     "output_type": "stream",
     "text": [
      "Success for img(139)_n.png:\n",
      "Testing 0 img(139)_n\n",
      "\n"
     ]
    },
    {
     "name": "stderr",
     "output_type": "stream",
     "text": [
      "Processing train inputs:  46%|████████████████████████▋                             | 460/1005 [37:14<47:18,  5.21s/it]"
     ]
    },
    {
     "name": "stdout",
     "output_type": "stream",
     "text": [
      "Success for img(139)_r.png:\n",
      "Testing 0 img(139)_r\n",
      "\n"
     ]
    },
    {
     "name": "stderr",
     "output_type": "stream",
     "text": [
      "Processing train inputs:  46%|████████████████████████▊                             | 462/1005 [37:19<38:23,  4.24s/it]"
     ]
    },
    {
     "name": "stdout",
     "output_type": "stream",
     "text": [
      "Success for img(140)_b.png:\n",
      "Testing 0 img(140)_b\n",
      "\n"
     ]
    },
    {
     "name": "stderr",
     "output_type": "stream",
     "text": [
      "Processing train inputs:  46%|████████████████████████▉                             | 463/1005 [37:25<41:59,  4.65s/it]"
     ]
    },
    {
     "name": "stdout",
     "output_type": "stream",
     "text": [
      "Success for img(140)_g.png:\n",
      "Testing 0 img(140)_g\n",
      "\n"
     ]
    },
    {
     "name": "stderr",
     "output_type": "stream",
     "text": [
      "Processing train inputs:  46%|████████████████████████▉                             | 464/1005 [37:31<44:49,  4.97s/it]"
     ]
    },
    {
     "name": "stdout",
     "output_type": "stream",
     "text": [
      "Success for img(140)_n.png:\n",
      "Testing 0 img(140)_n\n",
      "\n"
     ]
    },
    {
     "name": "stderr",
     "output_type": "stream",
     "text": [
      "Processing train inputs:  46%|████████████████████████▉                             | 465/1005 [37:37<46:59,  5.22s/it]"
     ]
    },
    {
     "name": "stdout",
     "output_type": "stream",
     "text": [
      "Success for img(140)_r.png:\n",
      "Testing 0 img(140)_r\n",
      "\n"
     ]
    },
    {
     "name": "stderr",
     "output_type": "stream",
     "text": [
      "Processing train inputs:  46%|█████████████████████████                             | 467/1005 [37:43<38:08,  4.25s/it]"
     ]
    },
    {
     "name": "stdout",
     "output_type": "stream",
     "text": [
      "Success for img(141)_b.png:\n",
      "Testing 0 img(141)_b\n",
      "\n"
     ]
    },
    {
     "name": "stderr",
     "output_type": "stream",
     "text": [
      "Processing train inputs:  47%|█████████████████████████▏                            | 468/1005 [37:49<41:36,  4.65s/it]"
     ]
    },
    {
     "name": "stdout",
     "output_type": "stream",
     "text": [
      "Success for img(141)_g.png:\n",
      "Testing 0 img(141)_g\n",
      "\n"
     ]
    },
    {
     "name": "stderr",
     "output_type": "stream",
     "text": [
      "Processing train inputs:  47%|█████████████████████████▏                            | 469/1005 [37:55<44:25,  4.97s/it]"
     ]
    },
    {
     "name": "stdout",
     "output_type": "stream",
     "text": [
      "Success for img(141)_n.png:\n",
      "Testing 0 img(141)_n\n",
      "\n"
     ]
    },
    {
     "name": "stderr",
     "output_type": "stream",
     "text": [
      "Processing train inputs:  47%|█████████████████████████▎                            | 470/1005 [38:01<46:31,  5.22s/it]"
     ]
    },
    {
     "name": "stdout",
     "output_type": "stream",
     "text": [
      "Success for img(141)_r.png:\n",
      "Testing 0 img(141)_r\n",
      "\n"
     ]
    },
    {
     "name": "stderr",
     "output_type": "stream",
     "text": [
      "Processing train inputs:  47%|█████████████████████████▎                            | 472/1005 [38:07<37:45,  4.25s/it]"
     ]
    },
    {
     "name": "stdout",
     "output_type": "stream",
     "text": [
      "Success for img(142)_b.png:\n",
      "Testing 0 img(142)_b\n",
      "\n"
     ]
    },
    {
     "name": "stderr",
     "output_type": "stream",
     "text": [
      "Processing train inputs:  47%|█████████████████████████▍                            | 473/1005 [38:13<41:07,  4.64s/it]"
     ]
    },
    {
     "name": "stdout",
     "output_type": "stream",
     "text": [
      "Success for img(142)_g.png:\n",
      "Testing 0 img(142)_g\n",
      "\n"
     ]
    },
    {
     "name": "stderr",
     "output_type": "stream",
     "text": [
      "Processing train inputs:  47%|█████████████████████████▍                            | 474/1005 [38:19<43:49,  4.95s/it]"
     ]
    },
    {
     "name": "stdout",
     "output_type": "stream",
     "text": [
      "Success for img(142)_n.png:\n",
      "Testing 0 img(142)_n\n",
      "\n"
     ]
    },
    {
     "name": "stderr",
     "output_type": "stream",
     "text": [
      "Processing train inputs:  47%|█████████████████████████▌                            | 475/1005 [38:25<45:58,  5.21s/it]"
     ]
    },
    {
     "name": "stdout",
     "output_type": "stream",
     "text": [
      "Success for img(142)_r.png:\n",
      "Testing 0 img(142)_r\n",
      "\n"
     ]
    },
    {
     "name": "stderr",
     "output_type": "stream",
     "text": [
      "Processing train inputs:  47%|█████████████████████████▋                            | 477/1005 [38:30<37:12,  4.23s/it]"
     ]
    },
    {
     "name": "stdout",
     "output_type": "stream",
     "text": [
      "Success for img(143)_b.png:\n",
      "Testing 0 img(143)_b\n",
      "\n"
     ]
    },
    {
     "name": "stderr",
     "output_type": "stream",
     "text": [
      "Processing train inputs:  48%|█████████████████████████▋                            | 478/1005 [38:36<40:35,  4.62s/it]"
     ]
    },
    {
     "name": "stdout",
     "output_type": "stream",
     "text": [
      "Success for img(143)_g.png:\n",
      "Testing 0 img(143)_g\n",
      "\n"
     ]
    },
    {
     "name": "stderr",
     "output_type": "stream",
     "text": [
      "Processing train inputs:  48%|█████████████████████████▋                            | 479/1005 [38:42<43:21,  4.95s/it]"
     ]
    },
    {
     "name": "stdout",
     "output_type": "stream",
     "text": [
      "Success for img(143)_n.png:\n",
      "Testing 0 img(143)_n\n",
      "\n"
     ]
    },
    {
     "name": "stderr",
     "output_type": "stream",
     "text": [
      "Processing train inputs:  48%|█████████████████████████▊                            | 480/1005 [38:48<45:31,  5.20s/it]"
     ]
    },
    {
     "name": "stdout",
     "output_type": "stream",
     "text": [
      "Success for img(143)_r.png:\n",
      "Testing 0 img(143)_r\n",
      "\n"
     ]
    },
    {
     "name": "stderr",
     "output_type": "stream",
     "text": [
      "Processing train inputs:  48%|█████████████████████████▉                            | 482/1005 [38:54<36:53,  4.23s/it]"
     ]
    },
    {
     "name": "stdout",
     "output_type": "stream",
     "text": [
      "Success for img(144)_b.png:\n",
      "Testing 0 img(144)_b\n",
      "\n"
     ]
    },
    {
     "name": "stderr",
     "output_type": "stream",
     "text": [
      "Processing train inputs:  48%|█████████████████████████▉                            | 483/1005 [39:00<40:19,  4.63s/it]"
     ]
    },
    {
     "name": "stdout",
     "output_type": "stream",
     "text": [
      "Success for img(144)_g.png:\n",
      "Testing 0 img(144)_g\n",
      "\n"
     ]
    },
    {
     "name": "stderr",
     "output_type": "stream",
     "text": [
      "Processing train inputs:  48%|██████████████████████████                            | 484/1005 [39:06<43:02,  4.96s/it]"
     ]
    },
    {
     "name": "stdout",
     "output_type": "stream",
     "text": [
      "Success for img(144)_n.png:\n",
      "Testing 0 img(144)_n\n",
      "\n"
     ]
    },
    {
     "name": "stderr",
     "output_type": "stream",
     "text": [
      "Processing train inputs:  48%|██████████████████████████                            | 485/1005 [39:12<45:06,  5.20s/it]"
     ]
    },
    {
     "name": "stdout",
     "output_type": "stream",
     "text": [
      "Success for img(144)_r.png:\n",
      "Testing 0 img(144)_r\n",
      "\n"
     ]
    },
    {
     "name": "stderr",
     "output_type": "stream",
     "text": [
      "Processing train inputs:  48%|██████████████████████████▏                           | 487/1005 [39:18<36:34,  4.24s/it]"
     ]
    },
    {
     "name": "stdout",
     "output_type": "stream",
     "text": [
      "Success for img(145)_b.png:\n",
      "Testing 0 img(145)_b\n",
      "\n"
     ]
    },
    {
     "name": "stderr",
     "output_type": "stream",
     "text": [
      "Processing train inputs:  49%|██████████████████████████▏                           | 488/1005 [39:24<39:55,  4.63s/it]"
     ]
    },
    {
     "name": "stdout",
     "output_type": "stream",
     "text": [
      "Success for img(145)_g.png:\n",
      "Testing 0 img(145)_g\n",
      "\n"
     ]
    },
    {
     "name": "stderr",
     "output_type": "stream",
     "text": [
      "Processing train inputs:  49%|██████████████████████████▎                           | 489/1005 [39:30<42:51,  4.98s/it]"
     ]
    },
    {
     "name": "stdout",
     "output_type": "stream",
     "text": [
      "Success for img(145)_n.png:\n",
      "Testing 0 img(145)_n\n",
      "\n"
     ]
    },
    {
     "name": "stderr",
     "output_type": "stream",
     "text": [
      "Processing train inputs:  49%|██████████████████████████▎                           | 490/1005 [39:36<45:10,  5.26s/it]"
     ]
    },
    {
     "name": "stdout",
     "output_type": "stream",
     "text": [
      "Success for img(145)_r.png:\n",
      "Testing 0 img(145)_r\n",
      "\n"
     ]
    },
    {
     "name": "stderr",
     "output_type": "stream",
     "text": [
      "Processing train inputs:  49%|██████████████████████████▍                           | 492/1005 [39:42<36:29,  4.27s/it]"
     ]
    },
    {
     "name": "stdout",
     "output_type": "stream",
     "text": [
      "Success for img(146)_b.png:\n",
      "Testing 0 img(146)_b\n",
      "\n"
     ]
    },
    {
     "name": "stderr",
     "output_type": "stream",
     "text": [
      "Processing train inputs:  49%|██████████████████████████▍                           | 493/1005 [39:48<39:40,  4.65s/it]"
     ]
    },
    {
     "name": "stdout",
     "output_type": "stream",
     "text": [
      "Success for img(146)_g.png:\n",
      "Testing 0 img(146)_g\n",
      "\n"
     ]
    },
    {
     "name": "stderr",
     "output_type": "stream",
     "text": [
      "Processing train inputs:  49%|██████████████████████████▌                           | 494/1005 [39:53<42:20,  4.97s/it]"
     ]
    },
    {
     "name": "stdout",
     "output_type": "stream",
     "text": [
      "Success for img(146)_n.png:\n",
      "Testing 0 img(146)_n\n",
      "\n"
     ]
    },
    {
     "name": "stderr",
     "output_type": "stream",
     "text": [
      "Processing train inputs:  49%|██████████████████████████▌                           | 495/1005 [39:59<44:17,  5.21s/it]"
     ]
    },
    {
     "name": "stdout",
     "output_type": "stream",
     "text": [
      "Success for img(146)_r.png:\n",
      "Testing 0 img(146)_r\n",
      "\n"
     ]
    },
    {
     "name": "stderr",
     "output_type": "stream",
     "text": [
      "Processing train inputs:  49%|██████████████████████████▋                           | 497/1005 [40:05<35:49,  4.23s/it]"
     ]
    },
    {
     "name": "stdout",
     "output_type": "stream",
     "text": [
      "Success for img(147)_b.png:\n",
      "Testing 0 img(147)_b\n",
      "\n"
     ]
    },
    {
     "name": "stderr",
     "output_type": "stream",
     "text": [
      "Processing train inputs:  50%|██████████████████████████▊                           | 498/1005 [40:11<39:08,  4.63s/it]"
     ]
    },
    {
     "name": "stdout",
     "output_type": "stream",
     "text": [
      "Success for img(147)_g.png:\n",
      "Testing 0 img(147)_g\n",
      "\n"
     ]
    },
    {
     "name": "stderr",
     "output_type": "stream",
     "text": [
      "Processing train inputs:  50%|██████████████████████████▊                           | 499/1005 [40:17<41:41,  4.94s/it]"
     ]
    },
    {
     "name": "stdout",
     "output_type": "stream",
     "text": [
      "Success for img(147)_n.png:\n",
      "Testing 0 img(147)_n\n",
      "\n"
     ]
    },
    {
     "name": "stderr",
     "output_type": "stream",
     "text": [
      "Processing train inputs:  50%|██████████████████████████▊                           | 500/1005 [40:23<43:42,  5.19s/it]"
     ]
    },
    {
     "name": "stdout",
     "output_type": "stream",
     "text": [
      "Success for img(147)_r.png:\n",
      "Testing 0 img(147)_r\n",
      "\n"
     ]
    },
    {
     "name": "stderr",
     "output_type": "stream",
     "text": [
      "Processing train inputs:  50%|██████████████████████████▉                           | 502/1005 [40:29<35:30,  4.23s/it]"
     ]
    },
    {
     "name": "stdout",
     "output_type": "stream",
     "text": [
      "Success for img(148)_b.png:\n",
      "Testing 0 img(148)_b\n",
      "\n"
     ]
    },
    {
     "name": "stderr",
     "output_type": "stream",
     "text": [
      "Processing train inputs:  50%|███████████████████████████                           | 503/1005 [40:35<38:49,  4.64s/it]"
     ]
    },
    {
     "name": "stdout",
     "output_type": "stream",
     "text": [
      "Success for img(148)_g.png:\n",
      "Testing 0 img(148)_g\n",
      "\n"
     ]
    },
    {
     "name": "stderr",
     "output_type": "stream",
     "text": [
      "Processing train inputs:  50%|███████████████████████████                           | 504/1005 [40:41<41:29,  4.97s/it]"
     ]
    },
    {
     "name": "stdout",
     "output_type": "stream",
     "text": [
      "Success for img(148)_n.png:\n",
      "Testing 0 img(148)_n\n",
      "\n"
     ]
    },
    {
     "name": "stderr",
     "output_type": "stream",
     "text": [
      "Processing train inputs:  50%|███████████████████████████▏                          | 505/1005 [40:47<43:26,  5.21s/it]"
     ]
    },
    {
     "name": "stdout",
     "output_type": "stream",
     "text": [
      "Success for img(148)_r.png:\n",
      "Testing 0 img(148)_r\n",
      "\n"
     ]
    },
    {
     "name": "stderr",
     "output_type": "stream",
     "text": [
      "Processing train inputs:  50%|███████████████████████████▏                          | 507/1005 [40:53<35:08,  4.23s/it]"
     ]
    },
    {
     "name": "stdout",
     "output_type": "stream",
     "text": [
      "Success for img(149)_b.png:\n",
      "Testing 0 img(149)_b\n",
      "\n"
     ]
    },
    {
     "name": "stderr",
     "output_type": "stream",
     "text": [
      "Processing train inputs:  51%|███████████████████████████▎                          | 508/1005 [40:58<38:19,  4.63s/it]"
     ]
    },
    {
     "name": "stdout",
     "output_type": "stream",
     "text": [
      "Success for img(149)_g.png:\n",
      "Testing 0 img(149)_g\n",
      "\n"
     ]
    },
    {
     "name": "stderr",
     "output_type": "stream",
     "text": [
      "Processing train inputs:  51%|███████████████████████████▎                          | 509/1005 [41:04<40:57,  4.95s/it]"
     ]
    },
    {
     "name": "stdout",
     "output_type": "stream",
     "text": [
      "Success for img(149)_n.png:\n",
      "Testing 0 img(149)_n\n",
      "\n"
     ]
    },
    {
     "name": "stderr",
     "output_type": "stream",
     "text": [
      "Processing train inputs:  51%|███████████████████████████▍                          | 510/1005 [41:10<42:55,  5.20s/it]"
     ]
    },
    {
     "name": "stdout",
     "output_type": "stream",
     "text": [
      "Success for img(149)_r.png:\n",
      "Testing 0 img(149)_r\n",
      "\n"
     ]
    },
    {
     "name": "stderr",
     "output_type": "stream",
     "text": [
      "Processing train inputs:  51%|███████████████████████████▌                          | 512/1005 [41:16<34:41,  4.22s/it]"
     ]
    },
    {
     "name": "stdout",
     "output_type": "stream",
     "text": [
      "Success for img(150)_b.png:\n",
      "Testing 0 img(150)_b\n",
      "\n"
     ]
    },
    {
     "name": "stderr",
     "output_type": "stream",
     "text": [
      "Processing train inputs:  51%|███████████████████████████▌                          | 513/1005 [41:22<37:57,  4.63s/it]"
     ]
    },
    {
     "name": "stdout",
     "output_type": "stream",
     "text": [
      "Success for img(150)_g.png:\n",
      "Testing 0 img(150)_g\n",
      "\n"
     ]
    },
    {
     "name": "stderr",
     "output_type": "stream",
     "text": [
      "Processing train inputs:  51%|███████████████████████████▌                          | 514/1005 [41:28<40:26,  4.94s/it]"
     ]
    },
    {
     "name": "stdout",
     "output_type": "stream",
     "text": [
      "Success for img(150)_n.png:\n",
      "Testing 0 img(150)_n\n",
      "\n"
     ]
    },
    {
     "name": "stderr",
     "output_type": "stream",
     "text": [
      "Processing train inputs:  51%|███████████████████████████▋                          | 515/1005 [41:34<42:29,  5.20s/it]"
     ]
    },
    {
     "name": "stdout",
     "output_type": "stream",
     "text": [
      "Success for img(150)_r.png:\n",
      "Testing 0 img(150)_r\n",
      "\n"
     ]
    },
    {
     "name": "stderr",
     "output_type": "stream",
     "text": [
      "Processing train inputs:  51%|███████████████████████████▊                          | 517/1005 [41:40<34:24,  4.23s/it]"
     ]
    },
    {
     "name": "stdout",
     "output_type": "stream",
     "text": [
      "Success for img(151)_b.png:\n",
      "Testing 0 img(151)_b\n",
      "\n"
     ]
    },
    {
     "name": "stderr",
     "output_type": "stream",
     "text": [
      "Processing train inputs:  52%|███████████████████████████▊                          | 518/1005 [41:46<37:29,  4.62s/it]"
     ]
    },
    {
     "name": "stdout",
     "output_type": "stream",
     "text": [
      "Success for img(151)_g.png:\n",
      "Testing 0 img(151)_g\n",
      "\n"
     ]
    },
    {
     "name": "stderr",
     "output_type": "stream",
     "text": [
      "Processing train inputs:  52%|███████████████████████████▉                          | 519/1005 [41:52<40:18,  4.98s/it]"
     ]
    },
    {
     "name": "stdout",
     "output_type": "stream",
     "text": [
      "Success for img(151)_n.png:\n",
      "Testing 0 img(151)_n\n",
      "\n"
     ]
    },
    {
     "name": "stderr",
     "output_type": "stream",
     "text": [
      "Processing train inputs:  52%|███████████████████████████▉                          | 520/1005 [41:58<42:22,  5.24s/it]"
     ]
    },
    {
     "name": "stdout",
     "output_type": "stream",
     "text": [
      "Success for img(151)_r.png:\n",
      "Testing 0 img(151)_r\n",
      "\n"
     ]
    },
    {
     "name": "stderr",
     "output_type": "stream",
     "text": [
      "Processing train inputs:  52%|████████████████████████████                          | 522/1005 [42:04<34:15,  4.26s/it]"
     ]
    },
    {
     "name": "stdout",
     "output_type": "stream",
     "text": [
      "Success for img(152)_b.png:\n",
      "Testing 0 img(152)_b\n",
      "\n"
     ]
    },
    {
     "name": "stderr",
     "output_type": "stream",
     "text": [
      "Processing train inputs:  52%|████████████████████████████                          | 523/1005 [42:09<37:20,  4.65s/it]"
     ]
    },
    {
     "name": "stdout",
     "output_type": "stream",
     "text": [
      "Success for img(152)_g.png:\n",
      "Testing 0 img(152)_g\n",
      "\n"
     ]
    },
    {
     "name": "stderr",
     "output_type": "stream",
     "text": [
      "Processing train inputs:  52%|████████████████████████████▏                         | 524/1005 [42:15<39:45,  4.96s/it]"
     ]
    },
    {
     "name": "stdout",
     "output_type": "stream",
     "text": [
      "Success for img(152)_n.png:\n",
      "Testing 0 img(152)_n\n",
      "\n"
     ]
    },
    {
     "name": "stderr",
     "output_type": "stream",
     "text": [
      "Processing train inputs:  52%|████████████████████████████▏                         | 525/1005 [42:21<41:39,  5.21s/it]"
     ]
    },
    {
     "name": "stdout",
     "output_type": "stream",
     "text": [
      "Success for img(152)_r.png:\n",
      "Testing 0 img(152)_r\n",
      "\n"
     ]
    },
    {
     "name": "stderr",
     "output_type": "stream",
     "text": [
      "Processing train inputs:  52%|████████████████████████████▎                         | 527/1005 [42:27<33:41,  4.23s/it]"
     ]
    },
    {
     "name": "stdout",
     "output_type": "stream",
     "text": [
      "Success for img(153)_b.png:\n",
      "Testing 0 img(153)_b\n",
      "\n"
     ]
    },
    {
     "name": "stderr",
     "output_type": "stream",
     "text": [
      "Processing train inputs:  53%|████████████████████████████▎                         | 528/1005 [42:33<36:46,  4.63s/it]"
     ]
    },
    {
     "name": "stdout",
     "output_type": "stream",
     "text": [
      "Success for img(153)_g.png:\n",
      "Testing 0 img(153)_g\n",
      "\n"
     ]
    },
    {
     "name": "stderr",
     "output_type": "stream",
     "text": [
      "Processing train inputs:  53%|████████████████████████████▍                         | 529/1005 [42:39<39:15,  4.95s/it]"
     ]
    },
    {
     "name": "stdout",
     "output_type": "stream",
     "text": [
      "Success for img(153)_n.png:\n",
      "Testing 0 img(153)_n\n",
      "\n"
     ]
    },
    {
     "name": "stderr",
     "output_type": "stream",
     "text": [
      "Processing train inputs:  53%|████████████████████████████▍                         | 530/1005 [42:45<41:09,  5.20s/it]"
     ]
    },
    {
     "name": "stdout",
     "output_type": "stream",
     "text": [
      "Success for img(153)_r.png:\n",
      "Testing 0 img(153)_r\n",
      "\n"
     ]
    },
    {
     "name": "stderr",
     "output_type": "stream",
     "text": [
      "Processing train inputs:  53%|████████████████████████████▌                         | 532/1005 [42:51<33:21,  4.23s/it]"
     ]
    },
    {
     "name": "stdout",
     "output_type": "stream",
     "text": [
      "Success for img(154)_b.png:\n",
      "Testing 0 img(154)_b\n",
      "\n"
     ]
    },
    {
     "name": "stderr",
     "output_type": "stream",
     "text": [
      "Processing train inputs:  53%|████████████████████████████▋                         | 533/1005 [42:57<36:26,  4.63s/it]"
     ]
    },
    {
     "name": "stdout",
     "output_type": "stream",
     "text": [
      "Success for img(154)_g.png:\n",
      "Testing 0 img(154)_g\n",
      "\n"
     ]
    },
    {
     "name": "stderr",
     "output_type": "stream",
     "text": [
      "Processing train inputs:  53%|████████████████████████████▋                         | 534/1005 [43:03<38:54,  4.96s/it]"
     ]
    },
    {
     "name": "stdout",
     "output_type": "stream",
     "text": [
      "Success for img(154)_n.png:\n",
      "Testing 0 img(154)_n\n",
      "\n"
     ]
    },
    {
     "name": "stderr",
     "output_type": "stream",
     "text": [
      "Processing train inputs:  53%|████████████████████████████▋                         | 535/1005 [43:09<40:49,  5.21s/it]"
     ]
    },
    {
     "name": "stdout",
     "output_type": "stream",
     "text": [
      "Success for img(154)_r.png:\n",
      "Testing 0 img(154)_r\n",
      "\n"
     ]
    },
    {
     "name": "stderr",
     "output_type": "stream",
     "text": [
      "Processing train inputs:  53%|████████████████████████████▊                         | 537/1005 [43:14<33:03,  4.24s/it]"
     ]
    },
    {
     "name": "stdout",
     "output_type": "stream",
     "text": [
      "Success for img(155)_b.png:\n",
      "Testing 0 img(155)_b\n",
      "\n"
     ]
    },
    {
     "name": "stderr",
     "output_type": "stream",
     "text": [
      "Processing train inputs:  54%|████████████████████████████▉                         | 538/1005 [43:20<36:04,  4.63s/it]"
     ]
    },
    {
     "name": "stdout",
     "output_type": "stream",
     "text": [
      "Success for img(155)_g.png:\n",
      "Testing 0 img(155)_g\n",
      "\n"
     ]
    },
    {
     "name": "stderr",
     "output_type": "stream",
     "text": [
      "Processing train inputs:  54%|████████████████████████████▉                         | 539/1005 [43:26<38:30,  4.96s/it]"
     ]
    },
    {
     "name": "stdout",
     "output_type": "stream",
     "text": [
      "Success for img(155)_n.png:\n",
      "Testing 0 img(155)_n\n",
      "\n"
     ]
    },
    {
     "name": "stderr",
     "output_type": "stream",
     "text": [
      "Processing train inputs:  54%|█████████████████████████████                         | 540/1005 [43:32<40:21,  5.21s/it]"
     ]
    },
    {
     "name": "stdout",
     "output_type": "stream",
     "text": [
      "Success for img(155)_r.png:\n",
      "Testing 0 img(155)_r\n",
      "\n"
     ]
    },
    {
     "name": "stderr",
     "output_type": "stream",
     "text": [
      "Processing train inputs:  54%|█████████████████████████████                         | 542/1005 [43:38<32:42,  4.24s/it]"
     ]
    },
    {
     "name": "stdout",
     "output_type": "stream",
     "text": [
      "Success for img(156)_b.png:\n",
      "Testing 0 img(156)_b\n",
      "\n"
     ]
    },
    {
     "name": "stderr",
     "output_type": "stream",
     "text": [
      "Processing train inputs:  54%|█████████████████████████████▏                        | 543/1005 [43:44<35:44,  4.64s/it]"
     ]
    },
    {
     "name": "stdout",
     "output_type": "stream",
     "text": [
      "Success for img(156)_g.png:\n",
      "Testing 0 img(156)_g\n",
      "\n"
     ]
    },
    {
     "name": "stderr",
     "output_type": "stream",
     "text": [
      "Processing train inputs:  54%|█████████████████████████████▏                        | 544/1005 [43:50<38:17,  4.98s/it]"
     ]
    },
    {
     "name": "stdout",
     "output_type": "stream",
     "text": [
      "Success for img(156)_n.png:\n",
      "Testing 0 img(156)_n\n",
      "\n"
     ]
    },
    {
     "name": "stderr",
     "output_type": "stream",
     "text": [
      "Processing train inputs:  54%|█████████████████████████████▎                        | 545/1005 [43:56<40:34,  5.29s/it]"
     ]
    },
    {
     "name": "stdout",
     "output_type": "stream",
     "text": [
      "Success for img(156)_r.png:\n",
      "Testing 0 img(156)_r\n",
      "\n"
     ]
    },
    {
     "name": "stderr",
     "output_type": "stream",
     "text": [
      "Processing train inputs:  54%|█████████████████████████████▍                        | 547/1005 [44:02<32:44,  4.29s/it]"
     ]
    },
    {
     "name": "stdout",
     "output_type": "stream",
     "text": [
      "Success for img(157)_b.png:\n",
      "Testing 0 img(157)_b\n",
      "\n"
     ]
    },
    {
     "name": "stderr",
     "output_type": "stream",
     "text": [
      "Processing train inputs:  55%|█████████████████████████████▍                        | 548/1005 [44:08<35:33,  4.67s/it]"
     ]
    },
    {
     "name": "stdout",
     "output_type": "stream",
     "text": [
      "Success for img(157)_g.png:\n",
      "Testing 0 img(157)_g\n",
      "\n"
     ]
    },
    {
     "name": "stderr",
     "output_type": "stream",
     "text": [
      "Processing train inputs:  55%|█████████████████████████████▍                        | 549/1005 [44:14<37:50,  4.98s/it]"
     ]
    },
    {
     "name": "stdout",
     "output_type": "stream",
     "text": [
      "Success for img(157)_n.png:\n",
      "Testing 0 img(157)_n\n",
      "\n"
     ]
    },
    {
     "name": "stderr",
     "output_type": "stream",
     "text": [
      "Processing train inputs:  55%|█████████████████████████████▌                        | 550/1005 [44:21<41:32,  5.48s/it]"
     ]
    },
    {
     "name": "stdout",
     "output_type": "stream",
     "text": [
      "Success for img(157)_r.png:\n",
      "Testing 0 img(157)_r\n",
      "\n"
     ]
    },
    {
     "name": "stderr",
     "output_type": "stream",
     "text": [
      "Processing train inputs:  55%|█████████████████████████████▋                        | 552/1005 [44:27<33:13,  4.40s/it]"
     ]
    },
    {
     "name": "stdout",
     "output_type": "stream",
     "text": [
      "Success for img(158)_b.png:\n",
      "Testing 0 img(158)_b\n",
      "\n"
     ]
    },
    {
     "name": "stderr",
     "output_type": "stream",
     "text": [
      "Processing train inputs:  55%|█████████████████████████████▋                        | 553/1005 [44:33<35:55,  4.77s/it]"
     ]
    },
    {
     "name": "stdout",
     "output_type": "stream",
     "text": [
      "Success for img(158)_g.png:\n",
      "Testing 0 img(158)_g\n",
      "\n"
     ]
    },
    {
     "name": "stderr",
     "output_type": "stream",
     "text": [
      "Processing train inputs:  55%|█████████████████████████████▊                        | 554/1005 [44:39<37:57,  5.05s/it]"
     ]
    },
    {
     "name": "stdout",
     "output_type": "stream",
     "text": [
      "Success for img(158)_n.png:\n",
      "Testing 0 img(158)_n\n",
      "\n"
     ]
    },
    {
     "name": "stderr",
     "output_type": "stream",
     "text": [
      "Processing train inputs:  55%|█████████████████████████████▊                        | 555/1005 [44:44<39:32,  5.27s/it]"
     ]
    },
    {
     "name": "stdout",
     "output_type": "stream",
     "text": [
      "Success for img(158)_r.png:\n",
      "Testing 0 img(158)_r\n",
      "\n"
     ]
    },
    {
     "name": "stderr",
     "output_type": "stream",
     "text": [
      "Processing train inputs:  55%|█████████████████████████████▉                        | 557/1005 [44:50<31:55,  4.28s/it]"
     ]
    },
    {
     "name": "stdout",
     "output_type": "stream",
     "text": [
      "Success for img(159)_b.png:\n",
      "Testing 0 img(159)_b\n",
      "\n"
     ]
    },
    {
     "name": "stderr",
     "output_type": "stream",
     "text": [
      "Processing train inputs:  56%|█████████████████████████████▉                        | 558/1005 [44:56<34:44,  4.66s/it]"
     ]
    },
    {
     "name": "stdout",
     "output_type": "stream",
     "text": [
      "Success for img(159)_g.png:\n",
      "Testing 0 img(159)_g\n",
      "\n"
     ]
    },
    {
     "name": "stderr",
     "output_type": "stream",
     "text": [
      "Processing train inputs:  56%|██████████████████████████████                        | 559/1005 [45:02<36:58,  4.97s/it]"
     ]
    },
    {
     "name": "stdout",
     "output_type": "stream",
     "text": [
      "Success for img(159)_n.png:\n",
      "Testing 0 img(159)_n\n",
      "\n"
     ]
    },
    {
     "name": "stderr",
     "output_type": "stream",
     "text": [
      "Processing train inputs:  56%|██████████████████████████████                        | 560/1005 [45:08<38:40,  5.22s/it]"
     ]
    },
    {
     "name": "stdout",
     "output_type": "stream",
     "text": [
      "Success for img(159)_r.png:\n",
      "Testing 0 img(159)_r\n",
      "\n"
     ]
    },
    {
     "name": "stderr",
     "output_type": "stream",
     "text": [
      "Processing train inputs:  56%|██████████████████████████████▏                       | 562/1005 [45:14<31:19,  4.24s/it]"
     ]
    },
    {
     "name": "stdout",
     "output_type": "stream",
     "text": [
      "Success for img(160)_b.png:\n",
      "Testing 0 img(160)_b\n",
      "\n"
     ]
    },
    {
     "name": "stderr",
     "output_type": "stream",
     "text": [
      "Processing train inputs:  56%|██████████████████████████████▎                       | 563/1005 [45:20<34:11,  4.64s/it]"
     ]
    },
    {
     "name": "stdout",
     "output_type": "stream",
     "text": [
      "Success for img(160)_g.png:\n",
      "Testing 0 img(160)_g\n",
      "\n"
     ]
    },
    {
     "name": "stderr",
     "output_type": "stream",
     "text": [
      "Processing train inputs:  56%|██████████████████████████████▎                       | 564/1005 [45:26<36:31,  4.97s/it]"
     ]
    },
    {
     "name": "stdout",
     "output_type": "stream",
     "text": [
      "Success for img(160)_n.png:\n",
      "Testing 0 img(160)_n\n",
      "\n"
     ]
    },
    {
     "name": "stderr",
     "output_type": "stream",
     "text": [
      "Processing train inputs:  56%|██████████████████████████████▎                       | 565/1005 [45:32<38:55,  5.31s/it]"
     ]
    },
    {
     "name": "stdout",
     "output_type": "stream",
     "text": [
      "Success for img(160)_r.png:\n",
      "Testing 0 img(160)_r\n",
      "\n"
     ]
    },
    {
     "name": "stderr",
     "output_type": "stream",
     "text": [
      "Processing train inputs:  56%|██████████████████████████████▍                       | 567/1005 [45:38<31:31,  4.32s/it]"
     ]
    },
    {
     "name": "stdout",
     "output_type": "stream",
     "text": [
      "Success for img(161)_b.png:\n",
      "Testing 0 img(161)_b\n",
      "\n"
     ]
    },
    {
     "name": "stderr",
     "output_type": "stream",
     "text": [
      "Processing train inputs:  57%|██████████████████████████████▌                       | 568/1005 [45:44<34:09,  4.69s/it]"
     ]
    },
    {
     "name": "stdout",
     "output_type": "stream",
     "text": [
      "Success for img(161)_g.png:\n",
      "Testing 0 img(161)_g\n",
      "\n"
     ]
    },
    {
     "name": "stderr",
     "output_type": "stream",
     "text": [
      "Processing train inputs:  57%|██████████████████████████████▌                       | 569/1005 [45:50<36:35,  5.04s/it]"
     ]
    },
    {
     "name": "stdout",
     "output_type": "stream",
     "text": [
      "Success for img(161)_n.png:\n",
      "Testing 0 img(161)_n\n",
      "\n"
     ]
    },
    {
     "name": "stderr",
     "output_type": "stream",
     "text": [
      "Processing train inputs:  57%|██████████████████████████████▋                       | 570/1005 [45:57<39:40,  5.47s/it]"
     ]
    },
    {
     "name": "stdout",
     "output_type": "stream",
     "text": [
      "Success for img(161)_r.png:\n",
      "Testing 0 img(161)_r\n",
      "\n"
     ]
    },
    {
     "name": "stderr",
     "output_type": "stream",
     "text": [
      "Processing train inputs:  57%|██████████████████████████████▋                       | 572/1005 [46:03<31:49,  4.41s/it]"
     ]
    },
    {
     "name": "stdout",
     "output_type": "stream",
     "text": [
      "Success for img(162)_b.png:\n",
      "Testing 0 img(162)_b\n",
      "\n"
     ]
    },
    {
     "name": "stderr",
     "output_type": "stream",
     "text": [
      "Processing train inputs:  57%|██████████████████████████████▊                       | 573/1005 [46:09<34:41,  4.82s/it]"
     ]
    },
    {
     "name": "stdout",
     "output_type": "stream",
     "text": [
      "Success for img(162)_g.png:\n",
      "Testing 0 img(162)_g\n",
      "\n"
     ]
    },
    {
     "name": "stderr",
     "output_type": "stream",
     "text": [
      "Processing train inputs:  57%|██████████████████████████████▊                       | 574/1005 [46:15<37:00,  5.15s/it]"
     ]
    },
    {
     "name": "stdout",
     "output_type": "stream",
     "text": [
      "Success for img(162)_n.png:\n",
      "Testing 0 img(162)_n\n",
      "\n"
     ]
    },
    {
     "name": "stderr",
     "output_type": "stream",
     "text": [
      "Processing train inputs:  57%|██████████████████████████████▉                       | 575/1005 [46:21<38:25,  5.36s/it]"
     ]
    },
    {
     "name": "stdout",
     "output_type": "stream",
     "text": [
      "Success for img(162)_r.png:\n",
      "Testing 0 img(162)_r\n",
      "\n"
     ]
    },
    {
     "name": "stderr",
     "output_type": "stream",
     "text": [
      "Processing train inputs:  57%|███████████████████████████████                       | 577/1005 [46:27<30:55,  4.33s/it]"
     ]
    },
    {
     "name": "stdout",
     "output_type": "stream",
     "text": [
      "Success for img(163)_b.png:\n",
      "Testing 0 img(163)_b\n",
      "\n"
     ]
    },
    {
     "name": "stderr",
     "output_type": "stream",
     "text": [
      "Processing train inputs:  58%|███████████████████████████████                       | 578/1005 [46:33<33:35,  4.72s/it]"
     ]
    },
    {
     "name": "stdout",
     "output_type": "stream",
     "text": [
      "Success for img(163)_g.png:\n",
      "Testing 0 img(163)_g\n",
      "\n"
     ]
    },
    {
     "name": "stderr",
     "output_type": "stream",
     "text": [
      "Processing train inputs:  58%|███████████████████████████████                       | 579/1005 [46:39<35:45,  5.04s/it]"
     ]
    },
    {
     "name": "stdout",
     "output_type": "stream",
     "text": [
      "Success for img(163)_n.png:\n",
      "Testing 0 img(163)_n\n",
      "\n"
     ]
    },
    {
     "name": "stderr",
     "output_type": "stream",
     "text": [
      "Processing train inputs:  58%|███████████████████████████████▏                      | 580/1005 [46:45<37:24,  5.28s/it]"
     ]
    },
    {
     "name": "stdout",
     "output_type": "stream",
     "text": [
      "Success for img(163)_r.png:\n",
      "Testing 0 img(163)_r\n",
      "\n"
     ]
    },
    {
     "name": "stderr",
     "output_type": "stream",
     "text": [
      "Processing train inputs:  58%|███████████████████████████████▎                      | 582/1005 [46:51<30:10,  4.28s/it]"
     ]
    },
    {
     "name": "stdout",
     "output_type": "stream",
     "text": [
      "Success for img(164)_b.png:\n",
      "Testing 0 img(164)_b\n",
      "\n"
     ]
    },
    {
     "name": "stderr",
     "output_type": "stream",
     "text": [
      "Processing train inputs:  58%|███████████████████████████████▎                      | 583/1005 [46:57<32:48,  4.67s/it]"
     ]
    },
    {
     "name": "stdout",
     "output_type": "stream",
     "text": [
      "Success for img(164)_g.png:\n",
      "Testing 0 img(164)_g\n",
      "\n"
     ]
    },
    {
     "name": "stderr",
     "output_type": "stream",
     "text": [
      "Processing train inputs:  58%|███████████████████████████████▍                      | 584/1005 [47:03<34:57,  4.98s/it]"
     ]
    },
    {
     "name": "stdout",
     "output_type": "stream",
     "text": [
      "Success for img(164)_n.png:\n",
      "Testing 0 img(164)_n\n",
      "\n"
     ]
    },
    {
     "name": "stderr",
     "output_type": "stream",
     "text": [
      "Processing train inputs:  58%|███████████████████████████████▍                      | 585/1005 [47:09<36:33,  5.22s/it]"
     ]
    },
    {
     "name": "stdout",
     "output_type": "stream",
     "text": [
      "Success for img(164)_r.png:\n",
      "Testing 0 img(164)_r\n",
      "\n"
     ]
    },
    {
     "name": "stderr",
     "output_type": "stream",
     "text": [
      "Processing train inputs:  58%|███████████████████████████████▌                      | 587/1005 [47:14<29:34,  4.25s/it]"
     ]
    },
    {
     "name": "stdout",
     "output_type": "stream",
     "text": [
      "Success for img(165)_b.png:\n",
      "Testing 0 img(165)_b\n",
      "\n"
     ]
    },
    {
     "name": "stderr",
     "output_type": "stream",
     "text": [
      "Processing train inputs:  59%|███████████████████████████████▌                      | 588/1005 [47:20<32:13,  4.64s/it]"
     ]
    },
    {
     "name": "stdout",
     "output_type": "stream",
     "text": [
      "Success for img(165)_g.png:\n",
      "Testing 0 img(165)_g\n",
      "\n"
     ]
    },
    {
     "name": "stderr",
     "output_type": "stream",
     "text": [
      "Processing train inputs:  59%|███████████████████████████████▋                      | 589/1005 [47:26<34:20,  4.95s/it]"
     ]
    },
    {
     "name": "stdout",
     "output_type": "stream",
     "text": [
      "Success for img(165)_n.png:\n",
      "Testing 0 img(165)_n\n",
      "\n"
     ]
    },
    {
     "name": "stderr",
     "output_type": "stream",
     "text": [
      "Processing train inputs:  59%|███████████████████████████████▋                      | 590/1005 [47:32<36:00,  5.21s/it]"
     ]
    },
    {
     "name": "stdout",
     "output_type": "stream",
     "text": [
      "Success for img(165)_r.png:\n",
      "Testing 0 img(165)_r\n",
      "\n"
     ]
    },
    {
     "name": "stderr",
     "output_type": "stream",
     "text": [
      "Processing train inputs:  59%|███████████████████████████████▊                      | 592/1005 [47:38<29:11,  4.24s/it]"
     ]
    },
    {
     "name": "stdout",
     "output_type": "stream",
     "text": [
      "Success for img(166)_b.png:\n",
      "Testing 0 img(166)_b\n",
      "\n"
     ]
    },
    {
     "name": "stderr",
     "output_type": "stream",
     "text": [
      "Processing train inputs:  59%|███████████████████████████████▊                      | 593/1005 [47:44<31:48,  4.63s/it]"
     ]
    },
    {
     "name": "stdout",
     "output_type": "stream",
     "text": [
      "Success for img(166)_g.png:\n",
      "Testing 0 img(166)_g\n",
      "\n"
     ]
    },
    {
     "name": "stderr",
     "output_type": "stream",
     "text": [
      "Processing train inputs:  59%|███████████████████████████████▉                      | 594/1005 [47:50<34:12,  4.99s/it]"
     ]
    },
    {
     "name": "stdout",
     "output_type": "stream",
     "text": [
      "Success for img(166)_n.png:\n",
      "Testing 0 img(166)_n\n",
      "\n"
     ]
    },
    {
     "name": "stderr",
     "output_type": "stream",
     "text": [
      "Processing train inputs:  59%|███████████████████████████████▉                      | 595/1005 [47:56<35:49,  5.24s/it]"
     ]
    },
    {
     "name": "stdout",
     "output_type": "stream",
     "text": [
      "Success for img(166)_r.png:\n",
      "Testing 0 img(166)_r\n",
      "\n"
     ]
    },
    {
     "name": "stderr",
     "output_type": "stream",
     "text": [
      "Processing train inputs:  59%|████████████████████████████████                      | 597/1005 [48:02<28:58,  4.26s/it]"
     ]
    },
    {
     "name": "stdout",
     "output_type": "stream",
     "text": [
      "Success for img(167)_b.png:\n",
      "Testing 0 img(167)_b\n",
      "\n"
     ]
    },
    {
     "name": "stderr",
     "output_type": "stream",
     "text": [
      "Processing train inputs:  60%|████████████████████████████████▏                     | 598/1005 [48:08<31:31,  4.65s/it]"
     ]
    },
    {
     "name": "stdout",
     "output_type": "stream",
     "text": [
      "Success for img(167)_g.png:\n",
      "Testing 0 img(167)_g\n",
      "\n"
     ]
    },
    {
     "name": "stderr",
     "output_type": "stream",
     "text": [
      "Processing train inputs:  60%|████████████████████████████████▏                     | 599/1005 [48:14<33:38,  4.97s/it]"
     ]
    },
    {
     "name": "stdout",
     "output_type": "stream",
     "text": [
      "Success for img(167)_n.png:\n",
      "Testing 0 img(167)_n\n",
      "\n"
     ]
    },
    {
     "name": "stderr",
     "output_type": "stream",
     "text": [
      "Processing train inputs:  60%|████████████████████████████████▏                     | 600/1005 [48:20<35:16,  5.23s/it]"
     ]
    },
    {
     "name": "stdout",
     "output_type": "stream",
     "text": [
      "Success for img(167)_r.png:\n",
      "Testing 0 img(167)_r\n",
      "\n"
     ]
    },
    {
     "name": "stderr",
     "output_type": "stream",
     "text": [
      "Processing train inputs:  60%|████████████████████████████████▎                     | 602/1005 [48:26<28:30,  4.24s/it]"
     ]
    },
    {
     "name": "stdout",
     "output_type": "stream",
     "text": [
      "Success for img(168)_b.png:\n",
      "Testing 0 img(168)_b\n",
      "\n"
     ]
    },
    {
     "name": "stderr",
     "output_type": "stream",
     "text": [
      "Processing train inputs:  60%|████████████████████████████████▍                     | 603/1005 [48:32<31:05,  4.64s/it]"
     ]
    },
    {
     "name": "stdout",
     "output_type": "stream",
     "text": [
      "Success for img(168)_g.png:\n",
      "Testing 0 img(168)_g\n",
      "\n"
     ]
    },
    {
     "name": "stderr",
     "output_type": "stream",
     "text": [
      "Processing train inputs:  60%|████████████████████████████████▍                     | 604/1005 [48:38<33:15,  4.98s/it]"
     ]
    },
    {
     "name": "stdout",
     "output_type": "stream",
     "text": [
      "Success for img(168)_n.png:\n",
      "Testing 0 img(168)_n\n",
      "\n"
     ]
    },
    {
     "name": "stderr",
     "output_type": "stream",
     "text": [
      "Processing train inputs:  60%|████████████████████████████████▌                     | 605/1005 [48:44<35:25,  5.31s/it]"
     ]
    },
    {
     "name": "stdout",
     "output_type": "stream",
     "text": [
      "Success for img(168)_r.png:\n",
      "Testing 0 img(168)_r\n",
      "\n"
     ]
    },
    {
     "name": "stderr",
     "output_type": "stream",
     "text": [
      "Processing train inputs:  60%|████████████████████████████████▌                     | 607/1005 [48:50<29:29,  4.45s/it]"
     ]
    },
    {
     "name": "stdout",
     "output_type": "stream",
     "text": [
      "Success for img(169)_b.png:\n",
      "Testing 0 img(169)_b\n",
      "\n"
     ]
    },
    {
     "name": "stderr",
     "output_type": "stream",
     "text": [
      "Processing train inputs:  60%|████████████████████████████████▋                     | 608/1005 [48:58<34:41,  5.24s/it]"
     ]
    },
    {
     "name": "stdout",
     "output_type": "stream",
     "text": [
      "Success for img(169)_g.png:\n",
      "Testing 0 img(169)_g\n",
      "\n"
     ]
    },
    {
     "name": "stderr",
     "output_type": "stream",
     "text": [
      "Processing train inputs:  61%|████████████████████████████████▋                     | 609/1005 [49:05<36:39,  5.55s/it]"
     ]
    },
    {
     "name": "stdout",
     "output_type": "stream",
     "text": [
      "Success for img(169)_n.png:\n",
      "Testing 0 img(169)_n\n",
      "\n"
     ]
    },
    {
     "name": "stderr",
     "output_type": "stream",
     "text": [
      "Processing train inputs:  61%|████████████████████████████████▊                     | 610/1005 [49:11<37:37,  5.71s/it]"
     ]
    },
    {
     "name": "stdout",
     "output_type": "stream",
     "text": [
      "Success for img(169)_r.png:\n",
      "Testing 0 img(169)_r\n",
      "\n"
     ]
    },
    {
     "name": "stderr",
     "output_type": "stream",
     "text": [
      "Processing train inputs:  61%|████████████████████████████████▉                     | 612/1005 [49:17<30:26,  4.65s/it]"
     ]
    },
    {
     "name": "stdout",
     "output_type": "stream",
     "text": [
      "Success for img(170)_b.png:\n",
      "Testing 0 img(170)_b\n",
      "\n"
     ]
    },
    {
     "name": "stderr",
     "output_type": "stream",
     "text": [
      "Processing train inputs:  61%|████████████████████████████████▉                     | 613/1005 [49:23<32:29,  4.97s/it]"
     ]
    },
    {
     "name": "stdout",
     "output_type": "stream",
     "text": [
      "Success for img(170)_g.png:\n",
      "Testing 0 img(170)_g\n",
      "\n"
     ]
    },
    {
     "name": "stderr",
     "output_type": "stream",
     "text": [
      "Processing train inputs:  61%|████████████████████████████████▉                     | 614/1005 [49:29<34:06,  5.23s/it]"
     ]
    },
    {
     "name": "stdout",
     "output_type": "stream",
     "text": [
      "Success for img(170)_n.png:\n",
      "Testing 0 img(170)_n\n",
      "\n"
     ]
    },
    {
     "name": "stderr",
     "output_type": "stream",
     "text": [
      "Processing train inputs:  61%|█████████████████████████████████                     | 615/1005 [49:36<35:49,  5.51s/it]"
     ]
    },
    {
     "name": "stdout",
     "output_type": "stream",
     "text": [
      "Success for img(170)_r.png:\n",
      "Testing 0 img(170)_r\n",
      "\n"
     ]
    },
    {
     "name": "stderr",
     "output_type": "stream",
     "text": [
      "Processing train inputs:  61%|█████████████████████████████████▏                    | 617/1005 [49:42<28:57,  4.48s/it]"
     ]
    },
    {
     "name": "stdout",
     "output_type": "stream",
     "text": [
      "Success for img(171)_b.png:\n",
      "Testing 0 img(171)_b\n",
      "\n"
     ]
    },
    {
     "name": "stderr",
     "output_type": "stream",
     "text": [
      "Processing train inputs:  61%|█████████████████████████████████▏                    | 618/1005 [49:48<31:33,  4.89s/it]"
     ]
    },
    {
     "name": "stdout",
     "output_type": "stream",
     "text": [
      "Success for img(171)_g.png:\n",
      "Testing 0 img(171)_g\n",
      "\n"
     ]
    },
    {
     "name": "stderr",
     "output_type": "stream",
     "text": [
      "Processing train inputs:  62%|█████████████████████████████████▎                    | 619/1005 [49:54<33:50,  5.26s/it]"
     ]
    },
    {
     "name": "stdout",
     "output_type": "stream",
     "text": [
      "Success for img(171)_n.png:\n",
      "Testing 0 img(171)_n\n",
      "\n"
     ]
    },
    {
     "name": "stderr",
     "output_type": "stream",
     "text": [
      "Processing train inputs:  62%|█████████████████████████████████▎                    | 620/1005 [50:01<35:28,  5.53s/it]"
     ]
    },
    {
     "name": "stdout",
     "output_type": "stream",
     "text": [
      "Success for img(171)_r.png:\n",
      "Testing 0 img(171)_r\n",
      "\n"
     ]
    },
    {
     "name": "stderr",
     "output_type": "stream",
     "text": [
      "Processing train inputs:  62%|█████████████████████████████████▍                    | 622/1005 [50:07<28:56,  4.53s/it]"
     ]
    },
    {
     "name": "stdout",
     "output_type": "stream",
     "text": [
      "Success for img(172)_b.png:\n",
      "Testing 0 img(172)_b\n",
      "\n"
     ]
    },
    {
     "name": "stderr",
     "output_type": "stream",
     "text": [
      "Processing train inputs:  62%|█████████████████████████████████▍                    | 623/1005 [50:13<31:02,  4.87s/it]"
     ]
    },
    {
     "name": "stdout",
     "output_type": "stream",
     "text": [
      "Success for img(172)_g.png:\n",
      "Testing 0 img(172)_g\n",
      "\n"
     ]
    },
    {
     "name": "stderr",
     "output_type": "stream",
     "text": [
      "Processing train inputs:  62%|█████████████████████████████████▌                    | 624/1005 [50:19<33:07,  5.22s/it]"
     ]
    },
    {
     "name": "stdout",
     "output_type": "stream",
     "text": [
      "Success for img(172)_n.png:\n",
      "Testing 0 img(172)_n\n",
      "\n"
     ]
    },
    {
     "name": "stderr",
     "output_type": "stream",
     "text": [
      "Processing train inputs:  62%|█████████████████████████████████▌                    | 625/1005 [50:26<34:36,  5.46s/it]"
     ]
    },
    {
     "name": "stdout",
     "output_type": "stream",
     "text": [
      "Success for img(172)_r.png:\n",
      "Testing 0 img(172)_r\n",
      "\n"
     ]
    },
    {
     "name": "stderr",
     "output_type": "stream",
     "text": [
      "Processing train inputs:  62%|█████████████████████████████████▋                    | 627/1005 [50:32<28:19,  4.50s/it]"
     ]
    },
    {
     "name": "stdout",
     "output_type": "stream",
     "text": [
      "Success for img(173)_b.png:\n",
      "Testing 0 img(173)_b\n",
      "\n"
     ]
    },
    {
     "name": "stderr",
     "output_type": "stream",
     "text": [
      "Processing train inputs:  62%|█████████████████████████████████▋                    | 628/1005 [50:38<30:44,  4.89s/it]"
     ]
    },
    {
     "name": "stdout",
     "output_type": "stream",
     "text": [
      "Success for img(173)_g.png:\n",
      "Testing 0 img(173)_g\n",
      "\n"
     ]
    },
    {
     "name": "stderr",
     "output_type": "stream",
     "text": [
      "Processing train inputs:  63%|█████████████████████████████████▊                    | 629/1005 [50:44<32:41,  5.22s/it]"
     ]
    },
    {
     "name": "stdout",
     "output_type": "stream",
     "text": [
      "Success for img(173)_n.png:\n",
      "Testing 0 img(173)_n\n",
      "\n"
     ]
    },
    {
     "name": "stderr",
     "output_type": "stream",
     "text": [
      "Processing train inputs:  63%|█████████████████████████████████▊                    | 630/1005 [50:51<34:28,  5.52s/it]"
     ]
    },
    {
     "name": "stdout",
     "output_type": "stream",
     "text": [
      "Success for img(173)_r.png:\n",
      "Testing 0 img(173)_r\n",
      "\n"
     ]
    },
    {
     "name": "stderr",
     "output_type": "stream",
     "text": [
      "Processing train inputs:  63%|█████████████████████████████████▉                    | 632/1005 [50:57<28:13,  4.54s/it]"
     ]
    },
    {
     "name": "stdout",
     "output_type": "stream",
     "text": [
      "Success for img(174)_b.png:\n",
      "Testing 0 img(174)_b\n",
      "\n"
     ]
    },
    {
     "name": "stderr",
     "output_type": "stream",
     "text": [
      "Processing train inputs:  63%|██████████████████████████████████                    | 633/1005 [51:04<31:00,  5.00s/it]"
     ]
    },
    {
     "name": "stdout",
     "output_type": "stream",
     "text": [
      "Success for img(174)_g.png:\n",
      "Testing 0 img(174)_g\n",
      "\n"
     ]
    },
    {
     "name": "stderr",
     "output_type": "stream",
     "text": [
      "Processing train inputs:  63%|██████████████████████████████████                    | 634/1005 [51:10<33:05,  5.35s/it]"
     ]
    },
    {
     "name": "stdout",
     "output_type": "stream",
     "text": [
      "Success for img(174)_n.png:\n",
      "Testing 0 img(174)_n\n",
      "\n"
     ]
    },
    {
     "name": "stderr",
     "output_type": "stream",
     "text": [
      "Processing train inputs:  63%|██████████████████████████████████                    | 635/1005 [51:16<33:59,  5.51s/it]"
     ]
    },
    {
     "name": "stdout",
     "output_type": "stream",
     "text": [
      "Success for img(174)_r.png:\n",
      "Testing 0 img(174)_r\n",
      "\n"
     ]
    },
    {
     "name": "stderr",
     "output_type": "stream",
     "text": [
      "Processing train inputs:  63%|██████████████████████████████████▏                   | 637/1005 [51:22<27:00,  4.40s/it]"
     ]
    },
    {
     "name": "stdout",
     "output_type": "stream",
     "text": [
      "Success for img(175)_b.png:\n",
      "Testing 0 img(175)_b\n",
      "\n"
     ]
    },
    {
     "name": "stderr",
     "output_type": "stream",
     "text": [
      "Processing train inputs:  63%|██████████████████████████████████▎                   | 638/1005 [51:28<29:14,  4.78s/it]"
     ]
    },
    {
     "name": "stdout",
     "output_type": "stream",
     "text": [
      "Success for img(175)_g.png:\n",
      "Testing 0 img(175)_g\n",
      "\n"
     ]
    },
    {
     "name": "stderr",
     "output_type": "stream",
     "text": [
      "Processing train inputs:  64%|██████████████████████████████████▎                   | 639/1005 [51:34<31:29,  5.16s/it]"
     ]
    },
    {
     "name": "stdout",
     "output_type": "stream",
     "text": [
      "Success for img(175)_n.png:\n",
      "Testing 0 img(175)_n\n",
      "\n"
     ]
    },
    {
     "name": "stderr",
     "output_type": "stream",
     "text": [
      "Processing train inputs:  64%|██████████████████████████████████▍                   | 640/1005 [51:40<32:56,  5.42s/it]"
     ]
    },
    {
     "name": "stdout",
     "output_type": "stream",
     "text": [
      "Success for img(175)_r.png:\n",
      "Testing 0 img(175)_r\n",
      "\n"
     ]
    },
    {
     "name": "stderr",
     "output_type": "stream",
     "text": [
      "Processing train inputs:  64%|██████████████████████████████████▍                   | 642/1005 [51:47<26:54,  4.45s/it]"
     ]
    },
    {
     "name": "stdout",
     "output_type": "stream",
     "text": [
      "Success for img(176)_b.png:\n",
      "Testing 0 img(176)_b\n",
      "\n"
     ]
    },
    {
     "name": "stderr",
     "output_type": "stream",
     "text": [
      "Processing train inputs:  64%|██████████████████████████████████▌                   | 643/1005 [51:53<28:54,  4.79s/it]"
     ]
    },
    {
     "name": "stdout",
     "output_type": "stream",
     "text": [
      "Success for img(176)_g.png:\n",
      "Testing 0 img(176)_g\n",
      "\n"
     ]
    },
    {
     "name": "stderr",
     "output_type": "stream",
     "text": [
      "Processing train inputs:  64%|██████████████████████████████████▌                   | 644/1005 [51:59<30:42,  5.10s/it]"
     ]
    },
    {
     "name": "stdout",
     "output_type": "stream",
     "text": [
      "Success for img(176)_n.png:\n",
      "Testing 0 img(176)_n\n",
      "\n"
     ]
    },
    {
     "name": "stderr",
     "output_type": "stream",
     "text": [
      "Processing train inputs:  64%|██████████████████████████████████▋                   | 645/1005 [52:05<32:03,  5.34s/it]"
     ]
    },
    {
     "name": "stdout",
     "output_type": "stream",
     "text": [
      "Success for img(176)_r.png:\n",
      "Testing 0 img(176)_r\n",
      "\n"
     ]
    },
    {
     "name": "stderr",
     "output_type": "stream",
     "text": [
      "Processing train inputs:  64%|██████████████████████████████████▊                   | 647/1005 [52:11<25:44,  4.31s/it]"
     ]
    },
    {
     "name": "stdout",
     "output_type": "stream",
     "text": [
      "Success for img(177)_b.png:\n",
      "Testing 0 img(177)_b\n",
      "\n"
     ]
    },
    {
     "name": "stderr",
     "output_type": "stream",
     "text": [
      "Processing train inputs:  64%|██████████████████████████████████▊                   | 648/1005 [52:16<27:56,  4.70s/it]"
     ]
    },
    {
     "name": "stdout",
     "output_type": "stream",
     "text": [
      "Success for img(177)_g.png:\n",
      "Testing 0 img(177)_g\n",
      "\n"
     ]
    },
    {
     "name": "stderr",
     "output_type": "stream",
     "text": [
      "Processing train inputs:  65%|██████████████████████████████████▊                   | 649/1005 [52:22<29:51,  5.03s/it]"
     ]
    },
    {
     "name": "stdout",
     "output_type": "stream",
     "text": [
      "Success for img(177)_n.png:\n",
      "Testing 0 img(177)_n\n",
      "\n"
     ]
    },
    {
     "name": "stderr",
     "output_type": "stream",
     "text": [
      "Processing train inputs:  65%|██████████████████████████████████▉                   | 650/1005 [52:29<31:32,  5.33s/it]"
     ]
    },
    {
     "name": "stdout",
     "output_type": "stream",
     "text": [
      "Success for img(177)_r.png:\n",
      "Testing 0 img(177)_r\n",
      "\n"
     ]
    },
    {
     "name": "stderr",
     "output_type": "stream",
     "text": [
      "Processing train inputs:  65%|███████████████████████████████████                   | 652/1005 [52:35<25:42,  4.37s/it]"
     ]
    },
    {
     "name": "stdout",
     "output_type": "stream",
     "text": [
      "Success for img(178)_b.png:\n",
      "Testing 0 img(178)_b\n",
      "\n"
     ]
    },
    {
     "name": "stderr",
     "output_type": "stream",
     "text": [
      "Processing train inputs:  65%|███████████████████████████████████                   | 653/1005 [52:41<28:17,  4.82s/it]"
     ]
    },
    {
     "name": "stdout",
     "output_type": "stream",
     "text": [
      "Success for img(178)_g.png:\n",
      "Testing 0 img(178)_g\n",
      "\n"
     ]
    },
    {
     "name": "stderr",
     "output_type": "stream",
     "text": [
      "Processing train inputs:  65%|███████████████████████████████████▏                  | 654/1005 [52:47<29:51,  5.11s/it]"
     ]
    },
    {
     "name": "stdout",
     "output_type": "stream",
     "text": [
      "Success for img(178)_n.png:\n",
      "Testing 0 img(178)_n\n",
      "\n"
     ]
    },
    {
     "name": "stderr",
     "output_type": "stream",
     "text": [
      "Processing train inputs:  65%|███████████████████████████████████▏                  | 655/1005 [52:53<31:08,  5.34s/it]"
     ]
    },
    {
     "name": "stdout",
     "output_type": "stream",
     "text": [
      "Success for img(178)_r.png:\n",
      "Testing 0 img(178)_r\n",
      "\n"
     ]
    },
    {
     "name": "stderr",
     "output_type": "stream",
     "text": [
      "Processing train inputs:  65%|███████████████████████████████████▎                  | 657/1005 [52:59<25:17,  4.36s/it]"
     ]
    },
    {
     "name": "stdout",
     "output_type": "stream",
     "text": [
      "Success for img(179)_b.png:\n",
      "Testing 0 img(179)_b\n",
      "\n"
     ]
    },
    {
     "name": "stderr",
     "output_type": "stream",
     "text": [
      "Processing train inputs:  65%|███████████████████████████████████▎                  | 658/1005 [53:06<27:52,  4.82s/it]"
     ]
    },
    {
     "name": "stdout",
     "output_type": "stream",
     "text": [
      "Success for img(179)_g.png:\n",
      "Testing 0 img(179)_g\n",
      "\n"
     ]
    },
    {
     "name": "stderr",
     "output_type": "stream",
     "text": [
      "Processing train inputs:  66%|███████████████████████████████████▍                  | 659/1005 [53:12<30:40,  5.32s/it]"
     ]
    },
    {
     "name": "stdout",
     "output_type": "stream",
     "text": [
      "Success for img(179)_n.png:\n",
      "Testing 0 img(179)_n\n",
      "\n"
     ]
    },
    {
     "name": "stderr",
     "output_type": "stream",
     "text": [
      "Processing train inputs:  66%|███████████████████████████████████▍                  | 660/1005 [53:19<32:25,  5.64s/it]"
     ]
    },
    {
     "name": "stdout",
     "output_type": "stream",
     "text": [
      "Success for img(179)_r.png:\n",
      "Testing 0 img(179)_r\n",
      "\n"
     ]
    },
    {
     "name": "stderr",
     "output_type": "stream",
     "text": [
      "Processing train inputs:  66%|███████████████████████████████████▌                  | 662/1005 [53:25<26:11,  4.58s/it]"
     ]
    },
    {
     "name": "stdout",
     "output_type": "stream",
     "text": [
      "Success for img(180)_b.png:\n",
      "Testing 0 img(180)_b\n",
      "\n"
     ]
    },
    {
     "name": "stderr",
     "output_type": "stream",
     "text": [
      "Processing train inputs:  66%|███████████████████████████████████▌                  | 663/1005 [53:31<28:21,  4.97s/it]"
     ]
    },
    {
     "name": "stdout",
     "output_type": "stream",
     "text": [
      "Success for img(180)_g.png:\n",
      "Testing 0 img(180)_g\n",
      "\n"
     ]
    },
    {
     "name": "stderr",
     "output_type": "stream",
     "text": [
      "Processing train inputs:  66%|███████████████████████████████████▋                  | 664/1005 [53:38<29:51,  5.25s/it]"
     ]
    },
    {
     "name": "stdout",
     "output_type": "stream",
     "text": [
      "Success for img(180)_n.png:\n",
      "Testing 0 img(180)_n\n",
      "\n"
     ]
    },
    {
     "name": "stderr",
     "output_type": "stream",
     "text": [
      "Processing train inputs:  66%|███████████████████████████████████▋                  | 665/1005 [53:44<31:09,  5.50s/it]"
     ]
    },
    {
     "name": "stdout",
     "output_type": "stream",
     "text": [
      "Success for img(180)_r.png:\n",
      "Testing 0 img(180)_r\n",
      "\n"
     ]
    },
    {
     "name": "stderr",
     "output_type": "stream",
     "text": [
      "Processing train inputs:  66%|███████████████████████████████████▊                  | 667/1005 [53:50<25:23,  4.51s/it]"
     ]
    },
    {
     "name": "stdout",
     "output_type": "stream",
     "text": [
      "Success for img(181)_b.png:\n",
      "Testing 0 img(181)_b\n",
      "\n"
     ]
    },
    {
     "name": "stderr",
     "output_type": "stream",
     "text": [
      "Processing train inputs:  66%|███████████████████████████████████▉                  | 668/1005 [53:57<28:23,  5.05s/it]"
     ]
    },
    {
     "name": "stdout",
     "output_type": "stream",
     "text": [
      "Success for img(181)_g.png:\n",
      "Testing 0 img(181)_g\n",
      "\n"
     ]
    },
    {
     "name": "stderr",
     "output_type": "stream",
     "text": [
      "Processing train inputs:  67%|███████████████████████████████████▉                  | 669/1005 [54:03<29:57,  5.35s/it]"
     ]
    },
    {
     "name": "stdout",
     "output_type": "stream",
     "text": [
      "Success for img(181)_n.png:\n",
      "Testing 0 img(181)_n\n",
      "\n"
     ]
    },
    {
     "name": "stderr",
     "output_type": "stream",
     "text": [
      "Processing train inputs:  67%|████████████████████████████████████                  | 670/1005 [54:09<31:06,  5.57s/it]"
     ]
    },
    {
     "name": "stdout",
     "output_type": "stream",
     "text": [
      "Success for img(181)_r.png:\n",
      "Testing 0 img(181)_r\n",
      "\n"
     ]
    },
    {
     "name": "stderr",
     "output_type": "stream",
     "text": [
      "Processing train inputs:  67%|████████████████████████████████████                  | 672/1005 [54:15<24:54,  4.49s/it]"
     ]
    },
    {
     "name": "stdout",
     "output_type": "stream",
     "text": [
      "Success for img(182)_b.png:\n",
      "Testing 0 img(182)_b\n",
      "\n"
     ]
    },
    {
     "name": "stderr",
     "output_type": "stream",
     "text": [
      "Processing train inputs:  67%|████████████████████████████████████▏                 | 673/1005 [54:22<26:58,  4.87s/it]"
     ]
    },
    {
     "name": "stdout",
     "output_type": "stream",
     "text": [
      "Success for img(182)_g.png:\n",
      "Testing 0 img(182)_g\n",
      "\n"
     ]
    },
    {
     "name": "stderr",
     "output_type": "stream",
     "text": [
      "Processing train inputs:  67%|████████████████████████████████████▏                 | 674/1005 [54:28<28:40,  5.20s/it]"
     ]
    },
    {
     "name": "stdout",
     "output_type": "stream",
     "text": [
      "Success for img(182)_n.png:\n",
      "Testing 0 img(182)_n\n",
      "\n"
     ]
    },
    {
     "name": "stderr",
     "output_type": "stream",
     "text": [
      "Processing train inputs:  67%|████████████████████████████████████▎                 | 675/1005 [54:34<30:01,  5.46s/it]"
     ]
    },
    {
     "name": "stdout",
     "output_type": "stream",
     "text": [
      "Success for img(182)_r.png:\n",
      "Testing 0 img(182)_r\n",
      "\n"
     ]
    },
    {
     "name": "stderr",
     "output_type": "stream",
     "text": [
      "Processing train inputs:  67%|████████████████████████████████████▍                 | 677/1005 [54:40<24:17,  4.44s/it]"
     ]
    },
    {
     "name": "stdout",
     "output_type": "stream",
     "text": [
      "Success for img(183)_b.png:\n",
      "Testing 0 img(183)_b\n",
      "\n"
     ]
    },
    {
     "name": "stderr",
     "output_type": "stream",
     "text": [
      "Processing train inputs:  67%|████████████████████████████████████▍                 | 678/1005 [54:46<26:20,  4.83s/it]"
     ]
    },
    {
     "name": "stdout",
     "output_type": "stream",
     "text": [
      "Success for img(183)_g.png:\n",
      "Testing 0 img(183)_g\n",
      "\n"
     ]
    },
    {
     "name": "stderr",
     "output_type": "stream",
     "text": [
      "Processing train inputs:  68%|████████████████████████████████████▍                 | 679/1005 [54:52<28:05,  5.17s/it]"
     ]
    },
    {
     "name": "stdout",
     "output_type": "stream",
     "text": [
      "Success for img(183)_n.png:\n",
      "Testing 0 img(183)_n\n",
      "\n"
     ]
    },
    {
     "name": "stderr",
     "output_type": "stream",
     "text": [
      "Processing train inputs:  68%|████████████████████████████████████▌                 | 680/1005 [54:59<29:30,  5.45s/it]"
     ]
    },
    {
     "name": "stdout",
     "output_type": "stream",
     "text": [
      "Success for img(183)_r.png:\n",
      "Testing 0 img(183)_r\n",
      "\n"
     ]
    },
    {
     "name": "stderr",
     "output_type": "stream",
     "text": [
      "Processing train inputs:  68%|████████████████████████████████████▋                 | 682/1005 [55:05<23:48,  4.42s/it]"
     ]
    },
    {
     "name": "stdout",
     "output_type": "stream",
     "text": [
      "Success for img(184)_b.png:\n",
      "Testing 0 img(184)_b\n",
      "\n"
     ]
    },
    {
     "name": "stderr",
     "output_type": "stream",
     "text": [
      "Processing train inputs:  68%|████████████████████████████████████▋                 | 683/1005 [55:11<25:52,  4.82s/it]"
     ]
    },
    {
     "name": "stdout",
     "output_type": "stream",
     "text": [
      "Success for img(184)_g.png:\n",
      "Testing 0 img(184)_g\n",
      "\n"
     ]
    },
    {
     "name": "stderr",
     "output_type": "stream",
     "text": [
      "Processing train inputs:  68%|████████████████████████████████████▊                 | 684/1005 [55:17<27:32,  5.15s/it]"
     ]
    },
    {
     "name": "stdout",
     "output_type": "stream",
     "text": [
      "Success for img(184)_n.png:\n",
      "Testing 0 img(184)_n\n",
      "\n"
     ]
    },
    {
     "name": "stderr",
     "output_type": "stream",
     "text": [
      "Processing train inputs:  68%|████████████████████████████████████▊                 | 685/1005 [55:23<28:46,  5.40s/it]"
     ]
    },
    {
     "name": "stdout",
     "output_type": "stream",
     "text": [
      "Success for img(184)_r.png:\n",
      "Testing 0 img(184)_r\n",
      "\n"
     ]
    },
    {
     "name": "stderr",
     "output_type": "stream",
     "text": [
      "Processing train inputs:  68%|████████████████████████████████████▉                 | 687/1005 [55:29<23:22,  4.41s/it]"
     ]
    },
    {
     "name": "stdout",
     "output_type": "stream",
     "text": [
      "Success for img(185)_b.png:\n",
      "Testing 0 img(185)_b\n",
      "\n"
     ]
    },
    {
     "name": "stderr",
     "output_type": "stream",
     "text": [
      "Processing train inputs:  68%|████████████████████████████████████▉                 | 688/1005 [55:36<25:31,  4.83s/it]"
     ]
    },
    {
     "name": "stdout",
     "output_type": "stream",
     "text": [
      "Success for img(185)_g.png:\n",
      "Testing 0 img(185)_g\n",
      "\n"
     ]
    },
    {
     "name": "stderr",
     "output_type": "stream",
     "text": [
      "Processing train inputs:  69%|█████████████████████████████████████                 | 689/1005 [55:42<27:12,  5.16s/it]"
     ]
    },
    {
     "name": "stdout",
     "output_type": "stream",
     "text": [
      "Success for img(185)_n.png:\n",
      "Testing 0 img(185)_n\n",
      "\n"
     ]
    },
    {
     "name": "stderr",
     "output_type": "stream",
     "text": [
      "Processing train inputs:  69%|█████████████████████████████████████                 | 690/1005 [55:48<28:33,  5.44s/it]"
     ]
    },
    {
     "name": "stdout",
     "output_type": "stream",
     "text": [
      "Success for img(185)_r.png:\n",
      "Testing 0 img(185)_r\n",
      "\n"
     ]
    },
    {
     "name": "stderr",
     "output_type": "stream",
     "text": [
      "Processing train inputs:  69%|█████████████████████████████████████▏                | 692/1005 [55:54<23:05,  4.43s/it]"
     ]
    },
    {
     "name": "stdout",
     "output_type": "stream",
     "text": [
      "Success for img(186)_b.png:\n",
      "Testing 0 img(186)_b\n",
      "\n"
     ]
    },
    {
     "name": "stderr",
     "output_type": "stream",
     "text": [
      "Processing train inputs:  69%|█████████████████████████████████████▏                | 693/1005 [56:00<25:07,  4.83s/it]"
     ]
    },
    {
     "name": "stdout",
     "output_type": "stream",
     "text": [
      "Success for img(186)_g.png:\n",
      "Testing 0 img(186)_g\n",
      "\n"
     ]
    },
    {
     "name": "stderr",
     "output_type": "stream",
     "text": [
      "Processing train inputs:  69%|█████████████████████████████████████▎                | 694/1005 [56:06<26:41,  5.15s/it]"
     ]
    },
    {
     "name": "stdout",
     "output_type": "stream",
     "text": [
      "Success for img(186)_n.png:\n",
      "Testing 0 img(186)_n\n",
      "\n"
     ]
    },
    {
     "name": "stderr",
     "output_type": "stream",
     "text": [
      "Processing train inputs:  69%|█████████████████████████████████████▎                | 695/1005 [56:12<27:57,  5.41s/it]"
     ]
    },
    {
     "name": "stdout",
     "output_type": "stream",
     "text": [
      "Success for img(186)_r.png:\n",
      "Testing 0 img(186)_r\n",
      "\n"
     ]
    },
    {
     "name": "stderr",
     "output_type": "stream",
     "text": [
      "Processing train inputs:  69%|█████████████████████████████████████▍                | 697/1005 [56:19<22:32,  4.39s/it]"
     ]
    },
    {
     "name": "stdout",
     "output_type": "stream",
     "text": [
      "Success for img(187)_b.png:\n",
      "Testing 0 img(187)_b\n",
      "\n"
     ]
    },
    {
     "name": "stderr",
     "output_type": "stream",
     "text": [
      "Processing train inputs:  69%|█████████████████████████████████████▌                | 698/1005 [56:25<24:32,  4.80s/it]"
     ]
    },
    {
     "name": "stdout",
     "output_type": "stream",
     "text": [
      "Success for img(187)_g.png:\n",
      "Testing 0 img(187)_g\n",
      "\n"
     ]
    },
    {
     "name": "stderr",
     "output_type": "stream",
     "text": [
      "Processing train inputs:  70%|█████████████████████████████████████▌                | 699/1005 [56:31<26:07,  5.12s/it]"
     ]
    },
    {
     "name": "stdout",
     "output_type": "stream",
     "text": [
      "Success for img(187)_n.png:\n",
      "Testing 0 img(187)_n\n",
      "\n"
     ]
    },
    {
     "name": "stderr",
     "output_type": "stream",
     "text": [
      "Processing train inputs:  70%|█████████████████████████████████████▌                | 700/1005 [56:37<27:24,  5.39s/it]"
     ]
    },
    {
     "name": "stdout",
     "output_type": "stream",
     "text": [
      "Success for img(187)_r.png:\n",
      "Testing 0 img(187)_r\n",
      "\n"
     ]
    },
    {
     "name": "stderr",
     "output_type": "stream",
     "text": [
      "Processing train inputs:  70%|█████████████████████████████████████▋                | 702/1005 [56:43<22:08,  4.39s/it]"
     ]
    },
    {
     "name": "stdout",
     "output_type": "stream",
     "text": [
      "Success for img(188)_b.png:\n",
      "Testing 0 img(188)_b\n",
      "\n"
     ]
    },
    {
     "name": "stderr",
     "output_type": "stream",
     "text": [
      "Processing train inputs:  70%|█████████████████████████████████████▊                | 703/1005 [56:49<24:07,  4.79s/it]"
     ]
    },
    {
     "name": "stdout",
     "output_type": "stream",
     "text": [
      "Success for img(188)_g.png:\n",
      "Testing 0 img(188)_g\n",
      "\n"
     ]
    },
    {
     "name": "stderr",
     "output_type": "stream",
     "text": [
      "Processing train inputs:  70%|█████████████████████████████████████▊                | 704/1005 [56:56<26:30,  5.28s/it]"
     ]
    },
    {
     "name": "stdout",
     "output_type": "stream",
     "text": [
      "Success for img(188)_n.png:\n",
      "Testing 0 img(188)_n\n",
      "\n"
     ]
    },
    {
     "name": "stderr",
     "output_type": "stream",
     "text": [
      "Processing train inputs:  70%|█████████████████████████████████████▉                | 705/1005 [57:02<27:41,  5.54s/it]"
     ]
    },
    {
     "name": "stdout",
     "output_type": "stream",
     "text": [
      "Success for img(188)_r.png:\n",
      "Testing 0 img(188)_r\n",
      "\n"
     ]
    },
    {
     "name": "stderr",
     "output_type": "stream",
     "text": [
      "Processing train inputs:  70%|█████████████████████████████████████▉                | 707/1005 [57:08<22:17,  4.49s/it]"
     ]
    },
    {
     "name": "stdout",
     "output_type": "stream",
     "text": [
      "Success for img(189)_b.png:\n",
      "Testing 0 img(189)_b\n",
      "\n"
     ]
    },
    {
     "name": "stderr",
     "output_type": "stream",
     "text": [
      "Processing train inputs:  70%|██████████████████████████████████████                | 708/1005 [57:14<24:07,  4.87s/it]"
     ]
    },
    {
     "name": "stdout",
     "output_type": "stream",
     "text": [
      "Success for img(189)_g.png:\n",
      "Testing 0 img(189)_g\n",
      "\n"
     ]
    },
    {
     "name": "stderr",
     "output_type": "stream",
     "text": [
      "Processing train inputs:  71%|██████████████████████████████████████                | 709/1005 [57:20<25:30,  5.17s/it]"
     ]
    },
    {
     "name": "stdout",
     "output_type": "stream",
     "text": [
      "Success for img(189)_n.png:\n",
      "Testing 0 img(189)_n\n",
      "\n"
     ]
    },
    {
     "name": "stderr",
     "output_type": "stream",
     "text": [
      "Processing train inputs:  71%|██████████████████████████████████████▏               | 710/1005 [57:27<26:43,  5.43s/it]"
     ]
    },
    {
     "name": "stdout",
     "output_type": "stream",
     "text": [
      "Success for img(189)_r.png:\n",
      "Testing 0 img(189)_r\n",
      "\n"
     ]
    },
    {
     "name": "stderr",
     "output_type": "stream",
     "text": [
      "Processing train inputs:  71%|██████████████████████████████████████▎               | 712/1005 [57:33<21:32,  4.41s/it]"
     ]
    },
    {
     "name": "stdout",
     "output_type": "stream",
     "text": [
      "Success for img(190)_b.png:\n",
      "Testing 0 img(190)_b\n",
      "\n"
     ]
    },
    {
     "name": "stderr",
     "output_type": "stream",
     "text": [
      "Processing train inputs:  71%|██████████████████████████████████████▎               | 713/1005 [57:39<23:25,  4.81s/it]"
     ]
    },
    {
     "name": "stdout",
     "output_type": "stream",
     "text": [
      "Success for img(190)_g.png:\n",
      "Testing 0 img(190)_g\n",
      "\n"
     ]
    },
    {
     "name": "stderr",
     "output_type": "stream",
     "text": [
      "Processing train inputs:  71%|██████████████████████████████████████▎               | 714/1005 [57:45<24:52,  5.13s/it]"
     ]
    },
    {
     "name": "stdout",
     "output_type": "stream",
     "text": [
      "Success for img(190)_n.png:\n",
      "Testing 0 img(190)_n\n",
      "\n"
     ]
    },
    {
     "name": "stderr",
     "output_type": "stream",
     "text": [
      "Processing train inputs:  71%|██████████████████████████████████████▍               | 715/1005 [57:51<26:06,  5.40s/it]"
     ]
    },
    {
     "name": "stdout",
     "output_type": "stream",
     "text": [
      "Success for img(190)_r.png:\n",
      "Testing 0 img(190)_r\n",
      "\n"
     ]
    },
    {
     "name": "stderr",
     "output_type": "stream",
     "text": [
      "Processing train inputs:  71%|██████████████████████████████████████▌               | 717/1005 [57:57<21:09,  4.41s/it]"
     ]
    },
    {
     "name": "stdout",
     "output_type": "stream",
     "text": [
      "Success for img(191)_b.png:\n",
      "Testing 0 img(191)_b\n",
      "\n"
     ]
    },
    {
     "name": "stderr",
     "output_type": "stream",
     "text": [
      "Processing train inputs:  71%|██████████████████████████████████████▌               | 718/1005 [58:03<23:01,  4.81s/it]"
     ]
    },
    {
     "name": "stdout",
     "output_type": "stream",
     "text": [
      "Success for img(191)_g.png:\n",
      "Testing 0 img(191)_g\n",
      "\n"
     ]
    },
    {
     "name": "stderr",
     "output_type": "stream",
     "text": [
      "Processing train inputs:  72%|██████████████████████████████████████▋               | 719/1005 [58:09<24:28,  5.14s/it]"
     ]
    },
    {
     "name": "stdout",
     "output_type": "stream",
     "text": [
      "Success for img(191)_n.png:\n",
      "Testing 0 img(191)_n\n",
      "\n"
     ]
    },
    {
     "name": "stderr",
     "output_type": "stream",
     "text": [
      "Processing train inputs:  72%|██████████████████████████████████████▋               | 720/1005 [58:16<25:37,  5.40s/it]"
     ]
    },
    {
     "name": "stdout",
     "output_type": "stream",
     "text": [
      "Success for img(191)_r.png:\n",
      "Testing 0 img(191)_r\n",
      "\n"
     ]
    },
    {
     "name": "stderr",
     "output_type": "stream",
     "text": [
      "Processing train inputs:  72%|██████████████████████████████████████▊               | 722/1005 [58:22<20:41,  4.39s/it]"
     ]
    },
    {
     "name": "stdout",
     "output_type": "stream",
     "text": [
      "Success for img(192)_b.png:\n",
      "Testing 0 img(192)_b\n",
      "\n"
     ]
    },
    {
     "name": "stderr",
     "output_type": "stream",
     "text": [
      "Processing train inputs:  72%|██████████████████████████████████████▊               | 723/1005 [58:28<22:30,  4.79s/it]"
     ]
    },
    {
     "name": "stdout",
     "output_type": "stream",
     "text": [
      "Success for img(192)_g.png:\n",
      "Testing 0 img(192)_g\n",
      "\n"
     ]
    },
    {
     "name": "stderr",
     "output_type": "stream",
     "text": [
      "Processing train inputs:  72%|██████████████████████████████████████▉               | 724/1005 [58:34<24:02,  5.13s/it]"
     ]
    },
    {
     "name": "stdout",
     "output_type": "stream",
     "text": [
      "Success for img(192)_n.png:\n",
      "Testing 0 img(192)_n\n",
      "\n"
     ]
    },
    {
     "name": "stderr",
     "output_type": "stream",
     "text": [
      "Processing train inputs:  72%|██████████████████████████████████████▉               | 725/1005 [58:40<25:09,  5.39s/it]"
     ]
    },
    {
     "name": "stdout",
     "output_type": "stream",
     "text": [
      "Success for img(192)_r.png:\n",
      "Testing 0 img(192)_r\n",
      "\n"
     ]
    },
    {
     "name": "stderr",
     "output_type": "stream",
     "text": [
      "Processing train inputs:  72%|███████████████████████████████████████               | 727/1005 [58:46<20:21,  4.39s/it]"
     ]
    },
    {
     "name": "stdout",
     "output_type": "stream",
     "text": [
      "Success for img(193)_b.png:\n",
      "Testing 0 img(193)_b\n",
      "\n"
     ]
    },
    {
     "name": "stderr",
     "output_type": "stream",
     "text": [
      "Processing train inputs:  72%|███████████████████████████████████████               | 728/1005 [58:52<22:09,  4.80s/it]"
     ]
    },
    {
     "name": "stdout",
     "output_type": "stream",
     "text": [
      "Success for img(193)_g.png:\n",
      "Testing 0 img(193)_g\n",
      "\n"
     ]
    },
    {
     "name": "stderr",
     "output_type": "stream",
     "text": [
      "Processing train inputs:  73%|███████████████████████████████████████▏              | 729/1005 [58:58<23:36,  5.13s/it]"
     ]
    },
    {
     "name": "stdout",
     "output_type": "stream",
     "text": [
      "Success for img(193)_n.png:\n",
      "Testing 0 img(193)_n\n",
      "\n"
     ]
    },
    {
     "name": "stderr",
     "output_type": "stream",
     "text": [
      "Processing train inputs:  73%|███████████████████████████████████████▏              | 730/1005 [59:05<24:46,  5.41s/it]"
     ]
    },
    {
     "name": "stdout",
     "output_type": "stream",
     "text": [
      "Success for img(193)_r.png:\n",
      "Testing 0 img(193)_r\n",
      "\n"
     ]
    },
    {
     "name": "stderr",
     "output_type": "stream",
     "text": [
      "Processing train inputs:  73%|███████████████████████████████████████▎              | 732/1005 [59:11<19:59,  4.39s/it]"
     ]
    },
    {
     "name": "stdout",
     "output_type": "stream",
     "text": [
      "Success for img(194)_b.png:\n",
      "Testing 0 img(194)_b\n",
      "\n"
     ]
    },
    {
     "name": "stderr",
     "output_type": "stream",
     "text": [
      "Processing train inputs:  73%|███████████████████████████████████████▍              | 733/1005 [59:17<21:42,  4.79s/it]"
     ]
    },
    {
     "name": "stdout",
     "output_type": "stream",
     "text": [
      "Success for img(194)_g.png:\n",
      "Testing 0 img(194)_g\n",
      "\n"
     ]
    },
    {
     "name": "stderr",
     "output_type": "stream",
     "text": [
      "Processing train inputs:  73%|███████████████████████████████████████▍              | 734/1005 [59:23<23:09,  5.13s/it]"
     ]
    },
    {
     "name": "stdout",
     "output_type": "stream",
     "text": [
      "Success for img(194)_n.png:\n",
      "Testing 0 img(194)_n\n",
      "\n"
     ]
    },
    {
     "name": "stderr",
     "output_type": "stream",
     "text": [
      "Processing train inputs:  73%|███████████████████████████████████████▍              | 735/1005 [59:29<24:10,  5.37s/it]"
     ]
    },
    {
     "name": "stdout",
     "output_type": "stream",
     "text": [
      "Success for img(194)_r.png:\n",
      "Testing 0 img(194)_r\n",
      "\n"
     ]
    },
    {
     "name": "stderr",
     "output_type": "stream",
     "text": [
      "Processing train inputs:  73%|███████████████████████████████████████▌              | 737/1005 [59:35<19:31,  4.37s/it]"
     ]
    },
    {
     "name": "stdout",
     "output_type": "stream",
     "text": [
      "Success for img(195)_b.png:\n",
      "Testing 0 img(195)_b\n",
      "\n"
     ]
    },
    {
     "name": "stderr",
     "output_type": "stream",
     "text": [
      "Processing train inputs:  73%|███████████████████████████████████████▋              | 738/1005 [59:41<21:13,  4.77s/it]"
     ]
    },
    {
     "name": "stdout",
     "output_type": "stream",
     "text": [
      "Success for img(195)_g.png:\n",
      "Testing 0 img(195)_g\n",
      "\n"
     ]
    },
    {
     "name": "stderr",
     "output_type": "stream",
     "text": [
      "Processing train inputs:  74%|███████████████████████████████████████▋              | 739/1005 [59:47<22:37,  5.10s/it]"
     ]
    },
    {
     "name": "stdout",
     "output_type": "stream",
     "text": [
      "Success for img(195)_n.png:\n",
      "Testing 0 img(195)_n\n",
      "\n"
     ]
    },
    {
     "name": "stderr",
     "output_type": "stream",
     "text": [
      "Processing train inputs:  74%|███████████████████████████████████████▊              | 740/1005 [59:53<23:43,  5.37s/it]"
     ]
    },
    {
     "name": "stdout",
     "output_type": "stream",
     "text": [
      "Success for img(195)_r.png:\n",
      "Testing 0 img(195)_r\n",
      "\n"
     ]
    },
    {
     "name": "stderr",
     "output_type": "stream",
     "text": [
      "Processing train inputs:  74%|██████████████████████████████████████▍             | 742/1005 [1:00:00<19:12,  4.38s/it]"
     ]
    },
    {
     "name": "stdout",
     "output_type": "stream",
     "text": [
      "Success for img(196)_b.png:\n",
      "Testing 0 img(196)_b\n",
      "\n"
     ]
    },
    {
     "name": "stderr",
     "output_type": "stream",
     "text": [
      "Processing train inputs:  74%|██████████████████████████████████████▍             | 743/1005 [1:00:06<20:58,  4.80s/it]"
     ]
    },
    {
     "name": "stdout",
     "output_type": "stream",
     "text": [
      "Success for img(196)_g.png:\n",
      "Testing 0 img(196)_g\n",
      "\n"
     ]
    },
    {
     "name": "stderr",
     "output_type": "stream",
     "text": [
      "Processing train inputs:  74%|██████████████████████████████████████▍             | 744/1005 [1:00:12<22:20,  5.14s/it]"
     ]
    },
    {
     "name": "stdout",
     "output_type": "stream",
     "text": [
      "Success for img(196)_n.png:\n",
      "Testing 0 img(196)_n\n",
      "\n"
     ]
    },
    {
     "name": "stderr",
     "output_type": "stream",
     "text": [
      "Processing train inputs:  74%|██████████████████████████████████████▌             | 745/1005 [1:00:18<23:21,  5.39s/it]"
     ]
    },
    {
     "name": "stdout",
     "output_type": "stream",
     "text": [
      "Success for img(196)_r.png:\n",
      "Testing 0 img(196)_r\n",
      "\n"
     ]
    },
    {
     "name": "stderr",
     "output_type": "stream",
     "text": [
      "Processing train inputs:  74%|██████████████████████████████████████▋             | 747/1005 [1:00:24<18:51,  4.39s/it]"
     ]
    },
    {
     "name": "stdout",
     "output_type": "stream",
     "text": [
      "Success for img(197)_b.png:\n",
      "Testing 0 img(197)_b\n",
      "\n"
     ]
    },
    {
     "name": "stderr",
     "output_type": "stream",
     "text": [
      "Processing train inputs:  74%|██████████████████████████████████████▋             | 748/1005 [1:00:30<20:33,  4.80s/it]"
     ]
    },
    {
     "name": "stdout",
     "output_type": "stream",
     "text": [
      "Success for img(197)_g.png:\n",
      "Testing 0 img(197)_g\n",
      "\n"
     ]
    },
    {
     "name": "stderr",
     "output_type": "stream",
     "text": [
      "Processing train inputs:  75%|██████████████████████████████████████▊             | 749/1005 [1:00:36<21:59,  5.15s/it]"
     ]
    },
    {
     "name": "stdout",
     "output_type": "stream",
     "text": [
      "Success for img(197)_n.png:\n",
      "Testing 0 img(197)_n\n",
      "\n"
     ]
    },
    {
     "name": "stderr",
     "output_type": "stream",
     "text": [
      "Processing train inputs:  75%|██████████████████████████████████████▊             | 750/1005 [1:00:43<23:00,  5.41s/it]"
     ]
    },
    {
     "name": "stdout",
     "output_type": "stream",
     "text": [
      "Success for img(197)_r.png:\n",
      "Testing 0 img(197)_r\n",
      "\n"
     ]
    },
    {
     "name": "stderr",
     "output_type": "stream",
     "text": [
      "Processing train inputs:  75%|██████████████████████████████████████▉             | 752/1005 [1:00:49<18:34,  4.40s/it]"
     ]
    },
    {
     "name": "stdout",
     "output_type": "stream",
     "text": [
      "Success for img(198)_b.png:\n",
      "Testing 0 img(198)_b\n",
      "\n"
     ]
    },
    {
     "name": "stderr",
     "output_type": "stream",
     "text": [
      "Processing train inputs:  75%|██████████████████████████████████████▉             | 753/1005 [1:00:55<20:12,  4.81s/it]"
     ]
    },
    {
     "name": "stdout",
     "output_type": "stream",
     "text": [
      "Success for img(198)_g.png:\n",
      "Testing 0 img(198)_g\n",
      "\n"
     ]
    },
    {
     "name": "stderr",
     "output_type": "stream",
     "text": [
      "Processing train inputs:  75%|███████████████████████████████████████             | 754/1005 [1:01:01<21:30,  5.14s/it]"
     ]
    },
    {
     "name": "stdout",
     "output_type": "stream",
     "text": [
      "Success for img(198)_n.png:\n",
      "Testing 0 img(198)_n\n",
      "\n"
     ]
    },
    {
     "name": "stderr",
     "output_type": "stream",
     "text": [
      "Processing train inputs:  75%|███████████████████████████████████████             | 755/1005 [1:01:07<22:29,  5.40s/it]"
     ]
    },
    {
     "name": "stdout",
     "output_type": "stream",
     "text": [
      "Success for img(198)_r.png:\n",
      "Testing 0 img(198)_r\n",
      "\n"
     ]
    },
    {
     "name": "stderr",
     "output_type": "stream",
     "text": [
      "Processing train inputs:  75%|███████████████████████████████████████▏            | 757/1005 [1:01:13<18:08,  4.39s/it]"
     ]
    },
    {
     "name": "stdout",
     "output_type": "stream",
     "text": [
      "Success for img(199)_b.png:\n",
      "Testing 0 img(199)_b\n",
      "\n"
     ]
    },
    {
     "name": "stderr",
     "output_type": "stream",
     "text": [
      "Processing train inputs:  75%|███████████████████████████████████████▏            | 758/1005 [1:01:19<19:42,  4.79s/it]"
     ]
    },
    {
     "name": "stdout",
     "output_type": "stream",
     "text": [
      "Success for img(199)_g.png:\n",
      "Testing 0 img(199)_g\n",
      "\n"
     ]
    },
    {
     "name": "stderr",
     "output_type": "stream",
     "text": [
      "Processing train inputs:  76%|███████████████████████████████████████▎            | 759/1005 [1:01:25<20:57,  5.11s/it]"
     ]
    },
    {
     "name": "stdout",
     "output_type": "stream",
     "text": [
      "Success for img(199)_n.png:\n",
      "Testing 0 img(199)_n\n",
      "\n"
     ]
    },
    {
     "name": "stderr",
     "output_type": "stream",
     "text": [
      "Processing train inputs:  76%|███████████████████████████████████████▎            | 760/1005 [1:01:31<22:01,  5.39s/it]"
     ]
    },
    {
     "name": "stdout",
     "output_type": "stream",
     "text": [
      "Success for img(199)_r.png:\n",
      "Testing 0 img(199)_r\n",
      "\n"
     ]
    },
    {
     "name": "stderr",
     "output_type": "stream",
     "text": [
      "Processing train inputs:  76%|███████████████████████████████████████▍            | 762/1005 [1:01:38<17:46,  4.39s/it]"
     ]
    },
    {
     "name": "stdout",
     "output_type": "stream",
     "text": [
      "Success for img(200)_b.png:\n",
      "Testing 0 img(200)_b\n",
      "\n"
     ]
    },
    {
     "name": "stderr",
     "output_type": "stream",
     "text": [
      "Processing train inputs:  76%|███████████████████████████████████████▍            | 763/1005 [1:01:44<19:21,  4.80s/it]"
     ]
    },
    {
     "name": "stdout",
     "output_type": "stream",
     "text": [
      "Success for img(200)_g.png:\n",
      "Testing 0 img(200)_g\n",
      "\n"
     ]
    },
    {
     "name": "stderr",
     "output_type": "stream",
     "text": [
      "Processing train inputs:  76%|███████████████████████████████████████▌            | 764/1005 [1:01:50<20:38,  5.14s/it]"
     ]
    },
    {
     "name": "stdout",
     "output_type": "stream",
     "text": [
      "Success for img(200)_n.png:\n",
      "Testing 0 img(200)_n\n",
      "\n"
     ]
    },
    {
     "name": "stderr",
     "output_type": "stream",
     "text": [
      "Processing train inputs:  76%|███████████████████████████████████████▌            | 765/1005 [1:01:56<22:02,  5.51s/it]"
     ]
    },
    {
     "name": "stdout",
     "output_type": "stream",
     "text": [
      "Success for img(200)_r.png:\n",
      "Testing 0 img(200)_r\n",
      "\n"
     ]
    },
    {
     "name": "stderr",
     "output_type": "stream",
     "text": [
      "Processing train inputs:  76%|███████████████████████████████████████▋            | 767/1005 [1:02:03<17:40,  4.46s/it]"
     ]
    },
    {
     "name": "stdout",
     "output_type": "stream",
     "text": [
      "Success for img(201)_b.png:\n",
      "Testing 0 img(201)_b\n",
      "\n"
     ]
    },
    {
     "name": "stderr",
     "output_type": "stream",
     "text": [
      "Processing train inputs:  76%|███████████████████████████████████████▋            | 768/1005 [1:02:09<19:08,  4.85s/it]"
     ]
    },
    {
     "name": "stdout",
     "output_type": "stream",
     "text": [
      "Success for img(201)_g.png:\n",
      "Testing 0 img(201)_g\n",
      "\n"
     ]
    },
    {
     "name": "stderr",
     "output_type": "stream",
     "text": [
      "Processing train inputs:  77%|███████████████████████████████████████▊            | 769/1005 [1:02:15<20:21,  5.18s/it]"
     ]
    },
    {
     "name": "stdout",
     "output_type": "stream",
     "text": [
      "Success for img(201)_n.png:\n",
      "Testing 0 img(201)_n\n",
      "\n"
     ]
    },
    {
     "name": "stderr",
     "output_type": "stream",
     "text": [
      "Processing train inputs:  77%|███████████████████████████████████████▊            | 770/1005 [1:02:21<21:16,  5.43s/it]"
     ]
    },
    {
     "name": "stdout",
     "output_type": "stream",
     "text": [
      "Success for img(201)_r.png:\n",
      "Testing 0 img(201)_r\n",
      "\n"
     ]
    },
    {
     "name": "stderr",
     "output_type": "stream",
     "text": [
      "Processing train inputs:  77%|███████████████████████████████████████▉            | 772/1005 [1:02:27<17:07,  4.41s/it]"
     ]
    },
    {
     "name": "stdout",
     "output_type": "stream",
     "text": [
      "Success for img(21)_b.png:\n",
      "Testing 0 img(21)_b\n",
      "\n"
     ]
    },
    {
     "name": "stderr",
     "output_type": "stream",
     "text": [
      "Processing train inputs:  77%|███████████████████████████████████████▉            | 773/1005 [1:02:33<18:37,  4.82s/it]"
     ]
    },
    {
     "name": "stdout",
     "output_type": "stream",
     "text": [
      "Success for img(21)_g.png:\n",
      "Testing 0 img(21)_g\n",
      "\n"
     ]
    },
    {
     "name": "stderr",
     "output_type": "stream",
     "text": [
      "Processing train inputs:  77%|████████████████████████████████████████            | 774/1005 [1:02:39<19:50,  5.15s/it]"
     ]
    },
    {
     "name": "stdout",
     "output_type": "stream",
     "text": [
      "Success for img(21)_n.png:\n",
      "Testing 0 img(21)_n\n",
      "\n"
     ]
    },
    {
     "name": "stderr",
     "output_type": "stream",
     "text": [
      "Processing train inputs:  77%|████████████████████████████████████████            | 775/1005 [1:02:45<20:44,  5.41s/it]"
     ]
    },
    {
     "name": "stdout",
     "output_type": "stream",
     "text": [
      "Success for img(21)_r.png:\n",
      "Testing 0 img(21)_r\n",
      "\n"
     ]
    },
    {
     "name": "stderr",
     "output_type": "stream",
     "text": [
      "Processing train inputs:  77%|████████████████████████████████████████▏           | 777/1005 [1:02:52<16:43,  4.40s/it]"
     ]
    },
    {
     "name": "stdout",
     "output_type": "stream",
     "text": [
      "Success for img(22)_b.png:\n",
      "Testing 0 img(22)_b\n",
      "\n"
     ]
    },
    {
     "name": "stderr",
     "output_type": "stream",
     "text": [
      "Processing train inputs:  77%|████████████████████████████████████████▎           | 778/1005 [1:02:58<18:10,  4.81s/it]"
     ]
    },
    {
     "name": "stdout",
     "output_type": "stream",
     "text": [
      "Success for img(22)_g.png:\n",
      "Testing 0 img(22)_g\n",
      "\n"
     ]
    },
    {
     "name": "stderr",
     "output_type": "stream",
     "text": [
      "Processing train inputs:  78%|████████████████████████████████████████▎           | 779/1005 [1:03:04<19:19,  5.13s/it]"
     ]
    },
    {
     "name": "stdout",
     "output_type": "stream",
     "text": [
      "Success for img(22)_n.png:\n",
      "Testing 0 img(22)_n\n",
      "\n"
     ]
    },
    {
     "name": "stderr",
     "output_type": "stream",
     "text": [
      "Processing train inputs:  78%|████████████████████████████████████████▎           | 780/1005 [1:03:10<20:12,  5.39s/it]"
     ]
    },
    {
     "name": "stdout",
     "output_type": "stream",
     "text": [
      "Success for img(22)_r.png:\n",
      "Testing 0 img(22)_r\n",
      "\n"
     ]
    },
    {
     "name": "stderr",
     "output_type": "stream",
     "text": [
      "Processing train inputs:  78%|████████████████████████████████████████▍           | 782/1005 [1:03:16<16:20,  4.40s/it]"
     ]
    },
    {
     "name": "stdout",
     "output_type": "stream",
     "text": [
      "Success for img(23)_b.png:\n",
      "Testing 0 img(23)_b\n",
      "\n"
     ]
    },
    {
     "name": "stderr",
     "output_type": "stream",
     "text": [
      "Processing train inputs:  78%|████████████████████████████████████████▌           | 783/1005 [1:03:22<17:45,  4.80s/it]"
     ]
    },
    {
     "name": "stdout",
     "output_type": "stream",
     "text": [
      "Success for img(23)_g.png:\n",
      "Testing 0 img(23)_g\n",
      "\n"
     ]
    },
    {
     "name": "stderr",
     "output_type": "stream",
     "text": [
      "Processing train inputs:  78%|████████████████████████████████████████▌           | 784/1005 [1:03:28<18:53,  5.13s/it]"
     ]
    },
    {
     "name": "stdout",
     "output_type": "stream",
     "text": [
      "Success for img(23)_n.png:\n",
      "Testing 0 img(23)_n\n",
      "\n"
     ]
    },
    {
     "name": "stderr",
     "output_type": "stream",
     "text": [
      "Processing train inputs:  78%|████████████████████████████████████████▌           | 785/1005 [1:03:35<19:56,  5.44s/it]"
     ]
    },
    {
     "name": "stdout",
     "output_type": "stream",
     "text": [
      "Success for img(23)_r.png:\n",
      "Testing 0 img(23)_r\n",
      "\n"
     ]
    },
    {
     "name": "stderr",
     "output_type": "stream",
     "text": [
      "Processing train inputs:  78%|████████████████████████████████████████▋           | 787/1005 [1:03:41<16:02,  4.42s/it]"
     ]
    },
    {
     "name": "stdout",
     "output_type": "stream",
     "text": [
      "Success for img(24)_b.png:\n",
      "Testing 0 img(24)_b\n",
      "\n"
     ]
    },
    {
     "name": "stderr",
     "output_type": "stream",
     "text": [
      "Processing train inputs:  78%|████████████████████████████████████████▊           | 788/1005 [1:03:47<17:24,  4.81s/it]"
     ]
    },
    {
     "name": "stdout",
     "output_type": "stream",
     "text": [
      "Success for img(24)_g.png:\n",
      "Testing 0 img(24)_g\n",
      "\n"
     ]
    },
    {
     "name": "stderr",
     "output_type": "stream",
     "text": [
      "Processing train inputs:  79%|████████████████████████████████████████▊           | 789/1005 [1:03:53<18:31,  5.15s/it]"
     ]
    },
    {
     "name": "stdout",
     "output_type": "stream",
     "text": [
      "Success for img(24)_n.png:\n",
      "Testing 0 img(24)_n\n",
      "\n"
     ]
    },
    {
     "name": "stderr",
     "output_type": "stream",
     "text": [
      "Processing train inputs:  79%|████████████████████████████████████████▉           | 790/1005 [1:03:59<19:24,  5.42s/it]"
     ]
    },
    {
     "name": "stdout",
     "output_type": "stream",
     "text": [
      "Success for img(24)_r.png:\n",
      "Testing 0 img(24)_r\n",
      "\n"
     ]
    },
    {
     "name": "stderr",
     "output_type": "stream",
     "text": [
      "Processing train inputs:  79%|████████████████████████████████████████▉           | 792/1005 [1:04:05<15:36,  4.40s/it]"
     ]
    },
    {
     "name": "stdout",
     "output_type": "stream",
     "text": [
      "Success for img(25)_b.png:\n",
      "Testing 0 img(25)_b\n",
      "\n"
     ]
    },
    {
     "name": "stderr",
     "output_type": "stream",
     "text": [
      "Processing train inputs:  79%|█████████████████████████████████████████           | 793/1005 [1:04:11<16:57,  4.80s/it]"
     ]
    },
    {
     "name": "stdout",
     "output_type": "stream",
     "text": [
      "Success for img(25)_g.png:\n",
      "Testing 0 img(25)_g\n",
      "\n"
     ]
    },
    {
     "name": "stderr",
     "output_type": "stream",
     "text": [
      "Processing train inputs:  79%|█████████████████████████████████████████           | 794/1005 [1:04:18<18:03,  5.14s/it]"
     ]
    },
    {
     "name": "stdout",
     "output_type": "stream",
     "text": [
      "Success for img(25)_n.png:\n",
      "Testing 0 img(25)_n\n",
      "\n"
     ]
    },
    {
     "name": "stderr",
     "output_type": "stream",
     "text": [
      "Processing train inputs:  79%|█████████████████████████████████████████▏          | 795/1005 [1:04:24<18:52,  5.39s/it]"
     ]
    },
    {
     "name": "stdout",
     "output_type": "stream",
     "text": [
      "Success for img(25)_r.png:\n",
      "Testing 0 img(25)_r\n",
      "\n"
     ]
    },
    {
     "name": "stderr",
     "output_type": "stream",
     "text": [
      "Processing train inputs:  79%|█████████████████████████████████████████▏          | 797/1005 [1:04:30<15:11,  4.38s/it]"
     ]
    },
    {
     "name": "stdout",
     "output_type": "stream",
     "text": [
      "Success for img(26)_b.png:\n",
      "Testing 0 img(26)_b\n",
      "\n"
     ]
    },
    {
     "name": "stderr",
     "output_type": "stream",
     "text": [
      "Processing train inputs:  79%|█████████████████████████████████████████▎          | 798/1005 [1:04:36<16:35,  4.81s/it]"
     ]
    },
    {
     "name": "stdout",
     "output_type": "stream",
     "text": [
      "Success for img(26)_g.png:\n",
      "Testing 0 img(26)_g\n",
      "\n"
     ]
    },
    {
     "name": "stderr",
     "output_type": "stream",
     "text": [
      "Processing train inputs:  80%|█████████████████████████████████████████▎          | 799/1005 [1:04:42<17:38,  5.14s/it]"
     ]
    },
    {
     "name": "stdout",
     "output_type": "stream",
     "text": [
      "Success for img(26)_n.png:\n",
      "Testing 0 img(26)_n\n",
      "\n"
     ]
    },
    {
     "name": "stderr",
     "output_type": "stream",
     "text": [
      "Processing train inputs:  80%|█████████████████████████████████████████▍          | 800/1005 [1:04:48<18:28,  5.41s/it]"
     ]
    },
    {
     "name": "stdout",
     "output_type": "stream",
     "text": [
      "Success for img(26)_r.png:\n",
      "Testing 0 img(26)_r\n",
      "\n"
     ]
    },
    {
     "name": "stderr",
     "output_type": "stream",
     "text": [
      "Processing train inputs:  80%|█████████████████████████████████████████▍          | 802/1005 [1:04:54<14:53,  4.40s/it]"
     ]
    },
    {
     "name": "stdout",
     "output_type": "stream",
     "text": [
      "Success for img(27)_b.png:\n",
      "Testing 0 img(27)_b\n",
      "\n"
     ]
    },
    {
     "name": "stderr",
     "output_type": "stream",
     "text": [
      "Processing train inputs:  80%|█████████████████████████████████████████▌          | 803/1005 [1:05:00<16:11,  4.81s/it]"
     ]
    },
    {
     "name": "stdout",
     "output_type": "stream",
     "text": [
      "Success for img(27)_g.png:\n",
      "Testing 0 img(27)_g\n",
      "\n"
     ]
    },
    {
     "name": "stderr",
     "output_type": "stream",
     "text": [
      "Processing train inputs:  80%|█████████████████████████████████████████▌          | 804/1005 [1:05:07<17:13,  5.14s/it]"
     ]
    },
    {
     "name": "stdout",
     "output_type": "stream",
     "text": [
      "Success for img(27)_n.png:\n",
      "Testing 0 img(27)_n\n",
      "\n"
     ]
    },
    {
     "name": "stderr",
     "output_type": "stream",
     "text": [
      "Processing train inputs:  80%|█████████████████████████████████████████▋          | 805/1005 [1:05:13<17:59,  5.40s/it]"
     ]
    },
    {
     "name": "stdout",
     "output_type": "stream",
     "text": [
      "Success for img(27)_r.png:\n",
      "Testing 0 img(27)_r\n",
      "\n"
     ]
    },
    {
     "name": "stderr",
     "output_type": "stream",
     "text": [
      "Processing train inputs:  80%|█████████████████████████████████████████▊          | 807/1005 [1:05:19<14:29,  4.39s/it]"
     ]
    },
    {
     "name": "stdout",
     "output_type": "stream",
     "text": [
      "Success for img(28)_b.png:\n",
      "Testing 0 img(28)_b\n",
      "\n"
     ]
    },
    {
     "name": "stderr",
     "output_type": "stream",
     "text": [
      "Processing train inputs:  80%|█████████████████████████████████████████▊          | 808/1005 [1:05:25<15:44,  4.80s/it]"
     ]
    },
    {
     "name": "stdout",
     "output_type": "stream",
     "text": [
      "Success for img(28)_g.png:\n",
      "Testing 0 img(28)_g\n",
      "\n"
     ]
    },
    {
     "name": "stderr",
     "output_type": "stream",
     "text": [
      "Processing train inputs:  80%|█████████████████████████████████████████▊          | 809/1005 [1:05:31<16:43,  5.12s/it]"
     ]
    },
    {
     "name": "stdout",
     "output_type": "stream",
     "text": [
      "Success for img(28)_n.png:\n",
      "Testing 0 img(28)_n\n",
      "\n"
     ]
    },
    {
     "name": "stderr",
     "output_type": "stream",
     "text": [
      "Processing train inputs:  81%|█████████████████████████████████████████▉          | 810/1005 [1:05:37<17:31,  5.39s/it]"
     ]
    },
    {
     "name": "stdout",
     "output_type": "stream",
     "text": [
      "Success for img(28)_r.png:\n",
      "Testing 0 img(28)_r\n",
      "\n"
     ]
    },
    {
     "name": "stderr",
     "output_type": "stream",
     "text": [
      "Processing train inputs:  81%|██████████████████████████████████████████          | 812/1005 [1:05:44<14:44,  4.58s/it]"
     ]
    },
    {
     "name": "stdout",
     "output_type": "stream",
     "text": [
      "Success for img(29)_b.png:\n",
      "Testing 0 img(29)_b\n",
      "\n"
     ]
    },
    {
     "name": "stderr",
     "output_type": "stream",
     "text": [
      "Processing train inputs:  81%|██████████████████████████████████████████          | 813/1005 [1:05:50<15:48,  4.94s/it]"
     ]
    },
    {
     "name": "stdout",
     "output_type": "stream",
     "text": [
      "Success for img(29)_g.png:\n",
      "Testing 0 img(29)_g\n",
      "\n"
     ]
    },
    {
     "name": "stderr",
     "output_type": "stream",
     "text": [
      "Processing train inputs:  81%|██████████████████████████████████████████          | 814/1005 [1:05:56<16:39,  5.23s/it]"
     ]
    },
    {
     "name": "stdout",
     "output_type": "stream",
     "text": [
      "Success for img(29)_n.png:\n",
      "Testing 0 img(29)_n\n",
      "\n"
     ]
    },
    {
     "name": "stderr",
     "output_type": "stream",
     "text": [
      "Processing train inputs:  81%|██████████████████████████████████████████▏         | 815/1005 [1:06:02<17:17,  5.46s/it]"
     ]
    },
    {
     "name": "stdout",
     "output_type": "stream",
     "text": [
      "Success for img(29)_r.png:\n",
      "Testing 0 img(29)_r\n",
      "\n"
     ]
    },
    {
     "name": "stderr",
     "output_type": "stream",
     "text": [
      "Processing train inputs:  81%|██████████████████████████████████████████▎         | 817/1005 [1:06:09<13:54,  4.44s/it]"
     ]
    },
    {
     "name": "stdout",
     "output_type": "stream",
     "text": [
      "Success for img(30)_b.png:\n",
      "Testing 0 img(30)_b\n",
      "\n"
     ]
    },
    {
     "name": "stderr",
     "output_type": "stream",
     "text": [
      "Processing train inputs:  81%|██████████████████████████████████████████▎         | 818/1005 [1:06:15<15:06,  4.85s/it]"
     ]
    },
    {
     "name": "stdout",
     "output_type": "stream",
     "text": [
      "Success for img(30)_g.png:\n",
      "Testing 0 img(30)_g\n",
      "\n"
     ]
    },
    {
     "name": "stderr",
     "output_type": "stream",
     "text": [
      "Processing train inputs:  81%|██████████████████████████████████████████▍         | 819/1005 [1:06:21<16:02,  5.17s/it]"
     ]
    },
    {
     "name": "stdout",
     "output_type": "stream",
     "text": [
      "Success for img(30)_n.png:\n",
      "Testing 0 img(30)_n\n",
      "\n"
     ]
    },
    {
     "name": "stderr",
     "output_type": "stream",
     "text": [
      "Processing train inputs:  82%|██████████████████████████████████████████▍         | 820/1005 [1:06:27<16:43,  5.43s/it]"
     ]
    },
    {
     "name": "stdout",
     "output_type": "stream",
     "text": [
      "Success for img(30)_r.png:\n",
      "Testing 0 img(30)_r\n",
      "\n"
     ]
    },
    {
     "name": "stderr",
     "output_type": "stream",
     "text": [
      "Processing train inputs:  82%|██████████████████████████████████████████▌         | 822/1005 [1:06:33<13:27,  4.41s/it]"
     ]
    },
    {
     "name": "stdout",
     "output_type": "stream",
     "text": [
      "Success for img(31)_b.png:\n",
      "Testing 0 img(31)_b\n",
      "\n"
     ]
    },
    {
     "name": "stderr",
     "output_type": "stream",
     "text": [
      "Processing train inputs:  82%|██████████████████████████████████████████▌         | 823/1005 [1:06:39<14:34,  4.81s/it]"
     ]
    },
    {
     "name": "stdout",
     "output_type": "stream",
     "text": [
      "Success for img(31)_g.png:\n",
      "Testing 0 img(31)_g\n",
      "\n"
     ]
    },
    {
     "name": "stderr",
     "output_type": "stream",
     "text": [
      "Processing train inputs:  82%|██████████████████████████████████████████▋         | 824/1005 [1:06:45<15:28,  5.13s/it]"
     ]
    },
    {
     "name": "stdout",
     "output_type": "stream",
     "text": [
      "Success for img(31)_n.png:\n",
      "Testing 0 img(31)_n\n",
      "\n"
     ]
    },
    {
     "name": "stderr",
     "output_type": "stream",
     "text": [
      "Processing train inputs:  82%|██████████████████████████████████████████▋         | 825/1005 [1:06:52<16:09,  5.39s/it]"
     ]
    },
    {
     "name": "stdout",
     "output_type": "stream",
     "text": [
      "Success for img(31)_r.png:\n",
      "Testing 0 img(31)_r\n",
      "\n"
     ]
    },
    {
     "name": "stderr",
     "output_type": "stream",
     "text": [
      "Processing train inputs:  82%|██████████████████████████████████████████▊         | 827/1005 [1:06:58<13:01,  4.39s/it]"
     ]
    },
    {
     "name": "stdout",
     "output_type": "stream",
     "text": [
      "Success for img(32)_b.png:\n",
      "Testing 0 img(32)_b\n",
      "\n"
     ]
    },
    {
     "name": "stderr",
     "output_type": "stream",
     "text": [
      "Processing train inputs:  82%|██████████████████████████████████████████▊         | 828/1005 [1:07:04<14:09,  4.80s/it]"
     ]
    },
    {
     "name": "stdout",
     "output_type": "stream",
     "text": [
      "Success for img(32)_g.png:\n",
      "Testing 0 img(32)_g\n",
      "\n"
     ]
    },
    {
     "name": "stderr",
     "output_type": "stream",
     "text": [
      "Processing train inputs:  82%|██████████████████████████████████████████▉         | 829/1005 [1:07:10<15:04,  5.14s/it]"
     ]
    },
    {
     "name": "stdout",
     "output_type": "stream",
     "text": [
      "Success for img(32)_n.png:\n",
      "Testing 0 img(32)_n\n",
      "\n"
     ]
    },
    {
     "name": "stderr",
     "output_type": "stream",
     "text": [
      "Processing train inputs:  83%|██████████████████████████████████████████▉         | 830/1005 [1:07:16<15:48,  5.42s/it]"
     ]
    },
    {
     "name": "stdout",
     "output_type": "stream",
     "text": [
      "Success for img(32)_r.png:\n",
      "Testing 0 img(32)_r\n",
      "\n"
     ]
    },
    {
     "name": "stderr",
     "output_type": "stream",
     "text": [
      "Processing train inputs:  83%|███████████████████████████████████████████         | 832/1005 [1:07:22<12:41,  4.40s/it]"
     ]
    },
    {
     "name": "stdout",
     "output_type": "stream",
     "text": [
      "Success for img(33)_b.png:\n",
      "Testing 0 img(33)_b\n",
      "\n"
     ]
    },
    {
     "name": "stderr",
     "output_type": "stream",
     "text": [
      "Processing train inputs:  83%|███████████████████████████████████████████         | 833/1005 [1:07:28<13:48,  4.82s/it]"
     ]
    },
    {
     "name": "stdout",
     "output_type": "stream",
     "text": [
      "Success for img(33)_g.png:\n",
      "Testing 0 img(33)_g\n",
      "\n"
     ]
    },
    {
     "name": "stderr",
     "output_type": "stream",
     "text": [
      "Processing train inputs:  83%|███████████████████████████████████████████▏        | 834/1005 [1:07:35<14:42,  5.16s/it]"
     ]
    },
    {
     "name": "stdout",
     "output_type": "stream",
     "text": [
      "Success for img(33)_n.png:\n",
      "Testing 0 img(33)_n\n",
      "\n"
     ]
    },
    {
     "name": "stderr",
     "output_type": "stream",
     "text": [
      "Processing train inputs:  83%|███████████████████████████████████████████▏        | 835/1005 [1:07:41<15:22,  5.43s/it]"
     ]
    },
    {
     "name": "stdout",
     "output_type": "stream",
     "text": [
      "Success for img(33)_r.png:\n",
      "Testing 0 img(33)_r\n",
      "\n"
     ]
    },
    {
     "name": "stderr",
     "output_type": "stream",
     "text": [
      "Processing train inputs:  83%|███████████████████████████████████████████▎        | 837/1005 [1:07:47<12:20,  4.41s/it]"
     ]
    },
    {
     "name": "stdout",
     "output_type": "stream",
     "text": [
      "Success for img(34)_b.png:\n",
      "Testing 0 img(34)_b\n",
      "\n"
     ]
    },
    {
     "name": "stderr",
     "output_type": "stream",
     "text": [
      "Processing train inputs:  83%|███████████████████████████████████████████▎        | 838/1005 [1:07:53<13:24,  4.82s/it]"
     ]
    },
    {
     "name": "stdout",
     "output_type": "stream",
     "text": [
      "Success for img(34)_g.png:\n",
      "Testing 0 img(34)_g\n",
      "\n"
     ]
    },
    {
     "name": "stderr",
     "output_type": "stream",
     "text": [
      "Processing train inputs:  83%|███████████████████████████████████████████▍        | 839/1005 [1:07:59<14:15,  5.15s/it]"
     ]
    },
    {
     "name": "stdout",
     "output_type": "stream",
     "text": [
      "Success for img(34)_n.png:\n",
      "Testing 0 img(34)_n\n",
      "\n"
     ]
    },
    {
     "name": "stderr",
     "output_type": "stream",
     "text": [
      "Processing train inputs:  84%|███████████████████████████████████████████▍        | 840/1005 [1:08:05<14:52,  5.41s/it]"
     ]
    },
    {
     "name": "stdout",
     "output_type": "stream",
     "text": [
      "Success for img(34)_r.png:\n",
      "Testing 0 img(34)_r\n",
      "\n"
     ]
    },
    {
     "name": "stderr",
     "output_type": "stream",
     "text": [
      "Processing train inputs:  84%|███████████████████████████████████████████▌        | 842/1005 [1:08:11<11:57,  4.40s/it]"
     ]
    },
    {
     "name": "stdout",
     "output_type": "stream",
     "text": [
      "Success for img(35)_b.png:\n",
      "Testing 0 img(35)_b\n",
      "\n"
     ]
    },
    {
     "name": "stderr",
     "output_type": "stream",
     "text": [
      "Processing train inputs:  84%|███████████████████████████████████████████▌        | 843/1005 [1:08:18<12:59,  4.81s/it]"
     ]
    },
    {
     "name": "stdout",
     "output_type": "stream",
     "text": [
      "Success for img(35)_g.png:\n",
      "Testing 0 img(35)_g\n",
      "\n"
     ]
    },
    {
     "name": "stderr",
     "output_type": "stream",
     "text": [
      "Processing train inputs:  84%|███████████████████████████████████████████▋        | 844/1005 [1:08:24<13:48,  5.15s/it]"
     ]
    },
    {
     "name": "stdout",
     "output_type": "stream",
     "text": [
      "Success for img(35)_n.png:\n",
      "Testing 0 img(35)_n\n",
      "\n"
     ]
    },
    {
     "name": "stderr",
     "output_type": "stream",
     "text": [
      "Processing train inputs:  84%|███████████████████████████████████████████▋        | 845/1005 [1:08:30<14:25,  5.41s/it]"
     ]
    },
    {
     "name": "stdout",
     "output_type": "stream",
     "text": [
      "Success for img(35)_r.png:\n",
      "Testing 0 img(35)_r\n",
      "\n"
     ]
    },
    {
     "name": "stderr",
     "output_type": "stream",
     "text": [
      "Processing train inputs:  84%|███████████████████████████████████████████▊        | 847/1005 [1:08:36<11:34,  4.39s/it]"
     ]
    },
    {
     "name": "stdout",
     "output_type": "stream",
     "text": [
      "Success for img(36)_b.png:\n",
      "Testing 0 img(36)_b\n",
      "\n"
     ]
    },
    {
     "name": "stderr",
     "output_type": "stream",
     "text": [
      "Processing train inputs:  84%|███████████████████████████████████████████▉        | 848/1005 [1:08:42<12:35,  4.81s/it]"
     ]
    },
    {
     "name": "stdout",
     "output_type": "stream",
     "text": [
      "Success for img(36)_g.png:\n",
      "Testing 0 img(36)_g\n",
      "\n"
     ]
    },
    {
     "name": "stderr",
     "output_type": "stream",
     "text": [
      "Processing train inputs:  84%|███████████████████████████████████████████▉        | 849/1005 [1:08:48<13:28,  5.19s/it]"
     ]
    },
    {
     "name": "stdout",
     "output_type": "stream",
     "text": [
      "Success for img(36)_n.png:\n",
      "Testing 0 img(36)_n\n",
      "\n"
     ]
    },
    {
     "name": "stderr",
     "output_type": "stream",
     "text": [
      "Processing train inputs:  85%|███████████████████████████████████████████▉        | 850/1005 [1:08:55<14:04,  5.45s/it]"
     ]
    },
    {
     "name": "stdout",
     "output_type": "stream",
     "text": [
      "Success for img(36)_r.png:\n",
      "Testing 0 img(36)_r\n",
      "\n"
     ]
    },
    {
     "name": "stderr",
     "output_type": "stream",
     "text": [
      "Processing train inputs:  85%|████████████████████████████████████████████        | 852/1005 [1:09:01<11:17,  4.43s/it]"
     ]
    },
    {
     "name": "stdout",
     "output_type": "stream",
     "text": [
      "Success for img(37)_b.png:\n",
      "Testing 0 img(37)_b\n",
      "\n"
     ]
    },
    {
     "name": "stderr",
     "output_type": "stream",
     "text": [
      "Processing train inputs:  85%|████████████████████████████████████████████▏       | 853/1005 [1:09:07<12:13,  4.83s/it]"
     ]
    },
    {
     "name": "stdout",
     "output_type": "stream",
     "text": [
      "Success for img(37)_g.png:\n",
      "Testing 0 img(37)_g\n",
      "\n"
     ]
    },
    {
     "name": "stderr",
     "output_type": "stream",
     "text": [
      "Processing train inputs:  85%|████████████████████████████████████████████▏       | 854/1005 [1:09:13<12:57,  5.15s/it]"
     ]
    },
    {
     "name": "stdout",
     "output_type": "stream",
     "text": [
      "Success for img(37)_n.png:\n",
      "Testing 0 img(37)_n\n",
      "\n"
     ]
    },
    {
     "name": "stderr",
     "output_type": "stream",
     "text": [
      "Processing train inputs:  85%|████████████████████████████████████████████▏       | 855/1005 [1:09:19<13:32,  5.42s/it]"
     ]
    },
    {
     "name": "stdout",
     "output_type": "stream",
     "text": [
      "Success for img(37)_r.png:\n",
      "Testing 0 img(37)_r\n",
      "\n"
     ]
    },
    {
     "name": "stderr",
     "output_type": "stream",
     "text": [
      "Processing train inputs:  85%|████████████████████████████████████████████▎       | 857/1005 [1:09:25<10:53,  4.41s/it]"
     ]
    },
    {
     "name": "stdout",
     "output_type": "stream",
     "text": [
      "Success for img(38)_b.png:\n",
      "Testing 0 img(38)_b\n",
      "\n"
     ]
    },
    {
     "name": "stderr",
     "output_type": "stream",
     "text": [
      "Processing train inputs:  85%|████████████████████████████████████████████▍       | 858/1005 [1:09:32<11:49,  4.83s/it]"
     ]
    },
    {
     "name": "stdout",
     "output_type": "stream",
     "text": [
      "Success for img(38)_g.png:\n",
      "Testing 0 img(38)_g\n",
      "\n"
     ]
    },
    {
     "name": "stderr",
     "output_type": "stream",
     "text": [
      "Processing train inputs:  85%|████████████████████████████████████████████▍       | 859/1005 [1:09:38<12:32,  5.15s/it]"
     ]
    },
    {
     "name": "stdout",
     "output_type": "stream",
     "text": [
      "Success for img(38)_n.png:\n",
      "Testing 0 img(38)_n\n",
      "\n"
     ]
    },
    {
     "name": "stderr",
     "output_type": "stream",
     "text": [
      "Processing train inputs:  86%|████████████████████████████████████████████▍       | 860/1005 [1:09:44<13:07,  5.43s/it]"
     ]
    },
    {
     "name": "stdout",
     "output_type": "stream",
     "text": [
      "Success for img(38)_r.png:\n",
      "Testing 0 img(38)_r\n",
      "\n"
     ]
    },
    {
     "name": "stderr",
     "output_type": "stream",
     "text": [
      "Processing train inputs:  86%|████████████████████████████████████████████▌       | 862/1005 [1:09:50<10:31,  4.41s/it]"
     ]
    },
    {
     "name": "stdout",
     "output_type": "stream",
     "text": [
      "Success for img(39)_b.png:\n",
      "Testing 0 img(39)_b\n",
      "\n"
     ]
    },
    {
     "name": "stderr",
     "output_type": "stream",
     "text": [
      "Processing train inputs:  86%|████████████████████████████████████████████▋       | 863/1005 [1:09:56<11:25,  4.82s/it]"
     ]
    },
    {
     "name": "stdout",
     "output_type": "stream",
     "text": [
      "Success for img(39)_g.png:\n",
      "Testing 0 img(39)_g\n",
      "\n"
     ]
    },
    {
     "name": "stderr",
     "output_type": "stream",
     "text": [
      "Processing train inputs:  86%|████████████████████████████████████████████▋       | 864/1005 [1:10:02<12:06,  5.16s/it]"
     ]
    },
    {
     "name": "stdout",
     "output_type": "stream",
     "text": [
      "Success for img(39)_n.png:\n",
      "Testing 0 img(39)_n\n",
      "\n"
     ]
    },
    {
     "name": "stderr",
     "output_type": "stream",
     "text": [
      "Processing train inputs:  86%|████████████████████████████████████████████▊       | 865/1005 [1:10:08<12:39,  5.42s/it]"
     ]
    },
    {
     "name": "stdout",
     "output_type": "stream",
     "text": [
      "Success for img(39)_r.png:\n",
      "Testing 0 img(39)_r\n",
      "\n"
     ]
    },
    {
     "name": "stderr",
     "output_type": "stream",
     "text": [
      "Processing train inputs:  86%|████████████████████████████████████████████▊       | 867/1005 [1:10:15<10:08,  4.41s/it]"
     ]
    },
    {
     "name": "stdout",
     "output_type": "stream",
     "text": [
      "Success for img(40)_b.png:\n",
      "Testing 0 img(40)_b\n",
      "\n"
     ]
    },
    {
     "name": "stderr",
     "output_type": "stream",
     "text": [
      "Processing train inputs:  86%|████████████████████████████████████████████▉       | 868/1005 [1:10:21<11:00,  4.82s/it]"
     ]
    },
    {
     "name": "stdout",
     "output_type": "stream",
     "text": [
      "Success for img(40)_g.png:\n",
      "Testing 0 img(40)_g\n",
      "\n"
     ]
    },
    {
     "name": "stderr",
     "output_type": "stream",
     "text": [
      "Processing train inputs:  86%|████████████████████████████████████████████▉       | 869/1005 [1:10:27<11:41,  5.16s/it]"
     ]
    },
    {
     "name": "stdout",
     "output_type": "stream",
     "text": [
      "Success for img(40)_n.png:\n",
      "Testing 0 img(40)_n\n",
      "\n"
     ]
    },
    {
     "name": "stderr",
     "output_type": "stream",
     "text": [
      "Processing train inputs:  87%|█████████████████████████████████████████████       | 870/1005 [1:10:33<12:14,  5.44s/it]"
     ]
    },
    {
     "name": "stdout",
     "output_type": "stream",
     "text": [
      "Success for img(40)_r.png:\n",
      "Testing 0 img(40)_r\n",
      "\n"
     ]
    },
    {
     "name": "stderr",
     "output_type": "stream",
     "text": [
      "Processing train inputs:  87%|█████████████████████████████████████████████       | 872/1005 [1:10:39<09:47,  4.42s/it]"
     ]
    },
    {
     "name": "stdout",
     "output_type": "stream",
     "text": [
      "Success for img(41)_b.png:\n",
      "Testing 0 img(41)_b\n",
      "\n"
     ]
    },
    {
     "name": "stderr",
     "output_type": "stream",
     "text": [
      "Processing train inputs:  87%|█████████████████████████████████████████████▏      | 873/1005 [1:10:45<10:37,  4.83s/it]"
     ]
    },
    {
     "name": "stdout",
     "output_type": "stream",
     "text": [
      "Success for img(41)_g.png:\n",
      "Testing 0 img(41)_g\n",
      "\n"
     ]
    },
    {
     "name": "stderr",
     "output_type": "stream",
     "text": [
      "Processing train inputs:  87%|█████████████████████████████████████████████▏      | 874/1005 [1:10:52<11:15,  5.16s/it]"
     ]
    },
    {
     "name": "stdout",
     "output_type": "stream",
     "text": [
      "Success for img(41)_n.png:\n",
      "Testing 0 img(41)_n\n",
      "\n"
     ]
    },
    {
     "name": "stderr",
     "output_type": "stream",
     "text": [
      "Processing train inputs:  87%|█████████████████████████████████████████████▎      | 875/1005 [1:10:58<11:53,  5.49s/it]"
     ]
    },
    {
     "name": "stdout",
     "output_type": "stream",
     "text": [
      "Success for img(41)_r.png:\n",
      "Testing 0 img(41)_r\n",
      "\n"
     ]
    },
    {
     "name": "stderr",
     "output_type": "stream",
     "text": [
      "Processing train inputs:  87%|█████████████████████████████████████████████▍      | 877/1005 [1:11:05<09:44,  4.57s/it]"
     ]
    },
    {
     "name": "stdout",
     "output_type": "stream",
     "text": [
      "Success for img(42)_b.png:\n",
      "Testing 0 img(42)_b\n",
      "\n"
     ]
    },
    {
     "name": "stderr",
     "output_type": "stream",
     "text": [
      "Processing train inputs:  87%|█████████████████████████████████████████████▍      | 878/1005 [1:11:11<10:37,  5.02s/it]"
     ]
    },
    {
     "name": "stdout",
     "output_type": "stream",
     "text": [
      "Success for img(42)_g.png:\n",
      "Testing 0 img(42)_g\n",
      "\n"
     ]
    },
    {
     "name": "stderr",
     "output_type": "stream",
     "text": [
      "Processing train inputs:  87%|█████████████████████████████████████████████▍      | 879/1005 [1:11:17<11:09,  5.31s/it]"
     ]
    },
    {
     "name": "stdout",
     "output_type": "stream",
     "text": [
      "Success for img(42)_n.png:\n",
      "Testing 0 img(42)_n\n",
      "\n"
     ]
    },
    {
     "name": "stderr",
     "output_type": "stream",
     "text": [
      "Processing train inputs:  88%|█████████████████████████████████████████████▌      | 880/1005 [1:11:23<11:30,  5.53s/it]"
     ]
    },
    {
     "name": "stdout",
     "output_type": "stream",
     "text": [
      "Success for img(42)_r.png:\n",
      "Testing 0 img(42)_r\n",
      "\n"
     ]
    },
    {
     "name": "stderr",
     "output_type": "stream",
     "text": [
      "Processing train inputs:  88%|█████████████████████████████████████████████▋      | 882/1005 [1:11:30<09:10,  4.47s/it]"
     ]
    },
    {
     "name": "stdout",
     "output_type": "stream",
     "text": [
      "Success for img(43)_b.png:\n",
      "Testing 0 img(43)_b\n",
      "\n"
     ]
    },
    {
     "name": "stderr",
     "output_type": "stream",
     "text": [
      "Processing train inputs:  88%|█████████████████████████████████████████████▋      | 883/1005 [1:11:36<09:53,  4.86s/it]"
     ]
    },
    {
     "name": "stdout",
     "output_type": "stream",
     "text": [
      "Success for img(43)_g.png:\n",
      "Testing 0 img(43)_g\n",
      "\n"
     ]
    },
    {
     "name": "stderr",
     "output_type": "stream",
     "text": [
      "Processing train inputs:  88%|█████████████████████████████████████████████▋      | 884/1005 [1:11:42<10:30,  5.21s/it]"
     ]
    },
    {
     "name": "stdout",
     "output_type": "stream",
     "text": [
      "Success for img(43)_n.png:\n",
      "Testing 0 img(43)_n\n",
      "\n"
     ]
    },
    {
     "name": "stderr",
     "output_type": "stream",
     "text": [
      "Processing train inputs:  88%|█████████████████████████████████████████████▊      | 885/1005 [1:11:48<10:55,  5.46s/it]"
     ]
    },
    {
     "name": "stdout",
     "output_type": "stream",
     "text": [
      "Success for img(43)_r.png:\n",
      "Testing 0 img(43)_r\n",
      "\n"
     ]
    },
    {
     "name": "stderr",
     "output_type": "stream",
     "text": [
      "Processing train inputs:  88%|█████████████████████████████████████████████▉      | 887/1005 [1:11:54<08:43,  4.43s/it]"
     ]
    },
    {
     "name": "stdout",
     "output_type": "stream",
     "text": [
      "Success for img(44)_b.png:\n",
      "Testing 0 img(44)_b\n",
      "\n"
     ]
    },
    {
     "name": "stderr",
     "output_type": "stream",
     "text": [
      "Processing train inputs:  88%|█████████████████████████████████████████████▉      | 888/1005 [1:12:00<09:25,  4.84s/it]"
     ]
    },
    {
     "name": "stdout",
     "output_type": "stream",
     "text": [
      "Success for img(44)_g.png:\n",
      "Testing 0 img(44)_g\n",
      "\n"
     ]
    },
    {
     "name": "stderr",
     "output_type": "stream",
     "text": [
      "Processing train inputs:  88%|█████████████████████████████████████████████▉      | 889/1005 [1:12:07<09:59,  5.17s/it]"
     ]
    },
    {
     "name": "stdout",
     "output_type": "stream",
     "text": [
      "Success for img(44)_n.png:\n",
      "Testing 0 img(44)_n\n",
      "\n"
     ]
    },
    {
     "name": "stderr",
     "output_type": "stream",
     "text": [
      "Processing train inputs:  89%|██████████████████████████████████████████████      | 890/1005 [1:12:13<10:23,  5.43s/it]"
     ]
    },
    {
     "name": "stdout",
     "output_type": "stream",
     "text": [
      "Success for img(44)_r.png:\n",
      "Testing 0 img(44)_r\n",
      "\n"
     ]
    },
    {
     "name": "stderr",
     "output_type": "stream",
     "text": [
      "Processing train inputs:  89%|██████████████████████████████████████████████▏     | 892/1005 [1:12:19<08:22,  4.44s/it]"
     ]
    },
    {
     "name": "stdout",
     "output_type": "stream",
     "text": [
      "Success for img(45)_b.png:\n",
      "Testing 0 img(45)_b\n",
      "\n"
     ]
    },
    {
     "name": "stderr",
     "output_type": "stream",
     "text": [
      "Processing train inputs:  89%|██████████████████████████████████████████████▏     | 893/1005 [1:12:25<09:01,  4.84s/it]"
     ]
    },
    {
     "name": "stdout",
     "output_type": "stream",
     "text": [
      "Success for img(45)_g.png:\n",
      "Testing 0 img(45)_g\n",
      "\n"
     ]
    },
    {
     "name": "stderr",
     "output_type": "stream",
     "text": [
      "Processing train inputs:  89%|██████████████████████████████████████████████▎     | 894/1005 [1:12:31<09:33,  5.17s/it]"
     ]
    },
    {
     "name": "stdout",
     "output_type": "stream",
     "text": [
      "Success for img(45)_n.png:\n",
      "Testing 0 img(45)_n\n",
      "\n"
     ]
    },
    {
     "name": "stderr",
     "output_type": "stream",
     "text": [
      "Processing train inputs:  89%|██████████████████████████████████████████████▎     | 895/1005 [1:12:37<09:57,  5.43s/it]"
     ]
    },
    {
     "name": "stdout",
     "output_type": "stream",
     "text": [
      "Success for img(45)_r.png:\n",
      "Testing 0 img(45)_r\n",
      "\n"
     ]
    },
    {
     "name": "stderr",
     "output_type": "stream",
     "text": [
      "Processing train inputs:  89%|██████████████████████████████████████████████▍     | 897/1005 [1:12:44<07:56,  4.41s/it]"
     ]
    },
    {
     "name": "stdout",
     "output_type": "stream",
     "text": [
      "Success for img(46)_b.png:\n",
      "Testing 0 img(46)_b\n",
      "\n"
     ]
    },
    {
     "name": "stderr",
     "output_type": "stream",
     "text": [
      "Processing train inputs:  89%|██████████████████████████████████████████████▍     | 898/1005 [1:12:50<08:35,  4.82s/it]"
     ]
    },
    {
     "name": "stdout",
     "output_type": "stream",
     "text": [
      "Success for img(46)_g.png:\n",
      "Testing 0 img(46)_g\n",
      "\n"
     ]
    },
    {
     "name": "stderr",
     "output_type": "stream",
     "text": [
      "Processing train inputs:  89%|██████████████████████████████████████████████▌     | 899/1005 [1:12:56<09:05,  5.14s/it]"
     ]
    },
    {
     "name": "stdout",
     "output_type": "stream",
     "text": [
      "Success for img(46)_n.png:\n",
      "Testing 0 img(46)_n\n",
      "\n"
     ]
    },
    {
     "name": "stderr",
     "output_type": "stream",
     "text": [
      "Processing train inputs:  90%|██████████████████████████████████████████████▌     | 900/1005 [1:13:02<09:30,  5.44s/it]"
     ]
    },
    {
     "name": "stdout",
     "output_type": "stream",
     "text": [
      "Success for img(46)_r.png:\n",
      "Testing 0 img(46)_r\n",
      "\n"
     ]
    },
    {
     "name": "stderr",
     "output_type": "stream",
     "text": [
      "Processing train inputs:  90%|██████████████████████████████████████████████▋     | 902/1005 [1:13:08<07:34,  4.41s/it]"
     ]
    },
    {
     "name": "stdout",
     "output_type": "stream",
     "text": [
      "Success for img(47)_b.png:\n",
      "Testing 0 img(47)_b\n",
      "\n"
     ]
    },
    {
     "name": "stderr",
     "output_type": "stream",
     "text": [
      "Processing train inputs:  90%|██████████████████████████████████████████████▋     | 903/1005 [1:13:14<08:11,  4.82s/it]"
     ]
    },
    {
     "name": "stdout",
     "output_type": "stream",
     "text": [
      "Success for img(47)_g.png:\n",
      "Testing 0 img(47)_g\n",
      "\n"
     ]
    },
    {
     "name": "stderr",
     "output_type": "stream",
     "text": [
      "Processing train inputs:  90%|██████████████████████████████████████████████▊     | 904/1005 [1:13:20<08:39,  5.15s/it]"
     ]
    },
    {
     "name": "stdout",
     "output_type": "stream",
     "text": [
      "Success for img(47)_n.png:\n",
      "Testing 0 img(47)_n\n",
      "\n"
     ]
    },
    {
     "name": "stderr",
     "output_type": "stream",
     "text": [
      "Processing train inputs:  90%|██████████████████████████████████████████████▊     | 905/1005 [1:13:27<08:59,  5.39s/it]"
     ]
    },
    {
     "name": "stdout",
     "output_type": "stream",
     "text": [
      "Success for img(47)_r.png:\n",
      "Testing 0 img(47)_r\n",
      "\n"
     ]
    },
    {
     "name": "stderr",
     "output_type": "stream",
     "text": [
      "Processing train inputs:  90%|██████████████████████████████████████████████▉     | 907/1005 [1:13:33<07:09,  4.38s/it]"
     ]
    },
    {
     "name": "stdout",
     "output_type": "stream",
     "text": [
      "Success for img(48)_b.png:\n",
      "Testing 0 img(48)_b\n",
      "\n"
     ]
    },
    {
     "name": "stderr",
     "output_type": "stream",
     "text": [
      "Processing train inputs:  90%|██████████████████████████████████████████████▉     | 908/1005 [1:13:39<07:44,  4.79s/it]"
     ]
    },
    {
     "name": "stdout",
     "output_type": "stream",
     "text": [
      "Success for img(48)_g.png:\n",
      "Testing 0 img(48)_g\n",
      "\n"
     ]
    },
    {
     "name": "stderr",
     "output_type": "stream",
     "text": [
      "Processing train inputs:  90%|███████████████████████████████████████████████     | 909/1005 [1:13:45<08:13,  5.14s/it]"
     ]
    },
    {
     "name": "stdout",
     "output_type": "stream",
     "text": [
      "Success for img(48)_n.png:\n",
      "Testing 0 img(48)_n\n",
      "\n"
     ]
    },
    {
     "name": "stderr",
     "output_type": "stream",
     "text": [
      "Processing train inputs:  91%|███████████████████████████████████████████████     | 910/1005 [1:13:51<08:33,  5.40s/it]"
     ]
    },
    {
     "name": "stdout",
     "output_type": "stream",
     "text": [
      "Success for img(48)_r.png:\n",
      "Testing 0 img(48)_r\n",
      "\n"
     ]
    },
    {
     "name": "stderr",
     "output_type": "stream",
     "text": [
      "Processing train inputs:  91%|███████████████████████████████████████████████▏    | 912/1005 [1:13:57<06:49,  4.41s/it]"
     ]
    },
    {
     "name": "stdout",
     "output_type": "stream",
     "text": [
      "Success for img(49)_b.png:\n",
      "Testing 0 img(49)_b\n",
      "\n"
     ]
    },
    {
     "name": "stderr",
     "output_type": "stream",
     "text": [
      "Processing train inputs:  91%|███████████████████████████████████████████████▏    | 913/1005 [1:14:03<07:22,  4.81s/it]"
     ]
    },
    {
     "name": "stdout",
     "output_type": "stream",
     "text": [
      "Success for img(49)_g.png:\n",
      "Testing 0 img(49)_g\n",
      "\n"
     ]
    },
    {
     "name": "stderr",
     "output_type": "stream",
     "text": [
      "Processing train inputs:  91%|███████████████████████████████████████████████▎    | 914/1005 [1:14:10<07:48,  5.15s/it]"
     ]
    },
    {
     "name": "stdout",
     "output_type": "stream",
     "text": [
      "Success for img(49)_n.png:\n",
      "Testing 0 img(49)_n\n",
      "\n"
     ]
    },
    {
     "name": "stderr",
     "output_type": "stream",
     "text": [
      "Processing train inputs:  91%|███████████████████████████████████████████████▎    | 915/1005 [1:14:16<08:07,  5.42s/it]"
     ]
    },
    {
     "name": "stdout",
     "output_type": "stream",
     "text": [
      "Success for img(49)_r.png:\n",
      "Testing 0 img(49)_r\n",
      "\n"
     ]
    },
    {
     "name": "stderr",
     "output_type": "stream",
     "text": [
      "Processing train inputs:  91%|███████████████████████████████████████████████▍    | 917/1005 [1:14:22<06:27,  4.41s/it]"
     ]
    },
    {
     "name": "stdout",
     "output_type": "stream",
     "text": [
      "Success for img(50)_b.png:\n",
      "Testing 0 img(50)_b\n",
      "\n"
     ]
    },
    {
     "name": "stderr",
     "output_type": "stream",
     "text": [
      "Processing train inputs:  91%|███████████████████████████████████████████████▍    | 918/1005 [1:14:28<06:57,  4.80s/it]"
     ]
    },
    {
     "name": "stdout",
     "output_type": "stream",
     "text": [
      "Success for img(50)_g.png:\n",
      "Testing 0 img(50)_g\n",
      "\n"
     ]
    },
    {
     "name": "stderr",
     "output_type": "stream",
     "text": [
      "Processing train inputs:  91%|███████████████████████████████████████████████▌    | 919/1005 [1:14:34<07:21,  5.13s/it]"
     ]
    },
    {
     "name": "stdout",
     "output_type": "stream",
     "text": [
      "Success for img(50)_n.png:\n",
      "Testing 0 img(50)_n\n",
      "\n"
     ]
    },
    {
     "name": "stderr",
     "output_type": "stream",
     "text": [
      "Processing train inputs:  92%|███████████████████████████████████████████████▌    | 920/1005 [1:14:40<07:39,  5.41s/it]"
     ]
    },
    {
     "name": "stdout",
     "output_type": "stream",
     "text": [
      "Success for img(50)_r.png:\n",
      "Testing 0 img(50)_r\n",
      "\n"
     ]
    },
    {
     "name": "stderr",
     "output_type": "stream",
     "text": [
      "Processing train inputs:  92%|███████████████████████████████████████████████▋    | 922/1005 [1:14:46<06:06,  4.41s/it]"
     ]
    },
    {
     "name": "stdout",
     "output_type": "stream",
     "text": [
      "Success for img(51)_b.png:\n",
      "Testing 0 img(51)_b\n",
      "\n"
     ]
    },
    {
     "name": "stderr",
     "output_type": "stream",
     "text": [
      "Processing train inputs:  92%|███████████████████████████████████████████████▊    | 923/1005 [1:14:53<06:35,  4.82s/it]"
     ]
    },
    {
     "name": "stdout",
     "output_type": "stream",
     "text": [
      "Success for img(51)_g.png:\n",
      "Testing 0 img(51)_g\n",
      "\n"
     ]
    },
    {
     "name": "stderr",
     "output_type": "stream",
     "text": [
      "Processing train inputs:  92%|███████████████████████████████████████████████▊    | 924/1005 [1:14:59<06:56,  5.15s/it]"
     ]
    },
    {
     "name": "stdout",
     "output_type": "stream",
     "text": [
      "Success for img(51)_n.png:\n",
      "Testing 0 img(51)_n\n",
      "\n"
     ]
    },
    {
     "name": "stderr",
     "output_type": "stream",
     "text": [
      "Processing train inputs:  92%|███████████████████████████████████████████████▊    | 925/1005 [1:15:05<07:12,  5.40s/it]"
     ]
    },
    {
     "name": "stdout",
     "output_type": "stream",
     "text": [
      "Success for img(51)_r.png:\n",
      "Testing 0 img(51)_r\n",
      "\n"
     ]
    },
    {
     "name": "stderr",
     "output_type": "stream",
     "text": [
      "Processing train inputs:  92%|███████████████████████████████████████████████▉    | 927/1005 [1:15:11<05:43,  4.40s/it]"
     ]
    },
    {
     "name": "stdout",
     "output_type": "stream",
     "text": [
      "Success for img(52)_b.png:\n",
      "Testing 0 img(52)_b\n",
      "\n"
     ]
    },
    {
     "name": "stderr",
     "output_type": "stream",
     "text": [
      "Processing train inputs:  92%|████████████████████████████████████████████████    | 928/1005 [1:15:17<06:10,  4.81s/it]"
     ]
    },
    {
     "name": "stdout",
     "output_type": "stream",
     "text": [
      "Success for img(52)_g.png:\n",
      "Testing 0 img(52)_g\n",
      "\n"
     ]
    },
    {
     "name": "stderr",
     "output_type": "stream",
     "text": [
      "Processing train inputs:  92%|████████████████████████████████████████████████    | 929/1005 [1:15:23<06:30,  5.14s/it]"
     ]
    },
    {
     "name": "stdout",
     "output_type": "stream",
     "text": [
      "Success for img(52)_n.png:\n",
      "Testing 0 img(52)_n\n",
      "\n"
     ]
    },
    {
     "name": "stderr",
     "output_type": "stream",
     "text": [
      "Processing train inputs:  93%|████████████████████████████████████████████████    | 930/1005 [1:15:29<06:45,  5.41s/it]"
     ]
    },
    {
     "name": "stdout",
     "output_type": "stream",
     "text": [
      "Success for img(52)_r.png:\n",
      "Testing 0 img(52)_r\n",
      "\n"
     ]
    },
    {
     "name": "stderr",
     "output_type": "stream",
     "text": [
      "Processing train inputs:  93%|████████████████████████████████████████████████▏   | 932/1005 [1:15:35<05:21,  4.40s/it]"
     ]
    },
    {
     "name": "stdout",
     "output_type": "stream",
     "text": [
      "Success for img(53)_b.png:\n",
      "Testing 0 img(53)_b\n",
      "\n"
     ]
    },
    {
     "name": "stderr",
     "output_type": "stream",
     "text": [
      "Processing train inputs:  93%|████████████████████████████████████████████████▎   | 933/1005 [1:15:42<05:45,  4.80s/it]"
     ]
    },
    {
     "name": "stdout",
     "output_type": "stream",
     "text": [
      "Success for img(53)_g.png:\n",
      "Testing 0 img(53)_g\n",
      "\n"
     ]
    },
    {
     "name": "stderr",
     "output_type": "stream",
     "text": [
      "Processing train inputs:  93%|████████████████████████████████████████████████▎   | 934/1005 [1:15:48<06:04,  5.13s/it]"
     ]
    },
    {
     "name": "stdout",
     "output_type": "stream",
     "text": [
      "Success for img(53)_n.png:\n",
      "Testing 0 img(53)_n\n",
      "\n"
     ]
    },
    {
     "name": "stderr",
     "output_type": "stream",
     "text": [
      "Processing train inputs:  93%|████████████████████████████████████████████████▍   | 935/1005 [1:15:54<06:17,  5.40s/it]"
     ]
    },
    {
     "name": "stdout",
     "output_type": "stream",
     "text": [
      "Success for img(53)_r.png:\n",
      "Testing 0 img(53)_r\n",
      "\n"
     ]
    },
    {
     "name": "stderr",
     "output_type": "stream",
     "text": [
      "Processing train inputs:  93%|████████████████████████████████████████████████▍   | 937/1005 [1:16:00<04:59,  4.40s/it]"
     ]
    },
    {
     "name": "stdout",
     "output_type": "stream",
     "text": [
      "Success for img(54)_b.png:\n",
      "Testing 0 img(54)_b\n",
      "\n"
     ]
    },
    {
     "name": "stderr",
     "output_type": "stream",
     "text": [
      "Processing train inputs:  93%|████████████████████████████████████████████████▌   | 938/1005 [1:16:06<05:22,  4.82s/it]"
     ]
    },
    {
     "name": "stdout",
     "output_type": "stream",
     "text": [
      "Success for img(54)_g.png:\n",
      "Testing 0 img(54)_g\n",
      "\n"
     ]
    },
    {
     "name": "stderr",
     "output_type": "stream",
     "text": [
      "Processing train inputs:  93%|████████████████████████████████████████████████▌   | 939/1005 [1:16:12<05:39,  5.15s/it]"
     ]
    },
    {
     "name": "stdout",
     "output_type": "stream",
     "text": [
      "Success for img(54)_n.png:\n",
      "Testing 0 img(54)_n\n",
      "\n"
     ]
    },
    {
     "name": "stderr",
     "output_type": "stream",
     "text": [
      "Processing train inputs:  94%|████████████████████████████████████████████████▋   | 940/1005 [1:16:18<05:50,  5.40s/it]"
     ]
    },
    {
     "name": "stdout",
     "output_type": "stream",
     "text": [
      "Success for img(54)_r.png:\n",
      "Testing 0 img(54)_r\n",
      "\n"
     ]
    },
    {
     "name": "stderr",
     "output_type": "stream",
     "text": [
      "Processing train inputs:  94%|████████████████████████████████████████████████▋   | 942/1005 [1:16:24<04:36,  4.39s/it]"
     ]
    },
    {
     "name": "stdout",
     "output_type": "stream",
     "text": [
      "Success for img(55)_b.png:\n",
      "Testing 0 img(55)_b\n",
      "\n"
     ]
    },
    {
     "name": "stderr",
     "output_type": "stream",
     "text": [
      "Processing train inputs:  94%|████████████████████████████████████████████████▊   | 943/1005 [1:16:31<04:57,  4.80s/it]"
     ]
    },
    {
     "name": "stdout",
     "output_type": "stream",
     "text": [
      "Success for img(55)_g.png:\n",
      "Testing 0 img(55)_g\n",
      "\n"
     ]
    },
    {
     "name": "stderr",
     "output_type": "stream",
     "text": [
      "Processing train inputs:  94%|████████████████████████████████████████████████▊   | 944/1005 [1:16:37<05:13,  5.14s/it]"
     ]
    },
    {
     "name": "stdout",
     "output_type": "stream",
     "text": [
      "Success for img(55)_n.png:\n",
      "Testing 0 img(55)_n\n",
      "\n"
     ]
    },
    {
     "name": "stderr",
     "output_type": "stream",
     "text": [
      "Processing train inputs:  94%|████████████████████████████████████████████████▉   | 945/1005 [1:16:43<05:24,  5.40s/it]"
     ]
    },
    {
     "name": "stdout",
     "output_type": "stream",
     "text": [
      "Success for img(55)_r.png:\n",
      "Testing 0 img(55)_r\n",
      "\n"
     ]
    },
    {
     "name": "stderr",
     "output_type": "stream",
     "text": [
      "Processing train inputs:  94%|████████████████████████████████████████████████▉   | 947/1005 [1:16:49<04:14,  4.39s/it]"
     ]
    },
    {
     "name": "stdout",
     "output_type": "stream",
     "text": [
      "Success for img(88)_b.png:\n",
      "Testing 0 img(88)_b\n",
      "\n"
     ]
    },
    {
     "name": "stderr",
     "output_type": "stream",
     "text": [
      "Processing train inputs:  94%|█████████████████████████████████████████████████   | 948/1005 [1:16:55<04:33,  4.80s/it]"
     ]
    },
    {
     "name": "stdout",
     "output_type": "stream",
     "text": [
      "Success for img(88)_g.png:\n",
      "Testing 0 img(88)_g\n",
      "\n"
     ]
    },
    {
     "name": "stderr",
     "output_type": "stream",
     "text": [
      "Processing train inputs:  94%|█████████████████████████████████████████████████   | 949/1005 [1:17:01<04:45,  5.10s/it]"
     ]
    },
    {
     "name": "stdout",
     "output_type": "stream",
     "text": [
      "Success for img(88)_n.png:\n",
      "Testing 0 img(88)_n\n",
      "\n"
     ]
    },
    {
     "name": "stderr",
     "output_type": "stream",
     "text": [
      "Processing train inputs:  95%|█████████████████████████████████████████████████▏  | 950/1005 [1:17:07<04:53,  5.34s/it]"
     ]
    },
    {
     "name": "stdout",
     "output_type": "stream",
     "text": [
      "Success for img(88)_r.png:\n",
      "Testing 0 img(88)_r\n",
      "\n"
     ]
    },
    {
     "name": "stderr",
     "output_type": "stream",
     "text": [
      "Processing train inputs:  95%|█████████████████████████████████████████████████▎  | 952/1005 [1:17:13<03:48,  4.31s/it]"
     ]
    },
    {
     "name": "stdout",
     "output_type": "stream",
     "text": [
      "Success for img(89)_b.png:\n",
      "Testing 0 img(89)_b\n",
      "\n"
     ]
    },
    {
     "name": "stderr",
     "output_type": "stream",
     "text": [
      "Processing train inputs:  95%|█████████████████████████████████████████████████▎  | 953/1005 [1:17:19<04:03,  4.68s/it]"
     ]
    },
    {
     "name": "stdout",
     "output_type": "stream",
     "text": [
      "Success for img(89)_g.png:\n",
      "Testing 0 img(89)_g\n",
      "\n"
     ]
    },
    {
     "name": "stderr",
     "output_type": "stream",
     "text": [
      "Processing train inputs:  95%|█████████████████████████████████████████████████▎  | 954/1005 [1:17:25<04:14,  4.99s/it]"
     ]
    },
    {
     "name": "stdout",
     "output_type": "stream",
     "text": [
      "Success for img(89)_n.png:\n",
      "Testing 0 img(89)_n\n",
      "\n"
     ]
    },
    {
     "name": "stderr",
     "output_type": "stream",
     "text": [
      "Processing train inputs:  95%|█████████████████████████████████████████████████▍  | 955/1005 [1:17:31<04:21,  5.23s/it]"
     ]
    },
    {
     "name": "stdout",
     "output_type": "stream",
     "text": [
      "Success for img(89)_r.png:\n",
      "Testing 0 img(89)_r\n",
      "\n"
     ]
    },
    {
     "name": "stderr",
     "output_type": "stream",
     "text": [
      "Processing train inputs:  95%|█████████████████████████████████████████████████▌  | 957/1005 [1:17:37<03:24,  4.26s/it]"
     ]
    },
    {
     "name": "stdout",
     "output_type": "stream",
     "text": [
      "Success for img(90)_b.png:\n",
      "Testing 0 img(90)_b\n",
      "\n"
     ]
    },
    {
     "name": "stderr",
     "output_type": "stream",
     "text": [
      "Processing train inputs:  95%|█████████████████████████████████████████████████▌  | 958/1005 [1:17:43<03:38,  4.65s/it]"
     ]
    },
    {
     "name": "stdout",
     "output_type": "stream",
     "text": [
      "Success for img(90)_g.png:\n",
      "Testing 0 img(90)_g\n",
      "\n"
     ]
    },
    {
     "name": "stderr",
     "output_type": "stream",
     "text": [
      "Processing train inputs:  95%|█████████████████████████████████████████████████▌  | 959/1005 [1:17:49<03:49,  4.98s/it]"
     ]
    },
    {
     "name": "stdout",
     "output_type": "stream",
     "text": [
      "Success for img(90)_n.png:\n",
      "Testing 0 img(90)_n\n",
      "\n"
     ]
    },
    {
     "name": "stderr",
     "output_type": "stream",
     "text": [
      "Processing train inputs:  96%|█████████████████████████████████████████████████▋  | 960/1005 [1:17:55<03:55,  5.24s/it]"
     ]
    },
    {
     "name": "stdout",
     "output_type": "stream",
     "text": [
      "Success for img(90)_r.png:\n",
      "Testing 0 img(90)_r\n",
      "\n"
     ]
    },
    {
     "name": "stderr",
     "output_type": "stream",
     "text": [
      "Processing train inputs:  96%|█████████████████████████████████████████████████▊  | 962/1005 [1:18:00<03:03,  4.26s/it]"
     ]
    },
    {
     "name": "stdout",
     "output_type": "stream",
     "text": [
      "Success for img(91)_b.png:\n",
      "Testing 0 img(91)_b\n",
      "\n"
     ]
    },
    {
     "name": "stderr",
     "output_type": "stream",
     "text": [
      "Processing train inputs:  96%|█████████████████████████████████████████████████▊  | 963/1005 [1:18:06<03:15,  4.65s/it]"
     ]
    },
    {
     "name": "stdout",
     "output_type": "stream",
     "text": [
      "Success for img(91)_g.png:\n",
      "Testing 0 img(91)_g\n",
      "\n"
     ]
    },
    {
     "name": "stderr",
     "output_type": "stream",
     "text": [
      "Processing train inputs:  96%|█████████████████████████████████████████████████▉  | 964/1005 [1:18:12<03:23,  4.96s/it]"
     ]
    },
    {
     "name": "stdout",
     "output_type": "stream",
     "text": [
      "Success for img(91)_n.png:\n",
      "Testing 0 img(91)_n\n",
      "\n"
     ]
    },
    {
     "name": "stderr",
     "output_type": "stream",
     "text": [
      "Processing train inputs:  96%|█████████████████████████████████████████████████▉  | 965/1005 [1:18:18<03:28,  5.22s/it]"
     ]
    },
    {
     "name": "stdout",
     "output_type": "stream",
     "text": [
      "Success for img(91)_r.png:\n",
      "Testing 0 img(91)_r\n",
      "\n"
     ]
    },
    {
     "name": "stderr",
     "output_type": "stream",
     "text": [
      "Processing train inputs:  96%|██████████████████████████████████████████████████  | 967/1005 [1:18:24<02:41,  4.25s/it]"
     ]
    },
    {
     "name": "stdout",
     "output_type": "stream",
     "text": [
      "Success for img(92)_b.png:\n",
      "Testing 0 img(92)_b\n",
      "\n"
     ]
    },
    {
     "name": "stderr",
     "output_type": "stream",
     "text": [
      "Processing train inputs:  96%|██████████████████████████████████████████████████  | 968/1005 [1:18:30<02:51,  4.63s/it]"
     ]
    },
    {
     "name": "stdout",
     "output_type": "stream",
     "text": [
      "Success for img(92)_g.png:\n",
      "Testing 0 img(92)_g\n",
      "\n"
     ]
    },
    {
     "name": "stderr",
     "output_type": "stream",
     "text": [
      "Processing train inputs:  96%|██████████████████████████████████████████████████▏ | 969/1005 [1:18:36<02:58,  4.96s/it]"
     ]
    },
    {
     "name": "stdout",
     "output_type": "stream",
     "text": [
      "Success for img(92)_n.png:\n",
      "Testing 0 img(92)_n\n",
      "\n"
     ]
    },
    {
     "name": "stderr",
     "output_type": "stream",
     "text": [
      "Processing train inputs:  97%|██████████████████████████████████████████████████▏ | 970/1005 [1:18:42<03:02,  5.21s/it]"
     ]
    },
    {
     "name": "stdout",
     "output_type": "stream",
     "text": [
      "Success for img(92)_r.png:\n",
      "Testing 0 img(92)_r\n",
      "\n"
     ]
    },
    {
     "name": "stderr",
     "output_type": "stream",
     "text": [
      "Processing train inputs:  97%|██████████████████████████████████████████████████▎ | 972/1005 [1:18:48<02:20,  4.25s/it]"
     ]
    },
    {
     "name": "stdout",
     "output_type": "stream",
     "text": [
      "Success for img(93)_b.png:\n",
      "Testing 0 img(93)_b\n",
      "\n"
     ]
    },
    {
     "name": "stderr",
     "output_type": "stream",
     "text": [
      "Processing train inputs:  97%|██████████████████████████████████████████████████▎ | 973/1005 [1:18:54<02:28,  4.65s/it]"
     ]
    },
    {
     "name": "stdout",
     "output_type": "stream",
     "text": [
      "Success for img(93)_g.png:\n",
      "Testing 0 img(93)_g\n",
      "\n"
     ]
    },
    {
     "name": "stderr",
     "output_type": "stream",
     "text": [
      "Processing train inputs:  97%|██████████████████████████████████████████████████▍ | 974/1005 [1:19:00<02:34,  4.97s/it]"
     ]
    },
    {
     "name": "stdout",
     "output_type": "stream",
     "text": [
      "Success for img(93)_n.png:\n",
      "Testing 0 img(93)_n\n",
      "\n"
     ]
    },
    {
     "name": "stderr",
     "output_type": "stream",
     "text": [
      "Processing train inputs:  97%|██████████████████████████████████████████████████▍ | 975/1005 [1:19:06<02:36,  5.22s/it]"
     ]
    },
    {
     "name": "stdout",
     "output_type": "stream",
     "text": [
      "Success for img(93)_r.png:\n",
      "Testing 0 img(93)_r\n",
      "\n"
     ]
    },
    {
     "name": "stderr",
     "output_type": "stream",
     "text": [
      "Processing train inputs:  97%|██████████████████████████████████████████████████▌ | 977/1005 [1:19:12<01:58,  4.25s/it]"
     ]
    },
    {
     "name": "stdout",
     "output_type": "stream",
     "text": [
      "Success for img(94)_b.png:\n",
      "Testing 0 img(94)_b\n",
      "\n"
     ]
    },
    {
     "name": "stderr",
     "output_type": "stream",
     "text": [
      "Processing train inputs:  97%|██████████████████████████████████████████████████▌ | 978/1005 [1:19:17<02:05,  4.64s/it]"
     ]
    },
    {
     "name": "stdout",
     "output_type": "stream",
     "text": [
      "Success for img(94)_g.png:\n",
      "Testing 0 img(94)_g\n",
      "\n"
     ]
    },
    {
     "name": "stderr",
     "output_type": "stream",
     "text": [
      "Processing train inputs:  97%|██████████████████████████████████████████████████▋ | 979/1005 [1:19:23<02:09,  4.97s/it]"
     ]
    },
    {
     "name": "stdout",
     "output_type": "stream",
     "text": [
      "Success for img(94)_n.png:\n",
      "Testing 0 img(94)_n\n",
      "\n"
     ]
    },
    {
     "name": "stderr",
     "output_type": "stream",
     "text": [
      "Processing train inputs:  98%|██████████████████████████████████████████████████▋ | 980/1005 [1:19:29<02:10,  5.22s/it]"
     ]
    },
    {
     "name": "stdout",
     "output_type": "stream",
     "text": [
      "Success for img(94)_r.png:\n",
      "Testing 0 img(94)_r\n",
      "\n"
     ]
    },
    {
     "name": "stderr",
     "output_type": "stream",
     "text": [
      "Processing train inputs:  98%|██████████████████████████████████████████████████▊ | 982/1005 [1:19:35<01:37,  4.26s/it]"
     ]
    },
    {
     "name": "stdout",
     "output_type": "stream",
     "text": [
      "Success for img(95)_b.png:\n",
      "Testing 0 img(95)_b\n",
      "\n"
     ]
    },
    {
     "name": "stderr",
     "output_type": "stream",
     "text": [
      "Processing train inputs:  98%|██████████████████████████████████████████████████▊ | 983/1005 [1:19:41<01:42,  4.65s/it]"
     ]
    },
    {
     "name": "stdout",
     "output_type": "stream",
     "text": [
      "Success for img(95)_g.png:\n",
      "Testing 0 img(95)_g\n",
      "\n"
     ]
    },
    {
     "name": "stderr",
     "output_type": "stream",
     "text": [
      "Processing train inputs:  98%|██████████████████████████████████████████████████▉ | 984/1005 [1:19:47<01:44,  4.97s/it]"
     ]
    },
    {
     "name": "stdout",
     "output_type": "stream",
     "text": [
      "Success for img(95)_n.png:\n",
      "Testing 0 img(95)_n\n",
      "\n"
     ]
    },
    {
     "name": "stderr",
     "output_type": "stream",
     "text": [
      "Processing train inputs:  98%|██████████████████████████████████████████████████▉ | 985/1005 [1:19:53<01:44,  5.22s/it]"
     ]
    },
    {
     "name": "stdout",
     "output_type": "stream",
     "text": [
      "Success for img(95)_r.png:\n",
      "Testing 0 img(95)_r\n",
      "\n"
     ]
    },
    {
     "name": "stderr",
     "output_type": "stream",
     "text": [
      "Processing train inputs:  98%|███████████████████████████████████████████████████ | 987/1005 [1:19:59<01:16,  4.24s/it]"
     ]
    },
    {
     "name": "stdout",
     "output_type": "stream",
     "text": [
      "Success for img(96)_b.png:\n",
      "Testing 0 img(96)_b\n",
      "\n"
     ]
    },
    {
     "name": "stderr",
     "output_type": "stream",
     "text": [
      "Processing train inputs:  98%|███████████████████████████████████████████████████ | 988/1005 [1:20:05<01:18,  4.63s/it]"
     ]
    },
    {
     "name": "stdout",
     "output_type": "stream",
     "text": [
      "Success for img(96)_g.png:\n",
      "Testing 0 img(96)_g\n",
      "\n"
     ]
    },
    {
     "name": "stderr",
     "output_type": "stream",
     "text": [
      "Processing train inputs:  98%|███████████████████████████████████████████████████▏| 989/1005 [1:20:11<01:19,  4.95s/it]"
     ]
    },
    {
     "name": "stdout",
     "output_type": "stream",
     "text": [
      "Success for img(96)_n.png:\n",
      "Testing 0 img(96)_n\n",
      "\n"
     ]
    },
    {
     "name": "stderr",
     "output_type": "stream",
     "text": [
      "Processing train inputs:  99%|███████████████████████████████████████████████████▏| 990/1005 [1:20:17<01:18,  5.22s/it]"
     ]
    },
    {
     "name": "stdout",
     "output_type": "stream",
     "text": [
      "Success for img(96)_r.png:\n",
      "Testing 0 img(96)_r\n",
      "\n"
     ]
    },
    {
     "name": "stderr",
     "output_type": "stream",
     "text": [
      "Processing train inputs:  99%|███████████████████████████████████████████████████▎| 992/1005 [1:20:23<00:55,  4.24s/it]"
     ]
    },
    {
     "name": "stdout",
     "output_type": "stream",
     "text": [
      "Success for img(97)_b.png:\n",
      "Testing 0 img(97)_b\n",
      "\n"
     ]
    },
    {
     "name": "stderr",
     "output_type": "stream",
     "text": [
      "Processing train inputs:  99%|███████████████████████████████████████████████████▍| 993/1005 [1:20:29<00:55,  4.64s/it]"
     ]
    },
    {
     "name": "stdout",
     "output_type": "stream",
     "text": [
      "Success for img(97)_g.png:\n",
      "Testing 0 img(97)_g\n",
      "\n"
     ]
    },
    {
     "name": "stderr",
     "output_type": "stream",
     "text": [
      "Processing train inputs:  99%|███████████████████████████████████████████████████▍| 994/1005 [1:20:34<00:54,  4.95s/it]"
     ]
    },
    {
     "name": "stdout",
     "output_type": "stream",
     "text": [
      "Success for img(97)_n.png:\n",
      "Testing 0 img(97)_n\n",
      "\n"
     ]
    },
    {
     "name": "stderr",
     "output_type": "stream",
     "text": [
      "Processing train inputs:  99%|███████████████████████████████████████████████████▍| 995/1005 [1:20:40<00:51,  5.19s/it]"
     ]
    },
    {
     "name": "stdout",
     "output_type": "stream",
     "text": [
      "Success for img(97)_r.png:\n",
      "Testing 0 img(97)_r\n",
      "\n"
     ]
    },
    {
     "name": "stderr",
     "output_type": "stream",
     "text": [
      "Processing train inputs:  99%|███████████████████████████████████████████████████▌| 997/1005 [1:20:46<00:33,  4.24s/it]"
     ]
    },
    {
     "name": "stdout",
     "output_type": "stream",
     "text": [
      "Success for img(98)_b.png:\n",
      "Testing 0 img(98)_b\n",
      "\n"
     ]
    },
    {
     "name": "stderr",
     "output_type": "stream",
     "text": [
      "Processing train inputs:  99%|███████████████████████████████████████████████████▋| 998/1005 [1:20:52<00:32,  4.63s/it]"
     ]
    },
    {
     "name": "stdout",
     "output_type": "stream",
     "text": [
      "Success for img(98)_g.png:\n",
      "Testing 0 img(98)_g\n",
      "\n"
     ]
    },
    {
     "name": "stderr",
     "output_type": "stream",
     "text": [
      "Processing train inputs:  99%|███████████████████████████████████████████████████▋| 999/1005 [1:20:58<00:29,  4.95s/it]"
     ]
    },
    {
     "name": "stdout",
     "output_type": "stream",
     "text": [
      "Success for img(98)_n.png:\n",
      "Testing 0 img(98)_n\n",
      "\n"
     ]
    },
    {
     "name": "stderr",
     "output_type": "stream",
     "text": [
      "Processing train inputs: 100%|██████████████████████████████████████████████████▋| 1000/1005 [1:21:04<00:26,  5.23s/it]"
     ]
    },
    {
     "name": "stdout",
     "output_type": "stream",
     "text": [
      "Success for img(98)_r.png:\n",
      "Testing 0 img(98)_r\n",
      "\n"
     ]
    },
    {
     "name": "stderr",
     "output_type": "stream",
     "text": [
      "Processing train inputs: 100%|██████████████████████████████████████████████████▊| 1002/1005 [1:21:10<00:12,  4.25s/it]"
     ]
    },
    {
     "name": "stdout",
     "output_type": "stream",
     "text": [
      "Success for img(99)_b.png:\n",
      "Testing 0 img(99)_b\n",
      "\n"
     ]
    },
    {
     "name": "stderr",
     "output_type": "stream",
     "text": [
      "Processing train inputs: 100%|██████████████████████████████████████████████████▉| 1003/1005 [1:21:16<00:09,  4.65s/it]"
     ]
    },
    {
     "name": "stdout",
     "output_type": "stream",
     "text": [
      "Success for img(99)_g.png:\n",
      "Testing 0 img(99)_g\n",
      "\n"
     ]
    },
    {
     "name": "stderr",
     "output_type": "stream",
     "text": [
      "Processing train inputs: 100%|██████████████████████████████████████████████████▉| 1004/1005 [1:21:22<00:04,  4.96s/it]"
     ]
    },
    {
     "name": "stdout",
     "output_type": "stream",
     "text": [
      "Success for img(99)_n.png:\n",
      "Testing 0 img(99)_n\n",
      "\n"
     ]
    },
    {
     "name": "stderr",
     "output_type": "stream",
     "text": [
      "Processing train inputs: 100%|███████████████████████████████████████████████████| 1005/1005 [1:21:28<00:00,  4.86s/it]\n"
     ]
    },
    {
     "name": "stdout",
     "output_type": "stream",
     "text": [
      "Success for img(99)_r.png:\n",
      "Testing 0 img(99)_r\n",
      "\n"
     ]
    },
    {
     "name": "stderr",
     "output_type": "stream",
     "text": [
      "Processing val inputs:   1%|▋                                                          | 2/175 [00:05<08:30,  2.95s/it]"
     ]
    },
    {
     "name": "stdout",
     "output_type": "stream",
     "text": [
      "Success for img(1)_b.png:\n",
      "Testing 0 img(1)_b\n",
      "\n"
     ]
    },
    {
     "name": "stderr",
     "output_type": "stream",
     "text": [
      "Processing val inputs:   2%|█                                                          | 3/175 [00:11<11:55,  4.16s/it]"
     ]
    },
    {
     "name": "stdout",
     "output_type": "stream",
     "text": [
      "Success for img(1)_g.png:\n",
      "Testing 0 img(1)_g\n",
      "\n"
     ]
    },
    {
     "name": "stderr",
     "output_type": "stream",
     "text": [
      "Processing val inputs:   2%|█▎                                                         | 4/175 [00:17<13:41,  4.81s/it]"
     ]
    },
    {
     "name": "stdout",
     "output_type": "stream",
     "text": [
      "Success for img(1)_n.png:\n",
      "Testing 0 img(1)_n\n",
      "\n"
     ]
    },
    {
     "name": "stderr",
     "output_type": "stream",
     "text": [
      "Processing val inputs:   3%|█▋                                                         | 5/175 [00:23<14:47,  5.22s/it]"
     ]
    },
    {
     "name": "stdout",
     "output_type": "stream",
     "text": [
      "Success for img(1)_r.png:\n",
      "Testing 0 img(1)_r\n",
      "\n"
     ]
    },
    {
     "name": "stderr",
     "output_type": "stream",
     "text": [
      "Processing val inputs:   4%|██▎                                                        | 7/175 [00:29<11:36,  4.14s/it]"
     ]
    },
    {
     "name": "stdout",
     "output_type": "stream",
     "text": [
      "Success for img(10)_b.png:\n",
      "Testing 0 img(10)_b\n",
      "\n"
     ]
    },
    {
     "name": "stderr",
     "output_type": "stream",
     "text": [
      "Processing val inputs:   5%|██▋                                                        | 8/175 [00:35<12:51,  4.62s/it]"
     ]
    },
    {
     "name": "stdout",
     "output_type": "stream",
     "text": [
      "Success for img(10)_g.png:\n",
      "Testing 0 img(10)_g\n",
      "\n"
     ]
    },
    {
     "name": "stderr",
     "output_type": "stream",
     "text": [
      "Processing val inputs:   5%|███                                                        | 9/175 [00:41<13:45,  4.97s/it]"
     ]
    },
    {
     "name": "stdout",
     "output_type": "stream",
     "text": [
      "Success for img(10)_n.png:\n",
      "Testing 0 img(10)_n\n",
      "\n"
     ]
    },
    {
     "name": "stderr",
     "output_type": "stream",
     "text": [
      "Processing val inputs:   6%|███▎                                                      | 10/175 [00:47<14:21,  5.22s/it]"
     ]
    },
    {
     "name": "stdout",
     "output_type": "stream",
     "text": [
      "Success for img(10)_r.png:\n",
      "Testing 0 img(10)_r\n",
      "\n"
     ]
    },
    {
     "name": "stderr",
     "output_type": "stream",
     "text": [
      "Processing val inputs:   7%|███▉                                                      | 12/175 [00:53<11:26,  4.21s/it]"
     ]
    },
    {
     "name": "stdout",
     "output_type": "stream",
     "text": [
      "Success for img(1001)_b.png:\n",
      "Testing 0 img(1001)_b\n",
      "\n"
     ]
    },
    {
     "name": "stderr",
     "output_type": "stream",
     "text": [
      "Processing val inputs:   7%|████▎                                                     | 13/175 [00:59<12:27,  4.61s/it]"
     ]
    },
    {
     "name": "stdout",
     "output_type": "stream",
     "text": [
      "Success for img(1001)_g.png:\n",
      "Testing 0 img(1001)_g\n",
      "\n"
     ]
    },
    {
     "name": "stderr",
     "output_type": "stream",
     "text": [
      "Processing val inputs:   8%|████▋                                                     | 14/175 [01:05<13:16,  4.95s/it]"
     ]
    },
    {
     "name": "stdout",
     "output_type": "stream",
     "text": [
      "Success for img(1001)_n.png:\n",
      "Testing 0 img(1001)_n\n",
      "\n"
     ]
    },
    {
     "name": "stderr",
     "output_type": "stream",
     "text": [
      "Processing val inputs:   9%|████▉                                                     | 15/175 [01:11<13:53,  5.21s/it]"
     ]
    },
    {
     "name": "stdout",
     "output_type": "stream",
     "text": [
      "Success for img(1001)_r.png:\n",
      "Testing 0 img(1001)_r\n",
      "\n"
     ]
    },
    {
     "name": "stderr",
     "output_type": "stream",
     "text": [
      "Processing val inputs:  10%|█████▋                                                    | 17/175 [01:17<11:09,  4.24s/it]"
     ]
    },
    {
     "name": "stdout",
     "output_type": "stream",
     "text": [
      "Success for img(1002)_b.png:\n",
      "Testing 0 img(1002)_b\n",
      "\n"
     ]
    },
    {
     "name": "stderr",
     "output_type": "stream",
     "text": [
      "Processing val inputs:  10%|█████▉                                                    | 18/175 [01:24<12:51,  4.92s/it]"
     ]
    },
    {
     "name": "stdout",
     "output_type": "stream",
     "text": [
      "Success for img(1002)_g.png:\n",
      "Testing 0 img(1002)_g\n",
      "\n"
     ]
    },
    {
     "name": "stderr",
     "output_type": "stream",
     "text": [
      "Processing val inputs:  11%|██████▎                                                   | 19/175 [01:33<15:24,  5.93s/it]"
     ]
    },
    {
     "name": "stdout",
     "output_type": "stream",
     "text": [
      "Success for img(1002)_n.png:\n",
      "Testing 0 img(1002)_n\n",
      "\n"
     ]
    },
    {
     "name": "stderr",
     "output_type": "stream",
     "text": [
      "Processing val inputs:  11%|██████▋                                                   | 20/175 [01:39<15:27,  5.98s/it]"
     ]
    },
    {
     "name": "stdout",
     "output_type": "stream",
     "text": [
      "Success for img(1002)_r.png:\n",
      "Testing 0 img(1002)_r\n",
      "\n"
     ]
    },
    {
     "name": "stderr",
     "output_type": "stream",
     "text": [
      "Processing val inputs:  13%|███████▎                                                  | 22/175 [01:45<11:58,  4.70s/it]"
     ]
    },
    {
     "name": "stdout",
     "output_type": "stream",
     "text": [
      "Success for img(1003)_b.png:\n",
      "Testing 0 img(1003)_b\n",
      "\n"
     ]
    },
    {
     "name": "stderr",
     "output_type": "stream",
     "text": [
      "Processing val inputs:  13%|███████▌                                                  | 23/175 [01:51<12:38,  4.99s/it]"
     ]
    },
    {
     "name": "stdout",
     "output_type": "stream",
     "text": [
      "Success for img(1003)_g.png:\n",
      "Testing 0 img(1003)_g\n",
      "\n"
     ]
    },
    {
     "name": "stderr",
     "output_type": "stream",
     "text": [
      "Processing val inputs:  14%|███████▉                                                  | 24/175 [01:57<13:27,  5.35s/it]"
     ]
    },
    {
     "name": "stdout",
     "output_type": "stream",
     "text": [
      "Success for img(1003)_n.png:\n",
      "Testing 0 img(1003)_n\n",
      "\n"
     ]
    },
    {
     "name": "stderr",
     "output_type": "stream",
     "text": [
      "Processing val inputs:  14%|████████▎                                                 | 25/175 [02:03<13:51,  5.54s/it]"
     ]
    },
    {
     "name": "stdout",
     "output_type": "stream",
     "text": [
      "Success for img(1003)_r.png:\n",
      "Testing 0 img(1003)_r\n",
      "\n"
     ]
    },
    {
     "name": "stderr",
     "output_type": "stream",
     "text": [
      "Processing val inputs:  15%|████████▉                                                 | 27/175 [02:09<10:55,  4.43s/it]"
     ]
    },
    {
     "name": "stdout",
     "output_type": "stream",
     "text": [
      "Success for img(1004)_b.png:\n",
      "Testing 0 img(1004)_b\n",
      "\n"
     ]
    },
    {
     "name": "stderr",
     "output_type": "stream",
     "text": [
      "Processing val inputs:  16%|█████████▎                                                | 28/175 [02:15<11:45,  4.80s/it]"
     ]
    },
    {
     "name": "stdout",
     "output_type": "stream",
     "text": [
      "Success for img(1004)_g.png:\n",
      "Testing 0 img(1004)_g\n",
      "\n"
     ]
    },
    {
     "name": "stderr",
     "output_type": "stream",
     "text": [
      "Processing val inputs:  17%|█████████▌                                                | 29/175 [02:21<12:24,  5.10s/it]"
     ]
    },
    {
     "name": "stdout",
     "output_type": "stream",
     "text": [
      "Success for img(1004)_n.png:\n",
      "Testing 0 img(1004)_n\n",
      "\n"
     ]
    },
    {
     "name": "stderr",
     "output_type": "stream",
     "text": [
      "Processing val inputs:  17%|█████████▉                                                | 30/175 [02:27<12:50,  5.31s/it]"
     ]
    },
    {
     "name": "stdout",
     "output_type": "stream",
     "text": [
      "Success for img(1004)_r.png:\n",
      "Testing 0 img(1004)_r\n",
      "\n"
     ]
    },
    {
     "name": "stderr",
     "output_type": "stream",
     "text": [
      "Processing val inputs:  18%|██████████▌                                               | 32/175 [02:33<10:15,  4.31s/it]"
     ]
    },
    {
     "name": "stdout",
     "output_type": "stream",
     "text": [
      "Success for img(1005)_b.png:\n",
      "Testing 0 img(1005)_b\n",
      "\n"
     ]
    },
    {
     "name": "stderr",
     "output_type": "stream",
     "text": [
      "Processing val inputs:  19%|██████████▉                                               | 33/175 [02:39<11:09,  4.71s/it]"
     ]
    },
    {
     "name": "stdout",
     "output_type": "stream",
     "text": [
      "Success for img(1005)_g.png:\n",
      "Testing 0 img(1005)_g\n",
      "\n"
     ]
    },
    {
     "name": "stderr",
     "output_type": "stream",
     "text": [
      "Processing val inputs:  19%|███████████▎                                              | 34/175 [02:45<12:03,  5.13s/it]"
     ]
    },
    {
     "name": "stdout",
     "output_type": "stream",
     "text": [
      "Success for img(1005)_n.png:\n",
      "Testing 0 img(1005)_n\n",
      "\n"
     ]
    },
    {
     "name": "stderr",
     "output_type": "stream",
     "text": [
      "Processing val inputs:  20%|███████████▌                                              | 35/175 [02:51<12:27,  5.34s/it]"
     ]
    },
    {
     "name": "stdout",
     "output_type": "stream",
     "text": [
      "Success for img(1005)_r.png:\n",
      "Testing 0 img(1005)_r\n",
      "\n"
     ]
    },
    {
     "name": "stderr",
     "output_type": "stream",
     "text": [
      "Processing val inputs:  21%|████████████▎                                             | 37/175 [02:57<09:55,  4.32s/it]"
     ]
    },
    {
     "name": "stdout",
     "output_type": "stream",
     "text": [
      "Success for img(1006)_b.png:\n",
      "Testing 0 img(1006)_b\n",
      "\n"
     ]
    },
    {
     "name": "stderr",
     "output_type": "stream",
     "text": [
      "Processing val inputs:  22%|████████████▌                                             | 38/175 [03:03<10:43,  4.70s/it]"
     ]
    },
    {
     "name": "stdout",
     "output_type": "stream",
     "text": [
      "Success for img(1006)_g.png:\n",
      "Testing 0 img(1006)_g\n",
      "\n"
     ]
    },
    {
     "name": "stderr",
     "output_type": "stream",
     "text": [
      "Processing val inputs:  22%|████████████▉                                             | 39/175 [03:09<11:28,  5.07s/it]"
     ]
    },
    {
     "name": "stdout",
     "output_type": "stream",
     "text": [
      "Success for img(1006)_n.png:\n",
      "Testing 0 img(1006)_n\n",
      "\n"
     ]
    },
    {
     "name": "stderr",
     "output_type": "stream",
     "text": [
      "Processing val inputs:  23%|█████████████▎                                            | 40/175 [03:15<11:52,  5.28s/it]"
     ]
    },
    {
     "name": "stdout",
     "output_type": "stream",
     "text": [
      "Success for img(1006)_r.png:\n",
      "Testing 0 img(1006)_r\n",
      "\n"
     ]
    },
    {
     "name": "stderr",
     "output_type": "stream",
     "text": [
      "Processing val inputs:  24%|█████████████▉                                            | 42/175 [03:21<09:29,  4.28s/it]"
     ]
    },
    {
     "name": "stdout",
     "output_type": "stream",
     "text": [
      "Success for img(1007)_b.png:\n",
      "Testing 0 img(1007)_b\n",
      "\n"
     ]
    },
    {
     "name": "stderr",
     "output_type": "stream",
     "text": [
      "Processing val inputs:  25%|██████████████▎                                           | 43/175 [03:27<10:17,  4.68s/it]"
     ]
    },
    {
     "name": "stdout",
     "output_type": "stream",
     "text": [
      "Success for img(1007)_g.png:\n",
      "Testing 0 img(1007)_g\n",
      "\n"
     ]
    },
    {
     "name": "stderr",
     "output_type": "stream",
     "text": [
      "Processing val inputs:  25%|██████████████▌                                           | 44/175 [03:33<10:54,  4.99s/it]"
     ]
    },
    {
     "name": "stdout",
     "output_type": "stream",
     "text": [
      "Success for img(1007)_n.png:\n",
      "Testing 0 img(1007)_n\n",
      "\n"
     ]
    },
    {
     "name": "stderr",
     "output_type": "stream",
     "text": [
      "Processing val inputs:  26%|██████████████▉                                           | 45/175 [03:39<11:34,  5.34s/it]"
     ]
    },
    {
     "name": "stdout",
     "output_type": "stream",
     "text": [
      "Success for img(1007)_r.png:\n",
      "Testing 0 img(1007)_r\n",
      "\n"
     ]
    },
    {
     "name": "stderr",
     "output_type": "stream",
     "text": [
      "Processing val inputs:  27%|███████████████▌                                          | 47/175 [03:45<09:15,  4.34s/it]"
     ]
    },
    {
     "name": "stdout",
     "output_type": "stream",
     "text": [
      "Success for img(1008)_b.png:\n",
      "Testing 0 img(1008)_b\n",
      "\n"
     ]
    },
    {
     "name": "stderr",
     "output_type": "stream",
     "text": [
      "Processing val inputs:  27%|███████████████▉                                          | 48/175 [03:51<10:00,  4.73s/it]"
     ]
    },
    {
     "name": "stdout",
     "output_type": "stream",
     "text": [
      "Success for img(1008)_g.png:\n",
      "Testing 0 img(1008)_g\n",
      "\n"
     ]
    },
    {
     "name": "stderr",
     "output_type": "stream",
     "text": [
      "Processing val inputs:  28%|████████████████▏                                         | 49/175 [03:57<10:33,  5.02s/it]"
     ]
    },
    {
     "name": "stdout",
     "output_type": "stream",
     "text": [
      "Success for img(1008)_n.png:\n",
      "Testing 0 img(1008)_n\n",
      "\n"
     ]
    },
    {
     "name": "stderr",
     "output_type": "stream",
     "text": [
      "Processing val inputs:  29%|████████████████▌                                         | 50/175 [04:03<10:56,  5.25s/it]"
     ]
    },
    {
     "name": "stdout",
     "output_type": "stream",
     "text": [
      "Success for img(1008)_r.png:\n",
      "Testing 0 img(1008)_r\n",
      "\n"
     ]
    },
    {
     "name": "stderr",
     "output_type": "stream",
     "text": [
      "Processing val inputs:  30%|█████████████████▏                                        | 52/175 [04:09<08:44,  4.26s/it]"
     ]
    },
    {
     "name": "stdout",
     "output_type": "stream",
     "text": [
      "Success for img(1009)_b.png:\n",
      "Testing 0 img(1009)_b\n",
      "\n"
     ]
    },
    {
     "name": "stderr",
     "output_type": "stream",
     "text": [
      "Processing val inputs:  30%|█████████████████▌                                        | 53/175 [04:15<09:28,  4.66s/it]"
     ]
    },
    {
     "name": "stdout",
     "output_type": "stream",
     "text": [
      "Success for img(1009)_g.png:\n",
      "Testing 0 img(1009)_g\n",
      "\n"
     ]
    },
    {
     "name": "stderr",
     "output_type": "stream",
     "text": [
      "Processing val inputs:  31%|█████████████████▉                                        | 54/175 [04:21<10:01,  4.97s/it]"
     ]
    },
    {
     "name": "stdout",
     "output_type": "stream",
     "text": [
      "Success for img(1009)_n.png:\n",
      "Testing 0 img(1009)_n\n",
      "\n"
     ]
    },
    {
     "name": "stderr",
     "output_type": "stream",
     "text": [
      "Processing val inputs:  31%|██████████████████▏                                       | 55/175 [04:27<10:27,  5.23s/it]"
     ]
    },
    {
     "name": "stdout",
     "output_type": "stream",
     "text": [
      "Success for img(1009)_r.png:\n",
      "Testing 0 img(1009)_r\n",
      "\n"
     ]
    },
    {
     "name": "stderr",
     "output_type": "stream",
     "text": [
      "Processing val inputs:  33%|██████████████████▉                                       | 57/175 [04:33<08:28,  4.31s/it]"
     ]
    },
    {
     "name": "stdout",
     "output_type": "stream",
     "text": [
      "Success for img(1010)_b.png:\n",
      "Testing 0 img(1010)_b\n",
      "\n"
     ]
    },
    {
     "name": "stderr",
     "output_type": "stream",
     "text": [
      "Processing val inputs:  33%|███████████████████▏                                      | 58/175 [04:39<09:07,  4.68s/it]"
     ]
    },
    {
     "name": "stdout",
     "output_type": "stream",
     "text": [
      "Success for img(1010)_g.png:\n",
      "Testing 0 img(1010)_g\n",
      "\n"
     ]
    },
    {
     "name": "stderr",
     "output_type": "stream",
     "text": [
      "Processing val inputs:  34%|███████████████████▌                                      | 59/175 [04:45<09:38,  4.99s/it]"
     ]
    },
    {
     "name": "stdout",
     "output_type": "stream",
     "text": [
      "Success for img(1010)_n.png:\n",
      "Testing 0 img(1010)_n\n",
      "\n"
     ]
    },
    {
     "name": "stderr",
     "output_type": "stream",
     "text": [
      "Processing val inputs:  34%|███████████████████▉                                      | 60/175 [04:51<10:01,  5.23s/it]"
     ]
    },
    {
     "name": "stdout",
     "output_type": "stream",
     "text": [
      "Success for img(1010)_r.png:\n",
      "Testing 0 img(1010)_r\n",
      "\n"
     ]
    },
    {
     "name": "stderr",
     "output_type": "stream",
     "text": [
      "Processing val inputs:  35%|████████████████████▌                                     | 62/175 [04:57<08:02,  4.27s/it]"
     ]
    },
    {
     "name": "stdout",
     "output_type": "stream",
     "text": [
      "Success for img(1011)_b.png:\n",
      "Testing 0 img(1011)_b\n",
      "\n"
     ]
    },
    {
     "name": "stderr",
     "output_type": "stream",
     "text": [
      "Processing val inputs:  36%|████████████████████▉                                     | 63/175 [05:03<08:41,  4.66s/it]"
     ]
    },
    {
     "name": "stdout",
     "output_type": "stream",
     "text": [
      "Success for img(1011)_g.png:\n",
      "Testing 0 img(1011)_g\n",
      "\n"
     ]
    },
    {
     "name": "stderr",
     "output_type": "stream",
     "text": [
      "Processing val inputs:  37%|█████████████████████▏                                    | 64/175 [05:08<09:11,  4.97s/it]"
     ]
    },
    {
     "name": "stdout",
     "output_type": "stream",
     "text": [
      "Success for img(1011)_n.png:\n",
      "Testing 0 img(1011)_n\n",
      "\n"
     ]
    },
    {
     "name": "stderr",
     "output_type": "stream",
     "text": [
      "Processing val inputs:  37%|█████████████████████▌                                    | 65/175 [05:14<09:34,  5.22s/it]"
     ]
    },
    {
     "name": "stdout",
     "output_type": "stream",
     "text": [
      "Success for img(1011)_r.png:\n",
      "Testing 0 img(1011)_r\n",
      "\n"
     ]
    },
    {
     "name": "stderr",
     "output_type": "stream",
     "text": [
      "Processing val inputs:  38%|██████████████████████▏                                   | 67/175 [05:20<07:38,  4.25s/it]"
     ]
    },
    {
     "name": "stdout",
     "output_type": "stream",
     "text": [
      "Success for img(1012)_b.png:\n",
      "Testing 0 img(1012)_b\n",
      "\n"
     ]
    },
    {
     "name": "stderr",
     "output_type": "stream",
     "text": [
      "Processing val inputs:  39%|██████████████████████▌                                   | 68/175 [05:27<08:36,  4.83s/it]"
     ]
    },
    {
     "name": "stdout",
     "output_type": "stream",
     "text": [
      "Success for img(1012)_g.png:\n",
      "Testing 0 img(1012)_g\n",
      "\n"
     ]
    },
    {
     "name": "stderr",
     "output_type": "stream",
     "text": [
      "Processing val inputs:  39%|██████████████████████▊                                   | 69/175 [05:33<09:01,  5.11s/it]"
     ]
    },
    {
     "name": "stdout",
     "output_type": "stream",
     "text": [
      "Success for img(1012)_n.png:\n",
      "Testing 0 img(1012)_n\n",
      "\n"
     ]
    },
    {
     "name": "stderr",
     "output_type": "stream",
     "text": [
      "Processing val inputs:  40%|███████████████████████▏                                  | 70/175 [05:39<09:18,  5.32s/it]"
     ]
    },
    {
     "name": "stdout",
     "output_type": "stream",
     "text": [
      "Success for img(1012)_r.png:\n",
      "Testing 0 img(1012)_r\n",
      "\n"
     ]
    },
    {
     "name": "stderr",
     "output_type": "stream",
     "text": [
      "Processing val inputs:  41%|███████████████████████▊                                  | 72/175 [05:45<07:25,  4.33s/it]"
     ]
    },
    {
     "name": "stdout",
     "output_type": "stream",
     "text": [
      "Success for img(1013)_b.png:\n",
      "Testing 0 img(1013)_b\n",
      "\n"
     ]
    },
    {
     "name": "stderr",
     "output_type": "stream",
     "text": [
      "Processing val inputs:  42%|████████████████████████▏                                 | 73/175 [05:51<07:58,  4.69s/it]"
     ]
    },
    {
     "name": "stdout",
     "output_type": "stream",
     "text": [
      "Success for img(1013)_g.png:\n",
      "Testing 0 img(1013)_g\n",
      "\n"
     ]
    },
    {
     "name": "stderr",
     "output_type": "stream",
     "text": [
      "Processing val inputs:  42%|████████████████████████▌                                 | 74/175 [05:57<08:24,  5.00s/it]"
     ]
    },
    {
     "name": "stdout",
     "output_type": "stream",
     "text": [
      "Success for img(1013)_n.png:\n",
      "Testing 0 img(1013)_n\n",
      "\n"
     ]
    },
    {
     "name": "stderr",
     "output_type": "stream",
     "text": [
      "Processing val inputs:  43%|████████████████████████▊                                 | 75/175 [06:03<08:45,  5.26s/it]"
     ]
    },
    {
     "name": "stdout",
     "output_type": "stream",
     "text": [
      "Success for img(1013)_r.png:\n",
      "Testing 0 img(1013)_r\n",
      "\n"
     ]
    },
    {
     "name": "stderr",
     "output_type": "stream",
     "text": [
      "Processing val inputs:  44%|█████████████████████████▌                                | 77/175 [06:09<06:57,  4.26s/it]"
     ]
    },
    {
     "name": "stdout",
     "output_type": "stream",
     "text": [
      "Success for img(1014)_b.png:\n",
      "Testing 0 img(1014)_b\n",
      "\n"
     ]
    },
    {
     "name": "stderr",
     "output_type": "stream",
     "text": [
      "Processing val inputs:  45%|█████████████████████████▊                                | 78/175 [06:14<07:30,  4.65s/it]"
     ]
    },
    {
     "name": "stdout",
     "output_type": "stream",
     "text": [
      "Success for img(1014)_g.png:\n",
      "Testing 0 img(1014)_g\n",
      "\n"
     ]
    },
    {
     "name": "stderr",
     "output_type": "stream",
     "text": [
      "Processing val inputs:  45%|██████████████████████████▏                               | 79/175 [06:20<07:57,  4.97s/it]"
     ]
    },
    {
     "name": "stdout",
     "output_type": "stream",
     "text": [
      "Success for img(1014)_n.png:\n",
      "Testing 0 img(1014)_n\n",
      "\n"
     ]
    },
    {
     "name": "stderr",
     "output_type": "stream",
     "text": [
      "Processing val inputs:  46%|██████████████████████████▌                               | 80/175 [06:26<08:16,  5.22s/it]"
     ]
    },
    {
     "name": "stdout",
     "output_type": "stream",
     "text": [
      "Success for img(1014)_r.png:\n",
      "Testing 0 img(1014)_r\n",
      "\n"
     ]
    },
    {
     "name": "stderr",
     "output_type": "stream",
     "text": [
      "Processing val inputs:  47%|███████████████████████████▏                              | 82/175 [06:32<06:36,  4.26s/it]"
     ]
    },
    {
     "name": "stdout",
     "output_type": "stream",
     "text": [
      "Success for img(1015)_b.png:\n",
      "Testing 0 img(1015)_b\n",
      "\n"
     ]
    },
    {
     "name": "stderr",
     "output_type": "stream",
     "text": [
      "Processing val inputs:  47%|███████████████████████████▌                              | 83/175 [06:38<07:07,  4.64s/it]"
     ]
    },
    {
     "name": "stdout",
     "output_type": "stream",
     "text": [
      "Success for img(1015)_g.png:\n",
      "Testing 0 img(1015)_g\n",
      "\n"
     ]
    },
    {
     "name": "stderr",
     "output_type": "stream",
     "text": [
      "Processing val inputs:  48%|███████████████████████████▊                              | 84/175 [06:44<07:32,  4.97s/it]"
     ]
    },
    {
     "name": "stdout",
     "output_type": "stream",
     "text": [
      "Success for img(1015)_n.png:\n",
      "Testing 0 img(1015)_n\n",
      "\n"
     ]
    },
    {
     "name": "stderr",
     "output_type": "stream",
     "text": [
      "Processing val inputs:  49%|████████████████████████████▏                             | 85/175 [06:50<07:49,  5.22s/it]"
     ]
    },
    {
     "name": "stdout",
     "output_type": "stream",
     "text": [
      "Success for img(1015)_r.png:\n",
      "Testing 0 img(1015)_r\n",
      "\n"
     ]
    },
    {
     "name": "stderr",
     "output_type": "stream",
     "text": [
      "Processing val inputs:  50%|████████████████████████████▊                             | 87/175 [06:56<06:13,  4.24s/it]"
     ]
    },
    {
     "name": "stdout",
     "output_type": "stream",
     "text": [
      "Success for img(1016)_b.png:\n",
      "Testing 0 img(1016)_b\n",
      "\n"
     ]
    },
    {
     "name": "stderr",
     "output_type": "stream",
     "text": [
      "Processing val inputs:  50%|█████████████████████████████▏                            | 88/175 [07:02<06:42,  4.63s/it]"
     ]
    },
    {
     "name": "stdout",
     "output_type": "stream",
     "text": [
      "Success for img(1016)_g.png:\n",
      "Testing 0 img(1016)_g\n",
      "\n"
     ]
    },
    {
     "name": "stderr",
     "output_type": "stream",
     "text": [
      "Processing val inputs:  51%|█████████████████████████████▍                            | 89/175 [07:08<07:06,  4.96s/it]"
     ]
    },
    {
     "name": "stdout",
     "output_type": "stream",
     "text": [
      "Success for img(1016)_n.png:\n",
      "Testing 0 img(1016)_n\n",
      "\n"
     ]
    },
    {
     "name": "stderr",
     "output_type": "stream",
     "text": [
      "Processing val inputs:  51%|█████████████████████████████▊                            | 90/175 [07:14<07:24,  5.23s/it]"
     ]
    },
    {
     "name": "stdout",
     "output_type": "stream",
     "text": [
      "Success for img(1016)_r.png:\n",
      "Testing 0 img(1016)_r\n",
      "\n"
     ]
    },
    {
     "name": "stderr",
     "output_type": "stream",
     "text": [
      "Processing val inputs:  53%|██████████████████████████████▍                           | 92/175 [07:20<05:53,  4.26s/it]"
     ]
    },
    {
     "name": "stdout",
     "output_type": "stream",
     "text": [
      "Success for img(1017)_b.png:\n",
      "Testing 0 img(1017)_b\n",
      "\n"
     ]
    },
    {
     "name": "stderr",
     "output_type": "stream",
     "text": [
      "Processing val inputs:  53%|██████████████████████████████▊                           | 93/175 [07:26<06:21,  4.65s/it]"
     ]
    },
    {
     "name": "stdout",
     "output_type": "stream",
     "text": [
      "Success for img(1017)_g.png:\n",
      "Testing 0 img(1017)_g\n",
      "\n"
     ]
    },
    {
     "name": "stderr",
     "output_type": "stream",
     "text": [
      "Processing val inputs:  54%|███████████████████████████████▏                          | 94/175 [07:32<06:42,  4.97s/it]"
     ]
    },
    {
     "name": "stdout",
     "output_type": "stream",
     "text": [
      "Success for img(1017)_n.png:\n",
      "Testing 0 img(1017)_n\n",
      "\n"
     ]
    },
    {
     "name": "stderr",
     "output_type": "stream",
     "text": [
      "Processing val inputs:  54%|███████████████████████████████▍                          | 95/175 [07:38<06:58,  5.23s/it]"
     ]
    },
    {
     "name": "stdout",
     "output_type": "stream",
     "text": [
      "Success for img(1017)_r.png:\n",
      "Testing 0 img(1017)_r\n",
      "\n"
     ]
    },
    {
     "name": "stderr",
     "output_type": "stream",
     "text": [
      "Processing val inputs:  55%|████████████████████████████████▏                         | 97/175 [07:44<05:34,  4.28s/it]"
     ]
    },
    {
     "name": "stdout",
     "output_type": "stream",
     "text": [
      "Success for img(1018)_b.png:\n",
      "Testing 0 img(1018)_b\n",
      "\n"
     ]
    },
    {
     "name": "stderr",
     "output_type": "stream",
     "text": [
      "Processing val inputs:  56%|████████████████████████████████▍                         | 98/175 [07:50<05:59,  4.67s/it]"
     ]
    },
    {
     "name": "stdout",
     "output_type": "stream",
     "text": [
      "Success for img(1018)_g.png:\n",
      "Testing 0 img(1018)_g\n",
      "\n"
     ]
    },
    {
     "name": "stderr",
     "output_type": "stream",
     "text": [
      "Processing val inputs:  57%|████████████████████████████████▊                         | 99/175 [07:55<06:19,  4.99s/it]"
     ]
    },
    {
     "name": "stdout",
     "output_type": "stream",
     "text": [
      "Success for img(1018)_n.png:\n",
      "Testing 0 img(1018)_n\n",
      "\n"
     ]
    },
    {
     "name": "stderr",
     "output_type": "stream",
     "text": [
      "Processing val inputs:  57%|████████████████████████████████▌                        | 100/175 [08:01<06:32,  5.23s/it]"
     ]
    },
    {
     "name": "stdout",
     "output_type": "stream",
     "text": [
      "Success for img(1018)_r.png:\n",
      "Testing 0 img(1018)_r\n",
      "\n"
     ]
    },
    {
     "name": "stderr",
     "output_type": "stream",
     "text": [
      "Processing val inputs:  58%|█████████████████████████████████▏                       | 102/175 [08:07<05:10,  4.25s/it]"
     ]
    },
    {
     "name": "stdout",
     "output_type": "stream",
     "text": [
      "Success for img(1019)_b.png:\n",
      "Testing 0 img(1019)_b\n",
      "\n"
     ]
    },
    {
     "name": "stderr",
     "output_type": "stream",
     "text": [
      "Processing val inputs:  59%|█████████████████████████████████▌                       | 103/175 [08:13<05:35,  4.65s/it]"
     ]
    },
    {
     "name": "stdout",
     "output_type": "stream",
     "text": [
      "Success for img(1019)_g.png:\n",
      "Testing 0 img(1019)_g\n",
      "\n"
     ]
    },
    {
     "name": "stderr",
     "output_type": "stream",
     "text": [
      "Processing val inputs:  59%|█████████████████████████████████▊                       | 104/175 [08:19<05:52,  4.97s/it]"
     ]
    },
    {
     "name": "stdout",
     "output_type": "stream",
     "text": [
      "Success for img(1019)_n.png:\n",
      "Testing 0 img(1019)_n\n",
      "\n"
     ]
    },
    {
     "name": "stderr",
     "output_type": "stream",
     "text": [
      "Processing val inputs:  60%|██████████████████████████████████▏                      | 105/175 [08:25<06:05,  5.22s/it]"
     ]
    },
    {
     "name": "stdout",
     "output_type": "stream",
     "text": [
      "Success for img(1019)_r.png:\n",
      "Testing 0 img(1019)_r\n",
      "\n"
     ]
    },
    {
     "name": "stderr",
     "output_type": "stream",
     "text": [
      "Processing val inputs:  61%|██████████████████████████████████▊                      | 107/175 [08:31<04:48,  4.24s/it]"
     ]
    },
    {
     "name": "stdout",
     "output_type": "stream",
     "text": [
      "Success for img(1020)_b.png:\n",
      "Testing 0 img(1020)_b\n",
      "\n"
     ]
    },
    {
     "name": "stderr",
     "output_type": "stream",
     "text": [
      "Processing val inputs:  62%|███████████████████████████████████▏                     | 108/175 [08:37<05:10,  4.64s/it]"
     ]
    },
    {
     "name": "stdout",
     "output_type": "stream",
     "text": [
      "Success for img(1020)_g.png:\n",
      "Testing 0 img(1020)_g\n",
      "\n"
     ]
    },
    {
     "name": "stderr",
     "output_type": "stream",
     "text": [
      "Processing val inputs:  62%|███████████████████████████████████▌                     | 109/175 [08:43<05:27,  4.96s/it]"
     ]
    },
    {
     "name": "stdout",
     "output_type": "stream",
     "text": [
      "Success for img(1020)_n.png:\n",
      "Testing 0 img(1020)_n\n",
      "\n"
     ]
    },
    {
     "name": "stderr",
     "output_type": "stream",
     "text": [
      "Processing val inputs:  63%|███████████████████████████████████▊                     | 110/175 [08:49<05:38,  5.21s/it]"
     ]
    },
    {
     "name": "stdout",
     "output_type": "stream",
     "text": [
      "Success for img(1020)_r.png:\n",
      "Testing 0 img(1020)_r\n",
      "\n"
     ]
    },
    {
     "name": "stderr",
     "output_type": "stream",
     "text": [
      "Processing val inputs:  64%|████████████████████████████████████▍                    | 112/175 [08:55<04:27,  4.24s/it]"
     ]
    },
    {
     "name": "stdout",
     "output_type": "stream",
     "text": [
      "Success for img(11)_b.png:\n",
      "Testing 0 img(11)_b\n",
      "\n"
     ]
    },
    {
     "name": "stderr",
     "output_type": "stream",
     "text": [
      "Processing val inputs:  65%|████████████████████████████████████▊                    | 113/175 [09:01<04:47,  4.64s/it]"
     ]
    },
    {
     "name": "stdout",
     "output_type": "stream",
     "text": [
      "Success for img(11)_g.png:\n",
      "Testing 0 img(11)_g\n",
      "\n"
     ]
    },
    {
     "name": "stderr",
     "output_type": "stream",
     "text": [
      "Processing val inputs:  65%|█████████████████████████████████████▏                   | 114/175 [09:06<05:02,  4.96s/it]"
     ]
    },
    {
     "name": "stdout",
     "output_type": "stream",
     "text": [
      "Success for img(11)_n.png:\n",
      "Testing 0 img(11)_n\n",
      "\n"
     ]
    },
    {
     "name": "stderr",
     "output_type": "stream",
     "text": [
      "Processing val inputs:  66%|█████████████████████████████████████▍                   | 115/175 [09:12<05:12,  5.21s/it]"
     ]
    },
    {
     "name": "stdout",
     "output_type": "stream",
     "text": [
      "Success for img(11)_r.png:\n",
      "Testing 0 img(11)_r\n",
      "\n"
     ]
    },
    {
     "name": "stderr",
     "output_type": "stream",
     "text": [
      "Processing val inputs:  67%|██████████████████████████████████████                   | 117/175 [09:18<04:05,  4.24s/it]"
     ]
    },
    {
     "name": "stdout",
     "output_type": "stream",
     "text": [
      "Success for img(12)_b.png:\n",
      "Testing 0 img(12)_b\n",
      "\n"
     ]
    },
    {
     "name": "stderr",
     "output_type": "stream",
     "text": [
      "Processing val inputs:  67%|██████████████████████████████████████▍                  | 118/175 [09:24<04:24,  4.63s/it]"
     ]
    },
    {
     "name": "stdout",
     "output_type": "stream",
     "text": [
      "Success for img(12)_g.png:\n",
      "Testing 0 img(12)_g\n",
      "\n"
     ]
    },
    {
     "name": "stderr",
     "output_type": "stream",
     "text": [
      "Processing val inputs:  68%|██████████████████████████████████████▊                  | 119/175 [09:30<04:37,  4.96s/it]"
     ]
    },
    {
     "name": "stdout",
     "output_type": "stream",
     "text": [
      "Success for img(12)_n.png:\n",
      "Testing 0 img(12)_n\n",
      "\n"
     ]
    },
    {
     "name": "stderr",
     "output_type": "stream",
     "text": [
      "Processing val inputs:  69%|███████████████████████████████████████                  | 120/175 [09:36<04:46,  5.21s/it]"
     ]
    },
    {
     "name": "stdout",
     "output_type": "stream",
     "text": [
      "Success for img(12)_r.png:\n",
      "Testing 0 img(12)_r\n",
      "\n"
     ]
    },
    {
     "name": "stderr",
     "output_type": "stream",
     "text": [
      "Processing val inputs:  70%|███████████████████████████████████████▋                 | 122/175 [09:42<03:44,  4.24s/it]"
     ]
    },
    {
     "name": "stdout",
     "output_type": "stream",
     "text": [
      "Success for img(13)_b.png:\n",
      "Testing 0 img(13)_b\n",
      "\n"
     ]
    },
    {
     "name": "stderr",
     "output_type": "stream",
     "text": [
      "Processing val inputs:  70%|████████████████████████████████████████                 | 123/175 [09:48<04:00,  4.62s/it]"
     ]
    },
    {
     "name": "stdout",
     "output_type": "stream",
     "text": [
      "Success for img(13)_g.png:\n",
      "Testing 0 img(13)_g\n",
      "\n"
     ]
    },
    {
     "name": "stderr",
     "output_type": "stream",
     "text": [
      "Processing val inputs:  71%|████████████████████████████████████████▍                | 124/175 [09:54<04:12,  4.95s/it]"
     ]
    },
    {
     "name": "stdout",
     "output_type": "stream",
     "text": [
      "Success for img(13)_n.png:\n",
      "Testing 0 img(13)_n\n",
      "\n"
     ]
    },
    {
     "name": "stderr",
     "output_type": "stream",
     "text": [
      "Processing val inputs:  71%|████████████████████████████████████████▋                | 125/175 [10:00<04:20,  5.22s/it]"
     ]
    },
    {
     "name": "stdout",
     "output_type": "stream",
     "text": [
      "Success for img(13)_r.png:\n",
      "Testing 0 img(13)_r\n",
      "\n"
     ]
    },
    {
     "name": "stderr",
     "output_type": "stream",
     "text": [
      "Processing val inputs:  73%|█████████████████████████████████████████▎               | 127/175 [10:06<03:23,  4.24s/it]"
     ]
    },
    {
     "name": "stdout",
     "output_type": "stream",
     "text": [
      "Success for img(14)_b.png:\n",
      "Testing 0 img(14)_b\n",
      "\n"
     ]
    },
    {
     "name": "stderr",
     "output_type": "stream",
     "text": [
      "Processing val inputs:  73%|█████████████████████████████████████████▋               | 128/175 [10:11<03:37,  4.63s/it]"
     ]
    },
    {
     "name": "stdout",
     "output_type": "stream",
     "text": [
      "Success for img(14)_g.png:\n",
      "Testing 0 img(14)_g\n",
      "\n"
     ]
    },
    {
     "name": "stderr",
     "output_type": "stream",
     "text": [
      "Processing val inputs:  74%|██████████████████████████████████████████               | 129/175 [10:17<03:47,  4.95s/it]"
     ]
    },
    {
     "name": "stdout",
     "output_type": "stream",
     "text": [
      "Success for img(14)_n.png:\n",
      "Testing 0 img(14)_n\n",
      "\n"
     ]
    },
    {
     "name": "stderr",
     "output_type": "stream",
     "text": [
      "Processing val inputs:  74%|██████████████████████████████████████████▎              | 130/175 [10:23<03:54,  5.21s/it]"
     ]
    },
    {
     "name": "stdout",
     "output_type": "stream",
     "text": [
      "Success for img(14)_r.png:\n",
      "Testing 0 img(14)_r\n",
      "\n"
     ]
    },
    {
     "name": "stderr",
     "output_type": "stream",
     "text": [
      "Processing val inputs:  75%|██████████████████████████████████████████▉              | 132/175 [10:29<03:02,  4.24s/it]"
     ]
    },
    {
     "name": "stdout",
     "output_type": "stream",
     "text": [
      "Success for img(15)_b.png:\n",
      "Testing 0 img(15)_b\n",
      "\n"
     ]
    },
    {
     "name": "stderr",
     "output_type": "stream",
     "text": [
      "Processing val inputs:  76%|███████████████████████████████████████████▎             | 133/175 [10:35<03:14,  4.63s/it]"
     ]
    },
    {
     "name": "stdout",
     "output_type": "stream",
     "text": [
      "Success for img(15)_g.png:\n",
      "Testing 0 img(15)_g\n",
      "\n"
     ]
    },
    {
     "name": "stderr",
     "output_type": "stream",
     "text": [
      "Processing val inputs:  77%|███████████████████████████████████████████▋             | 134/175 [10:41<03:22,  4.95s/it]"
     ]
    },
    {
     "name": "stdout",
     "output_type": "stream",
     "text": [
      "Success for img(15)_n.png:\n",
      "Testing 0 img(15)_n\n",
      "\n"
     ]
    },
    {
     "name": "stderr",
     "output_type": "stream",
     "text": [
      "Processing val inputs:  77%|███████████████████████████████████████████▉             | 135/175 [10:47<03:28,  5.20s/it]"
     ]
    },
    {
     "name": "stdout",
     "output_type": "stream",
     "text": [
      "Success for img(15)_r.png:\n",
      "Testing 0 img(15)_r\n",
      "\n"
     ]
    },
    {
     "name": "stderr",
     "output_type": "stream",
     "text": [
      "Processing val inputs:  78%|████████████████████████████████████████████▌            | 137/175 [10:53<02:40,  4.24s/it]"
     ]
    },
    {
     "name": "stdout",
     "output_type": "stream",
     "text": [
      "Success for img(2)_b.png:\n",
      "Testing 0 img(2)_b\n",
      "\n"
     ]
    },
    {
     "name": "stderr",
     "output_type": "stream",
     "text": [
      "Processing val inputs:  79%|████████████████████████████████████████████▉            | 138/175 [10:59<02:51,  4.63s/it]"
     ]
    },
    {
     "name": "stdout",
     "output_type": "stream",
     "text": [
      "Success for img(2)_g.png:\n",
      "Testing 0 img(2)_g\n",
      "\n"
     ]
    },
    {
     "name": "stderr",
     "output_type": "stream",
     "text": [
      "Processing val inputs:  79%|█████████████████████████████████████████████▎           | 139/175 [11:05<02:58,  4.96s/it]"
     ]
    },
    {
     "name": "stdout",
     "output_type": "stream",
     "text": [
      "Success for img(2)_n.png:\n",
      "Testing 0 img(2)_n\n",
      "\n"
     ]
    },
    {
     "name": "stderr",
     "output_type": "stream",
     "text": [
      "Processing val inputs:  80%|█████████████████████████████████████████████▌           | 140/175 [11:11<03:02,  5.21s/it]"
     ]
    },
    {
     "name": "stdout",
     "output_type": "stream",
     "text": [
      "Success for img(2)_r.png:\n",
      "Testing 0 img(2)_r\n",
      "\n"
     ]
    },
    {
     "name": "stderr",
     "output_type": "stream",
     "text": [
      "Processing val inputs:  81%|██████████████████████████████████████████████▎          | 142/175 [11:17<02:20,  4.25s/it]"
     ]
    },
    {
     "name": "stdout",
     "output_type": "stream",
     "text": [
      "Success for img(3)_b.png:\n",
      "Testing 0 img(3)_b\n",
      "\n"
     ]
    },
    {
     "name": "stderr",
     "output_type": "stream",
     "text": [
      "Processing val inputs:  82%|██████████████████████████████████████████████▌          | 143/175 [11:22<02:28,  4.64s/it]"
     ]
    },
    {
     "name": "stdout",
     "output_type": "stream",
     "text": [
      "Success for img(3)_g.png:\n",
      "Testing 0 img(3)_g\n",
      "\n"
     ]
    },
    {
     "name": "stderr",
     "output_type": "stream",
     "text": [
      "Processing val inputs:  82%|██████████████████████████████████████████████▉          | 144/175 [11:28<02:33,  4.96s/it]"
     ]
    },
    {
     "name": "stdout",
     "output_type": "stream",
     "text": [
      "Success for img(3)_n.png:\n",
      "Testing 0 img(3)_n\n",
      "\n"
     ]
    },
    {
     "name": "stderr",
     "output_type": "stream",
     "text": [
      "Processing val inputs:  83%|███████████████████████████████████████████████▏         | 145/175 [11:34<02:36,  5.22s/it]"
     ]
    },
    {
     "name": "stdout",
     "output_type": "stream",
     "text": [
      "Success for img(3)_r.png:\n",
      "Testing 0 img(3)_r\n",
      "\n"
     ]
    },
    {
     "name": "stderr",
     "output_type": "stream",
     "text": [
      "Processing val inputs:  84%|███████████████████████████████████████████████▉         | 147/175 [11:40<01:58,  4.24s/it]"
     ]
    },
    {
     "name": "stdout",
     "output_type": "stream",
     "text": [
      "Success for img(4)_b.png:\n",
      "Testing 0 img(4)_b\n",
      "\n"
     ]
    },
    {
     "name": "stderr",
     "output_type": "stream",
     "text": [
      "Processing val inputs:  85%|████████████████████████████████████████████████▏        | 148/175 [11:46<02:05,  4.63s/it]"
     ]
    },
    {
     "name": "stdout",
     "output_type": "stream",
     "text": [
      "Success for img(4)_g.png:\n",
      "Testing 0 img(4)_g\n",
      "\n"
     ]
    },
    {
     "name": "stderr",
     "output_type": "stream",
     "text": [
      "Processing val inputs:  85%|████████████████████████████████████████████████▌        | 149/175 [11:52<02:08,  4.94s/it]"
     ]
    },
    {
     "name": "stdout",
     "output_type": "stream",
     "text": [
      "Success for img(4)_n.png:\n",
      "Testing 0 img(4)_n\n",
      "\n"
     ]
    },
    {
     "name": "stderr",
     "output_type": "stream",
     "text": [
      "Processing val inputs:  86%|████████████████████████████████████████████████▊        | 150/175 [11:58<02:09,  5.20s/it]"
     ]
    },
    {
     "name": "stdout",
     "output_type": "stream",
     "text": [
      "Success for img(4)_r.png:\n",
      "Testing 0 img(4)_r\n",
      "\n"
     ]
    },
    {
     "name": "stderr",
     "output_type": "stream",
     "text": [
      "Processing val inputs:  87%|█████████████████████████████████████████████████▌       | 152/175 [12:04<01:37,  4.23s/it]"
     ]
    },
    {
     "name": "stdout",
     "output_type": "stream",
     "text": [
      "Success for img(5)_b.png:\n",
      "Testing 0 img(5)_b\n",
      "\n"
     ]
    },
    {
     "name": "stderr",
     "output_type": "stream",
     "text": [
      "Processing val inputs:  87%|█████████████████████████████████████████████████▊       | 153/175 [12:10<01:41,  4.62s/it]"
     ]
    },
    {
     "name": "stdout",
     "output_type": "stream",
     "text": [
      "Success for img(5)_g.png:\n",
      "Testing 0 img(5)_g\n",
      "\n"
     ]
    },
    {
     "name": "stderr",
     "output_type": "stream",
     "text": [
      "Processing val inputs:  88%|██████████████████████████████████████████████████▏      | 154/175 [12:16<01:43,  4.94s/it]"
     ]
    },
    {
     "name": "stdout",
     "output_type": "stream",
     "text": [
      "Success for img(5)_n.png:\n",
      "Testing 0 img(5)_n\n",
      "\n"
     ]
    },
    {
     "name": "stderr",
     "output_type": "stream",
     "text": [
      "Processing val inputs:  89%|██████████████████████████████████████████████████▍      | 155/175 [12:21<01:43,  5.19s/it]"
     ]
    },
    {
     "name": "stdout",
     "output_type": "stream",
     "text": [
      "Success for img(5)_r.png:\n",
      "Testing 0 img(5)_r\n",
      "\n"
     ]
    },
    {
     "name": "stderr",
     "output_type": "stream",
     "text": [
      "Processing val inputs:  90%|███████████████████████████████████████████████████▏     | 157/175 [12:27<01:16,  4.24s/it]"
     ]
    },
    {
     "name": "stdout",
     "output_type": "stream",
     "text": [
      "Success for img(6)_b.png:\n",
      "Testing 0 img(6)_b\n",
      "\n"
     ]
    },
    {
     "name": "stderr",
     "output_type": "stream",
     "text": [
      "Processing val inputs:  90%|███████████████████████████████████████████████████▍     | 158/175 [12:33<01:18,  4.64s/it]"
     ]
    },
    {
     "name": "stdout",
     "output_type": "stream",
     "text": [
      "Success for img(6)_g.png:\n",
      "Testing 0 img(6)_g\n",
      "\n"
     ]
    },
    {
     "name": "stderr",
     "output_type": "stream",
     "text": [
      "Processing val inputs:  91%|███████████████████████████████████████████████████▊     | 159/175 [12:39<01:19,  4.95s/it]"
     ]
    },
    {
     "name": "stdout",
     "output_type": "stream",
     "text": [
      "Success for img(6)_n.png:\n",
      "Testing 0 img(6)_n\n",
      "\n"
     ]
    },
    {
     "name": "stderr",
     "output_type": "stream",
     "text": [
      "Processing val inputs:  91%|████████████████████████████████████████████████████     | 160/175 [12:45<01:17,  5.19s/it]"
     ]
    },
    {
     "name": "stdout",
     "output_type": "stream",
     "text": [
      "Success for img(6)_r.png:\n",
      "Testing 0 img(6)_r\n",
      "\n"
     ]
    },
    {
     "name": "stderr",
     "output_type": "stream",
     "text": [
      "Processing val inputs:  93%|████████████████████████████████████████████████████▊    | 162/175 [12:51<00:54,  4.23s/it]"
     ]
    },
    {
     "name": "stdout",
     "output_type": "stream",
     "text": [
      "Success for img(7)_b.png:\n",
      "Testing 0 img(7)_b\n",
      "\n"
     ]
    },
    {
     "name": "stderr",
     "output_type": "stream",
     "text": [
      "Processing val inputs:  93%|█████████████████████████████████████████████████████    | 163/175 [12:57<00:55,  4.63s/it]"
     ]
    },
    {
     "name": "stdout",
     "output_type": "stream",
     "text": [
      "Success for img(7)_g.png:\n",
      "Testing 0 img(7)_g\n",
      "\n"
     ]
    },
    {
     "name": "stderr",
     "output_type": "stream",
     "text": [
      "Processing val inputs:  94%|█████████████████████████████████████████████████████▍   | 164/175 [13:03<00:54,  4.95s/it]"
     ]
    },
    {
     "name": "stdout",
     "output_type": "stream",
     "text": [
      "Success for img(7)_n.png:\n",
      "Testing 0 img(7)_n\n",
      "\n"
     ]
    },
    {
     "name": "stderr",
     "output_type": "stream",
     "text": [
      "Processing val inputs:  94%|█████████████████████████████████████████████████████▋   | 165/175 [13:09<00:52,  5.20s/it]"
     ]
    },
    {
     "name": "stdout",
     "output_type": "stream",
     "text": [
      "Success for img(7)_r.png:\n",
      "Testing 0 img(7)_r\n",
      "\n"
     ]
    },
    {
     "name": "stderr",
     "output_type": "stream",
     "text": [
      "Processing val inputs:  95%|██████████████████████████████████████████████████████▍  | 167/175 [13:15<00:33,  4.23s/it]"
     ]
    },
    {
     "name": "stdout",
     "output_type": "stream",
     "text": [
      "Success for img(8)_b.png:\n",
      "Testing 0 img(8)_b\n",
      "\n"
     ]
    },
    {
     "name": "stderr",
     "output_type": "stream",
     "text": [
      "Processing val inputs:  96%|██████████████████████████████████████████████████████▋  | 168/175 [13:20<00:32,  4.62s/it]"
     ]
    },
    {
     "name": "stdout",
     "output_type": "stream",
     "text": [
      "Success for img(8)_g.png:\n",
      "Testing 0 img(8)_g\n",
      "\n"
     ]
    },
    {
     "name": "stderr",
     "output_type": "stream",
     "text": [
      "Processing val inputs:  97%|███████████████████████████████████████████████████████  | 169/175 [13:26<00:29,  4.94s/it]"
     ]
    },
    {
     "name": "stdout",
     "output_type": "stream",
     "text": [
      "Success for img(8)_n.png:\n",
      "Testing 0 img(8)_n\n",
      "\n"
     ]
    },
    {
     "name": "stderr",
     "output_type": "stream",
     "text": [
      "Processing val inputs:  97%|███████████████████████████████████████████████████████▎ | 170/175 [13:32<00:25,  5.20s/it]"
     ]
    },
    {
     "name": "stdout",
     "output_type": "stream",
     "text": [
      "Success for img(8)_r.png:\n",
      "Testing 0 img(8)_r\n",
      "\n"
     ]
    },
    {
     "name": "stderr",
     "output_type": "stream",
     "text": [
      "Processing val inputs:  98%|████████████████████████████████████████████████████████ | 172/175 [13:38<00:12,  4.24s/it]"
     ]
    },
    {
     "name": "stdout",
     "output_type": "stream",
     "text": [
      "Success for img(9)_b.png:\n",
      "Testing 0 img(9)_b\n",
      "\n"
     ]
    },
    {
     "name": "stderr",
     "output_type": "stream",
     "text": [
      "Processing val inputs:  99%|████████████████████████████████████████████████████████▎| 173/175 [13:44<00:09,  4.63s/it]"
     ]
    },
    {
     "name": "stdout",
     "output_type": "stream",
     "text": [
      "Success for img(9)_g.png:\n",
      "Testing 0 img(9)_g\n",
      "\n"
     ]
    },
    {
     "name": "stderr",
     "output_type": "stream",
     "text": [
      "Processing val inputs:  99%|████████████████████████████████████████████████████████▋| 174/175 [13:50<00:04,  4.96s/it]"
     ]
    },
    {
     "name": "stdout",
     "output_type": "stream",
     "text": [
      "Success for img(9)_n.png:\n",
      "Testing 0 img(9)_n\n",
      "\n"
     ]
    },
    {
     "name": "stderr",
     "output_type": "stream",
     "text": [
      "Processing val inputs: 100%|█████████████████████████████████████████████████████████| 175/175 [13:56<00:00,  4.78s/it]\n"
     ]
    },
    {
     "name": "stdout",
     "output_type": "stream",
     "text": [
      "Success for img(9)_r.png:\n",
      "Testing 0 img(9)_r\n",
      "\n"
     ]
    },
    {
     "name": "stderr",
     "output_type": "stream",
     "text": [
      "Processing test inputs:   1%|▋                                                         | 2/180 [00:05<08:45,  2.95s/it]"
     ]
    },
    {
     "name": "stdout",
     "output_type": "stream",
     "text": [
      "Success for img(1)_b.png:\n",
      "Testing 0 img(1)_b\n",
      "\n"
     ]
    },
    {
     "name": "stderr",
     "output_type": "stream",
     "text": [
      "Processing test inputs:   2%|▉                                                         | 3/180 [00:11<12:18,  4.17s/it]"
     ]
    },
    {
     "name": "stdout",
     "output_type": "stream",
     "text": [
      "Success for img(1)_g.png:\n",
      "Testing 0 img(1)_g\n",
      "\n"
     ]
    },
    {
     "name": "stderr",
     "output_type": "stream",
     "text": [
      "Processing test inputs:   2%|█▎                                                        | 4/180 [00:17<14:06,  4.81s/it]"
     ]
    },
    {
     "name": "stdout",
     "output_type": "stream",
     "text": [
      "Success for img(1)_n.png:\n",
      "Testing 0 img(1)_n\n",
      "\n"
     ]
    },
    {
     "name": "stderr",
     "output_type": "stream",
     "text": [
      "Processing test inputs:   3%|█▌                                                        | 5/180 [00:23<15:07,  5.19s/it]"
     ]
    },
    {
     "name": "stdout",
     "output_type": "stream",
     "text": [
      "Success for img(1)_r.png:\n",
      "Testing 0 img(1)_r\n",
      "\n"
     ]
    },
    {
     "name": "stderr",
     "output_type": "stream",
     "text": [
      "Processing test inputs:   4%|██▎                                                       | 7/180 [00:29<11:45,  4.08s/it]"
     ]
    },
    {
     "name": "stdout",
     "output_type": "stream",
     "text": [
      "Success for img(10)_b.png:\n",
      "Testing 0 img(10)_b\n",
      "\n"
     ]
    },
    {
     "name": "stderr",
     "output_type": "stream",
     "text": [
      "Processing test inputs:   4%|██▌                                                       | 8/180 [00:35<13:05,  4.57s/it]"
     ]
    },
    {
     "name": "stdout",
     "output_type": "stream",
     "text": [
      "Success for img(10)_g.png:\n",
      "Testing 0 img(10)_g\n",
      "\n"
     ]
    },
    {
     "name": "stderr",
     "output_type": "stream",
     "text": [
      "Processing test inputs:   5%|██▉                                                       | 9/180 [00:41<14:03,  4.93s/it]"
     ]
    },
    {
     "name": "stdout",
     "output_type": "stream",
     "text": [
      "Success for img(10)_n.png:\n",
      "Testing 0 img(10)_n\n",
      "\n"
     ]
    },
    {
     "name": "stderr",
     "output_type": "stream",
     "text": [
      "Processing test inputs:   6%|███▏                                                     | 10/180 [00:47<14:43,  5.20s/it]"
     ]
    },
    {
     "name": "stdout",
     "output_type": "stream",
     "text": [
      "Success for img(10)_r.png:\n",
      "Testing 0 img(10)_r\n",
      "\n"
     ]
    },
    {
     "name": "stderr",
     "output_type": "stream",
     "text": [
      "Processing test inputs:   7%|███▊                                                     | 12/180 [00:53<11:44,  4.19s/it]"
     ]
    },
    {
     "name": "stdout",
     "output_type": "stream",
     "text": [
      "Success for img(1016)_b.png:\n",
      "Testing 0 img(1016)_b\n",
      "\n"
     ]
    },
    {
     "name": "stderr",
     "output_type": "stream",
     "text": [
      "Processing test inputs:   7%|████                                                     | 13/180 [00:58<12:46,  4.59s/it]"
     ]
    },
    {
     "name": "stdout",
     "output_type": "stream",
     "text": [
      "Success for img(1016)_g.png:\n",
      "Testing 0 img(1016)_g\n",
      "\n"
     ]
    },
    {
     "name": "stderr",
     "output_type": "stream",
     "text": [
      "Processing test inputs:   8%|████▍                                                    | 14/180 [01:04<13:37,  4.93s/it]"
     ]
    },
    {
     "name": "stdout",
     "output_type": "stream",
     "text": [
      "Success for img(1016)_n.png:\n",
      "Testing 0 img(1016)_n\n",
      "\n"
     ]
    },
    {
     "name": "stderr",
     "output_type": "stream",
     "text": [
      "Processing test inputs:   8%|████▊                                                    | 15/180 [01:10<14:18,  5.20s/it]"
     ]
    },
    {
     "name": "stdout",
     "output_type": "stream",
     "text": [
      "Success for img(1016)_r.png:\n",
      "Testing 0 img(1016)_r\n",
      "\n"
     ]
    },
    {
     "name": "stderr",
     "output_type": "stream",
     "text": [
      "Processing test inputs:   9%|█████▍                                                   | 17/180 [01:17<11:44,  4.32s/it]"
     ]
    },
    {
     "name": "stdout",
     "output_type": "stream",
     "text": [
      "Success for img(1017)_b.png:\n",
      "Testing 0 img(1017)_b\n",
      "\n"
     ]
    },
    {
     "name": "stderr",
     "output_type": "stream",
     "text": [
      "Processing test inputs:  10%|█████▋                                                   | 18/180 [01:23<12:42,  4.71s/it]"
     ]
    },
    {
     "name": "stdout",
     "output_type": "stream",
     "text": [
      "Success for img(1017)_g.png:\n",
      "Testing 0 img(1017)_g\n",
      "\n"
     ]
    },
    {
     "name": "stderr",
     "output_type": "stream",
     "text": [
      "Processing test inputs:  11%|██████                                                   | 19/180 [01:28<13:25,  5.00s/it]"
     ]
    },
    {
     "name": "stdout",
     "output_type": "stream",
     "text": [
      "Success for img(1017)_n.png:\n",
      "Testing 0 img(1017)_n\n",
      "\n"
     ]
    },
    {
     "name": "stderr",
     "output_type": "stream",
     "text": [
      "Processing test inputs:  11%|██████▎                                                  | 20/180 [01:34<13:58,  5.24s/it]"
     ]
    },
    {
     "name": "stdout",
     "output_type": "stream",
     "text": [
      "Success for img(1017)_r.png:\n",
      "Testing 0 img(1017)_r\n",
      "\n"
     ]
    },
    {
     "name": "stderr",
     "output_type": "stream",
     "text": [
      "Processing test inputs:  12%|██████▉                                                  | 22/180 [01:40<11:12,  4.25s/it]"
     ]
    },
    {
     "name": "stdout",
     "output_type": "stream",
     "text": [
      "Success for img(1018)_b.png:\n",
      "Testing 0 img(1018)_b\n",
      "\n"
     ]
    },
    {
     "name": "stderr",
     "output_type": "stream",
     "text": [
      "Processing test inputs:  13%|███████▎                                                 | 23/180 [01:46<12:10,  4.65s/it]"
     ]
    },
    {
     "name": "stdout",
     "output_type": "stream",
     "text": [
      "Success for img(1018)_g.png:\n",
      "Testing 0 img(1018)_g\n",
      "\n"
     ]
    },
    {
     "name": "stderr",
     "output_type": "stream",
     "text": [
      "Processing test inputs:  13%|███████▌                                                 | 24/180 [01:52<12:53,  4.96s/it]"
     ]
    },
    {
     "name": "stdout",
     "output_type": "stream",
     "text": [
      "Success for img(1018)_n.png:\n",
      "Testing 0 img(1018)_n\n",
      "\n"
     ]
    },
    {
     "name": "stderr",
     "output_type": "stream",
     "text": [
      "Processing test inputs:  14%|███████▉                                                 | 25/180 [01:58<13:28,  5.22s/it]"
     ]
    },
    {
     "name": "stdout",
     "output_type": "stream",
     "text": [
      "Success for img(1018)_r.png:\n",
      "Testing 0 img(1018)_r\n",
      "\n"
     ]
    },
    {
     "name": "stderr",
     "output_type": "stream",
     "text": [
      "Processing test inputs:  15%|████████▌                                                | 27/180 [02:04<10:49,  4.24s/it]"
     ]
    },
    {
     "name": "stdout",
     "output_type": "stream",
     "text": [
      "Success for img(1019)_b.png:\n",
      "Testing 0 img(1019)_b\n",
      "\n"
     ]
    },
    {
     "name": "stderr",
     "output_type": "stream",
     "text": [
      "Processing test inputs:  16%|████████▊                                                | 28/180 [02:10<11:44,  4.64s/it]"
     ]
    },
    {
     "name": "stdout",
     "output_type": "stream",
     "text": [
      "Success for img(1019)_g.png:\n",
      "Testing 0 img(1019)_g\n",
      "\n"
     ]
    },
    {
     "name": "stderr",
     "output_type": "stream",
     "text": [
      "Processing test inputs:  16%|█████████▏                                               | 29/180 [02:16<12:28,  4.96s/it]"
     ]
    },
    {
     "name": "stdout",
     "output_type": "stream",
     "text": [
      "Success for img(1019)_n.png:\n",
      "Testing 0 img(1019)_n\n",
      "\n"
     ]
    },
    {
     "name": "stderr",
     "output_type": "stream",
     "text": [
      "Processing test inputs:  17%|█████████▌                                               | 30/180 [02:22<13:01,  5.21s/it]"
     ]
    },
    {
     "name": "stdout",
     "output_type": "stream",
     "text": [
      "Success for img(1019)_r.png:\n",
      "Testing 0 img(1019)_r\n",
      "\n"
     ]
    },
    {
     "name": "stderr",
     "output_type": "stream",
     "text": [
      "Processing test inputs:  18%|██████████▏                                              | 32/180 [02:28<10:26,  4.23s/it]"
     ]
    },
    {
     "name": "stdout",
     "output_type": "stream",
     "text": [
      "Success for img(1020)_b.png:\n",
      "Testing 0 img(1020)_b\n",
      "\n"
     ]
    },
    {
     "name": "stderr",
     "output_type": "stream",
     "text": [
      "Processing test inputs:  18%|██████████▍                                              | 33/180 [02:33<11:21,  4.63s/it]"
     ]
    },
    {
     "name": "stdout",
     "output_type": "stream",
     "text": [
      "Success for img(1020)_g.png:\n",
      "Testing 0 img(1020)_g\n",
      "\n"
     ]
    },
    {
     "name": "stderr",
     "output_type": "stream",
     "text": [
      "Processing test inputs:  19%|██████████▊                                              | 34/180 [02:39<12:06,  4.98s/it]"
     ]
    },
    {
     "name": "stdout",
     "output_type": "stream",
     "text": [
      "Success for img(1020)_n.png:\n",
      "Testing 0 img(1020)_n\n",
      "\n"
     ]
    },
    {
     "name": "stderr",
     "output_type": "stream",
     "text": [
      "Processing test inputs:  19%|███████████                                              | 35/180 [02:45<12:38,  5.23s/it]"
     ]
    },
    {
     "name": "stdout",
     "output_type": "stream",
     "text": [
      "Success for img(1020)_r.png:\n",
      "Testing 0 img(1020)_r\n",
      "\n"
     ]
    },
    {
     "name": "stderr",
     "output_type": "stream",
     "text": [
      "Processing test inputs:  21%|███████████▋                                             | 37/180 [02:51<10:09,  4.26s/it]"
     ]
    },
    {
     "name": "stdout",
     "output_type": "stream",
     "text": [
      "Success for img(1021)_b.png:\n",
      "Testing 0 img(1021)_b\n",
      "\n"
     ]
    },
    {
     "name": "stderr",
     "output_type": "stream",
     "text": [
      "Processing test inputs:  21%|████████████                                             | 38/180 [02:57<11:00,  4.65s/it]"
     ]
    },
    {
     "name": "stdout",
     "output_type": "stream",
     "text": [
      "Success for img(1021)_g.png:\n",
      "Testing 0 img(1021)_g\n",
      "\n"
     ]
    },
    {
     "name": "stderr",
     "output_type": "stream",
     "text": [
      "Processing test inputs:  22%|████████████▎                                            | 39/180 [03:03<11:39,  4.96s/it]"
     ]
    },
    {
     "name": "stdout",
     "output_type": "stream",
     "text": [
      "Success for img(1021)_n.png:\n",
      "Testing 0 img(1021)_n\n",
      "\n"
     ]
    },
    {
     "name": "stderr",
     "output_type": "stream",
     "text": [
      "Processing test inputs:  22%|████████████▋                                            | 40/180 [03:09<12:08,  5.21s/it]"
     ]
    },
    {
     "name": "stdout",
     "output_type": "stream",
     "text": [
      "Success for img(1021)_r.png:\n",
      "Testing 0 img(1021)_r\n",
      "\n"
     ]
    },
    {
     "name": "stderr",
     "output_type": "stream",
     "text": [
      "Processing test inputs:  23%|█████████████▎                                           | 42/180 [03:15<09:45,  4.24s/it]"
     ]
    },
    {
     "name": "stdout",
     "output_type": "stream",
     "text": [
      "Success for img(1022)_b.png:\n",
      "Testing 0 img(1022)_b\n",
      "\n"
     ]
    },
    {
     "name": "stderr",
     "output_type": "stream",
     "text": [
      "Processing test inputs:  24%|█████████████▌                                           | 43/180 [03:21<10:32,  4.62s/it]"
     ]
    },
    {
     "name": "stdout",
     "output_type": "stream",
     "text": [
      "Success for img(1022)_g.png:\n",
      "Testing 0 img(1022)_g\n",
      "\n"
     ]
    },
    {
     "name": "stderr",
     "output_type": "stream",
     "text": [
      "Processing test inputs:  24%|█████████████▉                                           | 44/180 [03:27<11:14,  4.96s/it]"
     ]
    },
    {
     "name": "stdout",
     "output_type": "stream",
     "text": [
      "Success for img(1022)_n.png:\n",
      "Testing 0 img(1022)_n\n",
      "\n"
     ]
    },
    {
     "name": "stderr",
     "output_type": "stream",
     "text": [
      "Processing test inputs:  25%|██████████████▎                                          | 45/180 [03:33<11:43,  5.21s/it]"
     ]
    },
    {
     "name": "stdout",
     "output_type": "stream",
     "text": [
      "Success for img(1022)_r.png:\n",
      "Testing 0 img(1022)_r\n",
      "\n"
     ]
    },
    {
     "name": "stderr",
     "output_type": "stream",
     "text": [
      "Processing test inputs:  26%|██████████████▉                                          | 47/180 [03:39<09:26,  4.26s/it]"
     ]
    },
    {
     "name": "stdout",
     "output_type": "stream",
     "text": [
      "Success for img(1023)_b.png:\n",
      "Testing 0 img(1023)_b\n",
      "\n"
     ]
    },
    {
     "name": "stderr",
     "output_type": "stream",
     "text": [
      "Processing test inputs:  27%|███████████████▏                                         | 48/180 [03:45<10:13,  4.65s/it]"
     ]
    },
    {
     "name": "stdout",
     "output_type": "stream",
     "text": [
      "Success for img(1023)_g.png:\n",
      "Testing 0 img(1023)_g\n",
      "\n"
     ]
    },
    {
     "name": "stderr",
     "output_type": "stream",
     "text": [
      "Processing test inputs:  27%|███████████████▌                                         | 49/180 [03:51<10:50,  4.97s/it]"
     ]
    },
    {
     "name": "stdout",
     "output_type": "stream",
     "text": [
      "Success for img(1023)_n.png:\n",
      "Testing 0 img(1023)_n\n",
      "\n"
     ]
    },
    {
     "name": "stderr",
     "output_type": "stream",
     "text": [
      "Processing test inputs:  28%|███████████████▊                                         | 50/180 [03:56<11:17,  5.21s/it]"
     ]
    },
    {
     "name": "stdout",
     "output_type": "stream",
     "text": [
      "Success for img(1023)_r.png:\n",
      "Testing 0 img(1023)_r\n",
      "\n"
     ]
    },
    {
     "name": "stderr",
     "output_type": "stream",
     "text": [
      "Processing test inputs:  29%|████████████████▍                                        | 52/180 [04:02<09:02,  4.24s/it]"
     ]
    },
    {
     "name": "stdout",
     "output_type": "stream",
     "text": [
      "Success for img(1024)_b.png:\n",
      "Testing 0 img(1024)_b\n",
      "\n"
     ]
    },
    {
     "name": "stderr",
     "output_type": "stream",
     "text": [
      "Processing test inputs:  29%|████████████████▊                                        | 53/180 [04:08<09:53,  4.67s/it]"
     ]
    },
    {
     "name": "stdout",
     "output_type": "stream",
     "text": [
      "Success for img(1024)_g.png:\n",
      "Testing 0 img(1024)_g\n",
      "\n"
     ]
    },
    {
     "name": "stderr",
     "output_type": "stream",
     "text": [
      "Processing test inputs:  30%|█████████████████                                        | 54/180 [04:14<10:29,  4.99s/it]"
     ]
    },
    {
     "name": "stdout",
     "output_type": "stream",
     "text": [
      "Success for img(1024)_n.png:\n",
      "Testing 0 img(1024)_n\n",
      "\n"
     ]
    },
    {
     "name": "stderr",
     "output_type": "stream",
     "text": [
      "Processing test inputs:  31%|█████████████████▍                                       | 55/180 [04:20<10:53,  5.23s/it]"
     ]
    },
    {
     "name": "stdout",
     "output_type": "stream",
     "text": [
      "Success for img(1024)_r.png:\n",
      "Testing 0 img(1024)_r\n",
      "\n"
     ]
    },
    {
     "name": "stderr",
     "output_type": "stream",
     "text": [
      "Processing test inputs:  32%|██████████████████                                       | 57/180 [04:26<08:44,  4.27s/it]"
     ]
    },
    {
     "name": "stdout",
     "output_type": "stream",
     "text": [
      "Success for img(1025)_b.png:\n",
      "Testing 0 img(1025)_b\n",
      "\n"
     ]
    },
    {
     "name": "stderr",
     "output_type": "stream",
     "text": [
      "Processing test inputs:  32%|██████████████████▎                                      | 58/180 [04:32<09:30,  4.67s/it]"
     ]
    },
    {
     "name": "stdout",
     "output_type": "stream",
     "text": [
      "Success for img(1025)_g.png:\n",
      "Testing 0 img(1025)_g\n",
      "\n"
     ]
    },
    {
     "name": "stderr",
     "output_type": "stream",
     "text": [
      "Processing test inputs:  33%|██████████████████▋                                      | 59/180 [04:38<10:03,  4.99s/it]"
     ]
    },
    {
     "name": "stdout",
     "output_type": "stream",
     "text": [
      "Success for img(1025)_n.png:\n",
      "Testing 0 img(1025)_n\n",
      "\n"
     ]
    },
    {
     "name": "stderr",
     "output_type": "stream",
     "text": [
      "Processing test inputs:  33%|███████████████████                                      | 60/180 [04:44<10:29,  5.24s/it]"
     ]
    },
    {
     "name": "stdout",
     "output_type": "stream",
     "text": [
      "Success for img(1025)_r.png:\n",
      "Testing 0 img(1025)_r\n",
      "\n"
     ]
    },
    {
     "name": "stderr",
     "output_type": "stream",
     "text": [
      "Processing test inputs:  34%|███████████████████▋                                     | 62/180 [04:50<08:23,  4.27s/it]"
     ]
    },
    {
     "name": "stdout",
     "output_type": "stream",
     "text": [
      "Success for img(1026)_b.png:\n",
      "Testing 0 img(1026)_b\n",
      "\n"
     ]
    },
    {
     "name": "stderr",
     "output_type": "stream",
     "text": [
      "Processing test inputs:  35%|███████████████████▉                                     | 63/180 [04:56<09:04,  4.66s/it]"
     ]
    },
    {
     "name": "stdout",
     "output_type": "stream",
     "text": [
      "Success for img(1026)_g.png:\n",
      "Testing 0 img(1026)_g\n",
      "\n"
     ]
    },
    {
     "name": "stderr",
     "output_type": "stream",
     "text": [
      "Processing test inputs:  36%|████████████████████▎                                    | 64/180 [05:02<09:37,  4.98s/it]"
     ]
    },
    {
     "name": "stdout",
     "output_type": "stream",
     "text": [
      "Success for img(1026)_n.png:\n",
      "Testing 0 img(1026)_n\n",
      "\n"
     ]
    },
    {
     "name": "stderr",
     "output_type": "stream",
     "text": [
      "Processing test inputs:  36%|████████████████████▌                                    | 65/180 [05:08<10:00,  5.22s/it]"
     ]
    },
    {
     "name": "stdout",
     "output_type": "stream",
     "text": [
      "Success for img(1026)_r.png:\n",
      "Testing 0 img(1026)_r\n",
      "\n"
     ]
    },
    {
     "name": "stderr",
     "output_type": "stream",
     "text": [
      "Processing test inputs:  37%|█████████████████████▏                                   | 67/180 [05:14<08:00,  4.25s/it]"
     ]
    },
    {
     "name": "stdout",
     "output_type": "stream",
     "text": [
      "Success for img(1027)_b.png:\n",
      "Testing 0 img(1027)_b\n",
      "\n"
     ]
    },
    {
     "name": "stderr",
     "output_type": "stream",
     "text": [
      "Processing test inputs:  38%|█████████████████████▌                                   | 68/180 [05:20<08:40,  4.65s/it]"
     ]
    },
    {
     "name": "stdout",
     "output_type": "stream",
     "text": [
      "Success for img(1027)_g.png:\n",
      "Testing 0 img(1027)_g\n",
      "\n"
     ]
    },
    {
     "name": "stderr",
     "output_type": "stream",
     "text": [
      "Processing test inputs:  38%|█████████████████████▊                                   | 69/180 [05:26<09:10,  4.96s/it]"
     ]
    },
    {
     "name": "stdout",
     "output_type": "stream",
     "text": [
      "Success for img(1027)_n.png:\n",
      "Testing 0 img(1027)_n\n",
      "\n"
     ]
    },
    {
     "name": "stderr",
     "output_type": "stream",
     "text": [
      "Processing test inputs:  39%|██████████████████████▏                                  | 70/180 [05:31<09:33,  5.21s/it]"
     ]
    },
    {
     "name": "stdout",
     "output_type": "stream",
     "text": [
      "Success for img(1027)_r.png:\n",
      "Testing 0 img(1027)_r\n",
      "\n"
     ]
    },
    {
     "name": "stderr",
     "output_type": "stream",
     "text": [
      "Processing test inputs:  40%|██████████████████████▊                                  | 72/180 [05:37<07:38,  4.24s/it]"
     ]
    },
    {
     "name": "stdout",
     "output_type": "stream",
     "text": [
      "Success for img(1028)_b.png:\n",
      "Testing 0 img(1028)_b\n",
      "\n"
     ]
    },
    {
     "name": "stderr",
     "output_type": "stream",
     "text": [
      "Processing test inputs:  41%|███████████████████████                                  | 73/180 [05:43<08:17,  4.65s/it]"
     ]
    },
    {
     "name": "stdout",
     "output_type": "stream",
     "text": [
      "Success for img(1028)_g.png:\n",
      "Testing 0 img(1028)_g\n",
      "\n"
     ]
    },
    {
     "name": "stderr",
     "output_type": "stream",
     "text": [
      "Processing test inputs:  41%|███████████████████████▍                                 | 74/180 [05:49<08:45,  4.96s/it]"
     ]
    },
    {
     "name": "stdout",
     "output_type": "stream",
     "text": [
      "Success for img(1028)_n.png:\n",
      "Testing 0 img(1028)_n\n",
      "\n"
     ]
    },
    {
     "name": "stderr",
     "output_type": "stream",
     "text": [
      "Processing test inputs:  42%|███████████████████████▊                                 | 75/180 [05:55<09:06,  5.21s/it]"
     ]
    },
    {
     "name": "stdout",
     "output_type": "stream",
     "text": [
      "Success for img(1028)_r.png:\n",
      "Testing 0 img(1028)_r\n",
      "\n"
     ]
    },
    {
     "name": "stderr",
     "output_type": "stream",
     "text": [
      "Processing test inputs:  43%|████████████████████████▍                                | 77/180 [06:01<07:18,  4.26s/it]"
     ]
    },
    {
     "name": "stdout",
     "output_type": "stream",
     "text": [
      "Success for img(1029)_b.png:\n",
      "Testing 0 img(1029)_b\n",
      "\n"
     ]
    },
    {
     "name": "stderr",
     "output_type": "stream",
     "text": [
      "Processing test inputs:  43%|████████████████████████▋                                | 78/180 [06:07<07:53,  4.65s/it]"
     ]
    },
    {
     "name": "stdout",
     "output_type": "stream",
     "text": [
      "Success for img(1029)_g.png:\n",
      "Testing 0 img(1029)_g\n",
      "\n"
     ]
    },
    {
     "name": "stderr",
     "output_type": "stream",
     "text": [
      "Processing test inputs:  44%|█████████████████████████                                | 79/180 [06:13<08:21,  4.96s/it]"
     ]
    },
    {
     "name": "stdout",
     "output_type": "stream",
     "text": [
      "Success for img(1029)_n.png:\n",
      "Testing 0 img(1029)_n\n",
      "\n"
     ]
    },
    {
     "name": "stderr",
     "output_type": "stream",
     "text": [
      "Processing test inputs:  44%|█████████████████████████▎                               | 80/180 [06:19<08:41,  5.21s/it]"
     ]
    },
    {
     "name": "stdout",
     "output_type": "stream",
     "text": [
      "Success for img(1029)_r.png:\n",
      "Testing 0 img(1029)_r\n",
      "\n"
     ]
    },
    {
     "name": "stderr",
     "output_type": "stream",
     "text": [
      "Processing test inputs:  46%|█████████████████████████▉                               | 82/180 [06:25<06:55,  4.24s/it]"
     ]
    },
    {
     "name": "stdout",
     "output_type": "stream",
     "text": [
      "Success for img(1030)_b.png:\n",
      "Testing 0 img(1030)_b\n",
      "\n"
     ]
    },
    {
     "name": "stderr",
     "output_type": "stream",
     "text": [
      "Processing test inputs:  46%|██████████████████████████▎                              | 83/180 [06:31<07:28,  4.63s/it]"
     ]
    },
    {
     "name": "stdout",
     "output_type": "stream",
     "text": [
      "Success for img(1030)_g.png:\n",
      "Testing 0 img(1030)_g\n",
      "\n"
     ]
    },
    {
     "name": "stderr",
     "output_type": "stream",
     "text": [
      "Processing test inputs:  47%|██████████████████████████▌                              | 84/180 [06:37<07:55,  4.95s/it]"
     ]
    },
    {
     "name": "stdout",
     "output_type": "stream",
     "text": [
      "Success for img(1030)_n.png:\n",
      "Testing 0 img(1030)_n\n",
      "\n"
     ]
    },
    {
     "name": "stderr",
     "output_type": "stream",
     "text": [
      "Processing test inputs:  47%|██████████████████████████▉                              | 85/180 [06:43<08:17,  5.23s/it]"
     ]
    },
    {
     "name": "stdout",
     "output_type": "stream",
     "text": [
      "Success for img(1030)_r.png:\n",
      "Testing 0 img(1030)_r\n",
      "\n"
     ]
    },
    {
     "name": "stderr",
     "output_type": "stream",
     "text": [
      "Processing test inputs:  48%|███████████████████████████▌                             | 87/180 [06:49<06:37,  4.27s/it]"
     ]
    },
    {
     "name": "stdout",
     "output_type": "stream",
     "text": [
      "Success for img(1031)_b.png:\n",
      "Testing 0 img(1031)_b\n",
      "\n"
     ]
    },
    {
     "name": "stderr",
     "output_type": "stream",
     "text": [
      "Processing test inputs:  49%|███████████████████████████▊                             | 88/180 [06:54<07:07,  4.65s/it]"
     ]
    },
    {
     "name": "stdout",
     "output_type": "stream",
     "text": [
      "Success for img(1031)_g.png:\n",
      "Testing 0 img(1031)_g\n",
      "\n"
     ]
    },
    {
     "name": "stderr",
     "output_type": "stream",
     "text": [
      "Processing test inputs:  49%|████████████████████████████▏                            | 89/180 [07:00<07:30,  4.96s/it]"
     ]
    },
    {
     "name": "stdout",
     "output_type": "stream",
     "text": [
      "Success for img(1031)_n.png:\n",
      "Testing 0 img(1031)_n\n",
      "\n"
     ]
    },
    {
     "name": "stderr",
     "output_type": "stream",
     "text": [
      "Processing test inputs:  50%|████████████████████████████▌                            | 90/180 [07:06<07:50,  5.23s/it]"
     ]
    },
    {
     "name": "stdout",
     "output_type": "stream",
     "text": [
      "Success for img(1031)_r.png:\n",
      "Testing 0 img(1031)_r\n",
      "\n"
     ]
    },
    {
     "name": "stderr",
     "output_type": "stream",
     "text": [
      "Processing test inputs:  51%|█████████████████████████████▏                           | 92/180 [07:12<06:14,  4.25s/it]"
     ]
    },
    {
     "name": "stdout",
     "output_type": "stream",
     "text": [
      "Success for img(1032)_b.png:\n",
      "Testing 0 img(1032)_b\n",
      "\n"
     ]
    },
    {
     "name": "stderr",
     "output_type": "stream",
     "text": [
      "Processing test inputs:  52%|█████████████████████████████▍                           | 93/180 [07:18<06:43,  4.64s/it]"
     ]
    },
    {
     "name": "stdout",
     "output_type": "stream",
     "text": [
      "Success for img(1032)_g.png:\n",
      "Testing 0 img(1032)_g\n",
      "\n"
     ]
    },
    {
     "name": "stderr",
     "output_type": "stream",
     "text": [
      "Processing test inputs:  52%|█████████████████████████████▊                           | 94/180 [07:24<07:08,  4.98s/it]"
     ]
    },
    {
     "name": "stdout",
     "output_type": "stream",
     "text": [
      "Success for img(1032)_n.png:\n",
      "Testing 0 img(1032)_n\n",
      "\n"
     ]
    },
    {
     "name": "stderr",
     "output_type": "stream",
     "text": [
      "Processing test inputs:  53%|██████████████████████████████                           | 95/180 [07:30<07:24,  5.23s/it]"
     ]
    },
    {
     "name": "stdout",
     "output_type": "stream",
     "text": [
      "Success for img(1032)_r.png:\n",
      "Testing 0 img(1032)_r\n",
      "\n"
     ]
    },
    {
     "name": "stderr",
     "output_type": "stream",
     "text": [
      "Processing test inputs:  54%|██████████████████████████████▋                          | 97/180 [07:36<05:53,  4.26s/it]"
     ]
    },
    {
     "name": "stdout",
     "output_type": "stream",
     "text": [
      "Success for img(11)_b.png:\n",
      "Testing 0 img(11)_b\n",
      "\n"
     ]
    },
    {
     "name": "stderr",
     "output_type": "stream",
     "text": [
      "Processing test inputs:  54%|███████████████████████████████                          | 98/180 [07:42<06:21,  4.65s/it]"
     ]
    },
    {
     "name": "stdout",
     "output_type": "stream",
     "text": [
      "Success for img(11)_g.png:\n",
      "Testing 0 img(11)_g\n",
      "\n"
     ]
    },
    {
     "name": "stderr",
     "output_type": "stream",
     "text": [
      "Processing test inputs:  55%|███████████████████████████████▎                         | 99/180 [07:48<06:41,  4.96s/it]"
     ]
    },
    {
     "name": "stdout",
     "output_type": "stream",
     "text": [
      "Success for img(11)_n.png:\n",
      "Testing 0 img(11)_n\n",
      "\n"
     ]
    },
    {
     "name": "stderr",
     "output_type": "stream",
     "text": [
      "Processing test inputs:  56%|███████████████████████████████                         | 100/180 [07:54<06:58,  5.23s/it]"
     ]
    },
    {
     "name": "stdout",
     "output_type": "stream",
     "text": [
      "Success for img(11)_r.png:\n",
      "Testing 0 img(11)_r\n",
      "\n"
     ]
    },
    {
     "name": "stderr",
     "output_type": "stream",
     "text": [
      "Processing test inputs:  57%|███████████████████████████████▋                        | 102/180 [08:00<05:31,  4.25s/it]"
     ]
    },
    {
     "name": "stdout",
     "output_type": "stream",
     "text": [
      "Success for img(12)_b.png:\n",
      "Testing 0 img(12)_b\n",
      "\n"
     ]
    },
    {
     "name": "stderr",
     "output_type": "stream",
     "text": [
      "Processing test inputs:  57%|████████████████████████████████                        | 103/180 [08:06<05:56,  4.64s/it]"
     ]
    },
    {
     "name": "stdout",
     "output_type": "stream",
     "text": [
      "Success for img(12)_g.png:\n",
      "Testing 0 img(12)_g\n",
      "\n"
     ]
    },
    {
     "name": "stderr",
     "output_type": "stream",
     "text": [
      "Processing test inputs:  58%|████████████████████████████████▎                       | 104/180 [08:11<06:16,  4.95s/it]"
     ]
    },
    {
     "name": "stdout",
     "output_type": "stream",
     "text": [
      "Success for img(12)_n.png:\n",
      "Testing 0 img(12)_n\n",
      "\n"
     ]
    },
    {
     "name": "stderr",
     "output_type": "stream",
     "text": [
      "Processing test inputs:  58%|████████████████████████████████▋                       | 105/180 [08:17<06:29,  5.20s/it]"
     ]
    },
    {
     "name": "stdout",
     "output_type": "stream",
     "text": [
      "Success for img(12)_r.png:\n",
      "Testing 0 img(12)_r\n",
      "\n"
     ]
    },
    {
     "name": "stderr",
     "output_type": "stream",
     "text": [
      "Processing test inputs:  59%|█████████████████████████████████▎                      | 107/180 [08:23<05:10,  4.25s/it]"
     ]
    },
    {
     "name": "stdout",
     "output_type": "stream",
     "text": [
      "Success for img(13)_b.png:\n",
      "Testing 0 img(13)_b\n",
      "\n"
     ]
    },
    {
     "name": "stderr",
     "output_type": "stream",
     "text": [
      "Processing test inputs:  60%|█████████████████████████████████▌                      | 108/180 [08:29<05:35,  4.66s/it]"
     ]
    },
    {
     "name": "stdout",
     "output_type": "stream",
     "text": [
      "Success for img(13)_g.png:\n",
      "Testing 0 img(13)_g\n",
      "\n"
     ]
    },
    {
     "name": "stderr",
     "output_type": "stream",
     "text": [
      "Processing test inputs:  61%|█████████████████████████████████▉                      | 109/180 [08:35<05:53,  4.98s/it]"
     ]
    },
    {
     "name": "stdout",
     "output_type": "stream",
     "text": [
      "Success for img(13)_n.png:\n",
      "Testing 0 img(13)_n\n",
      "\n"
     ]
    },
    {
     "name": "stderr",
     "output_type": "stream",
     "text": [
      "Processing test inputs:  61%|██████████████████████████████████▏                     | 110/180 [08:41<06:06,  5.24s/it]"
     ]
    },
    {
     "name": "stdout",
     "output_type": "stream",
     "text": [
      "Success for img(13)_r.png:\n",
      "Testing 0 img(13)_r\n",
      "\n"
     ]
    },
    {
     "name": "stderr",
     "output_type": "stream",
     "text": [
      "Processing test inputs:  62%|██████████████████████████████████▊                     | 112/180 [08:47<04:49,  4.26s/it]"
     ]
    },
    {
     "name": "stdout",
     "output_type": "stream",
     "text": [
      "Success for img(14)_b.png:\n",
      "Testing 0 img(14)_b\n",
      "\n"
     ]
    },
    {
     "name": "stderr",
     "output_type": "stream",
     "text": [
      "Processing test inputs:  63%|███████████████████████████████████▏                    | 113/180 [08:53<05:12,  4.66s/it]"
     ]
    },
    {
     "name": "stdout",
     "output_type": "stream",
     "text": [
      "Success for img(14)_g.png:\n",
      "Testing 0 img(14)_g\n",
      "\n"
     ]
    },
    {
     "name": "stderr",
     "output_type": "stream",
     "text": [
      "Processing test inputs:  63%|███████████████████████████████████▍                    | 114/180 [08:59<05:29,  4.99s/it]"
     ]
    },
    {
     "name": "stdout",
     "output_type": "stream",
     "text": [
      "Success for img(14)_n.png:\n",
      "Testing 0 img(14)_n\n",
      "\n"
     ]
    },
    {
     "name": "stderr",
     "output_type": "stream",
     "text": [
      "Processing test inputs:  64%|███████████████████████████████████▊                    | 115/180 [09:05<05:40,  5.24s/it]"
     ]
    },
    {
     "name": "stdout",
     "output_type": "stream",
     "text": [
      "Success for img(14)_r.png:\n",
      "Testing 0 img(14)_r\n",
      "\n"
     ]
    },
    {
     "name": "stderr",
     "output_type": "stream",
     "text": [
      "Processing test inputs:  65%|████████████████████████████████████▍                   | 117/180 [09:11<04:27,  4.25s/it]"
     ]
    },
    {
     "name": "stdout",
     "output_type": "stream",
     "text": [
      "Success for img(15)_b.png:\n",
      "Testing 0 img(15)_b\n",
      "\n"
     ]
    },
    {
     "name": "stderr",
     "output_type": "stream",
     "text": [
      "Processing test inputs:  66%|████████████████████████████████████▋                   | 118/180 [09:17<04:47,  4.64s/it]"
     ]
    },
    {
     "name": "stdout",
     "output_type": "stream",
     "text": [
      "Success for img(15)_g.png:\n",
      "Testing 0 img(15)_g\n",
      "\n"
     ]
    },
    {
     "name": "stderr",
     "output_type": "stream",
     "text": [
      "Processing test inputs:  66%|█████████████████████████████████████                   | 119/180 [09:23<05:02,  4.96s/it]"
     ]
    },
    {
     "name": "stdout",
     "output_type": "stream",
     "text": [
      "Success for img(15)_n.png:\n",
      "Testing 0 img(15)_n\n",
      "\n"
     ]
    },
    {
     "name": "stderr",
     "output_type": "stream",
     "text": [
      "Processing test inputs:  67%|█████████████████████████████████████▎                  | 120/180 [09:29<05:13,  5.22s/it]"
     ]
    },
    {
     "name": "stdout",
     "output_type": "stream",
     "text": [
      "Success for img(15)_r.png:\n",
      "Testing 0 img(15)_r\n",
      "\n"
     ]
    },
    {
     "name": "stderr",
     "output_type": "stream",
     "text": [
      "Processing test inputs:  68%|█████████████████████████████████████▉                  | 122/180 [09:35<04:06,  4.26s/it]"
     ]
    },
    {
     "name": "stdout",
     "output_type": "stream",
     "text": [
      "Success for img(16)_b.png:\n",
      "Testing 0 img(16)_b\n",
      "\n"
     ]
    },
    {
     "name": "stderr",
     "output_type": "stream",
     "text": [
      "Processing test inputs:  68%|██████████████████████████████████████▎                 | 123/180 [09:41<04:25,  4.66s/it]"
     ]
    },
    {
     "name": "stdout",
     "output_type": "stream",
     "text": [
      "Success for img(16)_g.png:\n",
      "Testing 0 img(16)_g\n",
      "\n"
     ]
    },
    {
     "name": "stderr",
     "output_type": "stream",
     "text": [
      "Processing test inputs:  69%|██████████████████████████████████████▌                 | 124/180 [09:46<04:38,  4.97s/it]"
     ]
    },
    {
     "name": "stdout",
     "output_type": "stream",
     "text": [
      "Success for img(16)_n.png:\n",
      "Testing 0 img(16)_n\n",
      "\n"
     ]
    },
    {
     "name": "stderr",
     "output_type": "stream",
     "text": [
      "Processing test inputs:  69%|██████████████████████████████████████▉                 | 125/180 [09:52<04:46,  5.22s/it]"
     ]
    },
    {
     "name": "stdout",
     "output_type": "stream",
     "text": [
      "Success for img(16)_r.png:\n",
      "Testing 0 img(16)_r\n",
      "\n"
     ]
    },
    {
     "name": "stderr",
     "output_type": "stream",
     "text": [
      "Processing test inputs:  71%|███████████████████████████████████████▌                | 127/180 [09:58<03:45,  4.25s/it]"
     ]
    },
    {
     "name": "stdout",
     "output_type": "stream",
     "text": [
      "Success for img(17)_b.png:\n",
      "Testing 0 img(17)_b\n",
      "\n"
     ]
    },
    {
     "name": "stderr",
     "output_type": "stream",
     "text": [
      "Processing test inputs:  71%|███████████████████████████████████████▊                | 128/180 [10:04<04:01,  4.64s/it]"
     ]
    },
    {
     "name": "stdout",
     "output_type": "stream",
     "text": [
      "Success for img(17)_g.png:\n",
      "Testing 0 img(17)_g\n",
      "\n"
     ]
    },
    {
     "name": "stderr",
     "output_type": "stream",
     "text": [
      "Processing test inputs:  72%|████████████████████████████████████████▏               | 129/180 [10:10<04:12,  4.95s/it]"
     ]
    },
    {
     "name": "stdout",
     "output_type": "stream",
     "text": [
      "Success for img(17)_n.png:\n",
      "Testing 0 img(17)_n\n",
      "\n"
     ]
    },
    {
     "name": "stderr",
     "output_type": "stream",
     "text": [
      "Processing test inputs:  72%|████████████████████████████████████████▍               | 130/180 [10:16<04:20,  5.20s/it]"
     ]
    },
    {
     "name": "stdout",
     "output_type": "stream",
     "text": [
      "Success for img(17)_r.png:\n",
      "Testing 0 img(17)_r\n",
      "\n"
     ]
    },
    {
     "name": "stderr",
     "output_type": "stream",
     "text": [
      "Processing test inputs:  73%|█████████████████████████████████████████               | 132/180 [10:22<03:23,  4.24s/it]"
     ]
    },
    {
     "name": "stdout",
     "output_type": "stream",
     "text": [
      "Success for img(18)_b.png:\n",
      "Testing 0 img(18)_b\n",
      "\n"
     ]
    },
    {
     "name": "stderr",
     "output_type": "stream",
     "text": [
      "Processing test inputs:  74%|█████████████████████████████████████████▍              | 133/180 [10:28<03:37,  4.63s/it]"
     ]
    },
    {
     "name": "stdout",
     "output_type": "stream",
     "text": [
      "Success for img(18)_g.png:\n",
      "Testing 0 img(18)_g\n",
      "\n"
     ]
    },
    {
     "name": "stderr",
     "output_type": "stream",
     "text": [
      "Processing test inputs:  74%|█████████████████████████████████████████▋              | 134/180 [10:34<03:49,  4.98s/it]"
     ]
    },
    {
     "name": "stdout",
     "output_type": "stream",
     "text": [
      "Success for img(18)_n.png:\n",
      "Testing 0 img(18)_n\n",
      "\n"
     ]
    },
    {
     "name": "stderr",
     "output_type": "stream",
     "text": [
      "Processing test inputs:  75%|██████████████████████████████████████████              | 135/180 [10:40<03:55,  5.23s/it]"
     ]
    },
    {
     "name": "stdout",
     "output_type": "stream",
     "text": [
      "Success for img(18)_r.png:\n",
      "Testing 0 img(18)_r\n",
      "\n"
     ]
    },
    {
     "name": "stderr",
     "output_type": "stream",
     "text": [
      "Processing test inputs:  76%|██████████████████████████████████████████▌             | 137/180 [10:46<03:03,  4.26s/it]"
     ]
    },
    {
     "name": "stdout",
     "output_type": "stream",
     "text": [
      "Success for img(19)_b.png:\n",
      "Testing 0 img(19)_b\n",
      "\n"
     ]
    },
    {
     "name": "stderr",
     "output_type": "stream",
     "text": [
      "Processing test inputs:  77%|██████████████████████████████████████████▉             | 138/180 [10:52<03:16,  4.67s/it]"
     ]
    },
    {
     "name": "stdout",
     "output_type": "stream",
     "text": [
      "Success for img(19)_g.png:\n",
      "Testing 0 img(19)_g\n",
      "\n"
     ]
    },
    {
     "name": "stderr",
     "output_type": "stream",
     "text": [
      "Processing test inputs:  77%|███████████████████████████████████████████▏            | 139/180 [10:58<03:24,  4.99s/it]"
     ]
    },
    {
     "name": "stdout",
     "output_type": "stream",
     "text": [
      "Success for img(19)_n.png:\n",
      "Testing 0 img(19)_n\n",
      "\n"
     ]
    },
    {
     "name": "stderr",
     "output_type": "stream",
     "text": [
      "Processing test inputs:  78%|███████████████████████████████████████████▌            | 140/180 [11:04<03:29,  5.23s/it]"
     ]
    },
    {
     "name": "stdout",
     "output_type": "stream",
     "text": [
      "Success for img(19)_r.png:\n",
      "Testing 0 img(19)_r\n",
      "\n"
     ]
    },
    {
     "name": "stderr",
     "output_type": "stream",
     "text": [
      "Processing test inputs:  79%|████████████████████████████████████████████▏           | 142/180 [11:10<02:41,  4.26s/it]"
     ]
    },
    {
     "name": "stdout",
     "output_type": "stream",
     "text": [
      "Success for img(2)_b.png:\n",
      "Testing 0 img(2)_b\n",
      "\n"
     ]
    },
    {
     "name": "stderr",
     "output_type": "stream",
     "text": [
      "Processing test inputs:  79%|████████████████████████████████████████████▍           | 143/180 [11:15<02:51,  4.65s/it]"
     ]
    },
    {
     "name": "stdout",
     "output_type": "stream",
     "text": [
      "Success for img(2)_g.png:\n",
      "Testing 0 img(2)_g\n",
      "\n"
     ]
    },
    {
     "name": "stderr",
     "output_type": "stream",
     "text": [
      "Processing test inputs:  80%|████████████████████████████████████████████▊           | 144/180 [11:21<02:58,  4.96s/it]"
     ]
    },
    {
     "name": "stdout",
     "output_type": "stream",
     "text": [
      "Success for img(2)_n.png:\n",
      "Testing 0 img(2)_n\n",
      "\n"
     ]
    },
    {
     "name": "stderr",
     "output_type": "stream",
     "text": [
      "Processing test inputs:  81%|█████████████████████████████████████████████           | 145/180 [11:27<03:02,  5.21s/it]"
     ]
    },
    {
     "name": "stdout",
     "output_type": "stream",
     "text": [
      "Success for img(2)_r.png:\n",
      "Testing 0 img(2)_r\n",
      "\n"
     ]
    },
    {
     "name": "stderr",
     "output_type": "stream",
     "text": [
      "Processing test inputs:  82%|█████████████████████████████████████████████▋          | 147/180 [11:33<02:20,  4.25s/it]"
     ]
    },
    {
     "name": "stdout",
     "output_type": "stream",
     "text": [
      "Success for img(3)_b.png:\n",
      "Testing 0 img(3)_b\n",
      "\n"
     ]
    },
    {
     "name": "stderr",
     "output_type": "stream",
     "text": [
      "Processing test inputs:  82%|██████████████████████████████████████████████          | 148/180 [11:39<02:29,  4.66s/it]"
     ]
    },
    {
     "name": "stdout",
     "output_type": "stream",
     "text": [
      "Success for img(3)_g.png:\n",
      "Testing 0 img(3)_g\n",
      "\n"
     ]
    },
    {
     "name": "stderr",
     "output_type": "stream",
     "text": [
      "Processing test inputs:  83%|██████████████████████████████████████████████▎         | 149/180 [11:45<02:34,  4.99s/it]"
     ]
    },
    {
     "name": "stdout",
     "output_type": "stream",
     "text": [
      "Success for img(3)_n.png:\n",
      "Testing 0 img(3)_n\n",
      "\n"
     ]
    },
    {
     "name": "stderr",
     "output_type": "stream",
     "text": [
      "Processing test inputs:  83%|██████████████████████████████████████████████▋         | 150/180 [11:51<02:37,  5.24s/it]"
     ]
    },
    {
     "name": "stdout",
     "output_type": "stream",
     "text": [
      "Success for img(3)_r.png:\n",
      "Testing 0 img(3)_r\n",
      "\n"
     ]
    },
    {
     "name": "stderr",
     "output_type": "stream",
     "text": [
      "Processing test inputs:  84%|███████████████████████████████████████████████▎        | 152/180 [11:57<01:59,  4.25s/it]"
     ]
    },
    {
     "name": "stdout",
     "output_type": "stream",
     "text": [
      "Success for img(4)_b.png:\n",
      "Testing 0 img(4)_b\n",
      "\n"
     ]
    },
    {
     "name": "stderr",
     "output_type": "stream",
     "text": [
      "Processing test inputs:  85%|███████████████████████████████████████████████▌        | 153/180 [12:03<02:05,  4.66s/it]"
     ]
    },
    {
     "name": "stdout",
     "output_type": "stream",
     "text": [
      "Success for img(4)_g.png:\n",
      "Testing 0 img(4)_g\n",
      "\n"
     ]
    },
    {
     "name": "stderr",
     "output_type": "stream",
     "text": [
      "Processing test inputs:  86%|███████████████████████████████████████████████▉        | 154/180 [12:09<02:09,  4.97s/it]"
     ]
    },
    {
     "name": "stdout",
     "output_type": "stream",
     "text": [
      "Success for img(4)_n.png:\n",
      "Testing 0 img(4)_n\n",
      "\n"
     ]
    },
    {
     "name": "stderr",
     "output_type": "stream",
     "text": [
      "Processing test inputs:  86%|████████████████████████████████████████████████▏       | 155/180 [12:15<02:11,  5.24s/it]"
     ]
    },
    {
     "name": "stdout",
     "output_type": "stream",
     "text": [
      "Success for img(4)_r.png:\n",
      "Testing 0 img(4)_r\n",
      "\n"
     ]
    },
    {
     "name": "stderr",
     "output_type": "stream",
     "text": [
      "Processing test inputs:  87%|████████████████████████████████████████████████▊       | 157/180 [12:21<01:37,  4.26s/it]"
     ]
    },
    {
     "name": "stdout",
     "output_type": "stream",
     "text": [
      "Success for img(5)_b.png:\n",
      "Testing 0 img(5)_b\n",
      "\n"
     ]
    },
    {
     "name": "stderr",
     "output_type": "stream",
     "text": [
      "Processing test inputs:  88%|█████████████████████████████████████████████████▏      | 158/180 [12:27<01:42,  4.66s/it]"
     ]
    },
    {
     "name": "stdout",
     "output_type": "stream",
     "text": [
      "Success for img(5)_g.png:\n",
      "Testing 0 img(5)_g\n",
      "\n"
     ]
    },
    {
     "name": "stderr",
     "output_type": "stream",
     "text": [
      "Processing test inputs:  88%|█████████████████████████████████████████████████▍      | 159/180 [12:33<01:44,  4.98s/it]"
     ]
    },
    {
     "name": "stdout",
     "output_type": "stream",
     "text": [
      "Success for img(5)_n.png:\n",
      "Testing 0 img(5)_n\n",
      "\n"
     ]
    },
    {
     "name": "stderr",
     "output_type": "stream",
     "text": [
      "Processing test inputs:  89%|█████████████████████████████████████████████████▊      | 160/180 [12:39<01:44,  5.24s/it]"
     ]
    },
    {
     "name": "stdout",
     "output_type": "stream",
     "text": [
      "Success for img(5)_r.png:\n",
      "Testing 0 img(5)_r\n",
      "\n"
     ]
    },
    {
     "name": "stderr",
     "output_type": "stream",
     "text": [
      "Processing test inputs:  90%|██████████████████████████████████████████████████▍     | 162/180 [12:44<01:16,  4.25s/it]"
     ]
    },
    {
     "name": "stdout",
     "output_type": "stream",
     "text": [
      "Success for img(6)_b.png:\n",
      "Testing 0 img(6)_b\n",
      "\n"
     ]
    },
    {
     "name": "stderr",
     "output_type": "stream",
     "text": [
      "Processing test inputs:  91%|██████████████████████████████████████████████████▋     | 163/180 [12:50<01:18,  4.64s/it]"
     ]
    },
    {
     "name": "stdout",
     "output_type": "stream",
     "text": [
      "Success for img(6)_g.png:\n",
      "Testing 0 img(6)_g\n",
      "\n"
     ]
    },
    {
     "name": "stderr",
     "output_type": "stream",
     "text": [
      "Processing test inputs:  91%|███████████████████████████████████████████████████     | 164/180 [12:56<01:19,  4.98s/it]"
     ]
    },
    {
     "name": "stdout",
     "output_type": "stream",
     "text": [
      "Success for img(6)_n.png:\n",
      "Testing 0 img(6)_n\n",
      "\n"
     ]
    },
    {
     "name": "stderr",
     "output_type": "stream",
     "text": [
      "Processing test inputs:  92%|███████████████████████████████████████████████████▎    | 165/180 [13:02<01:18,  5.24s/it]"
     ]
    },
    {
     "name": "stdout",
     "output_type": "stream",
     "text": [
      "Success for img(6)_r.png:\n",
      "Testing 0 img(6)_r\n",
      "\n"
     ]
    },
    {
     "name": "stderr",
     "output_type": "stream",
     "text": [
      "Processing test inputs:  93%|███████████████████████████████████████████████████▉    | 167/180 [13:08<00:55,  4.26s/it]"
     ]
    },
    {
     "name": "stdout",
     "output_type": "stream",
     "text": [
      "Success for img(7)_b.png:\n",
      "Testing 0 img(7)_b\n",
      "\n"
     ]
    },
    {
     "name": "stderr",
     "output_type": "stream",
     "text": [
      "Processing test inputs:  93%|████████████████████████████████████████████████████▎   | 168/180 [13:14<00:55,  4.66s/it]"
     ]
    },
    {
     "name": "stdout",
     "output_type": "stream",
     "text": [
      "Success for img(7)_g.png:\n",
      "Testing 0 img(7)_g\n",
      "\n"
     ]
    },
    {
     "name": "stderr",
     "output_type": "stream",
     "text": [
      "Processing test inputs:  94%|████████████████████████████████████████████████████▌   | 169/180 [13:20<00:54,  4.97s/it]"
     ]
    },
    {
     "name": "stdout",
     "output_type": "stream",
     "text": [
      "Success for img(7)_n.png:\n",
      "Testing 0 img(7)_n\n",
      "\n"
     ]
    },
    {
     "name": "stderr",
     "output_type": "stream",
     "text": [
      "Processing test inputs:  94%|████████████████████████████████████████████████████▉   | 170/180 [13:26<00:52,  5.22s/it]"
     ]
    },
    {
     "name": "stdout",
     "output_type": "stream",
     "text": [
      "Success for img(7)_r.png:\n",
      "Testing 0 img(7)_r\n",
      "\n"
     ]
    },
    {
     "name": "stderr",
     "output_type": "stream",
     "text": [
      "Processing test inputs:  96%|█████████████████████████████████████████████████████▌  | 172/180 [13:32<00:33,  4.24s/it]"
     ]
    },
    {
     "name": "stdout",
     "output_type": "stream",
     "text": [
      "Success for img(8)_b.png:\n",
      "Testing 0 img(8)_b\n",
      "\n"
     ]
    },
    {
     "name": "stderr",
     "output_type": "stream",
     "text": [
      "Processing test inputs:  96%|█████████████████████████████████████████████████████▊  | 173/180 [13:38<00:32,  4.64s/it]"
     ]
    },
    {
     "name": "stdout",
     "output_type": "stream",
     "text": [
      "Success for img(8)_g.png:\n",
      "Testing 0 img(8)_g\n",
      "\n"
     ]
    },
    {
     "name": "stderr",
     "output_type": "stream",
     "text": [
      "Processing test inputs:  97%|██████████████████████████████████████████████████████▏ | 174/180 [13:44<00:29,  4.98s/it]"
     ]
    },
    {
     "name": "stdout",
     "output_type": "stream",
     "text": [
      "Success for img(8)_n.png:\n",
      "Testing 0 img(8)_n\n",
      "\n"
     ]
    },
    {
     "name": "stderr",
     "output_type": "stream",
     "text": [
      "Processing test inputs:  97%|██████████████████████████████████████████████████████▍ | 175/180 [13:50<00:26,  5.24s/it]"
     ]
    },
    {
     "name": "stdout",
     "output_type": "stream",
     "text": [
      "Success for img(8)_r.png:\n",
      "Testing 0 img(8)_r\n",
      "\n"
     ]
    },
    {
     "name": "stderr",
     "output_type": "stream",
     "text": [
      "Processing test inputs:  98%|███████████████████████████████████████████████████████ | 177/180 [13:56<00:12,  4.26s/it]"
     ]
    },
    {
     "name": "stdout",
     "output_type": "stream",
     "text": [
      "Success for img(9)_b.png:\n",
      "Testing 0 img(9)_b\n",
      "\n"
     ]
    },
    {
     "name": "stderr",
     "output_type": "stream",
     "text": [
      "Processing test inputs:  99%|███████████████████████████████████████████████████████▍| 178/180 [14:02<00:09,  4.65s/it]"
     ]
    },
    {
     "name": "stdout",
     "output_type": "stream",
     "text": [
      "Success for img(9)_g.png:\n",
      "Testing 0 img(9)_g\n",
      "\n"
     ]
    },
    {
     "name": "stderr",
     "output_type": "stream",
     "text": [
      "Processing test inputs:  99%|███████████████████████████████████████████████████████▋| 179/180 [14:08<00:04,  4.97s/it]"
     ]
    },
    {
     "name": "stdout",
     "output_type": "stream",
     "text": [
      "Success for img(9)_n.png:\n",
      "Testing 0 img(9)_n\n",
      "\n"
     ]
    },
    {
     "name": "stderr",
     "output_type": "stream",
     "text": [
      "Processing test inputs: 100%|████████████████████████████████████████████████████████| 180/180 [14:13<00:00,  4.74s/it]"
     ]
    },
    {
     "name": "stdout",
     "output_type": "stream",
     "text": [
      "Success for img(9)_r.png:\n",
      "Testing 0 img(9)_r\n",
      "\n"
     ]
    },
    {
     "name": "stderr",
     "output_type": "stream",
     "text": [
      "\n"
     ]
    }
   ],
   "source": [
    "# import subprocess\n",
    "# from tqdm import tqdm\n",
    "# import os\n",
    "\n",
    "# Define paths\n",
    "#data_root = \"../data/\"\n",
    "results_root = \"../results/\"\n",
    "model_name = \"RealESRGAN_x4plus\"\n",
    "\n",
    "# Ensure results directories exist\n",
    "os.makedirs(results_root, exist_ok=True)\n",
    "\n",
    "# Loop through train, val, and test directories\n",
    "for phase in [\"train\", \"val\", \"test\"]:\n",
    "    input_dir = os.path.join(data_root, phase, \"input\")\n",
    "    output_dir = os.path.join(results_root, phase, \"input\")\n",
    "    os.makedirs(output_dir, exist_ok=True)\n",
    "\n",
    "    # Process all PNG images in the input folder\n",
    "    for file_name in tqdm(os.listdir(input_dir), desc=f\"Processing {phase} inputs\"):\n",
    "        if file_name.endswith(\".png\"):\n",
    "            input_file = os.path.join(input_dir, file_name)\n",
    "            output_file = os.path.join(output_dir, file_name)\n",
    "\n",
    "            # Run the Real-ESRGAN script\n",
    "            python_path = r\"E:\\Devs\\pyEnv-1\\Real-ESRGAN_Experimental\\Real-ESRGAN_env\\Scripts\\python.exe\"\n",
    "            command = [\n",
    "                python_path, \"inference_realesrgan.py\",\n",
    "                \"-n\", model_name,\n",
    "                \"-i\", input_file,\n",
    "                \"-o\", output_dir,\n",
    "                \"--outscale\", \"2\",\n",
    "                \"--suffix\", \"\"\n",
    "            ]\n",
    "\n",
    "            try:\n",
    "                # Capture output and error\n",
    "                result = subprocess.run(command, check=True, text=True, capture_output=True)\n",
    "                print(f\"Success for {file_name}:\\n{result.stdout}\")\n",
    "            except subprocess.CalledProcessError as e:\n",
    "                print(f\"Error for {file_name}:\\n{e.stderr}\")\n",
    "                raise e\n",
    "\n"
   ]
  },
  {
   "cell_type": "markdown",
   "id": "35525ac6-7eb7-482d-b534-5975a7f3228d",
   "metadata": {},
   "source": [
    "### Apply the transformation for the mask files using Nearest Neighbor"
   ]
  },
  {
   "cell_type": "code",
   "execution_count": 86,
   "id": "de9a07a1-5440-46e5-9da0-91f0d25fcc6c",
   "metadata": {},
   "outputs": [
    {
     "name": "stderr",
     "output_type": "stream",
     "text": [
      "Processing train labels: 100%|██████████████████████████████████████████████████████| 402/402 [00:01<00:00, 390.49it/s]\n",
      "Processing val labels: 100%|██████████████████████████████████████████████████████████| 70/70 [00:00<00:00, 497.79it/s]\n",
      "Processing test labels: 100%|█████████████████████████████████████████████████████████| 72/72 [00:00<00:00, 480.89it/s]\n"
     ]
    }
   ],
   "source": [
    "\n",
    "# Function to apply nearest neighbor resizing\n",
    "def resize_mask(mask_path, reference_path, output_path):\n",
    "    \"\"\"\n",
    "    Resize mask to match the resolution of the reference image using nearest neighbor interpolation.\n",
    "    \"\"\"\n",
    "    # Open the mask\n",
    "    with rasterio.open(mask_path) as src:\n",
    "        mask = src.read(1)  # Read the first (and only) band\n",
    "\n",
    "    # Open the reference image\n",
    "    with Image.open(reference_path) as ref_img:\n",
    "        target_size = ref_img.size  # (width, height)\n",
    "\n",
    "    # Resize the mask\n",
    "    mask_resized = Image.fromarray(mask).resize(target_size, resample=Image.NEAREST)\n",
    "\n",
    "    # Save the resized mask\n",
    "    mask_resized.save(output_path, format=\"PNG\")\n",
    "\n",
    "# Process labels for train, val, and test\n",
    "for phase in [\"train\", \"val\", \"test\"]:\n",
    "    labels_dir = os.path.join(data_root, phase, \"labels\")\n",
    "    output_labels_dir = os.path.join(results_root, phase, \"labels\")\n",
    "    input_dir = os.path.join(results_root, phase, \"input\")\n",
    "    os.makedirs(output_labels_dir, exist_ok=True)\n",
    "\n",
    "    for file_name in tqdm(os.listdir(labels_dir), desc=f\"Processing {phase} labels\"):\n",
    "        if file_name.endswith(\"_b.png\"):\n",
    "            mask_path = os.path.join(labels_dir, file_name)\n",
    "            file_name_replace = re.sub(r'^.*?\\(', 'img(', file_name)\n",
    "            reference_path = os.path.join(input_dir, file_name_replace.replace(\"_b\", \"_r\"))  # Match with the red band\n",
    "            output_path = os.path.join(output_labels_dir, file_name)\n",
    "\n",
    "            resize_mask(mask_path, reference_path, output_path)\n"
   ]
  },
  {
   "cell_type": "markdown",
   "id": "a780f1ca-1a4e-41c5-a52e-7391efdcb161",
   "metadata": {},
   "source": [
    "## Step 3 - Pack the new GeoTIFF files"
   ]
  },
  {
   "cell_type": "code",
   "execution_count": 90,
   "id": "7f765d77-00e4-43b8-9f1b-8b7cc16fd3f5",
   "metadata": {},
   "outputs": [
    {
     "name": "stdout",
     "output_type": "stream",
     "text": [
      "Packing GeoTIFFs for train/input...\n"
     ]
    },
    {
     "name": "stderr",
     "output_type": "stream",
     "text": [
      "100%|█████████████████████████████████████████████████████████████████████████████| 1005/1005 [00:06<00:00, 166.35it/s]\n"
     ]
    },
    {
     "name": "stdout",
     "output_type": "stream",
     "text": [
      "Packing GeoTIFFs for train/labels...\n"
     ]
    },
    {
     "name": "stderr",
     "output_type": "stream",
     "text": [
      "100%|████████████████████████████████████████████████████████████████████████████████| 402/402 [00:04<00:00, 93.28it/s]\n"
     ]
    },
    {
     "name": "stdout",
     "output_type": "stream",
     "text": [
      "Packing GeoTIFFs for val/input...\n"
     ]
    },
    {
     "name": "stderr",
     "output_type": "stream",
     "text": [
      "100%|███████████████████████████████████████████████████████████████████████████████| 175/175 [00:00<00:00, 193.86it/s]\n"
     ]
    },
    {
     "name": "stdout",
     "output_type": "stream",
     "text": [
      "Packing GeoTIFFs for val/labels...\n"
     ]
    },
    {
     "name": "stderr",
     "output_type": "stream",
     "text": [
      "100%|██████████████████████████████████████████████████████████████████████████████████| 70/70 [00:01<00:00, 68.55it/s]\n"
     ]
    },
    {
     "name": "stdout",
     "output_type": "stream",
     "text": [
      "Packing GeoTIFFs for test/input...\n"
     ]
    },
    {
     "name": "stderr",
     "output_type": "stream",
     "text": [
      "100%|███████████████████████████████████████████████████████████████████████████████| 180/180 [00:00<00:00, 190.69it/s]\n"
     ]
    },
    {
     "name": "stdout",
     "output_type": "stream",
     "text": [
      "Packing GeoTIFFs for test/labels...\n"
     ]
    },
    {
     "name": "stderr",
     "output_type": "stream",
     "text": [
      "100%|█████████████████████████████████████████████████████████████████████████████████| 72/72 [00:00<00:00, 101.22it/s]"
     ]
    },
    {
     "name": "stdout",
     "output_type": "stream",
     "text": [
      "GeoTIFF packing completed!\n"
     ]
    },
    {
     "name": "stderr",
     "output_type": "stream",
     "text": [
      "\n"
     ]
    }
   ],
   "source": [
    "# import os\n",
    "# import rasterio\n",
    "# import numpy as np\n",
    "# from tqdm import tqdm\n",
    "from rasterio.transform import Affine\n",
    "\n",
    "def pack_geotiff(input_metadata, output_path, bands_data, scale_factor):\n",
    "    \"\"\"\n",
    "    Packs the bands_data into a new GeoTIFF file using the original metadata.\n",
    "    \n",
    "    Args:\n",
    "        input_metadata: Metadata from the original GeoTIFF file.\n",
    "        output_path: Path to the new GeoTIFF file.\n",
    "        bands_data: List of numpy arrays representing the bands.\n",
    "        scale_factor: Upscaling factor applied to the bands.\n",
    "    \"\"\"\n",
    "    # Adjust the transform to maintain the same geographic area\n",
    "    original_transform = input_metadata[\"transform\"]\n",
    "    new_transform = Affine(\n",
    "        original_transform.a / scale_factor,\n",
    "        original_transform.b,\n",
    "        original_transform.c,\n",
    "        original_transform.d,\n",
    "        original_transform.e / scale_factor,\n",
    "        original_transform.f\n",
    "    )\n",
    "    input_metadata.update({\n",
    "        \"height\": bands_data[0].shape[0],\n",
    "        \"width\": bands_data[0].shape[1],\n",
    "        \"transform\": new_transform\n",
    "    })\n",
    "\n",
    "    with rasterio.open(\n",
    "        output_path, \"w\", \n",
    "        driver=\"GTiff\",\n",
    "        height=bands_data[0].shape[0],\n",
    "        width=bands_data[0].shape[1],\n",
    "        count=len(bands_data),  # Number of bands\n",
    "        dtype=bands_data[0].dtype,\n",
    "        crs=input_metadata[\"crs\"],\n",
    "        transform=new_transform\n",
    "    ) as dst:\n",
    "        for idx, band in enumerate(bands_data, start=1):\n",
    "            dst.write(band, idx)\n",
    "\n",
    "# Process the datasets\n",
    "scale_factor = 2  # The upscaling factor\n",
    "for subset in [\"train\", \"val\", \"test\"]:\n",
    "    for subfolder in [\"input\", \"labels\"]:\n",
    "        print(f\"Packing GeoTIFFs for {subset}/{subfolder}...\")\n",
    "\n",
    "        # Input folder paths\n",
    "        data_folder = os.path.join(data_root, subset, subfolder)\n",
    "        results_folder = os.path.join(results_root, subset, subfolder)\n",
    "\n",
    "        # Process each GeoTIFF file in the data folder\n",
    "        for file_name in tqdm(os.listdir(data_folder)):\n",
    "            if not file_name.endswith(\".tif\"):\n",
    "                continue\n",
    "\n",
    "            # Paths\n",
    "            original_tiff_path = os.path.join(data_folder, file_name)\n",
    "            output_tiff_path = os.path.join(results_folder, file_name)\n",
    "\n",
    "            # Read the original metadata\n",
    "            with rasterio.open(original_tiff_path) as src:\n",
    "                metadata = src.meta.copy()\n",
    "\n",
    "            # Collect band data\n",
    "            if subfolder == \"input\":\n",
    "                # 4 bands: R, G, B, NIR\n",
    "                bands = [\n",
    "                    np.array(Image.open(os.path.join(results_folder, f\"{file_name[:-4]}_r.png\"))),\n",
    "                    np.array(Image.open(os.path.join(results_folder, f\"{file_name[:-4]}_g.png\"))),\n",
    "                    np.array(Image.open(os.path.join(results_folder, f\"{file_name[:-4]}_b.png\"))),\n",
    "                    np.array(Image.open(os.path.join(results_folder, f\"{file_name[:-4]}_n.png\"))),\n",
    "                ]\n",
    "            elif subfolder == \"labels\":\n",
    "                # 1 band: binary mask\n",
    "                bands = [\n",
    "                    np.array(Image.open(os.path.join(results_folder, f\"{file_name[:-4]}_b.png\"))),\n",
    "                ]\n",
    "\n",
    "            # Pack the new GeoTIFF\n",
    "            pack_geotiff(metadata, output_tiff_path, bands, scale_factor)\n",
    "\n",
    "print(\"GeoTIFF packing completed!\")\n"
   ]
  },
  {
   "cell_type": "code",
   "execution_count": null,
   "id": "6360b2dc-2e6c-435f-86be-05a299ef2abe",
   "metadata": {},
   "outputs": [],
   "source": []
  }
 ],
 "metadata": {
  "kernelspec": {
   "display_name": "Real-ESRGAN_Env",
   "language": "python",
   "name": "real-esrgan_env"
  },
  "language_info": {
   "codemirror_mode": {
    "name": "ipython",
    "version": 3
   },
   "file_extension": ".py",
   "mimetype": "text/x-python",
   "name": "python",
   "nbconvert_exporter": "python",
   "pygments_lexer": "ipython3",
   "version": "3.12.7"
  }
 },
 "nbformat": 4,
 "nbformat_minor": 5
}
