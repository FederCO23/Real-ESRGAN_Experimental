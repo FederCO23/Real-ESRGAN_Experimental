{
 "cells": [
  {
   "cell_type": "markdown",
   "id": "c8e9f83b-843a-4826-9869-8fd85f94253e",
   "metadata": {},
   "source": [
    "## Apply Real-ESRGAN over the satellite imagery dataset for semantic segmentation\n"
   ]
  },
  {
   "cell_type": "markdown",
   "id": "6c1456f1-eb8e-4e06-81bb-f8ee7967b6cc",
   "metadata": {},
   "source": [
    "---"
   ]
  },
  {
   "cell_type": "markdown",
   "id": "c80f3e6a-de59-494e-a479-2ae1494350f2",
   "metadata": {},
   "source": [
    "### Import Libs"
   ]
  },
  {
   "cell_type": "code",
   "execution_count": 26,
   "id": "0661d15a-4a65-4ff2-9915-f4c9be107a0a",
   "metadata": {},
   "outputs": [],
   "source": [
    "import torch\n",
    "import random\n",
    "import numpy as np\n",
    "import glob\n",
    "import re"
   ]
  },
  {
   "cell_type": "code",
   "execution_count": null,
   "id": "6fa3eee5-178d-4177-a0f3-dec314c5c270",
   "metadata": {},
   "outputs": [],
   "source": []
  },
  {
   "cell_type": "code",
   "execution_count": 29,
   "id": "a3e22723-07a0-4fed-8183-d2e1d21dc78c",
   "metadata": {},
   "outputs": [],
   "source": [
    "# Set the Multiprocessing Start Method for Windows\n",
    "import torch.multiprocessing as mp\n",
    "\n",
    "if __name__ == \"__main__\":\n",
    "    mp.set_start_method('spawn', force=True)\n",
    "\n",
    "# Set a known seed\n",
    "seed = 23\n",
    "torch.manual_seed(seed)\n",
    "random.seed(seed)\n",
    "np.random.seed(seed)"
   ]
  },
  {
   "cell_type": "markdown",
   "id": "94eecf90-57c1-4dc4-adf5-437e1d391a60",
   "metadata": {},
   "source": [
    "### CUDA Configuration"
   ]
  },
  {
   "cell_type": "code",
   "execution_count": 32,
   "id": "1e761441-58b7-41e4-807e-255fbdf3989c",
   "metadata": {},
   "outputs": [
    {
     "name": "stdout",
     "output_type": "stream",
     "text": [
      "----------------------------------------------------------------------\n",
      "CUDA available: True\n",
      "GPU Model: NVIDIA GeForce GTX 1080 Ti\n",
      "CUDA Version: 11.8\n",
      "----------------------------------------------------------------------\n",
      "\n",
      "Device Properties:\n",
      "  Name: NVIDIA GeForce GTX 1080 Ti\n",
      "  Total Memory (GB): 10.999755859375\n",
      "  Multiprocessors: 28\n",
      "  Compute Capability: 6 . 1\n",
      "----------------------------------------------------------------------\n"
     ]
    }
   ],
   "source": [
    "print(70*'-')\n",
    "print(\"CUDA available:\", torch.cuda.is_available())\n",
    "current_device = torch.cuda.current_device()\n",
    "print(\"GPU Model:\", torch.cuda.get_device_name(current_device))\n",
    "print(\"CUDA Version:\", torch.version.cuda)\n",
    "print(70*'-')\n",
    "\n",
    "device_properties = torch.cuda.get_device_properties(current_device)\n",
    "print(\"\\nDevice Properties:\")\n",
    "print(\"  Name:\", device_properties.name)\n",
    "print(\"  Total Memory (GB):\", device_properties.total_memory / (1024 ** 3))  # Convert bytes to GB\n",
    "print(\"  Multiprocessors:\", device_properties.multi_processor_count)\n",
    "print(\"  Compute Capability:\", device_properties.major, \".\", device_properties.minor)\n",
    "print(70*'-')"
   ]
  },
  {
   "cell_type": "markdown",
   "id": "679bf91f-a80d-4e5c-8904-8b62f10ee23c",
   "metadata": {},
   "source": [
    "### Data Access"
   ]
  },
  {
   "cell_type": "code",
   "execution_count": 35,
   "id": "6e1afbb1-4306-4ff4-9eb1-912592864acc",
   "metadata": {},
   "outputs": [],
   "source": [
    "# Function to extract the numeric value from filenames\n",
    "def numeric_sort_key(filepath):\n",
    "    # Extract numbers from the filename using a regular expression\n",
    "    match = re.search(r'\\d+', filepath)\n",
    "    # Return the integer value of the number if found, otherwise 0\n",
    "    return int(match.group()) if match else 0\n",
    "\n",
    "# Get all the image and mask paths and sort them numerically\n",
    "folder_data_train = sorted(\n",
    "    glob.glob(\"./data/train/input/*tif\"),\n",
    "    key=numeric_sort_key\n",
    ")\n",
    "folder_mask_train = sorted(\n",
    "    glob.glob(\"./data/train/labels/*tif\"),\n",
    "    key=numeric_sort_key\n",
    ")\n",
    "\n",
    "folder_data_val = sorted(\n",
    "    glob.glob(\"./data/val/input/*tif\"),\n",
    "    key=numeric_sort_key\n",
    ")\n",
    "folder_mask_val = sorted(\n",
    "    glob.glob(\"./data/val/labels/*tif\"),\n",
    "    key=numeric_sort_key\n",
    ")\n",
    "\n",
    "folder_data_test = sorted(\n",
    "    glob.glob(\"./data/test/input/*tif\"),\n",
    "    key=numeric_sort_key\n",
    ")\n",
    "folder_mask_test = sorted(\n",
    "    glob.glob(\"./data/test/labels/*tif\"),\n",
    "    key=numeric_sort_key\n",
    ")\n",
    "\n",
    "# Assign to variables\n",
    "train_image_paths = folder_data_train[:]\n",
    "val_image_paths = folder_data_val[:]\n",
    "test_image_paths = folder_data_test[:]\n",
    "\n",
    "train_mask_paths = folder_mask_train[:]\n",
    "val_mask_paths = folder_mask_val[:]\n",
    "test_mask_paths = folder_mask_test[:]\n",
    "\n"
   ]
  },
  {
   "cell_type": "code",
   "execution_count": 39,
   "id": "8bdc2df3-3526-4366-8628-87eef3253386",
   "metadata": {},
   "outputs": [
    {
     "name": "stdout",
     "output_type": "stream",
     "text": [
      "\n",
      "Control number of images by folder:\n",
      "========================================\n",
      "\t\tinput: \tlabels:\n",
      "Train\t\t201\t201\t73.90%\n",
      "Val\t\t35\t35\t12.87%\n",
      "Test\t\t36\t36\t13.24%\n",
      "========================================\n",
      "Total\t\t272\t272\n"
     ]
    }
   ],
   "source": [
    "# Check the number of train, val and test images\n",
    "print('\\nControl number of images by folder:')\n",
    "print(40*'=')\n",
    "input_total = len(folder_data_train)+len(folder_data_val)+len(folder_data_test)\n",
    "labels_total = len(folder_mask_train)+len(folder_mask_val)+len(folder_mask_test)\n",
    "print('\\t\\tinput: \\tlabels:')\n",
    "print(f'Train\\t\\t{len(folder_data_train)}\\t{len(folder_mask_train)}\\t{(len(folder_data_train)/input_total)*100:.2f}%')\n",
    "print(f'Val\\t\\t{len(folder_data_val)}\\t{len(folder_mask_val)}\\t{(len(folder_data_val)/input_total)*100:.2f}%')\n",
    "print(f'Test\\t\\t{len(folder_data_test)}\\t{len(folder_mask_test)}\\t{(len(folder_data_test)/input_total)*100:.2f}%')\n",
    "print(40*'=')\n",
    "print(f'Total\\t\\t{input_total}\\t{labels_total}')"
   ]
  },
  {
   "cell_type": "code",
   "execution_count": null,
   "id": "30206893-94b9-4fdf-b1dd-2d7a0328975f",
   "metadata": {},
   "outputs": [],
   "source": []
  }
 ],
 "metadata": {
  "kernelspec": {
   "display_name": "Real-ESRGAN_Env",
   "language": "python",
   "name": "real-esrgan_env"
  },
  "language_info": {
   "codemirror_mode": {
    "name": "ipython",
    "version": 3
   },
   "file_extension": ".py",
   "mimetype": "text/x-python",
   "name": "python",
   "nbconvert_exporter": "python",
   "pygments_lexer": "ipython3",
   "version": "3.12.7"
  }
 },
 "nbformat": 4,
 "nbformat_minor": 5
}
