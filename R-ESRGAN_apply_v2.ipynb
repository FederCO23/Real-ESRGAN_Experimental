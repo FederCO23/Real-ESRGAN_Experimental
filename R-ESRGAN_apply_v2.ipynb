{
 "cells": [
  {
   "cell_type": "markdown",
   "id": "c8e9f83b-843a-4826-9869-8fd85f94253e",
   "metadata": {},
   "source": [
    "## Apply Real-ESRGAN over the satellite imagery dataset for semantic segmentation\n"
   ]
  },
  {
   "cell_type": "markdown",
   "id": "6c1456f1-eb8e-4e06-81bb-f8ee7967b6cc",
   "metadata": {},
   "source": [
    "---"
   ]
  },
  {
   "cell_type": "markdown",
   "id": "c80f3e6a-de59-494e-a479-2ae1494350f2",
   "metadata": {},
   "source": [
    "### Import Libs"
   ]
  },
  {
   "cell_type": "code",
   "execution_count": 4,
   "id": "0661d15a-4a65-4ff2-9915-f4c9be107a0a",
   "metadata": {},
   "outputs": [],
   "source": [
    "import torch\n",
    "import torch.utils.data as data\n",
    "\n",
    "from torchvision.transforms import ToTensor\n",
    "\n",
    "from sklearn.preprocessing import MinMaxScaler\n",
    "\n",
    "import imageio.v2 as imageio\n",
    "\n",
    "import rasterio\n",
    "from PIL import Image\n",
    "\n",
    "import random\n",
    "import numpy as np\n",
    "import glob\n",
    "import re\n",
    "import sys\n",
    "\n",
    "import os\n",
    "import subprocess\n",
    "from tqdm import tqdm\n",
    "\n",
    "from datetime import datetime\n",
    "\n",
    "import cv2\n"
   ]
  },
  {
   "cell_type": "code",
   "execution_count": 5,
   "id": "a3e22723-07a0-4fed-8183-d2e1d21dc78c",
   "metadata": {},
   "outputs": [],
   "source": [
    "# Set the Multiprocessing Start Method for Windows\n",
    "import torch.multiprocessing as mp\n",
    "\n",
    "if __name__ == \"__main__\":\n",
    "    mp.set_start_method('spawn', force=True)\n",
    "\n",
    "# Set a known seed\n",
    "seed = 23\n",
    "torch.manual_seed(seed)\n",
    "random.seed(seed)\n",
    "np.random.seed(seed)"
   ]
  },
  {
   "cell_type": "markdown",
   "id": "94eecf90-57c1-4dc4-adf5-437e1d391a60",
   "metadata": {},
   "source": [
    "### CUDA Configuration"
   ]
  },
  {
   "cell_type": "code",
   "execution_count": 7,
   "id": "1e761441-58b7-41e4-807e-255fbdf3989c",
   "metadata": {},
   "outputs": [
    {
     "name": "stdout",
     "output_type": "stream",
     "text": [
      "----------------------------------------------------------------------\n",
      "CUDA available: True\n",
      "GPU Model: NVIDIA GeForce GTX 1080 Ti\n",
      "CUDA Version: 11.8\n",
      "----------------------------------------------------------------------\n",
      "\n",
      "Device Properties:\n",
      "  Name: NVIDIA GeForce GTX 1080 Ti\n",
      "  Total Memory (GB): 10.999755859375\n",
      "  Multiprocessors: 28\n",
      "  Compute Capability: 6 . 1\n",
      "----------------------------------------------------------------------\n"
     ]
    }
   ],
   "source": [
    "print(70*'-')\n",
    "print(\"CUDA available:\", torch.cuda.is_available())\n",
    "current_device = torch.cuda.current_device()\n",
    "print(\"GPU Model:\", torch.cuda.get_device_name(current_device))\n",
    "print(\"CUDA Version:\", torch.version.cuda)\n",
    "print(70*'-')\n",
    "\n",
    "device_properties = torch.cuda.get_device_properties(current_device)\n",
    "print(\"\\nDevice Properties:\")\n",
    "print(\"  Name:\", device_properties.name)\n",
    "print(\"  Total Memory (GB):\", device_properties.total_memory / (1024 ** 3))  # Convert bytes to GB\n",
    "print(\"  Multiprocessors:\", device_properties.multi_processor_count)\n",
    "print(\"  Compute Capability:\", device_properties.major, \".\", device_properties.minor)\n",
    "print(70*'-')"
   ]
  },
  {
   "cell_type": "markdown",
   "id": "679bf91f-a80d-4e5c-8904-8b62f10ee23c",
   "metadata": {},
   "source": [
    "### Data Access"
   ]
  },
  {
   "cell_type": "code",
   "execution_count": 12,
   "id": "6e1afbb1-4306-4ff4-9eb1-912592864acc",
   "metadata": {},
   "outputs": [],
   "source": [
    "# Function to extract the numeric value from filenames\n",
    "def numeric_sort_key(filepath):\n",
    "    # Extract numbers from the filename using a regular expression\n",
    "    match = re.search(r'\\d+', filepath)\n",
    "    # Return the integer value of the number if found, otherwise 0\n",
    "    return int(match.group()) if match else 0\n",
    "\n",
    "# Get all the image and mask paths and sort them numerically\n",
    "folder_data_train = sorted(\n",
    "    glob.glob(\"../data/train/input/*tif\"),\n",
    "    key=numeric_sort_key\n",
    ")\n",
    "folder_mask_train = sorted(\n",
    "    glob.glob(\"../data/train/labels/*tif\"),\n",
    "    key=numeric_sort_key\n",
    ")\n",
    "\n",
    "folder_data_val = sorted(\n",
    "    glob.glob(\"../data/val/input/*tif\"),\n",
    "    key=numeric_sort_key\n",
    ")\n",
    "folder_mask_val = sorted(\n",
    "    glob.glob(\"../data/val/labels/*tif\"),\n",
    "    key=numeric_sort_key\n",
    ")\n",
    "\n",
    "folder_data_test = sorted(\n",
    "    glob.glob(\"../data/test/input/*tif\"),\n",
    "    key=numeric_sort_key\n",
    ")\n",
    "folder_mask_test = sorted(\n",
    "    glob.glob(\"../data/test/labels/*tif\"),\n",
    "    key=numeric_sort_key\n",
    ")\n",
    "\n",
    "# Assign to variables\n",
    "train_image_paths = folder_data_train[:]\n",
    "val_image_paths = folder_data_val[:]\n",
    "test_image_paths = folder_data_test[:]\n",
    "\n",
    "train_mask_paths = folder_mask_train[:]\n",
    "val_mask_paths = folder_mask_val[:]\n",
    "test_mask_paths = folder_mask_test[:]\n",
    "\n"
   ]
  },
  {
   "cell_type": "code",
   "execution_count": 14,
   "id": "8bdc2df3-3526-4366-8628-87eef3253386",
   "metadata": {},
   "outputs": [
    {
     "name": "stdout",
     "output_type": "stream",
     "text": [
      "\n",
      "Control number of images by folder:\n",
      "========================================\n",
      "\t\tinput: \tlabels:\n",
      "Train\t\t201\t201\t73.90%\n",
      "Val\t\t35\t35\t12.87%\n",
      "Test\t\t36\t36\t13.24%\n",
      "========================================\n",
      "Total\t\t272\t272\n"
     ]
    }
   ],
   "source": [
    "# Check the number of train, val and test images\n",
    "print('\\nControl number of images by folder:')\n",
    "print(40*'=')\n",
    "input_total = len(folder_data_train)+len(folder_data_val)+len(folder_data_test)\n",
    "labels_total = len(folder_mask_train)+len(folder_mask_val)+len(folder_mask_test)\n",
    "print('\\t\\tinput: \\tlabels:')\n",
    "print(f'Train\\t\\t{len(folder_data_train)}\\t{len(folder_mask_train)}\\t{(len(folder_data_train)/input_total)*100:.2f}%')\n",
    "print(f'Val\\t\\t{len(folder_data_val)}\\t{len(folder_mask_val)}\\t{(len(folder_data_val)/input_total)*100:.2f}%')\n",
    "print(f'Test\\t\\t{len(folder_data_test)}\\t{len(folder_mask_test)}\\t{(len(folder_data_test)/input_total)*100:.2f}%')\n",
    "print(40*'=')\n",
    "print(f'Total\\t\\t{input_total}\\t{labels_total}')"
   ]
  },
  {
   "cell_type": "markdown",
   "id": "82c30f81-7a2c-46b4-83a8-6f4d5eedde34",
   "metadata": {},
   "source": [
    "### Custom Dataset"
   ]
  },
  {
   "cell_type": "code",
   "execution_count": 17,
   "id": "1c8bb534-3e52-42d1-a167-3927727d11ce",
   "metadata": {},
   "outputs": [],
   "source": [
    "class CustomDataset(data.Dataset):\n",
    "    def __init__(self, image_paths, target_paths=None, transform=None, band=None, device=\"cuda\"):\n",
    "        self.image_paths = image_paths\n",
    "        self.target_paths = target_paths\n",
    "        self.transform = transform\n",
    "        self.band = band  # Specify which band to use (0: R, 1: G, 2: B, 3: NIR, None: all bands)\n",
    "        self.scaler = MinMaxScaler()\n",
    "        self.device = device\n",
    "\n",
    "    def __getitem__(self, index):\n",
    "        try:\n",
    "            # Load the GeoTIFF image\n",
    "            image_path = self.image_paths[index]\n",
    "            with rasterio.open(image_path) as src:\n",
    "                if self.band is not None:\n",
    "                    # Read a specific band (1-based indexing for rasterio)\n",
    "                    band_data = src.read(self.band + 1).astype(np.float32)\n",
    "                    band_min, band_max = band_data.min(), band_data.max()\n",
    "                    band_data = (band_data - band_min) / (band_max - band_min + 1e-8)\n",
    "                    image = band_data[None, :, :]  # Add channel dimension\n",
    "                else:\n",
    "                    # Read all bands and normalize each\n",
    "                    bands = src.read().astype(np.float32)  # [Bands, H, W]\n",
    "                    image = np.zeros_like(bands, dtype=np.float32)\n",
    "                    for b in range(bands.shape[0]):\n",
    "                        band_min, band_max = bands[b].min(), bands[b].max()\n",
    "                        image[b] = (bands[b] - band_min) / (band_max - band_min + 1e-8)\n",
    "\n",
    "            # Ensure the image is a NumPy array for transformations\n",
    "            image = np.transpose(image, (1, 2, 0))  # [H, W, C] for compatibility with PIL\n",
    "            pil_image = Image.fromarray((image * 255).astype(np.uint8))  # Convert to PIL Image\n",
    "\n",
    "            # Apply transformations if specified\n",
    "            if self.transform:\n",
    "                image = self.transform(pil_image)  # Transform will handle conversion to PyTorch Tensor\n",
    "\n",
    "            # Load the mask if provided\n",
    "            if self.target_paths:\n",
    "                mask_path = self.target_paths[index]\n",
    "                with rasterio.open(mask_path) as src:\n",
    "                    mask_data = src.read(1).astype(np.uint8)  # Single-channel mask\n",
    "\n",
    "                # Resize the mask using nearest-neighbor interpolation\n",
    "                mask_image = Image.fromarray(mask_data)\n",
    "                mask_image = mask_image.resize(pil_image.size, resample=Image.NEAREST)\n",
    "                mask_data = np.array(mask_image, dtype=np.uint8)\n",
    "                mask_data = torch.tensor(mask_data[None, :, :], dtype=torch.float32)  # [1, H, W]\n",
    "            else:\n",
    "                mask_data = None\n",
    "\n",
    "            return image, mask_data\n",
    "\n",
    "        except Exception as e:\n",
    "            print(f\"Error processing index {index}: {e}\")\n",
    "            raise e\n",
    "\n",
    "    def __len__(self):\n",
    "        return len(self.image_paths)\n",
    "\n"
   ]
  },
  {
   "cell_type": "markdown",
   "id": "4d40998d-7b54-44d2-88e5-04609d550093",
   "metadata": {},
   "source": [
    "### Unitary test"
   ]
  },
  {
   "cell_type": "code",
   "execution_count": 20,
   "id": "fdc4defd-6f73-4e16-9b2c-dea98bfb0e98",
   "metadata": {},
   "outputs": [
    {
     "name": "stdout",
     "output_type": "stream",
     "text": [
      "Image shape: torch.Size([4, 256, 256]), dtype: torch.float32\n",
      "Mask shape: torch.Size([1, 256, 256]), dtype: torch.float32\n"
     ]
    }
   ],
   "source": [
    "from torchvision.transforms import ToTensor\n",
    "\n",
    "# Paths to images and masks\n",
    "image_paths = [\"../data/train/input/img(21).tif\"]\n",
    "mask_paths = [\"../data/train/labels/target(21).tif\"]\n",
    "\n",
    "# Create dataset\n",
    "dataset = CustomDataset(\n",
    "    image_paths=image_paths,\n",
    "    target_paths=mask_paths,\n",
    "    transform=ToTensor(),\n",
    "    band=None  # None to load all bands\n",
    ")\n",
    "\n",
    "# Access an item\n",
    "image, mask = dataset[0]\n",
    "print(f\"Image shape: {image.shape}, dtype: {image.dtype}\")  # Expected: [C, H, W]\n",
    "print(f\"Mask shape: {mask.shape}, dtype: {mask.dtype}\")    # Expected: [1, H, W]\n",
    "\n"
   ]
  },
  {
   "cell_type": "code",
   "execution_count": 22,
   "id": "1a9e0b5c-e1bf-4dab-975f-9270917ed4cf",
   "metadata": {},
   "outputs": [
    {
     "name": "stdout",
     "output_type": "stream",
     "text": [
      "Transformed image shape: torch.Size([4, 256, 256]), dtype: torch.float32\n",
      "Transformed mask shape: torch.Size([1, 256, 256]), dtype: torch.float32\n"
     ]
    }
   ],
   "source": [
    "# Initialize the CustomDataset objects\n",
    "use_all_bands = True\n",
    "model_band = None # 0:red, 1:green, 2:blue, 3:NIR, None:all 4 bands\n",
    "\n",
    "train_dataset = CustomDataset(train_image_paths, train_mask_paths, transform=ToTensor(), band=model_band)\n",
    "val_dataset = CustomDataset(val_image_paths, val_mask_paths, transform=ToTensor(), band=model_band)\n",
    "test_dataset = CustomDataset(test_image_paths, test_mask_paths, transform=ToTensor(), band=model_band)\n",
    "\n",
    "image, mask = train_dataset[0]  # Load the first item\n",
    "print(f\"Transformed image shape: {image.shape}, dtype: {image.dtype}\")\n",
    "print(f\"Transformed mask shape: {mask.shape}, dtype: {mask.dtype}\")"
   ]
  },
  {
   "cell_type": "markdown",
   "id": "8d7c825e-2270-4189-abd7-682d51d73192",
   "metadata": {},
   "source": [
    "---"
   ]
  },
  {
   "cell_type": "markdown",
   "id": "f80cabee-494e-4fd1-979a-f6c0da9b1cf9",
   "metadata": {},
   "source": [
    "# Transformation \n"
   ]
  },
  {
   "cell_type": "markdown",
   "id": "c962c0ab-a52e-492e-aaa6-ee830fc79011",
   "metadata": {},
   "source": [
    "## Step 1 - Unpack GeoTIFF Files"
   ]
  },
  {
   "cell_type": "code",
   "execution_count": 40,
   "id": "9c8c8dac-1367-4e04-ac3a-7d957a6c1389",
   "metadata": {},
   "outputs": [
    {
     "name": "stdout",
     "output_type": "stream",
     "text": [
      "Processing subset: train\n"
     ]
    },
    {
     "name": "stderr",
     "output_type": "stream",
     "text": [
      "100%|█████████████████████████████████████████████████████████████████████████████| 1005/1005 [00:08<00:00, 113.91it/s]\n",
      "  0%|                                                                                          | 0/402 [00:00<?, ?it/s]C:\\Users\\fpere\\AppData\\Local\\Temp\\ipykernel_8932\\3040735809.py:52: RuntimeWarning: invalid value encountered in divide\n",
      "  mask_image = Image.fromarray((mask / mask.max() * 255).astype(np.uint8))\n",
      "C:\\Users\\fpere\\AppData\\Local\\Temp\\ipykernel_8932\\3040735809.py:52: RuntimeWarning: invalid value encountered in cast\n",
      "  mask_image = Image.fromarray((mask / mask.max() * 255).astype(np.uint8))\n",
      "100%|███████████████████████████████████████████████████████████████████████████████| 402/402 [00:01<00:00, 256.74it/s]\n"
     ]
    },
    {
     "name": "stdout",
     "output_type": "stream",
     "text": [
      "Processing subset: val\n"
     ]
    },
    {
     "name": "stderr",
     "output_type": "stream",
     "text": [
      "100%|███████████████████████████████████████████████████████████████████████████████| 175/175 [00:01<00:00, 114.24it/s]\n",
      "100%|█████████████████████████████████████████████████████████████████████████████████| 70/70 [00:00<00:00, 356.28it/s]\n"
     ]
    },
    {
     "name": "stdout",
     "output_type": "stream",
     "text": [
      "Processing subset: test\n"
     ]
    },
    {
     "name": "stderr",
     "output_type": "stream",
     "text": [
      "100%|███████████████████████████████████████████████████████████████████████████████| 180/180 [00:01<00:00, 168.05it/s]\n",
      "100%|█████████████████████████████████████████████████████████████████████████████████| 72/72 [00:00<00:00, 359.17it/s]\n"
     ]
    }
   ],
   "source": [
    "\n",
    "def unpack_tiff_files(data_root):\n",
    "    \"\"\"\n",
    "    Unpacks GeoTIFF files into individual band images and binary masks,\n",
    "    following the specified folder structure.\n",
    "    \n",
    "    Args:\n",
    "        data_root (str): Path to the dataset root folder.\n",
    "    \"\"\"\n",
    "    subsets = [\"train\", \"val\", \"test\"]\n",
    "\n",
    "    for subset in subsets:\n",
    "        input_dir = os.path.join(data_root, subset, \"input\")\n",
    "        label_dir = os.path.join(data_root, subset, \"labels\")\n",
    "\n",
    "        print(f\"Processing subset: {subset}\")\n",
    "        # Process input images\n",
    "        for filename in tqdm(os.listdir(input_dir)):\n",
    "            if filename.endswith(\".tif\"):\n",
    "                input_path = os.path.join(input_dir, filename)\n",
    "                base_name, _ = os.path.splitext(filename)\n",
    "\n",
    "                with rasterio.open(input_path) as src:\n",
    "                    # Read all bands\n",
    "                    bands = src.read()\n",
    "                    if bands.shape[0] != 4:\n",
    "                        raise ValueError(f\"Expected 4 bands in {filename}, got {bands.shape[0]}\")\n",
    "\n",
    "                    # Save each band as a separate PNG\n",
    "                    band_names = ['r', 'g', 'b', 'n']\n",
    "                    for i, band_name in enumerate(band_names):\n",
    "                        output_path = os.path.join(input_dir, f\"{base_name}_{band_name}.png\")\n",
    "                        band_data = bands[i]\n",
    "                        band_image = Image.fromarray((band_data / band_data.max() * 255).astype(np.uint8))\n",
    "                        band_image.save(output_path)\n",
    "\n",
    "        # Process label masks\n",
    "        for filename in tqdm(os.listdir(label_dir)):\n",
    "            if filename.endswith(\".tif\"):\n",
    "                label_path = os.path.join(label_dir, filename)\n",
    "                base_name, _ = os.path.splitext(filename)\n",
    "\n",
    "                with rasterio.open(label_path) as src:\n",
    "                    # Read the single-band mask\n",
    "                    mask = src.read(1)  # Assuming the mask is in the first band\n",
    "                    output_path = os.path.join(label_dir, f\"{base_name}_b.png\")\n",
    "                    mask_image = Image.fromarray((mask / mask.max() * 255).astype(np.uint8))\n",
    "                    mask_image.save(output_path)\n",
    "\n",
    "# Define the dataset root path\n",
    "data_root = \"../data\"\n",
    "\n",
    "# Call the function\n",
    "unpack_tiff_files(data_root)\n"
   ]
  },
  {
   "cell_type": "markdown",
   "id": "39201bf7-a354-4575-83c0-55fb525eac8b",
   "metadata": {},
   "source": [
    "## Step 2 - Transformation phase\n",
    "### input band images -> Super Resolution | binary mask images -> Nearest Neighbor"
   ]
  },
  {
   "cell_type": "code",
   "execution_count": 28,
   "id": "8482ff10-8fd6-4ba8-8fed-11a8c6c9eacc",
   "metadata": {
    "scrolled": true
   },
   "outputs": [
    {
     "name": "stderr",
     "output_type": "stream",
     "text": [
      "Processing train inputs:   0%|                                                      | 2/1006 [00:07<1:01:13,  3.66s/it]"
     ]
    },
    {
     "name": "stdout",
     "output_type": "stream",
     "text": [
      "Success for img(100)_b.png:\n",
      "Testing 0 img(100)_b\n",
      "\n"
     ]
    },
    {
     "name": "stderr",
     "output_type": "stream",
     "text": [
      "Processing train inputs:   0%|▏                                                     | 3/1006 [00:13<1:19:37,  4.76s/it]"
     ]
    },
    {
     "name": "stdout",
     "output_type": "stream",
     "text": [
      "Success for img(100)_g.png:\n",
      "Testing 0 img(100)_g\n",
      "\n"
     ]
    },
    {
     "name": "stderr",
     "output_type": "stream",
     "text": [
      "Processing train inputs:   0%|▏                                                     | 4/1006 [00:19<1:27:38,  5.25s/it]"
     ]
    },
    {
     "name": "stdout",
     "output_type": "stream",
     "text": [
      "Success for img(100)_n.png:\n",
      "Testing 0 img(100)_n\n",
      "\n"
     ]
    },
    {
     "name": "stderr",
     "output_type": "stream",
     "text": [
      "Processing train inputs:   0%|▎                                                     | 5/1006 [00:25<1:30:58,  5.45s/it]"
     ]
    },
    {
     "name": "stdout",
     "output_type": "stream",
     "text": [
      "Success for img(100)_r.png:\n",
      "Testing 0 img(100)_r\n",
      "\n"
     ]
    },
    {
     "name": "stderr",
     "output_type": "stream",
     "text": [
      "Processing train inputs:   1%|▍                                                     | 7/1006 [00:31<1:10:02,  4.21s/it]"
     ]
    },
    {
     "name": "stdout",
     "output_type": "stream",
     "text": [
      "Success for img(1001)_b.png:\n",
      "Testing 0 img(1001)_b\n",
      "\n"
     ]
    },
    {
     "name": "stderr",
     "output_type": "stream",
     "text": [
      "Processing train inputs:   1%|▍                                                     | 8/1006 [00:37<1:17:09,  4.64s/it]"
     ]
    },
    {
     "name": "stdout",
     "output_type": "stream",
     "text": [
      "Success for img(1001)_g.png:\n",
      "Testing 0 img(1001)_g\n",
      "\n"
     ]
    },
    {
     "name": "stderr",
     "output_type": "stream",
     "text": [
      "Processing train inputs:   1%|▍                                                     | 9/1006 [00:43<1:26:11,  5.19s/it]"
     ]
    },
    {
     "name": "stdout",
     "output_type": "stream",
     "text": [
      "Success for img(1001)_n.png:\n",
      "Testing 0 img(1001)_n\n",
      "\n"
     ]
    },
    {
     "name": "stderr",
     "output_type": "stream",
     "text": [
      "Processing train inputs:   1%|▌                                                    | 10/1006 [00:49<1:29:23,  5.38s/it]"
     ]
    },
    {
     "name": "stdout",
     "output_type": "stream",
     "text": [
      "Success for img(1001)_r.png:\n",
      "Testing 0 img(1001)_r\n",
      "\n"
     ]
    },
    {
     "name": "stderr",
     "output_type": "stream",
     "text": [
      "Processing train inputs:   1%|▋                                                    | 12/1006 [00:55<1:11:10,  4.30s/it]"
     ]
    },
    {
     "name": "stdout",
     "output_type": "stream",
     "text": [
      "Success for img(1002)_b.png:\n",
      "Testing 0 img(1002)_b\n",
      "\n"
     ]
    },
    {
     "name": "stderr",
     "output_type": "stream",
     "text": [
      "Processing train inputs:   1%|▋                                                    | 13/1006 [01:01<1:18:19,  4.73s/it]"
     ]
    },
    {
     "name": "stdout",
     "output_type": "stream",
     "text": [
      "Success for img(1002)_g.png:\n",
      "Testing 0 img(1002)_g\n",
      "\n"
     ]
    },
    {
     "name": "stderr",
     "output_type": "stream",
     "text": [
      "Processing train inputs:   1%|▋                                                    | 14/1006 [01:07<1:23:39,  5.06s/it]"
     ]
    },
    {
     "name": "stdout",
     "output_type": "stream",
     "text": [
      "Success for img(1002)_n.png:\n",
      "Testing 0 img(1002)_n\n",
      "\n"
     ]
    },
    {
     "name": "stderr",
     "output_type": "stream",
     "text": [
      "Processing train inputs:   1%|▊                                                    | 15/1006 [01:13<1:28:09,  5.34s/it]"
     ]
    },
    {
     "name": "stdout",
     "output_type": "stream",
     "text": [
      "Success for img(1002)_r.png:\n",
      "Testing 0 img(1002)_r\n",
      "\n"
     ]
    },
    {
     "name": "stderr",
     "output_type": "stream",
     "text": [
      "Processing train inputs:   2%|▉                                                    | 17/1006 [01:19<1:11:32,  4.34s/it]"
     ]
    },
    {
     "name": "stdout",
     "output_type": "stream",
     "text": [
      "Success for img(1003)_b.png:\n",
      "Testing 0 img(1003)_b\n",
      "\n"
     ]
    },
    {
     "name": "stderr",
     "output_type": "stream",
     "text": [
      "Processing train inputs:   2%|▉                                                    | 18/1006 [01:25<1:17:22,  4.70s/it]"
     ]
    },
    {
     "name": "stdout",
     "output_type": "stream",
     "text": [
      "Success for img(1003)_g.png:\n",
      "Testing 0 img(1003)_g\n",
      "\n"
     ]
    },
    {
     "name": "stderr",
     "output_type": "stream",
     "text": [
      "Processing train inputs:   2%|█                                                    | 19/1006 [01:31<1:22:16,  5.00s/it]"
     ]
    },
    {
     "name": "stdout",
     "output_type": "stream",
     "text": [
      "Success for img(1003)_n.png:\n",
      "Testing 0 img(1003)_n\n",
      "\n"
     ]
    },
    {
     "name": "stderr",
     "output_type": "stream",
     "text": [
      "Processing train inputs:   2%|█                                                    | 20/1006 [01:37<1:26:09,  5.24s/it]"
     ]
    },
    {
     "name": "stdout",
     "output_type": "stream",
     "text": [
      "Success for img(1003)_r.png:\n",
      "Testing 0 img(1003)_r\n",
      "\n"
     ]
    },
    {
     "name": "stderr",
     "output_type": "stream",
     "text": [
      "Processing train inputs:   2%|█▏                                                   | 22/1006 [01:43<1:09:46,  4.25s/it]"
     ]
    },
    {
     "name": "stdout",
     "output_type": "stream",
     "text": [
      "Success for img(1004)_b.png:\n",
      "Testing 0 img(1004)_b\n",
      "\n"
     ]
    },
    {
     "name": "stderr",
     "output_type": "stream",
     "text": [
      "Processing train inputs:   2%|█▏                                                   | 23/1006 [01:49<1:15:45,  4.62s/it]"
     ]
    },
    {
     "name": "stdout",
     "output_type": "stream",
     "text": [
      "Success for img(1004)_g.png:\n",
      "Testing 0 img(1004)_g\n",
      "\n"
     ]
    },
    {
     "name": "stderr",
     "output_type": "stream",
     "text": [
      "Processing train inputs:   2%|█▎                                                   | 24/1006 [01:55<1:20:37,  4.93s/it]"
     ]
    },
    {
     "name": "stdout",
     "output_type": "stream",
     "text": [
      "Success for img(1004)_n.png:\n",
      "Testing 0 img(1004)_n\n",
      "\n"
     ]
    },
    {
     "name": "stderr",
     "output_type": "stream",
     "text": [
      "Processing train inputs:   2%|█▎                                                   | 25/1006 [02:01<1:24:45,  5.18s/it]"
     ]
    },
    {
     "name": "stdout",
     "output_type": "stream",
     "text": [
      "Success for img(1004)_r.png:\n",
      "Testing 0 img(1004)_r\n",
      "\n"
     ]
    },
    {
     "name": "stderr",
     "output_type": "stream",
     "text": [
      "Processing train inputs:   3%|█▍                                                   | 27/1006 [02:06<1:08:42,  4.21s/it]"
     ]
    },
    {
     "name": "stdout",
     "output_type": "stream",
     "text": [
      "Success for img(1005)_b.png:\n",
      "Testing 0 img(1005)_b\n",
      "\n"
     ]
    },
    {
     "name": "stderr",
     "output_type": "stream",
     "text": [
      "Processing train inputs:   3%|█▍                                                   | 28/1006 [02:12<1:14:53,  4.59s/it]"
     ]
    },
    {
     "name": "stdout",
     "output_type": "stream",
     "text": [
      "Success for img(1005)_g.png:\n",
      "Testing 0 img(1005)_g\n",
      "\n"
     ]
    },
    {
     "name": "stderr",
     "output_type": "stream",
     "text": [
      "Processing train inputs:   3%|█▌                                                   | 29/1006 [02:18<1:19:52,  4.91s/it]"
     ]
    },
    {
     "name": "stdout",
     "output_type": "stream",
     "text": [
      "Success for img(1005)_n.png:\n",
      "Testing 0 img(1005)_n\n",
      "\n"
     ]
    },
    {
     "name": "stderr",
     "output_type": "stream",
     "text": [
      "Processing train inputs:   3%|█▌                                                   | 30/1006 [02:24<1:24:31,  5.20s/it]"
     ]
    },
    {
     "name": "stdout",
     "output_type": "stream",
     "text": [
      "Success for img(1005)_r.png:\n",
      "Testing 0 img(1005)_r\n",
      "\n"
     ]
    },
    {
     "name": "stderr",
     "output_type": "stream",
     "text": [
      "Processing train inputs:   3%|█▋                                                   | 32/1006 [02:30<1:09:24,  4.28s/it]"
     ]
    },
    {
     "name": "stdout",
     "output_type": "stream",
     "text": [
      "Success for img(1006)_b.png:\n",
      "Testing 0 img(1006)_b\n",
      "\n"
     ]
    },
    {
     "name": "stderr",
     "output_type": "stream",
     "text": [
      "Processing train inputs:   3%|█▋                                                   | 33/1006 [02:39<1:24:56,  5.24s/it]"
     ]
    },
    {
     "name": "stdout",
     "output_type": "stream",
     "text": [
      "Success for img(1006)_g.png:\n",
      "Testing 0 img(1006)_g\n",
      "\n"
     ]
    },
    {
     "name": "stderr",
     "output_type": "stream",
     "text": [
      "Processing train inputs:   3%|█▊                                                   | 34/1006 [02:46<1:31:57,  5.68s/it]"
     ]
    },
    {
     "name": "stdout",
     "output_type": "stream",
     "text": [
      "Success for img(1006)_n.png:\n",
      "Testing 0 img(1006)_n\n",
      "\n"
     ]
    },
    {
     "name": "stderr",
     "output_type": "stream",
     "text": [
      "Processing train inputs:   3%|█▊                                                   | 35/1006 [02:52<1:34:21,  5.83s/it]"
     ]
    },
    {
     "name": "stdout",
     "output_type": "stream",
     "text": [
      "Success for img(1006)_r.png:\n",
      "Testing 0 img(1006)_r\n",
      "\n"
     ]
    },
    {
     "name": "stderr",
     "output_type": "stream",
     "text": [
      "Processing train inputs:   4%|█▉                                                   | 37/1006 [02:58<1:15:55,  4.70s/it]"
     ]
    },
    {
     "name": "stdout",
     "output_type": "stream",
     "text": [
      "Success for img(1007)_b.png:\n",
      "Testing 0 img(1007)_b\n",
      "\n"
     ]
    },
    {
     "name": "stderr",
     "output_type": "stream",
     "text": [
      "Processing train inputs:   4%|██                                                   | 38/1006 [03:05<1:24:29,  5.24s/it]"
     ]
    },
    {
     "name": "stdout",
     "output_type": "stream",
     "text": [
      "Success for img(1007)_g.png:\n",
      "Testing 0 img(1007)_g\n",
      "\n"
     ]
    },
    {
     "name": "stderr",
     "output_type": "stream",
     "text": [
      "Processing train inputs:   4%|██                                                   | 39/1006 [03:12<1:29:25,  5.55s/it]"
     ]
    },
    {
     "name": "stdout",
     "output_type": "stream",
     "text": [
      "Success for img(1007)_n.png:\n",
      "Testing 0 img(1007)_n\n",
      "\n"
     ]
    },
    {
     "name": "stderr",
     "output_type": "stream",
     "text": [
      "Processing train inputs:   4%|██                                                   | 40/1006 [03:18<1:32:46,  5.76s/it]"
     ]
    },
    {
     "name": "stdout",
     "output_type": "stream",
     "text": [
      "Success for img(1007)_r.png:\n",
      "Testing 0 img(1007)_r\n",
      "\n"
     ]
    },
    {
     "name": "stderr",
     "output_type": "stream",
     "text": [
      "Processing train inputs:   4%|██▏                                                  | 42/1006 [03:24<1:14:36,  4.64s/it]"
     ]
    },
    {
     "name": "stdout",
     "output_type": "stream",
     "text": [
      "Success for img(1008)_b.png:\n",
      "Testing 0 img(1008)_b\n",
      "\n"
     ]
    },
    {
     "name": "stderr",
     "output_type": "stream",
     "text": [
      "Processing train inputs:   4%|██▎                                                  | 43/1006 [03:30<1:19:49,  4.97s/it]"
     ]
    },
    {
     "name": "stdout",
     "output_type": "stream",
     "text": [
      "Success for img(1008)_g.png:\n",
      "Testing 0 img(1008)_g\n",
      "\n"
     ]
    },
    {
     "name": "stderr",
     "output_type": "stream",
     "text": [
      "Processing train inputs:   4%|██▎                                                  | 44/1006 [03:37<1:24:12,  5.25s/it]"
     ]
    },
    {
     "name": "stdout",
     "output_type": "stream",
     "text": [
      "Success for img(1008)_n.png:\n",
      "Testing 0 img(1008)_n\n",
      "\n"
     ]
    },
    {
     "name": "stderr",
     "output_type": "stream",
     "text": [
      "Processing train inputs:   4%|██▎                                                  | 45/1006 [03:44<1:31:32,  5.72s/it]"
     ]
    },
    {
     "name": "stdout",
     "output_type": "stream",
     "text": [
      "Success for img(1008)_r.png:\n",
      "Testing 0 img(1008)_r\n",
      "\n"
     ]
    },
    {
     "name": "stderr",
     "output_type": "stream",
     "text": [
      "Processing train inputs:   5%|██▍                                                  | 47/1006 [03:50<1:12:51,  4.56s/it]"
     ]
    },
    {
     "name": "stdout",
     "output_type": "stream",
     "text": [
      "Success for img(1009)_b.png:\n",
      "Testing 0 img(1009)_b\n",
      "\n"
     ]
    },
    {
     "name": "stderr",
     "output_type": "stream",
     "text": [
      "Processing train inputs:   5%|██▌                                                  | 48/1006 [03:56<1:18:39,  4.93s/it]"
     ]
    },
    {
     "name": "stdout",
     "output_type": "stream",
     "text": [
      "Success for img(1009)_g.png:\n",
      "Testing 0 img(1009)_g\n",
      "\n"
     ]
    },
    {
     "name": "stderr",
     "output_type": "stream",
     "text": [
      "Processing train inputs:   5%|██▌                                                  | 49/1006 [04:02<1:24:32,  5.30s/it]"
     ]
    },
    {
     "name": "stdout",
     "output_type": "stream",
     "text": [
      "Success for img(1009)_n.png:\n",
      "Testing 0 img(1009)_n\n",
      "\n"
     ]
    },
    {
     "name": "stderr",
     "output_type": "stream",
     "text": [
      "Processing train inputs:   5%|██▋                                                  | 50/1006 [04:08<1:27:49,  5.51s/it]"
     ]
    },
    {
     "name": "stdout",
     "output_type": "stream",
     "text": [
      "Success for img(1009)_r.png:\n",
      "Testing 0 img(1009)_r\n",
      "\n"
     ]
    },
    {
     "name": "stderr",
     "output_type": "stream",
     "text": [
      "Processing train inputs:   5%|██▋                                                  | 52/1006 [04:14<1:10:23,  4.43s/it]"
     ]
    },
    {
     "name": "stdout",
     "output_type": "stream",
     "text": [
      "Success for img(101)_b.png:\n",
      "Testing 0 img(101)_b\n",
      "\n"
     ]
    },
    {
     "name": "stderr",
     "output_type": "stream",
     "text": [
      "Processing train inputs:   5%|██▊                                                  | 53/1006 [04:20<1:16:24,  4.81s/it]"
     ]
    },
    {
     "name": "stdout",
     "output_type": "stream",
     "text": [
      "Success for img(101)_g.png:\n",
      "Testing 0 img(101)_g\n",
      "\n"
     ]
    },
    {
     "name": "stderr",
     "output_type": "stream",
     "text": [
      "Processing train inputs:   5%|██▊                                                  | 54/1006 [04:26<1:21:01,  5.11s/it]"
     ]
    },
    {
     "name": "stdout",
     "output_type": "stream",
     "text": [
      "Success for img(101)_n.png:\n",
      "Testing 0 img(101)_n\n",
      "\n"
     ]
    },
    {
     "name": "stderr",
     "output_type": "stream",
     "text": [
      "Processing train inputs:   5%|██▉                                                  | 55/1006 [04:33<1:25:53,  5.42s/it]"
     ]
    },
    {
     "name": "stdout",
     "output_type": "stream",
     "text": [
      "Success for img(101)_r.png:\n",
      "Testing 0 img(101)_r\n",
      "\n"
     ]
    },
    {
     "name": "stderr",
     "output_type": "stream",
     "text": [
      "Processing train inputs:   6%|███                                                  | 57/1006 [04:39<1:09:31,  4.40s/it]"
     ]
    },
    {
     "name": "stdout",
     "output_type": "stream",
     "text": [
      "Success for img(1010)_b.png:\n",
      "Testing 0 img(1010)_b\n",
      "\n"
     ]
    },
    {
     "name": "stderr",
     "output_type": "stream",
     "text": [
      "Processing train inputs:   6%|███                                                  | 58/1006 [04:45<1:15:11,  4.76s/it]"
     ]
    },
    {
     "name": "stdout",
     "output_type": "stream",
     "text": [
      "Success for img(1010)_g.png:\n",
      "Testing 0 img(1010)_g\n",
      "\n"
     ]
    },
    {
     "name": "stderr",
     "output_type": "stream",
     "text": [
      "Processing train inputs:   6%|███                                                  | 59/1006 [04:50<1:19:39,  5.05s/it]"
     ]
    },
    {
     "name": "stdout",
     "output_type": "stream",
     "text": [
      "Success for img(1010)_n.png:\n",
      "Testing 0 img(1010)_n\n",
      "\n"
     ]
    },
    {
     "name": "stderr",
     "output_type": "stream",
     "text": [
      "Processing train inputs:   6%|███▏                                                 | 60/1006 [04:56<1:22:55,  5.26s/it]"
     ]
    },
    {
     "name": "stdout",
     "output_type": "stream",
     "text": [
      "Success for img(1010)_r.png:\n",
      "Testing 0 img(1010)_r\n",
      "\n"
     ]
    },
    {
     "name": "stderr",
     "output_type": "stream",
     "text": [
      "Processing train inputs:   6%|███▎                                                 | 62/1006 [05:02<1:07:11,  4.27s/it]"
     ]
    },
    {
     "name": "stdout",
     "output_type": "stream",
     "text": [
      "Success for img(1011)_b.png:\n",
      "Testing 0 img(1011)_b\n",
      "\n"
     ]
    },
    {
     "name": "stderr",
     "output_type": "stream",
     "text": [
      "Processing train inputs:   6%|███▎                                                 | 63/1006 [05:08<1:13:14,  4.66s/it]"
     ]
    },
    {
     "name": "stdout",
     "output_type": "stream",
     "text": [
      "Success for img(1011)_g.png:\n",
      "Testing 0 img(1011)_g\n",
      "\n"
     ]
    },
    {
     "name": "stderr",
     "output_type": "stream",
     "text": [
      "Processing train inputs:   6%|███▎                                                 | 64/1006 [05:14<1:17:56,  4.96s/it]"
     ]
    },
    {
     "name": "stdout",
     "output_type": "stream",
     "text": [
      "Success for img(1011)_n.png:\n",
      "Testing 0 img(1011)_n\n",
      "\n"
     ]
    },
    {
     "name": "stderr",
     "output_type": "stream",
     "text": [
      "Processing train inputs:   6%|███▍                                                 | 65/1006 [05:20<1:21:48,  5.22s/it]"
     ]
    },
    {
     "name": "stdout",
     "output_type": "stream",
     "text": [
      "Success for img(1011)_r.png:\n",
      "Testing 0 img(1011)_r\n",
      "\n"
     ]
    },
    {
     "name": "stderr",
     "output_type": "stream",
     "text": [
      "Processing train inputs:   7%|███▌                                                 | 67/1006 [05:26<1:06:09,  4.23s/it]"
     ]
    },
    {
     "name": "stdout",
     "output_type": "stream",
     "text": [
      "Success for img(1012)_b.png:\n",
      "Testing 0 img(1012)_b\n",
      "\n"
     ]
    },
    {
     "name": "stderr",
     "output_type": "stream",
     "text": [
      "Processing train inputs:   7%|███▌                                                 | 68/1006 [05:32<1:12:37,  4.65s/it]"
     ]
    },
    {
     "name": "stdout",
     "output_type": "stream",
     "text": [
      "Success for img(1012)_g.png:\n",
      "Testing 0 img(1012)_g\n",
      "\n"
     ]
    },
    {
     "name": "stderr",
     "output_type": "stream",
     "text": [
      "Processing train inputs:   7%|███▋                                                 | 69/1006 [05:38<1:17:39,  4.97s/it]"
     ]
    },
    {
     "name": "stdout",
     "output_type": "stream",
     "text": [
      "Success for img(1012)_n.png:\n",
      "Testing 0 img(1012)_n\n",
      "\n"
     ]
    },
    {
     "name": "stderr",
     "output_type": "stream",
     "text": [
      "Processing train inputs:   7%|███▋                                                 | 70/1006 [05:44<1:21:32,  5.23s/it]"
     ]
    },
    {
     "name": "stdout",
     "output_type": "stream",
     "text": [
      "Success for img(1012)_r.png:\n",
      "Testing 0 img(1012)_r\n",
      "\n"
     ]
    },
    {
     "name": "stderr",
     "output_type": "stream",
     "text": [
      "Processing train inputs:   7%|███▊                                                 | 72/1006 [05:50<1:05:59,  4.24s/it]"
     ]
    },
    {
     "name": "stdout",
     "output_type": "stream",
     "text": [
      "Success for img(1013)_b.png:\n",
      "Testing 0 img(1013)_b\n",
      "\n"
     ]
    },
    {
     "name": "stderr",
     "output_type": "stream",
     "text": [
      "Processing train inputs:   7%|███▊                                                 | 73/1006 [05:55<1:11:54,  4.62s/it]"
     ]
    },
    {
     "name": "stdout",
     "output_type": "stream",
     "text": [
      "Success for img(1013)_g.png:\n",
      "Testing 0 img(1013)_g\n",
      "\n"
     ]
    },
    {
     "name": "stderr",
     "output_type": "stream",
     "text": [
      "Processing train inputs:   7%|███▉                                                 | 74/1006 [06:01<1:16:41,  4.94s/it]"
     ]
    },
    {
     "name": "stdout",
     "output_type": "stream",
     "text": [
      "Success for img(1013)_n.png:\n",
      "Testing 0 img(1013)_n\n",
      "\n"
     ]
    },
    {
     "name": "stderr",
     "output_type": "stream",
     "text": [
      "Processing train inputs:   7%|███▉                                                 | 75/1006 [06:07<1:20:17,  5.17s/it]"
     ]
    },
    {
     "name": "stdout",
     "output_type": "stream",
     "text": [
      "Success for img(1013)_r.png:\n",
      "Testing 0 img(1013)_r\n",
      "\n"
     ]
    },
    {
     "name": "stderr",
     "output_type": "stream",
     "text": [
      "Processing train inputs:   8%|████                                                 | 77/1006 [06:13<1:05:45,  4.25s/it]"
     ]
    },
    {
     "name": "stdout",
     "output_type": "stream",
     "text": [
      "Success for img(1014)_b.png:\n",
      "Testing 0 img(1014)_b\n",
      "\n"
     ]
    },
    {
     "name": "stderr",
     "output_type": "stream",
     "text": [
      "Processing train inputs:   8%|████                                                 | 78/1006 [06:19<1:11:48,  4.64s/it]"
     ]
    },
    {
     "name": "stdout",
     "output_type": "stream",
     "text": [
      "Success for img(1014)_g.png:\n",
      "Testing 0 img(1014)_g\n",
      "\n"
     ]
    },
    {
     "name": "stderr",
     "output_type": "stream",
     "text": [
      "Processing train inputs:   8%|████▏                                                | 79/1006 [06:25<1:16:32,  4.95s/it]"
     ]
    },
    {
     "name": "stdout",
     "output_type": "stream",
     "text": [
      "Success for img(1014)_n.png:\n",
      "Testing 0 img(1014)_n\n",
      "\n"
     ]
    },
    {
     "name": "stderr",
     "output_type": "stream",
     "text": [
      "Processing train inputs:   8%|████▏                                                | 80/1006 [06:31<1:20:23,  5.21s/it]"
     ]
    },
    {
     "name": "stdout",
     "output_type": "stream",
     "text": [
      "Success for img(1014)_r.png:\n",
      "Testing 0 img(1014)_r\n",
      "\n"
     ]
    },
    {
     "name": "stderr",
     "output_type": "stream",
     "text": [
      "Processing train inputs:   8%|████▎                                                | 82/1006 [06:37<1:04:57,  4.22s/it]"
     ]
    },
    {
     "name": "stdout",
     "output_type": "stream",
     "text": [
      "Success for img(1015)_b.png:\n",
      "Testing 0 img(1015)_b\n",
      "\n"
     ]
    },
    {
     "name": "stderr",
     "output_type": "stream",
     "text": [
      "Processing train inputs:   8%|████▎                                                | 83/1006 [06:43<1:12:50,  4.74s/it]"
     ]
    },
    {
     "name": "stdout",
     "output_type": "stream",
     "text": [
      "Success for img(1015)_g.png:\n",
      "Testing 0 img(1015)_g\n",
      "\n"
     ]
    },
    {
     "name": "stderr",
     "output_type": "stream",
     "text": [
      "Processing train inputs:   8%|████▍                                                | 84/1006 [06:49<1:17:14,  5.03s/it]"
     ]
    },
    {
     "name": "stdout",
     "output_type": "stream",
     "text": [
      "Success for img(1015)_n.png:\n",
      "Testing 0 img(1015)_n\n",
      "\n"
     ]
    },
    {
     "name": "stderr",
     "output_type": "stream",
     "text": [
      "Processing train inputs:   8%|████▍                                                | 85/1006 [06:55<1:20:35,  5.25s/it]"
     ]
    },
    {
     "name": "stdout",
     "output_type": "stream",
     "text": [
      "Success for img(1015)_r.png:\n",
      "Testing 0 img(1015)_r\n",
      "\n"
     ]
    },
    {
     "name": "stderr",
     "output_type": "stream",
     "text": [
      "Processing train inputs:   9%|████▌                                                | 87/1006 [07:01<1:05:05,  4.25s/it]"
     ]
    },
    {
     "name": "stdout",
     "output_type": "stream",
     "text": [
      "Success for img(1016)_b.png:\n",
      "Testing 0 img(1016)_b\n",
      "\n"
     ]
    },
    {
     "name": "stderr",
     "output_type": "stream",
     "text": [
      "Processing train inputs:   9%|████▋                                                | 88/1006 [07:07<1:11:01,  4.64s/it]"
     ]
    },
    {
     "name": "stdout",
     "output_type": "stream",
     "text": [
      "Success for img(1016)_g.png:\n",
      "Testing 0 img(1016)_g\n",
      "\n"
     ]
    },
    {
     "name": "stderr",
     "output_type": "stream",
     "text": [
      "Processing train inputs:   9%|████▋                                                | 89/1006 [07:13<1:16:20,  5.00s/it]"
     ]
    },
    {
     "name": "stdout",
     "output_type": "stream",
     "text": [
      "Success for img(1016)_n.png:\n",
      "Testing 0 img(1016)_n\n",
      "\n"
     ]
    },
    {
     "name": "stderr",
     "output_type": "stream",
     "text": [
      "Processing train inputs:   9%|████▋                                                | 90/1006 [07:19<1:20:06,  5.25s/it]"
     ]
    },
    {
     "name": "stdout",
     "output_type": "stream",
     "text": [
      "Success for img(1016)_r.png:\n",
      "Testing 0 img(1016)_r\n",
      "\n"
     ]
    },
    {
     "name": "stderr",
     "output_type": "stream",
     "text": [
      "Processing train inputs:   9%|████▊                                                | 92/1006 [07:25<1:04:47,  4.25s/it]"
     ]
    },
    {
     "name": "stdout",
     "output_type": "stream",
     "text": [
      "Success for img(1017)_b.png:\n",
      "Testing 0 img(1017)_b\n",
      "\n"
     ]
    },
    {
     "name": "stderr",
     "output_type": "stream",
     "text": [
      "Processing train inputs:   9%|████▉                                                | 93/1006 [07:30<1:10:24,  4.63s/it]"
     ]
    },
    {
     "name": "stdout",
     "output_type": "stream",
     "text": [
      "Success for img(1017)_g.png:\n",
      "Testing 0 img(1017)_g\n",
      "\n"
     ]
    },
    {
     "name": "stderr",
     "output_type": "stream",
     "text": [
      "Processing train inputs:   9%|████▉                                                | 94/1006 [07:36<1:15:03,  4.94s/it]"
     ]
    },
    {
     "name": "stdout",
     "output_type": "stream",
     "text": [
      "Success for img(1017)_n.png:\n",
      "Testing 0 img(1017)_n\n",
      "\n"
     ]
    },
    {
     "name": "stderr",
     "output_type": "stream",
     "text": [
      "Processing train inputs:   9%|█████                                                | 95/1006 [07:42<1:18:54,  5.20s/it]"
     ]
    },
    {
     "name": "stdout",
     "output_type": "stream",
     "text": [
      "Success for img(1017)_r.png:\n",
      "Testing 0 img(1017)_r\n",
      "\n"
     ]
    },
    {
     "name": "stderr",
     "output_type": "stream",
     "text": [
      "Processing train inputs:  10%|█████                                                | 97/1006 [07:48<1:04:08,  4.23s/it]"
     ]
    },
    {
     "name": "stdout",
     "output_type": "stream",
     "text": [
      "Success for img(1018)_b.png:\n",
      "Testing 0 img(1018)_b\n",
      "\n"
     ]
    },
    {
     "name": "stderr",
     "output_type": "stream",
     "text": [
      "Processing train inputs:  10%|█████▏                                               | 98/1006 [07:54<1:11:03,  4.70s/it]"
     ]
    },
    {
     "name": "stdout",
     "output_type": "stream",
     "text": [
      "Success for img(1018)_g.png:\n",
      "Testing 0 img(1018)_g\n",
      "\n"
     ]
    },
    {
     "name": "stderr",
     "output_type": "stream",
     "text": [
      "Processing train inputs:  10%|█████▏                                               | 99/1006 [08:00<1:15:31,  5.00s/it]"
     ]
    },
    {
     "name": "stdout",
     "output_type": "stream",
     "text": [
      "Success for img(1018)_n.png:\n",
      "Testing 0 img(1018)_n\n",
      "\n"
     ]
    },
    {
     "name": "stderr",
     "output_type": "stream",
     "text": [
      "Processing train inputs:  10%|█████▏                                              | 100/1006 [08:06<1:19:02,  5.23s/it]"
     ]
    },
    {
     "name": "stdout",
     "output_type": "stream",
     "text": [
      "Success for img(1018)_r.png:\n",
      "Testing 0 img(1018)_r\n",
      "\n"
     ]
    },
    {
     "name": "stderr",
     "output_type": "stream",
     "text": [
      "Processing train inputs:  10%|█████▎                                              | 102/1006 [08:12<1:04:01,  4.25s/it]"
     ]
    },
    {
     "name": "stdout",
     "output_type": "stream",
     "text": [
      "Success for img(1019)_b.png:\n",
      "Testing 0 img(1019)_b\n",
      "\n"
     ]
    },
    {
     "name": "stderr",
     "output_type": "stream",
     "text": [
      "Processing train inputs:  10%|█████▎                                              | 103/1006 [08:18<1:09:49,  4.64s/it]"
     ]
    },
    {
     "name": "stdout",
     "output_type": "stream",
     "text": [
      "Success for img(1019)_g.png:\n",
      "Testing 0 img(1019)_g\n",
      "\n"
     ]
    },
    {
     "name": "stderr",
     "output_type": "stream",
     "text": [
      "Processing train inputs:  10%|█████▍                                              | 104/1006 [08:24<1:14:29,  4.95s/it]"
     ]
    },
    {
     "name": "stdout",
     "output_type": "stream",
     "text": [
      "Success for img(1019)_n.png:\n",
      "Testing 0 img(1019)_n\n",
      "\n"
     ]
    },
    {
     "name": "stderr",
     "output_type": "stream",
     "text": [
      "Processing train inputs:  10%|█████▍                                              | 105/1006 [08:30<1:18:31,  5.23s/it]"
     ]
    },
    {
     "name": "stdout",
     "output_type": "stream",
     "text": [
      "Success for img(1019)_r.png:\n",
      "Testing 0 img(1019)_r\n",
      "\n"
     ]
    },
    {
     "name": "stderr",
     "output_type": "stream",
     "text": [
      "Processing train inputs:  11%|█████▌                                              | 107/1006 [08:36<1:04:38,  4.31s/it]"
     ]
    },
    {
     "name": "stdout",
     "output_type": "stream",
     "text": [
      "Success for img(102)_b.png:\n",
      "Testing 0 img(102)_b\n",
      "\n"
     ]
    },
    {
     "name": "stderr",
     "output_type": "stream",
     "text": [
      "Processing train inputs:  11%|█████▌                                              | 108/1006 [08:43<1:14:04,  4.95s/it]"
     ]
    },
    {
     "name": "stdout",
     "output_type": "stream",
     "text": [
      "Success for img(102)_g.png:\n",
      "Testing 0 img(102)_g\n",
      "\n"
     ]
    },
    {
     "name": "stderr",
     "output_type": "stream",
     "text": [
      "Processing train inputs:  11%|█████▋                                              | 109/1006 [08:49<1:17:39,  5.19s/it]"
     ]
    },
    {
     "name": "stdout",
     "output_type": "stream",
     "text": [
      "Success for img(102)_n.png:\n",
      "Testing 0 img(102)_n\n",
      "\n"
     ]
    },
    {
     "name": "stderr",
     "output_type": "stream",
     "text": [
      "Processing train inputs:  11%|█████▋                                              | 110/1006 [08:55<1:20:17,  5.38s/it]"
     ]
    },
    {
     "name": "stdout",
     "output_type": "stream",
     "text": [
      "Success for img(102)_r.png:\n",
      "Testing 0 img(102)_r\n",
      "\n"
     ]
    },
    {
     "name": "stderr",
     "output_type": "stream",
     "text": [
      "Processing train inputs:  11%|█████▊                                              | 112/1006 [09:01<1:04:59,  4.36s/it]"
     ]
    },
    {
     "name": "stdout",
     "output_type": "stream",
     "text": [
      "Success for img(1020)_b.png:\n",
      "Testing 0 img(1020)_b\n",
      "\n"
     ]
    },
    {
     "name": "stderr",
     "output_type": "stream",
     "text": [
      "Processing train inputs:  11%|█████▊                                              | 113/1006 [09:08<1:13:25,  4.93s/it]"
     ]
    },
    {
     "name": "stdout",
     "output_type": "stream",
     "text": [
      "Success for img(1020)_g.png:\n",
      "Testing 0 img(1020)_g\n",
      "\n"
     ]
    },
    {
     "name": "stderr",
     "output_type": "stream",
     "text": [
      "Processing train inputs:  11%|█████▉                                              | 114/1006 [09:13<1:16:51,  5.17s/it]"
     ]
    },
    {
     "name": "stdout",
     "output_type": "stream",
     "text": [
      "Success for img(1020)_n.png:\n",
      "Testing 0 img(1020)_n\n",
      "\n"
     ]
    },
    {
     "name": "stderr",
     "output_type": "stream",
     "text": [
      "Processing train inputs:  11%|█████▉                                              | 115/1006 [09:19<1:19:29,  5.35s/it]"
     ]
    },
    {
     "name": "stdout",
     "output_type": "stream",
     "text": [
      "Success for img(1020)_r.png:\n",
      "Testing 0 img(1020)_r\n",
      "\n"
     ]
    },
    {
     "name": "stderr",
     "output_type": "stream",
     "text": [
      "Processing train inputs:  12%|██████                                              | 117/1006 [09:25<1:03:44,  4.30s/it]"
     ]
    },
    {
     "name": "stdout",
     "output_type": "stream",
     "text": [
      "Success for img(1021)_b.png:\n",
      "Testing 0 img(1021)_b\n",
      "\n"
     ]
    },
    {
     "name": "stderr",
     "output_type": "stream",
     "text": [
      "Processing train inputs:  12%|██████                                              | 118/1006 [09:31<1:09:48,  4.72s/it]"
     ]
    },
    {
     "name": "stdout",
     "output_type": "stream",
     "text": [
      "Success for img(1021)_g.png:\n",
      "Testing 0 img(1021)_g\n",
      "\n"
     ]
    },
    {
     "name": "stderr",
     "output_type": "stream",
     "text": [
      "Processing train inputs:  12%|██████▏                                             | 119/1006 [09:37<1:14:14,  5.02s/it]"
     ]
    },
    {
     "name": "stdout",
     "output_type": "stream",
     "text": [
      "Success for img(1021)_n.png:\n",
      "Testing 0 img(1021)_n\n",
      "\n"
     ]
    },
    {
     "name": "stderr",
     "output_type": "stream",
     "text": [
      "Processing train inputs:  12%|██████▏                                             | 120/1006 [09:43<1:17:23,  5.24s/it]"
     ]
    },
    {
     "name": "stdout",
     "output_type": "stream",
     "text": [
      "Success for img(1021)_r.png:\n",
      "Testing 0 img(1021)_r\n",
      "\n"
     ]
    },
    {
     "name": "stderr",
     "output_type": "stream",
     "text": [
      "Processing train inputs:  12%|██████▎                                             | 122/1006 [09:49<1:02:36,  4.25s/it]"
     ]
    },
    {
     "name": "stdout",
     "output_type": "stream",
     "text": [
      "Success for img(1022)_b.png:\n",
      "Testing 0 img(1022)_b\n",
      "\n"
     ]
    },
    {
     "name": "stderr",
     "output_type": "stream",
     "text": [
      "Processing train inputs:  12%|██████▎                                             | 123/1006 [09:55<1:08:09,  4.63s/it]"
     ]
    },
    {
     "name": "stdout",
     "output_type": "stream",
     "text": [
      "Success for img(1022)_g.png:\n",
      "Testing 0 img(1022)_g\n",
      "\n"
     ]
    },
    {
     "name": "stderr",
     "output_type": "stream",
     "text": [
      "Processing train inputs:  12%|██████▍                                             | 124/1006 [10:01<1:12:42,  4.95s/it]"
     ]
    },
    {
     "name": "stdout",
     "output_type": "stream",
     "text": [
      "Success for img(1022)_n.png:\n",
      "Testing 0 img(1022)_n\n",
      "\n"
     ]
    },
    {
     "name": "stderr",
     "output_type": "stream",
     "text": [
      "Processing train inputs:  12%|██████▍                                             | 125/1006 [10:06<1:16:11,  5.19s/it]"
     ]
    },
    {
     "name": "stdout",
     "output_type": "stream",
     "text": [
      "Success for img(1022)_r.png:\n",
      "Testing 0 img(1022)_r\n",
      "\n"
     ]
    },
    {
     "name": "stderr",
     "output_type": "stream",
     "text": [
      "Processing train inputs:  13%|██████▌                                             | 127/1006 [10:13<1:02:20,  4.26s/it]"
     ]
    },
    {
     "name": "stdout",
     "output_type": "stream",
     "text": [
      "Success for img(1023)_b.png:\n",
      "Testing 0 img(1023)_b\n",
      "\n"
     ]
    },
    {
     "name": "stderr",
     "output_type": "stream",
     "text": [
      "Processing train inputs:  13%|██████▌                                             | 128/1006 [10:18<1:07:43,  4.63s/it]"
     ]
    },
    {
     "name": "stdout",
     "output_type": "stream",
     "text": [
      "Success for img(1023)_g.png:\n",
      "Testing 0 img(1023)_g\n",
      "\n"
     ]
    },
    {
     "name": "stderr",
     "output_type": "stream",
     "text": [
      "Processing train inputs:  13%|██████▋                                             | 129/1006 [10:24<1:12:10,  4.94s/it]"
     ]
    },
    {
     "name": "stdout",
     "output_type": "stream",
     "text": [
      "Success for img(1023)_n.png:\n",
      "Testing 0 img(1023)_n\n",
      "\n"
     ]
    },
    {
     "name": "stderr",
     "output_type": "stream",
     "text": [
      "Processing train inputs:  13%|██████▋                                             | 130/1006 [10:30<1:15:55,  5.20s/it]"
     ]
    },
    {
     "name": "stdout",
     "output_type": "stream",
     "text": [
      "Success for img(1023)_r.png:\n",
      "Testing 0 img(1023)_r\n",
      "\n"
     ]
    },
    {
     "name": "stderr",
     "output_type": "stream",
     "text": [
      "Processing train inputs:  13%|██████▊                                             | 132/1006 [10:37<1:03:07,  4.33s/it]"
     ]
    },
    {
     "name": "stdout",
     "output_type": "stream",
     "text": [
      "Success for img(1024)_b.png:\n",
      "Testing 0 img(1024)_b\n",
      "\n"
     ]
    },
    {
     "name": "stderr",
     "output_type": "stream",
     "text": [
      "Processing train inputs:  13%|██████▊                                             | 133/1006 [10:43<1:08:46,  4.73s/it]"
     ]
    },
    {
     "name": "stdout",
     "output_type": "stream",
     "text": [
      "Success for img(1024)_g.png:\n",
      "Testing 0 img(1024)_g\n",
      "\n"
     ]
    },
    {
     "name": "stderr",
     "output_type": "stream",
     "text": [
      "Processing train inputs:  13%|██████▉                                             | 134/1006 [10:49<1:13:15,  5.04s/it]"
     ]
    },
    {
     "name": "stdout",
     "output_type": "stream",
     "text": [
      "Success for img(1024)_n.png:\n",
      "Testing 0 img(1024)_n\n",
      "\n"
     ]
    },
    {
     "name": "stderr",
     "output_type": "stream",
     "text": [
      "Processing train inputs:  13%|██████▉                                             | 135/1006 [10:55<1:19:55,  5.51s/it]"
     ]
    },
    {
     "name": "stdout",
     "output_type": "stream",
     "text": [
      "Success for img(1024)_r.png:\n",
      "Testing 0 img(1024)_r\n",
      "\n"
     ]
    },
    {
     "name": "stderr",
     "output_type": "stream",
     "text": [
      "Processing train inputs:  14%|███████                                             | 137/1006 [11:01<1:03:38,  4.39s/it]"
     ]
    },
    {
     "name": "stdout",
     "output_type": "stream",
     "text": [
      "Success for img(1025)_b.png:\n",
      "Testing 0 img(1025)_b\n",
      "\n"
     ]
    },
    {
     "name": "stderr",
     "output_type": "stream",
     "text": [
      "Processing train inputs:  14%|███████▏                                            | 138/1006 [11:07<1:08:48,  4.76s/it]"
     ]
    },
    {
     "name": "stdout",
     "output_type": "stream",
     "text": [
      "Success for img(1025)_g.png:\n",
      "Testing 0 img(1025)_g\n",
      "\n"
     ]
    },
    {
     "name": "stderr",
     "output_type": "stream",
     "text": [
      "Processing train inputs:  14%|███████▏                                            | 139/1006 [11:13<1:13:09,  5.06s/it]"
     ]
    },
    {
     "name": "stdout",
     "output_type": "stream",
     "text": [
      "Success for img(1025)_n.png:\n",
      "Testing 0 img(1025)_n\n",
      "\n"
     ]
    },
    {
     "name": "stderr",
     "output_type": "stream",
     "text": [
      "Processing train inputs:  14%|███████▏                                            | 140/1006 [11:19<1:16:12,  5.28s/it]"
     ]
    },
    {
     "name": "stdout",
     "output_type": "stream",
     "text": [
      "Success for img(1025)_r.png:\n",
      "Testing 0 img(1025)_r\n",
      "\n"
     ]
    },
    {
     "name": "stderr",
     "output_type": "stream",
     "text": [
      "Processing train inputs:  14%|███████▎                                            | 142/1006 [11:25<1:01:19,  4.26s/it]"
     ]
    },
    {
     "name": "stdout",
     "output_type": "stream",
     "text": [
      "Success for img(1026)_b.png:\n",
      "Testing 0 img(1026)_b\n",
      "\n"
     ]
    },
    {
     "name": "stderr",
     "output_type": "stream",
     "text": [
      "Processing train inputs:  14%|███████▍                                            | 143/1006 [11:31<1:06:36,  4.63s/it]"
     ]
    },
    {
     "name": "stdout",
     "output_type": "stream",
     "text": [
      "Success for img(1026)_g.png:\n",
      "Testing 0 img(1026)_g\n",
      "\n"
     ]
    },
    {
     "name": "stderr",
     "output_type": "stream",
     "text": [
      "Processing train inputs:  14%|███████▍                                            | 144/1006 [11:36<1:10:57,  4.94s/it]"
     ]
    },
    {
     "name": "stdout",
     "output_type": "stream",
     "text": [
      "Success for img(1026)_n.png:\n",
      "Testing 0 img(1026)_n\n",
      "\n"
     ]
    },
    {
     "name": "stderr",
     "output_type": "stream",
     "text": [
      "Processing train inputs:  14%|███████▍                                            | 145/1006 [11:42<1:14:26,  5.19s/it]"
     ]
    },
    {
     "name": "stdout",
     "output_type": "stream",
     "text": [
      "Success for img(1026)_r.png:\n",
      "Testing 0 img(1026)_r\n",
      "\n"
     ]
    },
    {
     "name": "stderr",
     "output_type": "stream",
     "text": [
      "Processing train inputs:  15%|███████▌                                            | 147/1006 [11:48<1:00:18,  4.21s/it]"
     ]
    },
    {
     "name": "stdout",
     "output_type": "stream",
     "text": [
      "Success for img(1027)_b.png:\n",
      "Testing 0 img(1027)_b\n",
      "\n"
     ]
    },
    {
     "name": "stderr",
     "output_type": "stream",
     "text": [
      "Processing train inputs:  15%|███████▋                                            | 148/1006 [11:54<1:06:04,  4.62s/it]"
     ]
    },
    {
     "name": "stdout",
     "output_type": "stream",
     "text": [
      "Success for img(1027)_g.png:\n",
      "Testing 0 img(1027)_g\n",
      "\n"
     ]
    },
    {
     "name": "stderr",
     "output_type": "stream",
     "text": [
      "Processing train inputs:  15%|███████▋                                            | 149/1006 [12:00<1:10:23,  4.93s/it]"
     ]
    },
    {
     "name": "stdout",
     "output_type": "stream",
     "text": [
      "Success for img(1027)_n.png:\n",
      "Testing 0 img(1027)_n\n",
      "\n"
     ]
    },
    {
     "name": "stderr",
     "output_type": "stream",
     "text": [
      "Processing train inputs:  15%|███████▊                                            | 150/1006 [12:06<1:13:38,  5.16s/it]"
     ]
    },
    {
     "name": "stdout",
     "output_type": "stream",
     "text": [
      "Success for img(1027)_r.png:\n",
      "Testing 0 img(1027)_r\n",
      "\n"
     ]
    },
    {
     "name": "stderr",
     "output_type": "stream",
     "text": [
      "Processing train inputs:  15%|████████▏                                             | 152/1006 [12:12<59:36,  4.19s/it]"
     ]
    },
    {
     "name": "stdout",
     "output_type": "stream",
     "text": [
      "Success for img(1028)_b.png:\n",
      "Testing 0 img(1028)_b\n",
      "\n"
     ]
    },
    {
     "name": "stderr",
     "output_type": "stream",
     "text": [
      "Processing train inputs:  15%|███████▉                                            | 153/1006 [12:17<1:05:10,  4.58s/it]"
     ]
    },
    {
     "name": "stdout",
     "output_type": "stream",
     "text": [
      "Success for img(1028)_g.png:\n",
      "Testing 0 img(1028)_g\n",
      "\n"
     ]
    },
    {
     "name": "stderr",
     "output_type": "stream",
     "text": [
      "Processing train inputs:  15%|███████▉                                            | 154/1006 [12:23<1:09:29,  4.89s/it]"
     ]
    },
    {
     "name": "stdout",
     "output_type": "stream",
     "text": [
      "Success for img(1028)_n.png:\n",
      "Testing 0 img(1028)_n\n",
      "\n"
     ]
    },
    {
     "name": "stderr",
     "output_type": "stream",
     "text": [
      "Processing train inputs:  15%|████████                                            | 155/1006 [12:29<1:13:36,  5.19s/it]"
     ]
    },
    {
     "name": "stdout",
     "output_type": "stream",
     "text": [
      "Success for img(1028)_r.png:\n",
      "Testing 0 img(1028)_r\n",
      "\n"
     ]
    },
    {
     "name": "stderr",
     "output_type": "stream",
     "text": [
      "Processing train inputs:  16%|████████▍                                             | 157/1006 [12:35<59:45,  4.22s/it]"
     ]
    },
    {
     "name": "stdout",
     "output_type": "stream",
     "text": [
      "Success for img(1029)_b.png:\n",
      "Testing 0 img(1029)_b\n",
      "\n"
     ]
    },
    {
     "name": "stderr",
     "output_type": "stream",
     "text": [
      "Processing train inputs:  16%|████████▏                                           | 158/1006 [12:42<1:06:44,  4.72s/it]"
     ]
    },
    {
     "name": "stdout",
     "output_type": "stream",
     "text": [
      "Success for img(1029)_g.png:\n",
      "Testing 0 img(1029)_g\n",
      "\n"
     ]
    },
    {
     "name": "stderr",
     "output_type": "stream",
     "text": [
      "Processing train inputs:  16%|████████▏                                           | 159/1006 [12:47<1:10:40,  5.01s/it]"
     ]
    },
    {
     "name": "stdout",
     "output_type": "stream",
     "text": [
      "Success for img(1029)_n.png:\n",
      "Testing 0 img(1029)_n\n",
      "\n"
     ]
    },
    {
     "name": "stderr",
     "output_type": "stream",
     "text": [
      "Processing train inputs:  16%|████████▎                                           | 160/1006 [12:53<1:13:44,  5.23s/it]"
     ]
    },
    {
     "name": "stdout",
     "output_type": "stream",
     "text": [
      "Success for img(1029)_r.png:\n",
      "Testing 0 img(1029)_r\n",
      "\n"
     ]
    },
    {
     "name": "stderr",
     "output_type": "stream",
     "text": [
      "Processing train inputs:  16%|████████▎                                           | 162/1006 [12:59<1:00:16,  4.28s/it]"
     ]
    },
    {
     "name": "stdout",
     "output_type": "stream",
     "text": [
      "Success for img(103)_b.png:\n",
      "Testing 0 img(103)_b\n",
      "\n"
     ]
    },
    {
     "name": "stderr",
     "output_type": "stream",
     "text": [
      "Processing train inputs:  16%|████████▍                                           | 163/1006 [13:05<1:05:59,  4.70s/it]"
     ]
    },
    {
     "name": "stdout",
     "output_type": "stream",
     "text": [
      "Success for img(103)_g.png:\n",
      "Testing 0 img(103)_g\n",
      "\n"
     ]
    },
    {
     "name": "stderr",
     "output_type": "stream",
     "text": [
      "Processing train inputs:  16%|████████▍                                           | 164/1006 [13:12<1:12:08,  5.14s/it]"
     ]
    },
    {
     "name": "stdout",
     "output_type": "stream",
     "text": [
      "Success for img(103)_n.png:\n",
      "Testing 0 img(103)_n\n",
      "\n"
     ]
    },
    {
     "name": "stderr",
     "output_type": "stream",
     "text": [
      "Processing train inputs:  16%|████████▌                                           | 165/1006 [13:18<1:16:21,  5.45s/it]"
     ]
    },
    {
     "name": "stdout",
     "output_type": "stream",
     "text": [
      "Success for img(103)_r.png:\n",
      "Testing 0 img(103)_r\n",
      "\n"
     ]
    },
    {
     "name": "stderr",
     "output_type": "stream",
     "text": [
      "Processing train inputs:  17%|████████▋                                           | 167/1006 [13:24<1:01:10,  4.38s/it]"
     ]
    },
    {
     "name": "stdout",
     "output_type": "stream",
     "text": [
      "Success for img(1030)_b.png:\n",
      "Testing 0 img(1030)_b\n",
      "\n"
     ]
    },
    {
     "name": "stderr",
     "output_type": "stream",
     "text": [
      "Processing train inputs:  17%|████████▋                                           | 168/1006 [13:30<1:06:16,  4.75s/it]"
     ]
    },
    {
     "name": "stdout",
     "output_type": "stream",
     "text": [
      "Success for img(1030)_g.png:\n",
      "Testing 0 img(1030)_g\n",
      "\n"
     ]
    },
    {
     "name": "stderr",
     "output_type": "stream",
     "text": [
      "Processing train inputs:  17%|████████▋                                           | 169/1006 [13:36<1:10:17,  5.04s/it]"
     ]
    },
    {
     "name": "stdout",
     "output_type": "stream",
     "text": [
      "Success for img(1030)_n.png:\n",
      "Testing 0 img(1030)_n\n",
      "\n"
     ]
    },
    {
     "name": "stderr",
     "output_type": "stream",
     "text": [
      "Processing train inputs:  17%|████████▊                                           | 170/1006 [13:42<1:13:12,  5.25s/it]"
     ]
    },
    {
     "name": "stdout",
     "output_type": "stream",
     "text": [
      "Success for img(1030)_r.png:\n",
      "Testing 0 img(1030)_r\n",
      "\n"
     ]
    },
    {
     "name": "stderr",
     "output_type": "stream",
     "text": [
      "Processing train inputs:  17%|█████████▏                                            | 172/1006 [13:48<58:56,  4.24s/it]"
     ]
    },
    {
     "name": "stdout",
     "output_type": "stream",
     "text": [
      "Success for img(1031)_b.png:\n",
      "Testing 0 img(1031)_b\n",
      "\n"
     ]
    },
    {
     "name": "stderr",
     "output_type": "stream",
     "text": [
      "Processing train inputs:  17%|████████▉                                           | 173/1006 [13:53<1:04:12,  4.63s/it]"
     ]
    },
    {
     "name": "stdout",
     "output_type": "stream",
     "text": [
      "Success for img(1031)_g.png:\n",
      "Testing 0 img(1031)_g\n",
      "\n"
     ]
    },
    {
     "name": "stderr",
     "output_type": "stream",
     "text": [
      "Processing train inputs:  17%|████████▉                                           | 174/1006 [13:59<1:08:35,  4.95s/it]"
     ]
    },
    {
     "name": "stdout",
     "output_type": "stream",
     "text": [
      "Success for img(1031)_n.png:\n",
      "Testing 0 img(1031)_n\n",
      "\n"
     ]
    },
    {
     "name": "stderr",
     "output_type": "stream",
     "text": [
      "Processing train inputs:  17%|█████████                                           | 175/1006 [14:05<1:11:48,  5.19s/it]"
     ]
    },
    {
     "name": "stdout",
     "output_type": "stream",
     "text": [
      "Success for img(1031)_r.png:\n",
      "Testing 0 img(1031)_r\n",
      "\n"
     ]
    },
    {
     "name": "stderr",
     "output_type": "stream",
     "text": [
      "Processing train inputs:  18%|█████████▌                                            | 177/1006 [14:11<58:48,  4.26s/it]"
     ]
    },
    {
     "name": "stdout",
     "output_type": "stream",
     "text": [
      "Success for img(1032)_b.png:\n",
      "Testing 0 img(1032)_b\n",
      "\n"
     ]
    },
    {
     "name": "stderr",
     "output_type": "stream",
     "text": [
      "Processing train inputs:  18%|█████████▏                                          | 178/1006 [14:17<1:04:32,  4.68s/it]"
     ]
    },
    {
     "name": "stdout",
     "output_type": "stream",
     "text": [
      "Success for img(1032)_g.png:\n",
      "Testing 0 img(1032)_g\n",
      "\n"
     ]
    },
    {
     "name": "stderr",
     "output_type": "stream",
     "text": [
      "Processing train inputs:  18%|█████████▎                                          | 179/1006 [14:23<1:08:22,  4.96s/it]"
     ]
    },
    {
     "name": "stdout",
     "output_type": "stream",
     "text": [
      "Success for img(1032)_n.png:\n",
      "Testing 0 img(1032)_n\n",
      "\n"
     ]
    },
    {
     "name": "stderr",
     "output_type": "stream",
     "text": [
      "Processing train inputs:  18%|█████████▎                                          | 180/1006 [14:29<1:11:31,  5.20s/it]"
     ]
    },
    {
     "name": "stdout",
     "output_type": "stream",
     "text": [
      "Success for img(1032)_r.png:\n",
      "Testing 0 img(1032)_r\n",
      "\n"
     ]
    },
    {
     "name": "stderr",
     "output_type": "stream",
     "text": [
      "Processing train inputs:  18%|█████████▊                                            | 182/1006 [14:35<57:49,  4.21s/it]"
     ]
    },
    {
     "name": "stdout",
     "output_type": "stream",
     "text": [
      "Success for img(1033)_b.png:\n",
      "Testing 0 img(1033)_b\n",
      "\n"
     ]
    },
    {
     "name": "stderr",
     "output_type": "stream",
     "text": [
      "Processing train inputs:  18%|█████████▍                                          | 183/1006 [14:41<1:03:11,  4.61s/it]"
     ]
    },
    {
     "name": "stdout",
     "output_type": "stream",
     "text": [
      "Success for img(1033)_g.png:\n",
      "Testing 0 img(1033)_g\n",
      "\n"
     ]
    },
    {
     "name": "stderr",
     "output_type": "stream",
     "text": [
      "Processing train inputs:  18%|█████████▌                                          | 184/1006 [14:47<1:07:54,  4.96s/it]"
     ]
    },
    {
     "name": "stdout",
     "output_type": "stream",
     "text": [
      "Success for img(1033)_n.png:\n",
      "Testing 0 img(1033)_n\n",
      "\n"
     ]
    },
    {
     "name": "stderr",
     "output_type": "stream",
     "text": [
      "Processing train inputs:  18%|█████████▌                                          | 185/1006 [14:52<1:11:01,  5.19s/it]"
     ]
    },
    {
     "name": "stdout",
     "output_type": "stream",
     "text": [
      "Success for img(1033)_r.png:\n",
      "Testing 0 img(1033)_r\n",
      "\n"
     ]
    },
    {
     "name": "stderr",
     "output_type": "stream",
     "text": [
      "Processing train inputs:  19%|██████████                                            | 187/1006 [14:58<57:29,  4.21s/it]"
     ]
    },
    {
     "name": "stdout",
     "output_type": "stream",
     "text": [
      "Success for img(1034)_b.png:\n",
      "Testing 0 img(1034)_b\n",
      "\n"
     ]
    },
    {
     "name": "stderr",
     "output_type": "stream",
     "text": [
      "Processing train inputs:  19%|█████████▋                                          | 188/1006 [15:04<1:02:46,  4.61s/it]"
     ]
    },
    {
     "name": "stdout",
     "output_type": "stream",
     "text": [
      "Success for img(1034)_g.png:\n",
      "Testing 0 img(1034)_g\n",
      "\n"
     ]
    },
    {
     "name": "stderr",
     "output_type": "stream",
     "text": [
      "Processing train inputs:  19%|█████████▊                                          | 189/1006 [15:10<1:06:51,  4.91s/it]"
     ]
    },
    {
     "name": "stdout",
     "output_type": "stream",
     "text": [
      "Success for img(1034)_n.png:\n",
      "Testing 0 img(1034)_n\n",
      "\n"
     ]
    },
    {
     "name": "stderr",
     "output_type": "stream",
     "text": [
      "Processing train inputs:  19%|█████████▊                                          | 190/1006 [15:16<1:10:53,  5.21s/it]"
     ]
    },
    {
     "name": "stdout",
     "output_type": "stream",
     "text": [
      "Success for img(1034)_r.png:\n",
      "Testing 0 img(1034)_r\n",
      "\n"
     ]
    },
    {
     "name": "stderr",
     "output_type": "stream",
     "text": [
      "Processing train inputs:  19%|██████████▎                                           | 192/1006 [15:22<57:26,  4.23s/it]"
     ]
    },
    {
     "name": "stdout",
     "output_type": "stream",
     "text": [
      "Success for img(1035)_b.png:\n",
      "Testing 0 img(1035)_b\n",
      "\n"
     ]
    },
    {
     "name": "stderr",
     "output_type": "stream",
     "text": [
      "Processing train inputs:  19%|█████████▉                                          | 193/1006 [15:28<1:02:47,  4.63s/it]"
     ]
    },
    {
     "name": "stdout",
     "output_type": "stream",
     "text": [
      "Success for img(1035)_g.png:\n",
      "Testing 0 img(1035)_g\n",
      "\n"
     ]
    },
    {
     "name": "stderr",
     "output_type": "stream",
     "text": [
      "Processing train inputs:  19%|██████████                                          | 194/1006 [15:34<1:06:47,  4.94s/it]"
     ]
    },
    {
     "name": "stdout",
     "output_type": "stream",
     "text": [
      "Success for img(1035)_n.png:\n",
      "Testing 0 img(1035)_n\n",
      "\n"
     ]
    },
    {
     "name": "stderr",
     "output_type": "stream",
     "text": [
      "Processing train inputs:  19%|██████████                                          | 195/1006 [15:40<1:10:02,  5.18s/it]"
     ]
    },
    {
     "name": "stdout",
     "output_type": "stream",
     "text": [
      "Success for img(1035)_r.png:\n",
      "Testing 0 img(1035)_r\n",
      "\n"
     ]
    },
    {
     "name": "stderr",
     "output_type": "stream",
     "text": [
      "Processing train inputs:  20%|██████████▌                                           | 197/1006 [15:45<56:50,  4.22s/it]"
     ]
    },
    {
     "name": "stdout",
     "output_type": "stream",
     "text": [
      "Success for img(1036)_b.png:\n",
      "Testing 0 img(1036)_b\n",
      "\n"
     ]
    },
    {
     "name": "stderr",
     "output_type": "stream",
     "text": [
      "Processing train inputs:  20%|██████████▏                                         | 198/1006 [15:51<1:02:13,  4.62s/it]"
     ]
    },
    {
     "name": "stdout",
     "output_type": "stream",
     "text": [
      "Success for img(1036)_g.png:\n",
      "Testing 0 img(1036)_g\n",
      "\n"
     ]
    },
    {
     "name": "stderr",
     "output_type": "stream",
     "text": [
      "Processing train inputs:  20%|██████████▎                                         | 199/1006 [15:57<1:06:18,  4.93s/it]"
     ]
    },
    {
     "name": "stdout",
     "output_type": "stream",
     "text": [
      "Success for img(1036)_n.png:\n",
      "Testing 0 img(1036)_n\n",
      "\n"
     ]
    },
    {
     "name": "stderr",
     "output_type": "stream",
     "text": [
      "Processing train inputs:  20%|██████████▎                                         | 200/1006 [16:03<1:09:29,  5.17s/it]"
     ]
    },
    {
     "name": "stdout",
     "output_type": "stream",
     "text": [
      "Success for img(1036)_r.png:\n",
      "Testing 0 img(1036)_r\n",
      "\n"
     ]
    },
    {
     "name": "stderr",
     "output_type": "stream",
     "text": [
      "Processing train inputs:  20%|██████████▊                                           | 202/1006 [16:09<56:24,  4.21s/it]"
     ]
    },
    {
     "name": "stdout",
     "output_type": "stream",
     "text": [
      "Success for img(1037)_b.png:\n",
      "Testing 0 img(1037)_b\n",
      "\n"
     ]
    },
    {
     "name": "stderr",
     "output_type": "stream",
     "text": [
      "Processing train inputs:  20%|██████████▍                                         | 203/1006 [16:15<1:01:37,  4.60s/it]"
     ]
    },
    {
     "name": "stdout",
     "output_type": "stream",
     "text": [
      "Success for img(1037)_g.png:\n",
      "Testing 0 img(1037)_g\n",
      "\n"
     ]
    },
    {
     "name": "stderr",
     "output_type": "stream",
     "text": [
      "Processing train inputs:  20%|██████████▌                                         | 204/1006 [16:21<1:05:55,  4.93s/it]"
     ]
    },
    {
     "name": "stdout",
     "output_type": "stream",
     "text": [
      "Success for img(1037)_n.png:\n",
      "Testing 0 img(1037)_n\n",
      "\n"
     ]
    },
    {
     "name": "stderr",
     "output_type": "stream",
     "text": [
      "Processing train inputs:  20%|██████████▌                                         | 205/1006 [16:27<1:09:05,  5.18s/it]"
     ]
    },
    {
     "name": "stdout",
     "output_type": "stream",
     "text": [
      "Success for img(1037)_r.png:\n",
      "Testing 0 img(1037)_r\n",
      "\n"
     ]
    },
    {
     "name": "stderr",
     "output_type": "stream",
     "text": [
      "Processing train inputs:  21%|███████████                                           | 207/1006 [16:33<56:51,  4.27s/it]"
     ]
    },
    {
     "name": "stdout",
     "output_type": "stream",
     "text": [
      "Success for img(1038)_b.png:\n",
      "Testing 0 img(1038)_b\n",
      "\n"
     ]
    },
    {
     "name": "stderr",
     "output_type": "stream",
     "text": [
      "Processing train inputs:  21%|██████████▊                                         | 208/1006 [16:39<1:02:07,  4.67s/it]"
     ]
    },
    {
     "name": "stdout",
     "output_type": "stream",
     "text": [
      "Success for img(1038)_g.png:\n",
      "Testing 0 img(1038)_g\n",
      "\n"
     ]
    },
    {
     "name": "stderr",
     "output_type": "stream",
     "text": [
      "Processing train inputs:  21%|██████████▊                                         | 209/1006 [16:45<1:06:00,  4.97s/it]"
     ]
    },
    {
     "name": "stdout",
     "output_type": "stream",
     "text": [
      "Success for img(1038)_n.png:\n",
      "Testing 0 img(1038)_n\n",
      "\n"
     ]
    },
    {
     "name": "stderr",
     "output_type": "stream",
     "text": [
      "Processing train inputs:  21%|██████████▊                                         | 210/1006 [16:50<1:08:53,  5.19s/it]"
     ]
    },
    {
     "name": "stdout",
     "output_type": "stream",
     "text": [
      "Success for img(1038)_r.png:\n",
      "Testing 0 img(1038)_r\n",
      "\n"
     ]
    },
    {
     "name": "stderr",
     "output_type": "stream",
     "text": [
      "Processing train inputs:  21%|███████████▍                                          | 212/1006 [16:56<55:52,  4.22s/it]"
     ]
    },
    {
     "name": "stdout",
     "output_type": "stream",
     "text": [
      "Success for img(1039)_b.png:\n",
      "Testing 0 img(1039)_b\n",
      "\n"
     ]
    },
    {
     "name": "stderr",
     "output_type": "stream",
     "text": [
      "Processing train inputs:  21%|███████████                                         | 213/1006 [17:02<1:01:11,  4.63s/it]"
     ]
    },
    {
     "name": "stdout",
     "output_type": "stream",
     "text": [
      "Success for img(1039)_g.png:\n",
      "Testing 0 img(1039)_g\n",
      "\n"
     ]
    },
    {
     "name": "stderr",
     "output_type": "stream",
     "text": [
      "Processing train inputs:  21%|███████████                                         | 214/1006 [17:08<1:05:16,  4.94s/it]"
     ]
    },
    {
     "name": "stdout",
     "output_type": "stream",
     "text": [
      "Success for img(1039)_n.png:\n",
      "Testing 0 img(1039)_n\n",
      "\n"
     ]
    },
    {
     "name": "stderr",
     "output_type": "stream",
     "text": [
      "Processing train inputs:  21%|███████████                                         | 215/1006 [17:14<1:08:31,  5.20s/it]"
     ]
    },
    {
     "name": "stdout",
     "output_type": "stream",
     "text": [
      "Success for img(1039)_r.png:\n",
      "Testing 0 img(1039)_r\n",
      "\n"
     ]
    },
    {
     "name": "stderr",
     "output_type": "stream",
     "text": [
      "Processing train inputs:  22%|███████████▋                                          | 217/1006 [17:20<55:39,  4.23s/it]"
     ]
    },
    {
     "name": "stdout",
     "output_type": "stream",
     "text": [
      "Success for img(104)_b.png:\n",
      "Testing 0 img(104)_b\n",
      "\n"
     ]
    },
    {
     "name": "stderr",
     "output_type": "stream",
     "text": [
      "Processing train inputs:  22%|███████████▎                                        | 218/1006 [17:26<1:00:40,  4.62s/it]"
     ]
    },
    {
     "name": "stdout",
     "output_type": "stream",
     "text": [
      "Success for img(104)_g.png:\n",
      "Testing 0 img(104)_g\n",
      "\n"
     ]
    },
    {
     "name": "stderr",
     "output_type": "stream",
     "text": [
      "Processing train inputs:  22%|███████████▎                                        | 219/1006 [17:32<1:04:58,  4.95s/it]"
     ]
    },
    {
     "name": "stdout",
     "output_type": "stream",
     "text": [
      "Success for img(104)_n.png:\n",
      "Testing 0 img(104)_n\n",
      "\n"
     ]
    },
    {
     "name": "stderr",
     "output_type": "stream",
     "text": [
      "Processing train inputs:  22%|███████████▎                                        | 220/1006 [17:38<1:07:58,  5.19s/it]"
     ]
    },
    {
     "name": "stdout",
     "output_type": "stream",
     "text": [
      "Success for img(104)_r.png:\n",
      "Testing 0 img(104)_r\n",
      "\n"
     ]
    },
    {
     "name": "stderr",
     "output_type": "stream",
     "text": [
      "Processing train inputs:  22%|███████████▉                                          | 222/1006 [17:43<55:07,  4.22s/it]"
     ]
    },
    {
     "name": "stdout",
     "output_type": "stream",
     "text": [
      "Success for img(1040)_b.png:\n",
      "Testing 0 img(1040)_b\n",
      "\n"
     ]
    },
    {
     "name": "stderr",
     "output_type": "stream",
     "text": [
      "Processing train inputs:  22%|███████████▌                                        | 223/1006 [17:49<1:00:06,  4.61s/it]"
     ]
    },
    {
     "name": "stdout",
     "output_type": "stream",
     "text": [
      "Success for img(1040)_g.png:\n",
      "Testing 0 img(1040)_g\n",
      "\n"
     ]
    },
    {
     "name": "stderr",
     "output_type": "stream",
     "text": [
      "Processing train inputs:  22%|███████████▌                                        | 224/1006 [17:55<1:04:34,  4.95s/it]"
     ]
    },
    {
     "name": "stdout",
     "output_type": "stream",
     "text": [
      "Success for img(1040)_n.png:\n",
      "Testing 0 img(1040)_n\n",
      "\n"
     ]
    },
    {
     "name": "stderr",
     "output_type": "stream",
     "text": [
      "Processing train inputs:  22%|███████████▋                                        | 225/1006 [18:02<1:11:43,  5.51s/it]"
     ]
    },
    {
     "name": "stdout",
     "output_type": "stream",
     "text": [
      "Success for img(1040)_r.png:\n",
      "Testing 0 img(1040)_r\n",
      "\n"
     ]
    },
    {
     "name": "stderr",
     "output_type": "stream",
     "text": [
      "Processing train inputs:  23%|████████████▏                                         | 227/1006 [18:09<58:15,  4.49s/it]"
     ]
    },
    {
     "name": "stdout",
     "output_type": "stream",
     "text": [
      "Success for img(1041)_b.png:\n",
      "Testing 0 img(1041)_b\n",
      "\n"
     ]
    },
    {
     "name": "stderr",
     "output_type": "stream",
     "text": [
      "Processing train inputs:  23%|███████████▊                                        | 228/1006 [18:15<1:02:31,  4.82s/it]"
     ]
    },
    {
     "name": "stdout",
     "output_type": "stream",
     "text": [
      "Success for img(1041)_g.png:\n",
      "Testing 0 img(1041)_g\n",
      "\n"
     ]
    },
    {
     "name": "stderr",
     "output_type": "stream",
     "text": [
      "Processing train inputs:  23%|███████████▊                                        | 229/1006 [18:20<1:05:51,  5.09s/it]"
     ]
    },
    {
     "name": "stdout",
     "output_type": "stream",
     "text": [
      "Success for img(1041)_n.png:\n",
      "Testing 0 img(1041)_n\n",
      "\n"
     ]
    },
    {
     "name": "stderr",
     "output_type": "stream",
     "text": [
      "Processing train inputs:  23%|███████████▉                                        | 230/1006 [18:26<1:08:31,  5.30s/it]"
     ]
    },
    {
     "name": "stdout",
     "output_type": "stream",
     "text": [
      "Success for img(1041)_r.png:\n",
      "Testing 0 img(1041)_r\n",
      "\n"
     ]
    },
    {
     "name": "stderr",
     "output_type": "stream",
     "text": [
      "Processing train inputs:  23%|████████████▍                                         | 232/1006 [18:32<55:14,  4.28s/it]"
     ]
    },
    {
     "name": "stdout",
     "output_type": "stream",
     "text": [
      "Success for img(1042)_b.png:\n",
      "Testing 0 img(1042)_b\n",
      "\n"
     ]
    },
    {
     "name": "stderr",
     "output_type": "stream",
     "text": [
      "Processing train inputs:  23%|████████████                                        | 233/1006 [18:38<1:00:03,  4.66s/it]"
     ]
    },
    {
     "name": "stdout",
     "output_type": "stream",
     "text": [
      "Success for img(1042)_g.png:\n",
      "Testing 0 img(1042)_g\n",
      "\n"
     ]
    },
    {
     "name": "stderr",
     "output_type": "stream",
     "text": [
      "Processing train inputs:  23%|████████████                                        | 234/1006 [18:44<1:03:58,  4.97s/it]"
     ]
    },
    {
     "name": "stdout",
     "output_type": "stream",
     "text": [
      "Success for img(1042)_n.png:\n",
      "Testing 0 img(1042)_n\n",
      "\n"
     ]
    },
    {
     "name": "stderr",
     "output_type": "stream",
     "text": [
      "Processing train inputs:  23%|████████████▏                                       | 235/1006 [18:50<1:07:03,  5.22s/it]"
     ]
    },
    {
     "name": "stdout",
     "output_type": "stream",
     "text": [
      "Success for img(1042)_r.png:\n",
      "Testing 0 img(1042)_r\n",
      "\n"
     ]
    },
    {
     "name": "stderr",
     "output_type": "stream",
     "text": [
      "Processing train inputs:  24%|████████████▋                                         | 237/1006 [18:56<54:29,  4.25s/it]"
     ]
    },
    {
     "name": "stdout",
     "output_type": "stream",
     "text": [
      "Success for img(1043)_b.png:\n",
      "Testing 0 img(1043)_b\n",
      "\n"
     ]
    },
    {
     "name": "stderr",
     "output_type": "stream",
     "text": [
      "Processing train inputs:  24%|████████████▊                                         | 238/1006 [19:02<59:24,  4.64s/it]"
     ]
    },
    {
     "name": "stdout",
     "output_type": "stream",
     "text": [
      "Success for img(1043)_g.png:\n",
      "Testing 0 img(1043)_g\n",
      "\n"
     ]
    },
    {
     "name": "stderr",
     "output_type": "stream",
     "text": [
      "Processing train inputs:  24%|████████████▎                                       | 239/1006 [19:08<1:03:56,  5.00s/it]"
     ]
    },
    {
     "name": "stdout",
     "output_type": "stream",
     "text": [
      "Success for img(1043)_n.png:\n",
      "Testing 0 img(1043)_n\n",
      "\n"
     ]
    },
    {
     "name": "stderr",
     "output_type": "stream",
     "text": [
      "Processing train inputs:  24%|████████████▍                                       | 240/1006 [19:14<1:07:03,  5.25s/it]"
     ]
    },
    {
     "name": "stdout",
     "output_type": "stream",
     "text": [
      "Success for img(1043)_r.png:\n",
      "Testing 0 img(1043)_r\n",
      "\n"
     ]
    },
    {
     "name": "stderr",
     "output_type": "stream",
     "text": [
      "Processing train inputs:  24%|████████████▉                                         | 242/1006 [19:20<54:18,  4.26s/it]"
     ]
    },
    {
     "name": "stdout",
     "output_type": "stream",
     "text": [
      "Success for img(1044)_b.png:\n",
      "Testing 0 img(1044)_b\n",
      "\n"
     ]
    },
    {
     "name": "stderr",
     "output_type": "stream",
     "text": [
      "Processing train inputs:  24%|█████████████                                         | 243/1006 [19:26<59:11,  4.65s/it]"
     ]
    },
    {
     "name": "stdout",
     "output_type": "stream",
     "text": [
      "Success for img(1044)_g.png:\n",
      "Testing 0 img(1044)_g\n",
      "\n"
     ]
    },
    {
     "name": "stderr",
     "output_type": "stream",
     "text": [
      "Processing train inputs:  24%|████████████▌                                       | 244/1006 [19:31<1:02:56,  4.96s/it]"
     ]
    },
    {
     "name": "stdout",
     "output_type": "stream",
     "text": [
      "Success for img(1044)_n.png:\n",
      "Testing 0 img(1044)_n\n",
      "\n"
     ]
    },
    {
     "name": "stderr",
     "output_type": "stream",
     "text": [
      "Processing train inputs:  24%|████████████▋                                       | 245/1006 [19:37<1:05:59,  5.20s/it]"
     ]
    },
    {
     "name": "stdout",
     "output_type": "stream",
     "text": [
      "Success for img(1044)_r.png:\n",
      "Testing 0 img(1044)_r\n",
      "\n"
     ]
    },
    {
     "name": "stderr",
     "output_type": "stream",
     "text": [
      "Processing train inputs:  25%|█████████████▎                                        | 247/1006 [19:43<53:37,  4.24s/it]"
     ]
    },
    {
     "name": "stdout",
     "output_type": "stream",
     "text": [
      "Success for img(1045)_b.png:\n",
      "Testing 0 img(1045)_b\n",
      "\n"
     ]
    },
    {
     "name": "stderr",
     "output_type": "stream",
     "text": [
      "Processing train inputs:  25%|████████████▊                                       | 248/1006 [19:50<1:01:01,  4.83s/it]"
     ]
    },
    {
     "name": "stdout",
     "output_type": "stream",
     "text": [
      "Success for img(1045)_g.png:\n",
      "Testing 0 img(1045)_g\n",
      "\n"
     ]
    },
    {
     "name": "stderr",
     "output_type": "stream",
     "text": [
      "Processing train inputs:  25%|████████████▊                                       | 249/1006 [19:56<1:04:27,  5.11s/it]"
     ]
    },
    {
     "name": "stdout",
     "output_type": "stream",
     "text": [
      "Success for img(1045)_n.png:\n",
      "Testing 0 img(1045)_n\n",
      "\n"
     ]
    },
    {
     "name": "stderr",
     "output_type": "stream",
     "text": [
      "Processing train inputs:  25%|████████████▉                                       | 250/1006 [20:02<1:06:53,  5.31s/it]"
     ]
    },
    {
     "name": "stdout",
     "output_type": "stream",
     "text": [
      "Success for img(1045)_r.png:\n",
      "Testing 0 img(1045)_r\n",
      "\n"
     ]
    },
    {
     "name": "stderr",
     "output_type": "stream",
     "text": [
      "Processing train inputs:  25%|█████████████▌                                        | 252/1006 [20:08<53:54,  4.29s/it]"
     ]
    },
    {
     "name": "stdout",
     "output_type": "stream",
     "text": [
      "Success for img(1046)_b.png:\n",
      "Testing 0 img(1046)_b\n",
      "\n"
     ]
    },
    {
     "name": "stderr",
     "output_type": "stream",
     "text": [
      "Processing train inputs:  25%|█████████████▌                                        | 253/1006 [20:14<58:34,  4.67s/it]"
     ]
    },
    {
     "name": "stdout",
     "output_type": "stream",
     "text": [
      "Success for img(1046)_g.png:\n",
      "Testing 0 img(1046)_g\n",
      "\n"
     ]
    },
    {
     "name": "stderr",
     "output_type": "stream",
     "text": [
      "Processing train inputs:  25%|█████████████▏                                      | 254/1006 [20:19<1:02:23,  4.98s/it]"
     ]
    },
    {
     "name": "stdout",
     "output_type": "stream",
     "text": [
      "Success for img(1046)_n.png:\n",
      "Testing 0 img(1046)_n\n",
      "\n"
     ]
    },
    {
     "name": "stderr",
     "output_type": "stream",
     "text": [
      "Processing train inputs:  25%|█████████████▏                                      | 255/1006 [20:25<1:05:27,  5.23s/it]"
     ]
    },
    {
     "name": "stdout",
     "output_type": "stream",
     "text": [
      "Success for img(1046)_r.png:\n",
      "Testing 0 img(1046)_r\n",
      "\n"
     ]
    },
    {
     "name": "stderr",
     "output_type": "stream",
     "text": [
      "Processing train inputs:  26%|█████████████▊                                        | 257/1006 [20:31<52:56,  4.24s/it]"
     ]
    },
    {
     "name": "stdout",
     "output_type": "stream",
     "text": [
      "Success for img(1047)_b.png:\n",
      "Testing 0 img(1047)_b\n",
      "\n"
     ]
    },
    {
     "name": "stderr",
     "output_type": "stream",
     "text": [
      "Processing train inputs:  26%|█████████████▊                                        | 258/1006 [20:37<57:32,  4.62s/it]"
     ]
    },
    {
     "name": "stdout",
     "output_type": "stream",
     "text": [
      "Success for img(1047)_g.png:\n",
      "Testing 0 img(1047)_g\n",
      "\n"
     ]
    },
    {
     "name": "stderr",
     "output_type": "stream",
     "text": [
      "Processing train inputs:  26%|█████████████▍                                      | 259/1006 [20:43<1:01:31,  4.94s/it]"
     ]
    },
    {
     "name": "stdout",
     "output_type": "stream",
     "text": [
      "Success for img(1047)_n.png:\n",
      "Testing 0 img(1047)_n\n",
      "\n"
     ]
    },
    {
     "name": "stderr",
     "output_type": "stream",
     "text": [
      "Processing train inputs:  26%|█████████████▍                                      | 260/1006 [20:49<1:04:39,  5.20s/it]"
     ]
    },
    {
     "name": "stdout",
     "output_type": "stream",
     "text": [
      "Success for img(1047)_r.png:\n",
      "Testing 0 img(1047)_r\n",
      "\n"
     ]
    },
    {
     "name": "stderr",
     "output_type": "stream",
     "text": [
      "Processing train inputs:  26%|██████████████                                        | 262/1006 [20:55<52:22,  4.22s/it]"
     ]
    },
    {
     "name": "stdout",
     "output_type": "stream",
     "text": [
      "Success for img(1048)_b.png:\n",
      "Testing 0 img(1048)_b\n",
      "\n"
     ]
    },
    {
     "name": "stderr",
     "output_type": "stream",
     "text": [
      "Processing train inputs:  26%|██████████████                                        | 263/1006 [21:01<57:07,  4.61s/it]"
     ]
    },
    {
     "name": "stdout",
     "output_type": "stream",
     "text": [
      "Success for img(1048)_g.png:\n",
      "Testing 0 img(1048)_g\n",
      "\n"
     ]
    },
    {
     "name": "stderr",
     "output_type": "stream",
     "text": [
      "Processing train inputs:  26%|█████████████▋                                      | 264/1006 [21:07<1:00:54,  4.93s/it]"
     ]
    },
    {
     "name": "stdout",
     "output_type": "stream",
     "text": [
      "Success for img(1048)_n.png:\n",
      "Testing 0 img(1048)_n\n",
      "\n"
     ]
    },
    {
     "name": "stderr",
     "output_type": "stream",
     "text": [
      "Processing train inputs:  26%|█████████████▋                                      | 265/1006 [21:12<1:04:05,  5.19s/it]"
     ]
    },
    {
     "name": "stdout",
     "output_type": "stream",
     "text": [
      "Success for img(1048)_r.png:\n",
      "Testing 0 img(1048)_r\n",
      "\n"
     ]
    },
    {
     "name": "stderr",
     "output_type": "stream",
     "text": [
      "Processing train inputs:  27%|██████████████▎                                       | 267/1006 [21:18<52:10,  4.24s/it]"
     ]
    },
    {
     "name": "stdout",
     "output_type": "stream",
     "text": [
      "Success for img(1049)_b.png:\n",
      "Testing 0 img(1049)_b\n",
      "\n"
     ]
    },
    {
     "name": "stderr",
     "output_type": "stream",
     "text": [
      "Processing train inputs:  27%|██████████████▍                                       | 268/1006 [21:24<56:59,  4.63s/it]"
     ]
    },
    {
     "name": "stdout",
     "output_type": "stream",
     "text": [
      "Success for img(1049)_g.png:\n",
      "Testing 0 img(1049)_g\n",
      "\n"
     ]
    },
    {
     "name": "stderr",
     "output_type": "stream",
     "text": [
      "Processing train inputs:  27%|█████████████▉                                      | 269/1006 [21:30<1:00:40,  4.94s/it]"
     ]
    },
    {
     "name": "stdout",
     "output_type": "stream",
     "text": [
      "Success for img(1049)_n.png:\n",
      "Testing 0 img(1049)_n\n",
      "\n"
     ]
    },
    {
     "name": "stderr",
     "output_type": "stream",
     "text": [
      "Processing train inputs:  27%|█████████████▉                                      | 270/1006 [21:36<1:03:42,  5.19s/it]"
     ]
    },
    {
     "name": "stdout",
     "output_type": "stream",
     "text": [
      "Success for img(1049)_r.png:\n",
      "Testing 0 img(1049)_r\n",
      "\n"
     ]
    },
    {
     "name": "stderr",
     "output_type": "stream",
     "text": [
      "Processing train inputs:  27%|██████████████▌                                       | 272/1006 [21:42<51:51,  4.24s/it]"
     ]
    },
    {
     "name": "stdout",
     "output_type": "stream",
     "text": [
      "Success for img(105)_b.png:\n",
      "Testing 0 img(105)_b\n",
      "\n"
     ]
    },
    {
     "name": "stderr",
     "output_type": "stream",
     "text": [
      "Processing train inputs:  27%|██████████████▋                                       | 273/1006 [21:48<56:30,  4.63s/it]"
     ]
    },
    {
     "name": "stdout",
     "output_type": "stream",
     "text": [
      "Success for img(105)_g.png:\n",
      "Testing 0 img(105)_g\n",
      "\n"
     ]
    },
    {
     "name": "stderr",
     "output_type": "stream",
     "text": [
      "Processing train inputs:  27%|██████████████▏                                     | 274/1006 [21:54<1:00:16,  4.94s/it]"
     ]
    },
    {
     "name": "stdout",
     "output_type": "stream",
     "text": [
      "Success for img(105)_n.png:\n",
      "Testing 0 img(105)_n\n",
      "\n"
     ]
    },
    {
     "name": "stderr",
     "output_type": "stream",
     "text": [
      "Processing train inputs:  27%|██████████████▏                                     | 275/1006 [22:00<1:03:23,  5.20s/it]"
     ]
    },
    {
     "name": "stdout",
     "output_type": "stream",
     "text": [
      "Success for img(105)_r.png:\n",
      "Testing 0 img(105)_r\n",
      "\n"
     ]
    },
    {
     "name": "stderr",
     "output_type": "stream",
     "text": [
      "Processing train inputs:  28%|██████████████▊                                       | 277/1006 [22:06<51:22,  4.23s/it]"
     ]
    },
    {
     "name": "stdout",
     "output_type": "stream",
     "text": [
      "Success for img(1050)_b.png:\n",
      "Testing 0 img(1050)_b\n",
      "\n"
     ]
    },
    {
     "name": "stderr",
     "output_type": "stream",
     "text": [
      "Processing train inputs:  28%|██████████████▉                                       | 278/1006 [22:12<56:17,  4.64s/it]"
     ]
    },
    {
     "name": "stdout",
     "output_type": "stream",
     "text": [
      "Success for img(1050)_g.png:\n",
      "Testing 0 img(1050)_g\n",
      "\n"
     ]
    },
    {
     "name": "stderr",
     "output_type": "stream",
     "text": [
      "Processing train inputs:  28%|██████████████▉                                       | 279/1006 [22:17<59:58,  4.95s/it]"
     ]
    },
    {
     "name": "stdout",
     "output_type": "stream",
     "text": [
      "Success for img(1050)_n.png:\n",
      "Testing 0 img(1050)_n\n",
      "\n"
     ]
    },
    {
     "name": "stderr",
     "output_type": "stream",
     "text": [
      "Processing train inputs:  28%|██████████████▍                                     | 280/1006 [22:23<1:03:03,  5.21s/it]"
     ]
    },
    {
     "name": "stdout",
     "output_type": "stream",
     "text": [
      "Success for img(1050)_r.png:\n",
      "Testing 0 img(1050)_r\n",
      "\n"
     ]
    },
    {
     "name": "stderr",
     "output_type": "stream",
     "text": [
      "Processing train inputs:  28%|███████████████▏                                      | 282/1006 [22:29<51:07,  4.24s/it]"
     ]
    },
    {
     "name": "stdout",
     "output_type": "stream",
     "text": [
      "Success for img(1051)_b.png:\n",
      "Testing 0 img(1051)_b\n",
      "\n"
     ]
    },
    {
     "name": "stderr",
     "output_type": "stream",
     "text": [
      "Processing train inputs:  28%|███████████████▏                                      | 283/1006 [22:35<55:43,  4.62s/it]"
     ]
    },
    {
     "name": "stdout",
     "output_type": "stream",
     "text": [
      "Success for img(1051)_g.png:\n",
      "Testing 0 img(1051)_g\n",
      "\n"
     ]
    },
    {
     "name": "stderr",
     "output_type": "stream",
     "text": [
      "Processing train inputs:  28%|███████████████▏                                      | 284/1006 [22:41<59:21,  4.93s/it]"
     ]
    },
    {
     "name": "stdout",
     "output_type": "stream",
     "text": [
      "Success for img(1051)_n.png:\n",
      "Testing 0 img(1051)_n\n",
      "\n"
     ]
    },
    {
     "name": "stderr",
     "output_type": "stream",
     "text": [
      "Processing train inputs:  28%|██████████████▋                                     | 285/1006 [22:47<1:02:22,  5.19s/it]"
     ]
    },
    {
     "name": "stdout",
     "output_type": "stream",
     "text": [
      "Success for img(1051)_r.png:\n",
      "Testing 0 img(1051)_r\n",
      "\n"
     ]
    },
    {
     "name": "stderr",
     "output_type": "stream",
     "text": [
      "Processing train inputs:  29%|███████████████▍                                      | 287/1006 [22:53<50:34,  4.22s/it]"
     ]
    },
    {
     "name": "stdout",
     "output_type": "stream",
     "text": [
      "Success for img(1052)_b.png:\n",
      "Testing 0 img(1052)_b\n",
      "\n"
     ]
    },
    {
     "name": "stderr",
     "output_type": "stream",
     "text": [
      "Processing train inputs:  29%|███████████████▍                                      | 288/1006 [22:59<55:09,  4.61s/it]"
     ]
    },
    {
     "name": "stdout",
     "output_type": "stream",
     "text": [
      "Success for img(1052)_g.png:\n",
      "Testing 0 img(1052)_g\n",
      "\n"
     ]
    },
    {
     "name": "stderr",
     "output_type": "stream",
     "text": [
      "Processing train inputs:  29%|███████████████▌                                      | 289/1006 [23:05<59:00,  4.94s/it]"
     ]
    },
    {
     "name": "stdout",
     "output_type": "stream",
     "text": [
      "Success for img(1052)_n.png:\n",
      "Testing 0 img(1052)_n\n",
      "\n"
     ]
    },
    {
     "name": "stderr",
     "output_type": "stream",
     "text": [
      "Processing train inputs:  29%|██████████████▉                                     | 290/1006 [23:11<1:01:57,  5.19s/it]"
     ]
    },
    {
     "name": "stdout",
     "output_type": "stream",
     "text": [
      "Success for img(1052)_r.png:\n",
      "Testing 0 img(1052)_r\n",
      "\n"
     ]
    },
    {
     "name": "stderr",
     "output_type": "stream",
     "text": [
      "Processing train inputs:  29%|███████████████▋                                      | 292/1006 [23:16<50:19,  4.23s/it]"
     ]
    },
    {
     "name": "stdout",
     "output_type": "stream",
     "text": [
      "Success for img(106)_b.png:\n",
      "Testing 0 img(106)_b\n",
      "\n"
     ]
    },
    {
     "name": "stderr",
     "output_type": "stream",
     "text": [
      "Processing train inputs:  29%|███████████████▋                                      | 293/1006 [23:23<55:33,  4.68s/it]"
     ]
    },
    {
     "name": "stdout",
     "output_type": "stream",
     "text": [
      "Success for img(106)_g.png:\n",
      "Testing 0 img(106)_g\n",
      "\n"
     ]
    },
    {
     "name": "stderr",
     "output_type": "stream",
     "text": [
      "Processing train inputs:  29%|███████████████▊                                      | 294/1006 [23:28<59:11,  4.99s/it]"
     ]
    },
    {
     "name": "stdout",
     "output_type": "stream",
     "text": [
      "Success for img(106)_n.png:\n",
      "Testing 0 img(106)_n\n",
      "\n"
     ]
    },
    {
     "name": "stderr",
     "output_type": "stream",
     "text": [
      "Processing train inputs:  29%|███████████████▏                                    | 295/1006 [23:34<1:02:11,  5.25s/it]"
     ]
    },
    {
     "name": "stdout",
     "output_type": "stream",
     "text": [
      "Success for img(106)_r.png:\n",
      "Testing 0 img(106)_r\n",
      "\n"
     ]
    },
    {
     "name": "stderr",
     "output_type": "stream",
     "text": [
      "Processing train inputs:  30%|███████████████▉                                      | 297/1006 [23:40<50:17,  4.26s/it]"
     ]
    },
    {
     "name": "stdout",
     "output_type": "stream",
     "text": [
      "Success for img(107)_b.png:\n",
      "Testing 0 img(107)_b\n",
      "\n"
     ]
    },
    {
     "name": "stderr",
     "output_type": "stream",
     "text": [
      "Processing train inputs:  30%|███████████████▉                                      | 298/1006 [23:46<54:50,  4.65s/it]"
     ]
    },
    {
     "name": "stdout",
     "output_type": "stream",
     "text": [
      "Success for img(107)_g.png:\n",
      "Testing 0 img(107)_g\n",
      "\n"
     ]
    },
    {
     "name": "stderr",
     "output_type": "stream",
     "text": [
      "Processing train inputs:  30%|████████████████                                      | 299/1006 [23:52<58:27,  4.96s/it]"
     ]
    },
    {
     "name": "stdout",
     "output_type": "stream",
     "text": [
      "Success for img(107)_n.png:\n",
      "Testing 0 img(107)_n\n",
      "\n"
     ]
    },
    {
     "name": "stderr",
     "output_type": "stream",
     "text": [
      "Processing train inputs:  30%|███████████████▌                                    | 300/1006 [23:58<1:01:10,  5.20s/it]"
     ]
    },
    {
     "name": "stdout",
     "output_type": "stream",
     "text": [
      "Success for img(107)_r.png:\n",
      "Testing 0 img(107)_r\n",
      "\n"
     ]
    },
    {
     "name": "stderr",
     "output_type": "stream",
     "text": [
      "Processing train inputs:  30%|████████████████▏                                     | 302/1006 [24:04<49:33,  4.22s/it]"
     ]
    },
    {
     "name": "stdout",
     "output_type": "stream",
     "text": [
      "Success for img(108)_b.png:\n",
      "Testing 0 img(108)_b\n",
      "\n"
     ]
    },
    {
     "name": "stderr",
     "output_type": "stream",
     "text": [
      "Processing train inputs:  30%|████████████████▎                                     | 303/1006 [24:10<54:09,  4.62s/it]"
     ]
    },
    {
     "name": "stdout",
     "output_type": "stream",
     "text": [
      "Success for img(108)_g.png:\n",
      "Testing 0 img(108)_g\n",
      "\n"
     ]
    },
    {
     "name": "stderr",
     "output_type": "stream",
     "text": [
      "Processing train inputs:  30%|████████████████▎                                     | 304/1006 [24:16<57:51,  4.95s/it]"
     ]
    },
    {
     "name": "stdout",
     "output_type": "stream",
     "text": [
      "Success for img(108)_n.png:\n",
      "Testing 0 img(108)_n\n",
      "\n"
     ]
    },
    {
     "name": "stderr",
     "output_type": "stream",
     "text": [
      "Processing train inputs:  30%|███████████████▊                                    | 305/1006 [24:22<1:00:40,  5.19s/it]"
     ]
    },
    {
     "name": "stdout",
     "output_type": "stream",
     "text": [
      "Success for img(108)_r.png:\n",
      "Testing 0 img(108)_r\n",
      "\n"
     ]
    },
    {
     "name": "stderr",
     "output_type": "stream",
     "text": [
      "Processing train inputs:  31%|████████████████▍                                     | 307/1006 [24:27<49:16,  4.23s/it]"
     ]
    },
    {
     "name": "stdout",
     "output_type": "stream",
     "text": [
      "Success for img(109)_b.png:\n",
      "Testing 0 img(109)_b\n",
      "\n"
     ]
    },
    {
     "name": "stderr",
     "output_type": "stream",
     "text": [
      "Processing train inputs:  31%|████████████████▌                                     | 308/1006 [24:33<53:44,  4.62s/it]"
     ]
    },
    {
     "name": "stdout",
     "output_type": "stream",
     "text": [
      "Success for img(109)_g.png:\n",
      "Testing 0 img(109)_g\n",
      "\n"
     ]
    },
    {
     "name": "stderr",
     "output_type": "stream",
     "text": [
      "Processing train inputs:  31%|████████████████▌                                     | 309/1006 [24:39<57:55,  4.99s/it]"
     ]
    },
    {
     "name": "stdout",
     "output_type": "stream",
     "text": [
      "Success for img(109)_n.png:\n",
      "Testing 0 img(109)_n\n",
      "\n"
     ]
    },
    {
     "name": "stderr",
     "output_type": "stream",
     "text": [
      "Processing train inputs:  31%|████████████████                                    | 310/1006 [24:46<1:01:22,  5.29s/it]"
     ]
    },
    {
     "name": "stdout",
     "output_type": "stream",
     "text": [
      "Success for img(109)_r.png:\n",
      "Testing 0 img(109)_r\n",
      "\n"
     ]
    },
    {
     "name": "stderr",
     "output_type": "stream",
     "text": [
      "Processing train inputs:  31%|████████████████▋                                     | 312/1006 [24:52<50:07,  4.33s/it]"
     ]
    },
    {
     "name": "stdout",
     "output_type": "stream",
     "text": [
      "Success for img(110)_b.png:\n",
      "Testing 0 img(110)_b\n",
      "\n"
     ]
    },
    {
     "name": "stderr",
     "output_type": "stream",
     "text": [
      "Processing train inputs:  31%|████████████████▊                                     | 313/1006 [24:58<55:41,  4.82s/it]"
     ]
    },
    {
     "name": "stdout",
     "output_type": "stream",
     "text": [
      "Success for img(110)_g.png:\n",
      "Testing 0 img(110)_g\n",
      "\n"
     ]
    },
    {
     "name": "stderr",
     "output_type": "stream",
     "text": [
      "Processing train inputs:  31%|████████████████▊                                     | 314/1006 [25:04<59:41,  5.18s/it]"
     ]
    },
    {
     "name": "stdout",
     "output_type": "stream",
     "text": [
      "Success for img(110)_n.png:\n",
      "Testing 0 img(110)_n\n",
      "\n"
     ]
    },
    {
     "name": "stderr",
     "output_type": "stream",
     "text": [
      "Processing train inputs:  31%|████████████████▎                                   | 315/1006 [25:10<1:02:25,  5.42s/it]"
     ]
    },
    {
     "name": "stdout",
     "output_type": "stream",
     "text": [
      "Success for img(110)_r.png:\n",
      "Testing 0 img(110)_r\n",
      "\n"
     ]
    },
    {
     "name": "stderr",
     "output_type": "stream",
     "text": [
      "Processing train inputs:  32%|█████████████████                                     | 317/1006 [25:17<50:48,  4.42s/it]"
     ]
    },
    {
     "name": "stdout",
     "output_type": "stream",
     "text": [
      "Success for img(111)_b.png:\n",
      "Testing 0 img(111)_b\n",
      "\n"
     ]
    },
    {
     "name": "stderr",
     "output_type": "stream",
     "text": [
      "Processing train inputs:  32%|█████████████████                                     | 318/1006 [25:23<55:01,  4.80s/it]"
     ]
    },
    {
     "name": "stdout",
     "output_type": "stream",
     "text": [
      "Success for img(111)_g.png:\n",
      "Testing 0 img(111)_g\n",
      "\n"
     ]
    },
    {
     "name": "stderr",
     "output_type": "stream",
     "text": [
      "Processing train inputs:  32%|█████████████████                                     | 319/1006 [25:29<58:55,  5.15s/it]"
     ]
    },
    {
     "name": "stdout",
     "output_type": "stream",
     "text": [
      "Success for img(111)_n.png:\n",
      "Testing 0 img(111)_n\n",
      "\n"
     ]
    },
    {
     "name": "stderr",
     "output_type": "stream",
     "text": [
      "Processing train inputs:  32%|████████████████▌                                   | 320/1006 [25:35<1:01:58,  5.42s/it]"
     ]
    },
    {
     "name": "stdout",
     "output_type": "stream",
     "text": [
      "Success for img(111)_r.png:\n",
      "Testing 0 img(111)_r\n",
      "\n"
     ]
    },
    {
     "name": "stderr",
     "output_type": "stream",
     "text": [
      "Processing train inputs:  32%|█████████████████▎                                    | 322/1006 [25:41<50:25,  4.42s/it]"
     ]
    },
    {
     "name": "stdout",
     "output_type": "stream",
     "text": [
      "Success for img(112)_b.png:\n",
      "Testing 0 img(112)_b\n",
      "\n"
     ]
    },
    {
     "name": "stderr",
     "output_type": "stream",
     "text": [
      "Processing train inputs:  32%|█████████████████▎                                    | 323/1006 [25:48<56:13,  4.94s/it]"
     ]
    },
    {
     "name": "stdout",
     "output_type": "stream",
     "text": [
      "Success for img(112)_g.png:\n",
      "Testing 0 img(112)_g\n",
      "\n"
     ]
    },
    {
     "name": "stderr",
     "output_type": "stream",
     "text": [
      "Processing train inputs:  32%|████████████████▋                                   | 324/1006 [25:56<1:03:55,  5.62s/it]"
     ]
    },
    {
     "name": "stdout",
     "output_type": "stream",
     "text": [
      "Success for img(112)_n.png:\n",
      "Testing 0 img(112)_n\n",
      "\n"
     ]
    },
    {
     "name": "stderr",
     "output_type": "stream",
     "text": [
      "Processing train inputs:  32%|████████████████▊                                   | 325/1006 [26:02<1:06:06,  5.83s/it]"
     ]
    },
    {
     "name": "stdout",
     "output_type": "stream",
     "text": [
      "Success for img(112)_r.png:\n",
      "Testing 0 img(112)_r\n",
      "\n"
     ]
    },
    {
     "name": "stderr",
     "output_type": "stream",
     "text": [
      "Processing train inputs:  33%|█████████████████▌                                    | 327/1006 [26:09<54:45,  4.84s/it]"
     ]
    },
    {
     "name": "stdout",
     "output_type": "stream",
     "text": [
      "Success for img(113)_b.png:\n",
      "Testing 0 img(113)_b\n",
      "\n"
     ]
    },
    {
     "name": "stderr",
     "output_type": "stream",
     "text": [
      "Processing train inputs:  33%|█████████████████▌                                    | 328/1006 [26:15<58:58,  5.22s/it]"
     ]
    },
    {
     "name": "stdout",
     "output_type": "stream",
     "text": [
      "Success for img(113)_g.png:\n",
      "Testing 0 img(113)_g\n",
      "\n"
     ]
    },
    {
     "name": "stderr",
     "output_type": "stream",
     "text": [
      "Processing train inputs:  33%|█████████████████                                   | 329/1006 [26:22<1:02:09,  5.51s/it]"
     ]
    },
    {
     "name": "stdout",
     "output_type": "stream",
     "text": [
      "Success for img(113)_n.png:\n",
      "Testing 0 img(113)_n\n",
      "\n"
     ]
    },
    {
     "name": "stderr",
     "output_type": "stream",
     "text": [
      "Processing train inputs:  33%|█████████████████                                   | 330/1006 [26:28<1:03:50,  5.67s/it]"
     ]
    },
    {
     "name": "stdout",
     "output_type": "stream",
     "text": [
      "Success for img(113)_r.png:\n",
      "Testing 0 img(113)_r\n",
      "\n"
     ]
    },
    {
     "name": "stderr",
     "output_type": "stream",
     "text": [
      "Processing train inputs:  33%|█████████████████▊                                    | 332/1006 [26:34<51:32,  4.59s/it]"
     ]
    },
    {
     "name": "stdout",
     "output_type": "stream",
     "text": [
      "Success for img(114)_b.png:\n",
      "Testing 0 img(114)_b\n",
      "\n"
     ]
    },
    {
     "name": "stderr",
     "output_type": "stream",
     "text": [
      "Processing train inputs:  33%|█████████████████▊                                    | 333/1006 [26:41<55:58,  4.99s/it]"
     ]
    },
    {
     "name": "stdout",
     "output_type": "stream",
     "text": [
      "Success for img(114)_g.png:\n",
      "Testing 0 img(114)_g\n",
      "\n"
     ]
    },
    {
     "name": "stderr",
     "output_type": "stream",
     "text": [
      "Processing train inputs:  33%|█████████████████▉                                    | 334/1006 [26:47<59:27,  5.31s/it]"
     ]
    },
    {
     "name": "stdout",
     "output_type": "stream",
     "text": [
      "Success for img(114)_n.png:\n",
      "Testing 0 img(114)_n\n",
      "\n"
     ]
    },
    {
     "name": "stderr",
     "output_type": "stream",
     "text": [
      "Processing train inputs:  33%|█████████████████▎                                  | 335/1006 [26:53<1:03:28,  5.68s/it]"
     ]
    },
    {
     "name": "stdout",
     "output_type": "stream",
     "text": [
      "Success for img(114)_r.png:\n",
      "Testing 0 img(114)_r\n",
      "\n"
     ]
    },
    {
     "name": "stderr",
     "output_type": "stream",
     "text": [
      "Processing train inputs:  33%|██████████████████                                    | 337/1006 [27:00<50:47,  4.56s/it]"
     ]
    },
    {
     "name": "stdout",
     "output_type": "stream",
     "text": [
      "Success for img(115)_b.png:\n",
      "Testing 0 img(115)_b\n",
      "\n"
     ]
    },
    {
     "name": "stderr",
     "output_type": "stream",
     "text": [
      "Processing train inputs:  34%|██████████████████▏                                   | 338/1006 [27:06<55:40,  5.00s/it]"
     ]
    },
    {
     "name": "stdout",
     "output_type": "stream",
     "text": [
      "Success for img(115)_g.png:\n",
      "Testing 0 img(115)_g\n",
      "\n"
     ]
    },
    {
     "name": "stderr",
     "output_type": "stream",
     "text": [
      "Processing train inputs:  34%|██████████████████▏                                   | 339/1006 [27:12<58:31,  5.26s/it]"
     ]
    },
    {
     "name": "stdout",
     "output_type": "stream",
     "text": [
      "Success for img(115)_n.png:\n",
      "Testing 0 img(115)_n\n",
      "\n"
     ]
    },
    {
     "name": "stderr",
     "output_type": "stream",
     "text": [
      "Processing train inputs:  34%|█████████████████▌                                  | 340/1006 [27:18<1:01:13,  5.52s/it]"
     ]
    },
    {
     "name": "stdout",
     "output_type": "stream",
     "text": [
      "Success for img(115)_r.png:\n",
      "Testing 0 img(115)_r\n",
      "\n"
     ]
    },
    {
     "name": "stderr",
     "output_type": "stream",
     "text": [
      "Processing train inputs:  34%|██████████████████▎                                   | 342/1006 [27:25<49:40,  4.49s/it]"
     ]
    },
    {
     "name": "stdout",
     "output_type": "stream",
     "text": [
      "Success for img(116)_b.png:\n",
      "Testing 0 img(116)_b\n",
      "\n"
     ]
    },
    {
     "name": "stderr",
     "output_type": "stream",
     "text": [
      "Processing train inputs:  34%|██████████████████▍                                   | 343/1006 [27:31<54:52,  4.97s/it]"
     ]
    },
    {
     "name": "stdout",
     "output_type": "stream",
     "text": [
      "Success for img(116)_g.png:\n",
      "Testing 0 img(116)_g\n",
      "\n"
     ]
    },
    {
     "name": "stderr",
     "output_type": "stream",
     "text": [
      "Processing train inputs:  34%|██████████████████▍                                   | 344/1006 [27:37<58:30,  5.30s/it]"
     ]
    },
    {
     "name": "stdout",
     "output_type": "stream",
     "text": [
      "Success for img(116)_n.png:\n",
      "Testing 0 img(116)_n\n",
      "\n"
     ]
    },
    {
     "name": "stderr",
     "output_type": "stream",
     "text": [
      "Processing train inputs:  34%|█████████████████▊                                  | 345/1006 [27:44<1:01:19,  5.57s/it]"
     ]
    },
    {
     "name": "stdout",
     "output_type": "stream",
     "text": [
      "Success for img(116)_r.png:\n",
      "Testing 0 img(116)_r\n",
      "\n"
     ]
    },
    {
     "name": "stderr",
     "output_type": "stream",
     "text": [
      "Processing train inputs:  34%|██████████████████▋                                   | 347/1006 [27:50<49:27,  4.50s/it]"
     ]
    },
    {
     "name": "stdout",
     "output_type": "stream",
     "text": [
      "Success for img(117)_b.png:\n",
      "Testing 0 img(117)_b\n",
      "\n"
     ]
    },
    {
     "name": "stderr",
     "output_type": "stream",
     "text": [
      "Processing train inputs:  35%|██████████████████▋                                   | 348/1006 [27:56<53:50,  4.91s/it]"
     ]
    },
    {
     "name": "stdout",
     "output_type": "stream",
     "text": [
      "Success for img(117)_g.png:\n",
      "Testing 0 img(117)_g\n",
      "\n"
     ]
    },
    {
     "name": "stderr",
     "output_type": "stream",
     "text": [
      "Processing train inputs:  35%|██████████████████▋                                   | 349/1006 [28:02<56:42,  5.18s/it]"
     ]
    },
    {
     "name": "stdout",
     "output_type": "stream",
     "text": [
      "Success for img(117)_n.png:\n",
      "Testing 0 img(117)_n\n",
      "\n"
     ]
    },
    {
     "name": "stderr",
     "output_type": "stream",
     "text": [
      "Processing train inputs:  35%|██████████████████▊                                   | 350/1006 [28:08<59:26,  5.44s/it]"
     ]
    },
    {
     "name": "stdout",
     "output_type": "stream",
     "text": [
      "Success for img(117)_r.png:\n",
      "Testing 0 img(117)_r\n",
      "\n"
     ]
    },
    {
     "name": "stderr",
     "output_type": "stream",
     "text": [
      "Processing train inputs:  35%|██████████████████▉                                   | 352/1006 [28:14<48:05,  4.41s/it]"
     ]
    },
    {
     "name": "stdout",
     "output_type": "stream",
     "text": [
      "Success for img(118)_b.png:\n",
      "Testing 0 img(118)_b\n",
      "\n"
     ]
    },
    {
     "name": "stderr",
     "output_type": "stream",
     "text": [
      "Processing train inputs:  35%|██████████████████▉                                   | 353/1006 [28:21<52:33,  4.83s/it]"
     ]
    },
    {
     "name": "stdout",
     "output_type": "stream",
     "text": [
      "Success for img(118)_g.png:\n",
      "Testing 0 img(118)_g\n",
      "\n"
     ]
    },
    {
     "name": "stderr",
     "output_type": "stream",
     "text": [
      "Processing train inputs:  35%|███████████████████                                   | 354/1006 [28:27<56:06,  5.16s/it]"
     ]
    },
    {
     "name": "stdout",
     "output_type": "stream",
     "text": [
      "Success for img(118)_n.png:\n",
      "Testing 0 img(118)_n\n",
      "\n"
     ]
    },
    {
     "name": "stderr",
     "output_type": "stream",
     "text": [
      "Processing train inputs:  35%|███████████████████                                   | 355/1006 [28:33<58:40,  5.41s/it]"
     ]
    },
    {
     "name": "stdout",
     "output_type": "stream",
     "text": [
      "Success for img(118)_r.png:\n",
      "Testing 0 img(118)_r\n",
      "\n"
     ]
    },
    {
     "name": "stderr",
     "output_type": "stream",
     "text": [
      "Processing train inputs:  35%|███████████████████▏                                  | 357/1006 [28:39<47:18,  4.37s/it]"
     ]
    },
    {
     "name": "stdout",
     "output_type": "stream",
     "text": [
      "Success for img(119)_b.png:\n",
      "Testing 0 img(119)_b\n",
      "\n"
     ]
    },
    {
     "name": "stderr",
     "output_type": "stream",
     "text": [
      "Processing train inputs:  36%|███████████████████▏                                  | 358/1006 [28:45<51:45,  4.79s/it]"
     ]
    },
    {
     "name": "stdout",
     "output_type": "stream",
     "text": [
      "Success for img(119)_g.png:\n",
      "Testing 0 img(119)_g\n",
      "\n"
     ]
    },
    {
     "name": "stderr",
     "output_type": "stream",
     "text": [
      "Processing train inputs:  36%|███████████████████▎                                  | 359/1006 [28:51<55:55,  5.19s/it]"
     ]
    },
    {
     "name": "stdout",
     "output_type": "stream",
     "text": [
      "Success for img(119)_n.png:\n",
      "Testing 0 img(119)_n\n",
      "\n"
     ]
    },
    {
     "name": "stderr",
     "output_type": "stream",
     "text": [
      "Processing train inputs:  36%|███████████████████▎                                  | 360/1006 [28:58<58:38,  5.45s/it]"
     ]
    },
    {
     "name": "stdout",
     "output_type": "stream",
     "text": [
      "Success for img(119)_r.png:\n",
      "Testing 0 img(119)_r\n",
      "\n"
     ]
    },
    {
     "name": "stderr",
     "output_type": "stream",
     "text": [
      "Processing train inputs:  36%|███████████████████▍                                  | 362/1006 [29:04<47:24,  4.42s/it]"
     ]
    },
    {
     "name": "stdout",
     "output_type": "stream",
     "text": [
      "Success for img(120)_b.png:\n",
      "Testing 0 img(120)_b\n",
      "\n"
     ]
    },
    {
     "name": "stderr",
     "output_type": "stream",
     "text": [
      "Processing train inputs:  36%|███████████████████▍                                  | 363/1006 [29:10<51:15,  4.78s/it]"
     ]
    },
    {
     "name": "stdout",
     "output_type": "stream",
     "text": [
      "Success for img(120)_g.png:\n",
      "Testing 0 img(120)_g\n",
      "\n"
     ]
    },
    {
     "name": "stderr",
     "output_type": "stream",
     "text": [
      "Processing train inputs:  36%|███████████████████▌                                  | 364/1006 [29:16<54:58,  5.14s/it]"
     ]
    },
    {
     "name": "stdout",
     "output_type": "stream",
     "text": [
      "Success for img(120)_n.png:\n",
      "Testing 0 img(120)_n\n",
      "\n"
     ]
    },
    {
     "name": "stderr",
     "output_type": "stream",
     "text": [
      "Processing train inputs:  36%|███████████████████▌                                  | 365/1006 [29:22<57:43,  5.40s/it]"
     ]
    },
    {
     "name": "stdout",
     "output_type": "stream",
     "text": [
      "Success for img(120)_r.png:\n",
      "Testing 0 img(120)_r\n",
      "\n"
     ]
    },
    {
     "name": "stderr",
     "output_type": "stream",
     "text": [
      "Processing train inputs:  36%|███████████████████▋                                  | 367/1006 [29:28<46:37,  4.38s/it]"
     ]
    },
    {
     "name": "stdout",
     "output_type": "stream",
     "text": [
      "Success for img(121)_b.png:\n",
      "Testing 0 img(121)_b\n",
      "\n"
     ]
    },
    {
     "name": "stderr",
     "output_type": "stream",
     "text": [
      "Processing train inputs:  37%|███████████████████▊                                  | 368/1006 [29:34<50:24,  4.74s/it]"
     ]
    },
    {
     "name": "stdout",
     "output_type": "stream",
     "text": [
      "Success for img(121)_g.png:\n",
      "Testing 0 img(121)_g\n",
      "\n"
     ]
    },
    {
     "name": "stderr",
     "output_type": "stream",
     "text": [
      "Processing train inputs:  37%|███████████████████▊                                  | 369/1006 [29:40<53:52,  5.07s/it]"
     ]
    },
    {
     "name": "stdout",
     "output_type": "stream",
     "text": [
      "Success for img(121)_n.png:\n",
      "Testing 0 img(121)_n\n",
      "\n"
     ]
    },
    {
     "name": "stderr",
     "output_type": "stream",
     "text": [
      "Processing train inputs:  37%|███████████████████▊                                  | 370/1006 [29:46<56:27,  5.33s/it]"
     ]
    },
    {
     "name": "stdout",
     "output_type": "stream",
     "text": [
      "Success for img(121)_r.png:\n",
      "Testing 0 img(121)_r\n",
      "\n"
     ]
    },
    {
     "name": "stderr",
     "output_type": "stream",
     "text": [
      "Processing train inputs:  37%|███████████████████▉                                  | 372/1006 [29:52<45:42,  4.33s/it]"
     ]
    },
    {
     "name": "stdout",
     "output_type": "stream",
     "text": [
      "Success for img(122)_b.png:\n",
      "Testing 0 img(122)_b\n",
      "\n"
     ]
    },
    {
     "name": "stderr",
     "output_type": "stream",
     "text": [
      "Processing train inputs:  37%|████████████████████                                  | 373/1006 [29:58<50:07,  4.75s/it]"
     ]
    },
    {
     "name": "stdout",
     "output_type": "stream",
     "text": [
      "Success for img(122)_g.png:\n",
      "Testing 0 img(122)_g\n",
      "\n"
     ]
    },
    {
     "name": "stderr",
     "output_type": "stream",
     "text": [
      "Processing train inputs:  37%|████████████████████                                  | 374/1006 [30:04<53:49,  5.11s/it]"
     ]
    },
    {
     "name": "stdout",
     "output_type": "stream",
     "text": [
      "Success for img(122)_n.png:\n",
      "Testing 0 img(122)_n\n",
      "\n"
     ]
    },
    {
     "name": "stderr",
     "output_type": "stream",
     "text": [
      "Processing train inputs:  37%|████████████████████▏                                 | 375/1006 [30:10<56:15,  5.35s/it]"
     ]
    },
    {
     "name": "stdout",
     "output_type": "stream",
     "text": [
      "Success for img(122)_r.png:\n",
      "Testing 0 img(122)_r\n",
      "\n"
     ]
    },
    {
     "name": "stderr",
     "output_type": "stream",
     "text": [
      "Processing train inputs:  37%|████████████████████▏                                 | 377/1006 [30:17<47:13,  4.50s/it]"
     ]
    },
    {
     "name": "stdout",
     "output_type": "stream",
     "text": [
      "Success for img(123)_b.png:\n",
      "Testing 0 img(123)_b\n",
      "\n"
     ]
    },
    {
     "name": "stderr",
     "output_type": "stream",
     "text": [
      "Processing train inputs:  38%|████████████████████▎                                 | 378/1006 [30:23<51:11,  4.89s/it]"
     ]
    },
    {
     "name": "stdout",
     "output_type": "stream",
     "text": [
      "Success for img(123)_g.png:\n",
      "Testing 0 img(123)_g\n",
      "\n"
     ]
    },
    {
     "name": "stderr",
     "output_type": "stream",
     "text": [
      "Processing train inputs:  38%|████████████████████▎                                 | 379/1006 [30:30<54:47,  5.24s/it]"
     ]
    },
    {
     "name": "stdout",
     "output_type": "stream",
     "text": [
      "Success for img(123)_n.png:\n",
      "Testing 0 img(123)_n\n",
      "\n"
     ]
    },
    {
     "name": "stderr",
     "output_type": "stream",
     "text": [
      "Processing train inputs:  38%|████████████████████▍                                 | 380/1006 [30:36<57:46,  5.54s/it]"
     ]
    },
    {
     "name": "stdout",
     "output_type": "stream",
     "text": [
      "Success for img(123)_r.png:\n",
      "Testing 0 img(123)_r\n",
      "\n"
     ]
    },
    {
     "name": "stderr",
     "output_type": "stream",
     "text": [
      "Processing train inputs:  38%|████████████████████▌                                 | 382/1006 [30:43<48:21,  4.65s/it]"
     ]
    },
    {
     "name": "stdout",
     "output_type": "stream",
     "text": [
      "Success for img(124)_b.png:\n",
      "Testing 0 img(124)_b\n",
      "\n"
     ]
    },
    {
     "name": "stderr",
     "output_type": "stream",
     "text": [
      "Processing train inputs:  38%|████████████████████▌                                 | 383/1006 [30:49<52:22,  5.04s/it]"
     ]
    },
    {
     "name": "stdout",
     "output_type": "stream",
     "text": [
      "Success for img(124)_g.png:\n",
      "Testing 0 img(124)_g\n",
      "\n"
     ]
    },
    {
     "name": "stderr",
     "output_type": "stream",
     "text": [
      "Processing train inputs:  38%|████████████████████▌                                 | 384/1006 [30:55<55:00,  5.31s/it]"
     ]
    },
    {
     "name": "stdout",
     "output_type": "stream",
     "text": [
      "Success for img(124)_n.png:\n",
      "Testing 0 img(124)_n\n",
      "\n"
     ]
    },
    {
     "name": "stderr",
     "output_type": "stream",
     "text": [
      "Processing train inputs:  38%|████████████████████▋                                 | 385/1006 [31:01<57:23,  5.55s/it]"
     ]
    },
    {
     "name": "stdout",
     "output_type": "stream",
     "text": [
      "Success for img(124)_r.png:\n",
      "Testing 0 img(124)_r\n",
      "\n"
     ]
    },
    {
     "name": "stderr",
     "output_type": "stream",
     "text": [
      "Processing train inputs:  38%|████████████████████▊                                 | 387/1006 [31:09<48:30,  4.70s/it]"
     ]
    },
    {
     "name": "stdout",
     "output_type": "stream",
     "text": [
      "Success for img(125)_b.png:\n",
      "Testing 0 img(125)_b\n",
      "\n"
     ]
    },
    {
     "name": "stderr",
     "output_type": "stream",
     "text": [
      "Processing train inputs:  39%|████████████████████▊                                 | 388/1006 [31:15<52:28,  5.09s/it]"
     ]
    },
    {
     "name": "stdout",
     "output_type": "stream",
     "text": [
      "Success for img(125)_g.png:\n",
      "Testing 0 img(125)_g\n",
      "\n"
     ]
    },
    {
     "name": "stderr",
     "output_type": "stream",
     "text": [
      "Processing train inputs:  39%|████████████████████                                | 389/1006 [31:23<1:00:24,  5.87s/it]"
     ]
    },
    {
     "name": "stdout",
     "output_type": "stream",
     "text": [
      "Success for img(125)_n.png:\n",
      "Testing 0 img(125)_n\n",
      "\n"
     ]
    },
    {
     "name": "stderr",
     "output_type": "stream",
     "text": [
      "Processing train inputs:  39%|████████████████████▏                               | 390/1006 [31:30<1:01:34,  6.00s/it]"
     ]
    },
    {
     "name": "stdout",
     "output_type": "stream",
     "text": [
      "Success for img(125)_r.png:\n",
      "Testing 0 img(125)_r\n",
      "\n"
     ]
    },
    {
     "name": "stderr",
     "output_type": "stream",
     "text": [
      "Processing train inputs:  39%|█████████████████████                                 | 392/1006 [31:37<50:44,  4.96s/it]"
     ]
    },
    {
     "name": "stdout",
     "output_type": "stream",
     "text": [
      "Success for img(126)_b.png:\n",
      "Testing 0 img(126)_b\n",
      "\n"
     ]
    },
    {
     "name": "stderr",
     "output_type": "stream",
     "text": [
      "Processing train inputs:  39%|█████████████████████                                 | 393/1006 [31:43<54:32,  5.34s/it]"
     ]
    },
    {
     "name": "stdout",
     "output_type": "stream",
     "text": [
      "Success for img(126)_g.png:\n",
      "Testing 0 img(126)_g\n",
      "\n"
     ]
    },
    {
     "name": "stderr",
     "output_type": "stream",
     "text": [
      "Processing train inputs:  39%|█████████████████████▏                                | 394/1006 [31:49<56:13,  5.51s/it]"
     ]
    },
    {
     "name": "stdout",
     "output_type": "stream",
     "text": [
      "Success for img(126)_n.png:\n",
      "Testing 0 img(126)_n\n",
      "\n"
     ]
    },
    {
     "name": "stderr",
     "output_type": "stream",
     "text": [
      "Processing train inputs:  39%|█████████████████████▏                                | 395/1006 [31:55<57:21,  5.63s/it]"
     ]
    },
    {
     "name": "stdout",
     "output_type": "stream",
     "text": [
      "Success for img(126)_r.png:\n",
      "Testing 0 img(126)_r\n",
      "\n"
     ]
    },
    {
     "name": "stderr",
     "output_type": "stream",
     "text": [
      "Processing train inputs:  39%|█████████████████████▎                                | 397/1006 [32:01<45:30,  4.48s/it]"
     ]
    },
    {
     "name": "stdout",
     "output_type": "stream",
     "text": [
      "Success for img(127)_b.png:\n",
      "Testing 0 img(127)_b\n",
      "\n"
     ]
    },
    {
     "name": "stderr",
     "output_type": "stream",
     "text": [
      "Processing train inputs:  40%|█████████████████████▎                                | 398/1006 [32:08<50:25,  4.98s/it]"
     ]
    },
    {
     "name": "stdout",
     "output_type": "stream",
     "text": [
      "Success for img(127)_g.png:\n",
      "Testing 0 img(127)_g\n",
      "\n"
     ]
    },
    {
     "name": "stderr",
     "output_type": "stream",
     "text": [
      "Processing train inputs:  40%|█████████████████████▍                                | 399/1006 [32:14<53:26,  5.28s/it]"
     ]
    },
    {
     "name": "stdout",
     "output_type": "stream",
     "text": [
      "Success for img(127)_n.png:\n",
      "Testing 0 img(127)_n\n",
      "\n"
     ]
    },
    {
     "name": "stderr",
     "output_type": "stream",
     "text": [
      "Processing train inputs:  40%|█████████████████████▍                                | 400/1006 [32:20<55:52,  5.53s/it]"
     ]
    },
    {
     "name": "stdout",
     "output_type": "stream",
     "text": [
      "Success for img(127)_r.png:\n",
      "Testing 0 img(127)_r\n",
      "\n"
     ]
    },
    {
     "name": "stderr",
     "output_type": "stream",
     "text": [
      "Processing train inputs:  40%|█████████████████████▌                                | 402/1006 [32:26<45:17,  4.50s/it]"
     ]
    },
    {
     "name": "stdout",
     "output_type": "stream",
     "text": [
      "Success for img(128)_b.png:\n",
      "Testing 0 img(128)_b\n",
      "\n"
     ]
    },
    {
     "name": "stderr",
     "output_type": "stream",
     "text": [
      "Processing train inputs:  40%|█████████████████████▋                                | 403/1006 [32:32<48:37,  4.84s/it]"
     ]
    },
    {
     "name": "stdout",
     "output_type": "stream",
     "text": [
      "Success for img(128)_g.png:\n",
      "Testing 0 img(128)_g\n",
      "\n"
     ]
    },
    {
     "name": "stderr",
     "output_type": "stream",
     "text": [
      "Processing train inputs:  40%|█████████████████████▋                                | 404/1006 [32:38<51:22,  5.12s/it]"
     ]
    },
    {
     "name": "stdout",
     "output_type": "stream",
     "text": [
      "Success for img(128)_n.png:\n",
      "Testing 0 img(128)_n\n",
      "\n"
     ]
    },
    {
     "name": "stderr",
     "output_type": "stream",
     "text": [
      "Processing train inputs:  40%|█████████████████████▋                                | 405/1006 [32:45<54:03,  5.40s/it]"
     ]
    },
    {
     "name": "stdout",
     "output_type": "stream",
     "text": [
      "Success for img(128)_r.png:\n",
      "Testing 0 img(128)_r\n",
      "\n"
     ]
    },
    {
     "name": "stderr",
     "output_type": "stream",
     "text": [
      "Processing train inputs:  40%|█████████████████████▊                                | 407/1006 [32:51<43:42,  4.38s/it]"
     ]
    },
    {
     "name": "stdout",
     "output_type": "stream",
     "text": [
      "Success for img(129)_b.png:\n",
      "Testing 0 img(129)_b\n",
      "\n"
     ]
    },
    {
     "name": "stderr",
     "output_type": "stream",
     "text": [
      "Processing train inputs:  41%|█████████████████████▉                                | 408/1006 [32:57<47:47,  4.80s/it]"
     ]
    },
    {
     "name": "stdout",
     "output_type": "stream",
     "text": [
      "Success for img(129)_g.png:\n",
      "Testing 0 img(129)_g\n",
      "\n"
     ]
    },
    {
     "name": "stderr",
     "output_type": "stream",
     "text": [
      "Processing train inputs:  41%|█████████████████████▉                                | 409/1006 [33:03<51:05,  5.14s/it]"
     ]
    },
    {
     "name": "stdout",
     "output_type": "stream",
     "text": [
      "Success for img(129)_n.png:\n",
      "Testing 0 img(129)_n\n",
      "\n"
     ]
    },
    {
     "name": "stderr",
     "output_type": "stream",
     "text": [
      "Processing train inputs:  41%|██████████████████████                                | 410/1006 [33:09<53:47,  5.41s/it]"
     ]
    },
    {
     "name": "stdout",
     "output_type": "stream",
     "text": [
      "Success for img(129)_r.png:\n",
      "Testing 0 img(129)_r\n",
      "\n"
     ]
    },
    {
     "name": "stderr",
     "output_type": "stream",
     "text": [
      "Processing train inputs:  41%|██████████████████████                                | 412/1006 [33:15<43:24,  4.39s/it]"
     ]
    },
    {
     "name": "stdout",
     "output_type": "stream",
     "text": [
      "Success for img(130)_b.png:\n",
      "Testing 0 img(130)_b\n",
      "\n"
     ]
    },
    {
     "name": "stderr",
     "output_type": "stream",
     "text": [
      "Processing train inputs:  41%|██████████████████████▏                               | 413/1006 [33:21<47:04,  4.76s/it]"
     ]
    },
    {
     "name": "stdout",
     "output_type": "stream",
     "text": [
      "Success for img(130)_g.png:\n",
      "Testing 0 img(130)_g\n",
      "\n"
     ]
    },
    {
     "name": "stderr",
     "output_type": "stream",
     "text": [
      "Processing train inputs:  41%|██████████████████████▏                               | 414/1006 [33:27<50:03,  5.07s/it]"
     ]
    },
    {
     "name": "stdout",
     "output_type": "stream",
     "text": [
      "Success for img(130)_n.png:\n",
      "Testing 0 img(130)_n\n",
      "\n"
     ]
    },
    {
     "name": "stderr",
     "output_type": "stream",
     "text": [
      "Processing train inputs:  41%|██████████████████████▎                               | 415/1006 [33:33<52:49,  5.36s/it]"
     ]
    },
    {
     "name": "stdout",
     "output_type": "stream",
     "text": [
      "Success for img(130)_r.png:\n",
      "Testing 0 img(130)_r\n",
      "\n"
     ]
    },
    {
     "name": "stderr",
     "output_type": "stream",
     "text": [
      "Processing train inputs:  41%|██████████████████████▍                               | 417/1006 [33:39<42:46,  4.36s/it]"
     ]
    },
    {
     "name": "stdout",
     "output_type": "stream",
     "text": [
      "Success for img(131)_b.png:\n",
      "Testing 0 img(131)_b\n",
      "\n"
     ]
    },
    {
     "name": "stderr",
     "output_type": "stream",
     "text": [
      "Processing train inputs:  42%|██████████████████████▍                               | 418/1006 [33:46<47:04,  4.80s/it]"
     ]
    },
    {
     "name": "stdout",
     "output_type": "stream",
     "text": [
      "Success for img(131)_g.png:\n",
      "Testing 0 img(131)_g\n",
      "\n"
     ]
    },
    {
     "name": "stderr",
     "output_type": "stream",
     "text": [
      "Processing train inputs:  42%|██████████████████████▍                               | 419/1006 [33:52<50:25,  5.15s/it]"
     ]
    },
    {
     "name": "stdout",
     "output_type": "stream",
     "text": [
      "Success for img(131)_n.png:\n",
      "Testing 0 img(131)_n\n",
      "\n"
     ]
    },
    {
     "name": "stderr",
     "output_type": "stream",
     "text": [
      "Processing train inputs:  42%|██████████████████████▌                               | 420/1006 [33:58<53:29,  5.48s/it]"
     ]
    },
    {
     "name": "stdout",
     "output_type": "stream",
     "text": [
      "Success for img(131)_r.png:\n",
      "Testing 0 img(131)_r\n",
      "\n"
     ]
    },
    {
     "name": "stderr",
     "output_type": "stream",
     "text": [
      "Processing train inputs:  42%|██████████████████████▋                               | 422/1006 [34:04<42:55,  4.41s/it]"
     ]
    },
    {
     "name": "stdout",
     "output_type": "stream",
     "text": [
      "Success for img(132)_b.png:\n",
      "Testing 0 img(132)_b\n",
      "\n"
     ]
    },
    {
     "name": "stderr",
     "output_type": "stream",
     "text": [
      "Processing train inputs:  42%|██████████████████████▋                               | 423/1006 [34:10<46:25,  4.78s/it]"
     ]
    },
    {
     "name": "stdout",
     "output_type": "stream",
     "text": [
      "Success for img(132)_g.png:\n",
      "Testing 0 img(132)_g\n",
      "\n"
     ]
    },
    {
     "name": "stderr",
     "output_type": "stream",
     "text": [
      "Processing train inputs:  42%|██████████████████████▊                               | 424/1006 [34:17<50:26,  5.20s/it]"
     ]
    },
    {
     "name": "stdout",
     "output_type": "stream",
     "text": [
      "Success for img(132)_n.png:\n",
      "Testing 0 img(132)_n\n",
      "\n"
     ]
    },
    {
     "name": "stderr",
     "output_type": "stream",
     "text": [
      "Processing train inputs:  42%|██████████████████████▊                               | 425/1006 [34:23<52:35,  5.43s/it]"
     ]
    },
    {
     "name": "stdout",
     "output_type": "stream",
     "text": [
      "Success for img(132)_r.png:\n",
      "Testing 0 img(132)_r\n",
      "\n"
     ]
    },
    {
     "name": "stderr",
     "output_type": "stream",
     "text": [
      "Processing train inputs:  42%|██████████████████████▉                               | 427/1006 [34:29<42:52,  4.44s/it]"
     ]
    },
    {
     "name": "stdout",
     "output_type": "stream",
     "text": [
      "Success for img(133)_b.png:\n",
      "Testing 0 img(133)_b\n",
      "\n"
     ]
    },
    {
     "name": "stderr",
     "output_type": "stream",
     "text": [
      "Processing train inputs:  43%|██████████████████████▉                               | 428/1006 [34:35<47:22,  4.92s/it]"
     ]
    },
    {
     "name": "stdout",
     "output_type": "stream",
     "text": [
      "Success for img(133)_g.png:\n",
      "Testing 0 img(133)_g\n",
      "\n"
     ]
    },
    {
     "name": "stderr",
     "output_type": "stream",
     "text": [
      "Processing train inputs:  43%|███████████████████████                               | 429/1006 [34:42<50:41,  5.27s/it]"
     ]
    },
    {
     "name": "stdout",
     "output_type": "stream",
     "text": [
      "Success for img(133)_n.png:\n",
      "Testing 0 img(133)_n\n",
      "\n"
     ]
    },
    {
     "name": "stderr",
     "output_type": "stream",
     "text": [
      "Processing train inputs:  43%|███████████████████████                               | 430/1006 [34:48<53:15,  5.55s/it]"
     ]
    },
    {
     "name": "stdout",
     "output_type": "stream",
     "text": [
      "Success for img(133)_r.png:\n",
      "Testing 0 img(133)_r\n",
      "\n"
     ]
    },
    {
     "name": "stderr",
     "output_type": "stream",
     "text": [
      "Processing train inputs:  43%|███████████████████████▏                              | 432/1006 [34:54<42:54,  4.49s/it]"
     ]
    },
    {
     "name": "stdout",
     "output_type": "stream",
     "text": [
      "Success for img(134)_b.png:\n",
      "Testing 0 img(134)_b\n",
      "\n"
     ]
    },
    {
     "name": "stderr",
     "output_type": "stream",
     "text": [
      "Processing train inputs:  43%|███████████████████████▏                              | 433/1006 [35:00<46:00,  4.82s/it]"
     ]
    },
    {
     "name": "stdout",
     "output_type": "stream",
     "text": [
      "Success for img(134)_g.png:\n",
      "Testing 0 img(134)_g\n",
      "\n"
     ]
    },
    {
     "name": "stderr",
     "output_type": "stream",
     "text": [
      "Processing train inputs:  43%|███████████████████████▎                              | 434/1006 [35:06<48:29,  5.09s/it]"
     ]
    },
    {
     "name": "stdout",
     "output_type": "stream",
     "text": [
      "Success for img(134)_n.png:\n",
      "Testing 0 img(134)_n\n",
      "\n"
     ]
    },
    {
     "name": "stderr",
     "output_type": "stream",
     "text": [
      "Processing train inputs:  43%|███████████████████████▎                              | 435/1006 [35:12<50:38,  5.32s/it]"
     ]
    },
    {
     "name": "stdout",
     "output_type": "stream",
     "text": [
      "Success for img(134)_r.png:\n",
      "Testing 0 img(134)_r\n",
      "\n"
     ]
    },
    {
     "name": "stderr",
     "output_type": "stream",
     "text": [
      "Processing train inputs:  43%|███████████████████████▍                              | 437/1006 [35:18<40:52,  4.31s/it]"
     ]
    },
    {
     "name": "stdout",
     "output_type": "stream",
     "text": [
      "Success for img(135)_b.png:\n",
      "Testing 0 img(135)_b\n",
      "\n"
     ]
    },
    {
     "name": "stderr",
     "output_type": "stream",
     "text": [
      "Processing train inputs:  44%|███████████████████████▌                              | 438/1006 [35:24<44:53,  4.74s/it]"
     ]
    },
    {
     "name": "stdout",
     "output_type": "stream",
     "text": [
      "Success for img(135)_g.png:\n",
      "Testing 0 img(135)_g\n",
      "\n"
     ]
    },
    {
     "name": "stderr",
     "output_type": "stream",
     "text": [
      "Processing train inputs:  44%|███████████████████████▌                              | 439/1006 [35:30<48:46,  5.16s/it]"
     ]
    },
    {
     "name": "stdout",
     "output_type": "stream",
     "text": [
      "Success for img(135)_n.png:\n",
      "Testing 0 img(135)_n\n",
      "\n"
     ]
    },
    {
     "name": "stderr",
     "output_type": "stream",
     "text": [
      "Processing train inputs:  44%|███████████████████████▌                              | 440/1006 [35:37<52:25,  5.56s/it]"
     ]
    },
    {
     "name": "stdout",
     "output_type": "stream",
     "text": [
      "Success for img(135)_r.png:\n",
      "Testing 0 img(135)_r\n",
      "\n"
     ]
    },
    {
     "name": "stderr",
     "output_type": "stream",
     "text": [
      "Processing train inputs:  44%|███████████████████████▋                              | 442/1006 [35:44<43:10,  4.59s/it]"
     ]
    },
    {
     "name": "stdout",
     "output_type": "stream",
     "text": [
      "Success for img(136)_b.png:\n",
      "Testing 0 img(136)_b\n",
      "\n"
     ]
    },
    {
     "name": "stderr",
     "output_type": "stream",
     "text": [
      "Processing train inputs:  44%|███████████████████████▊                              | 443/1006 [35:50<46:38,  4.97s/it]"
     ]
    },
    {
     "name": "stdout",
     "output_type": "stream",
     "text": [
      "Success for img(136)_g.png:\n",
      "Testing 0 img(136)_g\n",
      "\n"
     ]
    },
    {
     "name": "stderr",
     "output_type": "stream",
     "text": [
      "Processing train inputs:  44%|███████████████████████▊                              | 444/1006 [35:57<50:20,  5.37s/it]"
     ]
    },
    {
     "name": "stdout",
     "output_type": "stream",
     "text": [
      "Success for img(136)_n.png:\n",
      "Testing 0 img(136)_n\n",
      "\n"
     ]
    },
    {
     "name": "stderr",
     "output_type": "stream",
     "text": [
      "Processing train inputs:  44%|███████████████████████▉                              | 445/1006 [36:03<52:14,  5.59s/it]"
     ]
    },
    {
     "name": "stdout",
     "output_type": "stream",
     "text": [
      "Success for img(136)_r.png:\n",
      "Testing 0 img(136)_r\n",
      "\n"
     ]
    },
    {
     "name": "stderr",
     "output_type": "stream",
     "text": [
      "Processing train inputs:  44%|███████████████████████▉                              | 447/1006 [36:10<43:27,  4.67s/it]"
     ]
    },
    {
     "name": "stdout",
     "output_type": "stream",
     "text": [
      "Success for img(137)_b.png:\n",
      "Testing 0 img(137)_b\n",
      "\n"
     ]
    },
    {
     "name": "stderr",
     "output_type": "stream",
     "text": [
      "Processing train inputs:  45%|████████████████████████                              | 448/1006 [36:16<46:07,  4.96s/it]"
     ]
    },
    {
     "name": "stdout",
     "output_type": "stream",
     "text": [
      "Success for img(137)_g.png:\n",
      "Testing 0 img(137)_g\n",
      "\n"
     ]
    },
    {
     "name": "stderr",
     "output_type": "stream",
     "text": [
      "Processing train inputs:  45%|████████████████████████                              | 449/1006 [36:21<48:22,  5.21s/it]"
     ]
    },
    {
     "name": "stdout",
     "output_type": "stream",
     "text": [
      "Success for img(137)_n.png:\n",
      "Testing 0 img(137)_n\n",
      "\n"
     ]
    },
    {
     "name": "stderr",
     "output_type": "stream",
     "text": [
      "Processing train inputs:  45%|████████████████████████▏                             | 450/1006 [36:27<50:05,  5.41s/it]"
     ]
    },
    {
     "name": "stdout",
     "output_type": "stream",
     "text": [
      "Success for img(137)_r.png:\n",
      "Testing 0 img(137)_r\n",
      "\n"
     ]
    },
    {
     "name": "stderr",
     "output_type": "stream",
     "text": [
      "Processing train inputs:  45%|████████████████████████▎                             | 452/1006 [36:33<40:24,  4.38s/it]"
     ]
    },
    {
     "name": "stdout",
     "output_type": "stream",
     "text": [
      "Success for img(138)_b.png:\n",
      "Testing 0 img(138)_b\n",
      "\n"
     ]
    },
    {
     "name": "stderr",
     "output_type": "stream",
     "text": [
      "Processing train inputs:  45%|████████████████████████▎                             | 453/1006 [36:39<43:55,  4.76s/it]"
     ]
    },
    {
     "name": "stdout",
     "output_type": "stream",
     "text": [
      "Success for img(138)_g.png:\n",
      "Testing 0 img(138)_g\n",
      "\n"
     ]
    },
    {
     "name": "stderr",
     "output_type": "stream",
     "text": [
      "Processing train inputs:  45%|████████████████████████▎                             | 454/1006 [36:45<46:36,  5.07s/it]"
     ]
    },
    {
     "name": "stdout",
     "output_type": "stream",
     "text": [
      "Success for img(138)_n.png:\n",
      "Testing 0 img(138)_n\n",
      "\n"
     ]
    },
    {
     "name": "stderr",
     "output_type": "stream",
     "text": [
      "Processing train inputs:  45%|████████████████████████▍                             | 455/1006 [36:51<48:29,  5.28s/it]"
     ]
    },
    {
     "name": "stdout",
     "output_type": "stream",
     "text": [
      "Success for img(138)_r.png:\n",
      "Testing 0 img(138)_r\n",
      "\n"
     ]
    },
    {
     "name": "stderr",
     "output_type": "stream",
     "text": [
      "Processing train inputs:  45%|████████████████████████▌                             | 457/1006 [36:57<39:10,  4.28s/it]"
     ]
    },
    {
     "name": "stdout",
     "output_type": "stream",
     "text": [
      "Success for img(139)_b.png:\n",
      "Testing 0 img(139)_b\n",
      "\n"
     ]
    },
    {
     "name": "stderr",
     "output_type": "stream",
     "text": [
      "Processing train inputs:  46%|████████████████████████▌                             | 458/1006 [37:03<42:29,  4.65s/it]"
     ]
    },
    {
     "name": "stdout",
     "output_type": "stream",
     "text": [
      "Success for img(139)_g.png:\n",
      "Testing 0 img(139)_g\n",
      "\n"
     ]
    },
    {
     "name": "stderr",
     "output_type": "stream",
     "text": [
      "Processing train inputs:  46%|████████████████████████▋                             | 459/1006 [37:09<45:20,  4.97s/it]"
     ]
    },
    {
     "name": "stdout",
     "output_type": "stream",
     "text": [
      "Success for img(139)_n.png:\n",
      "Testing 0 img(139)_n\n",
      "\n"
     ]
    },
    {
     "name": "stderr",
     "output_type": "stream",
     "text": [
      "Processing train inputs:  46%|████████████████████████▋                             | 460/1006 [37:15<47:45,  5.25s/it]"
     ]
    },
    {
     "name": "stdout",
     "output_type": "stream",
     "text": [
      "Success for img(139)_r.png:\n",
      "Testing 0 img(139)_r\n",
      "\n"
     ]
    },
    {
     "name": "stderr",
     "output_type": "stream",
     "text": [
      "Processing train inputs:  46%|████████████████████████▊                             | 462/1006 [37:21<38:41,  4.27s/it]"
     ]
    },
    {
     "name": "stdout",
     "output_type": "stream",
     "text": [
      "Success for img(140)_b.png:\n",
      "Testing 0 img(140)_b\n",
      "\n"
     ]
    },
    {
     "name": "stderr",
     "output_type": "stream",
     "text": [
      "Processing train inputs:  46%|████████████████████████▊                             | 463/1006 [37:27<42:13,  4.67s/it]"
     ]
    },
    {
     "name": "stdout",
     "output_type": "stream",
     "text": [
      "Success for img(140)_g.png:\n",
      "Testing 0 img(140)_g\n",
      "\n"
     ]
    },
    {
     "name": "stderr",
     "output_type": "stream",
     "text": [
      "Processing train inputs:  46%|████████████████████████▉                             | 464/1006 [37:33<44:58,  4.98s/it]"
     ]
    },
    {
     "name": "stdout",
     "output_type": "stream",
     "text": [
      "Success for img(140)_n.png:\n",
      "Testing 0 img(140)_n\n",
      "\n"
     ]
    },
    {
     "name": "stderr",
     "output_type": "stream",
     "text": [
      "Processing train inputs:  46%|████████████████████████▉                             | 465/1006 [37:39<47:05,  5.22s/it]"
     ]
    },
    {
     "name": "stdout",
     "output_type": "stream",
     "text": [
      "Success for img(140)_r.png:\n",
      "Testing 0 img(140)_r\n",
      "\n"
     ]
    },
    {
     "name": "stderr",
     "output_type": "stream",
     "text": [
      "Processing train inputs:  46%|█████████████████████████                             | 467/1006 [37:45<38:14,  4.26s/it]"
     ]
    },
    {
     "name": "stdout",
     "output_type": "stream",
     "text": [
      "Success for img(141)_b.png:\n",
      "Testing 0 img(141)_b\n",
      "\n"
     ]
    },
    {
     "name": "stderr",
     "output_type": "stream",
     "text": [
      "Processing train inputs:  47%|█████████████████████████                             | 468/1006 [37:51<42:45,  4.77s/it]"
     ]
    },
    {
     "name": "stdout",
     "output_type": "stream",
     "text": [
      "Success for img(141)_g.png:\n",
      "Testing 0 img(141)_g\n",
      "\n"
     ]
    },
    {
     "name": "stderr",
     "output_type": "stream",
     "text": [
      "Processing train inputs:  47%|█████████████████████████▏                            | 469/1006 [37:57<45:12,  5.05s/it]"
     ]
    },
    {
     "name": "stdout",
     "output_type": "stream",
     "text": [
      "Success for img(141)_n.png:\n",
      "Testing 0 img(141)_n\n",
      "\n"
     ]
    },
    {
     "name": "stderr",
     "output_type": "stream",
     "text": [
      "Processing train inputs:  47%|█████████████████████████▏                            | 470/1006 [38:03<47:10,  5.28s/it]"
     ]
    },
    {
     "name": "stdout",
     "output_type": "stream",
     "text": [
      "Success for img(141)_r.png:\n",
      "Testing 0 img(141)_r\n",
      "\n"
     ]
    },
    {
     "name": "stderr",
     "output_type": "stream",
     "text": [
      "Processing train inputs:  47%|█████████████████████████▎                            | 472/1006 [38:09<38:10,  4.29s/it]"
     ]
    },
    {
     "name": "stdout",
     "output_type": "stream",
     "text": [
      "Success for img(142)_b.png:\n",
      "Testing 0 img(142)_b\n",
      "\n"
     ]
    },
    {
     "name": "stderr",
     "output_type": "stream",
     "text": [
      "Processing train inputs:  47%|█████████████████████████▍                            | 473/1006 [38:15<41:22,  4.66s/it]"
     ]
    },
    {
     "name": "stdout",
     "output_type": "stream",
     "text": [
      "Success for img(142)_g.png:\n",
      "Testing 0 img(142)_g\n",
      "\n"
     ]
    },
    {
     "name": "stderr",
     "output_type": "stream",
     "text": [
      "Processing train inputs:  47%|█████████████████████████▍                            | 474/1006 [38:21<44:04,  4.97s/it]"
     ]
    },
    {
     "name": "stdout",
     "output_type": "stream",
     "text": [
      "Success for img(142)_n.png:\n",
      "Testing 0 img(142)_n\n",
      "\n"
     ]
    },
    {
     "name": "stderr",
     "output_type": "stream",
     "text": [
      "Processing train inputs:  47%|█████████████████████████▍                            | 475/1006 [38:27<46:08,  5.21s/it]"
     ]
    },
    {
     "name": "stdout",
     "output_type": "stream",
     "text": [
      "Success for img(142)_r.png:\n",
      "Testing 0 img(142)_r\n",
      "\n"
     ]
    },
    {
     "name": "stderr",
     "output_type": "stream",
     "text": [
      "Processing train inputs:  47%|█████████████████████████▌                            | 477/1006 [38:32<37:23,  4.24s/it]"
     ]
    },
    {
     "name": "stdout",
     "output_type": "stream",
     "text": [
      "Success for img(143)_b.png:\n",
      "Testing 0 img(143)_b\n",
      "\n"
     ]
    },
    {
     "name": "stderr",
     "output_type": "stream",
     "text": [
      "Processing train inputs:  48%|█████████████████████████▋                            | 478/1006 [38:38<40:50,  4.64s/it]"
     ]
    },
    {
     "name": "stdout",
     "output_type": "stream",
     "text": [
      "Success for img(143)_g.png:\n",
      "Testing 0 img(143)_g\n",
      "\n"
     ]
    },
    {
     "name": "stderr",
     "output_type": "stream",
     "text": [
      "Processing train inputs:  48%|█████████████████████████▋                            | 479/1006 [38:44<43:34,  4.96s/it]"
     ]
    },
    {
     "name": "stdout",
     "output_type": "stream",
     "text": [
      "Success for img(143)_n.png:\n",
      "Testing 0 img(143)_n\n",
      "\n"
     ]
    },
    {
     "name": "stderr",
     "output_type": "stream",
     "text": [
      "Processing train inputs:  48%|█████████████████████████▊                            | 480/1006 [38:50<45:45,  5.22s/it]"
     ]
    },
    {
     "name": "stdout",
     "output_type": "stream",
     "text": [
      "Success for img(143)_r.png:\n",
      "Testing 0 img(143)_r\n",
      "\n"
     ]
    },
    {
     "name": "stderr",
     "output_type": "stream",
     "text": [
      "Processing train inputs:  48%|█████████████████████████▊                            | 482/1006 [38:56<37:00,  4.24s/it]"
     ]
    },
    {
     "name": "stdout",
     "output_type": "stream",
     "text": [
      "Success for img(144)_b.png:\n",
      "Testing 0 img(144)_b\n",
      "\n"
     ]
    },
    {
     "name": "stderr",
     "output_type": "stream",
     "text": [
      "Processing train inputs:  48%|█████████████████████████▉                            | 483/1006 [39:02<40:20,  4.63s/it]"
     ]
    },
    {
     "name": "stdout",
     "output_type": "stream",
     "text": [
      "Success for img(144)_g.png:\n",
      "Testing 0 img(144)_g\n",
      "\n"
     ]
    },
    {
     "name": "stderr",
     "output_type": "stream",
     "text": [
      "Processing train inputs:  48%|█████████████████████████▉                            | 484/1006 [39:08<43:03,  4.95s/it]"
     ]
    },
    {
     "name": "stdout",
     "output_type": "stream",
     "text": [
      "Success for img(144)_n.png:\n",
      "Testing 0 img(144)_n\n",
      "\n"
     ]
    },
    {
     "name": "stderr",
     "output_type": "stream",
     "text": [
      "Processing train inputs:  48%|██████████████████████████                            | 485/1006 [39:14<45:05,  5.19s/it]"
     ]
    },
    {
     "name": "stdout",
     "output_type": "stream",
     "text": [
      "Success for img(144)_r.png:\n",
      "Testing 0 img(144)_r\n",
      "\n"
     ]
    },
    {
     "name": "stderr",
     "output_type": "stream",
     "text": [
      "Processing train inputs:  48%|██████████████████████████▏                           | 487/1006 [39:20<36:41,  4.24s/it]"
     ]
    },
    {
     "name": "stdout",
     "output_type": "stream",
     "text": [
      "Success for img(145)_b.png:\n",
      "Testing 0 img(145)_b\n",
      "\n"
     ]
    },
    {
     "name": "stderr",
     "output_type": "stream",
     "text": [
      "Processing train inputs:  49%|██████████████████████████▏                           | 488/1006 [39:26<39:54,  4.62s/it]"
     ]
    },
    {
     "name": "stdout",
     "output_type": "stream",
     "text": [
      "Success for img(145)_g.png:\n",
      "Testing 0 img(145)_g\n",
      "\n"
     ]
    },
    {
     "name": "stderr",
     "output_type": "stream",
     "text": [
      "Processing train inputs:  49%|██████████████████████████▏                           | 489/1006 [39:32<42:40,  4.95s/it]"
     ]
    },
    {
     "name": "stdout",
     "output_type": "stream",
     "text": [
      "Success for img(145)_n.png:\n",
      "Testing 0 img(145)_n\n",
      "\n"
     ]
    },
    {
     "name": "stderr",
     "output_type": "stream",
     "text": [
      "Processing train inputs:  49%|██████████████████████████▎                           | 490/1006 [39:37<44:44,  5.20s/it]"
     ]
    },
    {
     "name": "stdout",
     "output_type": "stream",
     "text": [
      "Success for img(145)_r.png:\n",
      "Testing 0 img(145)_r\n",
      "\n"
     ]
    },
    {
     "name": "stderr",
     "output_type": "stream",
     "text": [
      "Processing train inputs:  49%|██████████████████████████▍                           | 492/1006 [39:43<36:21,  4.24s/it]"
     ]
    },
    {
     "name": "stdout",
     "output_type": "stream",
     "text": [
      "Success for img(146)_b.png:\n",
      "Testing 0 img(146)_b\n",
      "\n"
     ]
    },
    {
     "name": "stderr",
     "output_type": "stream",
     "text": [
      "Processing train inputs:  49%|██████████████████████████▍                           | 493/1006 [39:49<39:41,  4.64s/it]"
     ]
    },
    {
     "name": "stdout",
     "output_type": "stream",
     "text": [
      "Success for img(146)_g.png:\n",
      "Testing 0 img(146)_g\n",
      "\n"
     ]
    },
    {
     "name": "stderr",
     "output_type": "stream",
     "text": [
      "Processing train inputs:  49%|██████████████████████████▌                           | 494/1006 [39:55<42:24,  4.97s/it]"
     ]
    },
    {
     "name": "stdout",
     "output_type": "stream",
     "text": [
      "Success for img(146)_n.png:\n",
      "Testing 0 img(146)_n\n",
      "\n"
     ]
    },
    {
     "name": "stderr",
     "output_type": "stream",
     "text": [
      "Processing train inputs:  49%|██████████████████████████▌                           | 495/1006 [40:01<44:30,  5.23s/it]"
     ]
    },
    {
     "name": "stdout",
     "output_type": "stream",
     "text": [
      "Success for img(146)_r.png:\n",
      "Testing 0 img(146)_r\n",
      "\n"
     ]
    },
    {
     "name": "stderr",
     "output_type": "stream",
     "text": [
      "Processing train inputs:  49%|██████████████████████████▋                           | 497/1006 [40:07<36:02,  4.25s/it]"
     ]
    },
    {
     "name": "stdout",
     "output_type": "stream",
     "text": [
      "Success for img(147)_b.png:\n",
      "Testing 0 img(147)_b\n",
      "\n"
     ]
    },
    {
     "name": "stderr",
     "output_type": "stream",
     "text": [
      "Processing train inputs:  50%|██████████████████████████▋                           | 498/1006 [40:13<39:13,  4.63s/it]"
     ]
    },
    {
     "name": "stdout",
     "output_type": "stream",
     "text": [
      "Success for img(147)_g.png:\n",
      "Testing 0 img(147)_g\n",
      "\n"
     ]
    },
    {
     "name": "stderr",
     "output_type": "stream",
     "text": [
      "Processing train inputs:  50%|██████████████████████████▊                           | 499/1006 [40:19<41:48,  4.95s/it]"
     ]
    },
    {
     "name": "stdout",
     "output_type": "stream",
     "text": [
      "Success for img(147)_n.png:\n",
      "Testing 0 img(147)_n\n",
      "\n"
     ]
    },
    {
     "name": "stderr",
     "output_type": "stream",
     "text": [
      "Processing train inputs:  50%|██████████████████████████▊                           | 500/1006 [40:25<43:50,  5.20s/it]"
     ]
    },
    {
     "name": "stdout",
     "output_type": "stream",
     "text": [
      "Success for img(147)_r.png:\n",
      "Testing 0 img(147)_r\n",
      "\n"
     ]
    },
    {
     "name": "stderr",
     "output_type": "stream",
     "text": [
      "Processing train inputs:  50%|██████████████████████████▉                           | 502/1006 [40:31<35:36,  4.24s/it]"
     ]
    },
    {
     "name": "stdout",
     "output_type": "stream",
     "text": [
      "Success for img(148)_b.png:\n",
      "Testing 0 img(148)_b\n",
      "\n"
     ]
    },
    {
     "name": "stderr",
     "output_type": "stream",
     "text": [
      "Processing train inputs:  50%|███████████████████████████                           | 503/1006 [40:37<38:53,  4.64s/it]"
     ]
    },
    {
     "name": "stdout",
     "output_type": "stream",
     "text": [
      "Success for img(148)_g.png:\n",
      "Testing 0 img(148)_g\n",
      "\n"
     ]
    },
    {
     "name": "stderr",
     "output_type": "stream",
     "text": [
      "Processing train inputs:  50%|███████████████████████████                           | 504/1006 [40:43<41:36,  4.97s/it]"
     ]
    },
    {
     "name": "stdout",
     "output_type": "stream",
     "text": [
      "Success for img(148)_n.png:\n",
      "Testing 0 img(148)_n\n",
      "\n"
     ]
    },
    {
     "name": "stderr",
     "output_type": "stream",
     "text": [
      "Processing train inputs:  50%|███████████████████████████                           | 505/1006 [40:49<43:36,  5.22s/it]"
     ]
    },
    {
     "name": "stdout",
     "output_type": "stream",
     "text": [
      "Success for img(148)_r.png:\n",
      "Testing 0 img(148)_r\n",
      "\n"
     ]
    },
    {
     "name": "stderr",
     "output_type": "stream",
     "text": [
      "Processing train inputs:  50%|███████████████████████████▏                          | 507/1006 [40:55<35:40,  4.29s/it]"
     ]
    },
    {
     "name": "stdout",
     "output_type": "stream",
     "text": [
      "Success for img(149)_b.png:\n",
      "Testing 0 img(149)_b\n",
      "\n"
     ]
    },
    {
     "name": "stderr",
     "output_type": "stream",
     "text": [
      "Processing train inputs:  50%|███████████████████████████▎                          | 508/1006 [41:01<38:42,  4.66s/it]"
     ]
    },
    {
     "name": "stdout",
     "output_type": "stream",
     "text": [
      "Success for img(149)_g.png:\n",
      "Testing 0 img(149)_g\n",
      "\n"
     ]
    },
    {
     "name": "stderr",
     "output_type": "stream",
     "text": [
      "Processing train inputs:  51%|███████████████████████████▎                          | 509/1006 [41:07<41:17,  4.99s/it]"
     ]
    },
    {
     "name": "stdout",
     "output_type": "stream",
     "text": [
      "Success for img(149)_n.png:\n",
      "Testing 0 img(149)_n\n",
      "\n"
     ]
    },
    {
     "name": "stderr",
     "output_type": "stream",
     "text": [
      "Processing train inputs:  51%|███████████████████████████▍                          | 510/1006 [41:12<43:13,  5.23s/it]"
     ]
    },
    {
     "name": "stdout",
     "output_type": "stream",
     "text": [
      "Success for img(149)_r.png:\n",
      "Testing 0 img(149)_r\n",
      "\n"
     ]
    },
    {
     "name": "stderr",
     "output_type": "stream",
     "text": [
      "Processing train inputs:  51%|███████████████████████████▍                          | 512/1006 [41:18<35:06,  4.27s/it]"
     ]
    },
    {
     "name": "stdout",
     "output_type": "stream",
     "text": [
      "Success for img(150)_b.png:\n",
      "Testing 0 img(150)_b\n",
      "\n"
     ]
    },
    {
     "name": "stderr",
     "output_type": "stream",
     "text": [
      "Processing train inputs:  51%|███████████████████████████▌                          | 513/1006 [41:24<38:18,  4.66s/it]"
     ]
    },
    {
     "name": "stdout",
     "output_type": "stream",
     "text": [
      "Success for img(150)_g.png:\n",
      "Testing 0 img(150)_g\n",
      "\n"
     ]
    },
    {
     "name": "stderr",
     "output_type": "stream",
     "text": [
      "Processing train inputs:  51%|███████████████████████████▌                          | 514/1006 [41:30<40:50,  4.98s/it]"
     ]
    },
    {
     "name": "stdout",
     "output_type": "stream",
     "text": [
      "Success for img(150)_n.png:\n",
      "Testing 0 img(150)_n\n",
      "\n"
     ]
    },
    {
     "name": "stderr",
     "output_type": "stream",
     "text": [
      "Processing train inputs:  51%|███████████████████████████▋                          | 515/1006 [41:36<42:43,  5.22s/it]"
     ]
    },
    {
     "name": "stdout",
     "output_type": "stream",
     "text": [
      "Success for img(150)_r.png:\n",
      "Testing 0 img(150)_r\n",
      "\n"
     ]
    },
    {
     "name": "stderr",
     "output_type": "stream",
     "text": [
      "Processing train inputs:  51%|███████████████████████████▊                          | 517/1006 [41:42<34:37,  4.25s/it]"
     ]
    },
    {
     "name": "stdout",
     "output_type": "stream",
     "text": [
      "Success for img(151)_b.png:\n",
      "Testing 0 img(151)_b\n",
      "\n"
     ]
    },
    {
     "name": "stderr",
     "output_type": "stream",
     "text": [
      "Processing train inputs:  51%|███████████████████████████▊                          | 518/1006 [41:48<38:00,  4.67s/it]"
     ]
    },
    {
     "name": "stdout",
     "output_type": "stream",
     "text": [
      "Success for img(151)_g.png:\n",
      "Testing 0 img(151)_g\n",
      "\n"
     ]
    },
    {
     "name": "stderr",
     "output_type": "stream",
     "text": [
      "Processing train inputs:  52%|███████████████████████████▊                          | 519/1006 [41:54<40:33,  5.00s/it]"
     ]
    },
    {
     "name": "stdout",
     "output_type": "stream",
     "text": [
      "Success for img(151)_n.png:\n",
      "Testing 0 img(151)_n\n",
      "\n"
     ]
    },
    {
     "name": "stderr",
     "output_type": "stream",
     "text": [
      "Processing train inputs:  52%|███████████████████████████▉                          | 520/1006 [42:00<42:40,  5.27s/it]"
     ]
    },
    {
     "name": "stdout",
     "output_type": "stream",
     "text": [
      "Success for img(151)_r.png:\n",
      "Testing 0 img(151)_r\n",
      "\n"
     ]
    },
    {
     "name": "stderr",
     "output_type": "stream",
     "text": [
      "Processing train inputs:  52%|████████████████████████████                          | 522/1006 [42:06<34:25,  4.27s/it]"
     ]
    },
    {
     "name": "stdout",
     "output_type": "stream",
     "text": [
      "Success for img(152)_b.png:\n",
      "Testing 0 img(152)_b\n",
      "\n"
     ]
    },
    {
     "name": "stderr",
     "output_type": "stream",
     "text": [
      "Processing train inputs:  52%|████████████████████████████                          | 523/1006 [42:12<37:35,  4.67s/it]"
     ]
    },
    {
     "name": "stdout",
     "output_type": "stream",
     "text": [
      "Success for img(152)_g.png:\n",
      "Testing 0 img(152)_g\n",
      "\n"
     ]
    },
    {
     "name": "stderr",
     "output_type": "stream",
     "text": [
      "Processing train inputs:  52%|████████████████████████████▏                         | 524/1006 [42:18<40:00,  4.98s/it]"
     ]
    },
    {
     "name": "stdout",
     "output_type": "stream",
     "text": [
      "Success for img(152)_n.png:\n",
      "Testing 0 img(152)_n\n",
      "\n"
     ]
    },
    {
     "name": "stderr",
     "output_type": "stream",
     "text": [
      "Processing train inputs:  52%|████████████████████████████▏                         | 525/1006 [42:24<41:55,  5.23s/it]"
     ]
    },
    {
     "name": "stdout",
     "output_type": "stream",
     "text": [
      "Success for img(152)_r.png:\n",
      "Testing 0 img(152)_r\n",
      "\n"
     ]
    },
    {
     "name": "stderr",
     "output_type": "stream",
     "text": [
      "Processing train inputs:  52%|████████████████████████████▎                         | 527/1006 [42:30<33:56,  4.25s/it]"
     ]
    },
    {
     "name": "stdout",
     "output_type": "stream",
     "text": [
      "Success for img(153)_b.png:\n",
      "Testing 0 img(153)_b\n",
      "\n"
     ]
    },
    {
     "name": "stderr",
     "output_type": "stream",
     "text": [
      "Processing train inputs:  52%|████████████████████████████▎                         | 528/1006 [42:36<36:59,  4.64s/it]"
     ]
    },
    {
     "name": "stdout",
     "output_type": "stream",
     "text": [
      "Success for img(153)_g.png:\n",
      "Testing 0 img(153)_g\n",
      "\n"
     ]
    },
    {
     "name": "stderr",
     "output_type": "stream",
     "text": [
      "Processing train inputs:  53%|████████████████████████████▍                         | 529/1006 [42:42<39:34,  4.98s/it]"
     ]
    },
    {
     "name": "stdout",
     "output_type": "stream",
     "text": [
      "Success for img(153)_n.png:\n",
      "Testing 0 img(153)_n\n",
      "\n"
     ]
    },
    {
     "name": "stderr",
     "output_type": "stream",
     "text": [
      "Processing train inputs:  53%|████████████████████████████▍                         | 530/1006 [42:48<41:30,  5.23s/it]"
     ]
    },
    {
     "name": "stdout",
     "output_type": "stream",
     "text": [
      "Success for img(153)_r.png:\n",
      "Testing 0 img(153)_r\n",
      "\n"
     ]
    },
    {
     "name": "stderr",
     "output_type": "stream",
     "text": [
      "Processing train inputs:  53%|████████████████████████████▌                         | 532/1006 [42:54<33:38,  4.26s/it]"
     ]
    },
    {
     "name": "stdout",
     "output_type": "stream",
     "text": [
      "Success for img(154)_b.png:\n",
      "Testing 0 img(154)_b\n",
      "\n"
     ]
    },
    {
     "name": "stderr",
     "output_type": "stream",
     "text": [
      "Processing train inputs:  53%|████████████████████████████▌                         | 533/1006 [42:59<36:37,  4.65s/it]"
     ]
    },
    {
     "name": "stdout",
     "output_type": "stream",
     "text": [
      "Success for img(154)_g.png:\n",
      "Testing 0 img(154)_g\n",
      "\n"
     ]
    },
    {
     "name": "stderr",
     "output_type": "stream",
     "text": [
      "Processing train inputs:  53%|████████████████████████████▋                         | 534/1006 [43:05<39:00,  4.96s/it]"
     ]
    },
    {
     "name": "stdout",
     "output_type": "stream",
     "text": [
      "Success for img(154)_n.png:\n",
      "Testing 0 img(154)_n\n",
      "\n"
     ]
    },
    {
     "name": "stderr",
     "output_type": "stream",
     "text": [
      "Processing train inputs:  53%|████████████████████████████▋                         | 535/1006 [43:11<40:56,  5.22s/it]"
     ]
    },
    {
     "name": "stdout",
     "output_type": "stream",
     "text": [
      "Success for img(154)_r.png:\n",
      "Testing 0 img(154)_r\n",
      "\n"
     ]
    },
    {
     "name": "stderr",
     "output_type": "stream",
     "text": [
      "Processing train inputs:  53%|████████████████████████████▊                         | 537/1006 [43:17<33:07,  4.24s/it]"
     ]
    },
    {
     "name": "stdout",
     "output_type": "stream",
     "text": [
      "Success for img(155)_b.png:\n",
      "Testing 0 img(155)_b\n",
      "\n"
     ]
    },
    {
     "name": "stderr",
     "output_type": "stream",
     "text": [
      "Processing train inputs:  53%|████████████████████████████▉                         | 538/1006 [43:23<36:11,  4.64s/it]"
     ]
    },
    {
     "name": "stdout",
     "output_type": "stream",
     "text": [
      "Success for img(155)_g.png:\n",
      "Testing 0 img(155)_g\n",
      "\n"
     ]
    },
    {
     "name": "stderr",
     "output_type": "stream",
     "text": [
      "Processing train inputs:  54%|████████████████████████████▉                         | 539/1006 [43:29<38:34,  4.96s/it]"
     ]
    },
    {
     "name": "stdout",
     "output_type": "stream",
     "text": [
      "Success for img(155)_n.png:\n",
      "Testing 0 img(155)_n\n",
      "\n"
     ]
    },
    {
     "name": "stderr",
     "output_type": "stream",
     "text": [
      "Processing train inputs:  54%|████████████████████████████▉                         | 540/1006 [43:35<40:23,  5.20s/it]"
     ]
    },
    {
     "name": "stdout",
     "output_type": "stream",
     "text": [
      "Success for img(155)_r.png:\n",
      "Testing 0 img(155)_r\n",
      "\n"
     ]
    },
    {
     "name": "stderr",
     "output_type": "stream",
     "text": [
      "Processing train inputs:  54%|█████████████████████████████                         | 542/1006 [43:41<33:23,  4.32s/it]"
     ]
    },
    {
     "name": "stdout",
     "output_type": "stream",
     "text": [
      "Success for img(156)_b.png:\n",
      "Testing 0 img(156)_b\n",
      "\n"
     ]
    },
    {
     "name": "stderr",
     "output_type": "stream",
     "text": [
      "Processing train inputs:  54%|█████████████████████████████▏                        | 543/1006 [43:47<36:18,  4.70s/it]"
     ]
    },
    {
     "name": "stdout",
     "output_type": "stream",
     "text": [
      "Success for img(156)_g.png:\n",
      "Testing 0 img(156)_g\n",
      "\n"
     ]
    },
    {
     "name": "stderr",
     "output_type": "stream",
     "text": [
      "Processing train inputs:  54%|█████████████████████████████▏                        | 544/1006 [43:53<38:34,  5.01s/it]"
     ]
    },
    {
     "name": "stdout",
     "output_type": "stream",
     "text": [
      "Success for img(156)_n.png:\n",
      "Testing 0 img(156)_n\n",
      "\n"
     ]
    },
    {
     "name": "stderr",
     "output_type": "stream",
     "text": [
      "Processing train inputs:  54%|█████████████████████████████▎                        | 545/1006 [43:59<40:25,  5.26s/it]"
     ]
    },
    {
     "name": "stdout",
     "output_type": "stream",
     "text": [
      "Success for img(156)_r.png:\n",
      "Testing 0 img(156)_r\n",
      "\n"
     ]
    },
    {
     "name": "stderr",
     "output_type": "stream",
     "text": [
      "Processing train inputs:  54%|█████████████████████████████▎                        | 547/1006 [44:05<32:41,  4.27s/it]"
     ]
    },
    {
     "name": "stdout",
     "output_type": "stream",
     "text": [
      "Success for img(157)_b.png:\n",
      "Testing 0 img(157)_b\n",
      "\n"
     ]
    },
    {
     "name": "stderr",
     "output_type": "stream",
     "text": [
      "Processing train inputs:  54%|█████████████████████████████▍                        | 548/1006 [44:11<35:37,  4.67s/it]"
     ]
    },
    {
     "name": "stdout",
     "output_type": "stream",
     "text": [
      "Success for img(157)_g.png:\n",
      "Testing 0 img(157)_g\n",
      "\n"
     ]
    },
    {
     "name": "stderr",
     "output_type": "stream",
     "text": [
      "Processing train inputs:  55%|█████████████████████████████▍                        | 549/1006 [44:17<37:52,  4.97s/it]"
     ]
    },
    {
     "name": "stdout",
     "output_type": "stream",
     "text": [
      "Success for img(157)_n.png:\n",
      "Testing 0 img(157)_n\n",
      "\n"
     ]
    },
    {
     "name": "stderr",
     "output_type": "stream",
     "text": [
      "Processing train inputs:  55%|█████████████████████████████▌                        | 550/1006 [44:23<39:33,  5.21s/it]"
     ]
    },
    {
     "name": "stdout",
     "output_type": "stream",
     "text": [
      "Success for img(157)_r.png:\n",
      "Testing 0 img(157)_r\n",
      "\n"
     ]
    },
    {
     "name": "stderr",
     "output_type": "stream",
     "text": [
      "Processing train inputs:  55%|█████████████████████████████▋                        | 552/1006 [44:29<32:08,  4.25s/it]"
     ]
    },
    {
     "name": "stdout",
     "output_type": "stream",
     "text": [
      "Success for img(158)_b.png:\n",
      "Testing 0 img(158)_b\n",
      "\n"
     ]
    },
    {
     "name": "stderr",
     "output_type": "stream",
     "text": [
      "Processing train inputs:  55%|█████████████████████████████▋                        | 553/1006 [44:34<35:00,  4.64s/it]"
     ]
    },
    {
     "name": "stdout",
     "output_type": "stream",
     "text": [
      "Success for img(158)_g.png:\n",
      "Testing 0 img(158)_g\n",
      "\n"
     ]
    },
    {
     "name": "stderr",
     "output_type": "stream",
     "text": [
      "Processing train inputs:  55%|█████████████████████████████▋                        | 554/1006 [44:40<37:26,  4.97s/it]"
     ]
    },
    {
     "name": "stdout",
     "output_type": "stream",
     "text": [
      "Success for img(158)_n.png:\n",
      "Testing 0 img(158)_n\n",
      "\n"
     ]
    },
    {
     "name": "stderr",
     "output_type": "stream",
     "text": [
      "Processing train inputs:  55%|█████████████████████████████▊                        | 555/1006 [44:46<39:10,  5.21s/it]"
     ]
    },
    {
     "name": "stdout",
     "output_type": "stream",
     "text": [
      "Success for img(158)_r.png:\n",
      "Testing 0 img(158)_r\n",
      "\n"
     ]
    },
    {
     "name": "stderr",
     "output_type": "stream",
     "text": [
      "Processing train inputs:  55%|█████████████████████████████▉                        | 557/1006 [44:52<31:42,  4.24s/it]"
     ]
    },
    {
     "name": "stdout",
     "output_type": "stream",
     "text": [
      "Success for img(159)_b.png:\n",
      "Testing 0 img(159)_b\n",
      "\n"
     ]
    },
    {
     "name": "stderr",
     "output_type": "stream",
     "text": [
      "Processing train inputs:  55%|█████████████████████████████▉                        | 558/1006 [44:58<34:35,  4.63s/it]"
     ]
    },
    {
     "name": "stdout",
     "output_type": "stream",
     "text": [
      "Success for img(159)_g.png:\n",
      "Testing 0 img(159)_g\n",
      "\n"
     ]
    },
    {
     "name": "stderr",
     "output_type": "stream",
     "text": [
      "Processing train inputs:  56%|██████████████████████████████                        | 559/1006 [45:04<36:50,  4.95s/it]"
     ]
    },
    {
     "name": "stdout",
     "output_type": "stream",
     "text": [
      "Success for img(159)_n.png:\n",
      "Testing 0 img(159)_n\n",
      "\n"
     ]
    },
    {
     "name": "stderr",
     "output_type": "stream",
     "text": [
      "Processing train inputs:  56%|██████████████████████████████                        | 560/1006 [45:10<38:34,  5.19s/it]"
     ]
    },
    {
     "name": "stdout",
     "output_type": "stream",
     "text": [
      "Success for img(159)_r.png:\n",
      "Testing 0 img(159)_r\n",
      "\n"
     ]
    },
    {
     "name": "stderr",
     "output_type": "stream",
     "text": [
      "Processing train inputs:  56%|██████████████████████████████▏                       | 562/1006 [45:17<32:50,  4.44s/it]"
     ]
    },
    {
     "name": "stdout",
     "output_type": "stream",
     "text": [
      "Success for img(160)_b.png:\n",
      "Testing 0 img(160)_b\n",
      "\n"
     ]
    },
    {
     "name": "stderr",
     "output_type": "stream",
     "text": [
      "Processing train inputs:  56%|██████████████████████████████▏                       | 563/1006 [45:23<35:18,  4.78s/it]"
     ]
    },
    {
     "name": "stdout",
     "output_type": "stream",
     "text": [
      "Success for img(160)_g.png:\n",
      "Testing 0 img(160)_g\n",
      "\n"
     ]
    },
    {
     "name": "stderr",
     "output_type": "stream",
     "text": [
      "Processing train inputs:  56%|██████████████████████████████▎                       | 564/1006 [45:29<37:18,  5.07s/it]"
     ]
    },
    {
     "name": "stdout",
     "output_type": "stream",
     "text": [
      "Success for img(160)_n.png:\n",
      "Testing 0 img(160)_n\n",
      "\n"
     ]
    },
    {
     "name": "stderr",
     "output_type": "stream",
     "text": [
      "Processing train inputs:  56%|██████████████████████████████▎                       | 565/1006 [45:35<38:58,  5.30s/it]"
     ]
    },
    {
     "name": "stdout",
     "output_type": "stream",
     "text": [
      "Success for img(160)_r.png:\n",
      "Testing 0 img(160)_r\n",
      "\n"
     ]
    },
    {
     "name": "stderr",
     "output_type": "stream",
     "text": [
      "Processing train inputs:  56%|██████████████████████████████▍                       | 567/1006 [45:40<31:23,  4.29s/it]"
     ]
    },
    {
     "name": "stdout",
     "output_type": "stream",
     "text": [
      "Success for img(161)_b.png:\n",
      "Testing 0 img(161)_b\n",
      "\n"
     ]
    },
    {
     "name": "stderr",
     "output_type": "stream",
     "text": [
      "Processing train inputs:  56%|██████████████████████████████▍                       | 568/1006 [45:46<34:08,  4.68s/it]"
     ]
    },
    {
     "name": "stdout",
     "output_type": "stream",
     "text": [
      "Success for img(161)_g.png:\n",
      "Testing 0 img(161)_g\n",
      "\n"
     ]
    },
    {
     "name": "stderr",
     "output_type": "stream",
     "text": [
      "Processing train inputs:  57%|██████████████████████████████▌                       | 569/1006 [45:52<36:18,  4.98s/it]"
     ]
    },
    {
     "name": "stdout",
     "output_type": "stream",
     "text": [
      "Success for img(161)_n.png:\n",
      "Testing 0 img(161)_n\n",
      "\n"
     ]
    },
    {
     "name": "stderr",
     "output_type": "stream",
     "text": [
      "Processing train inputs:  57%|██████████████████████████████▌                       | 570/1006 [45:58<38:03,  5.24s/it]"
     ]
    },
    {
     "name": "stdout",
     "output_type": "stream",
     "text": [
      "Success for img(161)_r.png:\n",
      "Testing 0 img(161)_r\n",
      "\n"
     ]
    },
    {
     "name": "stderr",
     "output_type": "stream",
     "text": [
      "Processing train inputs:  57%|██████████████████████████████▋                       | 572/1006 [46:04<30:48,  4.26s/it]"
     ]
    },
    {
     "name": "stdout",
     "output_type": "stream",
     "text": [
      "Success for img(162)_b.png:\n",
      "Testing 0 img(162)_b\n",
      "\n"
     ]
    },
    {
     "name": "stderr",
     "output_type": "stream",
     "text": [
      "Processing train inputs:  57%|██████████████████████████████▊                       | 573/1006 [46:10<33:39,  4.67s/it]"
     ]
    },
    {
     "name": "stdout",
     "output_type": "stream",
     "text": [
      "Success for img(162)_g.png:\n",
      "Testing 0 img(162)_g\n",
      "\n"
     ]
    },
    {
     "name": "stderr",
     "output_type": "stream",
     "text": [
      "Processing train inputs:  57%|██████████████████████████████▊                       | 574/1006 [46:16<35:51,  4.98s/it]"
     ]
    },
    {
     "name": "stdout",
     "output_type": "stream",
     "text": [
      "Success for img(162)_n.png:\n",
      "Testing 0 img(162)_n\n",
      "\n"
     ]
    },
    {
     "name": "stderr",
     "output_type": "stream",
     "text": [
      "Processing train inputs:  57%|██████████████████████████████▊                       | 575/1006 [46:22<37:38,  5.24s/it]"
     ]
    },
    {
     "name": "stdout",
     "output_type": "stream",
     "text": [
      "Success for img(162)_r.png:\n",
      "Testing 0 img(162)_r\n",
      "\n"
     ]
    },
    {
     "name": "stderr",
     "output_type": "stream",
     "text": [
      "Processing train inputs:  57%|██████████████████████████████▉                       | 577/1006 [46:28<30:21,  4.24s/it]"
     ]
    },
    {
     "name": "stdout",
     "output_type": "stream",
     "text": [
      "Success for img(163)_b.png:\n",
      "Testing 0 img(163)_b\n",
      "\n"
     ]
    },
    {
     "name": "stderr",
     "output_type": "stream",
     "text": [
      "Processing train inputs:  57%|███████████████████████████████                       | 578/1006 [46:34<33:03,  4.63s/it]"
     ]
    },
    {
     "name": "stdout",
     "output_type": "stream",
     "text": [
      "Success for img(163)_g.png:\n",
      "Testing 0 img(163)_g\n",
      "\n"
     ]
    },
    {
     "name": "stderr",
     "output_type": "stream",
     "text": [
      "Processing train inputs:  58%|███████████████████████████████                       | 579/1006 [46:40<35:18,  4.96s/it]"
     ]
    },
    {
     "name": "stdout",
     "output_type": "stream",
     "text": [
      "Success for img(163)_n.png:\n",
      "Testing 0 img(163)_n\n",
      "\n"
     ]
    },
    {
     "name": "stderr",
     "output_type": "stream",
     "text": [
      "Processing train inputs:  58%|███████████████████████████████▏                      | 580/1006 [46:46<37:06,  5.23s/it]"
     ]
    },
    {
     "name": "stdout",
     "output_type": "stream",
     "text": [
      "Success for img(163)_r.png:\n",
      "Testing 0 img(163)_r\n",
      "\n"
     ]
    },
    {
     "name": "stderr",
     "output_type": "stream",
     "text": [
      "Processing train inputs:  58%|███████████████████████████████▏                      | 582/1006 [46:52<30:05,  4.26s/it]"
     ]
    },
    {
     "name": "stdout",
     "output_type": "stream",
     "text": [
      "Success for img(164)_b.png:\n",
      "Testing 0 img(164)_b\n",
      "\n"
     ]
    },
    {
     "name": "stderr",
     "output_type": "stream",
     "text": [
      "Processing train inputs:  58%|███████████████████████████████▎                      | 583/1006 [46:58<32:55,  4.67s/it]"
     ]
    },
    {
     "name": "stdout",
     "output_type": "stream",
     "text": [
      "Success for img(164)_g.png:\n",
      "Testing 0 img(164)_g\n",
      "\n"
     ]
    },
    {
     "name": "stderr",
     "output_type": "stream",
     "text": [
      "Processing train inputs:  58%|███████████████████████████████▎                      | 584/1006 [47:04<35:05,  4.99s/it]"
     ]
    },
    {
     "name": "stdout",
     "output_type": "stream",
     "text": [
      "Success for img(164)_n.png:\n",
      "Testing 0 img(164)_n\n",
      "\n"
     ]
    },
    {
     "name": "stderr",
     "output_type": "stream",
     "text": [
      "Processing train inputs:  58%|███████████████████████████████▍                      | 585/1006 [47:09<36:43,  5.23s/it]"
     ]
    },
    {
     "name": "stdout",
     "output_type": "stream",
     "text": [
      "Success for img(164)_r.png:\n",
      "Testing 0 img(164)_r\n",
      "\n"
     ]
    },
    {
     "name": "stderr",
     "output_type": "stream",
     "text": [
      "Processing train inputs:  58%|███████████████████████████████▌                      | 587/1006 [47:15<29:41,  4.25s/it]"
     ]
    },
    {
     "name": "stdout",
     "output_type": "stream",
     "text": [
      "Success for img(165)_b.png:\n",
      "Testing 0 img(165)_b\n",
      "\n"
     ]
    },
    {
     "name": "stderr",
     "output_type": "stream",
     "text": [
      "Processing train inputs:  58%|███████████████████████████████▌                      | 588/1006 [47:21<32:24,  4.65s/it]"
     ]
    },
    {
     "name": "stdout",
     "output_type": "stream",
     "text": [
      "Success for img(165)_g.png:\n",
      "Testing 0 img(165)_g\n",
      "\n"
     ]
    },
    {
     "name": "stderr",
     "output_type": "stream",
     "text": [
      "Processing train inputs:  59%|███████████████████████████████▌                      | 589/1006 [47:27<34:30,  4.97s/it]"
     ]
    },
    {
     "name": "stdout",
     "output_type": "stream",
     "text": [
      "Success for img(165)_n.png:\n",
      "Testing 0 img(165)_n\n",
      "\n"
     ]
    },
    {
     "name": "stderr",
     "output_type": "stream",
     "text": [
      "Processing train inputs:  59%|███████████████████████████████▋                      | 590/1006 [47:33<36:08,  5.21s/it]"
     ]
    },
    {
     "name": "stdout",
     "output_type": "stream",
     "text": [
      "Success for img(165)_r.png:\n",
      "Testing 0 img(165)_r\n",
      "\n"
     ]
    },
    {
     "name": "stderr",
     "output_type": "stream",
     "text": [
      "Processing train inputs:  59%|███████████████████████████████▊                      | 592/1006 [47:39<29:16,  4.24s/it]"
     ]
    },
    {
     "name": "stdout",
     "output_type": "stream",
     "text": [
      "Success for img(166)_b.png:\n",
      "Testing 0 img(166)_b\n",
      "\n"
     ]
    },
    {
     "name": "stderr",
     "output_type": "stream",
     "text": [
      "Processing train inputs:  59%|███████████████████████████████▊                      | 593/1006 [47:45<32:00,  4.65s/it]"
     ]
    },
    {
     "name": "stdout",
     "output_type": "stream",
     "text": [
      "Success for img(166)_g.png:\n",
      "Testing 0 img(166)_g\n",
      "\n"
     ]
    },
    {
     "name": "stderr",
     "output_type": "stream",
     "text": [
      "Processing train inputs:  59%|███████████████████████████████▉                      | 594/1006 [47:51<34:09,  4.97s/it]"
     ]
    },
    {
     "name": "stdout",
     "output_type": "stream",
     "text": [
      "Success for img(166)_n.png:\n",
      "Testing 0 img(166)_n\n",
      "\n"
     ]
    },
    {
     "name": "stderr",
     "output_type": "stream",
     "text": [
      "Processing train inputs:  59%|███████████████████████████████▉                      | 595/1006 [47:57<35:50,  5.23s/it]"
     ]
    },
    {
     "name": "stdout",
     "output_type": "stream",
     "text": [
      "Success for img(166)_r.png:\n",
      "Testing 0 img(166)_r\n",
      "\n"
     ]
    },
    {
     "name": "stderr",
     "output_type": "stream",
     "text": [
      "Processing train inputs:  59%|████████████████████████████████                      | 597/1006 [48:04<30:06,  4.42s/it]"
     ]
    },
    {
     "name": "stdout",
     "output_type": "stream",
     "text": [
      "Success for img(167)_b.png:\n",
      "Testing 0 img(167)_b\n",
      "\n"
     ]
    },
    {
     "name": "stderr",
     "output_type": "stream",
     "text": [
      "Processing train inputs:  59%|████████████████████████████████                      | 598/1006 [48:10<32:25,  4.77s/it]"
     ]
    },
    {
     "name": "stdout",
     "output_type": "stream",
     "text": [
      "Success for img(167)_g.png:\n",
      "Testing 0 img(167)_g\n",
      "\n"
     ]
    },
    {
     "name": "stderr",
     "output_type": "stream",
     "text": [
      "Processing train inputs:  60%|████████████████████████████████▏                     | 599/1006 [48:15<34:22,  5.07s/it]"
     ]
    },
    {
     "name": "stdout",
     "output_type": "stream",
     "text": [
      "Success for img(167)_n.png:\n",
      "Testing 0 img(167)_n\n",
      "\n"
     ]
    },
    {
     "name": "stderr",
     "output_type": "stream",
     "text": [
      "Processing train inputs:  60%|████████████████████████████████▏                     | 600/1006 [48:21<35:48,  5.29s/it]"
     ]
    },
    {
     "name": "stdout",
     "output_type": "stream",
     "text": [
      "Success for img(167)_r.png:\n",
      "Testing 0 img(167)_r\n",
      "\n"
     ]
    },
    {
     "name": "stderr",
     "output_type": "stream",
     "text": [
      "Processing train inputs:  60%|████████████████████████████████▎                     | 602/1006 [48:27<28:52,  4.29s/it]"
     ]
    },
    {
     "name": "stdout",
     "output_type": "stream",
     "text": [
      "Success for img(168)_b.png:\n",
      "Testing 0 img(168)_b\n",
      "\n"
     ]
    },
    {
     "name": "stderr",
     "output_type": "stream",
     "text": [
      "Processing train inputs:  60%|████████████████████████████████▎                     | 603/1006 [48:33<31:19,  4.66s/it]"
     ]
    },
    {
     "name": "stdout",
     "output_type": "stream",
     "text": [
      "Success for img(168)_g.png:\n",
      "Testing 0 img(168)_g\n",
      "\n"
     ]
    },
    {
     "name": "stderr",
     "output_type": "stream",
     "text": [
      "Processing train inputs:  60%|████████████████████████████████▍                     | 604/1006 [48:39<33:23,  4.98s/it]"
     ]
    },
    {
     "name": "stdout",
     "output_type": "stream",
     "text": [
      "Success for img(168)_n.png:\n",
      "Testing 0 img(168)_n\n",
      "\n"
     ]
    },
    {
     "name": "stderr",
     "output_type": "stream",
     "text": [
      "Processing train inputs:  60%|████████████████████████████████▍                     | 605/1006 [48:45<34:55,  5.23s/it]"
     ]
    },
    {
     "name": "stdout",
     "output_type": "stream",
     "text": [
      "Success for img(168)_r.png:\n",
      "Testing 0 img(168)_r\n",
      "\n"
     ]
    },
    {
     "name": "stderr",
     "output_type": "stream",
     "text": [
      "Processing train inputs:  60%|████████████████████████████████▌                     | 607/1006 [48:52<29:15,  4.40s/it]"
     ]
    },
    {
     "name": "stdout",
     "output_type": "stream",
     "text": [
      "Success for img(169)_b.png:\n",
      "Testing 0 img(169)_b\n",
      "\n"
     ]
    },
    {
     "name": "stderr",
     "output_type": "stream",
     "text": [
      "Processing train inputs:  60%|████████████████████████████████▋                     | 608/1006 [48:58<31:33,  4.76s/it]"
     ]
    },
    {
     "name": "stdout",
     "output_type": "stream",
     "text": [
      "Success for img(169)_g.png:\n",
      "Testing 0 img(169)_g\n",
      "\n"
     ]
    },
    {
     "name": "stderr",
     "output_type": "stream",
     "text": [
      "Processing train inputs:  61%|████████████████████████████████▋                     | 609/1006 [49:04<33:31,  5.07s/it]"
     ]
    },
    {
     "name": "stdout",
     "output_type": "stream",
     "text": [
      "Success for img(169)_n.png:\n",
      "Testing 0 img(169)_n\n",
      "\n"
     ]
    },
    {
     "name": "stderr",
     "output_type": "stream",
     "text": [
      "Processing train inputs:  61%|████████████████████████████████▋                     | 610/1006 [49:09<34:54,  5.29s/it]"
     ]
    },
    {
     "name": "stdout",
     "output_type": "stream",
     "text": [
      "Success for img(169)_r.png:\n",
      "Testing 0 img(169)_r\n",
      "\n"
     ]
    },
    {
     "name": "stderr",
     "output_type": "stream",
     "text": [
      "Processing train inputs:  61%|████████████████████████████████▊                     | 612/1006 [49:15<28:08,  4.29s/it]"
     ]
    },
    {
     "name": "stdout",
     "output_type": "stream",
     "text": [
      "Success for img(170)_b.png:\n",
      "Testing 0 img(170)_b\n",
      "\n"
     ]
    },
    {
     "name": "stderr",
     "output_type": "stream",
     "text": [
      "Processing train inputs:  61%|████████████████████████████████▉                     | 613/1006 [49:21<30:34,  4.67s/it]"
     ]
    },
    {
     "name": "stdout",
     "output_type": "stream",
     "text": [
      "Success for img(170)_g.png:\n",
      "Testing 0 img(170)_g\n",
      "\n"
     ]
    },
    {
     "name": "stderr",
     "output_type": "stream",
     "text": [
      "Processing train inputs:  61%|████████████████████████████████▉                     | 614/1006 [49:27<32:35,  4.99s/it]"
     ]
    },
    {
     "name": "stdout",
     "output_type": "stream",
     "text": [
      "Success for img(170)_n.png:\n",
      "Testing 0 img(170)_n\n",
      "\n"
     ]
    },
    {
     "name": "stderr",
     "output_type": "stream",
     "text": [
      "Processing train inputs:  61%|█████████████████████████████████                     | 615/1006 [49:33<34:05,  5.23s/it]"
     ]
    },
    {
     "name": "stdout",
     "output_type": "stream",
     "text": [
      "Success for img(170)_r.png:\n",
      "Testing 0 img(170)_r\n",
      "\n"
     ]
    },
    {
     "name": "stderr",
     "output_type": "stream",
     "text": [
      "Processing train inputs:  61%|█████████████████████████████████                     | 617/1006 [49:39<27:32,  4.25s/it]"
     ]
    },
    {
     "name": "stdout",
     "output_type": "stream",
     "text": [
      "Success for img(171)_b.png:\n",
      "Testing 0 img(171)_b\n",
      "\n"
     ]
    },
    {
     "name": "stderr",
     "output_type": "stream",
     "text": [
      "Processing train inputs:  61%|█████████████████████████████████▏                    | 618/1006 [49:45<30:01,  4.64s/it]"
     ]
    },
    {
     "name": "stdout",
     "output_type": "stream",
     "text": [
      "Success for img(171)_g.png:\n",
      "Testing 0 img(171)_g\n",
      "\n"
     ]
    },
    {
     "name": "stderr",
     "output_type": "stream",
     "text": [
      "Processing train inputs:  62%|█████████████████████████████████▏                    | 619/1006 [49:51<32:07,  4.98s/it]"
     ]
    },
    {
     "name": "stdout",
     "output_type": "stream",
     "text": [
      "Success for img(171)_n.png:\n",
      "Testing 0 img(171)_n\n",
      "\n"
     ]
    },
    {
     "name": "stderr",
     "output_type": "stream",
     "text": [
      "Processing train inputs:  62%|█████████████████████████████████▎                    | 620/1006 [49:57<33:41,  5.24s/it]"
     ]
    },
    {
     "name": "stdout",
     "output_type": "stream",
     "text": [
      "Success for img(171)_r.png:\n",
      "Testing 0 img(171)_r\n",
      "\n"
     ]
    },
    {
     "name": "stderr",
     "output_type": "stream",
     "text": [
      "Processing train inputs:  62%|█████████████████████████████████▍                    | 622/1006 [50:03<27:12,  4.25s/it]"
     ]
    },
    {
     "name": "stdout",
     "output_type": "stream",
     "text": [
      "Success for img(172)_b.png:\n",
      "Testing 0 img(172)_b\n",
      "\n"
     ]
    },
    {
     "name": "stderr",
     "output_type": "stream",
     "text": [
      "Processing train inputs:  62%|█████████████████████████████████▍                    | 623/1006 [50:09<29:40,  4.65s/it]"
     ]
    },
    {
     "name": "stdout",
     "output_type": "stream",
     "text": [
      "Success for img(172)_g.png:\n",
      "Testing 0 img(172)_g\n",
      "\n"
     ]
    },
    {
     "name": "stderr",
     "output_type": "stream",
     "text": [
      "Processing train inputs:  62%|█████████████████████████████████▍                    | 624/1006 [50:15<32:49,  5.16s/it]"
     ]
    },
    {
     "name": "stdout",
     "output_type": "stream",
     "text": [
      "Success for img(172)_n.png:\n",
      "Testing 0 img(172)_n\n",
      "\n"
     ]
    },
    {
     "name": "stderr",
     "output_type": "stream",
     "text": [
      "Processing train inputs:  62%|█████████████████████████████████▌                    | 625/1006 [50:22<34:36,  5.45s/it]"
     ]
    },
    {
     "name": "stdout",
     "output_type": "stream",
     "text": [
      "Success for img(172)_r.png:\n",
      "Testing 0 img(172)_r\n",
      "\n"
     ]
    },
    {
     "name": "stderr",
     "output_type": "stream",
     "text": [
      "Processing train inputs:  62%|█████████████████████████████████▋                    | 627/1006 [50:28<27:43,  4.39s/it]"
     ]
    },
    {
     "name": "stdout",
     "output_type": "stream",
     "text": [
      "Success for img(173)_b.png:\n",
      "Testing 0 img(173)_b\n",
      "\n"
     ]
    },
    {
     "name": "stderr",
     "output_type": "stream",
     "text": [
      "Processing train inputs:  62%|█████████████████████████████████▋                    | 628/1006 [50:34<29:57,  4.76s/it]"
     ]
    },
    {
     "name": "stdout",
     "output_type": "stream",
     "text": [
      "Success for img(173)_g.png:\n",
      "Testing 0 img(173)_g\n",
      "\n"
     ]
    },
    {
     "name": "stderr",
     "output_type": "stream",
     "text": [
      "Processing train inputs:  63%|█████████████████████████████████▊                    | 629/1006 [50:40<31:47,  5.06s/it]"
     ]
    },
    {
     "name": "stdout",
     "output_type": "stream",
     "text": [
      "Success for img(173)_n.png:\n",
      "Testing 0 img(173)_n\n",
      "\n"
     ]
    },
    {
     "name": "stderr",
     "output_type": "stream",
     "text": [
      "Processing train inputs:  63%|█████████████████████████████████▊                    | 630/1006 [50:46<33:13,  5.30s/it]"
     ]
    },
    {
     "name": "stdout",
     "output_type": "stream",
     "text": [
      "Success for img(173)_r.png:\n",
      "Testing 0 img(173)_r\n",
      "\n"
     ]
    },
    {
     "name": "stderr",
     "output_type": "stream",
     "text": [
      "Processing train inputs:  63%|█████████████████████████████████▉                    | 632/1006 [50:51<26:41,  4.28s/it]"
     ]
    },
    {
     "name": "stdout",
     "output_type": "stream",
     "text": [
      "Success for img(174)_b.png:\n",
      "Testing 0 img(174)_b\n",
      "\n"
     ]
    },
    {
     "name": "stderr",
     "output_type": "stream",
     "text": [
      "Processing train inputs:  63%|█████████████████████████████████▉                    | 633/1006 [50:57<29:17,  4.71s/it]"
     ]
    },
    {
     "name": "stdout",
     "output_type": "stream",
     "text": [
      "Success for img(174)_g.png:\n",
      "Testing 0 img(174)_g\n",
      "\n"
     ]
    },
    {
     "name": "stderr",
     "output_type": "stream",
     "text": [
      "Processing train inputs:  63%|██████████████████████████████████                    | 634/1006 [51:03<31:07,  5.02s/it]"
     ]
    },
    {
     "name": "stdout",
     "output_type": "stream",
     "text": [
      "Success for img(174)_n.png:\n",
      "Testing 0 img(174)_n\n",
      "\n"
     ]
    },
    {
     "name": "stderr",
     "output_type": "stream",
     "text": [
      "Processing train inputs:  63%|██████████████████████████████████                    | 635/1006 [51:09<32:31,  5.26s/it]"
     ]
    },
    {
     "name": "stdout",
     "output_type": "stream",
     "text": [
      "Success for img(174)_r.png:\n",
      "Testing 0 img(174)_r\n",
      "\n"
     ]
    },
    {
     "name": "stderr",
     "output_type": "stream",
     "text": [
      "Processing train inputs:  63%|██████████████████████████████████▏                   | 637/1006 [51:15<26:26,  4.30s/it]"
     ]
    },
    {
     "name": "stdout",
     "output_type": "stream",
     "text": [
      "Success for img(175)_b.png:\n",
      "Testing 0 img(175)_b\n",
      "\n"
     ]
    },
    {
     "name": "stderr",
     "output_type": "stream",
     "text": [
      "Processing train inputs:  63%|██████████████████████████████████▏                   | 638/1006 [51:21<28:48,  4.70s/it]"
     ]
    },
    {
     "name": "stdout",
     "output_type": "stream",
     "text": [
      "Success for img(175)_g.png:\n",
      "Testing 0 img(175)_g\n",
      "\n"
     ]
    },
    {
     "name": "stderr",
     "output_type": "stream",
     "text": [
      "Processing train inputs:  64%|██████████████████████████████████▎                   | 639/1006 [51:27<30:32,  4.99s/it]"
     ]
    },
    {
     "name": "stdout",
     "output_type": "stream",
     "text": [
      "Success for img(175)_n.png:\n",
      "Testing 0 img(175)_n\n",
      "\n"
     ]
    },
    {
     "name": "stderr",
     "output_type": "stream",
     "text": [
      "Processing train inputs:  64%|██████████████████████████████████▎                   | 640/1006 [51:33<31:57,  5.24s/it]"
     ]
    },
    {
     "name": "stdout",
     "output_type": "stream",
     "text": [
      "Success for img(175)_r.png:\n",
      "Testing 0 img(175)_r\n",
      "\n"
     ]
    },
    {
     "name": "stderr",
     "output_type": "stream",
     "text": [
      "Processing train inputs:  64%|██████████████████████████████████▍                   | 642/1006 [51:39<25:53,  4.27s/it]"
     ]
    },
    {
     "name": "stdout",
     "output_type": "stream",
     "text": [
      "Success for img(176)_b.png:\n",
      "Testing 0 img(176)_b\n",
      "\n"
     ]
    },
    {
     "name": "stderr",
     "output_type": "stream",
     "text": [
      "Processing train inputs:  64%|██████████████████████████████████▌                   | 643/1006 [51:45<28:25,  4.70s/it]"
     ]
    },
    {
     "name": "stdout",
     "output_type": "stream",
     "text": [
      "Success for img(176)_g.png:\n",
      "Testing 0 img(176)_g\n",
      "\n"
     ]
    },
    {
     "name": "stderr",
     "output_type": "stream",
     "text": [
      "Processing train inputs:  64%|██████████████████████████████████▌                   | 644/1006 [51:51<30:15,  5.01s/it]"
     ]
    },
    {
     "name": "stdout",
     "output_type": "stream",
     "text": [
      "Success for img(176)_n.png:\n",
      "Testing 0 img(176)_n\n",
      "\n"
     ]
    },
    {
     "name": "stderr",
     "output_type": "stream",
     "text": [
      "Processing train inputs:  64%|██████████████████████████████████▌                   | 645/1006 [51:57<31:34,  5.25s/it]"
     ]
    },
    {
     "name": "stdout",
     "output_type": "stream",
     "text": [
      "Success for img(176)_r.png:\n",
      "Testing 0 img(176)_r\n",
      "\n"
     ]
    },
    {
     "name": "stderr",
     "output_type": "stream",
     "text": [
      "Processing train inputs:  64%|██████████████████████████████████▋                   | 647/1006 [52:03<25:29,  4.26s/it]"
     ]
    },
    {
     "name": "stdout",
     "output_type": "stream",
     "text": [
      "Success for img(177)_b.png:\n",
      "Testing 0 img(177)_b\n",
      "\n"
     ]
    },
    {
     "name": "stderr",
     "output_type": "stream",
     "text": [
      "Processing train inputs:  64%|██████████████████████████████████▊                   | 648/1006 [52:09<27:47,  4.66s/it]"
     ]
    },
    {
     "name": "stdout",
     "output_type": "stream",
     "text": [
      "Success for img(177)_g.png:\n",
      "Testing 0 img(177)_g\n",
      "\n"
     ]
    },
    {
     "name": "stderr",
     "output_type": "stream",
     "text": [
      "Processing train inputs:  65%|██████████████████████████████████▊                   | 649/1006 [52:15<30:03,  5.05s/it]"
     ]
    },
    {
     "name": "stdout",
     "output_type": "stream",
     "text": [
      "Success for img(177)_n.png:\n",
      "Testing 0 img(177)_n\n",
      "\n"
     ]
    },
    {
     "name": "stderr",
     "output_type": "stream",
     "text": [
      "Processing train inputs:  65%|██████████████████████████████████▉                   | 650/1006 [52:21<31:20,  5.28s/it]"
     ]
    },
    {
     "name": "stdout",
     "output_type": "stream",
     "text": [
      "Success for img(177)_r.png:\n",
      "Testing 0 img(177)_r\n",
      "\n"
     ]
    },
    {
     "name": "stderr",
     "output_type": "stream",
     "text": [
      "Processing train inputs:  65%|██████████████████████████████████▉                   | 652/1006 [52:27<25:15,  4.28s/it]"
     ]
    },
    {
     "name": "stdout",
     "output_type": "stream",
     "text": [
      "Success for img(178)_b.png:\n",
      "Testing 0 img(178)_b\n",
      "\n"
     ]
    },
    {
     "name": "stderr",
     "output_type": "stream",
     "text": [
      "Processing train inputs:  65%|███████████████████████████████████                   | 653/1006 [52:33<27:22,  4.65s/it]"
     ]
    },
    {
     "name": "stdout",
     "output_type": "stream",
     "text": [
      "Success for img(178)_g.png:\n",
      "Testing 0 img(178)_g\n",
      "\n"
     ]
    },
    {
     "name": "stderr",
     "output_type": "stream",
     "text": [
      "Processing train inputs:  65%|███████████████████████████████████                   | 654/1006 [52:39<29:08,  4.97s/it]"
     ]
    },
    {
     "name": "stdout",
     "output_type": "stream",
     "text": [
      "Success for img(178)_n.png:\n",
      "Testing 0 img(178)_n\n",
      "\n"
     ]
    },
    {
     "name": "stderr",
     "output_type": "stream",
     "text": [
      "Processing train inputs:  65%|███████████████████████████████████▏                  | 655/1006 [52:45<30:33,  5.22s/it]"
     ]
    },
    {
     "name": "stdout",
     "output_type": "stream",
     "text": [
      "Success for img(178)_r.png:\n",
      "Testing 0 img(178)_r\n",
      "\n"
     ]
    },
    {
     "name": "stderr",
     "output_type": "stream",
     "text": [
      "Processing train inputs:  65%|███████████████████████████████████▎                  | 657/1006 [52:51<24:38,  4.24s/it]"
     ]
    },
    {
     "name": "stdout",
     "output_type": "stream",
     "text": [
      "Success for img(179)_b.png:\n",
      "Testing 0 img(179)_b\n",
      "\n"
     ]
    },
    {
     "name": "stderr",
     "output_type": "stream",
     "text": [
      "Processing train inputs:  65%|███████████████████████████████████▎                  | 658/1006 [52:57<26:51,  4.63s/it]"
     ]
    },
    {
     "name": "stdout",
     "output_type": "stream",
     "text": [
      "Success for img(179)_g.png:\n",
      "Testing 0 img(179)_g\n",
      "\n"
     ]
    },
    {
     "name": "stderr",
     "output_type": "stream",
     "text": [
      "Processing train inputs:  66%|███████████████████████████████████▎                  | 659/1006 [53:02<28:37,  4.95s/it]"
     ]
    },
    {
     "name": "stdout",
     "output_type": "stream",
     "text": [
      "Success for img(179)_n.png:\n",
      "Testing 0 img(179)_n\n",
      "\n"
     ]
    },
    {
     "name": "stderr",
     "output_type": "stream",
     "text": [
      "Processing train inputs:  66%|███████████████████████████████████▍                  | 660/1006 [53:08<29:56,  5.19s/it]"
     ]
    },
    {
     "name": "stdout",
     "output_type": "stream",
     "text": [
      "Success for img(179)_r.png:\n",
      "Testing 0 img(179)_r\n",
      "\n"
     ]
    },
    {
     "name": "stderr",
     "output_type": "stream",
     "text": [
      "Processing train inputs:  66%|███████████████████████████████████▌                  | 662/1006 [53:14<24:14,  4.23s/it]"
     ]
    },
    {
     "name": "stdout",
     "output_type": "stream",
     "text": [
      "Success for img(180)_b.png:\n",
      "Testing 0 img(180)_b\n",
      "\n"
     ]
    },
    {
     "name": "stderr",
     "output_type": "stream",
     "text": [
      "Processing train inputs:  66%|███████████████████████████████████▌                  | 663/1006 [53:20<26:25,  4.62s/it]"
     ]
    },
    {
     "name": "stdout",
     "output_type": "stream",
     "text": [
      "Success for img(180)_g.png:\n",
      "Testing 0 img(180)_g\n",
      "\n"
     ]
    },
    {
     "name": "stderr",
     "output_type": "stream",
     "text": [
      "Processing train inputs:  66%|███████████████████████████████████▋                  | 664/1006 [53:26<28:09,  4.94s/it]"
     ]
    },
    {
     "name": "stdout",
     "output_type": "stream",
     "text": [
      "Success for img(180)_n.png:\n",
      "Testing 0 img(180)_n\n",
      "\n"
     ]
    },
    {
     "name": "stderr",
     "output_type": "stream",
     "text": [
      "Processing train inputs:  66%|███████████████████████████████████▋                  | 665/1006 [53:32<29:30,  5.19s/it]"
     ]
    },
    {
     "name": "stdout",
     "output_type": "stream",
     "text": [
      "Success for img(180)_r.png:\n",
      "Testing 0 img(180)_r\n",
      "\n"
     ]
    },
    {
     "name": "stderr",
     "output_type": "stream",
     "text": [
      "Processing train inputs:  66%|███████████████████████████████████▊                  | 667/1006 [53:38<23:49,  4.22s/it]"
     ]
    },
    {
     "name": "stdout",
     "output_type": "stream",
     "text": [
      "Success for img(181)_b.png:\n",
      "Testing 0 img(181)_b\n",
      "\n"
     ]
    },
    {
     "name": "stderr",
     "output_type": "stream",
     "text": [
      "Processing train inputs:  66%|███████████████████████████████████▊                  | 668/1006 [53:44<26:02,  4.62s/it]"
     ]
    },
    {
     "name": "stdout",
     "output_type": "stream",
     "text": [
      "Success for img(181)_g.png:\n",
      "Testing 0 img(181)_g\n",
      "\n"
     ]
    },
    {
     "name": "stderr",
     "output_type": "stream",
     "text": [
      "Processing train inputs:  67%|███████████████████████████████████▉                  | 669/1006 [53:50<27:46,  4.95s/it]"
     ]
    },
    {
     "name": "stdout",
     "output_type": "stream",
     "text": [
      "Success for img(181)_n.png:\n",
      "Testing 0 img(181)_n\n",
      "\n"
     ]
    },
    {
     "name": "stderr",
     "output_type": "stream",
     "text": [
      "Processing train inputs:  67%|███████████████████████████████████▉                  | 670/1006 [53:55<29:04,  5.19s/it]"
     ]
    },
    {
     "name": "stdout",
     "output_type": "stream",
     "text": [
      "Success for img(181)_r.png:\n",
      "Testing 0 img(181)_r\n",
      "\n"
     ]
    },
    {
     "name": "stderr",
     "output_type": "stream",
     "text": [
      "Processing train inputs:  67%|████████████████████████████████████                  | 672/1006 [54:01<23:33,  4.23s/it]"
     ]
    },
    {
     "name": "stdout",
     "output_type": "stream",
     "text": [
      "Success for img(182)_b.png:\n",
      "Testing 0 img(182)_b\n",
      "\n"
     ]
    },
    {
     "name": "stderr",
     "output_type": "stream",
     "text": [
      "Processing train inputs:  67%|████████████████████████████████████▏                 | 673/1006 [54:07<25:40,  4.63s/it]"
     ]
    },
    {
     "name": "stdout",
     "output_type": "stream",
     "text": [
      "Success for img(182)_g.png:\n",
      "Testing 0 img(182)_g\n",
      "\n"
     ]
    },
    {
     "name": "stderr",
     "output_type": "stream",
     "text": [
      "Processing train inputs:  67%|████████████████████████████████████▏                 | 674/1006 [54:13<27:25,  4.96s/it]"
     ]
    },
    {
     "name": "stdout",
     "output_type": "stream",
     "text": [
      "Success for img(182)_n.png:\n",
      "Testing 0 img(182)_n\n",
      "\n"
     ]
    },
    {
     "name": "stderr",
     "output_type": "stream",
     "text": [
      "Processing train inputs:  67%|████████████████████████████████████▏                 | 675/1006 [54:19<28:42,  5.20s/it]"
     ]
    },
    {
     "name": "stdout",
     "output_type": "stream",
     "text": [
      "Success for img(182)_r.png:\n",
      "Testing 0 img(182)_r\n",
      "\n"
     ]
    },
    {
     "name": "stderr",
     "output_type": "stream",
     "text": [
      "Processing train inputs:  67%|████████████████████████████████████▎                 | 677/1006 [54:25<23:14,  4.24s/it]"
     ]
    },
    {
     "name": "stdout",
     "output_type": "stream",
     "text": [
      "Success for img(183)_b.png:\n",
      "Testing 0 img(183)_b\n",
      "\n"
     ]
    },
    {
     "name": "stderr",
     "output_type": "stream",
     "text": [
      "Processing train inputs:  67%|████████████████████████████████████▍                 | 678/1006 [54:31<25:18,  4.63s/it]"
     ]
    },
    {
     "name": "stdout",
     "output_type": "stream",
     "text": [
      "Success for img(183)_g.png:\n",
      "Testing 0 img(183)_g\n",
      "\n"
     ]
    },
    {
     "name": "stderr",
     "output_type": "stream",
     "text": [
      "Processing train inputs:  67%|████████████████████████████████████▍                 | 679/1006 [54:37<26:57,  4.95s/it]"
     ]
    },
    {
     "name": "stdout",
     "output_type": "stream",
     "text": [
      "Success for img(183)_n.png:\n",
      "Testing 0 img(183)_n\n",
      "\n"
     ]
    },
    {
     "name": "stderr",
     "output_type": "stream",
     "text": [
      "Processing train inputs:  68%|████████████████████████████████████▌                 | 680/1006 [54:43<28:12,  5.19s/it]"
     ]
    },
    {
     "name": "stdout",
     "output_type": "stream",
     "text": [
      "Success for img(183)_r.png:\n",
      "Testing 0 img(183)_r\n",
      "\n"
     ]
    },
    {
     "name": "stderr",
     "output_type": "stream",
     "text": [
      "Processing train inputs:  68%|████████████████████████████████████▌                 | 682/1006 [54:49<22:49,  4.23s/it]"
     ]
    },
    {
     "name": "stdout",
     "output_type": "stream",
     "text": [
      "Success for img(184)_b.png:\n",
      "Testing 0 img(184)_b\n",
      "\n"
     ]
    },
    {
     "name": "stderr",
     "output_type": "stream",
     "text": [
      "Processing train inputs:  68%|████████████████████████████████████▋                 | 683/1006 [54:55<24:54,  4.63s/it]"
     ]
    },
    {
     "name": "stdout",
     "output_type": "stream",
     "text": [
      "Success for img(184)_g.png:\n",
      "Testing 0 img(184)_g\n",
      "\n"
     ]
    },
    {
     "name": "stderr",
     "output_type": "stream",
     "text": [
      "Processing train inputs:  68%|████████████████████████████████████▋                 | 684/1006 [55:00<26:34,  4.95s/it]"
     ]
    },
    {
     "name": "stdout",
     "output_type": "stream",
     "text": [
      "Success for img(184)_n.png:\n",
      "Testing 0 img(184)_n\n",
      "\n"
     ]
    },
    {
     "name": "stderr",
     "output_type": "stream",
     "text": [
      "Processing train inputs:  68%|████████████████████████████████████▊                 | 685/1006 [55:06<27:46,  5.19s/it]"
     ]
    },
    {
     "name": "stdout",
     "output_type": "stream",
     "text": [
      "Success for img(184)_r.png:\n",
      "Testing 0 img(184)_r\n",
      "\n"
     ]
    },
    {
     "name": "stderr",
     "output_type": "stream",
     "text": [
      "Processing train inputs:  68%|████████████████████████████████████▉                 | 687/1006 [55:12<22:26,  4.22s/it]"
     ]
    },
    {
     "name": "stdout",
     "output_type": "stream",
     "text": [
      "Success for img(185)_b.png:\n",
      "Testing 0 img(185)_b\n",
      "\n"
     ]
    },
    {
     "name": "stderr",
     "output_type": "stream",
     "text": [
      "Processing train inputs:  68%|████████████████████████████████████▉                 | 688/1006 [55:18<24:31,  4.63s/it]"
     ]
    },
    {
     "name": "stdout",
     "output_type": "stream",
     "text": [
      "Success for img(185)_g.png:\n",
      "Testing 0 img(185)_g\n",
      "\n"
     ]
    },
    {
     "name": "stderr",
     "output_type": "stream",
     "text": [
      "Processing train inputs:  68%|████████████████████████████████████▉                 | 689/1006 [55:24<26:08,  4.95s/it]"
     ]
    },
    {
     "name": "stdout",
     "output_type": "stream",
     "text": [
      "Success for img(185)_n.png:\n",
      "Testing 0 img(185)_n\n",
      "\n"
     ]
    },
    {
     "name": "stderr",
     "output_type": "stream",
     "text": [
      "Processing train inputs:  69%|█████████████████████████████████████                 | 690/1006 [55:30<27:40,  5.26s/it]"
     ]
    },
    {
     "name": "stdout",
     "output_type": "stream",
     "text": [
      "Success for img(185)_r.png:\n",
      "Testing 0 img(185)_r\n",
      "\n"
     ]
    },
    {
     "name": "stderr",
     "output_type": "stream",
     "text": [
      "Processing train inputs:  69%|█████████████████████████████████████▏                | 692/1006 [55:36<22:18,  4.26s/it]"
     ]
    },
    {
     "name": "stdout",
     "output_type": "stream",
     "text": [
      "Success for img(186)_b.png:\n",
      "Testing 0 img(186)_b\n",
      "\n"
     ]
    },
    {
     "name": "stderr",
     "output_type": "stream",
     "text": [
      "Processing train inputs:  69%|█████████████████████████████████████▏                | 693/1006 [55:42<24:13,  4.64s/it]"
     ]
    },
    {
     "name": "stdout",
     "output_type": "stream",
     "text": [
      "Success for img(186)_g.png:\n",
      "Testing 0 img(186)_g\n",
      "\n"
     ]
    },
    {
     "name": "stderr",
     "output_type": "stream",
     "text": [
      "Processing train inputs:  69%|█████████████████████████████████████▎                | 694/1006 [55:48<25:49,  4.97s/it]"
     ]
    },
    {
     "name": "stdout",
     "output_type": "stream",
     "text": [
      "Success for img(186)_n.png:\n",
      "Testing 0 img(186)_n\n",
      "\n"
     ]
    },
    {
     "name": "stderr",
     "output_type": "stream",
     "text": [
      "Processing train inputs:  69%|█████████████████████████████████████▎                | 695/1006 [55:54<27:00,  5.21s/it]"
     ]
    },
    {
     "name": "stdout",
     "output_type": "stream",
     "text": [
      "Success for img(186)_r.png:\n",
      "Testing 0 img(186)_r\n",
      "\n"
     ]
    },
    {
     "name": "stderr",
     "output_type": "stream",
     "text": [
      "Processing train inputs:  69%|█████████████████████████████████████▍                | 697/1006 [56:00<21:49,  4.24s/it]"
     ]
    },
    {
     "name": "stdout",
     "output_type": "stream",
     "text": [
      "Success for img(187)_b.png:\n",
      "Testing 0 img(187)_b\n",
      "\n"
     ]
    },
    {
     "name": "stderr",
     "output_type": "stream",
     "text": [
      "Processing train inputs:  69%|█████████████████████████████████████▍                | 698/1006 [56:06<23:46,  4.63s/it]"
     ]
    },
    {
     "name": "stdout",
     "output_type": "stream",
     "text": [
      "Success for img(187)_g.png:\n",
      "Testing 0 img(187)_g\n",
      "\n"
     ]
    },
    {
     "name": "stderr",
     "output_type": "stream",
     "text": [
      "Processing train inputs:  69%|█████████████████████████████████████▌                | 699/1006 [56:11<25:20,  4.95s/it]"
     ]
    },
    {
     "name": "stdout",
     "output_type": "stream",
     "text": [
      "Success for img(187)_n.png:\n",
      "Testing 0 img(187)_n\n",
      "\n"
     ]
    },
    {
     "name": "stderr",
     "output_type": "stream",
     "text": [
      "Processing train inputs:  70%|█████████████████████████████████████▌                | 700/1006 [56:17<26:34,  5.21s/it]"
     ]
    },
    {
     "name": "stdout",
     "output_type": "stream",
     "text": [
      "Success for img(187)_r.png:\n",
      "Testing 0 img(187)_r\n",
      "\n"
     ]
    },
    {
     "name": "stderr",
     "output_type": "stream",
     "text": [
      "Processing train inputs:  70%|█████████████████████████████████████▋                | 702/1006 [56:23<21:30,  4.24s/it]"
     ]
    },
    {
     "name": "stdout",
     "output_type": "stream",
     "text": [
      "Success for img(188)_b.png:\n",
      "Testing 0 img(188)_b\n",
      "\n"
     ]
    },
    {
     "name": "stderr",
     "output_type": "stream",
     "text": [
      "Processing train inputs:  70%|█████████████████████████████████████▋                | 703/1006 [56:29<23:22,  4.63s/it]"
     ]
    },
    {
     "name": "stdout",
     "output_type": "stream",
     "text": [
      "Success for img(188)_g.png:\n",
      "Testing 0 img(188)_g\n",
      "\n"
     ]
    },
    {
     "name": "stderr",
     "output_type": "stream",
     "text": [
      "Processing train inputs:  70%|█████████████████████████████████████▊                | 704/1006 [56:35<24:56,  4.96s/it]"
     ]
    },
    {
     "name": "stdout",
     "output_type": "stream",
     "text": [
      "Success for img(188)_n.png:\n",
      "Testing 0 img(188)_n\n",
      "\n"
     ]
    },
    {
     "name": "stderr",
     "output_type": "stream",
     "text": [
      "Processing train inputs:  70%|█████████████████████████████████████▊                | 705/1006 [56:41<26:04,  5.20s/it]"
     ]
    },
    {
     "name": "stdout",
     "output_type": "stream",
     "text": [
      "Success for img(188)_r.png:\n",
      "Testing 0 img(188)_r\n",
      "\n"
     ]
    },
    {
     "name": "stderr",
     "output_type": "stream",
     "text": [
      "Processing train inputs:  70%|█████████████████████████████████████▉                | 707/1006 [56:47<21:05,  4.23s/it]"
     ]
    },
    {
     "name": "stdout",
     "output_type": "stream",
     "text": [
      "Success for img(189)_b.png:\n",
      "Testing 0 img(189)_b\n",
      "\n"
     ]
    },
    {
     "name": "stderr",
     "output_type": "stream",
     "text": [
      "Processing train inputs:  70%|██████████████████████████████████████                | 708/1006 [56:53<22:57,  4.62s/it]"
     ]
    },
    {
     "name": "stdout",
     "output_type": "stream",
     "text": [
      "Success for img(189)_g.png:\n",
      "Testing 0 img(189)_g\n",
      "\n"
     ]
    },
    {
     "name": "stderr",
     "output_type": "stream",
     "text": [
      "Processing train inputs:  70%|██████████████████████████████████████                | 709/1006 [56:59<24:25,  4.93s/it]"
     ]
    },
    {
     "name": "stdout",
     "output_type": "stream",
     "text": [
      "Success for img(189)_n.png:\n",
      "Testing 0 img(189)_n\n",
      "\n"
     ]
    },
    {
     "name": "stderr",
     "output_type": "stream",
     "text": [
      "Processing train inputs:  71%|██████████████████████████████████████                | 710/1006 [57:05<25:36,  5.19s/it]"
     ]
    },
    {
     "name": "stdout",
     "output_type": "stream",
     "text": [
      "Success for img(189)_r.png:\n",
      "Testing 0 img(189)_r\n",
      "\n"
     ]
    },
    {
     "name": "stderr",
     "output_type": "stream",
     "text": [
      "Processing train inputs:  71%|██████████████████████████████████████▏               | 712/1006 [57:10<20:41,  4.22s/it]"
     ]
    },
    {
     "name": "stdout",
     "output_type": "stream",
     "text": [
      "Success for img(190)_b.png:\n",
      "Testing 0 img(190)_b\n",
      "\n"
     ]
    },
    {
     "name": "stderr",
     "output_type": "stream",
     "text": [
      "Processing train inputs:  71%|██████████████████████████████████████▎               | 713/1006 [57:16<22:34,  4.62s/it]"
     ]
    },
    {
     "name": "stdout",
     "output_type": "stream",
     "text": [
      "Success for img(190)_g.png:\n",
      "Testing 0 img(190)_g\n",
      "\n"
     ]
    },
    {
     "name": "stderr",
     "output_type": "stream",
     "text": [
      "Processing train inputs:  71%|██████████████████████████████████████▎               | 714/1006 [57:22<24:02,  4.94s/it]"
     ]
    },
    {
     "name": "stdout",
     "output_type": "stream",
     "text": [
      "Success for img(190)_n.png:\n",
      "Testing 0 img(190)_n\n",
      "\n"
     ]
    },
    {
     "name": "stderr",
     "output_type": "stream",
     "text": [
      "Processing train inputs:  71%|██████████████████████████████████████▍               | 715/1006 [57:28<25:10,  5.19s/it]"
     ]
    },
    {
     "name": "stdout",
     "output_type": "stream",
     "text": [
      "Success for img(190)_r.png:\n",
      "Testing 0 img(190)_r\n",
      "\n"
     ]
    },
    {
     "name": "stderr",
     "output_type": "stream",
     "text": [
      "Processing train inputs:  71%|██████████████████████████████████████▍               | 717/1006 [57:34<20:21,  4.23s/it]"
     ]
    },
    {
     "name": "stdout",
     "output_type": "stream",
     "text": [
      "Success for img(191)_b.png:\n",
      "Testing 0 img(191)_b\n",
      "\n"
     ]
    },
    {
     "name": "stderr",
     "output_type": "stream",
     "text": [
      "Processing train inputs:  71%|██████████████████████████████████████▌               | 718/1006 [57:40<22:13,  4.63s/it]"
     ]
    },
    {
     "name": "stdout",
     "output_type": "stream",
     "text": [
      "Success for img(191)_g.png:\n",
      "Testing 0 img(191)_g\n",
      "\n"
     ]
    },
    {
     "name": "stderr",
     "output_type": "stream",
     "text": [
      "Processing train inputs:  71%|██████████████████████████████████████▌               | 719/1006 [57:46<23:38,  4.94s/it]"
     ]
    },
    {
     "name": "stdout",
     "output_type": "stream",
     "text": [
      "Success for img(191)_n.png:\n",
      "Testing 0 img(191)_n\n",
      "\n"
     ]
    },
    {
     "name": "stderr",
     "output_type": "stream",
     "text": [
      "Processing train inputs:  72%|██████████████████████████████████████▋               | 720/1006 [57:52<24:49,  5.21s/it]"
     ]
    },
    {
     "name": "stdout",
     "output_type": "stream",
     "text": [
      "Success for img(191)_r.png:\n",
      "Testing 0 img(191)_r\n",
      "\n"
     ]
    },
    {
     "name": "stderr",
     "output_type": "stream",
     "text": [
      "Processing train inputs:  72%|██████████████████████████████████████▊               | 722/1006 [57:58<20:06,  4.25s/it]"
     ]
    },
    {
     "name": "stdout",
     "output_type": "stream",
     "text": [
      "Success for img(192)_b.png:\n",
      "Testing 0 img(192)_b\n",
      "\n"
     ]
    },
    {
     "name": "stderr",
     "output_type": "stream",
     "text": [
      "Processing train inputs:  72%|██████████████████████████████████████▊               | 723/1006 [58:04<21:52,  4.64s/it]"
     ]
    },
    {
     "name": "stdout",
     "output_type": "stream",
     "text": [
      "Success for img(192)_g.png:\n",
      "Testing 0 img(192)_g\n",
      "\n"
     ]
    },
    {
     "name": "stderr",
     "output_type": "stream",
     "text": [
      "Processing train inputs:  72%|██████████████████████████████████████▊               | 724/1006 [58:10<23:19,  4.96s/it]"
     ]
    },
    {
     "name": "stdout",
     "output_type": "stream",
     "text": [
      "Success for img(192)_n.png:\n",
      "Testing 0 img(192)_n\n",
      "\n"
     ]
    },
    {
     "name": "stderr",
     "output_type": "stream",
     "text": [
      "Processing train inputs:  72%|██████████████████████████████████████▉               | 725/1006 [58:15<24:23,  5.21s/it]"
     ]
    },
    {
     "name": "stdout",
     "output_type": "stream",
     "text": [
      "Success for img(192)_r.png:\n",
      "Testing 0 img(192)_r\n",
      "\n"
     ]
    },
    {
     "name": "stderr",
     "output_type": "stream",
     "text": [
      "Processing train inputs:  72%|███████████████████████████████████████               | 727/1006 [58:21<19:43,  4.24s/it]"
     ]
    },
    {
     "name": "stdout",
     "output_type": "stream",
     "text": [
      "Success for img(193)_b.png:\n",
      "Testing 0 img(193)_b\n",
      "\n"
     ]
    },
    {
     "name": "stderr",
     "output_type": "stream",
     "text": [
      "Processing train inputs:  72%|███████████████████████████████████████               | 728/1006 [58:27<21:26,  4.63s/it]"
     ]
    },
    {
     "name": "stdout",
     "output_type": "stream",
     "text": [
      "Success for img(193)_g.png:\n",
      "Testing 0 img(193)_g\n",
      "\n"
     ]
    },
    {
     "name": "stderr",
     "output_type": "stream",
     "text": [
      "Processing train inputs:  72%|███████████████████████████████████████▏              | 729/1006 [58:33<22:47,  4.94s/it]"
     ]
    },
    {
     "name": "stdout",
     "output_type": "stream",
     "text": [
      "Success for img(193)_n.png:\n",
      "Testing 0 img(193)_n\n",
      "\n"
     ]
    },
    {
     "name": "stderr",
     "output_type": "stream",
     "text": [
      "Processing train inputs:  73%|███████████████████████████████████████▏              | 730/1006 [58:39<23:49,  5.18s/it]"
     ]
    },
    {
     "name": "stdout",
     "output_type": "stream",
     "text": [
      "Success for img(193)_r.png:\n",
      "Testing 0 img(193)_r\n",
      "\n"
     ]
    },
    {
     "name": "stderr",
     "output_type": "stream",
     "text": [
      "Processing train inputs:  73%|███████████████████████████████████████▎              | 732/1006 [58:45<19:18,  4.23s/it]"
     ]
    },
    {
     "name": "stdout",
     "output_type": "stream",
     "text": [
      "Success for img(194)_b.png:\n",
      "Testing 0 img(194)_b\n",
      "\n"
     ]
    },
    {
     "name": "stderr",
     "output_type": "stream",
     "text": [
      "Processing train inputs:  73%|███████████████████████████████████████▎              | 733/1006 [58:51<21:02,  4.62s/it]"
     ]
    },
    {
     "name": "stdout",
     "output_type": "stream",
     "text": [
      "Success for img(194)_g.png:\n",
      "Testing 0 img(194)_g\n",
      "\n"
     ]
    },
    {
     "name": "stderr",
     "output_type": "stream",
     "text": [
      "Processing train inputs:  73%|███████████████████████████████████████▍              | 734/1006 [58:57<22:24,  4.94s/it]"
     ]
    },
    {
     "name": "stdout",
     "output_type": "stream",
     "text": [
      "Success for img(194)_n.png:\n",
      "Testing 0 img(194)_n\n",
      "\n"
     ]
    },
    {
     "name": "stderr",
     "output_type": "stream",
     "text": [
      "Processing train inputs:  73%|███████████████████████████████████████▍              | 735/1006 [59:03<23:28,  5.20s/it]"
     ]
    },
    {
     "name": "stdout",
     "output_type": "stream",
     "text": [
      "Success for img(194)_r.png:\n",
      "Testing 0 img(194)_r\n",
      "\n"
     ]
    },
    {
     "name": "stderr",
     "output_type": "stream",
     "text": [
      "Processing train inputs:  73%|███████████████████████████████████████▌              | 737/1006 [59:09<18:58,  4.23s/it]"
     ]
    },
    {
     "name": "stdout",
     "output_type": "stream",
     "text": [
      "Success for img(195)_b.png:\n",
      "Testing 0 img(195)_b\n",
      "\n"
     ]
    },
    {
     "name": "stderr",
     "output_type": "stream",
     "text": [
      "Processing train inputs:  73%|███████████████████████████████████████▌              | 738/1006 [59:14<20:40,  4.63s/it]"
     ]
    },
    {
     "name": "stdout",
     "output_type": "stream",
     "text": [
      "Success for img(195)_g.png:\n",
      "Testing 0 img(195)_g\n",
      "\n"
     ]
    },
    {
     "name": "stderr",
     "output_type": "stream",
     "text": [
      "Processing train inputs:  73%|███████████████████████████████████████▋              | 739/1006 [59:20<22:06,  4.97s/it]"
     ]
    },
    {
     "name": "stdout",
     "output_type": "stream",
     "text": [
      "Success for img(195)_n.png:\n",
      "Testing 0 img(195)_n\n",
      "\n"
     ]
    },
    {
     "name": "stderr",
     "output_type": "stream",
     "text": [
      "Processing train inputs:  74%|███████████████████████████████████████▋              | 740/1006 [59:26<23:05,  5.21s/it]"
     ]
    },
    {
     "name": "stdout",
     "output_type": "stream",
     "text": [
      "Success for img(195)_r.png:\n",
      "Testing 0 img(195)_r\n",
      "\n"
     ]
    },
    {
     "name": "stderr",
     "output_type": "stream",
     "text": [
      "Processing train inputs:  74%|███████████████████████████████████████▊              | 742/1006 [59:32<18:40,  4.24s/it]"
     ]
    },
    {
     "name": "stdout",
     "output_type": "stream",
     "text": [
      "Success for img(196)_b.png:\n",
      "Testing 0 img(196)_b\n",
      "\n"
     ]
    },
    {
     "name": "stderr",
     "output_type": "stream",
     "text": [
      "Processing train inputs:  74%|███████████████████████████████████████▉              | 743/1006 [59:38<20:17,  4.63s/it]"
     ]
    },
    {
     "name": "stdout",
     "output_type": "stream",
     "text": [
      "Success for img(196)_g.png:\n",
      "Testing 0 img(196)_g\n",
      "\n"
     ]
    },
    {
     "name": "stderr",
     "output_type": "stream",
     "text": [
      "Processing train inputs:  74%|███████████████████████████████████████▉              | 744/1006 [59:44<21:38,  4.96s/it]"
     ]
    },
    {
     "name": "stdout",
     "output_type": "stream",
     "text": [
      "Success for img(196)_n.png:\n",
      "Testing 0 img(196)_n\n",
      "\n"
     ]
    },
    {
     "name": "stderr",
     "output_type": "stream",
     "text": [
      "Processing train inputs:  74%|███████████████████████████████████████▉              | 745/1006 [59:50<22:38,  5.21s/it]"
     ]
    },
    {
     "name": "stdout",
     "output_type": "stream",
     "text": [
      "Success for img(196)_r.png:\n",
      "Testing 0 img(196)_r\n",
      "\n"
     ]
    },
    {
     "name": "stderr",
     "output_type": "stream",
     "text": [
      "Processing train inputs:  74%|████████████████████████████████████████              | 747/1006 [59:56<18:16,  4.23s/it]"
     ]
    },
    {
     "name": "stdout",
     "output_type": "stream",
     "text": [
      "Success for img(197)_b.png:\n",
      "Testing 0 img(197)_b\n",
      "\n"
     ]
    },
    {
     "name": "stderr",
     "output_type": "stream",
     "text": [
      "Processing train inputs:  74%|██████████████████████████████████████▋             | 748/1006 [1:00:02<19:54,  4.63s/it]"
     ]
    },
    {
     "name": "stdout",
     "output_type": "stream",
     "text": [
      "Success for img(197)_g.png:\n",
      "Testing 0 img(197)_g\n",
      "\n"
     ]
    },
    {
     "name": "stderr",
     "output_type": "stream",
     "text": [
      "Processing train inputs:  74%|██████████████████████████████████████▋             | 749/1006 [1:00:08<21:46,  5.09s/it]"
     ]
    },
    {
     "name": "stdout",
     "output_type": "stream",
     "text": [
      "Success for img(197)_n.png:\n",
      "Testing 0 img(197)_n\n",
      "\n"
     ]
    },
    {
     "name": "stderr",
     "output_type": "stream",
     "text": [
      "Processing train inputs:  75%|██████████████████████████████████████▊             | 750/1006 [1:00:14<22:40,  5.31s/it]"
     ]
    },
    {
     "name": "stdout",
     "output_type": "stream",
     "text": [
      "Success for img(197)_r.png:\n",
      "Testing 0 img(197)_r\n",
      "\n"
     ]
    },
    {
     "name": "stderr",
     "output_type": "stream",
     "text": [
      "Processing train inputs:  75%|██████████████████████████████████████▊             | 752/1006 [1:00:20<18:12,  4.30s/it]"
     ]
    },
    {
     "name": "stdout",
     "output_type": "stream",
     "text": [
      "Success for img(198)_b.png:\n",
      "Testing 0 img(198)_b\n",
      "\n"
     ]
    },
    {
     "name": "stderr",
     "output_type": "stream",
     "text": [
      "Processing train inputs:  75%|██████████████████████████████████████▉             | 753/1006 [1:00:26<19:44,  4.68s/it]"
     ]
    },
    {
     "name": "stdout",
     "output_type": "stream",
     "text": [
      "Success for img(198)_g.png:\n",
      "Testing 0 img(198)_g\n",
      "\n"
     ]
    },
    {
     "name": "stderr",
     "output_type": "stream",
     "text": [
      "Processing train inputs:  75%|██████████████████████████████████████▉             | 754/1006 [1:00:32<20:55,  4.98s/it]"
     ]
    },
    {
     "name": "stdout",
     "output_type": "stream",
     "text": [
      "Success for img(198)_n.png:\n",
      "Testing 0 img(198)_n\n",
      "\n"
     ]
    },
    {
     "name": "stderr",
     "output_type": "stream",
     "text": [
      "Processing train inputs:  75%|███████████████████████████████████████             | 755/1006 [1:00:38<21:53,  5.23s/it]"
     ]
    },
    {
     "name": "stdout",
     "output_type": "stream",
     "text": [
      "Success for img(198)_r.png:\n",
      "Testing 0 img(198)_r\n",
      "\n"
     ]
    },
    {
     "name": "stderr",
     "output_type": "stream",
     "text": [
      "Processing train inputs:  75%|███████████████████████████████████████▏            | 757/1006 [1:00:44<17:38,  4.25s/it]"
     ]
    },
    {
     "name": "stdout",
     "output_type": "stream",
     "text": [
      "Success for img(199)_b.png:\n",
      "Testing 0 img(199)_b\n",
      "\n"
     ]
    },
    {
     "name": "stderr",
     "output_type": "stream",
     "text": [
      "Processing train inputs:  75%|███████████████████████████████████████▏            | 758/1006 [1:00:50<19:13,  4.65s/it]"
     ]
    },
    {
     "name": "stdout",
     "output_type": "stream",
     "text": [
      "Success for img(199)_g.png:\n",
      "Testing 0 img(199)_g\n",
      "\n"
     ]
    },
    {
     "name": "stderr",
     "output_type": "stream",
     "text": [
      "Processing train inputs:  75%|███████████████████████████████████████▏            | 759/1006 [1:00:56<20:24,  4.96s/it]"
     ]
    },
    {
     "name": "stdout",
     "output_type": "stream",
     "text": [
      "Success for img(199)_n.png:\n",
      "Testing 0 img(199)_n\n",
      "\n"
     ]
    },
    {
     "name": "stderr",
     "output_type": "stream",
     "text": [
      "Processing train inputs:  76%|███████████████████████████████████████▎            | 760/1006 [1:01:02<21:23,  5.22s/it]"
     ]
    },
    {
     "name": "stdout",
     "output_type": "stream",
     "text": [
      "Success for img(199)_r.png:\n",
      "Testing 0 img(199)_r\n",
      "\n"
     ]
    },
    {
     "name": "stderr",
     "output_type": "stream",
     "text": [
      "Processing train inputs:  76%|███████████████████████████████████████▍            | 762/1006 [1:01:07<17:17,  4.25s/it]"
     ]
    },
    {
     "name": "stdout",
     "output_type": "stream",
     "text": [
      "Success for img(200)_b.png:\n",
      "Testing 0 img(200)_b\n",
      "\n"
     ]
    },
    {
     "name": "stderr",
     "output_type": "stream",
     "text": [
      "Processing train inputs:  76%|███████████████████████████████████████▍            | 763/1006 [1:01:13<18:46,  4.64s/it]"
     ]
    },
    {
     "name": "stdout",
     "output_type": "stream",
     "text": [
      "Success for img(200)_g.png:\n",
      "Testing 0 img(200)_g\n",
      "\n"
     ]
    },
    {
     "name": "stderr",
     "output_type": "stream",
     "text": [
      "Processing train inputs:  76%|███████████████████████████████████████▍            | 764/1006 [1:01:19<19:58,  4.95s/it]"
     ]
    },
    {
     "name": "stdout",
     "output_type": "stream",
     "text": [
      "Success for img(200)_n.png:\n",
      "Testing 0 img(200)_n\n",
      "\n"
     ]
    },
    {
     "name": "stderr",
     "output_type": "stream",
     "text": [
      "Processing train inputs:  76%|███████████████████████████████████████▌            | 765/1006 [1:01:25<20:53,  5.20s/it]"
     ]
    },
    {
     "name": "stdout",
     "output_type": "stream",
     "text": [
      "Success for img(200)_r.png:\n",
      "Testing 0 img(200)_r\n",
      "\n"
     ]
    },
    {
     "name": "stderr",
     "output_type": "stream",
     "text": [
      "Processing train inputs:  76%|███████████████████████████████████████▋            | 767/1006 [1:01:31<16:56,  4.25s/it]"
     ]
    },
    {
     "name": "stdout",
     "output_type": "stream",
     "text": [
      "Success for img(201)_b.png:\n",
      "Testing 0 img(201)_b\n",
      "\n"
     ]
    },
    {
     "name": "stderr",
     "output_type": "stream",
     "text": [
      "Processing train inputs:  76%|███████████████████████████████████████▋            | 768/1006 [1:01:37<18:29,  4.66s/it]"
     ]
    },
    {
     "name": "stdout",
     "output_type": "stream",
     "text": [
      "Success for img(201)_g.png:\n",
      "Testing 0 img(201)_g\n",
      "\n"
     ]
    },
    {
     "name": "stderr",
     "output_type": "stream",
     "text": [
      "Processing train inputs:  76%|███████████████████████████████████████▋            | 769/1006 [1:01:43<19:41,  4.99s/it]"
     ]
    },
    {
     "name": "stdout",
     "output_type": "stream",
     "text": [
      "Success for img(201)_n.png:\n",
      "Testing 0 img(201)_n\n",
      "\n"
     ]
    },
    {
     "name": "stderr",
     "output_type": "stream",
     "text": [
      "Processing train inputs:  77%|███████████████████████████████████████▊            | 770/1006 [1:01:49<20:39,  5.25s/it]"
     ]
    },
    {
     "name": "stdout",
     "output_type": "stream",
     "text": [
      "Success for img(201)_r.png:\n",
      "Testing 0 img(201)_r\n",
      "\n"
     ]
    },
    {
     "name": "stderr",
     "output_type": "stream",
     "text": [
      "Processing train inputs:  77%|███████████████████████████████████████▉            | 773/1006 [1:01:55<13:39,  3.52s/it]"
     ]
    },
    {
     "name": "stdout",
     "output_type": "stream",
     "text": [
      "Success for img(21)_b.png:\n",
      "Testing 0 img(21)_b\n",
      "\n"
     ]
    },
    {
     "name": "stderr",
     "output_type": "stream",
     "text": [
      "Processing train inputs:  77%|████████████████████████████████████████            | 774/1006 [1:02:01<15:34,  4.03s/it]"
     ]
    },
    {
     "name": "stdout",
     "output_type": "stream",
     "text": [
      "Success for img(21)_g.png:\n",
      "Testing 0 img(21)_g\n",
      "\n"
     ]
    },
    {
     "name": "stderr",
     "output_type": "stream",
     "text": [
      "Processing train inputs:  77%|████████████████████████████████████████            | 775/1006 [1:02:07<17:06,  4.44s/it]"
     ]
    },
    {
     "name": "stdout",
     "output_type": "stream",
     "text": [
      "Success for img(21)_n.png:\n",
      "Testing 0 img(21)_n\n",
      "\n"
     ]
    },
    {
     "name": "stderr",
     "output_type": "stream",
     "text": [
      "Processing train inputs:  77%|████████████████████████████████████████            | 776/1006 [1:02:13<18:24,  4.80s/it]"
     ]
    },
    {
     "name": "stdout",
     "output_type": "stream",
     "text": [
      "Success for img(21)_r.png:\n",
      "Testing 0 img(21)_r\n",
      "\n"
     ]
    },
    {
     "name": "stderr",
     "output_type": "stream",
     "text": [
      "Processing train inputs:  77%|████████████████████████████████████████▏           | 778/1006 [1:02:19<15:23,  4.05s/it]"
     ]
    },
    {
     "name": "stdout",
     "output_type": "stream",
     "text": [
      "Success for img(22)_b.png:\n",
      "Testing 0 img(22)_b\n",
      "\n"
     ]
    },
    {
     "name": "stderr",
     "output_type": "stream",
     "text": [
      "Processing train inputs:  77%|████████████████████████████████████████▎           | 779/1006 [1:02:25<16:54,  4.47s/it]"
     ]
    },
    {
     "name": "stdout",
     "output_type": "stream",
     "text": [
      "Success for img(22)_g.png:\n",
      "Testing 0 img(22)_g\n",
      "\n"
     ]
    },
    {
     "name": "stderr",
     "output_type": "stream",
     "text": [
      "Processing train inputs:  78%|████████████████████████████████████████▎           | 780/1006 [1:02:31<18:57,  5.03s/it]"
     ]
    },
    {
     "name": "stdout",
     "output_type": "stream",
     "text": [
      "Success for img(22)_n.png:\n",
      "Testing 0 img(22)_n\n",
      "\n"
     ]
    },
    {
     "name": "stderr",
     "output_type": "stream",
     "text": [
      "Processing train inputs:  78%|████████████████████████████████████████▎           | 781/1006 [1:02:38<20:05,  5.36s/it]"
     ]
    },
    {
     "name": "stdout",
     "output_type": "stream",
     "text": [
      "Success for img(22)_r.png:\n",
      "Testing 0 img(22)_r\n",
      "\n"
     ]
    },
    {
     "name": "stderr",
     "output_type": "stream",
     "text": [
      "Processing train inputs:  78%|████████████████████████████████████████▍           | 783/1006 [1:02:44<16:18,  4.39s/it]"
     ]
    },
    {
     "name": "stdout",
     "output_type": "stream",
     "text": [
      "Success for img(23)_b.png:\n",
      "Testing 0 img(23)_b\n",
      "\n"
     ]
    },
    {
     "name": "stderr",
     "output_type": "stream",
     "text": [
      "Processing train inputs:  78%|████████████████████████████████████████▌           | 784/1006 [1:02:50<17:50,  4.82s/it]"
     ]
    },
    {
     "name": "stdout",
     "output_type": "stream",
     "text": [
      "Success for img(23)_g.png:\n",
      "Testing 0 img(23)_g\n",
      "\n"
     ]
    },
    {
     "name": "stderr",
     "output_type": "stream",
     "text": [
      "Processing train inputs:  78%|████████████████████████████████████████▌           | 785/1006 [1:02:56<19:06,  5.19s/it]"
     ]
    },
    {
     "name": "stdout",
     "output_type": "stream",
     "text": [
      "Success for img(23)_n.png:\n",
      "Testing 0 img(23)_n\n",
      "\n"
     ]
    },
    {
     "name": "stderr",
     "output_type": "stream",
     "text": [
      "Processing train inputs:  78%|████████████████████████████████████████▋           | 786/1006 [1:03:02<19:45,  5.39s/it]"
     ]
    },
    {
     "name": "stdout",
     "output_type": "stream",
     "text": [
      "Success for img(23)_r.png:\n",
      "Testing 0 img(23)_r\n",
      "\n"
     ]
    },
    {
     "name": "stderr",
     "output_type": "stream",
     "text": [
      "Processing train inputs:  78%|████████████████████████████████████████▋           | 788/1006 [1:03:08<15:52,  4.37s/it]"
     ]
    },
    {
     "name": "stdout",
     "output_type": "stream",
     "text": [
      "Success for img(24)_b.png:\n",
      "Testing 0 img(24)_b\n",
      "\n"
     ]
    },
    {
     "name": "stderr",
     "output_type": "stream",
     "text": [
      "Processing train inputs:  78%|████████████████████████████████████████▊           | 789/1006 [1:03:14<17:10,  4.75s/it]"
     ]
    },
    {
     "name": "stdout",
     "output_type": "stream",
     "text": [
      "Success for img(24)_g.png:\n",
      "Testing 0 img(24)_g\n",
      "\n"
     ]
    },
    {
     "name": "stderr",
     "output_type": "stream",
     "text": [
      "Processing train inputs:  79%|████████████████████████████████████████▊           | 790/1006 [1:03:20<18:10,  5.05s/it]"
     ]
    },
    {
     "name": "stdout",
     "output_type": "stream",
     "text": [
      "Success for img(24)_n.png:\n",
      "Testing 0 img(24)_n\n",
      "\n"
     ]
    },
    {
     "name": "stderr",
     "output_type": "stream",
     "text": [
      "Processing train inputs:  79%|████████████████████████████████████████▉           | 791/1006 [1:03:26<18:55,  5.28s/it]"
     ]
    },
    {
     "name": "stdout",
     "output_type": "stream",
     "text": [
      "Success for img(24)_r.png:\n",
      "Testing 0 img(24)_r\n",
      "\n"
     ]
    },
    {
     "name": "stderr",
     "output_type": "stream",
     "text": [
      "Processing train inputs:  79%|████████████████████████████████████████▉           | 793/1006 [1:03:32<15:14,  4.29s/it]"
     ]
    },
    {
     "name": "stdout",
     "output_type": "stream",
     "text": [
      "Success for img(25)_b.png:\n",
      "Testing 0 img(25)_b\n",
      "\n"
     ]
    },
    {
     "name": "stderr",
     "output_type": "stream",
     "text": [
      "Processing train inputs:  79%|█████████████████████████████████████████           | 794/1006 [1:03:38<16:37,  4.70s/it]"
     ]
    },
    {
     "name": "stdout",
     "output_type": "stream",
     "text": [
      "Success for img(25)_g.png:\n",
      "Testing 0 img(25)_g\n",
      "\n"
     ]
    },
    {
     "name": "stderr",
     "output_type": "stream",
     "text": [
      "Processing train inputs:  79%|█████████████████████████████████████████           | 795/1006 [1:03:44<17:39,  5.02s/it]"
     ]
    },
    {
     "name": "stdout",
     "output_type": "stream",
     "text": [
      "Success for img(25)_n.png:\n",
      "Testing 0 img(25)_n\n",
      "\n"
     ]
    },
    {
     "name": "stderr",
     "output_type": "stream",
     "text": [
      "Processing train inputs:  79%|█████████████████████████████████████████▏          | 796/1006 [1:03:50<18:25,  5.26s/it]"
     ]
    },
    {
     "name": "stdout",
     "output_type": "stream",
     "text": [
      "Success for img(25)_r.png:\n",
      "Testing 0 img(25)_r\n",
      "\n"
     ]
    },
    {
     "name": "stderr",
     "output_type": "stream",
     "text": [
      "Processing train inputs:  79%|█████████████████████████████████████████▏          | 798/1006 [1:03:56<14:52,  4.29s/it]"
     ]
    },
    {
     "name": "stdout",
     "output_type": "stream",
     "text": [
      "Success for img(26)_b.png:\n",
      "Testing 0 img(26)_b\n",
      "\n"
     ]
    },
    {
     "name": "stderr",
     "output_type": "stream",
     "text": [
      "Processing train inputs:  79%|█████████████████████████████████████████▎          | 799/1006 [1:04:02<16:08,  4.68s/it]"
     ]
    },
    {
     "name": "stdout",
     "output_type": "stream",
     "text": [
      "Success for img(26)_g.png:\n",
      "Testing 0 img(26)_g\n",
      "\n"
     ]
    },
    {
     "name": "stderr",
     "output_type": "stream",
     "text": [
      "Processing train inputs:  80%|█████████████████████████████████████████▎          | 800/1006 [1:04:08<17:07,  4.99s/it]"
     ]
    },
    {
     "name": "stdout",
     "output_type": "stream",
     "text": [
      "Success for img(26)_n.png:\n",
      "Testing 0 img(26)_n\n",
      "\n"
     ]
    },
    {
     "name": "stderr",
     "output_type": "stream",
     "text": [
      "Processing train inputs:  80%|█████████████████████████████████████████▍          | 801/1006 [1:04:14<17:55,  5.24s/it]"
     ]
    },
    {
     "name": "stdout",
     "output_type": "stream",
     "text": [
      "Success for img(26)_r.png:\n",
      "Testing 0 img(26)_r\n",
      "\n"
     ]
    },
    {
     "name": "stderr",
     "output_type": "stream",
     "text": [
      "Processing train inputs:  80%|█████████████████████████████████████████▌          | 803/1006 [1:04:20<14:25,  4.27s/it]"
     ]
    },
    {
     "name": "stdout",
     "output_type": "stream",
     "text": [
      "Success for img(27)_b.png:\n",
      "Testing 0 img(27)_b\n",
      "\n"
     ]
    },
    {
     "name": "stderr",
     "output_type": "stream",
     "text": [
      "Processing train inputs:  80%|█████████████████████████████████████████▌          | 804/1006 [1:04:26<15:42,  4.67s/it]"
     ]
    },
    {
     "name": "stdout",
     "output_type": "stream",
     "text": [
      "Success for img(27)_g.png:\n",
      "Testing 0 img(27)_g\n",
      "\n"
     ]
    },
    {
     "name": "stderr",
     "output_type": "stream",
     "text": [
      "Processing train inputs:  80%|█████████████████████████████████████████▌          | 805/1006 [1:04:32<16:46,  5.01s/it]"
     ]
    },
    {
     "name": "stdout",
     "output_type": "stream",
     "text": [
      "Success for img(27)_n.png:\n",
      "Testing 0 img(27)_n\n",
      "\n"
     ]
    },
    {
     "name": "stderr",
     "output_type": "stream",
     "text": [
      "Processing train inputs:  80%|█████████████████████████████████████████▋          | 806/1006 [1:04:38<17:32,  5.26s/it]"
     ]
    },
    {
     "name": "stdout",
     "output_type": "stream",
     "text": [
      "Success for img(27)_r.png:\n",
      "Testing 0 img(27)_r\n",
      "\n"
     ]
    },
    {
     "name": "stderr",
     "output_type": "stream",
     "text": [
      "Processing train inputs:  80%|█████████████████████████████████████████▊          | 808/1006 [1:04:44<14:06,  4.28s/it]"
     ]
    },
    {
     "name": "stdout",
     "output_type": "stream",
     "text": [
      "Success for img(28)_b.png:\n",
      "Testing 0 img(28)_b\n",
      "\n"
     ]
    },
    {
     "name": "stderr",
     "output_type": "stream",
     "text": [
      "Processing train inputs:  80%|█████████████████████████████████████████▊          | 809/1006 [1:04:50<15:20,  4.67s/it]"
     ]
    },
    {
     "name": "stdout",
     "output_type": "stream",
     "text": [
      "Success for img(28)_g.png:\n",
      "Testing 0 img(28)_g\n",
      "\n"
     ]
    },
    {
     "name": "stderr",
     "output_type": "stream",
     "text": [
      "Processing train inputs:  81%|█████████████████████████████████████████▊          | 810/1006 [1:04:56<16:16,  4.98s/it]"
     ]
    },
    {
     "name": "stdout",
     "output_type": "stream",
     "text": [
      "Success for img(28)_n.png:\n",
      "Testing 0 img(28)_n\n",
      "\n"
     ]
    },
    {
     "name": "stderr",
     "output_type": "stream",
     "text": [
      "Processing train inputs:  81%|█████████████████████████████████████████▉          | 811/1006 [1:05:02<17:00,  5.23s/it]"
     ]
    },
    {
     "name": "stdout",
     "output_type": "stream",
     "text": [
      "Success for img(28)_r.png:\n",
      "Testing 0 img(28)_r\n",
      "\n"
     ]
    },
    {
     "name": "stderr",
     "output_type": "stream",
     "text": [
      "Processing train inputs:  81%|██████████████████████████████████████████          | 813/1006 [1:05:08<13:39,  4.25s/it]"
     ]
    },
    {
     "name": "stdout",
     "output_type": "stream",
     "text": [
      "Success for img(29)_b.png:\n",
      "Testing 0 img(29)_b\n",
      "\n"
     ]
    },
    {
     "name": "stderr",
     "output_type": "stream",
     "text": [
      "Processing train inputs:  81%|██████████████████████████████████████████          | 814/1006 [1:05:13<14:51,  4.64s/it]"
     ]
    },
    {
     "name": "stdout",
     "output_type": "stream",
     "text": [
      "Success for img(29)_g.png:\n",
      "Testing 0 img(29)_g\n",
      "\n"
     ]
    },
    {
     "name": "stderr",
     "output_type": "stream",
     "text": [
      "Processing train inputs:  81%|██████████████████████████████████████████▏         | 815/1006 [1:05:19<15:48,  4.96s/it]"
     ]
    },
    {
     "name": "stdout",
     "output_type": "stream",
     "text": [
      "Success for img(29)_n.png:\n",
      "Testing 0 img(29)_n\n",
      "\n"
     ]
    },
    {
     "name": "stderr",
     "output_type": "stream",
     "text": [
      "Processing train inputs:  81%|██████████████████████████████████████████▏         | 816/1006 [1:05:25<16:32,  5.22s/it]"
     ]
    },
    {
     "name": "stdout",
     "output_type": "stream",
     "text": [
      "Success for img(29)_r.png:\n",
      "Testing 0 img(29)_r\n",
      "\n"
     ]
    },
    {
     "name": "stderr",
     "output_type": "stream",
     "text": [
      "Processing train inputs:  81%|██████████████████████████████████████████▎         | 818/1006 [1:05:31<13:22,  4.27s/it]"
     ]
    },
    {
     "name": "stdout",
     "output_type": "stream",
     "text": [
      "Success for img(30)_b.png:\n",
      "Testing 0 img(30)_b\n",
      "\n"
     ]
    },
    {
     "name": "stderr",
     "output_type": "stream",
     "text": [
      "Processing train inputs:  81%|██████████████████████████████████████████▎         | 819/1006 [1:05:37<14:31,  4.66s/it]"
     ]
    },
    {
     "name": "stdout",
     "output_type": "stream",
     "text": [
      "Success for img(30)_g.png:\n",
      "Testing 0 img(30)_g\n",
      "\n"
     ]
    },
    {
     "name": "stderr",
     "output_type": "stream",
     "text": [
      "Processing train inputs:  82%|██████████████████████████████████████████▍         | 820/1006 [1:05:43<15:28,  4.99s/it]"
     ]
    },
    {
     "name": "stdout",
     "output_type": "stream",
     "text": [
      "Success for img(30)_n.png:\n",
      "Testing 0 img(30)_n\n",
      "\n"
     ]
    },
    {
     "name": "stderr",
     "output_type": "stream",
     "text": [
      "Processing train inputs:  82%|██████████████████████████████████████████▍         | 821/1006 [1:05:49<16:09,  5.24s/it]"
     ]
    },
    {
     "name": "stdout",
     "output_type": "stream",
     "text": [
      "Success for img(30)_r.png:\n",
      "Testing 0 img(30)_r\n",
      "\n"
     ]
    },
    {
     "name": "stderr",
     "output_type": "stream",
     "text": [
      "Processing train inputs:  82%|██████████████████████████████████████████▌         | 823/1006 [1:05:55<13:00,  4.26s/it]"
     ]
    },
    {
     "name": "stdout",
     "output_type": "stream",
     "text": [
      "Success for img(31)_b.png:\n",
      "Testing 0 img(31)_b\n",
      "\n"
     ]
    },
    {
     "name": "stderr",
     "output_type": "stream",
     "text": [
      "Processing train inputs:  82%|██████████████████████████████████████████▌         | 824/1006 [1:06:01<14:07,  4.65s/it]"
     ]
    },
    {
     "name": "stdout",
     "output_type": "stream",
     "text": [
      "Success for img(31)_g.png:\n",
      "Testing 0 img(31)_g\n",
      "\n"
     ]
    },
    {
     "name": "stderr",
     "output_type": "stream",
     "text": [
      "Processing train inputs:  82%|██████████████████████████████████████████▋         | 825/1006 [1:06:07<14:57,  4.96s/it]"
     ]
    },
    {
     "name": "stdout",
     "output_type": "stream",
     "text": [
      "Success for img(31)_n.png:\n",
      "Testing 0 img(31)_n\n",
      "\n"
     ]
    },
    {
     "name": "stderr",
     "output_type": "stream",
     "text": [
      "Processing train inputs:  82%|██████████████████████████████████████████▋         | 826/1006 [1:06:13<15:38,  5.22s/it]"
     ]
    },
    {
     "name": "stdout",
     "output_type": "stream",
     "text": [
      "Success for img(31)_r.png:\n",
      "Testing 0 img(31)_r\n",
      "\n"
     ]
    },
    {
     "name": "stderr",
     "output_type": "stream",
     "text": [
      "Processing train inputs:  82%|██████████████████████████████████████████▊         | 828/1006 [1:06:19<12:38,  4.26s/it]"
     ]
    },
    {
     "name": "stdout",
     "output_type": "stream",
     "text": [
      "Success for img(32)_b.png:\n",
      "Testing 0 img(32)_b\n",
      "\n"
     ]
    },
    {
     "name": "stderr",
     "output_type": "stream",
     "text": [
      "Processing train inputs:  82%|██████████████████████████████████████████▊         | 829/1006 [1:06:25<13:46,  4.67s/it]"
     ]
    },
    {
     "name": "stdout",
     "output_type": "stream",
     "text": [
      "Success for img(32)_g.png:\n",
      "Testing 0 img(32)_g\n",
      "\n"
     ]
    },
    {
     "name": "stderr",
     "output_type": "stream",
     "text": [
      "Processing train inputs:  83%|██████████████████████████████████████████▉         | 830/1006 [1:06:31<14:40,  5.00s/it]"
     ]
    },
    {
     "name": "stdout",
     "output_type": "stream",
     "text": [
      "Success for img(32)_n.png:\n",
      "Testing 0 img(32)_n\n",
      "\n"
     ]
    },
    {
     "name": "stderr",
     "output_type": "stream",
     "text": [
      "Processing train inputs:  83%|██████████████████████████████████████████▉         | 831/1006 [1:06:37<15:19,  5.25s/it]"
     ]
    },
    {
     "name": "stdout",
     "output_type": "stream",
     "text": [
      "Success for img(32)_r.png:\n",
      "Testing 0 img(32)_r\n",
      "\n"
     ]
    },
    {
     "name": "stderr",
     "output_type": "stream",
     "text": [
      "Processing train inputs:  83%|███████████████████████████████████████████         | 833/1006 [1:06:43<12:18,  4.27s/it]"
     ]
    },
    {
     "name": "stdout",
     "output_type": "stream",
     "text": [
      "Success for img(33)_b.png:\n",
      "Testing 0 img(33)_b\n",
      "\n"
     ]
    },
    {
     "name": "stderr",
     "output_type": "stream",
     "text": [
      "Processing train inputs:  83%|███████████████████████████████████████████         | 834/1006 [1:06:49<13:21,  4.66s/it]"
     ]
    },
    {
     "name": "stdout",
     "output_type": "stream",
     "text": [
      "Success for img(33)_g.png:\n",
      "Testing 0 img(33)_g\n",
      "\n"
     ]
    },
    {
     "name": "stderr",
     "output_type": "stream",
     "text": [
      "Processing train inputs:  83%|███████████████████████████████████████████▏        | 835/1006 [1:06:55<14:12,  4.99s/it]"
     ]
    },
    {
     "name": "stdout",
     "output_type": "stream",
     "text": [
      "Success for img(33)_n.png:\n",
      "Testing 0 img(33)_n\n",
      "\n"
     ]
    },
    {
     "name": "stderr",
     "output_type": "stream",
     "text": [
      "Processing train inputs:  83%|███████████████████████████████████████████▏        | 836/1006 [1:07:01<14:55,  5.27s/it]"
     ]
    },
    {
     "name": "stdout",
     "output_type": "stream",
     "text": [
      "Success for img(33)_r.png:\n",
      "Testing 0 img(33)_r\n",
      "\n"
     ]
    },
    {
     "name": "stderr",
     "output_type": "stream",
     "text": [
      "Processing train inputs:  83%|███████████████████████████████████████████▎        | 838/1006 [1:07:07<12:01,  4.29s/it]"
     ]
    },
    {
     "name": "stdout",
     "output_type": "stream",
     "text": [
      "Success for img(34)_b.png:\n",
      "Testing 0 img(34)_b\n",
      "\n"
     ]
    },
    {
     "name": "stderr",
     "output_type": "stream",
     "text": [
      "Processing train inputs:  83%|███████████████████████████████████████████▎        | 839/1006 [1:07:13<13:00,  4.67s/it]"
     ]
    },
    {
     "name": "stdout",
     "output_type": "stream",
     "text": [
      "Success for img(34)_g.png:\n",
      "Testing 0 img(34)_g\n",
      "\n"
     ]
    },
    {
     "name": "stderr",
     "output_type": "stream",
     "text": [
      "Processing train inputs:  83%|███████████████████████████████████████████▍        | 840/1006 [1:07:19<13:48,  4.99s/it]"
     ]
    },
    {
     "name": "stdout",
     "output_type": "stream",
     "text": [
      "Success for img(34)_n.png:\n",
      "Testing 0 img(34)_n\n",
      "\n"
     ]
    },
    {
     "name": "stderr",
     "output_type": "stream",
     "text": [
      "Processing train inputs:  84%|███████████████████████████████████████████▍        | 841/1006 [1:07:24<14:24,  5.24s/it]"
     ]
    },
    {
     "name": "stdout",
     "output_type": "stream",
     "text": [
      "Success for img(34)_r.png:\n",
      "Testing 0 img(34)_r\n",
      "\n"
     ]
    },
    {
     "name": "stderr",
     "output_type": "stream",
     "text": [
      "Processing train inputs:  84%|███████████████████████████████████████████▌        | 843/1006 [1:07:30<11:36,  4.27s/it]"
     ]
    },
    {
     "name": "stdout",
     "output_type": "stream",
     "text": [
      "Success for img(35)_b.png:\n",
      "Testing 0 img(35)_b\n",
      "\n"
     ]
    },
    {
     "name": "stderr",
     "output_type": "stream",
     "text": [
      "Processing train inputs:  84%|███████████████████████████████████████████▋        | 844/1006 [1:07:36<12:35,  4.66s/it]"
     ]
    },
    {
     "name": "stdout",
     "output_type": "stream",
     "text": [
      "Success for img(35)_g.png:\n",
      "Testing 0 img(35)_g\n",
      "\n"
     ]
    },
    {
     "name": "stderr",
     "output_type": "stream",
     "text": [
      "Processing train inputs:  84%|███████████████████████████████████████████▋        | 845/1006 [1:07:42<13:22,  4.99s/it]"
     ]
    },
    {
     "name": "stdout",
     "output_type": "stream",
     "text": [
      "Success for img(35)_n.png:\n",
      "Testing 0 img(35)_n\n",
      "\n"
     ]
    },
    {
     "name": "stderr",
     "output_type": "stream",
     "text": [
      "Processing train inputs:  84%|███████████████████████████████████████████▋        | 846/1006 [1:07:48<14:02,  5.26s/it]"
     ]
    },
    {
     "name": "stdout",
     "output_type": "stream",
     "text": [
      "Success for img(35)_r.png:\n",
      "Testing 0 img(35)_r\n",
      "\n"
     ]
    },
    {
     "name": "stderr",
     "output_type": "stream",
     "text": [
      "Processing train inputs:  84%|███████████████████████████████████████████▊        | 848/1006 [1:07:54<11:16,  4.28s/it]"
     ]
    },
    {
     "name": "stdout",
     "output_type": "stream",
     "text": [
      "Success for img(36)_b.png:\n",
      "Testing 0 img(36)_b\n",
      "\n"
     ]
    },
    {
     "name": "stderr",
     "output_type": "stream",
     "text": [
      "Processing train inputs:  84%|███████████████████████████████████████████▉        | 849/1006 [1:08:00<12:12,  4.66s/it]"
     ]
    },
    {
     "name": "stdout",
     "output_type": "stream",
     "text": [
      "Success for img(36)_g.png:\n",
      "Testing 0 img(36)_g\n",
      "\n"
     ]
    },
    {
     "name": "stderr",
     "output_type": "stream",
     "text": [
      "Processing train inputs:  84%|███████████████████████████████████████████▉        | 850/1006 [1:08:06<12:57,  4.98s/it]"
     ]
    },
    {
     "name": "stdout",
     "output_type": "stream",
     "text": [
      "Success for img(36)_n.png:\n",
      "Testing 0 img(36)_n\n",
      "\n"
     ]
    },
    {
     "name": "stderr",
     "output_type": "stream",
     "text": [
      "Processing train inputs:  85%|███████████████████████████████████████████▉        | 851/1006 [1:08:12<13:32,  5.24s/it]"
     ]
    },
    {
     "name": "stdout",
     "output_type": "stream",
     "text": [
      "Success for img(36)_r.png:\n",
      "Testing 0 img(36)_r\n",
      "\n"
     ]
    },
    {
     "name": "stderr",
     "output_type": "stream",
     "text": [
      "Processing train inputs:  85%|████████████████████████████████████████████        | 853/1006 [1:08:18<10:52,  4.27s/it]"
     ]
    },
    {
     "name": "stdout",
     "output_type": "stream",
     "text": [
      "Success for img(37)_b.png:\n",
      "Testing 0 img(37)_b\n",
      "\n"
     ]
    },
    {
     "name": "stderr",
     "output_type": "stream",
     "text": [
      "Processing train inputs:  85%|████████████████████████████████████████████▏       | 854/1006 [1:08:24<11:48,  4.66s/it]"
     ]
    },
    {
     "name": "stdout",
     "output_type": "stream",
     "text": [
      "Success for img(37)_g.png:\n",
      "Testing 0 img(37)_g\n",
      "\n"
     ]
    },
    {
     "name": "stderr",
     "output_type": "stream",
     "text": [
      "Processing train inputs:  85%|████████████████████████████████████████████▏       | 855/1006 [1:08:30<12:32,  4.98s/it]"
     ]
    },
    {
     "name": "stdout",
     "output_type": "stream",
     "text": [
      "Success for img(37)_n.png:\n",
      "Testing 0 img(37)_n\n",
      "\n"
     ]
    },
    {
     "name": "stderr",
     "output_type": "stream",
     "text": [
      "Processing train inputs:  85%|████████████████████████████████████████████▏       | 856/1006 [1:08:36<13:04,  5.23s/it]"
     ]
    },
    {
     "name": "stdout",
     "output_type": "stream",
     "text": [
      "Success for img(37)_r.png:\n",
      "Testing 0 img(37)_r\n",
      "\n"
     ]
    },
    {
     "name": "stderr",
     "output_type": "stream",
     "text": [
      "Processing train inputs:  85%|████████████████████████████████████████████▎       | 858/1006 [1:08:42<10:32,  4.27s/it]"
     ]
    },
    {
     "name": "stdout",
     "output_type": "stream",
     "text": [
      "Success for img(38)_b.png:\n",
      "Testing 0 img(38)_b\n",
      "\n"
     ]
    },
    {
     "name": "stderr",
     "output_type": "stream",
     "text": [
      "Processing train inputs:  85%|████████████████████████████████████████████▍       | 859/1006 [1:08:48<11:24,  4.65s/it]"
     ]
    },
    {
     "name": "stdout",
     "output_type": "stream",
     "text": [
      "Success for img(38)_g.png:\n",
      "Testing 0 img(38)_g\n",
      "\n"
     ]
    },
    {
     "name": "stderr",
     "output_type": "stream",
     "text": [
      "Processing train inputs:  85%|████████████████████████████████████████████▍       | 860/1006 [1:08:54<12:07,  4.98s/it]"
     ]
    },
    {
     "name": "stdout",
     "output_type": "stream",
     "text": [
      "Success for img(38)_n.png:\n",
      "Testing 0 img(38)_n\n",
      "\n"
     ]
    },
    {
     "name": "stderr",
     "output_type": "stream",
     "text": [
      "Processing train inputs:  86%|████████████████████████████████████████████▌       | 861/1006 [1:09:00<12:38,  5.23s/it]"
     ]
    },
    {
     "name": "stdout",
     "output_type": "stream",
     "text": [
      "Success for img(38)_r.png:\n",
      "Testing 0 img(38)_r\n",
      "\n"
     ]
    },
    {
     "name": "stderr",
     "output_type": "stream",
     "text": [
      "Processing train inputs:  86%|████████████████████████████████████████████▌       | 863/1006 [1:09:06<10:08,  4.26s/it]"
     ]
    },
    {
     "name": "stdout",
     "output_type": "stream",
     "text": [
      "Success for img(39)_b.png:\n",
      "Testing 0 img(39)_b\n",
      "\n"
     ]
    },
    {
     "name": "stderr",
     "output_type": "stream",
     "text": [
      "Processing train inputs:  86%|████████████████████████████████████████████▋       | 864/1006 [1:09:12<11:01,  4.66s/it]"
     ]
    },
    {
     "name": "stdout",
     "output_type": "stream",
     "text": [
      "Success for img(39)_g.png:\n",
      "Testing 0 img(39)_g\n",
      "\n"
     ]
    },
    {
     "name": "stderr",
     "output_type": "stream",
     "text": [
      "Processing train inputs:  86%|████████████████████████████████████████████▋       | 865/1006 [1:09:18<11:42,  4.98s/it]"
     ]
    },
    {
     "name": "stdout",
     "output_type": "stream",
     "text": [
      "Success for img(39)_n.png:\n",
      "Testing 0 img(39)_n\n",
      "\n"
     ]
    },
    {
     "name": "stderr",
     "output_type": "stream",
     "text": [
      "Processing train inputs:  86%|████████████████████████████████████████████▊       | 866/1006 [1:09:23<12:12,  5.23s/it]"
     ]
    },
    {
     "name": "stdout",
     "output_type": "stream",
     "text": [
      "Success for img(39)_r.png:\n",
      "Testing 0 img(39)_r\n",
      "\n"
     ]
    },
    {
     "name": "stderr",
     "output_type": "stream",
     "text": [
      "Processing train inputs:  86%|████████████████████████████████████████████▊       | 868/1006 [1:09:29<09:47,  4.26s/it]"
     ]
    },
    {
     "name": "stdout",
     "output_type": "stream",
     "text": [
      "Success for img(40)_b.png:\n",
      "Testing 0 img(40)_b\n",
      "\n"
     ]
    },
    {
     "name": "stderr",
     "output_type": "stream",
     "text": [
      "Processing train inputs:  86%|████████████████████████████████████████████▉       | 869/1006 [1:09:35<10:36,  4.65s/it]"
     ]
    },
    {
     "name": "stdout",
     "output_type": "stream",
     "text": [
      "Success for img(40)_g.png:\n",
      "Testing 0 img(40)_g\n",
      "\n"
     ]
    },
    {
     "name": "stderr",
     "output_type": "stream",
     "text": [
      "Processing train inputs:  86%|████████████████████████████████████████████▉       | 870/1006 [1:09:41<11:16,  4.97s/it]"
     ]
    },
    {
     "name": "stdout",
     "output_type": "stream",
     "text": [
      "Success for img(40)_n.png:\n",
      "Testing 0 img(40)_n\n",
      "\n"
     ]
    },
    {
     "name": "stderr",
     "output_type": "stream",
     "text": [
      "Processing train inputs:  87%|█████████████████████████████████████████████       | 871/1006 [1:09:47<11:46,  5.24s/it]"
     ]
    },
    {
     "name": "stdout",
     "output_type": "stream",
     "text": [
      "Success for img(40)_r.png:\n",
      "Testing 0 img(40)_r\n",
      "\n"
     ]
    },
    {
     "name": "stderr",
     "output_type": "stream",
     "text": [
      "Processing train inputs:  87%|█████████████████████████████████████████████▏      | 873/1006 [1:09:53<09:27,  4.26s/it]"
     ]
    },
    {
     "name": "stdout",
     "output_type": "stream",
     "text": [
      "Success for img(41)_b.png:\n",
      "Testing 0 img(41)_b\n",
      "\n"
     ]
    },
    {
     "name": "stderr",
     "output_type": "stream",
     "text": [
      "Processing train inputs:  87%|█████████████████████████████████████████████▏      | 874/1006 [1:09:59<10:14,  4.66s/it]"
     ]
    },
    {
     "name": "stdout",
     "output_type": "stream",
     "text": [
      "Success for img(41)_g.png:\n",
      "Testing 0 img(41)_g\n",
      "\n"
     ]
    },
    {
     "name": "stderr",
     "output_type": "stream",
     "text": [
      "Processing train inputs:  87%|█████████████████████████████████████████████▏      | 875/1006 [1:10:05<10:52,  4.98s/it]"
     ]
    },
    {
     "name": "stdout",
     "output_type": "stream",
     "text": [
      "Success for img(41)_n.png:\n",
      "Testing 0 img(41)_n\n",
      "\n"
     ]
    },
    {
     "name": "stderr",
     "output_type": "stream",
     "text": [
      "Processing train inputs:  87%|█████████████████████████████████████████████▎      | 876/1006 [1:10:11<11:20,  5.24s/it]"
     ]
    },
    {
     "name": "stdout",
     "output_type": "stream",
     "text": [
      "Success for img(41)_r.png:\n",
      "Testing 0 img(41)_r\n",
      "\n"
     ]
    },
    {
     "name": "stderr",
     "output_type": "stream",
     "text": [
      "Processing train inputs:  87%|█████████████████████████████████████████████▍      | 878/1006 [1:10:17<09:06,  4.27s/it]"
     ]
    },
    {
     "name": "stdout",
     "output_type": "stream",
     "text": [
      "Success for img(42)_b.png:\n",
      "Testing 0 img(42)_b\n",
      "\n"
     ]
    },
    {
     "name": "stderr",
     "output_type": "stream",
     "text": [
      "Processing train inputs:  87%|█████████████████████████████████████████████▍      | 879/1006 [1:10:23<09:54,  4.68s/it]"
     ]
    },
    {
     "name": "stdout",
     "output_type": "stream",
     "text": [
      "Success for img(42)_g.png:\n",
      "Testing 0 img(42)_g\n",
      "\n"
     ]
    },
    {
     "name": "stderr",
     "output_type": "stream",
     "text": [
      "Processing train inputs:  87%|█████████████████████████████████████████████▍      | 880/1006 [1:10:29<10:28,  4.99s/it]"
     ]
    },
    {
     "name": "stdout",
     "output_type": "stream",
     "text": [
      "Success for img(42)_n.png:\n",
      "Testing 0 img(42)_n\n",
      "\n"
     ]
    },
    {
     "name": "stderr",
     "output_type": "stream",
     "text": [
      "Processing train inputs:  88%|█████████████████████████████████████████████▌      | 881/1006 [1:10:35<10:54,  5.24s/it]"
     ]
    },
    {
     "name": "stdout",
     "output_type": "stream",
     "text": [
      "Success for img(42)_r.png:\n",
      "Testing 0 img(42)_r\n",
      "\n"
     ]
    },
    {
     "name": "stderr",
     "output_type": "stream",
     "text": [
      "Processing train inputs:  88%|█████████████████████████████████████████████▋      | 883/1006 [1:10:41<08:43,  4.26s/it]"
     ]
    },
    {
     "name": "stdout",
     "output_type": "stream",
     "text": [
      "Success for img(43)_b.png:\n",
      "Testing 0 img(43)_b\n",
      "\n"
     ]
    },
    {
     "name": "stderr",
     "output_type": "stream",
     "text": [
      "Processing train inputs:  88%|█████████████████████████████████████████████▋      | 884/1006 [1:10:47<09:27,  4.65s/it]"
     ]
    },
    {
     "name": "stdout",
     "output_type": "stream",
     "text": [
      "Success for img(43)_g.png:\n",
      "Testing 0 img(43)_g\n",
      "\n"
     ]
    },
    {
     "name": "stderr",
     "output_type": "stream",
     "text": [
      "Processing train inputs:  88%|█████████████████████████████████████████████▋      | 885/1006 [1:10:53<10:01,  4.97s/it]"
     ]
    },
    {
     "name": "stdout",
     "output_type": "stream",
     "text": [
      "Success for img(43)_n.png:\n",
      "Testing 0 img(43)_n\n",
      "\n"
     ]
    },
    {
     "name": "stderr",
     "output_type": "stream",
     "text": [
      "Processing train inputs:  88%|█████████████████████████████████████████████▊      | 886/1006 [1:10:59<10:29,  5.24s/it]"
     ]
    },
    {
     "name": "stdout",
     "output_type": "stream",
     "text": [
      "Success for img(43)_r.png:\n",
      "Testing 0 img(43)_r\n",
      "\n"
     ]
    },
    {
     "name": "stderr",
     "output_type": "stream",
     "text": [
      "Processing train inputs:  88%|█████████████████████████████████████████████▉      | 888/1006 [1:11:05<08:24,  4.28s/it]"
     ]
    },
    {
     "name": "stdout",
     "output_type": "stream",
     "text": [
      "Success for img(44)_b.png:\n",
      "Testing 0 img(44)_b\n",
      "\n"
     ]
    },
    {
     "name": "stderr",
     "output_type": "stream",
     "text": [
      "Processing train inputs:  88%|█████████████████████████████████████████████▉      | 889/1006 [1:11:11<09:05,  4.66s/it]"
     ]
    },
    {
     "name": "stdout",
     "output_type": "stream",
     "text": [
      "Success for img(44)_g.png:\n",
      "Testing 0 img(44)_g\n",
      "\n"
     ]
    },
    {
     "name": "stderr",
     "output_type": "stream",
     "text": [
      "Processing train inputs:  88%|██████████████████████████████████████████████      | 890/1006 [1:11:16<09:37,  4.98s/it]"
     ]
    },
    {
     "name": "stdout",
     "output_type": "stream",
     "text": [
      "Success for img(44)_n.png:\n",
      "Testing 0 img(44)_n\n",
      "\n"
     ]
    },
    {
     "name": "stderr",
     "output_type": "stream",
     "text": [
      "Processing train inputs:  89%|██████████████████████████████████████████████      | 891/1006 [1:11:22<10:00,  5.22s/it]"
     ]
    },
    {
     "name": "stdout",
     "output_type": "stream",
     "text": [
      "Success for img(44)_r.png:\n",
      "Testing 0 img(44)_r\n",
      "\n"
     ]
    },
    {
     "name": "stderr",
     "output_type": "stream",
     "text": [
      "Processing train inputs:  89%|██████████████████████████████████████████████▏     | 893/1006 [1:11:28<08:00,  4.25s/it]"
     ]
    },
    {
     "name": "stdout",
     "output_type": "stream",
     "text": [
      "Success for img(45)_b.png:\n",
      "Testing 0 img(45)_b\n",
      "\n"
     ]
    },
    {
     "name": "stderr",
     "output_type": "stream",
     "text": [
      "Processing train inputs:  89%|██████████████████████████████████████████████▏     | 894/1006 [1:11:34<08:41,  4.65s/it]"
     ]
    },
    {
     "name": "stdout",
     "output_type": "stream",
     "text": [
      "Success for img(45)_g.png:\n",
      "Testing 0 img(45)_g\n",
      "\n"
     ]
    },
    {
     "name": "stderr",
     "output_type": "stream",
     "text": [
      "Processing train inputs:  89%|██████████████████████████████████████████████▎     | 895/1006 [1:11:40<09:11,  4.97s/it]"
     ]
    },
    {
     "name": "stdout",
     "output_type": "stream",
     "text": [
      "Success for img(45)_n.png:\n",
      "Testing 0 img(45)_n\n",
      "\n"
     ]
    },
    {
     "name": "stderr",
     "output_type": "stream",
     "text": [
      "Processing train inputs:  89%|██████████████████████████████████████████████▎     | 896/1006 [1:11:46<09:35,  5.23s/it]"
     ]
    },
    {
     "name": "stdout",
     "output_type": "stream",
     "text": [
      "Success for img(45)_r.png:\n",
      "Testing 0 img(45)_r\n",
      "\n"
     ]
    },
    {
     "name": "stderr",
     "output_type": "stream",
     "text": [
      "Processing train inputs:  89%|██████████████████████████████████████████████▍     | 898/1006 [1:11:52<07:39,  4.26s/it]"
     ]
    },
    {
     "name": "stdout",
     "output_type": "stream",
     "text": [
      "Success for img(46)_b.png:\n",
      "Testing 0 img(46)_b\n",
      "\n"
     ]
    },
    {
     "name": "stderr",
     "output_type": "stream",
     "text": [
      "Processing train inputs:  89%|██████████████████████████████████████████████▍     | 899/1006 [1:11:58<08:17,  4.65s/it]"
     ]
    },
    {
     "name": "stdout",
     "output_type": "stream",
     "text": [
      "Success for img(46)_g.png:\n",
      "Testing 0 img(46)_g\n",
      "\n"
     ]
    },
    {
     "name": "stderr",
     "output_type": "stream",
     "text": [
      "Processing train inputs:  89%|██████████████████████████████████████████████▌     | 900/1006 [1:12:04<08:46,  4.97s/it]"
     ]
    },
    {
     "name": "stdout",
     "output_type": "stream",
     "text": [
      "Success for img(46)_n.png:\n",
      "Testing 0 img(46)_n\n",
      "\n"
     ]
    },
    {
     "name": "stderr",
     "output_type": "stream",
     "text": [
      "Processing train inputs:  90%|██████████████████████████████████████████████▌     | 901/1006 [1:12:10<09:08,  5.22s/it]"
     ]
    },
    {
     "name": "stdout",
     "output_type": "stream",
     "text": [
      "Success for img(46)_r.png:\n",
      "Testing 0 img(46)_r\n",
      "\n"
     ]
    },
    {
     "name": "stderr",
     "output_type": "stream",
     "text": [
      "Processing train inputs:  90%|██████████████████████████████████████████████▋     | 903/1006 [1:12:16<07:17,  4.25s/it]"
     ]
    },
    {
     "name": "stdout",
     "output_type": "stream",
     "text": [
      "Success for img(47)_b.png:\n",
      "Testing 0 img(47)_b\n",
      "\n"
     ]
    },
    {
     "name": "stderr",
     "output_type": "stream",
     "text": [
      "Processing train inputs:  90%|██████████████████████████████████████████████▋     | 904/1006 [1:12:22<07:55,  4.66s/it]"
     ]
    },
    {
     "name": "stdout",
     "output_type": "stream",
     "text": [
      "Success for img(47)_g.png:\n",
      "Testing 0 img(47)_g\n",
      "\n"
     ]
    },
    {
     "name": "stderr",
     "output_type": "stream",
     "text": [
      "Processing train inputs:  90%|██████████████████████████████████████████████▊     | 905/1006 [1:12:28<08:23,  4.98s/it]"
     ]
    },
    {
     "name": "stdout",
     "output_type": "stream",
     "text": [
      "Success for img(47)_n.png:\n",
      "Testing 0 img(47)_n\n",
      "\n"
     ]
    },
    {
     "name": "stderr",
     "output_type": "stream",
     "text": [
      "Processing train inputs:  90%|██████████████████████████████████████████████▊     | 906/1006 [1:12:34<08:44,  5.25s/it]"
     ]
    },
    {
     "name": "stdout",
     "output_type": "stream",
     "text": [
      "Success for img(47)_r.png:\n",
      "Testing 0 img(47)_r\n",
      "\n"
     ]
    },
    {
     "name": "stderr",
     "output_type": "stream",
     "text": [
      "Processing train inputs:  90%|██████████████████████████████████████████████▉     | 908/1006 [1:12:40<06:58,  4.27s/it]"
     ]
    },
    {
     "name": "stdout",
     "output_type": "stream",
     "text": [
      "Success for img(48)_b.png:\n",
      "Testing 0 img(48)_b\n",
      "\n"
     ]
    },
    {
     "name": "stderr",
     "output_type": "stream",
     "text": [
      "Processing train inputs:  90%|██████████████████████████████████████████████▉     | 909/1006 [1:12:46<07:31,  4.66s/it]"
     ]
    },
    {
     "name": "stdout",
     "output_type": "stream",
     "text": [
      "Success for img(48)_g.png:\n",
      "Testing 0 img(48)_g\n",
      "\n"
     ]
    },
    {
     "name": "stderr",
     "output_type": "stream",
     "text": [
      "Processing train inputs:  90%|███████████████████████████████████████████████     | 910/1006 [1:12:52<08:03,  5.03s/it]"
     ]
    },
    {
     "name": "stdout",
     "output_type": "stream",
     "text": [
      "Success for img(48)_n.png:\n",
      "Testing 0 img(48)_n\n",
      "\n"
     ]
    },
    {
     "name": "stderr",
     "output_type": "stream",
     "text": [
      "Processing train inputs:  91%|███████████████████████████████████████████████     | 911/1006 [1:12:58<08:21,  5.28s/it]"
     ]
    },
    {
     "name": "stdout",
     "output_type": "stream",
     "text": [
      "Success for img(48)_r.png:\n",
      "Testing 0 img(48)_r\n",
      "\n"
     ]
    },
    {
     "name": "stderr",
     "output_type": "stream",
     "text": [
      "Processing train inputs:  91%|███████████████████████████████████████████████▏    | 913/1006 [1:13:04<06:38,  4.28s/it]"
     ]
    },
    {
     "name": "stdout",
     "output_type": "stream",
     "text": [
      "Success for img(49)_b.png:\n",
      "Testing 0 img(49)_b\n",
      "\n"
     ]
    },
    {
     "name": "stderr",
     "output_type": "stream",
     "text": [
      "Processing train inputs:  91%|███████████████████████████████████████████████▏    | 914/1006 [1:13:10<07:10,  4.68s/it]"
     ]
    },
    {
     "name": "stdout",
     "output_type": "stream",
     "text": [
      "Success for img(49)_g.png:\n",
      "Testing 0 img(49)_g\n",
      "\n"
     ]
    },
    {
     "name": "stderr",
     "output_type": "stream",
     "text": [
      "Processing train inputs:  91%|███████████████████████████████████████████████▎    | 915/1006 [1:13:15<07:34,  5.00s/it]"
     ]
    },
    {
     "name": "stdout",
     "output_type": "stream",
     "text": [
      "Success for img(49)_n.png:\n",
      "Testing 0 img(49)_n\n",
      "\n"
     ]
    },
    {
     "name": "stderr",
     "output_type": "stream",
     "text": [
      "Processing train inputs:  91%|███████████████████████████████████████████████▎    | 916/1006 [1:13:21<07:52,  5.25s/it]"
     ]
    },
    {
     "name": "stdout",
     "output_type": "stream",
     "text": [
      "Success for img(49)_r.png:\n",
      "Testing 0 img(49)_r\n",
      "\n"
     ]
    },
    {
     "name": "stderr",
     "output_type": "stream",
     "text": [
      "Processing train inputs:  91%|███████████████████████████████████████████████▍    | 918/1006 [1:13:27<06:15,  4.26s/it]"
     ]
    },
    {
     "name": "stdout",
     "output_type": "stream",
     "text": [
      "Success for img(50)_b.png:\n",
      "Testing 0 img(50)_b\n",
      "\n"
     ]
    },
    {
     "name": "stderr",
     "output_type": "stream",
     "text": [
      "Processing train inputs:  91%|███████████████████████████████████████████████▌    | 919/1006 [1:13:33<06:44,  4.65s/it]"
     ]
    },
    {
     "name": "stdout",
     "output_type": "stream",
     "text": [
      "Success for img(50)_g.png:\n",
      "Testing 0 img(50)_g\n",
      "\n"
     ]
    },
    {
     "name": "stderr",
     "output_type": "stream",
     "text": [
      "Processing train inputs:  91%|███████████████████████████████████████████████▌    | 920/1006 [1:13:39<07:07,  4.97s/it]"
     ]
    },
    {
     "name": "stdout",
     "output_type": "stream",
     "text": [
      "Success for img(50)_n.png:\n",
      "Testing 0 img(50)_n\n",
      "\n"
     ]
    },
    {
     "name": "stderr",
     "output_type": "stream",
     "text": [
      "Processing train inputs:  92%|███████████████████████████████████████████████▌    | 921/1006 [1:13:45<07:24,  5.23s/it]"
     ]
    },
    {
     "name": "stdout",
     "output_type": "stream",
     "text": [
      "Success for img(50)_r.png:\n",
      "Testing 0 img(50)_r\n",
      "\n"
     ]
    },
    {
     "name": "stderr",
     "output_type": "stream",
     "text": [
      "Processing train inputs:  92%|███████████████████████████████████████████████▋    | 923/1006 [1:13:51<05:53,  4.26s/it]"
     ]
    },
    {
     "name": "stdout",
     "output_type": "stream",
     "text": [
      "Success for img(51)_b.png:\n",
      "Testing 0 img(51)_b\n",
      "\n"
     ]
    },
    {
     "name": "stderr",
     "output_type": "stream",
     "text": [
      "Processing train inputs:  92%|███████████████████████████████████████████████▊    | 924/1006 [1:13:57<06:21,  4.66s/it]"
     ]
    },
    {
     "name": "stdout",
     "output_type": "stream",
     "text": [
      "Success for img(51)_g.png:\n",
      "Testing 0 img(51)_g\n",
      "\n"
     ]
    },
    {
     "name": "stderr",
     "output_type": "stream",
     "text": [
      "Processing train inputs:  92%|███████████████████████████████████████████████▊    | 925/1006 [1:14:03<06:41,  4.96s/it]"
     ]
    },
    {
     "name": "stdout",
     "output_type": "stream",
     "text": [
      "Success for img(51)_n.png:\n",
      "Testing 0 img(51)_n\n",
      "\n"
     ]
    },
    {
     "name": "stderr",
     "output_type": "stream",
     "text": [
      "Processing train inputs:  92%|███████████████████████████████████████████████▊    | 926/1006 [1:14:09<06:55,  5.20s/it]"
     ]
    },
    {
     "name": "stdout",
     "output_type": "stream",
     "text": [
      "Success for img(51)_r.png:\n",
      "Testing 0 img(51)_r\n",
      "\n"
     ]
    },
    {
     "name": "stderr",
     "output_type": "stream",
     "text": [
      "Processing train inputs:  92%|███████████████████████████████████████████████▉    | 928/1006 [1:14:15<05:30,  4.23s/it]"
     ]
    },
    {
     "name": "stdout",
     "output_type": "stream",
     "text": [
      "Success for img(52)_b.png:\n",
      "Testing 0 img(52)_b\n",
      "\n"
     ]
    },
    {
     "name": "stderr",
     "output_type": "stream",
     "text": [
      "Processing train inputs:  92%|████████████████████████████████████████████████    | 929/1006 [1:14:21<05:56,  4.63s/it]"
     ]
    },
    {
     "name": "stdout",
     "output_type": "stream",
     "text": [
      "Success for img(52)_g.png:\n",
      "Testing 0 img(52)_g\n",
      "\n"
     ]
    },
    {
     "name": "stderr",
     "output_type": "stream",
     "text": [
      "Processing train inputs:  92%|████████████████████████████████████████████████    | 930/1006 [1:14:27<06:17,  4.96s/it]"
     ]
    },
    {
     "name": "stdout",
     "output_type": "stream",
     "text": [
      "Success for img(52)_n.png:\n",
      "Testing 0 img(52)_n\n",
      "\n"
     ]
    },
    {
     "name": "stderr",
     "output_type": "stream",
     "text": [
      "Processing train inputs:  93%|████████████████████████████████████████████████    | 931/1006 [1:14:33<06:31,  5.23s/it]"
     ]
    },
    {
     "name": "stdout",
     "output_type": "stream",
     "text": [
      "Success for img(52)_r.png:\n",
      "Testing 0 img(52)_r\n",
      "\n"
     ]
    },
    {
     "name": "stderr",
     "output_type": "stream",
     "text": [
      "Processing train inputs:  93%|████████████████████████████████████████████████▏   | 933/1006 [1:14:39<05:11,  4.27s/it]"
     ]
    },
    {
     "name": "stdout",
     "output_type": "stream",
     "text": [
      "Success for img(53)_b.png:\n",
      "Testing 0 img(53)_b\n",
      "\n"
     ]
    },
    {
     "name": "stderr",
     "output_type": "stream",
     "text": [
      "Processing train inputs:  93%|████████████████████████████████████████████████▎   | 934/1006 [1:14:44<05:35,  4.66s/it]"
     ]
    },
    {
     "name": "stdout",
     "output_type": "stream",
     "text": [
      "Success for img(53)_g.png:\n",
      "Testing 0 img(53)_g\n",
      "\n"
     ]
    },
    {
     "name": "stderr",
     "output_type": "stream",
     "text": [
      "Processing train inputs:  93%|████████████████████████████████████████████████▎   | 935/1006 [1:14:50<05:53,  4.98s/it]"
     ]
    },
    {
     "name": "stdout",
     "output_type": "stream",
     "text": [
      "Success for img(53)_n.png:\n",
      "Testing 0 img(53)_n\n",
      "\n"
     ]
    },
    {
     "name": "stderr",
     "output_type": "stream",
     "text": [
      "Processing train inputs:  93%|████████████████████████████████████████████████▍   | 936/1006 [1:14:56<06:06,  5.23s/it]"
     ]
    },
    {
     "name": "stdout",
     "output_type": "stream",
     "text": [
      "Success for img(53)_r.png:\n",
      "Testing 0 img(53)_r\n",
      "\n"
     ]
    },
    {
     "name": "stderr",
     "output_type": "stream",
     "text": [
      "Processing train inputs:  93%|████████████████████████████████████████████████▍   | 938/1006 [1:15:02<04:49,  4.26s/it]"
     ]
    },
    {
     "name": "stdout",
     "output_type": "stream",
     "text": [
      "Success for img(54)_b.png:\n",
      "Testing 0 img(54)_b\n",
      "\n"
     ]
    },
    {
     "name": "stderr",
     "output_type": "stream",
     "text": [
      "Processing train inputs:  93%|████████████████████████████████████████████████▌   | 939/1006 [1:15:08<05:10,  4.64s/it]"
     ]
    },
    {
     "name": "stdout",
     "output_type": "stream",
     "text": [
      "Success for img(54)_g.png:\n",
      "Testing 0 img(54)_g\n",
      "\n"
     ]
    },
    {
     "name": "stderr",
     "output_type": "stream",
     "text": [
      "Processing train inputs:  93%|████████████████████████████████████████████████▌   | 940/1006 [1:15:14<05:27,  4.96s/it]"
     ]
    },
    {
     "name": "stdout",
     "output_type": "stream",
     "text": [
      "Success for img(54)_n.png:\n",
      "Testing 0 img(54)_n\n",
      "\n"
     ]
    },
    {
     "name": "stderr",
     "output_type": "stream",
     "text": [
      "Processing train inputs:  94%|████████████████████████████████████████████████▋   | 941/1006 [1:15:20<05:39,  5.23s/it]"
     ]
    },
    {
     "name": "stdout",
     "output_type": "stream",
     "text": [
      "Success for img(54)_r.png:\n",
      "Testing 0 img(54)_r\n",
      "\n"
     ]
    },
    {
     "name": "stderr",
     "output_type": "stream",
     "text": [
      "Processing train inputs:  94%|████████████████████████████████████████████████▋   | 943/1006 [1:15:26<04:26,  4.24s/it]"
     ]
    },
    {
     "name": "stdout",
     "output_type": "stream",
     "text": [
      "Success for img(55)_b.png:\n",
      "Testing 0 img(55)_b\n",
      "\n"
     ]
    },
    {
     "name": "stderr",
     "output_type": "stream",
     "text": [
      "Processing train inputs:  94%|████████████████████████████████████████████████▊   | 944/1006 [1:15:32<04:46,  4.62s/it]"
     ]
    },
    {
     "name": "stdout",
     "output_type": "stream",
     "text": [
      "Success for img(55)_g.png:\n",
      "Testing 0 img(55)_g\n",
      "\n"
     ]
    },
    {
     "name": "stderr",
     "output_type": "stream",
     "text": [
      "Processing train inputs:  94%|████████████████████████████████████████████████▊   | 945/1006 [1:15:38<05:02,  4.96s/it]"
     ]
    },
    {
     "name": "stdout",
     "output_type": "stream",
     "text": [
      "Success for img(55)_n.png:\n",
      "Testing 0 img(55)_n\n",
      "\n"
     ]
    },
    {
     "name": "stderr",
     "output_type": "stream",
     "text": [
      "Processing train inputs:  94%|████████████████████████████████████████████████▉   | 946/1006 [1:15:44<05:13,  5.23s/it]"
     ]
    },
    {
     "name": "stdout",
     "output_type": "stream",
     "text": [
      "Success for img(55)_r.png:\n",
      "Testing 0 img(55)_r\n",
      "\n"
     ]
    },
    {
     "name": "stderr",
     "output_type": "stream",
     "text": [
      "Processing train inputs:  94%|█████████████████████████████████████████████████   | 948/1006 [1:15:50<04:07,  4.27s/it]"
     ]
    },
    {
     "name": "stdout",
     "output_type": "stream",
     "text": [
      "Success for img(88)_b.png:\n",
      "Testing 0 img(88)_b\n",
      "\n"
     ]
    },
    {
     "name": "stderr",
     "output_type": "stream",
     "text": [
      "Processing train inputs:  94%|█████████████████████████████████████████████████   | 949/1006 [1:15:56<04:26,  4.67s/it]"
     ]
    },
    {
     "name": "stdout",
     "output_type": "stream",
     "text": [
      "Success for img(88)_g.png:\n",
      "Testing 0 img(88)_g\n",
      "\n"
     ]
    },
    {
     "name": "stderr",
     "output_type": "stream",
     "text": [
      "Processing train inputs:  94%|█████████████████████████████████████████████████   | 950/1006 [1:16:02<04:38,  4.98s/it]"
     ]
    },
    {
     "name": "stdout",
     "output_type": "stream",
     "text": [
      "Success for img(88)_n.png:\n",
      "Testing 0 img(88)_n\n",
      "\n"
     ]
    },
    {
     "name": "stderr",
     "output_type": "stream",
     "text": [
      "Processing train inputs:  95%|█████████████████████████████████████████████████▏  | 951/1006 [1:16:08<04:47,  5.23s/it]"
     ]
    },
    {
     "name": "stdout",
     "output_type": "stream",
     "text": [
      "Success for img(88)_r.png:\n",
      "Testing 0 img(88)_r\n",
      "\n"
     ]
    },
    {
     "name": "stderr",
     "output_type": "stream",
     "text": [
      "Processing train inputs:  95%|█████████████████████████████████████████████████▎  | 953/1006 [1:16:13<03:45,  4.26s/it]"
     ]
    },
    {
     "name": "stdout",
     "output_type": "stream",
     "text": [
      "Success for img(89)_b.png:\n",
      "Testing 0 img(89)_b\n",
      "\n"
     ]
    },
    {
     "name": "stderr",
     "output_type": "stream",
     "text": [
      "Processing train inputs:  95%|█████████████████████████████████████████████████▎  | 954/1006 [1:16:20<04:13,  4.87s/it]"
     ]
    },
    {
     "name": "stdout",
     "output_type": "stream",
     "text": [
      "Success for img(89)_g.png:\n",
      "Testing 0 img(89)_g\n",
      "\n"
     ]
    },
    {
     "name": "stderr",
     "output_type": "stream",
     "text": [
      "Processing train inputs:  95%|█████████████████████████████████████████████████▎  | 955/1006 [1:16:26<04:21,  5.14s/it]"
     ]
    },
    {
     "name": "stdout",
     "output_type": "stream",
     "text": [
      "Success for img(89)_n.png:\n",
      "Testing 0 img(89)_n\n",
      "\n"
     ]
    },
    {
     "name": "stderr",
     "output_type": "stream",
     "text": [
      "Processing train inputs:  95%|█████████████████████████████████████████████████▍  | 956/1006 [1:16:32<04:27,  5.35s/it]"
     ]
    },
    {
     "name": "stdout",
     "output_type": "stream",
     "text": [
      "Success for img(89)_r.png:\n",
      "Testing 0 img(89)_r\n",
      "\n"
     ]
    },
    {
     "name": "stderr",
     "output_type": "stream",
     "text": [
      "Processing train inputs:  95%|█████████████████████████████████████████████████▌  | 958/1006 [1:16:38<03:27,  4.32s/it]"
     ]
    },
    {
     "name": "stdout",
     "output_type": "stream",
     "text": [
      "Success for img(90)_b.png:\n",
      "Testing 0 img(90)_b\n",
      "\n"
     ]
    },
    {
     "name": "stderr",
     "output_type": "stream",
     "text": [
      "Processing train inputs:  95%|█████████████████████████████████████████████████▌  | 959/1006 [1:16:44<03:40,  4.70s/it]"
     ]
    },
    {
     "name": "stdout",
     "output_type": "stream",
     "text": [
      "Success for img(90)_g.png:\n",
      "Testing 0 img(90)_g\n",
      "\n"
     ]
    },
    {
     "name": "stderr",
     "output_type": "stream",
     "text": [
      "Processing train inputs:  95%|█████████████████████████████████████████████████▌  | 960/1006 [1:16:50<03:53,  5.08s/it]"
     ]
    },
    {
     "name": "stdout",
     "output_type": "stream",
     "text": [
      "Success for img(90)_n.png:\n",
      "Testing 0 img(90)_n\n",
      "\n"
     ]
    },
    {
     "name": "stderr",
     "output_type": "stream",
     "text": [
      "Processing train inputs:  96%|█████████████████████████████████████████████████▋  | 961/1006 [1:16:56<04:01,  5.38s/it]"
     ]
    },
    {
     "name": "stdout",
     "output_type": "stream",
     "text": [
      "Success for img(90)_r.png:\n",
      "Testing 0 img(90)_r\n",
      "\n"
     ]
    },
    {
     "name": "stderr",
     "output_type": "stream",
     "text": [
      "Processing train inputs:  96%|█████████████████████████████████████████████████▊  | 963/1006 [1:17:03<03:09,  4.40s/it]"
     ]
    },
    {
     "name": "stdout",
     "output_type": "stream",
     "text": [
      "Success for img(91)_b.png:\n",
      "Testing 0 img(91)_b\n",
      "\n"
     ]
    },
    {
     "name": "stderr",
     "output_type": "stream",
     "text": [
      "Processing train inputs:  96%|█████████████████████████████████████████████████▊  | 964/1006 [1:17:09<03:24,  4.86s/it]"
     ]
    },
    {
     "name": "stdout",
     "output_type": "stream",
     "text": [
      "Success for img(91)_g.png:\n",
      "Testing 0 img(91)_g\n",
      "\n"
     ]
    },
    {
     "name": "stderr",
     "output_type": "stream",
     "text": [
      "Processing train inputs:  96%|█████████████████████████████████████████████████▉  | 965/1006 [1:17:15<03:31,  5.17s/it]"
     ]
    },
    {
     "name": "stdout",
     "output_type": "stream",
     "text": [
      "Success for img(91)_n.png:\n",
      "Testing 0 img(91)_n\n",
      "\n"
     ]
    },
    {
     "name": "stderr",
     "output_type": "stream",
     "text": [
      "Processing train inputs:  96%|█████████████████████████████████████████████████▉  | 966/1006 [1:17:21<03:34,  5.36s/it]"
     ]
    },
    {
     "name": "stdout",
     "output_type": "stream",
     "text": [
      "Success for img(91)_r.png:\n",
      "Testing 0 img(91)_r\n",
      "\n"
     ]
    },
    {
     "name": "stderr",
     "output_type": "stream",
     "text": [
      "Processing train inputs:  96%|██████████████████████████████████████████████████  | 968/1006 [1:17:27<02:44,  4.33s/it]"
     ]
    },
    {
     "name": "stdout",
     "output_type": "stream",
     "text": [
      "Success for img(92)_b.png:\n",
      "Testing 0 img(92)_b\n",
      "\n"
     ]
    },
    {
     "name": "stderr",
     "output_type": "stream",
     "text": [
      "Processing train inputs:  96%|██████████████████████████████████████████████████  | 969/1006 [1:17:33<02:53,  4.69s/it]"
     ]
    },
    {
     "name": "stdout",
     "output_type": "stream",
     "text": [
      "Success for img(92)_g.png:\n",
      "Testing 0 img(92)_g\n",
      "\n"
     ]
    },
    {
     "name": "stderr",
     "output_type": "stream",
     "text": [
      "Processing train inputs:  96%|██████████████████████████████████████████████████▏ | 970/1006 [1:17:39<02:59,  4.99s/it]"
     ]
    },
    {
     "name": "stdout",
     "output_type": "stream",
     "text": [
      "Success for img(92)_n.png:\n",
      "Testing 0 img(92)_n\n",
      "\n"
     ]
    },
    {
     "name": "stderr",
     "output_type": "stream",
     "text": [
      "Processing train inputs:  97%|██████████████████████████████████████████████████▏ | 971/1006 [1:17:45<03:03,  5.24s/it]"
     ]
    },
    {
     "name": "stdout",
     "output_type": "stream",
     "text": [
      "Success for img(92)_r.png:\n",
      "Testing 0 img(92)_r\n",
      "\n"
     ]
    },
    {
     "name": "stderr",
     "output_type": "stream",
     "text": [
      "Processing train inputs:  97%|██████████████████████████████████████████████████▎ | 973/1006 [1:17:51<02:20,  4.27s/it]"
     ]
    },
    {
     "name": "stdout",
     "output_type": "stream",
     "text": [
      "Success for img(93)_b.png:\n",
      "Testing 0 img(93)_b\n",
      "\n"
     ]
    },
    {
     "name": "stderr",
     "output_type": "stream",
     "text": [
      "Processing train inputs:  97%|██████████████████████████████████████████████████▎ | 974/1006 [1:17:56<02:28,  4.66s/it]"
     ]
    },
    {
     "name": "stdout",
     "output_type": "stream",
     "text": [
      "Success for img(93)_g.png:\n",
      "Testing 0 img(93)_g\n",
      "\n"
     ]
    },
    {
     "name": "stderr",
     "output_type": "stream",
     "text": [
      "Processing train inputs:  97%|██████████████████████████████████████████████████▍ | 975/1006 [1:18:02<02:34,  4.98s/it]"
     ]
    },
    {
     "name": "stdout",
     "output_type": "stream",
     "text": [
      "Success for img(93)_n.png:\n",
      "Testing 0 img(93)_n\n",
      "\n"
     ]
    },
    {
     "name": "stderr",
     "output_type": "stream",
     "text": [
      "Processing train inputs:  97%|██████████████████████████████████████████████████▍ | 976/1006 [1:18:08<02:36,  5.23s/it]"
     ]
    },
    {
     "name": "stdout",
     "output_type": "stream",
     "text": [
      "Success for img(93)_r.png:\n",
      "Testing 0 img(93)_r\n",
      "\n"
     ]
    },
    {
     "name": "stderr",
     "output_type": "stream",
     "text": [
      "Processing train inputs:  97%|██████████████████████████████████████████████████▌ | 978/1006 [1:18:14<01:59,  4.25s/it]"
     ]
    },
    {
     "name": "stdout",
     "output_type": "stream",
     "text": [
      "Success for img(94)_b.png:\n",
      "Testing 0 img(94)_b\n",
      "\n"
     ]
    },
    {
     "name": "stderr",
     "output_type": "stream",
     "text": [
      "Processing train inputs:  97%|██████████████████████████████████████████████████▌ | 979/1006 [1:18:20<02:05,  4.65s/it]"
     ]
    },
    {
     "name": "stdout",
     "output_type": "stream",
     "text": [
      "Success for img(94)_g.png:\n",
      "Testing 0 img(94)_g\n",
      "\n"
     ]
    },
    {
     "name": "stderr",
     "output_type": "stream",
     "text": [
      "Processing train inputs:  97%|██████████████████████████████████████████████████▋ | 980/1006 [1:18:26<02:09,  4.98s/it]"
     ]
    },
    {
     "name": "stdout",
     "output_type": "stream",
     "text": [
      "Success for img(94)_n.png:\n",
      "Testing 0 img(94)_n\n",
      "\n"
     ]
    },
    {
     "name": "stderr",
     "output_type": "stream",
     "text": [
      "Processing train inputs:  98%|██████████████████████████████████████████████████▋ | 981/1006 [1:18:32<02:10,  5.22s/it]"
     ]
    },
    {
     "name": "stdout",
     "output_type": "stream",
     "text": [
      "Success for img(94)_r.png:\n",
      "Testing 0 img(94)_r\n",
      "\n"
     ]
    },
    {
     "name": "stderr",
     "output_type": "stream",
     "text": [
      "Processing train inputs:  98%|██████████████████████████████████████████████████▊ | 983/1006 [1:18:38<01:37,  4.26s/it]"
     ]
    },
    {
     "name": "stdout",
     "output_type": "stream",
     "text": [
      "Success for img(95)_b.png:\n",
      "Testing 0 img(95)_b\n",
      "\n"
     ]
    },
    {
     "name": "stderr",
     "output_type": "stream",
     "text": [
      "Processing train inputs:  98%|██████████████████████████████████████████████████▊ | 984/1006 [1:18:44<01:42,  4.64s/it]"
     ]
    },
    {
     "name": "stdout",
     "output_type": "stream",
     "text": [
      "Success for img(95)_g.png:\n",
      "Testing 0 img(95)_g\n",
      "\n"
     ]
    },
    {
     "name": "stderr",
     "output_type": "stream",
     "text": [
      "Processing train inputs:  98%|██████████████████████████████████████████████████▉ | 985/1006 [1:18:50<01:44,  4.95s/it]"
     ]
    },
    {
     "name": "stdout",
     "output_type": "stream",
     "text": [
      "Success for img(95)_n.png:\n",
      "Testing 0 img(95)_n\n",
      "\n"
     ]
    },
    {
     "name": "stderr",
     "output_type": "stream",
     "text": [
      "Processing train inputs:  98%|██████████████████████████████████████████████████▉ | 986/1006 [1:18:56<01:44,  5.22s/it]"
     ]
    },
    {
     "name": "stdout",
     "output_type": "stream",
     "text": [
      "Success for img(95)_r.png:\n",
      "Testing 0 img(95)_r\n",
      "\n"
     ]
    },
    {
     "name": "stderr",
     "output_type": "stream",
     "text": [
      "Processing train inputs:  98%|███████████████████████████████████████████████████ | 988/1006 [1:19:02<01:16,  4.26s/it]"
     ]
    },
    {
     "name": "stdout",
     "output_type": "stream",
     "text": [
      "Success for img(96)_b.png:\n",
      "Testing 0 img(96)_b\n",
      "\n"
     ]
    },
    {
     "name": "stderr",
     "output_type": "stream",
     "text": [
      "Processing train inputs:  98%|███████████████████████████████████████████████████ | 989/1006 [1:19:08<01:19,  4.67s/it]"
     ]
    },
    {
     "name": "stdout",
     "output_type": "stream",
     "text": [
      "Success for img(96)_g.png:\n",
      "Testing 0 img(96)_g\n",
      "\n"
     ]
    },
    {
     "name": "stderr",
     "output_type": "stream",
     "text": [
      "Processing train inputs:  98%|███████████████████████████████████████████████████▏| 990/1006 [1:19:14<01:19,  4.99s/it]"
     ]
    },
    {
     "name": "stdout",
     "output_type": "stream",
     "text": [
      "Success for img(96)_n.png:\n",
      "Testing 0 img(96)_n\n",
      "\n"
     ]
    },
    {
     "name": "stderr",
     "output_type": "stream",
     "text": [
      "Processing train inputs:  99%|███████████████████████████████████████████████████▏| 991/1006 [1:19:20<01:18,  5.24s/it]"
     ]
    },
    {
     "name": "stdout",
     "output_type": "stream",
     "text": [
      "Success for img(96)_r.png:\n",
      "Testing 0 img(96)_r\n",
      "\n"
     ]
    },
    {
     "name": "stderr",
     "output_type": "stream",
     "text": [
      "Processing train inputs:  99%|███████████████████████████████████████████████████▎| 993/1006 [1:19:26<00:55,  4.27s/it]"
     ]
    },
    {
     "name": "stdout",
     "output_type": "stream",
     "text": [
      "Success for img(97)_b.png:\n",
      "Testing 0 img(97)_b\n",
      "\n"
     ]
    },
    {
     "name": "stderr",
     "output_type": "stream",
     "text": [
      "Processing train inputs:  99%|███████████████████████████████████████████████████▍| 994/1006 [1:19:31<00:55,  4.65s/it]"
     ]
    },
    {
     "name": "stdout",
     "output_type": "stream",
     "text": [
      "Success for img(97)_g.png:\n",
      "Testing 0 img(97)_g\n",
      "\n"
     ]
    },
    {
     "name": "stderr",
     "output_type": "stream",
     "text": [
      "Processing train inputs:  99%|███████████████████████████████████████████████████▍| 995/1006 [1:19:37<00:54,  4.98s/it]"
     ]
    },
    {
     "name": "stdout",
     "output_type": "stream",
     "text": [
      "Success for img(97)_n.png:\n",
      "Testing 0 img(97)_n\n",
      "\n"
     ]
    },
    {
     "name": "stderr",
     "output_type": "stream",
     "text": [
      "Processing train inputs:  99%|███████████████████████████████████████████████████▍| 996/1006 [1:19:43<00:52,  5.24s/it]"
     ]
    },
    {
     "name": "stdout",
     "output_type": "stream",
     "text": [
      "Success for img(97)_r.png:\n",
      "Testing 0 img(97)_r\n",
      "\n"
     ]
    },
    {
     "name": "stderr",
     "output_type": "stream",
     "text": [
      "Processing train inputs:  99%|███████████████████████████████████████████████████▌| 998/1006 [1:19:49<00:34,  4.26s/it]"
     ]
    },
    {
     "name": "stdout",
     "output_type": "stream",
     "text": [
      "Success for img(98)_b.png:\n",
      "Testing 0 img(98)_b\n",
      "\n"
     ]
    },
    {
     "name": "stderr",
     "output_type": "stream",
     "text": [
      "Processing train inputs:  99%|███████████████████████████████████████████████████▋| 999/1006 [1:19:55<00:32,  4.65s/it]"
     ]
    },
    {
     "name": "stdout",
     "output_type": "stream",
     "text": [
      "Success for img(98)_g.png:\n",
      "Testing 0 img(98)_g\n",
      "\n"
     ]
    },
    {
     "name": "stderr",
     "output_type": "stream",
     "text": [
      "Processing train inputs:  99%|██████████████████████████████████████████████████▋| 1000/1006 [1:20:01<00:29,  4.98s/it]"
     ]
    },
    {
     "name": "stdout",
     "output_type": "stream",
     "text": [
      "Success for img(98)_n.png:\n",
      "Testing 0 img(98)_n\n",
      "\n"
     ]
    },
    {
     "name": "stderr",
     "output_type": "stream",
     "text": [
      "Processing train inputs: 100%|██████████████████████████████████████████████████▋| 1001/1006 [1:20:07<00:26,  5.23s/it]"
     ]
    },
    {
     "name": "stdout",
     "output_type": "stream",
     "text": [
      "Success for img(98)_r.png:\n",
      "Testing 0 img(98)_r\n",
      "\n"
     ]
    },
    {
     "name": "stderr",
     "output_type": "stream",
     "text": [
      "Processing train inputs: 100%|██████████████████████████████████████████████████▊| 1003/1006 [1:20:13<00:12,  4.26s/it]"
     ]
    },
    {
     "name": "stdout",
     "output_type": "stream",
     "text": [
      "Success for img(99)_b.png:\n",
      "Testing 0 img(99)_b\n",
      "\n"
     ]
    },
    {
     "name": "stderr",
     "output_type": "stream",
     "text": [
      "Processing train inputs: 100%|██████████████████████████████████████████████████▉| 1004/1006 [1:20:19<00:09,  4.65s/it]"
     ]
    },
    {
     "name": "stdout",
     "output_type": "stream",
     "text": [
      "Success for img(99)_g.png:\n",
      "Testing 0 img(99)_g\n",
      "\n"
     ]
    },
    {
     "name": "stderr",
     "output_type": "stream",
     "text": [
      "Processing train inputs: 100%|██████████████████████████████████████████████████▉| 1005/1006 [1:20:25<00:04,  4.97s/it]"
     ]
    },
    {
     "name": "stdout",
     "output_type": "stream",
     "text": [
      "Success for img(99)_n.png:\n",
      "Testing 0 img(99)_n\n",
      "\n"
     ]
    },
    {
     "name": "stderr",
     "output_type": "stream",
     "text": [
      "Processing train inputs: 100%|███████████████████████████████████████████████████| 1006/1006 [1:20:31<00:00,  4.80s/it]\n"
     ]
    },
    {
     "name": "stdout",
     "output_type": "stream",
     "text": [
      "Success for img(99)_r.png:\n",
      "Testing 0 img(99)_r\n",
      "\n"
     ]
    },
    {
     "name": "stderr",
     "output_type": "stream",
     "text": [
      "Processing val inputs:   1%|▋                                                          | 2/175 [00:05<08:34,  2.97s/it]"
     ]
    },
    {
     "name": "stdout",
     "output_type": "stream",
     "text": [
      "Success for img(1)_b.png:\n",
      "Testing 0 img(1)_b\n",
      "\n"
     ]
    },
    {
     "name": "stderr",
     "output_type": "stream",
     "text": [
      "Processing val inputs:   2%|█                                                          | 3/175 [00:11<12:00,  4.19s/it]"
     ]
    },
    {
     "name": "stdout",
     "output_type": "stream",
     "text": [
      "Success for img(1)_g.png:\n",
      "Testing 0 img(1)_g\n",
      "\n"
     ]
    },
    {
     "name": "stderr",
     "output_type": "stream",
     "text": [
      "Processing val inputs:   2%|█▎                                                         | 4/175 [00:17<13:43,  4.82s/it]"
     ]
    },
    {
     "name": "stdout",
     "output_type": "stream",
     "text": [
      "Success for img(1)_n.png:\n",
      "Testing 0 img(1)_n\n",
      "\n"
     ]
    },
    {
     "name": "stderr",
     "output_type": "stream",
     "text": [
      "Processing val inputs:   3%|█▋                                                         | 5/175 [00:23<14:42,  5.19s/it]"
     ]
    },
    {
     "name": "stdout",
     "output_type": "stream",
     "text": [
      "Success for img(1)_r.png:\n",
      "Testing 0 img(1)_r\n",
      "\n"
     ]
    },
    {
     "name": "stderr",
     "output_type": "stream",
     "text": [
      "Processing val inputs:   4%|██▎                                                        | 7/175 [00:29<11:27,  4.09s/it]"
     ]
    },
    {
     "name": "stdout",
     "output_type": "stream",
     "text": [
      "Success for img(10)_b.png:\n",
      "Testing 0 img(10)_b\n",
      "\n"
     ]
    },
    {
     "name": "stderr",
     "output_type": "stream",
     "text": [
      "Processing val inputs:   5%|██▋                                                        | 8/175 [00:35<12:42,  4.57s/it]"
     ]
    },
    {
     "name": "stdout",
     "output_type": "stream",
     "text": [
      "Success for img(10)_g.png:\n",
      "Testing 0 img(10)_g\n",
      "\n"
     ]
    },
    {
     "name": "stderr",
     "output_type": "stream",
     "text": [
      "Processing val inputs:   5%|███                                                        | 9/175 [00:41<13:36,  4.92s/it]"
     ]
    },
    {
     "name": "stdout",
     "output_type": "stream",
     "text": [
      "Success for img(10)_n.png:\n",
      "Testing 0 img(10)_n\n",
      "\n"
     ]
    },
    {
     "name": "stderr",
     "output_type": "stream",
     "text": [
      "Processing val inputs:   6%|███▎                                                      | 10/175 [00:47<14:16,  5.19s/it]"
     ]
    },
    {
     "name": "stdout",
     "output_type": "stream",
     "text": [
      "Success for img(10)_r.png:\n",
      "Testing 0 img(10)_r\n",
      "\n"
     ]
    },
    {
     "name": "stderr",
     "output_type": "stream",
     "text": [
      "Processing val inputs:   7%|███▉                                                      | 12/175 [00:53<11:23,  4.19s/it]"
     ]
    },
    {
     "name": "stdout",
     "output_type": "stream",
     "text": [
      "Success for img(1001)_b.png:\n",
      "Testing 0 img(1001)_b\n",
      "\n"
     ]
    },
    {
     "name": "stderr",
     "output_type": "stream",
     "text": [
      "Processing val inputs:   7%|████▎                                                     | 13/175 [00:59<12:26,  4.61s/it]"
     ]
    },
    {
     "name": "stdout",
     "output_type": "stream",
     "text": [
      "Success for img(1001)_g.png:\n",
      "Testing 0 img(1001)_g\n",
      "\n"
     ]
    },
    {
     "name": "stderr",
     "output_type": "stream",
     "text": [
      "Processing val inputs:   8%|████▋                                                     | 14/175 [01:04<13:13,  4.93s/it]"
     ]
    },
    {
     "name": "stdout",
     "output_type": "stream",
     "text": [
      "Success for img(1001)_n.png:\n",
      "Testing 0 img(1001)_n\n",
      "\n"
     ]
    },
    {
     "name": "stderr",
     "output_type": "stream",
     "text": [
      "Processing val inputs:   9%|████▉                                                     | 15/175 [01:10<13:46,  5.17s/it]"
     ]
    },
    {
     "name": "stdout",
     "output_type": "stream",
     "text": [
      "Success for img(1001)_r.png:\n",
      "Testing 0 img(1001)_r\n",
      "\n"
     ]
    },
    {
     "name": "stderr",
     "output_type": "stream",
     "text": [
      "Processing val inputs:  10%|█████▋                                                    | 17/175 [01:16<11:04,  4.20s/it]"
     ]
    },
    {
     "name": "stdout",
     "output_type": "stream",
     "text": [
      "Success for img(1002)_b.png:\n",
      "Testing 0 img(1002)_b\n",
      "\n"
     ]
    },
    {
     "name": "stderr",
     "output_type": "stream",
     "text": [
      "Processing val inputs:  10%|█████▉                                                    | 18/175 [01:22<12:02,  4.60s/it]"
     ]
    },
    {
     "name": "stdout",
     "output_type": "stream",
     "text": [
      "Success for img(1002)_g.png:\n",
      "Testing 0 img(1002)_g\n",
      "\n"
     ]
    },
    {
     "name": "stderr",
     "output_type": "stream",
     "text": [
      "Processing val inputs:  11%|██████▎                                                   | 19/175 [01:28<13:03,  5.02s/it]"
     ]
    },
    {
     "name": "stdout",
     "output_type": "stream",
     "text": [
      "Success for img(1002)_n.png:\n",
      "Testing 0 img(1002)_n\n",
      "\n"
     ]
    },
    {
     "name": "stderr",
     "output_type": "stream",
     "text": [
      "Processing val inputs:  11%|██████▋                                                   | 20/175 [01:34<13:34,  5.25s/it]"
     ]
    },
    {
     "name": "stdout",
     "output_type": "stream",
     "text": [
      "Success for img(1002)_r.png:\n",
      "Testing 0 img(1002)_r\n",
      "\n"
     ]
    },
    {
     "name": "stderr",
     "output_type": "stream",
     "text": [
      "Processing val inputs:  13%|███████▎                                                  | 22/175 [01:40<10:50,  4.25s/it]"
     ]
    },
    {
     "name": "stdout",
     "output_type": "stream",
     "text": [
      "Success for img(1003)_b.png:\n",
      "Testing 0 img(1003)_b\n",
      "\n"
     ]
    },
    {
     "name": "stderr",
     "output_type": "stream",
     "text": [
      "Processing val inputs:  13%|███████▌                                                  | 23/175 [01:46<11:44,  4.63s/it]"
     ]
    },
    {
     "name": "stdout",
     "output_type": "stream",
     "text": [
      "Success for img(1003)_g.png:\n",
      "Testing 0 img(1003)_g\n",
      "\n"
     ]
    },
    {
     "name": "stderr",
     "output_type": "stream",
     "text": [
      "Processing val inputs:  14%|███████▉                                                  | 24/175 [01:52<12:27,  4.95s/it]"
     ]
    },
    {
     "name": "stdout",
     "output_type": "stream",
     "text": [
      "Success for img(1003)_n.png:\n",
      "Testing 0 img(1003)_n\n",
      "\n"
     ]
    },
    {
     "name": "stderr",
     "output_type": "stream",
     "text": [
      "Processing val inputs:  14%|████████▎                                                 | 25/175 [01:58<12:58,  5.19s/it]"
     ]
    },
    {
     "name": "stdout",
     "output_type": "stream",
     "text": [
      "Success for img(1003)_r.png:\n",
      "Testing 0 img(1003)_r\n",
      "\n"
     ]
    },
    {
     "name": "stderr",
     "output_type": "stream",
     "text": [
      "Processing val inputs:  15%|████████▉                                                 | 27/175 [02:04<10:24,  4.22s/it]"
     ]
    },
    {
     "name": "stdout",
     "output_type": "stream",
     "text": [
      "Success for img(1004)_b.png:\n",
      "Testing 0 img(1004)_b\n",
      "\n"
     ]
    },
    {
     "name": "stderr",
     "output_type": "stream",
     "text": [
      "Processing val inputs:  16%|█████████▎                                                | 28/175 [02:09<11:16,  4.60s/it]"
     ]
    },
    {
     "name": "stdout",
     "output_type": "stream",
     "text": [
      "Success for img(1004)_g.png:\n",
      "Testing 0 img(1004)_g\n",
      "\n"
     ]
    },
    {
     "name": "stderr",
     "output_type": "stream",
     "text": [
      "Processing val inputs:  17%|█████████▌                                                | 29/175 [02:15<11:59,  4.93s/it]"
     ]
    },
    {
     "name": "stdout",
     "output_type": "stream",
     "text": [
      "Success for img(1004)_n.png:\n",
      "Testing 0 img(1004)_n\n",
      "\n"
     ]
    },
    {
     "name": "stderr",
     "output_type": "stream",
     "text": [
      "Processing val inputs:  17%|█████████▉                                                | 30/175 [02:21<12:30,  5.17s/it]"
     ]
    },
    {
     "name": "stdout",
     "output_type": "stream",
     "text": [
      "Success for img(1004)_r.png:\n",
      "Testing 0 img(1004)_r\n",
      "\n"
     ]
    },
    {
     "name": "stderr",
     "output_type": "stream",
     "text": [
      "Processing val inputs:  18%|██████████▌                                               | 32/175 [02:27<10:02,  4.21s/it]"
     ]
    },
    {
     "name": "stdout",
     "output_type": "stream",
     "text": [
      "Success for img(1005)_b.png:\n",
      "Testing 0 img(1005)_b\n",
      "\n"
     ]
    },
    {
     "name": "stderr",
     "output_type": "stream",
     "text": [
      "Processing val inputs:  19%|██████████▉                                               | 33/175 [02:33<10:51,  4.59s/it]"
     ]
    },
    {
     "name": "stdout",
     "output_type": "stream",
     "text": [
      "Success for img(1005)_g.png:\n",
      "Testing 0 img(1005)_g\n",
      "\n"
     ]
    },
    {
     "name": "stderr",
     "output_type": "stream",
     "text": [
      "Processing val inputs:  19%|███████████▎                                              | 34/175 [02:39<11:33,  4.92s/it]"
     ]
    },
    {
     "name": "stdout",
     "output_type": "stream",
     "text": [
      "Success for img(1005)_n.png:\n",
      "Testing 0 img(1005)_n\n",
      "\n"
     ]
    },
    {
     "name": "stderr",
     "output_type": "stream",
     "text": [
      "Processing val inputs:  20%|███████████▌                                              | 35/175 [02:45<12:05,  5.18s/it]"
     ]
    },
    {
     "name": "stdout",
     "output_type": "stream",
     "text": [
      "Success for img(1005)_r.png:\n",
      "Testing 0 img(1005)_r\n",
      "\n"
     ]
    },
    {
     "name": "stderr",
     "output_type": "stream",
     "text": [
      "Processing val inputs:  21%|████████████▎                                             | 37/175 [02:51<09:42,  4.22s/it]"
     ]
    },
    {
     "name": "stdout",
     "output_type": "stream",
     "text": [
      "Success for img(1006)_b.png:\n",
      "Testing 0 img(1006)_b\n",
      "\n"
     ]
    },
    {
     "name": "stderr",
     "output_type": "stream",
     "text": [
      "Processing val inputs:  22%|████████████▌                                             | 38/175 [02:56<10:31,  4.61s/it]"
     ]
    },
    {
     "name": "stdout",
     "output_type": "stream",
     "text": [
      "Success for img(1006)_g.png:\n",
      "Testing 0 img(1006)_g\n",
      "\n"
     ]
    },
    {
     "name": "stderr",
     "output_type": "stream",
     "text": [
      "Processing val inputs:  22%|████████████▉                                             | 39/175 [03:02<11:08,  4.92s/it]"
     ]
    },
    {
     "name": "stdout",
     "output_type": "stream",
     "text": [
      "Success for img(1006)_n.png:\n",
      "Testing 0 img(1006)_n\n",
      "\n"
     ]
    },
    {
     "name": "stderr",
     "output_type": "stream",
     "text": [
      "Processing val inputs:  23%|█████████████▎                                            | 40/175 [03:08<11:37,  5.17s/it]"
     ]
    },
    {
     "name": "stdout",
     "output_type": "stream",
     "text": [
      "Success for img(1006)_r.png:\n",
      "Testing 0 img(1006)_r\n",
      "\n"
     ]
    },
    {
     "name": "stderr",
     "output_type": "stream",
     "text": [
      "Processing val inputs:  24%|█████████████▉                                            | 42/175 [03:14<09:18,  4.20s/it]"
     ]
    },
    {
     "name": "stdout",
     "output_type": "stream",
     "text": [
      "Success for img(1007)_b.png:\n",
      "Testing 0 img(1007)_b\n",
      "\n"
     ]
    },
    {
     "name": "stderr",
     "output_type": "stream",
     "text": [
      "Processing val inputs:  25%|██████████████▎                                           | 43/175 [03:20<10:06,  4.59s/it]"
     ]
    },
    {
     "name": "stdout",
     "output_type": "stream",
     "text": [
      "Success for img(1007)_g.png:\n",
      "Testing 0 img(1007)_g\n",
      "\n"
     ]
    },
    {
     "name": "stderr",
     "output_type": "stream",
     "text": [
      "Processing val inputs:  25%|██████████████▌                                           | 44/175 [03:26<10:42,  4.91s/it]"
     ]
    },
    {
     "name": "stdout",
     "output_type": "stream",
     "text": [
      "Success for img(1007)_n.png:\n",
      "Testing 0 img(1007)_n\n",
      "\n"
     ]
    },
    {
     "name": "stderr",
     "output_type": "stream",
     "text": [
      "Processing val inputs:  26%|██████████████▉                                           | 45/175 [03:31<11:09,  5.15s/it]"
     ]
    },
    {
     "name": "stdout",
     "output_type": "stream",
     "text": [
      "Success for img(1007)_r.png:\n",
      "Testing 0 img(1007)_r\n",
      "\n"
     ]
    },
    {
     "name": "stderr",
     "output_type": "stream",
     "text": [
      "Processing val inputs:  27%|███████████████▌                                          | 47/175 [03:37<08:57,  4.20s/it]"
     ]
    },
    {
     "name": "stdout",
     "output_type": "stream",
     "text": [
      "Success for img(1008)_b.png:\n",
      "Testing 0 img(1008)_b\n",
      "\n"
     ]
    },
    {
     "name": "stderr",
     "output_type": "stream",
     "text": [
      "Processing val inputs:  27%|███████████████▉                                          | 48/175 [03:43<09:42,  4.59s/it]"
     ]
    },
    {
     "name": "stdout",
     "output_type": "stream",
     "text": [
      "Success for img(1008)_g.png:\n",
      "Testing 0 img(1008)_g\n",
      "\n"
     ]
    },
    {
     "name": "stderr",
     "output_type": "stream",
     "text": [
      "Processing val inputs:  28%|████████████████▏                                         | 49/175 [03:49<10:18,  4.91s/it]"
     ]
    },
    {
     "name": "stdout",
     "output_type": "stream",
     "text": [
      "Success for img(1008)_n.png:\n",
      "Testing 0 img(1008)_n\n",
      "\n"
     ]
    },
    {
     "name": "stderr",
     "output_type": "stream",
     "text": [
      "Processing val inputs:  29%|████████████████▌                                         | 50/175 [03:55<10:45,  5.16s/it]"
     ]
    },
    {
     "name": "stdout",
     "output_type": "stream",
     "text": [
      "Success for img(1008)_r.png:\n",
      "Testing 0 img(1008)_r\n",
      "\n"
     ]
    },
    {
     "name": "stderr",
     "output_type": "stream",
     "text": [
      "Processing val inputs:  30%|█████████████████▏                                        | 52/175 [04:01<08:37,  4.20s/it]"
     ]
    },
    {
     "name": "stdout",
     "output_type": "stream",
     "text": [
      "Success for img(1009)_b.png:\n",
      "Testing 0 img(1009)_b\n",
      "\n"
     ]
    },
    {
     "name": "stderr",
     "output_type": "stream",
     "text": [
      "Processing val inputs:  30%|█████████████████▌                                        | 53/175 [04:07<09:20,  4.60s/it]"
     ]
    },
    {
     "name": "stdout",
     "output_type": "stream",
     "text": [
      "Success for img(1009)_g.png:\n",
      "Testing 0 img(1009)_g\n",
      "\n"
     ]
    },
    {
     "name": "stderr",
     "output_type": "stream",
     "text": [
      "Processing val inputs:  31%|█████████████████▉                                        | 54/175 [04:13<09:55,  4.92s/it]"
     ]
    },
    {
     "name": "stdout",
     "output_type": "stream",
     "text": [
      "Success for img(1009)_n.png:\n",
      "Testing 0 img(1009)_n\n",
      "\n"
     ]
    },
    {
     "name": "stderr",
     "output_type": "stream",
     "text": [
      "Processing val inputs:  31%|██████████████████▏                                       | 55/175 [04:18<10:20,  5.17s/it]"
     ]
    },
    {
     "name": "stdout",
     "output_type": "stream",
     "text": [
      "Success for img(1009)_r.png:\n",
      "Testing 0 img(1009)_r\n",
      "\n"
     ]
    },
    {
     "name": "stderr",
     "output_type": "stream",
     "text": [
      "Processing val inputs:  33%|██████████████████▉                                       | 57/175 [04:24<08:17,  4.22s/it]"
     ]
    },
    {
     "name": "stdout",
     "output_type": "stream",
     "text": [
      "Success for img(1010)_b.png:\n",
      "Testing 0 img(1010)_b\n",
      "\n"
     ]
    },
    {
     "name": "stderr",
     "output_type": "stream",
     "text": [
      "Processing val inputs:  33%|███████████████████▏                                      | 58/175 [04:30<08:58,  4.61s/it]"
     ]
    },
    {
     "name": "stdout",
     "output_type": "stream",
     "text": [
      "Success for img(1010)_g.png:\n",
      "Testing 0 img(1010)_g\n",
      "\n"
     ]
    },
    {
     "name": "stderr",
     "output_type": "stream",
     "text": [
      "Processing val inputs:  34%|███████████████████▌                                      | 59/175 [04:36<09:30,  4.91s/it]"
     ]
    },
    {
     "name": "stdout",
     "output_type": "stream",
     "text": [
      "Success for img(1010)_n.png:\n",
      "Testing 0 img(1010)_n\n",
      "\n"
     ]
    },
    {
     "name": "stderr",
     "output_type": "stream",
     "text": [
      "Processing val inputs:  34%|███████████████████▉                                      | 60/175 [04:42<09:53,  5.16s/it]"
     ]
    },
    {
     "name": "stdout",
     "output_type": "stream",
     "text": [
      "Success for img(1010)_r.png:\n",
      "Testing 0 img(1010)_r\n",
      "\n"
     ]
    },
    {
     "name": "stderr",
     "output_type": "stream",
     "text": [
      "Processing val inputs:  35%|████████████████████▌                                     | 62/175 [04:48<07:54,  4.20s/it]"
     ]
    },
    {
     "name": "stdout",
     "output_type": "stream",
     "text": [
      "Success for img(1011)_b.png:\n",
      "Testing 0 img(1011)_b\n",
      "\n"
     ]
    },
    {
     "name": "stderr",
     "output_type": "stream",
     "text": [
      "Processing val inputs:  36%|████████████████████▉                                     | 63/175 [04:54<08:34,  4.59s/it]"
     ]
    },
    {
     "name": "stdout",
     "output_type": "stream",
     "text": [
      "Success for img(1011)_g.png:\n",
      "Testing 0 img(1011)_g\n",
      "\n"
     ]
    },
    {
     "name": "stderr",
     "output_type": "stream",
     "text": [
      "Processing val inputs:  37%|█████████████████████▏                                    | 64/175 [04:59<09:04,  4.90s/it]"
     ]
    },
    {
     "name": "stdout",
     "output_type": "stream",
     "text": [
      "Success for img(1011)_n.png:\n",
      "Testing 0 img(1011)_n\n",
      "\n"
     ]
    },
    {
     "name": "stderr",
     "output_type": "stream",
     "text": [
      "Processing val inputs:  37%|█████████████████████▌                                    | 65/175 [05:05<09:26,  5.15s/it]"
     ]
    },
    {
     "name": "stdout",
     "output_type": "stream",
     "text": [
      "Success for img(1011)_r.png:\n",
      "Testing 0 img(1011)_r\n",
      "\n"
     ]
    },
    {
     "name": "stderr",
     "output_type": "stream",
     "text": [
      "Processing val inputs:  38%|██████████████████████▏                                   | 67/175 [05:11<07:33,  4.20s/it]"
     ]
    },
    {
     "name": "stdout",
     "output_type": "stream",
     "text": [
      "Success for img(1012)_b.png:\n",
      "Testing 0 img(1012)_b\n",
      "\n"
     ]
    },
    {
     "name": "stderr",
     "output_type": "stream",
     "text": [
      "Processing val inputs:  39%|██████████████████████▌                                   | 68/175 [05:17<08:12,  4.60s/it]"
     ]
    },
    {
     "name": "stdout",
     "output_type": "stream",
     "text": [
      "Success for img(1012)_g.png:\n",
      "Testing 0 img(1012)_g\n",
      "\n"
     ]
    },
    {
     "name": "stderr",
     "output_type": "stream",
     "text": [
      "Processing val inputs:  39%|██████████████████████▊                                   | 69/175 [05:23<08:42,  4.93s/it]"
     ]
    },
    {
     "name": "stdout",
     "output_type": "stream",
     "text": [
      "Success for img(1012)_n.png:\n",
      "Testing 0 img(1012)_n\n",
      "\n"
     ]
    },
    {
     "name": "stderr",
     "output_type": "stream",
     "text": [
      "Processing val inputs:  40%|███████████████████████▏                                  | 70/175 [05:29<09:03,  5.17s/it]"
     ]
    },
    {
     "name": "stdout",
     "output_type": "stream",
     "text": [
      "Success for img(1012)_r.png:\n",
      "Testing 0 img(1012)_r\n",
      "\n"
     ]
    },
    {
     "name": "stderr",
     "output_type": "stream",
     "text": [
      "Processing val inputs:  41%|███████████████████████▊                                  | 72/175 [05:35<07:12,  4.20s/it]"
     ]
    },
    {
     "name": "stdout",
     "output_type": "stream",
     "text": [
      "Success for img(1013)_b.png:\n",
      "Testing 0 img(1013)_b\n",
      "\n"
     ]
    },
    {
     "name": "stderr",
     "output_type": "stream",
     "text": [
      "Processing val inputs:  42%|████████████████████████▏                                 | 73/175 [05:41<07:48,  4.59s/it]"
     ]
    },
    {
     "name": "stdout",
     "output_type": "stream",
     "text": [
      "Success for img(1013)_g.png:\n",
      "Testing 0 img(1013)_g\n",
      "\n"
     ]
    },
    {
     "name": "stderr",
     "output_type": "stream",
     "text": [
      "Processing val inputs:  42%|████████████████████████▌                                 | 74/175 [05:46<08:15,  4.91s/it]"
     ]
    },
    {
     "name": "stdout",
     "output_type": "stream",
     "text": [
      "Success for img(1013)_n.png:\n",
      "Testing 0 img(1013)_n\n",
      "\n"
     ]
    },
    {
     "name": "stderr",
     "output_type": "stream",
     "text": [
      "Processing val inputs:  43%|████████████████████████▊                                 | 75/175 [05:52<08:36,  5.17s/it]"
     ]
    },
    {
     "name": "stdout",
     "output_type": "stream",
     "text": [
      "Success for img(1013)_r.png:\n",
      "Testing 0 img(1013)_r\n",
      "\n"
     ]
    },
    {
     "name": "stderr",
     "output_type": "stream",
     "text": [
      "Processing val inputs:  44%|█████████████████████████▌                                | 77/175 [05:58<06:52,  4.21s/it]"
     ]
    },
    {
     "name": "stdout",
     "output_type": "stream",
     "text": [
      "Success for img(1014)_b.png:\n",
      "Testing 0 img(1014)_b\n",
      "\n"
     ]
    },
    {
     "name": "stderr",
     "output_type": "stream",
     "text": [
      "Processing val inputs:  45%|█████████████████████████▊                                | 78/175 [06:04<07:25,  4.60s/it]"
     ]
    },
    {
     "name": "stdout",
     "output_type": "stream",
     "text": [
      "Success for img(1014)_g.png:\n",
      "Testing 0 img(1014)_g\n",
      "\n"
     ]
    },
    {
     "name": "stderr",
     "output_type": "stream",
     "text": [
      "Processing val inputs:  45%|██████████████████████████▏                               | 79/175 [06:10<07:52,  4.92s/it]"
     ]
    },
    {
     "name": "stdout",
     "output_type": "stream",
     "text": [
      "Success for img(1014)_n.png:\n",
      "Testing 0 img(1014)_n\n",
      "\n"
     ]
    },
    {
     "name": "stderr",
     "output_type": "stream",
     "text": [
      "Processing val inputs:  46%|██████████████████████████▌                               | 80/175 [06:16<08:11,  5.17s/it]"
     ]
    },
    {
     "name": "stdout",
     "output_type": "stream",
     "text": [
      "Success for img(1014)_r.png:\n",
      "Testing 0 img(1014)_r\n",
      "\n"
     ]
    },
    {
     "name": "stderr",
     "output_type": "stream",
     "text": [
      "Processing val inputs:  47%|███████████████████████████▏                              | 82/175 [06:22<06:31,  4.21s/it]"
     ]
    },
    {
     "name": "stdout",
     "output_type": "stream",
     "text": [
      "Success for img(1015)_b.png:\n",
      "Testing 0 img(1015)_b\n",
      "\n"
     ]
    },
    {
     "name": "stderr",
     "output_type": "stream",
     "text": [
      "Processing val inputs:  47%|███████████████████████████▌                              | 83/175 [06:28<07:03,  4.60s/it]"
     ]
    },
    {
     "name": "stdout",
     "output_type": "stream",
     "text": [
      "Success for img(1015)_g.png:\n",
      "Testing 0 img(1015)_g\n",
      "\n"
     ]
    },
    {
     "name": "stderr",
     "output_type": "stream",
     "text": [
      "Processing val inputs:  48%|███████████████████████████▊                              | 84/175 [06:33<07:27,  4.92s/it]"
     ]
    },
    {
     "name": "stdout",
     "output_type": "stream",
     "text": [
      "Success for img(1015)_n.png:\n",
      "Testing 0 img(1015)_n\n",
      "\n"
     ]
    },
    {
     "name": "stderr",
     "output_type": "stream",
     "text": [
      "Processing val inputs:  49%|████████████████████████████▏                             | 85/175 [06:39<07:44,  5.16s/it]"
     ]
    },
    {
     "name": "stdout",
     "output_type": "stream",
     "text": [
      "Success for img(1015)_r.png:\n",
      "Testing 0 img(1015)_r\n",
      "\n"
     ]
    },
    {
     "name": "stderr",
     "output_type": "stream",
     "text": [
      "Processing val inputs:  50%|████████████████████████████▊                             | 87/175 [06:45<06:10,  4.21s/it]"
     ]
    },
    {
     "name": "stdout",
     "output_type": "stream",
     "text": [
      "Success for img(1016)_b.png:\n",
      "Testing 0 img(1016)_b\n",
      "\n"
     ]
    },
    {
     "name": "stderr",
     "output_type": "stream",
     "text": [
      "Processing val inputs:  50%|█████████████████████████████▏                            | 88/175 [06:51<06:39,  4.60s/it]"
     ]
    },
    {
     "name": "stdout",
     "output_type": "stream",
     "text": [
      "Success for img(1016)_g.png:\n",
      "Testing 0 img(1016)_g\n",
      "\n"
     ]
    },
    {
     "name": "stderr",
     "output_type": "stream",
     "text": [
      "Processing val inputs:  51%|█████████████████████████████▍                            | 89/175 [06:57<07:02,  4.92s/it]"
     ]
    },
    {
     "name": "stdout",
     "output_type": "stream",
     "text": [
      "Success for img(1016)_n.png:\n",
      "Testing 0 img(1016)_n\n",
      "\n"
     ]
    },
    {
     "name": "stderr",
     "output_type": "stream",
     "text": [
      "Processing val inputs:  51%|█████████████████████████████▊                            | 90/175 [07:03<07:18,  5.15s/it]"
     ]
    },
    {
     "name": "stdout",
     "output_type": "stream",
     "text": [
      "Success for img(1016)_r.png:\n",
      "Testing 0 img(1016)_r\n",
      "\n"
     ]
    },
    {
     "name": "stderr",
     "output_type": "stream",
     "text": [
      "Processing val inputs:  53%|██████████████████████████████▍                           | 92/175 [07:08<05:47,  4.19s/it]"
     ]
    },
    {
     "name": "stdout",
     "output_type": "stream",
     "text": [
      "Success for img(1017)_b.png:\n",
      "Testing 0 img(1017)_b\n",
      "\n"
     ]
    },
    {
     "name": "stderr",
     "output_type": "stream",
     "text": [
      "Processing val inputs:  53%|██████████████████████████████▊                           | 93/175 [07:14<06:16,  4.59s/it]"
     ]
    },
    {
     "name": "stdout",
     "output_type": "stream",
     "text": [
      "Success for img(1017)_g.png:\n",
      "Testing 0 img(1017)_g\n",
      "\n"
     ]
    },
    {
     "name": "stderr",
     "output_type": "stream",
     "text": [
      "Processing val inputs:  54%|███████████████████████████████▏                          | 94/175 [07:20<06:37,  4.90s/it]"
     ]
    },
    {
     "name": "stdout",
     "output_type": "stream",
     "text": [
      "Success for img(1017)_n.png:\n",
      "Testing 0 img(1017)_n\n",
      "\n"
     ]
    },
    {
     "name": "stderr",
     "output_type": "stream",
     "text": [
      "Processing val inputs:  54%|███████████████████████████████▍                          | 95/175 [07:26<06:52,  5.16s/it]"
     ]
    },
    {
     "name": "stdout",
     "output_type": "stream",
     "text": [
      "Success for img(1017)_r.png:\n",
      "Testing 0 img(1017)_r\n",
      "\n"
     ]
    },
    {
     "name": "stderr",
     "output_type": "stream",
     "text": [
      "Processing val inputs:  55%|████████████████████████████████▏                         | 97/175 [07:32<05:28,  4.21s/it]"
     ]
    },
    {
     "name": "stdout",
     "output_type": "stream",
     "text": [
      "Success for img(1018)_b.png:\n",
      "Testing 0 img(1018)_b\n",
      "\n"
     ]
    },
    {
     "name": "stderr",
     "output_type": "stream",
     "text": [
      "Processing val inputs:  56%|████████████████████████████████▍                         | 98/175 [07:38<05:53,  4.60s/it]"
     ]
    },
    {
     "name": "stdout",
     "output_type": "stream",
     "text": [
      "Success for img(1018)_g.png:\n",
      "Testing 0 img(1018)_g\n",
      "\n"
     ]
    },
    {
     "name": "stderr",
     "output_type": "stream",
     "text": [
      "Processing val inputs:  57%|████████████████████████████████▊                         | 99/175 [07:44<06:13,  4.92s/it]"
     ]
    },
    {
     "name": "stdout",
     "output_type": "stream",
     "text": [
      "Success for img(1018)_n.png:\n",
      "Testing 0 img(1018)_n\n",
      "\n"
     ]
    },
    {
     "name": "stderr",
     "output_type": "stream",
     "text": [
      "Processing val inputs:  57%|████████████████████████████████▌                        | 100/175 [07:50<06:28,  5.18s/it]"
     ]
    },
    {
     "name": "stdout",
     "output_type": "stream",
     "text": [
      "Success for img(1018)_r.png:\n",
      "Testing 0 img(1018)_r\n",
      "\n"
     ]
    },
    {
     "name": "stderr",
     "output_type": "stream",
     "text": [
      "Processing val inputs:  58%|█████████████████████████████████▏                       | 102/175 [07:55<05:07,  4.21s/it]"
     ]
    },
    {
     "name": "stdout",
     "output_type": "stream",
     "text": [
      "Success for img(1019)_b.png:\n",
      "Testing 0 img(1019)_b\n",
      "\n"
     ]
    },
    {
     "name": "stderr",
     "output_type": "stream",
     "text": [
      "Processing val inputs:  59%|█████████████████████████████████▌                       | 103/175 [08:01<05:31,  4.60s/it]"
     ]
    },
    {
     "name": "stdout",
     "output_type": "stream",
     "text": [
      "Success for img(1019)_g.png:\n",
      "Testing 0 img(1019)_g\n",
      "\n"
     ]
    },
    {
     "name": "stderr",
     "output_type": "stream",
     "text": [
      "Processing val inputs:  59%|█████████████████████████████████▊                       | 104/175 [08:07<05:49,  4.92s/it]"
     ]
    },
    {
     "name": "stdout",
     "output_type": "stream",
     "text": [
      "Success for img(1019)_n.png:\n",
      "Testing 0 img(1019)_n\n",
      "\n"
     ]
    },
    {
     "name": "stderr",
     "output_type": "stream",
     "text": [
      "Processing val inputs:  60%|██████████████████████████████████▏                      | 105/175 [08:13<06:01,  5.16s/it]"
     ]
    },
    {
     "name": "stdout",
     "output_type": "stream",
     "text": [
      "Success for img(1019)_r.png:\n",
      "Testing 0 img(1019)_r\n",
      "\n"
     ]
    },
    {
     "name": "stderr",
     "output_type": "stream",
     "text": [
      "Processing val inputs:  61%|██████████████████████████████████▊                      | 107/175 [08:19<04:46,  4.21s/it]"
     ]
    },
    {
     "name": "stdout",
     "output_type": "stream",
     "text": [
      "Success for img(1020)_b.png:\n",
      "Testing 0 img(1020)_b\n",
      "\n"
     ]
    },
    {
     "name": "stderr",
     "output_type": "stream",
     "text": [
      "Processing val inputs:  62%|███████████████████████████████████▏                     | 108/175 [08:25<05:07,  4.59s/it]"
     ]
    },
    {
     "name": "stdout",
     "output_type": "stream",
     "text": [
      "Success for img(1020)_g.png:\n",
      "Testing 0 img(1020)_g\n",
      "\n"
     ]
    },
    {
     "name": "stderr",
     "output_type": "stream",
     "text": [
      "Processing val inputs:  62%|███████████████████████████████████▌                     | 109/175 [08:31<05:24,  4.91s/it]"
     ]
    },
    {
     "name": "stdout",
     "output_type": "stream",
     "text": [
      "Success for img(1020)_n.png:\n",
      "Testing 0 img(1020)_n\n",
      "\n"
     ]
    },
    {
     "name": "stderr",
     "output_type": "stream",
     "text": [
      "Processing val inputs:  63%|███████████████████████████████████▊                     | 110/175 [08:37<05:36,  5.18s/it]"
     ]
    },
    {
     "name": "stdout",
     "output_type": "stream",
     "text": [
      "Success for img(1020)_r.png:\n",
      "Testing 0 img(1020)_r\n",
      "\n"
     ]
    },
    {
     "name": "stderr",
     "output_type": "stream",
     "text": [
      "Processing val inputs:  64%|████████████████████████████████████▍                    | 112/175 [08:42<04:24,  4.21s/it]"
     ]
    },
    {
     "name": "stdout",
     "output_type": "stream",
     "text": [
      "Success for img(11)_b.png:\n",
      "Testing 0 img(11)_b\n",
      "\n"
     ]
    },
    {
     "name": "stderr",
     "output_type": "stream",
     "text": [
      "Processing val inputs:  65%|████████████████████████████████████▊                    | 113/175 [08:49<04:51,  4.70s/it]"
     ]
    },
    {
     "name": "stdout",
     "output_type": "stream",
     "text": [
      "Success for img(11)_g.png:\n",
      "Testing 0 img(11)_g\n",
      "\n"
     ]
    },
    {
     "name": "stderr",
     "output_type": "stream",
     "text": [
      "Processing val inputs:  65%|█████████████████████████████████████▏                   | 114/175 [08:55<05:03,  4.98s/it]"
     ]
    },
    {
     "name": "stdout",
     "output_type": "stream",
     "text": [
      "Success for img(11)_n.png:\n",
      "Testing 0 img(11)_n\n",
      "\n"
     ]
    },
    {
     "name": "stderr",
     "output_type": "stream",
     "text": [
      "Processing val inputs:  66%|█████████████████████████████████████▍                   | 115/175 [09:00<05:13,  5.22s/it]"
     ]
    },
    {
     "name": "stdout",
     "output_type": "stream",
     "text": [
      "Success for img(11)_r.png:\n",
      "Testing 0 img(11)_r\n",
      "\n"
     ]
    },
    {
     "name": "stderr",
     "output_type": "stream",
     "text": [
      "Processing val inputs:  67%|██████████████████████████████████████                   | 117/175 [09:06<04:06,  4.25s/it]"
     ]
    },
    {
     "name": "stdout",
     "output_type": "stream",
     "text": [
      "Success for img(12)_b.png:\n",
      "Testing 0 img(12)_b\n",
      "\n"
     ]
    },
    {
     "name": "stderr",
     "output_type": "stream",
     "text": [
      "Processing val inputs:  67%|██████████████████████████████████████▍                  | 118/175 [09:12<04:23,  4.62s/it]"
     ]
    },
    {
     "name": "stdout",
     "output_type": "stream",
     "text": [
      "Success for img(12)_g.png:\n",
      "Testing 0 img(12)_g\n",
      "\n"
     ]
    },
    {
     "name": "stderr",
     "output_type": "stream",
     "text": [
      "Processing val inputs:  68%|██████████████████████████████████████▊                  | 119/175 [09:18<04:36,  4.93s/it]"
     ]
    },
    {
     "name": "stdout",
     "output_type": "stream",
     "text": [
      "Success for img(12)_n.png:\n",
      "Testing 0 img(12)_n\n",
      "\n"
     ]
    },
    {
     "name": "stderr",
     "output_type": "stream",
     "text": [
      "Processing val inputs:  69%|███████████████████████████████████████                  | 120/175 [09:24<04:44,  5.18s/it]"
     ]
    },
    {
     "name": "stdout",
     "output_type": "stream",
     "text": [
      "Success for img(12)_r.png:\n",
      "Testing 0 img(12)_r\n",
      "\n"
     ]
    },
    {
     "name": "stderr",
     "output_type": "stream",
     "text": [
      "Processing val inputs:  70%|███████████████████████████████████████▋                 | 122/175 [09:30<03:42,  4.21s/it]"
     ]
    },
    {
     "name": "stdout",
     "output_type": "stream",
     "text": [
      "Success for img(13)_b.png:\n",
      "Testing 0 img(13)_b\n",
      "\n"
     ]
    },
    {
     "name": "stderr",
     "output_type": "stream",
     "text": [
      "Processing val inputs:  70%|████████████████████████████████████████                 | 123/175 [09:36<03:59,  4.60s/it]"
     ]
    },
    {
     "name": "stdout",
     "output_type": "stream",
     "text": [
      "Success for img(13)_g.png:\n",
      "Testing 0 img(13)_g\n",
      "\n"
     ]
    },
    {
     "name": "stderr",
     "output_type": "stream",
     "text": [
      "Processing val inputs:  71%|████████████████████████████████████████▍                | 124/175 [09:41<04:11,  4.92s/it]"
     ]
    },
    {
     "name": "stdout",
     "output_type": "stream",
     "text": [
      "Success for img(13)_n.png:\n",
      "Testing 0 img(13)_n\n",
      "\n"
     ]
    },
    {
     "name": "stderr",
     "output_type": "stream",
     "text": [
      "Processing val inputs:  71%|████████████████████████████████████████▋                | 125/175 [09:47<04:19,  5.18s/it]"
     ]
    },
    {
     "name": "stdout",
     "output_type": "stream",
     "text": [
      "Success for img(13)_r.png:\n",
      "Testing 0 img(13)_r\n",
      "\n"
     ]
    },
    {
     "name": "stderr",
     "output_type": "stream",
     "text": [
      "Processing val inputs:  73%|█████████████████████████████████████████▎               | 127/175 [09:53<03:22,  4.21s/it]"
     ]
    },
    {
     "name": "stdout",
     "output_type": "stream",
     "text": [
      "Success for img(14)_b.png:\n",
      "Testing 0 img(14)_b\n",
      "\n"
     ]
    },
    {
     "name": "stderr",
     "output_type": "stream",
     "text": [
      "Processing val inputs:  73%|█████████████████████████████████████████▋               | 128/175 [09:59<03:36,  4.60s/it]"
     ]
    },
    {
     "name": "stdout",
     "output_type": "stream",
     "text": [
      "Success for img(14)_g.png:\n",
      "Testing 0 img(14)_g\n",
      "\n"
     ]
    },
    {
     "name": "stderr",
     "output_type": "stream",
     "text": [
      "Processing val inputs:  74%|██████████████████████████████████████████               | 129/175 [10:06<03:57,  5.17s/it]"
     ]
    },
    {
     "name": "stdout",
     "output_type": "stream",
     "text": [
      "Success for img(14)_n.png:\n",
      "Testing 0 img(14)_n\n",
      "\n"
     ]
    },
    {
     "name": "stderr",
     "output_type": "stream",
     "text": [
      "Processing val inputs:  74%|██████████████████████████████████████████▎              | 130/175 [10:12<04:03,  5.41s/it]"
     ]
    },
    {
     "name": "stdout",
     "output_type": "stream",
     "text": [
      "Success for img(14)_r.png:\n",
      "Testing 0 img(14)_r\n",
      "\n"
     ]
    },
    {
     "name": "stderr",
     "output_type": "stream",
     "text": [
      "Processing val inputs:  75%|██████████████████████████████████████████▉              | 132/175 [10:18<03:07,  4.35s/it]"
     ]
    },
    {
     "name": "stdout",
     "output_type": "stream",
     "text": [
      "Success for img(15)_b.png:\n",
      "Testing 0 img(15)_b\n",
      "\n"
     ]
    },
    {
     "name": "stderr",
     "output_type": "stream",
     "text": [
      "Processing val inputs:  76%|███████████████████████████████████████████▎             | 133/175 [10:24<03:18,  4.72s/it]"
     ]
    },
    {
     "name": "stdout",
     "output_type": "stream",
     "text": [
      "Success for img(15)_g.png:\n",
      "Testing 0 img(15)_g\n",
      "\n"
     ]
    },
    {
     "name": "stderr",
     "output_type": "stream",
     "text": [
      "Processing val inputs:  77%|███████████████████████████████████████████▋             | 134/175 [10:30<03:25,  5.02s/it]"
     ]
    },
    {
     "name": "stdout",
     "output_type": "stream",
     "text": [
      "Success for img(15)_n.png:\n",
      "Testing 0 img(15)_n\n",
      "\n"
     ]
    },
    {
     "name": "stderr",
     "output_type": "stream",
     "text": [
      "Processing val inputs:  77%|███████████████████████████████████████████▉             | 135/175 [10:36<03:30,  5.25s/it]"
     ]
    },
    {
     "name": "stdout",
     "output_type": "stream",
     "text": [
      "Success for img(15)_r.png:\n",
      "Testing 0 img(15)_r\n",
      "\n"
     ]
    },
    {
     "name": "stderr",
     "output_type": "stream",
     "text": [
      "Processing val inputs:  78%|████████████████████████████████████████████▌            | 137/175 [10:42<02:41,  4.25s/it]"
     ]
    },
    {
     "name": "stdout",
     "output_type": "stream",
     "text": [
      "Success for img(2)_b.png:\n",
      "Testing 0 img(2)_b\n",
      "\n"
     ]
    },
    {
     "name": "stderr",
     "output_type": "stream",
     "text": [
      "Processing val inputs:  79%|████████████████████████████████████████████▉            | 138/175 [10:47<02:51,  4.64s/it]"
     ]
    },
    {
     "name": "stdout",
     "output_type": "stream",
     "text": [
      "Success for img(2)_g.png:\n",
      "Testing 0 img(2)_g\n",
      "\n"
     ]
    },
    {
     "name": "stderr",
     "output_type": "stream",
     "text": [
      "Processing val inputs:  79%|█████████████████████████████████████████████▎           | 139/175 [10:53<02:58,  4.96s/it]"
     ]
    },
    {
     "name": "stdout",
     "output_type": "stream",
     "text": [
      "Success for img(2)_n.png:\n",
      "Testing 0 img(2)_n\n",
      "\n"
     ]
    },
    {
     "name": "stderr",
     "output_type": "stream",
     "text": [
      "Processing val inputs:  80%|█████████████████████████████████████████████▌           | 140/175 [11:00<03:08,  5.38s/it]"
     ]
    },
    {
     "name": "stdout",
     "output_type": "stream",
     "text": [
      "Success for img(2)_r.png:\n",
      "Testing 0 img(2)_r\n",
      "\n"
     ]
    },
    {
     "name": "stderr",
     "output_type": "stream",
     "text": [
      "Processing val inputs:  81%|██████████████████████████████████████████████▎          | 142/175 [11:06<02:22,  4.33s/it]"
     ]
    },
    {
     "name": "stdout",
     "output_type": "stream",
     "text": [
      "Success for img(3)_b.png:\n",
      "Testing 0 img(3)_b\n",
      "\n"
     ]
    },
    {
     "name": "stderr",
     "output_type": "stream",
     "text": [
      "Processing val inputs:  82%|██████████████████████████████████████████████▌          | 143/175 [11:12<02:30,  4.69s/it]"
     ]
    },
    {
     "name": "stdout",
     "output_type": "stream",
     "text": [
      "Success for img(3)_g.png:\n",
      "Testing 0 img(3)_g\n",
      "\n"
     ]
    },
    {
     "name": "stderr",
     "output_type": "stream",
     "text": [
      "Processing val inputs:  82%|██████████████████████████████████████████████▉          | 144/175 [11:17<02:34,  4.98s/it]"
     ]
    },
    {
     "name": "stdout",
     "output_type": "stream",
     "text": [
      "Success for img(3)_n.png:\n",
      "Testing 0 img(3)_n\n",
      "\n"
     ]
    },
    {
     "name": "stderr",
     "output_type": "stream",
     "text": [
      "Processing val inputs:  83%|███████████████████████████████████████████████▏         | 145/175 [11:23<02:37,  5.24s/it]"
     ]
    },
    {
     "name": "stdout",
     "output_type": "stream",
     "text": [
      "Success for img(3)_r.png:\n",
      "Testing 0 img(3)_r\n",
      "\n"
     ]
    },
    {
     "name": "stderr",
     "output_type": "stream",
     "text": [
      "Processing val inputs:  84%|███████████████████████████████████████████████▉         | 147/175 [11:29<01:59,  4.25s/it]"
     ]
    },
    {
     "name": "stdout",
     "output_type": "stream",
     "text": [
      "Success for img(4)_b.png:\n",
      "Testing 0 img(4)_b\n",
      "\n"
     ]
    },
    {
     "name": "stderr",
     "output_type": "stream",
     "text": [
      "Processing val inputs:  85%|████████████████████████████████████████████████▏        | 148/175 [11:35<02:04,  4.62s/it]"
     ]
    },
    {
     "name": "stdout",
     "output_type": "stream",
     "text": [
      "Success for img(4)_g.png:\n",
      "Testing 0 img(4)_g\n",
      "\n"
     ]
    },
    {
     "name": "stderr",
     "output_type": "stream",
     "text": [
      "Processing val inputs:  85%|████████████████████████████████████████████████▌        | 149/175 [11:41<02:08,  4.94s/it]"
     ]
    },
    {
     "name": "stdout",
     "output_type": "stream",
     "text": [
      "Success for img(4)_n.png:\n",
      "Testing 0 img(4)_n\n",
      "\n"
     ]
    },
    {
     "name": "stderr",
     "output_type": "stream",
     "text": [
      "Processing val inputs:  86%|████████████████████████████████████████████████▊        | 150/175 [11:47<02:09,  5.19s/it]"
     ]
    },
    {
     "name": "stdout",
     "output_type": "stream",
     "text": [
      "Success for img(4)_r.png:\n",
      "Testing 0 img(4)_r\n",
      "\n"
     ]
    },
    {
     "name": "stderr",
     "output_type": "stream",
     "text": [
      "Processing val inputs:  87%|█████████████████████████████████████████████████▌       | 152/175 [11:53<01:37,  4.24s/it]"
     ]
    },
    {
     "name": "stdout",
     "output_type": "stream",
     "text": [
      "Success for img(5)_b.png:\n",
      "Testing 0 img(5)_b\n",
      "\n"
     ]
    },
    {
     "name": "stderr",
     "output_type": "stream",
     "text": [
      "Processing val inputs:  87%|█████████████████████████████████████████████████▊       | 153/175 [11:59<01:41,  4.62s/it]"
     ]
    },
    {
     "name": "stdout",
     "output_type": "stream",
     "text": [
      "Success for img(5)_g.png:\n",
      "Testing 0 img(5)_g\n",
      "\n"
     ]
    },
    {
     "name": "stderr",
     "output_type": "stream",
     "text": [
      "Processing val inputs:  88%|██████████████████████████████████████████████████▏      | 154/175 [12:05<01:43,  4.95s/it]"
     ]
    },
    {
     "name": "stdout",
     "output_type": "stream",
     "text": [
      "Success for img(5)_n.png:\n",
      "Testing 0 img(5)_n\n",
      "\n"
     ]
    },
    {
     "name": "stderr",
     "output_type": "stream",
     "text": [
      "Processing val inputs:  89%|██████████████████████████████████████████████████▍      | 155/175 [12:11<01:44,  5.21s/it]"
     ]
    },
    {
     "name": "stdout",
     "output_type": "stream",
     "text": [
      "Success for img(5)_r.png:\n",
      "Testing 0 img(5)_r\n",
      "\n"
     ]
    },
    {
     "name": "stderr",
     "output_type": "stream",
     "text": [
      "Processing val inputs:  90%|███████████████████████████████████████████████████▏     | 157/175 [12:16<01:16,  4.24s/it]"
     ]
    },
    {
     "name": "stdout",
     "output_type": "stream",
     "text": [
      "Success for img(6)_b.png:\n",
      "Testing 0 img(6)_b\n",
      "\n"
     ]
    },
    {
     "name": "stderr",
     "output_type": "stream",
     "text": [
      "Processing val inputs:  90%|███████████████████████████████████████████████████▍     | 158/175 [12:22<01:18,  4.62s/it]"
     ]
    },
    {
     "name": "stdout",
     "output_type": "stream",
     "text": [
      "Success for img(6)_g.png:\n",
      "Testing 0 img(6)_g\n",
      "\n"
     ]
    },
    {
     "name": "stderr",
     "output_type": "stream",
     "text": [
      "Processing val inputs:  91%|███████████████████████████████████████████████████▊     | 159/175 [12:28<01:19,  4.94s/it]"
     ]
    },
    {
     "name": "stdout",
     "output_type": "stream",
     "text": [
      "Success for img(6)_n.png:\n",
      "Testing 0 img(6)_n\n",
      "\n"
     ]
    },
    {
     "name": "stderr",
     "output_type": "stream",
     "text": [
      "Processing val inputs:  91%|████████████████████████████████████████████████████     | 160/175 [12:34<01:17,  5.18s/it]"
     ]
    },
    {
     "name": "stdout",
     "output_type": "stream",
     "text": [
      "Success for img(6)_r.png:\n",
      "Testing 0 img(6)_r\n",
      "\n"
     ]
    },
    {
     "name": "stderr",
     "output_type": "stream",
     "text": [
      "Processing val inputs:  93%|████████████████████████████████████████████████████▊    | 162/175 [12:40<00:54,  4.23s/it]"
     ]
    },
    {
     "name": "stdout",
     "output_type": "stream",
     "text": [
      "Success for img(7)_b.png:\n",
      "Testing 0 img(7)_b\n",
      "\n"
     ]
    },
    {
     "name": "stderr",
     "output_type": "stream",
     "text": [
      "Processing val inputs:  93%|█████████████████████████████████████████████████████    | 163/175 [12:46<00:55,  4.61s/it]"
     ]
    },
    {
     "name": "stdout",
     "output_type": "stream",
     "text": [
      "Success for img(7)_g.png:\n",
      "Testing 0 img(7)_g\n",
      "\n"
     ]
    },
    {
     "name": "stderr",
     "output_type": "stream",
     "text": [
      "Processing val inputs:  94%|█████████████████████████████████████████████████████▍   | 164/175 [12:52<00:54,  4.93s/it]"
     ]
    },
    {
     "name": "stdout",
     "output_type": "stream",
     "text": [
      "Success for img(7)_n.png:\n",
      "Testing 0 img(7)_n\n",
      "\n"
     ]
    },
    {
     "name": "stderr",
     "output_type": "stream",
     "text": [
      "Processing val inputs:  94%|█████████████████████████████████████████████████████▋   | 165/175 [12:58<00:51,  5.19s/it]"
     ]
    },
    {
     "name": "stdout",
     "output_type": "stream",
     "text": [
      "Success for img(7)_r.png:\n",
      "Testing 0 img(7)_r\n",
      "\n"
     ]
    },
    {
     "name": "stderr",
     "output_type": "stream",
     "text": [
      "Processing val inputs:  95%|██████████████████████████████████████████████████████▍  | 167/175 [13:04<00:33,  4.22s/it]"
     ]
    },
    {
     "name": "stdout",
     "output_type": "stream",
     "text": [
      "Success for img(8)_b.png:\n",
      "Testing 0 img(8)_b\n",
      "\n"
     ]
    },
    {
     "name": "stderr",
     "output_type": "stream",
     "text": [
      "Processing val inputs:  96%|██████████████████████████████████████████████████████▋  | 168/175 [13:09<00:32,  4.62s/it]"
     ]
    },
    {
     "name": "stdout",
     "output_type": "stream",
     "text": [
      "Success for img(8)_g.png:\n",
      "Testing 0 img(8)_g\n",
      "\n"
     ]
    },
    {
     "name": "stderr",
     "output_type": "stream",
     "text": [
      "Processing val inputs:  97%|███████████████████████████████████████████████████████  | 169/175 [13:15<00:29,  4.95s/it]"
     ]
    },
    {
     "name": "stdout",
     "output_type": "stream",
     "text": [
      "Success for img(8)_n.png:\n",
      "Testing 0 img(8)_n\n",
      "\n"
     ]
    },
    {
     "name": "stderr",
     "output_type": "stream",
     "text": [
      "Processing val inputs:  97%|███████████████████████████████████████████████████████▎ | 170/175 [13:21<00:26,  5.21s/it]"
     ]
    },
    {
     "name": "stdout",
     "output_type": "stream",
     "text": [
      "Success for img(8)_r.png:\n",
      "Testing 0 img(8)_r\n",
      "\n"
     ]
    },
    {
     "name": "stderr",
     "output_type": "stream",
     "text": [
      "Processing val inputs:  98%|████████████████████████████████████████████████████████ | 172/175 [13:27<00:12,  4.24s/it]"
     ]
    },
    {
     "name": "stdout",
     "output_type": "stream",
     "text": [
      "Success for img(9)_b.png:\n",
      "Testing 0 img(9)_b\n",
      "\n"
     ]
    },
    {
     "name": "stderr",
     "output_type": "stream",
     "text": [
      "Processing val inputs:  99%|████████████████████████████████████████████████████████▎| 173/175 [13:33<00:09,  4.62s/it]"
     ]
    },
    {
     "name": "stdout",
     "output_type": "stream",
     "text": [
      "Success for img(9)_g.png:\n",
      "Testing 0 img(9)_g\n",
      "\n"
     ]
    },
    {
     "name": "stderr",
     "output_type": "stream",
     "text": [
      "Processing val inputs:  99%|████████████████████████████████████████████████████████▋| 174/175 [13:39<00:04,  4.95s/it]"
     ]
    },
    {
     "name": "stdout",
     "output_type": "stream",
     "text": [
      "Success for img(9)_n.png:\n",
      "Testing 0 img(9)_n\n",
      "\n"
     ]
    },
    {
     "name": "stderr",
     "output_type": "stream",
     "text": [
      "Processing val inputs: 100%|█████████████████████████████████████████████████████████| 175/175 [13:45<00:00,  4.72s/it]\n"
     ]
    },
    {
     "name": "stdout",
     "output_type": "stream",
     "text": [
      "Success for img(9)_r.png:\n",
      "Testing 0 img(9)_r\n",
      "\n"
     ]
    },
    {
     "name": "stderr",
     "output_type": "stream",
     "text": [
      "Processing test inputs:   1%|▋                                                         | 2/180 [00:05<08:47,  2.96s/it]"
     ]
    },
    {
     "name": "stdout",
     "output_type": "stream",
     "text": [
      "Success for img(1)_b.png:\n",
      "Testing 0 img(1)_b\n",
      "\n"
     ]
    },
    {
     "name": "stderr",
     "output_type": "stream",
     "text": [
      "Processing test inputs:   2%|▉                                                         | 3/180 [00:11<12:16,  4.16s/it]"
     ]
    },
    {
     "name": "stdout",
     "output_type": "stream",
     "text": [
      "Success for img(1)_g.png:\n",
      "Testing 0 img(1)_g\n",
      "\n"
     ]
    },
    {
     "name": "stderr",
     "output_type": "stream",
     "text": [
      "Processing test inputs:   2%|█▎                                                        | 4/180 [00:17<14:05,  4.80s/it]"
     ]
    },
    {
     "name": "stdout",
     "output_type": "stream",
     "text": [
      "Success for img(1)_n.png:\n",
      "Testing 0 img(1)_n\n",
      "\n"
     ]
    },
    {
     "name": "stderr",
     "output_type": "stream",
     "text": [
      "Processing test inputs:   3%|█▌                                                        | 5/180 [00:23<15:07,  5.18s/it]"
     ]
    },
    {
     "name": "stdout",
     "output_type": "stream",
     "text": [
      "Success for img(1)_r.png:\n",
      "Testing 0 img(1)_r\n",
      "\n"
     ]
    },
    {
     "name": "stderr",
     "output_type": "stream",
     "text": [
      "Processing test inputs:   4%|██▎                                                       | 7/180 [00:29<11:46,  4.08s/it]"
     ]
    },
    {
     "name": "stdout",
     "output_type": "stream",
     "text": [
      "Success for img(10)_b.png:\n",
      "Testing 0 img(10)_b\n",
      "\n"
     ]
    },
    {
     "name": "stderr",
     "output_type": "stream",
     "text": [
      "Processing test inputs:   4%|██▌                                                       | 8/180 [00:35<13:04,  4.56s/it]"
     ]
    },
    {
     "name": "stdout",
     "output_type": "stream",
     "text": [
      "Success for img(10)_g.png:\n",
      "Testing 0 img(10)_g\n",
      "\n"
     ]
    },
    {
     "name": "stderr",
     "output_type": "stream",
     "text": [
      "Processing test inputs:   5%|██▉                                                       | 9/180 [00:41<14:13,  4.99s/it]"
     ]
    },
    {
     "name": "stdout",
     "output_type": "stream",
     "text": [
      "Success for img(10)_n.png:\n",
      "Testing 0 img(10)_n\n",
      "\n"
     ]
    },
    {
     "name": "stderr",
     "output_type": "stream",
     "text": [
      "Processing test inputs:   6%|███▏                                                     | 10/180 [00:47<14:53,  5.26s/it]"
     ]
    },
    {
     "name": "stdout",
     "output_type": "stream",
     "text": [
      "Success for img(10)_r.png:\n",
      "Testing 0 img(10)_r\n",
      "\n"
     ]
    },
    {
     "name": "stderr",
     "output_type": "stream",
     "text": [
      "Processing test inputs:   7%|███▊                                                     | 12/180 [00:53<11:50,  4.23s/it]"
     ]
    },
    {
     "name": "stdout",
     "output_type": "stream",
     "text": [
      "Success for img(1016)_b.png:\n",
      "Testing 0 img(1016)_b\n",
      "\n"
     ]
    },
    {
     "name": "stderr",
     "output_type": "stream",
     "text": [
      "Processing test inputs:   7%|████                                                     | 13/180 [00:59<12:52,  4.62s/it]"
     ]
    },
    {
     "name": "stdout",
     "output_type": "stream",
     "text": [
      "Success for img(1016)_g.png:\n",
      "Testing 0 img(1016)_g\n",
      "\n"
     ]
    },
    {
     "name": "stderr",
     "output_type": "stream",
     "text": [
      "Processing test inputs:   8%|████▍                                                    | 14/180 [01:05<13:42,  4.96s/it]"
     ]
    },
    {
     "name": "stdout",
     "output_type": "stream",
     "text": [
      "Success for img(1016)_n.png:\n",
      "Testing 0 img(1016)_n\n",
      "\n"
     ]
    },
    {
     "name": "stderr",
     "output_type": "stream",
     "text": [
      "Processing test inputs:   8%|████▊                                                    | 15/180 [01:10<14:16,  5.19s/it]"
     ]
    },
    {
     "name": "stdout",
     "output_type": "stream",
     "text": [
      "Success for img(1016)_r.png:\n",
      "Testing 0 img(1016)_r\n",
      "\n"
     ]
    },
    {
     "name": "stderr",
     "output_type": "stream",
     "text": [
      "Processing test inputs:   9%|█████▍                                                   | 17/180 [01:16<11:29,  4.23s/it]"
     ]
    },
    {
     "name": "stdout",
     "output_type": "stream",
     "text": [
      "Success for img(1017)_b.png:\n",
      "Testing 0 img(1017)_b\n",
      "\n"
     ]
    },
    {
     "name": "stderr",
     "output_type": "stream",
     "text": [
      "Processing test inputs:  10%|█████▋                                                   | 18/180 [01:22<12:33,  4.65s/it]"
     ]
    },
    {
     "name": "stdout",
     "output_type": "stream",
     "text": [
      "Success for img(1017)_g.png:\n",
      "Testing 0 img(1017)_g\n",
      "\n"
     ]
    },
    {
     "name": "stderr",
     "output_type": "stream",
     "text": [
      "Processing test inputs:  11%|██████                                                   | 19/180 [01:28<13:21,  4.98s/it]"
     ]
    },
    {
     "name": "stdout",
     "output_type": "stream",
     "text": [
      "Success for img(1017)_n.png:\n",
      "Testing 0 img(1017)_n\n",
      "\n"
     ]
    },
    {
     "name": "stderr",
     "output_type": "stream",
     "text": [
      "Processing test inputs:  11%|██████▎                                                  | 20/180 [01:34<13:54,  5.22s/it]"
     ]
    },
    {
     "name": "stdout",
     "output_type": "stream",
     "text": [
      "Success for img(1017)_r.png:\n",
      "Testing 0 img(1017)_r\n",
      "\n"
     ]
    },
    {
     "name": "stderr",
     "output_type": "stream",
     "text": [
      "Processing test inputs:  12%|██████▉                                                  | 22/180 [01:40<11:09,  4.23s/it]"
     ]
    },
    {
     "name": "stdout",
     "output_type": "stream",
     "text": [
      "Success for img(1018)_b.png:\n",
      "Testing 0 img(1018)_b\n",
      "\n"
     ]
    },
    {
     "name": "stderr",
     "output_type": "stream",
     "text": [
      "Processing test inputs:  13%|███████▎                                                 | 23/180 [01:46<12:05,  4.62s/it]"
     ]
    },
    {
     "name": "stdout",
     "output_type": "stream",
     "text": [
      "Success for img(1018)_g.png:\n",
      "Testing 0 img(1018)_g\n",
      "\n"
     ]
    },
    {
     "name": "stderr",
     "output_type": "stream",
     "text": [
      "Processing test inputs:  13%|███████▌                                                 | 24/180 [01:52<12:50,  4.94s/it]"
     ]
    },
    {
     "name": "stdout",
     "output_type": "stream",
     "text": [
      "Success for img(1018)_n.png:\n",
      "Testing 0 img(1018)_n\n",
      "\n"
     ]
    },
    {
     "name": "stderr",
     "output_type": "stream",
     "text": [
      "Processing test inputs:  14%|███████▉                                                 | 25/180 [01:58<13:24,  5.19s/it]"
     ]
    },
    {
     "name": "stdout",
     "output_type": "stream",
     "text": [
      "Success for img(1018)_r.png:\n",
      "Testing 0 img(1018)_r\n",
      "\n"
     ]
    },
    {
     "name": "stderr",
     "output_type": "stream",
     "text": [
      "Processing test inputs:  15%|████████▌                                                | 27/180 [02:04<10:47,  4.23s/it]"
     ]
    },
    {
     "name": "stdout",
     "output_type": "stream",
     "text": [
      "Success for img(1019)_b.png:\n",
      "Testing 0 img(1019)_b\n",
      "\n"
     ]
    },
    {
     "name": "stderr",
     "output_type": "stream",
     "text": [
      "Processing test inputs:  16%|████████▊                                                | 28/180 [02:10<11:42,  4.62s/it]"
     ]
    },
    {
     "name": "stdout",
     "output_type": "stream",
     "text": [
      "Success for img(1019)_g.png:\n",
      "Testing 0 img(1019)_g\n",
      "\n"
     ]
    },
    {
     "name": "stderr",
     "output_type": "stream",
     "text": [
      "Processing test inputs:  16%|█████████▏                                               | 29/180 [02:16<12:26,  4.95s/it]"
     ]
    },
    {
     "name": "stdout",
     "output_type": "stream",
     "text": [
      "Success for img(1019)_n.png:\n",
      "Testing 0 img(1019)_n\n",
      "\n"
     ]
    },
    {
     "name": "stderr",
     "output_type": "stream",
     "text": [
      "Processing test inputs:  17%|█████████▌                                               | 30/180 [02:21<13:00,  5.20s/it]"
     ]
    },
    {
     "name": "stdout",
     "output_type": "stream",
     "text": [
      "Success for img(1019)_r.png:\n",
      "Testing 0 img(1019)_r\n",
      "\n"
     ]
    },
    {
     "name": "stderr",
     "output_type": "stream",
     "text": [
      "Processing test inputs:  18%|██████████▏                                              | 32/180 [02:27<10:26,  4.23s/it]"
     ]
    },
    {
     "name": "stdout",
     "output_type": "stream",
     "text": [
      "Success for img(1020)_b.png:\n",
      "Testing 0 img(1020)_b\n",
      "\n"
     ]
    },
    {
     "name": "stderr",
     "output_type": "stream",
     "text": [
      "Processing test inputs:  18%|██████████▍                                              | 33/180 [02:33<11:19,  4.62s/it]"
     ]
    },
    {
     "name": "stdout",
     "output_type": "stream",
     "text": [
      "Success for img(1020)_g.png:\n",
      "Testing 0 img(1020)_g\n",
      "\n"
     ]
    },
    {
     "name": "stderr",
     "output_type": "stream",
     "text": [
      "Processing test inputs:  19%|██████████▊                                              | 34/180 [02:39<11:59,  4.93s/it]"
     ]
    },
    {
     "name": "stdout",
     "output_type": "stream",
     "text": [
      "Success for img(1020)_n.png:\n",
      "Testing 0 img(1020)_n\n",
      "\n"
     ]
    },
    {
     "name": "stderr",
     "output_type": "stream",
     "text": [
      "Processing test inputs:  19%|███████████                                              | 35/180 [02:45<12:31,  5.18s/it]"
     ]
    },
    {
     "name": "stdout",
     "output_type": "stream",
     "text": [
      "Success for img(1020)_r.png:\n",
      "Testing 0 img(1020)_r\n",
      "\n"
     ]
    },
    {
     "name": "stderr",
     "output_type": "stream",
     "text": [
      "Processing test inputs:  21%|███████████▋                                             | 37/180 [02:51<10:02,  4.22s/it]"
     ]
    },
    {
     "name": "stdout",
     "output_type": "stream",
     "text": [
      "Success for img(1021)_b.png:\n",
      "Testing 0 img(1021)_b\n",
      "\n"
     ]
    },
    {
     "name": "stderr",
     "output_type": "stream",
     "text": [
      "Processing test inputs:  21%|████████████                                             | 38/180 [02:57<10:53,  4.60s/it]"
     ]
    },
    {
     "name": "stdout",
     "output_type": "stream",
     "text": [
      "Success for img(1021)_g.png:\n",
      "Testing 0 img(1021)_g\n",
      "\n"
     ]
    },
    {
     "name": "stderr",
     "output_type": "stream",
     "text": [
      "Processing test inputs:  22%|████████████▎                                            | 39/180 [03:03<11:35,  4.93s/it]"
     ]
    },
    {
     "name": "stdout",
     "output_type": "stream",
     "text": [
      "Success for img(1021)_n.png:\n",
      "Testing 0 img(1021)_n\n",
      "\n"
     ]
    },
    {
     "name": "stderr",
     "output_type": "stream",
     "text": [
      "Processing test inputs:  22%|████████████▋                                            | 40/180 [03:09<12:06,  5.19s/it]"
     ]
    },
    {
     "name": "stdout",
     "output_type": "stream",
     "text": [
      "Success for img(1021)_r.png:\n",
      "Testing 0 img(1021)_r\n",
      "\n"
     ]
    },
    {
     "name": "stderr",
     "output_type": "stream",
     "text": [
      "Processing test inputs:  23%|█████████████▎                                           | 42/180 [03:14<09:42,  4.22s/it]"
     ]
    },
    {
     "name": "stdout",
     "output_type": "stream",
     "text": [
      "Success for img(1022)_b.png:\n",
      "Testing 0 img(1022)_b\n",
      "\n"
     ]
    },
    {
     "name": "stderr",
     "output_type": "stream",
     "text": [
      "Processing test inputs:  24%|█████████████▌                                           | 43/180 [03:20<10:30,  4.61s/it]"
     ]
    },
    {
     "name": "stdout",
     "output_type": "stream",
     "text": [
      "Success for img(1022)_g.png:\n",
      "Testing 0 img(1022)_g\n",
      "\n"
     ]
    },
    {
     "name": "stderr",
     "output_type": "stream",
     "text": [
      "Processing test inputs:  24%|█████████████▉                                           | 44/180 [03:26<11:09,  4.92s/it]"
     ]
    },
    {
     "name": "stdout",
     "output_type": "stream",
     "text": [
      "Success for img(1022)_n.png:\n",
      "Testing 0 img(1022)_n\n",
      "\n"
     ]
    },
    {
     "name": "stderr",
     "output_type": "stream",
     "text": [
      "Processing test inputs:  25%|██████████████▎                                          | 45/180 [03:32<11:39,  5.18s/it]"
     ]
    },
    {
     "name": "stdout",
     "output_type": "stream",
     "text": [
      "Success for img(1022)_r.png:\n",
      "Testing 0 img(1022)_r\n",
      "\n"
     ]
    },
    {
     "name": "stderr",
     "output_type": "stream",
     "text": [
      "Processing test inputs:  26%|██████████████▉                                          | 47/180 [03:38<09:20,  4.21s/it]"
     ]
    },
    {
     "name": "stdout",
     "output_type": "stream",
     "text": [
      "Success for img(1023)_b.png:\n",
      "Testing 0 img(1023)_b\n",
      "\n"
     ]
    },
    {
     "name": "stderr",
     "output_type": "stream",
     "text": [
      "Processing test inputs:  27%|███████████████▏                                         | 48/180 [03:44<10:07,  4.60s/it]"
     ]
    },
    {
     "name": "stdout",
     "output_type": "stream",
     "text": [
      "Success for img(1023)_g.png:\n",
      "Testing 0 img(1023)_g\n",
      "\n"
     ]
    },
    {
     "name": "stderr",
     "output_type": "stream",
     "text": [
      "Processing test inputs:  27%|███████████████▌                                         | 49/180 [03:50<10:46,  4.93s/it]"
     ]
    },
    {
     "name": "stdout",
     "output_type": "stream",
     "text": [
      "Success for img(1023)_n.png:\n",
      "Testing 0 img(1023)_n\n",
      "\n"
     ]
    },
    {
     "name": "stderr",
     "output_type": "stream",
     "text": [
      "Processing test inputs:  28%|███████████████▊                                         | 50/180 [03:56<11:15,  5.20s/it]"
     ]
    },
    {
     "name": "stdout",
     "output_type": "stream",
     "text": [
      "Success for img(1023)_r.png:\n",
      "Testing 0 img(1023)_r\n",
      "\n"
     ]
    },
    {
     "name": "stderr",
     "output_type": "stream",
     "text": [
      "Processing test inputs:  29%|████████████████▍                                        | 52/180 [04:01<08:59,  4.22s/it]"
     ]
    },
    {
     "name": "stdout",
     "output_type": "stream",
     "text": [
      "Success for img(1024)_b.png:\n",
      "Testing 0 img(1024)_b\n",
      "\n"
     ]
    },
    {
     "name": "stderr",
     "output_type": "stream",
     "text": [
      "Processing test inputs:  29%|████████████████▊                                        | 53/180 [04:07<09:45,  4.61s/it]"
     ]
    },
    {
     "name": "stdout",
     "output_type": "stream",
     "text": [
      "Success for img(1024)_g.png:\n",
      "Testing 0 img(1024)_g\n",
      "\n"
     ]
    },
    {
     "name": "stderr",
     "output_type": "stream",
     "text": [
      "Processing test inputs:  30%|█████████████████                                        | 54/180 [04:13<10:21,  4.93s/it]"
     ]
    },
    {
     "name": "stdout",
     "output_type": "stream",
     "text": [
      "Success for img(1024)_n.png:\n",
      "Testing 0 img(1024)_n\n",
      "\n"
     ]
    },
    {
     "name": "stderr",
     "output_type": "stream",
     "text": [
      "Processing test inputs:  31%|█████████████████▍                                       | 55/180 [04:19<10:48,  5.18s/it]"
     ]
    },
    {
     "name": "stdout",
     "output_type": "stream",
     "text": [
      "Success for img(1024)_r.png:\n",
      "Testing 0 img(1024)_r\n",
      "\n"
     ]
    },
    {
     "name": "stderr",
     "output_type": "stream",
     "text": [
      "Processing test inputs:  32%|██████████████████                                       | 57/180 [04:25<08:40,  4.23s/it]"
     ]
    },
    {
     "name": "stdout",
     "output_type": "stream",
     "text": [
      "Success for img(1025)_b.png:\n",
      "Testing 0 img(1025)_b\n",
      "\n"
     ]
    },
    {
     "name": "stderr",
     "output_type": "stream",
     "text": [
      "Processing test inputs:  32%|██████████████████▎                                      | 58/180 [04:31<09:23,  4.62s/it]"
     ]
    },
    {
     "name": "stdout",
     "output_type": "stream",
     "text": [
      "Success for img(1025)_g.png:\n",
      "Testing 0 img(1025)_g\n",
      "\n"
     ]
    },
    {
     "name": "stderr",
     "output_type": "stream",
     "text": [
      "Processing test inputs:  33%|██████████████████▋                                      | 59/180 [04:37<09:58,  4.94s/it]"
     ]
    },
    {
     "name": "stdout",
     "output_type": "stream",
     "text": [
      "Success for img(1025)_n.png:\n",
      "Testing 0 img(1025)_n\n",
      "\n"
     ]
    },
    {
     "name": "stderr",
     "output_type": "stream",
     "text": [
      "Processing test inputs:  33%|███████████████████                                      | 60/180 [04:43<10:24,  5.20s/it]"
     ]
    },
    {
     "name": "stdout",
     "output_type": "stream",
     "text": [
      "Success for img(1025)_r.png:\n",
      "Testing 0 img(1025)_r\n",
      "\n"
     ]
    },
    {
     "name": "stderr",
     "output_type": "stream",
     "text": [
      "Processing test inputs:  34%|███████████████████▋                                     | 62/180 [04:49<08:21,  4.25s/it]"
     ]
    },
    {
     "name": "stdout",
     "output_type": "stream",
     "text": [
      "Success for img(1026)_b.png:\n",
      "Testing 0 img(1026)_b\n",
      "\n"
     ]
    },
    {
     "name": "stderr",
     "output_type": "stream",
     "text": [
      "Processing test inputs:  35%|███████████████████▉                                     | 63/180 [04:55<09:01,  4.63s/it]"
     ]
    },
    {
     "name": "stdout",
     "output_type": "stream",
     "text": [
      "Success for img(1026)_g.png:\n",
      "Testing 0 img(1026)_g\n",
      "\n"
     ]
    },
    {
     "name": "stderr",
     "output_type": "stream",
     "text": [
      "Processing test inputs:  36%|████████████████████▎                                    | 64/180 [05:00<09:34,  4.95s/it]"
     ]
    },
    {
     "name": "stdout",
     "output_type": "stream",
     "text": [
      "Success for img(1026)_n.png:\n",
      "Testing 0 img(1026)_n\n",
      "\n"
     ]
    },
    {
     "name": "stderr",
     "output_type": "stream",
     "text": [
      "Processing test inputs:  36%|████████████████████▌                                    | 65/180 [05:06<09:58,  5.21s/it]"
     ]
    },
    {
     "name": "stdout",
     "output_type": "stream",
     "text": [
      "Success for img(1026)_r.png:\n",
      "Testing 0 img(1026)_r\n",
      "\n"
     ]
    },
    {
     "name": "stderr",
     "output_type": "stream",
     "text": [
      "Processing test inputs:  37%|█████████████████████▏                                   | 67/180 [05:12<07:58,  4.24s/it]"
     ]
    },
    {
     "name": "stdout",
     "output_type": "stream",
     "text": [
      "Success for img(1027)_b.png:\n",
      "Testing 0 img(1027)_b\n",
      "\n"
     ]
    },
    {
     "name": "stderr",
     "output_type": "stream",
     "text": [
      "Processing test inputs:  38%|█████████████████████▌                                   | 68/180 [05:18<08:37,  4.62s/it]"
     ]
    },
    {
     "name": "stdout",
     "output_type": "stream",
     "text": [
      "Success for img(1027)_g.png:\n",
      "Testing 0 img(1027)_g\n",
      "\n"
     ]
    },
    {
     "name": "stderr",
     "output_type": "stream",
     "text": [
      "Processing test inputs:  38%|█████████████████████▊                                   | 69/180 [05:24<09:08,  4.94s/it]"
     ]
    },
    {
     "name": "stdout",
     "output_type": "stream",
     "text": [
      "Success for img(1027)_n.png:\n",
      "Testing 0 img(1027)_n\n",
      "\n"
     ]
    },
    {
     "name": "stderr",
     "output_type": "stream",
     "text": [
      "Processing test inputs:  39%|██████████████████████▏                                  | 70/180 [05:30<09:31,  5.19s/it]"
     ]
    },
    {
     "name": "stdout",
     "output_type": "stream",
     "text": [
      "Success for img(1027)_r.png:\n",
      "Testing 0 img(1027)_r\n",
      "\n"
     ]
    },
    {
     "name": "stderr",
     "output_type": "stream",
     "text": [
      "Processing test inputs:  40%|██████████████████████▊                                  | 72/180 [05:36<07:36,  4.22s/it]"
     ]
    },
    {
     "name": "stdout",
     "output_type": "stream",
     "text": [
      "Success for img(1028)_b.png:\n",
      "Testing 0 img(1028)_b\n",
      "\n"
     ]
    },
    {
     "name": "stderr",
     "output_type": "stream",
     "text": [
      "Processing test inputs:  41%|███████████████████████                                  | 73/180 [05:42<08:13,  4.61s/it]"
     ]
    },
    {
     "name": "stdout",
     "output_type": "stream",
     "text": [
      "Success for img(1028)_g.png:\n",
      "Testing 0 img(1028)_g\n",
      "\n"
     ]
    },
    {
     "name": "stderr",
     "output_type": "stream",
     "text": [
      "Processing test inputs:  41%|███████████████████████▍                                 | 74/180 [05:48<08:41,  4.92s/it]"
     ]
    },
    {
     "name": "stdout",
     "output_type": "stream",
     "text": [
      "Success for img(1028)_n.png:\n",
      "Testing 0 img(1028)_n\n",
      "\n"
     ]
    },
    {
     "name": "stderr",
     "output_type": "stream",
     "text": [
      "Processing test inputs:  42%|███████████████████████▊                                 | 75/180 [05:53<09:03,  5.18s/it]"
     ]
    },
    {
     "name": "stdout",
     "output_type": "stream",
     "text": [
      "Success for img(1028)_r.png:\n",
      "Testing 0 img(1028)_r\n",
      "\n"
     ]
    },
    {
     "name": "stderr",
     "output_type": "stream",
     "text": [
      "Processing test inputs:  43%|████████████████████████▍                                | 77/180 [05:59<07:13,  4.21s/it]"
     ]
    },
    {
     "name": "stdout",
     "output_type": "stream",
     "text": [
      "Success for img(1029)_b.png:\n",
      "Testing 0 img(1029)_b\n",
      "\n"
     ]
    },
    {
     "name": "stderr",
     "output_type": "stream",
     "text": [
      "Processing test inputs:  43%|████████████████████████▋                                | 78/180 [06:05<07:49,  4.60s/it]"
     ]
    },
    {
     "name": "stdout",
     "output_type": "stream",
     "text": [
      "Success for img(1029)_g.png:\n",
      "Testing 0 img(1029)_g\n",
      "\n"
     ]
    },
    {
     "name": "stderr",
     "output_type": "stream",
     "text": [
      "Processing test inputs:  44%|█████████████████████████                                | 79/180 [06:11<08:17,  4.93s/it]"
     ]
    },
    {
     "name": "stdout",
     "output_type": "stream",
     "text": [
      "Success for img(1029)_n.png:\n",
      "Testing 0 img(1029)_n\n",
      "\n"
     ]
    },
    {
     "name": "stderr",
     "output_type": "stream",
     "text": [
      "Processing test inputs:  44%|█████████████████████████▎                               | 80/180 [06:17<08:47,  5.28s/it]"
     ]
    },
    {
     "name": "stdout",
     "output_type": "stream",
     "text": [
      "Success for img(1029)_r.png:\n",
      "Testing 0 img(1029)_r\n",
      "\n"
     ]
    },
    {
     "name": "stderr",
     "output_type": "stream",
     "text": [
      "Processing test inputs:  46%|█████████████████████████▉                               | 82/180 [06:23<06:58,  4.27s/it]"
     ]
    },
    {
     "name": "stdout",
     "output_type": "stream",
     "text": [
      "Success for img(1030)_b.png:\n",
      "Testing 0 img(1030)_b\n",
      "\n"
     ]
    },
    {
     "name": "stderr",
     "output_type": "stream",
     "text": [
      "Processing test inputs:  46%|██████████████████████████▎                              | 83/180 [06:29<07:30,  4.64s/it]"
     ]
    },
    {
     "name": "stdout",
     "output_type": "stream",
     "text": [
      "Success for img(1030)_g.png:\n",
      "Testing 0 img(1030)_g\n",
      "\n"
     ]
    },
    {
     "name": "stderr",
     "output_type": "stream",
     "text": [
      "Processing test inputs:  47%|██████████████████████████▌                              | 84/180 [06:35<07:55,  4.95s/it]"
     ]
    },
    {
     "name": "stdout",
     "output_type": "stream",
     "text": [
      "Success for img(1030)_n.png:\n",
      "Testing 0 img(1030)_n\n",
      "\n"
     ]
    },
    {
     "name": "stderr",
     "output_type": "stream",
     "text": [
      "Processing test inputs:  47%|██████████████████████████▉                              | 85/180 [06:41<08:13,  5.20s/it]"
     ]
    },
    {
     "name": "stdout",
     "output_type": "stream",
     "text": [
      "Success for img(1030)_r.png:\n",
      "Testing 0 img(1030)_r\n",
      "\n"
     ]
    },
    {
     "name": "stderr",
     "output_type": "stream",
     "text": [
      "Processing test inputs:  48%|███████████████████████████▌                             | 87/180 [06:47<06:32,  4.22s/it]"
     ]
    },
    {
     "name": "stdout",
     "output_type": "stream",
     "text": [
      "Success for img(1031)_b.png:\n",
      "Testing 0 img(1031)_b\n",
      "\n"
     ]
    },
    {
     "name": "stderr",
     "output_type": "stream",
     "text": [
      "Processing test inputs:  49%|███████████████████████████▊                             | 88/180 [06:53<07:05,  4.62s/it]"
     ]
    },
    {
     "name": "stdout",
     "output_type": "stream",
     "text": [
      "Success for img(1031)_g.png:\n",
      "Testing 0 img(1031)_g\n",
      "\n"
     ]
    },
    {
     "name": "stderr",
     "output_type": "stream",
     "text": [
      "Processing test inputs:  49%|████████████████████████████▏                            | 89/180 [06:58<07:29,  4.94s/it]"
     ]
    },
    {
     "name": "stdout",
     "output_type": "stream",
     "text": [
      "Success for img(1031)_n.png:\n",
      "Testing 0 img(1031)_n\n",
      "\n"
     ]
    },
    {
     "name": "stderr",
     "output_type": "stream",
     "text": [
      "Processing test inputs:  50%|████████████████████████████▌                            | 90/180 [07:04<07:48,  5.20s/it]"
     ]
    },
    {
     "name": "stdout",
     "output_type": "stream",
     "text": [
      "Success for img(1031)_r.png:\n",
      "Testing 0 img(1031)_r\n",
      "\n"
     ]
    },
    {
     "name": "stderr",
     "output_type": "stream",
     "text": [
      "Processing test inputs:  51%|█████████████████████████████▏                           | 92/180 [07:10<06:11,  4.23s/it]"
     ]
    },
    {
     "name": "stdout",
     "output_type": "stream",
     "text": [
      "Success for img(1032)_b.png:\n",
      "Testing 0 img(1032)_b\n",
      "\n"
     ]
    },
    {
     "name": "stderr",
     "output_type": "stream",
     "text": [
      "Processing test inputs:  52%|█████████████████████████████▍                           | 93/180 [07:16<06:40,  4.60s/it]"
     ]
    },
    {
     "name": "stdout",
     "output_type": "stream",
     "text": [
      "Success for img(1032)_g.png:\n",
      "Testing 0 img(1032)_g\n",
      "\n"
     ]
    },
    {
     "name": "stderr",
     "output_type": "stream",
     "text": [
      "Processing test inputs:  52%|█████████████████████████████▊                           | 94/180 [07:22<07:03,  4.92s/it]"
     ]
    },
    {
     "name": "stdout",
     "output_type": "stream",
     "text": [
      "Success for img(1032)_n.png:\n",
      "Testing 0 img(1032)_n\n",
      "\n"
     ]
    },
    {
     "name": "stderr",
     "output_type": "stream",
     "text": [
      "Processing test inputs:  53%|██████████████████████████████                           | 95/180 [07:28<07:19,  5.17s/it]"
     ]
    },
    {
     "name": "stdout",
     "output_type": "stream",
     "text": [
      "Success for img(1032)_r.png:\n",
      "Testing 0 img(1032)_r\n",
      "\n"
     ]
    },
    {
     "name": "stderr",
     "output_type": "stream",
     "text": [
      "Processing test inputs:  54%|██████████████████████████████▋                          | 97/180 [07:34<05:49,  4.21s/it]"
     ]
    },
    {
     "name": "stdout",
     "output_type": "stream",
     "text": [
      "Success for img(11)_b.png:\n",
      "Testing 0 img(11)_b\n",
      "\n"
     ]
    },
    {
     "name": "stderr",
     "output_type": "stream",
     "text": [
      "Processing test inputs:  54%|███████████████████████████████                          | 98/180 [07:40<06:34,  4.81s/it]"
     ]
    },
    {
     "name": "stdout",
     "output_type": "stream",
     "text": [
      "Success for img(11)_g.png:\n",
      "Testing 0 img(11)_g\n",
      "\n"
     ]
    },
    {
     "name": "stderr",
     "output_type": "stream",
     "text": [
      "Processing test inputs:  55%|███████████████████████████████▎                         | 99/180 [07:46<06:51,  5.08s/it]"
     ]
    },
    {
     "name": "stdout",
     "output_type": "stream",
     "text": [
      "Success for img(11)_n.png:\n",
      "Testing 0 img(11)_n\n",
      "\n"
     ]
    },
    {
     "name": "stderr",
     "output_type": "stream",
     "text": [
      "Processing test inputs:  56%|███████████████████████████████                         | 100/180 [07:52<07:03,  5.30s/it]"
     ]
    },
    {
     "name": "stdout",
     "output_type": "stream",
     "text": [
      "Success for img(11)_r.png:\n",
      "Testing 0 img(11)_r\n",
      "\n"
     ]
    },
    {
     "name": "stderr",
     "output_type": "stream",
     "text": [
      "Processing test inputs:  57%|███████████████████████████████▋                        | 102/180 [07:58<05:34,  4.29s/it]"
     ]
    },
    {
     "name": "stdout",
     "output_type": "stream",
     "text": [
      "Success for img(12)_b.png:\n",
      "Testing 0 img(12)_b\n",
      "\n"
     ]
    },
    {
     "name": "stderr",
     "output_type": "stream",
     "text": [
      "Processing test inputs:  57%|████████████████████████████████                        | 103/180 [08:04<05:57,  4.64s/it]"
     ]
    },
    {
     "name": "stdout",
     "output_type": "stream",
     "text": [
      "Success for img(12)_g.png:\n",
      "Testing 0 img(12)_g\n",
      "\n"
     ]
    },
    {
     "name": "stderr",
     "output_type": "stream",
     "text": [
      "Processing test inputs:  58%|████████████████████████████████▎                       | 104/180 [08:10<06:15,  4.94s/it]"
     ]
    },
    {
     "name": "stdout",
     "output_type": "stream",
     "text": [
      "Success for img(12)_n.png:\n",
      "Testing 0 img(12)_n\n",
      "\n"
     ]
    },
    {
     "name": "stderr",
     "output_type": "stream",
     "text": [
      "Processing test inputs:  58%|████████████████████████████████▋                       | 105/180 [08:16<06:30,  5.20s/it]"
     ]
    },
    {
     "name": "stdout",
     "output_type": "stream",
     "text": [
      "Success for img(12)_r.png:\n",
      "Testing 0 img(12)_r\n",
      "\n"
     ]
    },
    {
     "name": "stderr",
     "output_type": "stream",
     "text": [
      "Processing test inputs:  59%|█████████████████████████████████▎                      | 107/180 [08:22<05:09,  4.23s/it]"
     ]
    },
    {
     "name": "stdout",
     "output_type": "stream",
     "text": [
      "Success for img(13)_b.png:\n",
      "Testing 0 img(13)_b\n",
      "\n"
     ]
    },
    {
     "name": "stderr",
     "output_type": "stream",
     "text": [
      "Processing test inputs:  60%|█████████████████████████████████▌                      | 108/180 [08:27<05:32,  4.62s/it]"
     ]
    },
    {
     "name": "stdout",
     "output_type": "stream",
     "text": [
      "Success for img(13)_g.png:\n",
      "Testing 0 img(13)_g\n",
      "\n"
     ]
    },
    {
     "name": "stderr",
     "output_type": "stream",
     "text": [
      "Processing test inputs:  61%|█████████████████████████████████▉                      | 109/180 [08:33<05:51,  4.95s/it]"
     ]
    },
    {
     "name": "stdout",
     "output_type": "stream",
     "text": [
      "Success for img(13)_n.png:\n",
      "Testing 0 img(13)_n\n",
      "\n"
     ]
    },
    {
     "name": "stderr",
     "output_type": "stream",
     "text": [
      "Processing test inputs:  61%|██████████████████████████████████▏                     | 110/180 [08:39<06:03,  5.19s/it]"
     ]
    },
    {
     "name": "stdout",
     "output_type": "stream",
     "text": [
      "Success for img(13)_r.png:\n",
      "Testing 0 img(13)_r\n",
      "\n"
     ]
    },
    {
     "name": "stderr",
     "output_type": "stream",
     "text": [
      "Processing test inputs:  62%|██████████████████████████████████▊                     | 112/180 [08:45<04:48,  4.24s/it]"
     ]
    },
    {
     "name": "stdout",
     "output_type": "stream",
     "text": [
      "Success for img(14)_b.png:\n",
      "Testing 0 img(14)_b\n",
      "\n"
     ]
    },
    {
     "name": "stderr",
     "output_type": "stream",
     "text": [
      "Processing test inputs:  63%|███████████████████████████████████▏                    | 113/180 [08:51<05:09,  4.62s/it]"
     ]
    },
    {
     "name": "stdout",
     "output_type": "stream",
     "text": [
      "Success for img(14)_g.png:\n",
      "Testing 0 img(14)_g\n",
      "\n"
     ]
    },
    {
     "name": "stderr",
     "output_type": "stream",
     "text": [
      "Processing test inputs:  63%|███████████████████████████████████▍                    | 114/180 [08:57<05:25,  4.94s/it]"
     ]
    },
    {
     "name": "stdout",
     "output_type": "stream",
     "text": [
      "Success for img(14)_n.png:\n",
      "Testing 0 img(14)_n\n",
      "\n"
     ]
    },
    {
     "name": "stderr",
     "output_type": "stream",
     "text": [
      "Processing test inputs:  64%|███████████████████████████████████▊                    | 115/180 [09:03<05:37,  5.19s/it]"
     ]
    },
    {
     "name": "stdout",
     "output_type": "stream",
     "text": [
      "Success for img(14)_r.png:\n",
      "Testing 0 img(14)_r\n",
      "\n"
     ]
    },
    {
     "name": "stderr",
     "output_type": "stream",
     "text": [
      "Processing test inputs:  65%|████████████████████████████████████▍                   | 117/180 [09:09<04:25,  4.22s/it]"
     ]
    },
    {
     "name": "stdout",
     "output_type": "stream",
     "text": [
      "Success for img(15)_b.png:\n",
      "Testing 0 img(15)_b\n",
      "\n"
     ]
    },
    {
     "name": "stderr",
     "output_type": "stream",
     "text": [
      "Processing test inputs:  66%|████████████████████████████████████▋                   | 118/180 [09:15<04:45,  4.61s/it]"
     ]
    },
    {
     "name": "stdout",
     "output_type": "stream",
     "text": [
      "Success for img(15)_g.png:\n",
      "Testing 0 img(15)_g\n",
      "\n"
     ]
    },
    {
     "name": "stderr",
     "output_type": "stream",
     "text": [
      "Processing test inputs:  66%|█████████████████████████████████████                   | 119/180 [09:21<05:01,  4.94s/it]"
     ]
    },
    {
     "name": "stdout",
     "output_type": "stream",
     "text": [
      "Success for img(15)_n.png:\n",
      "Testing 0 img(15)_n\n",
      "\n"
     ]
    },
    {
     "name": "stderr",
     "output_type": "stream",
     "text": [
      "Processing test inputs:  67%|█████████████████████████████████████▎                  | 120/180 [09:26<05:11,  5.19s/it]"
     ]
    },
    {
     "name": "stdout",
     "output_type": "stream",
     "text": [
      "Success for img(15)_r.png:\n",
      "Testing 0 img(15)_r\n",
      "\n"
     ]
    },
    {
     "name": "stderr",
     "output_type": "stream",
     "text": [
      "Processing test inputs:  68%|█████████████████████████████████████▉                  | 122/180 [09:32<04:04,  4.22s/it]"
     ]
    },
    {
     "name": "stdout",
     "output_type": "stream",
     "text": [
      "Success for img(16)_b.png:\n",
      "Testing 0 img(16)_b\n",
      "\n"
     ]
    },
    {
     "name": "stderr",
     "output_type": "stream",
     "text": [
      "Processing test inputs:  68%|██████████████████████████████████████▎                 | 123/180 [09:38<04:23,  4.62s/it]"
     ]
    },
    {
     "name": "stdout",
     "output_type": "stream",
     "text": [
      "Success for img(16)_g.png:\n",
      "Testing 0 img(16)_g\n",
      "\n"
     ]
    },
    {
     "name": "stderr",
     "output_type": "stream",
     "text": [
      "Processing test inputs:  69%|██████████████████████████████████████▌                 | 124/180 [09:44<04:35,  4.93s/it]"
     ]
    },
    {
     "name": "stdout",
     "output_type": "stream",
     "text": [
      "Success for img(16)_n.png:\n",
      "Testing 0 img(16)_n\n",
      "\n"
     ]
    },
    {
     "name": "stderr",
     "output_type": "stream",
     "text": [
      "Processing test inputs:  69%|██████████████████████████████████████▉                 | 125/180 [09:50<04:44,  5.18s/it]"
     ]
    },
    {
     "name": "stdout",
     "output_type": "stream",
     "text": [
      "Success for img(16)_r.png:\n",
      "Testing 0 img(16)_r\n",
      "\n"
     ]
    },
    {
     "name": "stderr",
     "output_type": "stream",
     "text": [
      "Processing test inputs:  71%|███████████████████████████████████████▌                | 127/180 [09:56<03:43,  4.22s/it]"
     ]
    },
    {
     "name": "stdout",
     "output_type": "stream",
     "text": [
      "Success for img(17)_b.png:\n",
      "Testing 0 img(17)_b\n",
      "\n"
     ]
    },
    {
     "name": "stderr",
     "output_type": "stream",
     "text": [
      "Processing test inputs:  71%|███████████████████████████████████████▊                | 128/180 [10:02<03:59,  4.61s/it]"
     ]
    },
    {
     "name": "stdout",
     "output_type": "stream",
     "text": [
      "Success for img(17)_g.png:\n",
      "Testing 0 img(17)_g\n",
      "\n"
     ]
    },
    {
     "name": "stderr",
     "output_type": "stream",
     "text": [
      "Processing test inputs:  72%|████████████████████████████████████████▏               | 129/180 [10:08<04:12,  4.96s/it]"
     ]
    },
    {
     "name": "stdout",
     "output_type": "stream",
     "text": [
      "Success for img(17)_n.png:\n",
      "Testing 0 img(17)_n\n",
      "\n"
     ]
    },
    {
     "name": "stderr",
     "output_type": "stream",
     "text": [
      "Processing test inputs:  72%|████████████████████████████████████████▍               | 130/180 [10:14<04:20,  5.22s/it]"
     ]
    },
    {
     "name": "stdout",
     "output_type": "stream",
     "text": [
      "Success for img(17)_r.png:\n",
      "Testing 0 img(17)_r\n",
      "\n"
     ]
    },
    {
     "name": "stderr",
     "output_type": "stream",
     "text": [
      "Processing test inputs:  73%|█████████████████████████████████████████               | 132/180 [10:20<03:23,  4.25s/it]"
     ]
    },
    {
     "name": "stdout",
     "output_type": "stream",
     "text": [
      "Success for img(18)_b.png:\n",
      "Testing 0 img(18)_b\n",
      "\n"
     ]
    },
    {
     "name": "stderr",
     "output_type": "stream",
     "text": [
      "Processing test inputs:  74%|█████████████████████████████████████████▍              | 133/180 [10:25<03:37,  4.63s/it]"
     ]
    },
    {
     "name": "stdout",
     "output_type": "stream",
     "text": [
      "Success for img(18)_g.png:\n",
      "Testing 0 img(18)_g\n",
      "\n"
     ]
    },
    {
     "name": "stderr",
     "output_type": "stream",
     "text": [
      "Processing test inputs:  74%|█████████████████████████████████████████▋              | 134/180 [10:31<03:47,  4.95s/it]"
     ]
    },
    {
     "name": "stdout",
     "output_type": "stream",
     "text": [
      "Success for img(18)_n.png:\n",
      "Testing 0 img(18)_n\n",
      "\n"
     ]
    },
    {
     "name": "stderr",
     "output_type": "stream",
     "text": [
      "Processing test inputs:  75%|██████████████████████████████████████████              | 135/180 [10:37<03:53,  5.19s/it]"
     ]
    },
    {
     "name": "stdout",
     "output_type": "stream",
     "text": [
      "Success for img(18)_r.png:\n",
      "Testing 0 img(18)_r\n",
      "\n"
     ]
    },
    {
     "name": "stderr",
     "output_type": "stream",
     "text": [
      "Processing test inputs:  76%|██████████████████████████████████████████▌             | 137/180 [10:43<03:01,  4.23s/it]"
     ]
    },
    {
     "name": "stdout",
     "output_type": "stream",
     "text": [
      "Success for img(19)_b.png:\n",
      "Testing 0 img(19)_b\n",
      "\n"
     ]
    },
    {
     "name": "stderr",
     "output_type": "stream",
     "text": [
      "Processing test inputs:  77%|██████████████████████████████████████████▉             | 138/180 [10:49<03:14,  4.63s/it]"
     ]
    },
    {
     "name": "stdout",
     "output_type": "stream",
     "text": [
      "Success for img(19)_g.png:\n",
      "Testing 0 img(19)_g\n",
      "\n"
     ]
    },
    {
     "name": "stderr",
     "output_type": "stream",
     "text": [
      "Processing test inputs:  77%|███████████████████████████████████████████▏            | 139/180 [10:55<03:22,  4.94s/it]"
     ]
    },
    {
     "name": "stdout",
     "output_type": "stream",
     "text": [
      "Success for img(19)_n.png:\n",
      "Testing 0 img(19)_n\n",
      "\n"
     ]
    },
    {
     "name": "stderr",
     "output_type": "stream",
     "text": [
      "Processing test inputs:  78%|███████████████████████████████████████████▌            | 140/180 [11:01<03:27,  5.19s/it]"
     ]
    },
    {
     "name": "stdout",
     "output_type": "stream",
     "text": [
      "Success for img(19)_r.png:\n",
      "Testing 0 img(19)_r\n",
      "\n"
     ]
    },
    {
     "name": "stderr",
     "output_type": "stream",
     "text": [
      "Processing test inputs:  79%|████████████████████████████████████████████▏           | 142/180 [11:07<02:40,  4.22s/it]"
     ]
    },
    {
     "name": "stdout",
     "output_type": "stream",
     "text": [
      "Success for img(2)_b.png:\n",
      "Testing 0 img(2)_b\n",
      "\n"
     ]
    },
    {
     "name": "stderr",
     "output_type": "stream",
     "text": [
      "Processing test inputs:  79%|████████████████████████████████████████████▍           | 143/180 [11:13<02:50,  4.61s/it]"
     ]
    },
    {
     "name": "stdout",
     "output_type": "stream",
     "text": [
      "Success for img(2)_g.png:\n",
      "Testing 0 img(2)_g\n",
      "\n"
     ]
    },
    {
     "name": "stderr",
     "output_type": "stream",
     "text": [
      "Processing test inputs:  80%|████████████████████████████████████████████▊           | 144/180 [11:19<02:57,  4.94s/it]"
     ]
    },
    {
     "name": "stdout",
     "output_type": "stream",
     "text": [
      "Success for img(2)_n.png:\n",
      "Testing 0 img(2)_n\n",
      "\n"
     ]
    },
    {
     "name": "stderr",
     "output_type": "stream",
     "text": [
      "Processing test inputs:  81%|█████████████████████████████████████████████           | 145/180 [11:25<03:04,  5.28s/it]"
     ]
    },
    {
     "name": "stdout",
     "output_type": "stream",
     "text": [
      "Success for img(2)_r.png:\n",
      "Testing 0 img(2)_r\n",
      "\n"
     ]
    },
    {
     "name": "stderr",
     "output_type": "stream",
     "text": [
      "Processing test inputs:  82%|█████████████████████████████████████████████▋          | 147/180 [11:31<02:21,  4.29s/it]"
     ]
    },
    {
     "name": "stdout",
     "output_type": "stream",
     "text": [
      "Success for img(3)_b.png:\n",
      "Testing 0 img(3)_b\n",
      "\n"
     ]
    },
    {
     "name": "stderr",
     "output_type": "stream",
     "text": [
      "Processing test inputs:  82%|██████████████████████████████████████████████          | 148/180 [11:37<02:29,  4.67s/it]"
     ]
    },
    {
     "name": "stdout",
     "output_type": "stream",
     "text": [
      "Success for img(3)_g.png:\n",
      "Testing 0 img(3)_g\n",
      "\n"
     ]
    },
    {
     "name": "stderr",
     "output_type": "stream",
     "text": [
      "Processing test inputs:  83%|██████████████████████████████████████████████▎         | 149/180 [11:42<02:34,  4.97s/it]"
     ]
    },
    {
     "name": "stdout",
     "output_type": "stream",
     "text": [
      "Success for img(3)_n.png:\n",
      "Testing 0 img(3)_n\n",
      "\n"
     ]
    },
    {
     "name": "stderr",
     "output_type": "stream",
     "text": [
      "Processing test inputs:  83%|██████████████████████████████████████████████▋         | 150/180 [11:48<02:36,  5.22s/it]"
     ]
    },
    {
     "name": "stdout",
     "output_type": "stream",
     "text": [
      "Success for img(3)_r.png:\n",
      "Testing 0 img(3)_r\n",
      "\n"
     ]
    },
    {
     "name": "stderr",
     "output_type": "stream",
     "text": [
      "Processing test inputs:  84%|███████████████████████████████████████████████▎        | 152/180 [11:54<01:58,  4.23s/it]"
     ]
    },
    {
     "name": "stdout",
     "output_type": "stream",
     "text": [
      "Success for img(4)_b.png:\n",
      "Testing 0 img(4)_b\n",
      "\n"
     ]
    },
    {
     "name": "stderr",
     "output_type": "stream",
     "text": [
      "Processing test inputs:  85%|███████████████████████████████████████████████▌        | 153/180 [12:00<02:04,  4.60s/it]"
     ]
    },
    {
     "name": "stdout",
     "output_type": "stream",
     "text": [
      "Success for img(4)_g.png:\n",
      "Testing 0 img(4)_g\n",
      "\n"
     ]
    },
    {
     "name": "stderr",
     "output_type": "stream",
     "text": [
      "Processing test inputs:  86%|███████████████████████████████████████████████▉        | 154/180 [12:06<02:07,  4.92s/it]"
     ]
    },
    {
     "name": "stdout",
     "output_type": "stream",
     "text": [
      "Success for img(4)_n.png:\n",
      "Testing 0 img(4)_n\n",
      "\n"
     ]
    },
    {
     "name": "stderr",
     "output_type": "stream",
     "text": [
      "Processing test inputs:  86%|████████████████████████████████████████████████▏       | 155/180 [12:12<02:09,  5.19s/it]"
     ]
    },
    {
     "name": "stdout",
     "output_type": "stream",
     "text": [
      "Success for img(4)_r.png:\n",
      "Testing 0 img(4)_r\n",
      "\n"
     ]
    },
    {
     "name": "stderr",
     "output_type": "stream",
     "text": [
      "Processing test inputs:  87%|████████████████████████████████████████████████▊       | 157/180 [12:18<01:37,  4.22s/it]"
     ]
    },
    {
     "name": "stdout",
     "output_type": "stream",
     "text": [
      "Success for img(5)_b.png:\n",
      "Testing 0 img(5)_b\n",
      "\n"
     ]
    },
    {
     "name": "stderr",
     "output_type": "stream",
     "text": [
      "Processing test inputs:  88%|█████████████████████████████████████████████████▏      | 158/180 [12:25<01:46,  4.83s/it]"
     ]
    },
    {
     "name": "stdout",
     "output_type": "stream",
     "text": [
      "Success for img(5)_g.png:\n",
      "Testing 0 img(5)_g\n",
      "\n"
     ]
    },
    {
     "name": "stderr",
     "output_type": "stream",
     "text": [
      "Processing test inputs:  88%|█████████████████████████████████████████████████▍      | 159/180 [12:31<01:47,  5.14s/it]"
     ]
    },
    {
     "name": "stdout",
     "output_type": "stream",
     "text": [
      "Success for img(5)_n.png:\n",
      "Testing 0 img(5)_n\n",
      "\n"
     ]
    },
    {
     "name": "stderr",
     "output_type": "stream",
     "text": [
      "Processing test inputs:  89%|█████████████████████████████████████████████████▊      | 160/180 [12:37<01:47,  5.37s/it]"
     ]
    },
    {
     "name": "stdout",
     "output_type": "stream",
     "text": [
      "Success for img(5)_r.png:\n",
      "Testing 0 img(5)_r\n",
      "\n"
     ]
    },
    {
     "name": "stderr",
     "output_type": "stream",
     "text": [
      "Processing test inputs:  90%|██████████████████████████████████████████████████▍     | 162/180 [12:43<01:18,  4.33s/it]"
     ]
    },
    {
     "name": "stdout",
     "output_type": "stream",
     "text": [
      "Success for img(6)_b.png:\n",
      "Testing 0 img(6)_b\n",
      "\n"
     ]
    },
    {
     "name": "stderr",
     "output_type": "stream",
     "text": [
      "Processing test inputs:  91%|██████████████████████████████████████████████████▋     | 163/180 [12:48<01:19,  4.69s/it]"
     ]
    },
    {
     "name": "stdout",
     "output_type": "stream",
     "text": [
      "Success for img(6)_g.png:\n",
      "Testing 0 img(6)_g\n",
      "\n"
     ]
    },
    {
     "name": "stderr",
     "output_type": "stream",
     "text": [
      "Processing test inputs:  91%|███████████████████████████████████████████████████     | 164/180 [12:54<01:19,  4.99s/it]"
     ]
    },
    {
     "name": "stdout",
     "output_type": "stream",
     "text": [
      "Success for img(6)_n.png:\n",
      "Testing 0 img(6)_n\n",
      "\n"
     ]
    },
    {
     "name": "stderr",
     "output_type": "stream",
     "text": [
      "Processing test inputs:  92%|███████████████████████████████████████████████████▎    | 165/180 [13:00<01:18,  5.22s/it]"
     ]
    },
    {
     "name": "stdout",
     "output_type": "stream",
     "text": [
      "Success for img(6)_r.png:\n",
      "Testing 0 img(6)_r\n",
      "\n"
     ]
    },
    {
     "name": "stderr",
     "output_type": "stream",
     "text": [
      "Processing test inputs:  93%|███████████████████████████████████████████████████▉    | 167/180 [13:06<00:55,  4.24s/it]"
     ]
    },
    {
     "name": "stdout",
     "output_type": "stream",
     "text": [
      "Success for img(7)_b.png:\n",
      "Testing 0 img(7)_b\n",
      "\n"
     ]
    },
    {
     "name": "stderr",
     "output_type": "stream",
     "text": [
      "Processing test inputs:  93%|████████████████████████████████████████████████████▎   | 168/180 [13:12<00:55,  4.63s/it]"
     ]
    },
    {
     "name": "stdout",
     "output_type": "stream",
     "text": [
      "Success for img(7)_g.png:\n",
      "Testing 0 img(7)_g\n",
      "\n"
     ]
    },
    {
     "name": "stderr",
     "output_type": "stream",
     "text": [
      "Processing test inputs:  94%|████████████████████████████████████████████████████▌   | 169/180 [13:18<00:54,  4.94s/it]"
     ]
    },
    {
     "name": "stdout",
     "output_type": "stream",
     "text": [
      "Success for img(7)_n.png:\n",
      "Testing 0 img(7)_n\n",
      "\n"
     ]
    },
    {
     "name": "stderr",
     "output_type": "stream",
     "text": [
      "Processing test inputs:  94%|████████████████████████████████████████████████████▉   | 170/180 [13:24<00:51,  5.19s/it]"
     ]
    },
    {
     "name": "stdout",
     "output_type": "stream",
     "text": [
      "Success for img(7)_r.png:\n",
      "Testing 0 img(7)_r\n",
      "\n"
     ]
    },
    {
     "name": "stderr",
     "output_type": "stream",
     "text": [
      "Processing test inputs:  96%|█████████████████████████████████████████████████████▌  | 172/180 [13:29<00:33,  4.22s/it]"
     ]
    },
    {
     "name": "stdout",
     "output_type": "stream",
     "text": [
      "Success for img(8)_b.png:\n",
      "Testing 0 img(8)_b\n",
      "\n"
     ]
    },
    {
     "name": "stderr",
     "output_type": "stream",
     "text": [
      "Processing test inputs:  96%|█████████████████████████████████████████████████████▊  | 173/180 [13:35<00:32,  4.61s/it]"
     ]
    },
    {
     "name": "stdout",
     "output_type": "stream",
     "text": [
      "Success for img(8)_g.png:\n",
      "Testing 0 img(8)_g\n",
      "\n"
     ]
    },
    {
     "name": "stderr",
     "output_type": "stream",
     "text": [
      "Processing test inputs:  97%|██████████████████████████████████████████████████████▏ | 174/180 [13:41<00:29,  4.94s/it]"
     ]
    },
    {
     "name": "stdout",
     "output_type": "stream",
     "text": [
      "Success for img(8)_n.png:\n",
      "Testing 0 img(8)_n\n",
      "\n"
     ]
    },
    {
     "name": "stderr",
     "output_type": "stream",
     "text": [
      "Processing test inputs:  97%|██████████████████████████████████████████████████████▍ | 175/180 [13:47<00:25,  5.18s/it]"
     ]
    },
    {
     "name": "stdout",
     "output_type": "stream",
     "text": [
      "Success for img(8)_r.png:\n",
      "Testing 0 img(8)_r\n",
      "\n"
     ]
    },
    {
     "name": "stderr",
     "output_type": "stream",
     "text": [
      "Processing test inputs:  98%|███████████████████████████████████████████████████████ | 177/180 [13:53<00:12,  4.21s/it]"
     ]
    },
    {
     "name": "stdout",
     "output_type": "stream",
     "text": [
      "Success for img(9)_b.png:\n",
      "Testing 0 img(9)_b\n",
      "\n"
     ]
    },
    {
     "name": "stderr",
     "output_type": "stream",
     "text": [
      "Processing test inputs:  99%|███████████████████████████████████████████████████████▍| 178/180 [13:59<00:09,  4.60s/it]"
     ]
    },
    {
     "name": "stdout",
     "output_type": "stream",
     "text": [
      "Success for img(9)_g.png:\n",
      "Testing 0 img(9)_g\n",
      "\n"
     ]
    },
    {
     "name": "stderr",
     "output_type": "stream",
     "text": [
      "Processing test inputs:  99%|███████████████████████████████████████████████████████▋| 179/180 [14:05<00:04,  4.91s/it]"
     ]
    },
    {
     "name": "stdout",
     "output_type": "stream",
     "text": [
      "Success for img(9)_n.png:\n",
      "Testing 0 img(9)_n\n",
      "\n"
     ]
    },
    {
     "name": "stderr",
     "output_type": "stream",
     "text": [
      "Processing test inputs: 100%|████████████████████████████████████████████████████████| 180/180 [14:11<00:00,  4.73s/it]"
     ]
    },
    {
     "name": "stdout",
     "output_type": "stream",
     "text": [
      "Success for img(9)_r.png:\n",
      "Testing 0 img(9)_r\n",
      "\n"
     ]
    },
    {
     "name": "stderr",
     "output_type": "stream",
     "text": [
      "\n"
     ]
    }
   ],
   "source": [
    "data_root = \"../data\"\n",
    "results_root = \"../results_x4/\"\n",
    "model_name = \"RealESRGAN_x4plus\"\n",
    "\n",
    "# Ensure results directories exist\n",
    "os.makedirs(results_root, exist_ok=True)\n",
    "\n",
    "# Loop through train, val, and test directories\n",
    "for phase in [\"train\", \"val\", \"test\"]:\n",
    "    input_dir = os.path.join(data_root, phase, \"input\")\n",
    "    output_dir = os.path.join(results_root, phase, \"input\")\n",
    "    os.makedirs(output_dir, exist_ok=True)\n",
    "\n",
    "    # Process all PNG images in the input folder\n",
    "    for file_name in tqdm(os.listdir(input_dir), desc=f\"Processing {phase} inputs\"):\n",
    "        if file_name.endswith(\".png\"):\n",
    "            input_file = os.path.join(input_dir, file_name)\n",
    "            output_file = os.path.join(output_dir, file_name)\n",
    "\n",
    "            # Run the Real-ESRGAN script\n",
    "            python_path = r\"E:\\Devs\\pyEnv-1\\Real-ESRGAN_Experimental\\Real-ESRGAN_env\\Scripts\\python.exe\"\n",
    "            command = [\n",
    "                python_path, \"inference_realesrgan.py\",\n",
    "                \"-n\", model_name,\n",
    "                \"-i\", input_file,\n",
    "                \"-o\", output_dir,\n",
    "                \"--outscale\", \"4\",\n",
    "                \"--suffix\", \"\"\n",
    "            ]\n",
    "\n",
    "            try:\n",
    "                # Capture output and error\n",
    "                result = subprocess.run(command, check=True, text=True, capture_output=True)\n",
    "                print(f\"Success for {file_name}:\\n{result.stdout}\")\n",
    "            except subprocess.CalledProcessError as e:\n",
    "                print(f\"Error for {file_name}:\\n{e.stderr}\")\n",
    "                raise e\n",
    "\n"
   ]
  },
  {
   "cell_type": "markdown",
   "id": "35525ac6-7eb7-482d-b534-5975a7f3228d",
   "metadata": {},
   "source": [
    "### Apply the transformation for the mask files using Nearest Neighbor with Morphological Smoothing"
   ]
  },
  {
   "cell_type": "markdown",
   "id": "2db77e8f-7df4-4a07-87a0-4ceb745a7519",
   "metadata": {},
   "source": [
    "Why Use Morphological Smoothing?\n",
    "\n",
    "When we upscale a binary mask (using nearest neighbor), the edges become jagged or \"blocky.\" This happens because Nearest Neighbor interpolation simply replicates pixel values, leading to stair-step patterns along diagonal lines. Morphological smoothing:\n",
    "\n",
    "- Removes these sharp edges.\n",
    "- Ensures the lines and shapes in your mask are more natural and consistent.\n",
    "- Fills in small gaps while maintaining the binary (0 and 1) nature of your mask."
   ]
  },
  {
   "cell_type": "code",
   "execution_count": 43,
   "id": "de9a07a1-5440-46e5-9da0-91f0d25fcc6c",
   "metadata": {},
   "outputs": [
    {
     "name": "stderr",
     "output_type": "stream",
     "text": [
      "Processing train labels: 100%|██████████████████████████████████████████████████████| 402/402 [00:02<00:00, 154.67it/s]\n",
      "Processing val labels: 100%|██████████████████████████████████████████████████████████| 70/70 [00:00<00:00, 138.16it/s]\n",
      "Processing test labels: 100%|█████████████████████████████████████████████████████████| 72/72 [00:00<00:00, 167.11it/s]\n"
     ]
    }
   ],
   "source": [
    "\n",
    "# Function to apply nearest neighbor resizing with morphological smoothing\n",
    "def resize_mask_with_smoothing(mask_path, reference_path, output_path):\n",
    "    \"\"\"\n",
    "    Resize mask to match the resolution of the reference image using nearest neighbor interpolation\n",
    "    and apply morphological smoothing.\n",
    "    \"\"\"\n",
    "    # Open the mask\n",
    "    with rasterio.open(mask_path) as src:\n",
    "        mask = src.read(1)  # Read the first (and only) band\n",
    "\n",
    "    # Open the reference image\n",
    "    with Image.open(reference_path) as ref_img:\n",
    "        target_size = ref_img.size  # (width, height)\n",
    "\n",
    "    # Resize the mask\n",
    "    mask_resized = Image.fromarray(mask).resize(target_size, resample=Image.NEAREST)\n",
    "\n",
    "    # Convert the resized mask to a NumPy array\n",
    "    mask_resized_np = np.array(mask_resized)\n",
    "\n",
    "    # Apply morphological smoothing (closing: dilation followed by erosion)\n",
    "    kernel = np.ones((3, 3), np.uint8)  # Define the kernel size\n",
    "    smoothed_mask = cv2.morphologyEx(mask_resized_np, cv2.MORPH_CLOSE, kernel)\n",
    "\n",
    "    # Convert back to binary (ensure only 0 and 1 values)\n",
    "    smoothed_mask_binary = (smoothed_mask > 127).astype(np.uint8) * 255  # Scale to 0 and 255\n",
    "\n",
    "    # Save the resized and smoothed mask\n",
    "    smoothed_image = Image.fromarray(smoothed_mask_binary)\n",
    "    smoothed_image.save(output_path, format=\"PNG\")\n",
    "\n",
    "# Process labels for train, val, and test\n",
    "for phase in [\"train\", \"val\", \"test\"]:\n",
    "    labels_dir = os.path.join(data_root, phase, \"labels\")\n",
    "    output_labels_dir = os.path.join(results_root, phase, \"labels\")\n",
    "    input_dir = os.path.join(results_root, phase, \"input\")\n",
    "    os.makedirs(output_labels_dir, exist_ok=True)\n",
    "\n",
    "    for file_name in tqdm(os.listdir(labels_dir), desc=f\"Processing {phase} labels\"):\n",
    "        if file_name.endswith(\"_b.png\"):\n",
    "            mask_path = os.path.join(labels_dir, file_name)\n",
    "            file_name_replace = re.sub(r'^.*?\\(', 'img(', file_name)\n",
    "            reference_path = os.path.join(input_dir, file_name_replace.replace(\"_b\", \"_r\"))  # Match with the red band\n",
    "            output_path = os.path.join(output_labels_dir, file_name)\n",
    "\n",
    "            resize_mask_with_smoothing(mask_path, reference_path, output_path)\n",
    "\n",
    "\n",
    "\n",
    "\n",
    "# # Function to apply nearest neighbor resizing\n",
    "# def resize_mask(mask_path, reference_path, output_path):\n",
    "#     \"\"\"\n",
    "#     Resize mask to match the resolution of the reference image using nearest neighbor interpolation.\n",
    "#     \"\"\"\n",
    "#     # Open the mask\n",
    "#     with rasterio.open(mask_path) as src:\n",
    "#         mask = src.read(1)  # Read the first (and only) band\n",
    "\n",
    "#     # Open the reference image\n",
    "#     with Image.open(reference_path) as ref_img:\n",
    "#         target_size = ref_img.size  # (width, height)\n",
    "\n",
    "#     # Resize the mask\n",
    "#     mask_resized = Image.fromarray(mask).resize(target_size, resample=Image.NEAREST)\n",
    "\n",
    "#     # Save the resized mask\n",
    "#     mask_resized.save(output_path, format=\"PNG\")\n",
    "\n",
    "# # Process labels for train, val, and test\n",
    "# for phase in [\"train\", \"val\", \"test\"]:\n",
    "#     labels_dir = os.path.join(data_root, phase, \"labels\")\n",
    "#     output_labels_dir = os.path.join(results_root, phase, \"labels\")\n",
    "#     input_dir = os.path.join(results_root, phase, \"input\")\n",
    "#     os.makedirs(output_labels_dir, exist_ok=True)\n",
    "\n",
    "#     for file_name in tqdm(os.listdir(labels_dir), desc=f\"Processing {phase} labels\"):\n",
    "#         if file_name.endswith(\"_b.png\"):\n",
    "#             mask_path = os.path.join(labels_dir, file_name)\n",
    "#             file_name_replace = re.sub(r'^.*?\\(', 'img(', file_name)\n",
    "#             reference_path = os.path.join(input_dir, file_name_replace.replace(\"_b\", \"_r\"))  # Match with the red band\n",
    "#             output_path = os.path.join(output_labels_dir, file_name)\n",
    "\n",
    "#             resize_mask(mask_path, reference_path, output_path)\n"
   ]
  },
  {
   "cell_type": "markdown",
   "id": "a780f1ca-1a4e-41c5-a52e-7391efdcb161",
   "metadata": {},
   "source": [
    "## Step 3 - Pack the new GeoTIFF files"
   ]
  },
  {
   "cell_type": "code",
   "execution_count": 45,
   "id": "7f765d77-00e4-43b8-9f1b-8b7cc16fd3f5",
   "metadata": {},
   "outputs": [
    {
     "name": "stdout",
     "output_type": "stream",
     "text": [
      "Packing GeoTIFFs for train/input...\n"
     ]
    },
    {
     "name": "stderr",
     "output_type": "stream",
     "text": [
      "100%|██████████████████████████████████████████████████████████████████████████████| 1006/1006 [00:11<00:00, 89.40it/s]\n"
     ]
    },
    {
     "name": "stdout",
     "output_type": "stream",
     "text": [
      "Packing GeoTIFFs for train/labels...\n"
     ]
    },
    {
     "name": "stderr",
     "output_type": "stream",
     "text": [
      "100%|████████████████████████████████████████████████████████████████████████████████| 402/402 [00:05<00:00, 69.15it/s]\n"
     ]
    },
    {
     "name": "stdout",
     "output_type": "stream",
     "text": [
      "Packing GeoTIFFs for val/input...\n"
     ]
    },
    {
     "name": "stderr",
     "output_type": "stream",
     "text": [
      "100%|████████████████████████████████████████████████████████████████████████████████| 175/175 [00:02<00:00, 76.36it/s]\n"
     ]
    },
    {
     "name": "stdout",
     "output_type": "stream",
     "text": [
      "Packing GeoTIFFs for val/labels...\n"
     ]
    },
    {
     "name": "stderr",
     "output_type": "stream",
     "text": [
      "100%|██████████████████████████████████████████████████████████████████████████████████| 70/70 [00:00<00:00, 91.27it/s]\n"
     ]
    },
    {
     "name": "stdout",
     "output_type": "stream",
     "text": [
      "Packing GeoTIFFs for test/input...\n"
     ]
    },
    {
     "name": "stderr",
     "output_type": "stream",
     "text": [
      "100%|████████████████████████████████████████████████████████████████████████████████| 180/180 [00:01<00:00, 93.61it/s]\n"
     ]
    },
    {
     "name": "stdout",
     "output_type": "stream",
     "text": [
      "Packing GeoTIFFs for test/labels...\n"
     ]
    },
    {
     "name": "stderr",
     "output_type": "stream",
     "text": [
      "100%|██████████████████████████████████████████████████████████████████████████████████| 72/72 [00:00<00:00, 91.27it/s]"
     ]
    },
    {
     "name": "stdout",
     "output_type": "stream",
     "text": [
      "GeoTIFF packing completed!\n"
     ]
    },
    {
     "name": "stderr",
     "output_type": "stream",
     "text": [
      "\n"
     ]
    }
   ],
   "source": [
    "\n",
    "data_root = \"../data/\"\n",
    "results_root = \"../results_x4/\"\n",
    "\n",
    "from rasterio.transform import Affine\n",
    "\n",
    "def pack_geotiff(input_metadata, output_path, bands_data, scale_factor, is_mask=False):\n",
    "    \"\"\"\n",
    "    Packs the bands_data into a new GeoTIFF file using the original metadata.\n",
    "    \n",
    "    Args:\n",
    "        input_metadata: Metadata from the original GeoTIFF file.\n",
    "        output_path: Path to the new GeoTIFF file.\n",
    "        bands_data: List of numpy arrays representing the bands.\n",
    "        scale_factor: Upscaling factor applied to the bands.\n",
    "        is_mask: Boolean indicating if the data corresponds to a mask (for binary transformation).\n",
    "    \"\"\"\n",
    "    # Adjust the transform to maintain the same geographic area\n",
    "    original_transform = input_metadata[\"transform\"]\n",
    "    new_transform = Affine(\n",
    "        original_transform.a / scale_factor,\n",
    "        original_transform.b,\n",
    "        original_transform.c,\n",
    "        original_transform.d,\n",
    "        original_transform.e / scale_factor,\n",
    "        original_transform.f\n",
    "    )\n",
    "    input_metadata.update({\n",
    "        \"height\": bands_data[0].shape[0],\n",
    "        \"width\": bands_data[0].shape[1],\n",
    "        \"transform\": new_transform\n",
    "    })\n",
    "\n",
    "    # Apply transformation for masks (convert 255 values to 1)\n",
    "    if is_mask:\n",
    "        bands_data = [np.where(band == 255, 1, band).astype(np.float32) for band in bands_data]\n",
    "\n",
    "    with rasterio.open(\n",
    "        output_path, \"w\", \n",
    "        driver=\"GTiff\",\n",
    "        height=bands_data[0].shape[0],\n",
    "        width=bands_data[0].shape[1],\n",
    "        count=len(bands_data),  # Number of bands\n",
    "        dtype=bands_data[0].dtype,\n",
    "        crs=input_metadata[\"crs\"],\n",
    "        transform=new_transform\n",
    "    ) as dst:\n",
    "        for idx, band in enumerate(bands_data, start=1):\n",
    "            dst.write(band, idx)\n",
    "\n",
    "# Process the datasets\n",
    "scale_factor = 4  # The upscaling factor\n",
    "for subset in [\"train\", \"val\", \"test\"]:\n",
    "    for subfolder in [\"input\", \"labels\"]:\n",
    "        print(f\"Packing GeoTIFFs for {subset}/{subfolder}...\")\n",
    "\n",
    "        # Input folder paths\n",
    "        data_folder = os.path.join(data_root, subset, subfolder)\n",
    "        results_folder = os.path.join(results_root, subset, subfolder)\n",
    "\n",
    "        # Process each GeoTIFF file in the data folder\n",
    "        for file_name in tqdm(os.listdir(data_folder)):\n",
    "            if not file_name.endswith(\".tif\"):\n",
    "                continue\n",
    "\n",
    "            # Paths\n",
    "            original_tiff_path = os.path.join(data_folder, file_name)\n",
    "            output_tiff_path = os.path.join(results_folder, file_name)\n",
    "\n",
    "            # Read the original metadata\n",
    "            with rasterio.open(original_tiff_path) as src:\n",
    "                metadata = src.meta.copy()\n",
    "\n",
    "            # Collect band data\n",
    "            if subfolder == \"input\":\n",
    "                # 4 bands: R, G, B, NIR\n",
    "                bands = [\n",
    "                    np.array(Image.open(os.path.join(results_folder, f\"{file_name[:-4]}_r.png\"))),\n",
    "                    np.array(Image.open(os.path.join(results_folder, f\"{file_name[:-4]}_g.png\"))),\n",
    "                    np.array(Image.open(os.path.join(results_folder, f\"{file_name[:-4]}_b.png\"))),\n",
    "                    np.array(Image.open(os.path.join(results_folder, f\"{file_name[:-4]}_n.png\"))),\n",
    "                ]\n",
    "                is_mask = False  # Input images do not need binary transformation\n",
    "            elif subfolder == \"labels\":\n",
    "                # 1 band: binary mask\n",
    "                bands = [\n",
    "                    np.array(Image.open(os.path.join(results_folder, f\"{file_name[:-4]}_b.png\"))),\n",
    "                ]\n",
    "                is_mask = True  # Apply binary transformation for masks\n",
    "\n",
    "            # Pack the new GeoTIFF\n",
    "            pack_geotiff(metadata, output_tiff_path, bands, scale_factor, is_mask)\n",
    "\n",
    "print(\"GeoTIFF packing completed!\")\n"
   ]
  },
  {
   "cell_type": "code",
   "execution_count": null,
   "id": "6360b2dc-2e6c-435f-86be-05a299ef2abe",
   "metadata": {},
   "outputs": [],
   "source": []
  }
 ],
 "metadata": {
  "kernelspec": {
   "display_name": "Real-ESRGAN_Env",
   "language": "python",
   "name": "real-esrgan_env"
  },
  "language_info": {
   "codemirror_mode": {
    "name": "ipython",
    "version": 3
   },
   "file_extension": ".py",
   "mimetype": "text/x-python",
   "name": "python",
   "nbconvert_exporter": "python",
   "pygments_lexer": "ipython3",
   "version": "3.12.7"
  }
 },
 "nbformat": 4,
 "nbformat_minor": 5
}
